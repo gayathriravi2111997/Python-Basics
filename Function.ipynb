{
  "cells": [
    {
      "cell_type": "markdown",
      "metadata": {
        "id": "view-in-github",
        "colab_type": "text"
      },
      "source": [
        "<a href=\"https://colab.research.google.com/github/svkarthik86/Python-Basics/blob/main/Function.ipynb\" target=\"_parent\"><img src=\"https://colab.research.google.com/assets/colab-badge.svg\" alt=\"Open In Colab\"/></a>"
      ]
    },
    {
      "cell_type": "markdown",
      "id": "7a4435c6",
      "metadata": {
        "tags": [],
        "id": "7a4435c6"
      },
      "source": [
        "### Python Functions\n",
        "- A function is a self-contained block of one or more statements that performs a special task when called. - - The syntax:\n",
        "- The syntax for the Python function contains a header and body.\n",
        "- The function header begins with the ‘ def’ keyword. The def keyword signifies the beginning of the function’s definition.\n",
        "- The name of the function is followed by the def keyword.\n",
        "- The function header may contain zero or more number of parameters. These parameters are called formal parameters. \n",
        "- If a function contains more than one parameter then all the parameters are separated by commas. \n",
        "- A function’s body is a block of statements. The statements within the function’s body define the actions that the function needs to perform.\n"
      ]
    },
    {
      "cell_type": "code",
      "execution_count": null,
      "id": "6c1aea30-a2af-4e91-9b18-284bbc890b1e",
      "metadata": {
        "id": "6c1aea30-a2af-4e91-9b18-284bbc890b1e"
      },
      "outputs": [],
      "source": [
        "def name_of_function(Parameters):         # Function Header\n",
        "                      statement1\n",
        "                      statement2\n",
        "                      statement3\n",
        "                      ..........\n",
        "                      statementN"
      ]
    },
    {
      "cell_type": "code",
      "execution_count": null,
      "id": "70352aab-9a49-4d5d-858d-41d03ab250c1",
      "metadata": {
        "id": "70352aab-9a49-4d5d-858d-41d03ab250c1"
      },
      "outputs": [],
      "source": [
        "#Write a program to create a function having a name, display. Print the message, “Welcome to\n",
        "#Python Programming” inside the function.\n",
        "def message():\n",
        "    print(\"Welcome to Python Programming \")\n"
      ]
    },
    {
      "cell_type": "code",
      "execution_count": null,
      "id": "b1321a02",
      "metadata": {
        "id": "b1321a02",
        "outputId": "4ae3fc9f-b5df-40e5-fc42-b44044f6982e"
      },
      "outputs": [
        {
          "name": "stdout",
          "output_type": "stream",
          "text": [
            "Welcome to Python Programming \n"
          ]
        }
      ],
      "source": [
        "message() #call function"
      ]
    },
    {
      "cell_type": "markdown",
      "id": "f6cff9ec",
      "metadata": {
        "id": "f6cff9ec"
      },
      "source": [
        "# Function with Parameter\n"
      ]
    },
    {
      "cell_type": "code",
      "execution_count": null,
      "id": "33aef474",
      "metadata": {
        "id": "33aef474"
      },
      "outputs": [],
      "source": [
        "def welcome_msg(name):\n",
        "    print(f\"Hi {name}, welcome to python Programming\")\n",
        "    "
      ]
    },
    {
      "cell_type": "code",
      "execution_count": null,
      "id": "3a57fea4",
      "metadata": {
        "id": "3a57fea4",
        "outputId": "6a20fdf1-d906-4227-b149-a44d0d95d894"
      },
      "outputs": [
        {
          "name": "stdout",
          "output_type": "stream",
          "text": [
            "Hi kiran, welcome to python Programming\n"
          ]
        }
      ],
      "source": [
        "welcome_msg(\"kiran\")"
      ]
    },
    {
      "cell_type": "code",
      "execution_count": null,
      "id": "794a95fd",
      "metadata": {
        "id": "794a95fd"
      },
      "outputs": [],
      "source": [
        ""
      ]
    },
    {
      "cell_type": "code",
      "execution_count": null,
      "id": "8f3e68e6",
      "metadata": {
        "id": "8f3e68e6"
      },
      "outputs": [],
      "source": [
        ""
      ]
    },
    {
      "cell_type": "code",
      "execution_count": null,
      "id": "39bfc7cd",
      "metadata": {
        "id": "39bfc7cd"
      },
      "outputs": [],
      "source": [
        ""
      ]
    },
    {
      "cell_type": "code",
      "execution_count": null,
      "id": "0a4096e5",
      "metadata": {
        "id": "0a4096e5"
      },
      "outputs": [],
      "source": [
        ""
      ]
    },
    {
      "cell_type": "code",
      "execution_count": null,
      "id": "60ff459b-c2ab-4c40-bc45-3786b8621629",
      "metadata": {
        "id": "60ff459b-c2ab-4c40-bc45-3786b8621629",
        "outputId": "d0bc4091-ea12-44e2-fb62-bf2a4a2c963f"
      },
      "outputs": [
        {
          "name": "stdout",
          "output_type": "stream",
          "text": [
            "Sum of integers from 1 to 25 is: 325\n",
            "Sum of integer from 50 to 76 is: 1625\n",
            "Sum of integer from 90 to 100 is: 1045\n"
          ]
        }
      ],
      "source": [
        "#Write a program to add the sum of digits from 1 to 25, 50 to 76 and 90 to 101 using three\n",
        "#different for loops.\n",
        "sum=0\n",
        "for i in range(1,26):\n",
        "        sum=sum+i\n",
        "print(\"Sum of integers from 1 to 25 is:\",sum)\n",
        "sum=0\n",
        "for i in range(50,76):\n",
        "            sum=sum+i\n",
        "print(\"Sum of integer from 50 to 76 is:\",sum)\n",
        "sum=0\n",
        "for i in range(90,101):\n",
        "            sum=sum+i\n",
        "print(\"Sum of integer from 90 to 100 is:\",sum)"
      ]
    },
    {
      "cell_type": "code",
      "execution_count": null,
      "id": "3a7f813c-dc73-4fa3-92bc-27568427fc87",
      "metadata": {
        "id": "3a7f813c-dc73-4fa3-92bc-27568427fc87",
        "outputId": "68762e4f-0a28-4bc9-c0ae-84717b3d6477"
      },
      "outputs": [
        {
          "name": "stdout",
          "output_type": "stream",
          "text": [
            "Sum of integers from  1  to  25  is  325\n",
            "Sum of integers from  50  to  75  is  1625\n",
            "Sum of integers from  90  to  100  is  1045\n"
          ]
        }
      ],
      "source": [
        "# Write a program to illustrate the use of functions.\n",
        "def sum(x,y):\n",
        "    '''summing of the given range data x,y'''\n",
        "    s=0;\n",
        "    for i in range(x,y+1):\n",
        "            s=s+i\n",
        "    print(\"Sum of integers from \",x,\" to \",y,\" is \",s)\n",
        "sum(1,25)\n",
        "sum(50,75)\n",
        "sum(90,100)"
      ]
    },
    {
      "cell_type": "code",
      "execution_count": null,
      "id": "95bf406a",
      "metadata": {
        "id": "95bf406a",
        "outputId": "2b135ab5-5f55-432c-98c6-e015b2cfca5e"
      },
      "outputs": [
        {
          "name": "stdout",
          "output_type": "stream",
          "text": [
            "Help on function sum in module __main__:\n",
            "\n",
            "sum(x, y)\n",
            "    summing of the given range data x,y\n",
            "\n"
          ]
        }
      ],
      "source": [
        "help(sum)"
      ]
    },
    {
      "cell_type": "code",
      "execution_count": null,
      "id": "b9f83eb4",
      "metadata": {
        "id": "b9f83eb4",
        "outputId": "556a2424-e61e-42b3-fe82-c29cfc0df85c"
      },
      "outputs": [
        {
          "data": {
            "text/plain": [
              "55"
            ]
          },
          "execution_count": 12,
          "metadata": {},
          "output_type": "execute_result"
        }
      ],
      "source": [
        "1+2+3+4+5+6+7+8+9+10\n"
      ]
    },
    {
      "cell_type": "code",
      "execution_count": null,
      "id": "6ed9b8d6",
      "metadata": {
        "id": "6ed9b8d6",
        "outputId": "bed830fe-81e8-436f-dcfe-0ac975839b40"
      },
      "outputs": [
        {
          "name": "stdout",
          "output_type": "stream",
          "text": [
            "Sum of integers from  10  to  20  is  165\n"
          ]
        }
      ],
      "source": [
        "sum(10,20)"
      ]
    },
    {
      "cell_type": "code",
      "execution_count": null,
      "id": "c6900936",
      "metadata": {
        "id": "c6900936",
        "outputId": "008eda6f-45b4-43d4-b632-e344e2af9184"
      },
      "outputs": [
        {
          "name": "stdout",
          "output_type": "stream",
          "text": [
            "<class 'function'>\n"
          ]
        }
      ],
      "source": [
        "print(type(sum))"
      ]
    },
    {
      "cell_type": "code",
      "execution_count": null,
      "id": "39ba17dd",
      "metadata": {
        "id": "39ba17dd",
        "outputId": "7f0e87e7-c812-48c6-9357-e26e533ac654"
      },
      "outputs": [
        {
          "name": "stdout",
          "output_type": "stream",
          "text": [
            "<function sum at 0x000001BF010F7940>\n"
          ]
        }
      ],
      "source": [
        "print(sum)"
      ]
    },
    {
      "cell_type": "code",
      "execution_count": null,
      "id": "e06c4cb2-180d-42f3-872c-a76e843772db",
      "metadata": {
        "id": "e06c4cb2-180d-42f3-872c-a76e843772db",
        "outputId": "d4793e5a-698a-470a-831c-c6f28b3d09e6"
      },
      "outputs": [
        {
          "name": "stdout",
          "output_type": "stream",
          "text": [
            "summing of the given range data x,y\n"
          ]
        }
      ],
      "source": [
        "print(sum.__doc__)"
      ]
    },
    {
      "cell_type": "code",
      "execution_count": null,
      "id": "9bd176aa-832b-475d-907e-75315eac2995",
      "metadata": {
        "id": "9bd176aa-832b-475d-907e-75315eac2995",
        "outputId": "b26533e5-ba2b-4cc3-d513-7e0e013b724c"
      },
      "outputs": [
        {
          "name": "stdout",
          "output_type": "stream",
          "text": [
            "I am a function\n",
            "It is function with no return\n",
            "I am a function\n",
            "It is function with no return\n",
            "I am a function\n",
            "It is function with no return\n"
          ]
        }
      ],
      "source": [
        "# define a basic function\n",
        "def Say_msg():   # no argument\n",
        "    print(\"I am a function\")\n",
        "    print(\"It is function with no return\")\n",
        "\n",
        "Say_msg()\n",
        "Say_msg()\n",
        "Say_msg()\n",
        " "
      ]
    },
    {
      "cell_type": "code",
      "execution_count": null,
      "id": "59f0cbfc-d69d-4b68-b10b-fe4443d3a937",
      "metadata": {
        "id": "59f0cbfc-d69d-4b68-b10b-fe4443d3a937",
        "outputId": "35f01329-6299-4269-c9af-20a06a015bfe"
      },
      "outputs": [
        {
          "name": "stdout",
          "output_type": "stream",
          "text": [
            "Hi karthikVenkatachalam welcome\n"
          ]
        }
      ],
      "source": [
        "def say_hi(Fname,Lname):\n",
        "    print(\"Hi\"+\" \"+ Fname+Lname +\" \"+\"welcome\")\n",
        "say_hi(\"karthik\",\"Venkatachalam\")"
      ]
    },
    {
      "cell_type": "markdown",
      "id": "26b2f454",
      "metadata": {
        "id": "26b2f454"
      },
      "source": [
        "# function with Parameter and Return "
      ]
    },
    {
      "cell_type": "code",
      "execution_count": null,
      "id": "f04a7ba8-f9f0-405b-9a70-26aa4651e69d",
      "metadata": {
        "id": "f04a7ba8-f9f0-405b-9a70-26aa4651e69d"
      },
      "outputs": [],
      "source": [
        "def add(a,b):\n",
        "    return (a+b)"
      ]
    },
    {
      "cell_type": "code",
      "execution_count": null,
      "id": "196f2f45",
      "metadata": {
        "id": "196f2f45"
      },
      "outputs": [],
      "source": [
        "result=add(3,7)"
      ]
    },
    {
      "cell_type": "code",
      "execution_count": null,
      "id": "7564c8f3",
      "metadata": {
        "id": "7564c8f3",
        "outputId": "29657ac8-6c42-4d28-97e4-76797b96c397"
      },
      "outputs": [
        {
          "data": {
            "text/plain": [
              "10"
            ]
          },
          "execution_count": 31,
          "metadata": {},
          "output_type": "execute_result"
        }
      ],
      "source": [
        "result"
      ]
    },
    {
      "cell_type": "code",
      "execution_count": null,
      "id": "5c0e254d",
      "metadata": {
        "id": "5c0e254d"
      },
      "outputs": [],
      "source": [
        "def add1(a,b):\n",
        "    print(a+b)"
      ]
    },
    {
      "cell_type": "code",
      "execution_count": null,
      "id": "399638aa",
      "metadata": {
        "id": "399638aa",
        "outputId": "bd06ee12-070a-4858-95bb-d3bff4afb2eb"
      },
      "outputs": [
        {
          "name": "stdout",
          "output_type": "stream",
          "text": [
            "9\n"
          ]
        }
      ],
      "source": [
        "result2=add1(4,5)"
      ]
    },
    {
      "cell_type": "code",
      "execution_count": null,
      "id": "3f6a9a19",
      "metadata": {
        "id": "3f6a9a19",
        "outputId": "4782ccc5-e6bc-473f-b5c1-f4961d205a52"
      },
      "outputs": [
        {
          "name": "stdout",
          "output_type": "stream",
          "text": [
            "None\n"
          ]
        }
      ],
      "source": [
        "print(result2)"
      ]
    },
    {
      "cell_type": "code",
      "execution_count": null,
      "id": "6b9a0456-aff9-45e1-a41b-6d72040bc9ed",
      "metadata": {
        "id": "6b9a0456-aff9-45e1-a41b-6d72040bc9ed"
      },
      "outputs": [],
      "source": [
        "def add(a,b):   \n",
        "      return 1\n",
        "      print(a+b)\n",
        "\n"
      ]
    },
    {
      "cell_type": "code",
      "execution_count": null,
      "id": "70368c51",
      "metadata": {
        "scrolled": true,
        "id": "70368c51",
        "outputId": "e016167e-ab68-4fd6-aa5a-2d850784245c"
      },
      "outputs": [
        {
          "name": "stdout",
          "output_type": "stream",
          "text": [
            "1\n"
          ]
        }
      ],
      "source": [
        "print(add(3,4))"
      ]
    },
    {
      "cell_type": "code",
      "execution_count": null,
      "id": "3aad695b",
      "metadata": {
        "id": "3aad695b"
      },
      "outputs": [],
      "source": [
        "def add_def(a,b=1):\n",
        "    return a+b\n"
      ]
    },
    {
      "cell_type": "code",
      "execution_count": null,
      "id": "5304b475",
      "metadata": {
        "id": "5304b475",
        "outputId": "199077ef-9102-49a7-f616-dec492a1327d"
      },
      "outputs": [
        {
          "data": {
            "text/plain": [
              "9"
            ]
          },
          "execution_count": 91,
          "metadata": {},
          "output_type": "execute_result"
        }
      ],
      "source": [
        "add_def(5,4)"
      ]
    },
    {
      "cell_type": "markdown",
      "id": "0f2bd913",
      "metadata": {
        "id": "0f2bd913"
      },
      "source": [
        "# function with default argument"
      ]
    },
    {
      "cell_type": "code",
      "execution_count": null,
      "id": "de17f842-0ea6-4982-94d5-94ef6cf02e89",
      "metadata": {
        "id": "de17f842-0ea6-4982-94d5-94ef6cf02e89"
      },
      "outputs": [],
      "source": [
        "# function with default value for an argument\n",
        "def power(num, x=1): # x is dafault argument \n",
        "    result = 1\n",
        "    for i in range(x):\n",
        "        result = result * num\n",
        "    return result\n"
      ]
    },
    {
      "cell_type": "code",
      "execution_count": null,
      "id": "618a2351",
      "metadata": {
        "id": "618a2351",
        "outputId": "f0e9b6b0-ad59-4e9b-9cf7-6281ed189081"
      },
      "outputs": [
        {
          "data": {
            "text/plain": [
              "4"
            ]
          },
          "execution_count": 95,
          "metadata": {},
          "output_type": "execute_result"
        }
      ],
      "source": [
        "power(4)"
      ]
    },
    {
      "cell_type": "code",
      "execution_count": null,
      "id": "a3df1dfe",
      "metadata": {
        "id": "a3df1dfe",
        "outputId": "db07a63e-dcd0-40ff-dd39-5e1d4e7dbdcf"
      },
      "outputs": [
        {
          "ename": "SyntaxError",
          "evalue": "non-default argument follows default argument (3706058313.py, line 2)",
          "output_type": "error",
          "traceback": [
            "\u001b[1;36m  Input \u001b[1;32mIn [97]\u001b[1;36m\u001b[0m\n\u001b[1;33m    def power(x=1,num): # x is dafault argument\u001b[0m\n\u001b[1;37m                     ^\u001b[0m\n\u001b[1;31mSyntaxError\u001b[0m\u001b[1;31m:\u001b[0m non-default argument follows default argument\n"
          ]
        }
      ],
      "source": [
        "# function with default value for an argument\n",
        "def power(x=1,num): # x is dafault argument \n",
        "    result = 1\n",
        "    for i in range(x):\n",
        "        result = result * num\n",
        "    return result\n"
      ]
    },
    {
      "cell_type": "code",
      "execution_count": null,
      "id": "2d1f971b",
      "metadata": {
        "id": "2d1f971b",
        "outputId": "05e73ccf-aaf0-4dc9-a81f-6a7fcde1d8a9"
      },
      "outputs": [
        {
          "name": "stdout",
          "output_type": "stream",
          "text": [
            "a is 3 and b is 7 and c is 10\n",
            "a is 25 and b is 5 and c is 24\n",
            "a is 100 and b is 5 and c is 50\n"
          ]
        }
      ],
      "source": [
        "def func(a, b=5, c=10):# default argument b,c\n",
        "    print ('a is', a, 'and b is', b, 'and c is', c)\n",
        "\n",
        "func(3, 7) # c value is default\n",
        "func(25, c=24) # c is keyword argument key=value \n",
        "func(c=50, a=100) # c, a is keyword argument"
      ]
    },
    {
      "cell_type": "code",
      "execution_count": null,
      "id": "0b8e40be",
      "metadata": {
        "id": "0b8e40be",
        "outputId": "380efd2e-def2-49fd-e0a0-8fa64d0a0813"
      },
      "outputs": [
        {
          "name": "stdout",
          "output_type": "stream",
          "text": [
            "a is 43 and b is 5 and c is 10\n"
          ]
        }
      ],
      "source": [
        "func(43)"
      ]
    },
    {
      "cell_type": "markdown",
      "id": "cd770b8d",
      "metadata": {
        "id": "cd770b8d"
      },
      "source": [
        "# function with variable number of arguments"
      ]
    },
    {
      "cell_type": "code",
      "execution_count": null,
      "id": "562b3daa",
      "metadata": {
        "id": "562b3daa"
      },
      "outputs": [],
      "source": [
        "def f1(*x):\n",
        "    print(x)\n",
        "    print(type(x))"
      ]
    },
    {
      "cell_type": "code",
      "execution_count": null,
      "id": "f5510047",
      "metadata": {
        "id": "f5510047",
        "outputId": "9ea696b6-7cd6-4681-e72b-01c9520ac201"
      },
      "outputs": [
        {
          "name": "stdout",
          "output_type": "stream",
          "text": [
            "(3, 56, 787, 56)\n",
            "<class 'tuple'>\n"
          ]
        }
      ],
      "source": [
        "f1(3,56,787,56)"
      ]
    },
    {
      "cell_type": "code",
      "execution_count": null,
      "id": "db2805b3",
      "metadata": {
        "id": "db2805b3"
      },
      "outputs": [],
      "source": [
        "# function with variable number of arguments\n",
        "def multi_add(*args):\n",
        "    result = 0\n",
        "    #print(args)\n",
        "    for x in args:\n",
        "        result = result + x\n",
        "    return result"
      ]
    },
    {
      "cell_type": "code",
      "execution_count": null,
      "id": "3d23f9e8",
      "metadata": {
        "id": "3d23f9e8",
        "outputId": "63c648d6-10a8-49a0-a722-22140c84728b"
      },
      "outputs": [
        {
          "name": "stdout",
          "output_type": "stream",
          "text": [
            "20\n"
          ]
        }
      ],
      "source": [
        "print(multi_add(2,4,6,8))"
      ]
    },
    {
      "cell_type": "code",
      "execution_count": null,
      "id": "b3b729e7",
      "metadata": {
        "id": "b3b729e7",
        "outputId": "f9399478-95ac-43b5-9566-2b612eb62f92"
      },
      "outputs": [
        {
          "name": "stdout",
          "output_type": "stream",
          "text": [
            "120\n"
          ]
        }
      ],
      "source": [
        "print(multi_add(10,2,20,8,30,50))"
      ]
    },
    {
      "cell_type": "code",
      "execution_count": null,
      "id": "9797ea6d",
      "metadata": {
        "id": "9797ea6d"
      },
      "outputs": [],
      "source": [
        "def test(a,b,*c):\n",
        "    print(\"first two data add\",a+b)\n",
        "    result=0\n",
        "    for x in c:\n",
        "        result = result + x\n",
        "    print(\"Multiple value add\", result)"
      ]
    },
    {
      "cell_type": "code",
      "execution_count": null,
      "id": "e8124ce9",
      "metadata": {
        "id": "e8124ce9",
        "outputId": "d096fce6-36a6-41a0-d84c-2eaee3e3054d"
      },
      "outputs": [
        {
          "name": "stdout",
          "output_type": "stream",
          "text": [
            "first two data add 10\n",
            "Multiple value add 30\n"
          ]
        }
      ],
      "source": [
        "test(5,5,6,7,8,9)"
      ]
    },
    {
      "cell_type": "code",
      "execution_count": null,
      "id": "915e330b",
      "metadata": {
        "id": "915e330b"
      },
      "outputs": [],
      "source": [
        ""
      ]
    },
    {
      "cell_type": "markdown",
      "id": "ecc0624f",
      "metadata": {
        "id": "ecc0624f"
      },
      "source": [
        "# Arbitrary Keyword Arguments"
      ]
    },
    {
      "cell_type": "code",
      "execution_count": null,
      "id": "5b796419",
      "metadata": {
        "id": "5b796419"
      },
      "outputs": [],
      "source": [
        "def f1(**x):\n",
        "    print(x)\n",
        "    print(type(x))\n",
        "    "
      ]
    },
    {
      "cell_type": "code",
      "execution_count": null,
      "id": "c4a987d7",
      "metadata": {
        "id": "c4a987d7",
        "outputId": "679f72bc-68c0-4ea5-8080-b5f645c6974c"
      },
      "outputs": [
        {
          "name": "stdout",
          "output_type": "stream",
          "text": [
            "{'a': 1, 'b': 2, 'c': 3, 'd': 4}\n",
            "<class 'dict'>\n"
          ]
        }
      ],
      "source": [
        "f1(a=1,b=2,c=3,d=4)"
      ]
    },
    {
      "cell_type": "code",
      "execution_count": null,
      "id": "d81fc81d-9cb2-4ea2-bbeb-eefa23b3818e",
      "metadata": {
        "id": "d81fc81d-9cb2-4ea2-bbeb-eefa23b3818e",
        "outputId": "b5c2d426-68d8-4aed-fc9a-23359389991e"
      },
      "outputs": [
        {
          "name": "stdout",
          "output_type": "stream",
          "text": [
            "name ram\n",
            "age 25\n",
            "city bangalore\n",
            "phone 123343\n"
          ]
        }
      ],
      "source": [
        "def fun1(**kwarg): # Arbitrary Keyword Arguments\n",
        "   # print(kwarg)\n",
        "    for i in kwarg:\n",
        "        print(i,kwarg[i])\n",
        "fun1(name=\"ram\",age=25,city=\"bangalore\",phone=123343)"
      ]
    },
    {
      "cell_type": "code",
      "execution_count": null,
      "id": "c48ec056-7060-44b7-8439-933a862c616d",
      "metadata": {
        "id": "c48ec056-7060-44b7-8439-933a862c616d"
      },
      "outputs": [],
      "source": [
        ""
      ]
    },
    {
      "cell_type": "code",
      "execution_count": null,
      "id": "b94937ae-ef8b-4be1-848d-ed6939a17a0e",
      "metadata": {
        "id": "b94937ae-ef8b-4be1-848d-ed6939a17a0e",
        "outputId": "13e1e727-fd49-4985-dd0b-6f98a7d7fd94"
      },
      "outputs": [
        {
          "name": "stdout",
          "output_type": "stream",
          "text": [
            "{'__name__': '__main__', '__doc__': 'Automatically created module for IPython interactive environment', '__package__': None, '__loader__': None, '__spec__': None, '__builtin__': <module 'builtins' (built-in)>, '__builtins__': <module 'builtins' (built-in)>, '_ih': ['', 'def find_fact(n):\\n    if n==1:\\n        print(\"this is one\",n)\\n        return 1\\n    a=n*find_fact(n-1)\\n    print(\"this is result:\",a)\\n    return a', 'def find_fact(n):\\n    if n==1:\\n        print(\"this is one\",n)\\n        return 1\\n    else:\\n        a=n*find_fact(n-1)\\n        print(\"this is result:\",a)\\n        return a', 'print(find_fact(1))', 'print(find_fact(5))', 'def fact(n):\\n    if n==1:\\n        return 1\\n    return n*fact(n-1)', 'fact(10)', 'r=fact(10)', 'r=fact(10)\\nr', 'pow(5,2)', 'c=pow(5,2)', 'c', 'def fibo(n):\\n    if n <= 1:\\n        return n\\n    else:\\n        return(fibo(n-1) + fibo(n-2))', 'fibo(6)', 'nterms =int(input(\"Enter the No of Terms\"))\\n# check if the number of terms is valid\\nif nterms <= 0:\\n   print(\"Plese enter a positive integer\")\\nelse:\\n   print(\"Fibonacci sequence:\")\\n   for i in range(nterms):\\n       print(fibo(i))', 'nterms =int(input(\"Enter the No of Terms\"))\\n# check if the number of terms is valid\\nif nterms <= 0:\\n   print(\"Plese enter a positive integer\")\\nelse:\\n   print(\"Fibonacci sequence:\")\\n   for i in range(nterms):\\n       print(fibo(i))', 'print(welcome_msg(\"kiran\"))', 'def welcome_msg(name):\\n    print(f\"Hi {name}, welcome to python Programming\")\\n    ', 'print(welcome_msg(\"kiran\"))', 'def welcome_msg(name):\\n    print(f\"Hi {name}, welcome to python Programming\")\\n    return 0', 'print(welcome_msg(\"kiran\"))', 'def welcome_msg(name):\\n    print(f\"Hi {name}, welcome to python Programming\")\\n    return', 'print(welcome_msg(\"kiran\"))', 'print(welcome_msg(\"kiran\"))', 'welcome_msg(\"kiran\")', '# Write a program to illustrate the use of functions.\\ndef sum(x,y):\\n    \\'\\'\\'summing of the given range data x,y\\'\\'\\'\\n    s=0;\\n    for i in range(x,y+1):\\n            s=s+i\\n    print(\"Sum of integers from \",x,\" to \",y,\" is \",s)\\nsum(1,25)\\nsum(50,75)\\nsum(90,100)', 'help(sum())', 'help(sum)', 'result=add(3,7)', 'def add(a,b):\\n    return (a+b)', 'result=add(3,7)', 'result', '# function with default value for an argument\\ndef power(num, x=1): # x is dafault argument \\n    result = 1\\n    for i in range(x):\\n        result = result * num\\n    return result', 'power(4,2)', 'power(4)', 'power(4,5)', '# function with default value for an argument\\ndef power(x=1,num): # x is dafault argument \\n    result = 1\\n    for i in range(x):\\n        result = result * num\\n    return result', 'def multiply(x, y):\\n    return x * y\\n\\na = 4\\nb = 7\\noperation = multiply\\nprint(operation(a, b))', 'operation(3,4)', 'multiply', 'op1=multiply', 'id(multiply)', 'id(multiply,op1)', 'print(id(multiply),id(op1),id(operation))', 'op1(5,6)', 'x=op1', 'print(id(multiply),id(op1),id(operation),id(x))', 'x(5,7)', 'def add(x, y):\\n    return x + y\\n\\ndef do_twice(func, x, y):\\n    return func(func(x, y), func(x, y))\\n\\na = 5\\nb = 10\\n\\nprint(do_twice(add, a, b))', 'def add(x, y):\\n    return x + y\\n\\ndef do_twice(func, x, y):\\n    return func(func(x, y), func(x, y))\\n\\na = 20\\nb = 10\\n\\nprint(do_twice(add, a, b))', 'print(multiply)', 'def add(x, y):\\n    return x + y\\n\\ndef do_twice(z, x, y):\\n    return z(z(x, y), z(x, y))\\n\\na = 20\\nb = 10\\n\\nprint(do_twice(add, a, b))', 'def add(x, y):\\n    return x + y\\n\\ndef do_twice(z, x, y):\\n    return z(z(x, y), z(x, y))\\n\\na = 20\\nb = 1556\\n\\nprint(do_twice(add, a, b))', 'def add(x, y):\\n    return x + y\\n\\ndef do_twice(func, x, y):\\n    return func(func(x, y), func(x, y))\\n\\na = 20\\nb = 1556\\n\\nprint(do_twice(add1, a, b))', 'def add(x, y):\\n    return x + y\\n\\ndef do_twice(func, x, y):\\n    return func(func(x, y), func(x, y))\\n\\na = 20\\nb = 1556\\n\\nprint(do_twice(add, a, b))', 'def add(x, y):\\n    return x + y\\n\\ndef do_twice(func, x, y):\\n    return func(func(x, y), func(x, y))\\n\\na = 20\\nb = 10\\n\\nprint(do_twice(add, a, b))', '# Scope and Lifetime of variables\\ndef my_func():\\n    global z\\n    z= 10\\n    #print(\"Value inside function:\",x)\\n\\n#x = 20\\nmy_func()\\nprint(\"Value outside function:\",z)', '# Scope and Lifetime of variables\\ndef my_func():\\n    #global z\\n    z= 10\\n    #print(\"Value inside function:\",x)\\n\\n#x = 20\\nmy_func()\\nprint(\"Value outside function:\",z)', '# Scope and Lifetime of variables\\ndef my_func():\\n    #global z\\n    abc= 10\\n    #print(\"Value inside function:\",x)\\n\\n#x = 20\\nmy_func()\\nprint(\"Value outside function:\",abc)', '# Scope and Lifetime of variables\\ndef my_func():\\n    global abc\\n    abc= 10\\n    #print(\"Value inside function:\",x)\\n\\n#x = 20\\nmy_func()\\nprint(\"Value outside function:\",abc)', '# Scope and Lifetime of variables\\ndef my_func():\\n   # global x\\n    x= 10\\n    print(\"Value inside function:\",x)\\n\\n#x = 20\\nmy_func()\\nprint(\"Value outside function:\",abc)', '# Scope and Lifetime of variables\\ndef my_func():\\n   # global x\\n    x= 10\\n    print(\"Value inside function:\",x)\\n\\n#x = 20\\nmy_func()\\nprint(\"Value outside function:\",x)', 'del x', '# Scope and Lifetime of variables\\ndef my_func():\\n   # global x\\n    x= 10\\n    print(\"Value inside function:\",x)\\n\\n#x = 20\\nmy_func()\\nprint(\"Value outside function:\",x)', '# Scope and Lifetime of variables\\ndef my_func():\\n    global x\\n    x= 10\\n    print(\"Value inside function:\",x)\\n\\n#x = 20\\nmy_func()\\nprint(\"Value outside function:\",x)', '#   lambda arguments : expression\\nc=lambda x:x*x*x\\nprint(c)', '#   lambda arguments : expression\\nc=lambda x:x*x*x\\nprint(c(3))', 'c(4)', 'print((lambda x,y,z:x*y*z)(10,20,30))', 'print((lambda x,y,z:x*y*z)(10,20,2))', 'fact = lambda x: 1 if x == 0 else x * fact(x-1)\\nfact(4)', 'fact = lambda x: 1 if x == 0 else x * fact(x-1)\\nfact(5)', 'def my_func(f, arg):\\n    return f(arg)\\n\\n\\n\\nmy_func(lambda x: 2*x*x, 5)', 'def add(a,b):   \\n    print(a+b)  \\n    return a*b ', 'add(3,4)', 'add(3,4)', 'add(3,4)', 'add(3,4)', 'add(3,4)', 'def add(a,b):   \\n    print(a+b)  \\n    #return a*b ', 'add(3,4)', 'print(add(3,4))', 'def add(a,b):   \\n    print(a+b)  \\n    return ', 'print(add(3,4))', 'def add(a,b):   \\n    print(a+b)  \\n    return 1', 'print(add(3,4))', 'def add(a,b):   \\n      return 1\\n      print(a+b)', 'print(add(3,4))', 'add(5)', 'def add_def(a,b=1):\\n    return a+b', 'add_def(5)', 'add_def(5,4)', '# function with default value for an argument\\ndef power(num, x=1): # x is dafault argument \\n    result = 1\\n    for i in range(x):\\n        result = result * num\\n    return result', 'power(4,5)', 'power(4,2)', 'power(4)', '# function with default value for an argument\\ndef power(x=1,num): # x is dafault argument \\n    result = 1\\n    for i in range(x):\\n        result = result * num\\n    return result', '# function with default value for an argument\\ndef power(x=1,num): # x is dafault argument \\n    result = 1\\n    for i in range(x):\\n        result = result * num\\n    return result', \"def func(a, b=5, c=10):# default argument b,c\\n    print ('a is', a, 'and b is', b, 'and c is', c)\\n\\nfunc(3, 7) # c value is default\\nfunc(25, c=24) # c is keyword argument key=value \\nfunc(c=50, a=100) # c, a is keyword argument\", 'func(18)', 'func(18,56)', 'func(18,56,67)', \"def func(a, b=5, c=10):# default argument b,c\\n    print ('a is', a, 'and b is', b, 'and c is', c)\\n\\nfunc(3, 7) # c value is default\\nfunc(25, c=24) # c is keyword argument key=value \\nfunc(c=50, a=100) # c, a is keyword argument\", \"def func(a, b=5, c=10):# default argument b,c\\n    print ('a is', a, 'and b is', b, 'and c is', c)\\n\\nfunc(3, 7) # c value is default\\nfunc(25, c=24) # c is keyword argument key=value \\nfunc(c=50, a=100) # c, a is keyword argument\", 'func(43)', 'def f1(*a):\\n    print(a)\\n    ', 'f1(2,3,45,6)', 'def f1(**a):\\n    print(a)\\n    ', 'f1(a=1,b=2,c=3)', 'def f1(**x):\\n    print(x)\\n    ', 'f1(a=1,b=2,c=3)', 'def f1(*x):\\n    print(x)', 'f1(3,56,787,56)', '# function with variable number of arguments\\ndef multi_add(*args):\\n    result = 0\\n    #print(args)\\n    for x in args:\\n        result = result + x\\n    return result', 'print(multi_add(2,4,6,8))', 'print(multi_add(10,2,20,8,30,50))', 'def test(a,b,*c):\\n    print(\"first two data add\",a+b)\\n    result=0\\n    for x in c:\\n        result = result + x\\n    print(\"Multiple value add\", result)', 'test(5,5,6,7,8,9)', 'def cube(n):\\n    return (n*n*n)\\ndef sqr(n):\\n    return n*n\\n\\nprint(cube(2))\\nprint(sqr(4))\\n    ', 'def f1(**x):\\n    print(x)\\n    ', 'f1(a=1,b=2,c=3)', 'f1(a=1,b=2,c=3,d=4)', 'def fun1(**kwarg): # Arbitrary Keyword Arguments\\n    print(kwarg)\\n    for i in kwarg:\\n        print(i,kwarg[i])\\nfun1(name=\"ram\",age=25,city=\"bangalore\",phone=123343)', 'def fun1(**kwarg): # Arbitrary Keyword Arguments\\n   # print(kwarg)\\n    for i in kwarg:\\n        print(i,kwarg[i])\\nfun1(name=\"ram\",age=25,city=\"bangalore\",phone=123343)', 'def fact(n):\\n    if n==1:\\n        return 1\\n    return n*fact(n-1)', 'fact(5)', 'def find_fact(n):\\n    if n==1:\\n        print(\"this is one\",n)\\n        return 1\\n    else:\\n  \\n        print(\"this is result:\",a)\\n        return a', 'find_fact(5)', 'def find_fact(n):\\n    if n==1:\\n        print(\"this is one\",n)\\n        return 1\\n    else:\\n        a=n*find_fact(n-1)\\n        print(\"this is result:\",a)\\n        return a', 'find_fact(5)', 'fact(1)', 'def fact(n):\\n    if n==0:\\n        return 1\\n    return n*fact(n-1)', 'fact(1)', 'fact(0)', 'fact(2)', 'fact(4)', 'fact(5)', 'def fact(n):\\n    if n==1:\\n        return 1\\n    return n*fact(n-1)', 'def fibo(n):\\n    if n <= 1:\\n        return n\\n    else:\\n        return(fibo(n-1) + fibo(n-2))', 'fibo(6)', 'fibo(4)', 'nterms =int(input(\"Enter the No of Terms\"))\\n# check if the number of terms is valid\\nif nterms <= 0:\\n   print(\"Plese enter a positive integer\")\\nelse:\\n   print(\"Fibonacci sequence:\")\\n   for i in range(nterms):\\n       print(fibo(i))', 'nterms =int(input(\"Enter the No of Terms\"))\\n# check if the number of terms is valid\\nif nterms <= 0:\\n   print(\"Plese enter a positive integer\")\\nelse:\\n   print(\"Fibonacci sequence:\")\\n   for i in range(nterms):\\n       print(fibo(i))', 'def multiply(x, y):\\n    return x * y\\n\\na = 4\\nb = 7\\noperation = multiply\\nprint(operation(a, b))', 'multiply', 'print(multiply)', 'f1(3,56,787,56)', 'def f1(*x):\\n    print(x)', 'f1(3,56,787,56)', 'def f1(*x):\\n    print(x)\\n    print(type(x))', 'f1(3,56,787,56)', 'def f1(**x):\\n    print(x)\\n    print(type(x))\\n    ', 'f1(a=1,b=2,c=3,d=4)', 'def multiply(x, y):\\n    return x * y\\n\\na = 4\\nb = 7\\noperation = multiply\\nprint(operation(a, b))', 'def multiply(x, y):\\n    return x * y\\n\\na = 4\\nb = 7\\noperation = multiply\\nz=multiply\\nprint(operation(a, b))', 'z(2,4)', 'print(id(operation),id(multiply),id(z))', 'operation(3,4)', 'def add(x, y):\\n    return x + y\\n\\ndef do_twice(func, x, y):\\n    return func(func(x, y), func(x, y))\\n\\na = 20\\nb = 10\\n\\nprint(do_twice(add, a, b))', 'def add(x, y):\\n    return x + y\\n\\ndef do_twice(func, x, y):\\n    return func(func(x, y), func(x, y))\\n\\na = 20\\nb = 40\\n\\nprint(do_twice(add, a, b))', 'del x', '# Scope and Lifetime of variables\\ndef my_func():\\n    #global x\\n    x= 10\\n    print(\"Value inside function:\",x)\\n\\n#x = 20\\nmy_func()\\nprint(\"Value outside function:\",x)', '# Scope and Lifetime of variables\\ndef my_func():\\n    #global x\\n    x= 10\\n    print(\"Value inside function:\",x)\\n\\nx = 20\\nmy_func()\\nprint(\"Value outside function:\",x)', '# Scope and Lifetime of variables\\ndef my_func():\\n    global x\\n    x= 10\\n    print(\"Value inside function:\",x)\\n\\nx = 20\\nmy_func()\\nprint(\"Value outside function:\",x)', '# Scope and Lifetime of variables\\ndef my_func():\\n    global x\\n    x= 10\\n    print(\"Value inside function:\",x)\\n\\nx = 20\\nmy_func()\\nprint(\"Value outside function:\",x)', '# Scope and Lifetime of variables\\ndef my_func():\\n    global x\\n    x= 10\\n    print(\"Value inside function:\",x)\\n\\n# x = 20\\nmy_func()\\nprint(\"Value outside function:\",x)', 'del x', '# Scope and Lifetime of variables\\ndef my_func():\\n   # global x\\n    x= 10\\n    print(\"Value inside function:\",x)\\n\\n# x = 20\\nmy_func()\\nprint(\"Value outside function:\",x)', '# Scope and Lifetime of variables\\ndef my_func():\\n    global x\\n    x= 10\\n    print(\"Value inside function:\",x)\\n\\n# x = 20\\nmy_func()\\nprint(\"Value outside function:\",x)', '# Scope and Lifetime of variables\\ndef my_func():\\n    global x\\n    x= 10\\n    print(\"Value inside function:\",x)\\n\\nx = 20\\nmy_func()\\nprint(\"Value outside function:\",x)', '# Scope and Lifetime of variables\\ndef my_func():\\n    global x\\n    x= 10\\n    print(\"Value inside function:\",x)\\n\\nx = 20\\nmy_func()\\nprint(\"Value outside function:\",x)', 'print(globals())', 'print(globals())'], '_oh': {6: 3628800, 8: 3628800, 9: 25, 11: 25, 13: 8, 31: 10, 33: 16, 34: 4, 35: 1024, 38: 12, 39: <function multiply at 0x000002259071E8B0>, 41: 2360360429744, 44: 30, 47: 35, 67: 64, 70: 24, 71: 120, 72: 50, 74: 12, 75: 12, 76: 12, 77: 12, 78: 12, 90: 6, 91: 9, 93: 1024, 94: 16, 95: 4, 125: 120, 127: 20, 129: 120, 130: 1, 132: 1, 133: 1, 134: 2, 135: 24, 136: 120, 139: 8, 140: 3, 144: <function multiply at 0x00000225907C8E50>, 155: 8, 157: 12}, '_dh': [WindowsPath('C:/Users/karthick')], 'In': ['', 'def find_fact(n):\\n    if n==1:\\n        print(\"this is one\",n)\\n        return 1\\n    a=n*find_fact(n-1)\\n    print(\"this is result:\",a)\\n    return a', 'def find_fact(n):\\n    if n==1:\\n        print(\"this is one\",n)\\n        return 1\\n    else:\\n        a=n*find_fact(n-1)\\n        print(\"this is result:\",a)\\n        return a', 'print(find_fact(1))', 'print(find_fact(5))', 'def fact(n):\\n    if n==1:\\n        return 1\\n    return n*fact(n-1)', 'fact(10)', 'r=fact(10)', 'r=fact(10)\\nr', 'pow(5,2)', 'c=pow(5,2)', 'c', 'def fibo(n):\\n    if n <= 1:\\n        return n\\n    else:\\n        return(fibo(n-1) + fibo(n-2))', 'fibo(6)', 'nterms =int(input(\"Enter the No of Terms\"))\\n# check if the number of terms is valid\\nif nterms <= 0:\\n   print(\"Plese enter a positive integer\")\\nelse:\\n   print(\"Fibonacci sequence:\")\\n   for i in range(nterms):\\n       print(fibo(i))', 'nterms =int(input(\"Enter the No of Terms\"))\\n# check if the number of terms is valid\\nif nterms <= 0:\\n   print(\"Plese enter a positive integer\")\\nelse:\\n   print(\"Fibonacci sequence:\")\\n   for i in range(nterms):\\n       print(fibo(i))', 'print(welcome_msg(\"kiran\"))', 'def welcome_msg(name):\\n    print(f\"Hi {name}, welcome to python Programming\")\\n    ', 'print(welcome_msg(\"kiran\"))', 'def welcome_msg(name):\\n    print(f\"Hi {name}, welcome to python Programming\")\\n    return 0', 'print(welcome_msg(\"kiran\"))', 'def welcome_msg(name):\\n    print(f\"Hi {name}, welcome to python Programming\")\\n    return', 'print(welcome_msg(\"kiran\"))', 'print(welcome_msg(\"kiran\"))', 'welcome_msg(\"kiran\")', '# Write a program to illustrate the use of functions.\\ndef sum(x,y):\\n    \\'\\'\\'summing of the given range data x,y\\'\\'\\'\\n    s=0;\\n    for i in range(x,y+1):\\n            s=s+i\\n    print(\"Sum of integers from \",x,\" to \",y,\" is \",s)\\nsum(1,25)\\nsum(50,75)\\nsum(90,100)', 'help(sum())', 'help(sum)', 'result=add(3,7)', 'def add(a,b):\\n    return (a+b)', 'result=add(3,7)', 'result', '# function with default value for an argument\\ndef power(num, x=1): # x is dafault argument \\n    result = 1\\n    for i in range(x):\\n        result = result * num\\n    return result', 'power(4,2)', 'power(4)', 'power(4,5)', '# function with default value for an argument\\ndef power(x=1,num): # x is dafault argument \\n    result = 1\\n    for i in range(x):\\n        result = result * num\\n    return result', 'def multiply(x, y):\\n    return x * y\\n\\na = 4\\nb = 7\\noperation = multiply\\nprint(operation(a, b))', 'operation(3,4)', 'multiply', 'op1=multiply', 'id(multiply)', 'id(multiply,op1)', 'print(id(multiply),id(op1),id(operation))', 'op1(5,6)', 'x=op1', 'print(id(multiply),id(op1),id(operation),id(x))', 'x(5,7)', 'def add(x, y):\\n    return x + y\\n\\ndef do_twice(func, x, y):\\n    return func(func(x, y), func(x, y))\\n\\na = 5\\nb = 10\\n\\nprint(do_twice(add, a, b))', 'def add(x, y):\\n    return x + y\\n\\ndef do_twice(func, x, y):\\n    return func(func(x, y), func(x, y))\\n\\na = 20\\nb = 10\\n\\nprint(do_twice(add, a, b))', 'print(multiply)', 'def add(x, y):\\n    return x + y\\n\\ndef do_twice(z, x, y):\\n    return z(z(x, y), z(x, y))\\n\\na = 20\\nb = 10\\n\\nprint(do_twice(add, a, b))', 'def add(x, y):\\n    return x + y\\n\\ndef do_twice(z, x, y):\\n    return z(z(x, y), z(x, y))\\n\\na = 20\\nb = 1556\\n\\nprint(do_twice(add, a, b))', 'def add(x, y):\\n    return x + y\\n\\ndef do_twice(func, x, y):\\n    return func(func(x, y), func(x, y))\\n\\na = 20\\nb = 1556\\n\\nprint(do_twice(add1, a, b))', 'def add(x, y):\\n    return x + y\\n\\ndef do_twice(func, x, y):\\n    return func(func(x, y), func(x, y))\\n\\na = 20\\nb = 1556\\n\\nprint(do_twice(add, a, b))', 'def add(x, y):\\n    return x + y\\n\\ndef do_twice(func, x, y):\\n    return func(func(x, y), func(x, y))\\n\\na = 20\\nb = 10\\n\\nprint(do_twice(add, a, b))', '# Scope and Lifetime of variables\\ndef my_func():\\n    global z\\n    z= 10\\n    #print(\"Value inside function:\",x)\\n\\n#x = 20\\nmy_func()\\nprint(\"Value outside function:\",z)', '# Scope and Lifetime of variables\\ndef my_func():\\n    #global z\\n    z= 10\\n    #print(\"Value inside function:\",x)\\n\\n#x = 20\\nmy_func()\\nprint(\"Value outside function:\",z)', '# Scope and Lifetime of variables\\ndef my_func():\\n    #global z\\n    abc= 10\\n    #print(\"Value inside function:\",x)\\n\\n#x = 20\\nmy_func()\\nprint(\"Value outside function:\",abc)', '# Scope and Lifetime of variables\\ndef my_func():\\n    global abc\\n    abc= 10\\n    #print(\"Value inside function:\",x)\\n\\n#x = 20\\nmy_func()\\nprint(\"Value outside function:\",abc)', '# Scope and Lifetime of variables\\ndef my_func():\\n   # global x\\n    x= 10\\n    print(\"Value inside function:\",x)\\n\\n#x = 20\\nmy_func()\\nprint(\"Value outside function:\",abc)', '# Scope and Lifetime of variables\\ndef my_func():\\n   # global x\\n    x= 10\\n    print(\"Value inside function:\",x)\\n\\n#x = 20\\nmy_func()\\nprint(\"Value outside function:\",x)', 'del x', '# Scope and Lifetime of variables\\ndef my_func():\\n   # global x\\n    x= 10\\n    print(\"Value inside function:\",x)\\n\\n#x = 20\\nmy_func()\\nprint(\"Value outside function:\",x)', '# Scope and Lifetime of variables\\ndef my_func():\\n    global x\\n    x= 10\\n    print(\"Value inside function:\",x)\\n\\n#x = 20\\nmy_func()\\nprint(\"Value outside function:\",x)', '#   lambda arguments : expression\\nc=lambda x:x*x*x\\nprint(c)', '#   lambda arguments : expression\\nc=lambda x:x*x*x\\nprint(c(3))', 'c(4)', 'print((lambda x,y,z:x*y*z)(10,20,30))', 'print((lambda x,y,z:x*y*z)(10,20,2))', 'fact = lambda x: 1 if x == 0 else x * fact(x-1)\\nfact(4)', 'fact = lambda x: 1 if x == 0 else x * fact(x-1)\\nfact(5)', 'def my_func(f, arg):\\n    return f(arg)\\n\\n\\n\\nmy_func(lambda x: 2*x*x, 5)', 'def add(a,b):   \\n    print(a+b)  \\n    return a*b ', 'add(3,4)', 'add(3,4)', 'add(3,4)', 'add(3,4)', 'add(3,4)', 'def add(a,b):   \\n    print(a+b)  \\n    #return a*b ', 'add(3,4)', 'print(add(3,4))', 'def add(a,b):   \\n    print(a+b)  \\n    return ', 'print(add(3,4))', 'def add(a,b):   \\n    print(a+b)  \\n    return 1', 'print(add(3,4))', 'def add(a,b):   \\n      return 1\\n      print(a+b)', 'print(add(3,4))', 'add(5)', 'def add_def(a,b=1):\\n    return a+b', 'add_def(5)', 'add_def(5,4)', '# function with default value for an argument\\ndef power(num, x=1): # x is dafault argument \\n    result = 1\\n    for i in range(x):\\n        result = result * num\\n    return result', 'power(4,5)', 'power(4,2)', 'power(4)', '# function with default value for an argument\\ndef power(x=1,num): # x is dafault argument \\n    result = 1\\n    for i in range(x):\\n        result = result * num\\n    return result', '# function with default value for an argument\\ndef power(x=1,num): # x is dafault argument \\n    result = 1\\n    for i in range(x):\\n        result = result * num\\n    return result', \"def func(a, b=5, c=10):# default argument b,c\\n    print ('a is', a, 'and b is', b, 'and c is', c)\\n\\nfunc(3, 7) # c value is default\\nfunc(25, c=24) # c is keyword argument key=value \\nfunc(c=50, a=100) # c, a is keyword argument\", 'func(18)', 'func(18,56)', 'func(18,56,67)', \"def func(a, b=5, c=10):# default argument b,c\\n    print ('a is', a, 'and b is', b, 'and c is', c)\\n\\nfunc(3, 7) # c value is default\\nfunc(25, c=24) # c is keyword argument key=value \\nfunc(c=50, a=100) # c, a is keyword argument\", \"def func(a, b=5, c=10):# default argument b,c\\n    print ('a is', a, 'and b is', b, 'and c is', c)\\n\\nfunc(3, 7) # c value is default\\nfunc(25, c=24) # c is keyword argument key=value \\nfunc(c=50, a=100) # c, a is keyword argument\", 'func(43)', 'def f1(*a):\\n    print(a)\\n    ', 'f1(2,3,45,6)', 'def f1(**a):\\n    print(a)\\n    ', 'f1(a=1,b=2,c=3)', 'def f1(**x):\\n    print(x)\\n    ', 'f1(a=1,b=2,c=3)', 'def f1(*x):\\n    print(x)', 'f1(3,56,787,56)', '# function with variable number of arguments\\ndef multi_add(*args):\\n    result = 0\\n    #print(args)\\n    for x in args:\\n        result = result + x\\n    return result', 'print(multi_add(2,4,6,8))', 'print(multi_add(10,2,20,8,30,50))', 'def test(a,b,*c):\\n    print(\"first two data add\",a+b)\\n    result=0\\n    for x in c:\\n        result = result + x\\n    print(\"Multiple value add\", result)', 'test(5,5,6,7,8,9)', 'def cube(n):\\n    return (n*n*n)\\ndef sqr(n):\\n    return n*n\\n\\nprint(cube(2))\\nprint(sqr(4))\\n    ', 'def f1(**x):\\n    print(x)\\n    ', 'f1(a=1,b=2,c=3)', 'f1(a=1,b=2,c=3,d=4)', 'def fun1(**kwarg): # Arbitrary Keyword Arguments\\n    print(kwarg)\\n    for i in kwarg:\\n        print(i,kwarg[i])\\nfun1(name=\"ram\",age=25,city=\"bangalore\",phone=123343)', 'def fun1(**kwarg): # Arbitrary Keyword Arguments\\n   # print(kwarg)\\n    for i in kwarg:\\n        print(i,kwarg[i])\\nfun1(name=\"ram\",age=25,city=\"bangalore\",phone=123343)', 'def fact(n):\\n    if n==1:\\n        return 1\\n    return n*fact(n-1)', 'fact(5)', 'def find_fact(n):\\n    if n==1:\\n        print(\"this is one\",n)\\n        return 1\\n    else:\\n  \\n        print(\"this is result:\",a)\\n        return a', 'find_fact(5)', 'def find_fact(n):\\n    if n==1:\\n        print(\"this is one\",n)\\n        return 1\\n    else:\\n        a=n*find_fact(n-1)\\n        print(\"this is result:\",a)\\n        return a', 'find_fact(5)', 'fact(1)', 'def fact(n):\\n    if n==0:\\n        return 1\\n    return n*fact(n-1)', 'fact(1)', 'fact(0)', 'fact(2)', 'fact(4)', 'fact(5)', 'def fact(n):\\n    if n==1:\\n        return 1\\n    return n*fact(n-1)', 'def fibo(n):\\n    if n <= 1:\\n        return n\\n    else:\\n        return(fibo(n-1) + fibo(n-2))', 'fibo(6)', 'fibo(4)', 'nterms =int(input(\"Enter the No of Terms\"))\\n# check if the number of terms is valid\\nif nterms <= 0:\\n   print(\"Plese enter a positive integer\")\\nelse:\\n   print(\"Fibonacci sequence:\")\\n   for i in range(nterms):\\n       print(fibo(i))', 'nterms =int(input(\"Enter the No of Terms\"))\\n# check if the number of terms is valid\\nif nterms <= 0:\\n   print(\"Plese enter a positive integer\")\\nelse:\\n   print(\"Fibonacci sequence:\")\\n   for i in range(nterms):\\n       print(fibo(i))', 'def multiply(x, y):\\n    return x * y\\n\\na = 4\\nb = 7\\noperation = multiply\\nprint(operation(a, b))', 'multiply', 'print(multiply)', 'f1(3,56,787,56)', 'def f1(*x):\\n    print(x)', 'f1(3,56,787,56)', 'def f1(*x):\\n    print(x)\\n    print(type(x))', 'f1(3,56,787,56)', 'def f1(**x):\\n    print(x)\\n    print(type(x))\\n    ', 'f1(a=1,b=2,c=3,d=4)', 'def multiply(x, y):\\n    return x * y\\n\\na = 4\\nb = 7\\noperation = multiply\\nprint(operation(a, b))', 'def multiply(x, y):\\n    return x * y\\n\\na = 4\\nb = 7\\noperation = multiply\\nz=multiply\\nprint(operation(a, b))', 'z(2,4)', 'print(id(operation),id(multiply),id(z))', 'operation(3,4)', 'def add(x, y):\\n    return x + y\\n\\ndef do_twice(func, x, y):\\n    return func(func(x, y), func(x, y))\\n\\na = 20\\nb = 10\\n\\nprint(do_twice(add, a, b))', 'def add(x, y):\\n    return x + y\\n\\ndef do_twice(func, x, y):\\n    return func(func(x, y), func(x, y))\\n\\na = 20\\nb = 40\\n\\nprint(do_twice(add, a, b))', 'del x', '# Scope and Lifetime of variables\\ndef my_func():\\n    #global x\\n    x= 10\\n    print(\"Value inside function:\",x)\\n\\n#x = 20\\nmy_func()\\nprint(\"Value outside function:\",x)', '# Scope and Lifetime of variables\\ndef my_func():\\n    #global x\\n    x= 10\\n    print(\"Value inside function:\",x)\\n\\nx = 20\\nmy_func()\\nprint(\"Value outside function:\",x)', '# Scope and Lifetime of variables\\ndef my_func():\\n    global x\\n    x= 10\\n    print(\"Value inside function:\",x)\\n\\nx = 20\\nmy_func()\\nprint(\"Value outside function:\",x)', '# Scope and Lifetime of variables\\ndef my_func():\\n    global x\\n    x= 10\\n    print(\"Value inside function:\",x)\\n\\nx = 20\\nmy_func()\\nprint(\"Value outside function:\",x)', '# Scope and Lifetime of variables\\ndef my_func():\\n    global x\\n    x= 10\\n    print(\"Value inside function:\",x)\\n\\n# x = 20\\nmy_func()\\nprint(\"Value outside function:\",x)', 'del x', '# Scope and Lifetime of variables\\ndef my_func():\\n   # global x\\n    x= 10\\n    print(\"Value inside function:\",x)\\n\\n# x = 20\\nmy_func()\\nprint(\"Value outside function:\",x)', '# Scope and Lifetime of variables\\ndef my_func():\\n    global x\\n    x= 10\\n    print(\"Value inside function:\",x)\\n\\n# x = 20\\nmy_func()\\nprint(\"Value outside function:\",x)', '# Scope and Lifetime of variables\\ndef my_func():\\n    global x\\n    x= 10\\n    print(\"Value inside function:\",x)\\n\\nx = 20\\nmy_func()\\nprint(\"Value outside function:\",x)', '# Scope and Lifetime of variables\\ndef my_func():\\n    global x\\n    x= 10\\n    print(\"Value inside function:\",x)\\n\\nx = 20\\nmy_func()\\nprint(\"Value outside function:\",x)', 'print(globals())', 'print(globals())'], 'Out': {6: 3628800, 8: 3628800, 9: 25, 11: 25, 13: 8, 31: 10, 33: 16, 34: 4, 35: 1024, 38: 12, 39: <function multiply at 0x000002259071E8B0>, 41: 2360360429744, 44: 30, 47: 35, 67: 64, 70: 24, 71: 120, 72: 50, 74: 12, 75: 12, 76: 12, 77: 12, 78: 12, 90: 6, 91: 9, 93: 1024, 94: 16, 95: 4, 125: 120, 127: 20, 129: 120, 130: 1, 132: 1, 133: 1, 134: 2, 135: 24, 136: 120, 139: 8, 140: 3, 144: <function multiply at 0x00000225907C8E50>, 155: 8, 157: 12}, 'get_ipython': <bound method InteractiveShell.get_ipython of <ipykernel.zmqshell.ZMQInteractiveShell object at 0x000002258EB765E0>>, 'exit': <IPython.core.autocall.ZMQExitAutocall object at 0x000002258EB76CD0>, 'quit': <IPython.core.autocall.ZMQExitAutocall object at 0x000002258EB76CD0>, '_': 12, '__': 8, '___': <function multiply at 0x00000225907C8E50>, '_i': 'print(globals())', '_ii': '# Scope and Lifetime of variables\\ndef my_func():\\n    global x\\n    x= 10\\n    print(\"Value inside function:\",x)\\n\\nx = 20\\nmy_func()\\nprint(\"Value outside function:\",x)', '_iii': '# Scope and Lifetime of variables\\ndef my_func():\\n    global x\\n    x= 10\\n    print(\"Value inside function:\",x)\\n\\nx = 20\\nmy_func()\\nprint(\"Value outside function:\",x)', '_i1': 'def find_fact(n):\\n    if n==1:\\n        print(\"this is one\",n)\\n        return 1\\n    a=n*find_fact(n-1)\\n    print(\"this is result:\",a)\\n    return a', 'find_fact': <function find_fact at 0x00000225907C8F70>, '_i2': 'def find_fact(n):\\n    if n==1:\\n        print(\"this is one\",n)\\n        return 1\\n    else:\\n        a=n*find_fact(n-1)\\n        print(\"this is result:\",a)\\n        return a', '_i3': 'print(find_fact(1))', '_i4': 'print(find_fact(5))', '_i5': 'def fact(n):\\n    if n==1:\\n        return 1\\n    return n*fact(n-1)', 'fact': <function fact at 0x00000225907C80D0>, '_i6': 'fact(10)', '_6': 3628800, '_i7': 'r=fact(10)', 'r': 3628800, '_i8': 'r=fact(10)\\nr', '_8': 3628800, '_i9': 'pow(5,2)', '_9': 25, '_i10': 'c=pow(5,2)', 'c': <function <lambda> at 0x000002259071E430>, '_i11': 'c', '_11': 25, '_i12': 'def fibo(n):\\n    if n <= 1:\\n        return n\\n    else:\\n        return(fibo(n-1) + fibo(n-2))', 'fibo': <function fibo at 0x00000225907E03A0>, '_i13': 'fibo(6)', '_13': 8, '_i14': 'nterms =int(input(\"Enter the No of Terms\"))\\n# check if the number of terms is valid\\nif nterms <= 0:\\n   print(\"Plese enter a positive integer\")\\nelse:\\n   print(\"Fibonacci sequence:\")\\n   for i in range(nterms):\\n       print(fibo(i))', 'nterms': 20, 'i': 19, '_i15': 'nterms =int(input(\"Enter the No of Terms\"))\\n# check if the number of terms is valid\\nif nterms <= 0:\\n   print(\"Plese enter a positive integer\")\\nelse:\\n   print(\"Fibonacci sequence:\")\\n   for i in range(nterms):\\n       print(fibo(i))', '_i16': 'print(welcome_msg(\"kiran\"))', '_i17': 'def welcome_msg(name):\\n    print(f\"Hi {name}, welcome to python Programming\")\\n    ', 'welcome_msg': <function welcome_msg at 0x0000022590702C10>, '_i18': 'print(welcome_msg(\"kiran\"))', '_i19': 'def welcome_msg(name):\\n    print(f\"Hi {name}, welcome to python Programming\")\\n    return 0', '_i20': 'print(welcome_msg(\"kiran\"))', '_i21': 'def welcome_msg(name):\\n    print(f\"Hi {name}, welcome to python Programming\")\\n    return', '_i22': 'print(welcome_msg(\"kiran\"))', '_i23': 'print(welcome_msg(\"kiran\"))', '_i24': 'welcome_msg(\"kiran\")', '_i25': '# Write a program to illustrate the use of functions.\\ndef sum(x,y):\\n    \\'\\'\\'summing of the given range data x,y\\'\\'\\'\\n    s=0;\\n    for i in range(x,y+1):\\n            s=s+i\\n    print(\"Sum of integers from \",x,\" to \",y,\" is \",s)\\nsum(1,25)\\nsum(50,75)\\nsum(90,100)', 'sum': <function sum at 0x0000022590702CA0>, '_i26': 'help(sum())', '_i27': 'help(sum)', '_i28': 'result=add(3,7)', '_i29': 'def add(a,b):\\n    return (a+b)', 'add': <function add at 0x00000225907E0280>, '_i30': 'result=add(3,7)', 'result': 10, '_i31': 'result', '_31': 10, '_i32': '# function with default value for an argument\\ndef power(num, x=1): # x is dafault argument \\n    result = 1\\n    for i in range(x):\\n        result = result * num\\n    return result', 'power': <function power at 0x000002259071EEE0>, '_i33': 'power(4,2)', '_33': 16, '_i34': 'power(4)', '_34': 4, '_i35': 'power(4,5)', '_35': 1024, '_i36': '# function with default value for an argument\\ndef power(x=1,num): # x is dafault argument \\n    result = 1\\n    for i in range(x):\\n        result = result * num\\n    return result', '_i37': 'def multiply(x, y):\\n    return x * y\\n\\na = 4\\nb = 7\\noperation = multiply\\nprint(operation(a, b))', 'multiply': <function multiply at 0x00000225907E0AF0>, 'a': 20, 'b': 40, 'operation': <function multiply at 0x00000225907E0AF0>, '_i38': 'operation(3,4)', '_38': 12, '_i39': 'multiply', '_39': <function multiply at 0x000002259071E8B0>, '_i40': 'op1=multiply', 'op1': <function multiply at 0x000002259071E8B0>, '_i41': 'id(multiply)', '_41': 2360360429744, '_i42': 'id(multiply,op1)', '_i43': 'print(id(multiply),id(op1),id(operation))', '_i44': 'op1(5,6)', '_44': 30, '_i45': 'x=op1', '_i46': 'print(id(multiply),id(op1),id(operation),id(x))', '_i47': 'x(5,7)', '_47': 35, '_i48': 'def add(x, y):\\n    return x + y\\n\\ndef do_twice(func, x, y):\\n    return func(func(x, y), func(x, y))\\n\\na = 5\\nb = 10\\n\\nprint(do_twice(add, a, b))', 'do_twice': <function do_twice at 0x00000225907E0EE0>, '_i49': 'def add(x, y):\\n    return x + y\\n\\ndef do_twice(func, x, y):\\n    return func(func(x, y), func(x, y))\\n\\na = 20\\nb = 10\\n\\nprint(do_twice(add, a, b))', '_i50': 'print(multiply)', '_i51': 'def add(x, y):\\n    return x + y\\n\\ndef do_twice(z, x, y):\\n    return z(z(x, y), z(x, y))\\n\\na = 20\\nb = 10\\n\\nprint(do_twice(add, a, b))', '_i52': 'def add(x, y):\\n    return x + y\\n\\ndef do_twice(z, x, y):\\n    return z(z(x, y), z(x, y))\\n\\na = 20\\nb = 1556\\n\\nprint(do_twice(add, a, b))', '_i53': 'def add(x, y):\\n    return x + y\\n\\ndef do_twice(func, x, y):\\n    return func(func(x, y), func(x, y))\\n\\na = 20\\nb = 1556\\n\\nprint(do_twice(add1, a, b))', '_i54': 'def add(x, y):\\n    return x + y\\n\\ndef do_twice(func, x, y):\\n    return func(func(x, y), func(x, y))\\n\\na = 20\\nb = 1556\\n\\nprint(do_twice(add, a, b))', '_i55': 'def add(x, y):\\n    return x + y\\n\\ndef do_twice(func, x, y):\\n    return func(func(x, y), func(x, y))\\n\\na = 20\\nb = 10\\n\\nprint(do_twice(add, a, b))', '_i56': '# Scope and Lifetime of variables\\ndef my_func():\\n    global z\\n    z= 10\\n    #print(\"Value inside function:\",x)\\n\\n#x = 20\\nmy_func()\\nprint(\"Value outside function:\",z)', 'my_func': <function my_func at 0x00000225907FD430>, 'z': <function multiply at 0x00000225907E0AF0>, '_i57': '# Scope and Lifetime of variables\\ndef my_func():\\n    #global z\\n    z= 10\\n    #print(\"Value inside function:\",x)\\n\\n#x = 20\\nmy_func()\\nprint(\"Value outside function:\",z)', '_i58': '# Scope and Lifetime of variables\\ndef my_func():\\n    #global z\\n    abc= 10\\n    #print(\"Value inside function:\",x)\\n\\n#x = 20\\nmy_func()\\nprint(\"Value outside function:\",abc)', '_i59': '# Scope and Lifetime of variables\\ndef my_func():\\n    global abc\\n    abc= 10\\n    #print(\"Value inside function:\",x)\\n\\n#x = 20\\nmy_func()\\nprint(\"Value outside function:\",abc)', 'abc': 10, '_i60': '# Scope and Lifetime of variables\\ndef my_func():\\n   # global x\\n    x= 10\\n    print(\"Value inside function:\",x)\\n\\n#x = 20\\nmy_func()\\nprint(\"Value outside function:\",abc)', '_i61': '# Scope and Lifetime of variables\\ndef my_func():\\n   # global x\\n    x= 10\\n    print(\"Value inside function:\",x)\\n\\n#x = 20\\nmy_func()\\nprint(\"Value outside function:\",x)', '_i62': 'del x', '_i63': '# Scope and Lifetime of variables\\ndef my_func():\\n   # global x\\n    x= 10\\n    print(\"Value inside function:\",x)\\n\\n#x = 20\\nmy_func()\\nprint(\"Value outside function:\",x)', '_i64': '# Scope and Lifetime of variables\\ndef my_func():\\n    global x\\n    x= 10\\n    print(\"Value inside function:\",x)\\n\\n#x = 20\\nmy_func()\\nprint(\"Value outside function:\",x)', '_i65': '#   lambda arguments : expression\\nc=lambda x:x*x*x\\nprint(c)', '_i66': '#   lambda arguments : expression\\nc=lambda x:x*x*x\\nprint(c(3))', '_i67': 'c(4)', '_67': 64, '_i68': 'print((lambda x,y,z:x*y*z)(10,20,30))', '_i69': 'print((lambda x,y,z:x*y*z)(10,20,2))', '_i70': 'fact = lambda x: 1 if x == 0 else x * fact(x-1)\\nfact(4)', '_70': 24, '_i71': 'fact = lambda x: 1 if x == 0 else x * fact(x-1)\\nfact(5)', '_71': 120, '_i72': 'def my_func(f, arg):\\n    return f(arg)\\n\\n\\n\\nmy_func(lambda x: 2*x*x, 5)', '_72': 50, '_i73': 'def add(a,b):   \\n    print(a+b)  \\n    return a*b ', '_i74': 'add(3,4)', '_74': 12, '_i75': 'add(3,4)', '_75': 12, '_i76': 'add(3,4)', '_76': 12, '_i77': 'add(3,4)', '_77': 12, '_i78': 'add(3,4)', '_78': 12, '_i79': 'def add(a,b):   \\n    print(a+b)  \\n    #return a*b ', '_i80': 'add(3,4)', '_i81': 'print(add(3,4))', '_i82': 'def add(a,b):   \\n    print(a+b)  \\n    return ', '_i83': 'print(add(3,4))', '_i84': 'def add(a,b):   \\n    print(a+b)  \\n    return 1', '_i85': 'print(add(3,4))', '_i86': 'def add(a,b):   \\n      return 1\\n      print(a+b)', '_i87': 'print(add(3,4))', '_i88': 'add(5)', '_i89': 'def add_def(a,b=1):\\n    return a+b', 'add_def': <function add_def at 0x000002259077EB80>, '_i90': 'add_def(5)', '_90': 6, '_i91': 'add_def(5,4)', '_91': 9, '_i92': '# function with default value for an argument\\ndef power(num, x=1): # x is dafault argument \\n    result = 1\\n    for i in range(x):\\n        result = result * num\\n    return result', '_i93': 'power(4,5)', '_93': 1024, '_i94': 'power(4,2)', '_94': 16, '_i95': 'power(4)', '_95': 4, '_i96': '# function with default value for an argument\\ndef power(x=1,num): # x is dafault argument \\n    result = 1\\n    for i in range(x):\\n        result = result * num\\n    return result', '_i97': '# function with default value for an argument\\ndef power(x=1,num): # x is dafault argument \\n    result = 1\\n    for i in range(x):\\n        result = result * num\\n    return result', '_i98': \"def func(a, b=5, c=10):# default argument b,c\\n    print ('a is', a, 'and b is', b, 'and c is', c)\\n\\nfunc(3, 7) # c value is default\\nfunc(25, c=24) # c is keyword argument key=value \\nfunc(c=50, a=100) # c, a is keyword argument\", 'func': <function func at 0x000002259077EE50>, '_i99': 'func(18)', '_i100': 'func(18,56)', '_i101': 'func(18,56,67)', '_i102': \"def func(a, b=5, c=10):# default argument b,c\\n    print ('a is', a, 'and b is', b, 'and c is', c)\\n\\nfunc(3, 7) # c value is default\\nfunc(25, c=24) # c is keyword argument key=value \\nfunc(c=50, a=100) # c, a is keyword argument\", '_i103': \"def func(a, b=5, c=10):# default argument b,c\\n    print ('a is', a, 'and b is', b, 'and c is', c)\\n\\nfunc(3, 7) # c value is default\\nfunc(25, c=24) # c is keyword argument key=value \\nfunc(c=50, a=100) # c, a is keyword argument\", '_i104': 'func(43)', '_i105': 'def f1(*a):\\n    print(a)\\n    ', 'f1': <function f1 at 0x00000225906D5E50>, '_i106': 'f1(2,3,45,6)', '_i107': 'def f1(**a):\\n    print(a)\\n    ', '_i108': 'f1(a=1,b=2,c=3)', '_i109': 'def f1(**x):\\n    print(x)\\n    ', '_i110': 'f1(a=1,b=2,c=3)', '_i111': 'def f1(*x):\\n    print(x)', '_i112': 'f1(3,56,787,56)', '_i113': '# function with variable number of arguments\\ndef multi_add(*args):\\n    result = 0\\n    #print(args)\\n    for x in args:\\n        result = result + x\\n    return result', 'multi_add': <function multi_add at 0x00000225907E0CA0>, '_i114': 'print(multi_add(2,4,6,8))', '_i115': 'print(multi_add(10,2,20,8,30,50))', '_i116': 'def test(a,b,*c):\\n    print(\"first two data add\",a+b)\\n    result=0\\n    for x in c:\\n        result = result + x\\n    print(\"Multiple value add\", result)', 'test': <function test at 0x00000225907E0B80>, '_i117': 'test(5,5,6,7,8,9)', '_i118': 'def cube(n):\\n    return (n*n*n)\\ndef sqr(n):\\n    return n*n\\n\\nprint(cube(2))\\nprint(sqr(4))\\n    ', 'cube': <function cube at 0x00000225907C8AF0>, 'sqr': <function sqr at 0x00000225907C8940>, '_i119': 'def f1(**x):\\n    print(x)\\n    ', '_i120': 'f1(a=1,b=2,c=3)', '_i121': 'f1(a=1,b=2,c=3,d=4)', '_i122': 'def fun1(**kwarg): # Arbitrary Keyword Arguments\\n    print(kwarg)\\n    for i in kwarg:\\n        print(i,kwarg[i])\\nfun1(name=\"ram\",age=25,city=\"bangalore\",phone=123343)', 'fun1': <function fun1 at 0x00000225907E0040>, '_i123': 'def fun1(**kwarg): # Arbitrary Keyword Arguments\\n   # print(kwarg)\\n    for i in kwarg:\\n        print(i,kwarg[i])\\nfun1(name=\"ram\",age=25,city=\"bangalore\",phone=123343)', '_i124': 'def fact(n):\\n    if n==1:\\n        return 1\\n    return n*fact(n-1)', '_i125': 'fact(5)', '_125': 120, '_i126': 'def find_fact(n):\\n    if n==1:\\n        print(\"this is one\",n)\\n        return 1\\n    else:\\n  \\n        print(\"this is result:\",a)\\n        return a', '_i127': 'find_fact(5)', '_127': 20, '_i128': 'def find_fact(n):\\n    if n==1:\\n        print(\"this is one\",n)\\n        return 1\\n    else:\\n        a=n*find_fact(n-1)\\n        print(\"this is result:\",a)\\n        return a', '_i129': 'find_fact(5)', '_129': 120, '_i130': 'fact(1)', '_130': 1, '_i131': 'def fact(n):\\n    if n==0:\\n        return 1\\n    return n*fact(n-1)', '_i132': 'fact(1)', '_132': 1, '_i133': 'fact(0)', '_133': 1, '_i134': 'fact(2)', '_134': 2, '_i135': 'fact(4)', '_135': 24, '_i136': 'fact(5)', '_136': 120, '_i137': 'def fact(n):\\n    if n==1:\\n        return 1\\n    return n*fact(n-1)', '_i138': 'def fibo(n):\\n    if n <= 1:\\n        return n\\n    else:\\n        return(fibo(n-1) + fibo(n-2))', '_i139': 'fibo(6)', '_139': 8, '_i140': 'fibo(4)', '_140': 3, '_i141': 'nterms =int(input(\"Enter the No of Terms\"))\\n# check if the number of terms is valid\\nif nterms <= 0:\\n   print(\"Plese enter a positive integer\")\\nelse:\\n   print(\"Fibonacci sequence:\")\\n   for i in range(nterms):\\n       print(fibo(i))', '_i142': 'nterms =int(input(\"Enter the No of Terms\"))\\n# check if the number of terms is valid\\nif nterms <= 0:\\n   print(\"Plese enter a positive integer\")\\nelse:\\n   print(\"Fibonacci sequence:\")\\n   for i in range(nterms):\\n       print(fibo(i))', '_i143': 'def multiply(x, y):\\n    return x * y\\n\\na = 4\\nb = 7\\noperation = multiply\\nprint(operation(a, b))', '_i144': 'multiply', '_144': <function multiply at 0x00000225907C8E50>, '_i145': 'print(multiply)', '_i146': 'f1(3,56,787,56)', '_i147': 'def f1(*x):\\n    print(x)', '_i148': 'f1(3,56,787,56)', '_i149': 'def f1(*x):\\n    print(x)\\n    print(type(x))', '_i150': 'f1(3,56,787,56)', '_i151': 'def f1(**x):\\n    print(x)\\n    print(type(x))\\n    ', '_i152': 'f1(a=1,b=2,c=3,d=4)', '_i153': 'def multiply(x, y):\\n    return x * y\\n\\na = 4\\nb = 7\\noperation = multiply\\nprint(operation(a, b))', '_i154': 'def multiply(x, y):\\n    return x * y\\n\\na = 4\\nb = 7\\noperation = multiply\\nz=multiply\\nprint(operation(a, b))', '_i155': 'z(2,4)', '_155': 8, '_i156': 'print(id(operation),id(multiply),id(z))', '_i157': 'operation(3,4)', '_157': 12, '_i158': 'def add(x, y):\\n    return x + y\\n\\ndef do_twice(func, x, y):\\n    return func(func(x, y), func(x, y))\\n\\na = 20\\nb = 10\\n\\nprint(do_twice(add, a, b))', '_i159': 'def add(x, y):\\n    return x + y\\n\\ndef do_twice(func, x, y):\\n    return func(func(x, y), func(x, y))\\n\\na = 20\\nb = 40\\n\\nprint(do_twice(add, a, b))', '_i160': 'del x', '_i161': '# Scope and Lifetime of variables\\ndef my_func():\\n    #global x\\n    x= 10\\n    print(\"Value inside function:\",x)\\n\\n#x = 20\\nmy_func()\\nprint(\"Value outside function:\",x)', '_i162': '# Scope and Lifetime of variables\\ndef my_func():\\n    #global x\\n    x= 10\\n    print(\"Value inside function:\",x)\\n\\nx = 20\\nmy_func()\\nprint(\"Value outside function:\",x)', '_i163': '# Scope and Lifetime of variables\\ndef my_func():\\n    global x\\n    x= 10\\n    print(\"Value inside function:\",x)\\n\\nx = 20\\nmy_func()\\nprint(\"Value outside function:\",x)', '_i164': '# Scope and Lifetime of variables\\ndef my_func():\\n    global x\\n    x= 10\\n    print(\"Value inside function:\",x)\\n\\nx = 20\\nmy_func()\\nprint(\"Value outside function:\",x)', '_i165': '# Scope and Lifetime of variables\\ndef my_func():\\n    global x\\n    x= 10\\n    print(\"Value inside function:\",x)\\n\\n# x = 20\\nmy_func()\\nprint(\"Value outside function:\",x)', '_i166': 'del x', '_i167': '# Scope and Lifetime of variables\\ndef my_func():\\n   # global x\\n    x= 10\\n    print(\"Value inside function:\",x)\\n\\n# x = 20\\nmy_func()\\nprint(\"Value outside function:\",x)', '_i168': '# Scope and Lifetime of variables\\ndef my_func():\\n    global x\\n    x= 10\\n    print(\"Value inside function:\",x)\\n\\n# x = 20\\nmy_func()\\nprint(\"Value outside function:\",x)', 'x': 10, '_i169': '# Scope and Lifetime of variables\\ndef my_func():\\n    global x\\n    x= 10\\n    print(\"Value inside function:\",x)\\n\\nx = 20\\nmy_func()\\nprint(\"Value outside function:\",x)', '_i170': '# Scope and Lifetime of variables\\ndef my_func():\\n    global x\\n    x= 10\\n    print(\"Value inside function:\",x)\\n\\nx = 20\\nmy_func()\\nprint(\"Value outside function:\",x)', '_i171': 'print(globals())', '_i172': 'print(globals())'}\n"
          ]
        }
      ],
      "source": [
        "print(globals())"
      ]
    },
    {
      "cell_type": "code",
      "execution_count": null,
      "id": "fda517e8",
      "metadata": {
        "id": "fda517e8"
      },
      "outputs": [],
      "source": [
        ""
      ]
    },
    {
      "cell_type": "code",
      "execution_count": null,
      "id": "0c153353",
      "metadata": {
        "id": "0c153353"
      },
      "outputs": [],
      "source": [
        ""
      ]
    },
    {
      "cell_type": "markdown",
      "id": "ee773dc6",
      "metadata": {
        "id": "ee773dc6"
      },
      "source": [
        "# recursion:\n"
      ]
    },
    {
      "cell_type": "markdown",
      "id": "bf9ea61d",
      "metadata": {
        "id": "bf9ea61d"
      },
      "source": [
        "A function that calls itself is known as a recursive function"
      ]
    },
    {
      "cell_type": "code",
      "execution_count": null,
      "id": "aed9009c-58bc-4533-91d9-8458c08359e1",
      "metadata": {
        "id": "aed9009c-58bc-4533-91d9-8458c08359e1"
      },
      "outputs": [],
      "source": [
        "def find_fact(n):\n",
        "    if n==1:\n",
        "        print(\"this is one\",n)\n",
        "        return 1\n",
        "    else:\n",
        "        a=n*find_fact(n-1)\n",
        "        print(\"this is result:\",a)\n",
        "        return a"
      ]
    },
    {
      "cell_type": "code",
      "execution_count": null,
      "id": "8360b22b",
      "metadata": {
        "id": "8360b22b",
        "outputId": "1bec7070-c5fc-41de-b75c-88eec558b5ce"
      },
      "outputs": [
        {
          "name": "stdout",
          "output_type": "stream",
          "text": [
            "this is one 1\n",
            "this is result: 2\n",
            "this is result: 6\n",
            "this is result: 24\n",
            "this is result: 120\n"
          ]
        },
        {
          "data": {
            "text/plain": [
              "120"
            ]
          },
          "execution_count": 129,
          "metadata": {},
          "output_type": "execute_result"
        }
      ],
      "source": [
        "find_fact(5)"
      ]
    },
    {
      "cell_type": "code",
      "execution_count": null,
      "id": "e1d2c851",
      "metadata": {
        "id": "e1d2c851"
      },
      "outputs": [],
      "source": [
        ""
      ]
    },
    {
      "cell_type": "code",
      "execution_count": null,
      "id": "6a335c44",
      "metadata": {
        "id": "6a335c44"
      },
      "outputs": [],
      "source": [
        ""
      ]
    },
    {
      "cell_type": "code",
      "execution_count": null,
      "id": "d513db3e",
      "metadata": {
        "id": "d513db3e"
      },
      "outputs": [],
      "source": [
        "def fact(n):\n",
        "    if n==1:\n",
        "        return 1\n",
        "    return n*fact(n-1)\n"
      ]
    },
    {
      "cell_type": "code",
      "execution_count": null,
      "id": "0de6e685",
      "metadata": {
        "id": "0de6e685",
        "outputId": "e8adb99b-8483-4d67-bc31-b74eb08f72c5"
      },
      "outputs": [
        {
          "data": {
            "text/plain": [
              "120"
            ]
          },
          "execution_count": 136,
          "metadata": {},
          "output_type": "execute_result"
        }
      ],
      "source": [
        "fact(5)\n"
      ]
    },
    {
      "cell_type": "code",
      "execution_count": null,
      "id": "d1b9bc97",
      "metadata": {
        "id": "d1b9bc97"
      },
      "outputs": [],
      "source": [
        ""
      ]
    },
    {
      "cell_type": "markdown",
      "id": "876554f2",
      "metadata": {
        "id": "876554f2"
      },
      "source": [
        "# Fibonacci Series "
      ]
    },
    {
      "cell_type": "markdown",
      "id": "b7ce4008",
      "metadata": {
        "id": "b7ce4008"
      },
      "source": [
        "![image-2.png](attachment:image-2.png)"
      ]
    },
    {
      "cell_type": "markdown",
      "id": "54d641af",
      "metadata": {
        "id": "54d641af"
      },
      "source": [
        "![image.png](attachment:image.png)"
      ]
    },
    {
      "cell_type": "code",
      "execution_count": null,
      "id": "ea76d546",
      "metadata": {
        "id": "ea76d546"
      },
      "outputs": [],
      "source": [
        "def fibo(n):\n",
        "    if n <= 1:\n",
        "        return n\n",
        "    else:\n",
        "        return(fibo(n-1) + fibo(n-2))"
      ]
    },
    {
      "cell_type": "code",
      "execution_count": null,
      "id": "6edcc1f6",
      "metadata": {
        "id": "6edcc1f6",
        "outputId": "c84ed0e5-d8c3-4b39-f869-ef94fa47f754"
      },
      "outputs": [
        {
          "data": {
            "text/plain": [
              "3"
            ]
          },
          "execution_count": 140,
          "metadata": {},
          "output_type": "execute_result"
        }
      ],
      "source": [
        "fibo(4)"
      ]
    },
    {
      "cell_type": "code",
      "execution_count": null,
      "id": "d7c17596",
      "metadata": {
        "id": "d7c17596",
        "outputId": "a5c864eb-9a64-4612-8425-40a1e50cac03"
      },
      "outputs": [
        {
          "name": "stdout",
          "output_type": "stream",
          "text": [
            "Enter the No of Terms20\n",
            "Fibonacci sequence:\n",
            "0\n",
            "1\n",
            "1\n",
            "2\n",
            "3\n",
            "5\n",
            "8\n",
            "13\n",
            "21\n",
            "34\n",
            "55\n",
            "89\n",
            "144\n",
            "233\n",
            "377\n",
            "610\n",
            "987\n",
            "1597\n",
            "2584\n",
            "4181\n"
          ]
        }
      ],
      "source": [
        "nterms =int(input(\"Enter the No of Terms\"))\n",
        "# check if the number of terms is valid\n",
        "if nterms <= 0:\n",
        "   print(\"Plese enter a positive integer\")\n",
        "else:\n",
        "   print(\"Fibonacci sequence:\")\n",
        "   for i in range(nterms):\n",
        "       print(fibo(i))"
      ]
    },
    {
      "cell_type": "markdown",
      "id": "365a5b01",
      "metadata": {
        "id": "365a5b01"
      },
      "source": [
        "#  Function as Object\n",
        "functions are just like any other kind of value.\n",
        "They can be assigned and reassigned to variables, and later referenced by those names. "
      ]
    },
    {
      "cell_type": "code",
      "execution_count": null,
      "id": "bceb5c6b",
      "metadata": {
        "id": "bceb5c6b",
        "outputId": "140b5e7b-76ad-4558-99cc-7d5116c9e3b5"
      },
      "outputs": [
        {
          "name": "stdout",
          "output_type": "stream",
          "text": [
            "28\n"
          ]
        }
      ],
      "source": [
        "def multiply(x, y):\n",
        "    return x * y\n",
        "\n",
        "a = 4\n",
        "b = 7\n",
        "operation = multiply\n",
        "z=multiply\n",
        "print(operation(a, b))"
      ]
    },
    {
      "cell_type": "code",
      "execution_count": null,
      "id": "f3622db4",
      "metadata": {
        "id": "f3622db4",
        "outputId": "43a7976e-1681-449b-a4aa-fcc4cb923edd"
      },
      "outputs": [
        {
          "name": "stdout",
          "output_type": "stream",
          "text": [
            "<function multiply at 0x00000225907C8E50>\n"
          ]
        }
      ],
      "source": [
        "print(multiply)"
      ]
    },
    {
      "cell_type": "code",
      "execution_count": null,
      "id": "e3560979",
      "metadata": {
        "id": "e3560979",
        "outputId": "4a92acde-b282-4a92-f0a3-7f97f7e43af8"
      },
      "outputs": [
        {
          "data": {
            "text/plain": [
              "8"
            ]
          },
          "execution_count": 155,
          "metadata": {},
          "output_type": "execute_result"
        }
      ],
      "source": [
        "z(2,4)"
      ]
    },
    {
      "cell_type": "code",
      "execution_count": null,
      "id": "11938a1a",
      "metadata": {
        "id": "11938a1a",
        "outputId": "e2db722a-ba34-4ba8-fe2d-98c4ec39e181"
      },
      "outputs": [
        {
          "name": "stdout",
          "output_type": "stream",
          "text": [
            "2360361224944 2360361224944 2360361224944\n"
          ]
        }
      ],
      "source": [
        "print(id(operation),id(multiply),id(z))"
      ]
    },
    {
      "cell_type": "code",
      "execution_count": null,
      "id": "7c1721f1",
      "metadata": {
        "id": "7c1721f1",
        "outputId": "88d814b0-d010-4601-8582-83f654b8a5e2"
      },
      "outputs": [
        {
          "data": {
            "text/plain": [
              "12"
            ]
          },
          "execution_count": 157,
          "metadata": {},
          "output_type": "execute_result"
        }
      ],
      "source": [
        "operation(3,4)"
      ]
    },
    {
      "cell_type": "markdown",
      "id": "72a481bb",
      "metadata": {
        "id": "72a481bb"
      },
      "source": [
        "The example above assigned the function multiply to a variable operation. Now, the name operation can also be used to call the function."
      ]
    },
    {
      "cell_type": "markdown",
      "id": "6477df6d",
      "metadata": {
        "id": "6477df6d"
      },
      "source": [
        "Functions can also be used as arguments of other functions."
      ]
    },
    {
      "cell_type": "code",
      "execution_count": null,
      "id": "89591a14",
      "metadata": {
        "id": "89591a14",
        "outputId": "c51d09d5-33d5-449e-d863-9ce247300d46"
      },
      "outputs": [
        {
          "name": "stdout",
          "output_type": "stream",
          "text": [
            "120\n"
          ]
        }
      ],
      "source": [
        "def add(x, y):\n",
        "    return x + y\n",
        "\n",
        "def do_twice(func, x, y):\n",
        "    return func(func(x, y), func(x, y))\n",
        "\n",
        "a = 20\n",
        "b = 40\n",
        "\n",
        "print(do_twice(add, a, b))"
      ]
    },
    {
      "cell_type": "markdown",
      "id": "b7aee351",
      "metadata": {
        "id": "b7aee351"
      },
      "source": [
        "As you can see, the function do_twice takes a function as its argument and calls it in its body."
      ]
    },
    {
      "cell_type": "code",
      "execution_count": null,
      "id": "26e5e55d",
      "metadata": {
        "id": "26e5e55d"
      },
      "outputs": [],
      "source": [
        "del x"
      ]
    },
    {
      "cell_type": "markdown",
      "id": "59840268",
      "metadata": {
        "id": "59840268"
      },
      "source": [
        "# Scope of variable "
      ]
    },
    {
      "cell_type": "code",
      "execution_count": null,
      "id": "47f931fb-4b86-4394-885d-370e5f83c8fe",
      "metadata": {
        "id": "47f931fb-4b86-4394-885d-370e5f83c8fe",
        "outputId": "4b3d0330-9c81-4a3e-81f4-4115218ed082"
      },
      "outputs": [
        {
          "name": "stdout",
          "output_type": "stream",
          "text": [
            "Value inside function: 10\n",
            "Value outside function: 10\n"
          ]
        }
      ],
      "source": [
        "# Scope and Lifetime of variables\n",
        "def my_func():\n",
        "    global x\n",
        "    x= 10\n",
        "    print(\"Value inside function:\",x)\n",
        "\n",
        "x = 20\n",
        "my_func()\n",
        "print(\"Value outside function:\",x)"
      ]
    },
    {
      "cell_type": "markdown",
      "id": "92c00e72",
      "metadata": {
        "id": "92c00e72"
      },
      "source": [
        "#   lambda Function "
      ]
    },
    {
      "cell_type": "markdown",
      "id": "bcc6122b",
      "metadata": {
        "id": "bcc6122b"
      },
      "source": [
        "Python allows us to create functions on-the-fly, provided that they are created using lambda syntax. "
      ]
    },
    {
      "cell_type": "code",
      "execution_count": null,
      "id": "77ccfe0e",
      "metadata": {
        "id": "77ccfe0e"
      },
      "outputs": [],
      "source": [
        "lambda arguments : expression"
      ]
    },
    {
      "cell_type": "code",
      "execution_count": null,
      "id": "8a4348e2",
      "metadata": {
        "id": "8a4348e2",
        "outputId": "5c4f19b6-fd51-4a60-e6ad-f58ad1bd47b1"
      },
      "outputs": [
        {
          "data": {
            "text/plain": [
              "7"
            ]
          },
          "execution_count": 181,
          "metadata": {},
          "output_type": "execute_result"
        }
      ],
      "source": [
        "(lambda x,y:x+y)(3,4)"
      ]
    },
    {
      "cell_type": "code",
      "execution_count": null,
      "id": "d67aa27b",
      "metadata": {
        "id": "d67aa27b",
        "outputId": "0dec2473-e196-497e-ce32-a76a47b3fca7"
      },
      "outputs": [
        {
          "name": "stdout",
          "output_type": "stream",
          "text": [
            "<class 'function'>\n"
          ]
        }
      ],
      "source": [
        "print(type((lambda x,y:x+y)))"
      ]
    },
    {
      "cell_type": "code",
      "execution_count": null,
      "id": "b4d1db01",
      "metadata": {
        "id": "b4d1db01"
      },
      "outputs": [],
      "source": [
        ""
      ]
    },
    {
      "cell_type": "code",
      "execution_count": null,
      "id": "c367284e-b85c-4628-a282-8f2166820373",
      "metadata": {
        "id": "c367284e-b85c-4628-a282-8f2166820373",
        "outputId": "9c9cba6b-d6b1-4f78-9a02-4cb84dae70b2"
      },
      "outputs": [
        {
          "name": "stdout",
          "output_type": "stream",
          "text": [
            "27\n"
          ]
        }
      ],
      "source": [
        "#   lambda arguments : expression\n",
        "cube=lambda x:x*x*x\n",
        "print(cube(3))\n"
      ]
    },
    {
      "cell_type": "code",
      "execution_count": null,
      "id": "9a9a91e5",
      "metadata": {
        "id": "9a9a91e5",
        "outputId": "17ee5ecb-1a56-425b-f870-60ec080b0d08"
      },
      "outputs": [
        {
          "name": "stdout",
          "output_type": "stream",
          "text": [
            "<function <lambda> at 0x00000225907FD280>\n"
          ]
        }
      ],
      "source": [
        "print(cube)"
      ]
    },
    {
      "cell_type": "code",
      "execution_count": null,
      "id": "b3fc2d46",
      "metadata": {
        "id": "b3fc2d46",
        "outputId": "fe04f5b2-18b4-4421-b0c4-181f1e80d1a0"
      },
      "outputs": [
        {
          "name": "stdout",
          "output_type": "stream",
          "text": [
            "<class 'function'>\n"
          ]
        }
      ],
      "source": [
        "print(type(cube))"
      ]
    },
    {
      "cell_type": "code",
      "execution_count": null,
      "id": "9d437a4f",
      "metadata": {
        "id": "9d437a4f"
      },
      "outputs": [],
      "source": [
        ""
      ]
    },
    {
      "cell_type": "code",
      "execution_count": null,
      "id": "d099284f",
      "metadata": {
        "id": "d099284f",
        "outputId": "16fe2fbe-a601-40fe-b10d-59440ec36a54"
      },
      "outputs": [
        {
          "data": {
            "text/plain": [
              "64"
            ]
          },
          "execution_count": 67,
          "metadata": {},
          "output_type": "execute_result"
        }
      ],
      "source": [
        "c(4)"
      ]
    },
    {
      "cell_type": "code",
      "execution_count": null,
      "id": "d1061711",
      "metadata": {
        "id": "d1061711"
      },
      "outputs": [],
      "source": [
        ""
      ]
    },
    {
      "cell_type": "code",
      "execution_count": null,
      "id": "c047fef0",
      "metadata": {
        "id": "c047fef0",
        "outputId": "74a13171-a3ca-48d3-dc33-a0ed5d45c925"
      },
      "outputs": [
        {
          "data": {
            "text/plain": [
              "50"
            ]
          },
          "execution_count": 72,
          "metadata": {},
          "output_type": "execute_result"
        }
      ],
      "source": [
        "def my_func(f, arg):\n",
        "    return f(arg)\n",
        "\n",
        "\n",
        "\n",
        "my_func(lambda x: 2*x*x, 5)"
      ]
    },
    {
      "cell_type": "code",
      "execution_count": null,
      "id": "dc8f1298",
      "metadata": {
        "id": "dc8f1298",
        "outputId": "59a1e527-fd36-4cf7-a6a8-e90115858a9e"
      },
      "outputs": [
        {
          "data": {
            "text/plain": [
              "50"
            ]
          },
          "execution_count": 182,
          "metadata": {},
          "output_type": "execute_result"
        }
      ],
      "source": [
        "(lambda x: 2*x*x)(5)"
      ]
    },
    {
      "cell_type": "code",
      "execution_count": null,
      "id": "8061d93f",
      "metadata": {
        "id": "8061d93f",
        "outputId": "c768d638-6217-4f05-f77a-19f1bd49c27e"
      },
      "outputs": [
        {
          "name": "stdout",
          "output_type": "stream",
          "text": [
            "40\n",
            "40\n"
          ]
        }
      ],
      "source": [
        "#named function\n",
        "def polynomial(x):\n",
        "    return x**2 + 5*x + 4\n",
        "print(polynomial(4))\n",
        "\n",
        "#lambda\n",
        "print((lambda x: x**2 + 5*x + 4) (4))"
      ]
    },
    {
      "cell_type": "code",
      "execution_count": null,
      "id": "c7cb5a48",
      "metadata": {
        "id": "c7cb5a48"
      },
      "outputs": [],
      "source": [
        ""
      ]
    },
    {
      "cell_type": "code",
      "execution_count": null,
      "id": "0cb2344d-b7db-45d7-bbe5-69b44b71706a",
      "metadata": {
        "id": "0cb2344d-b7db-45d7-bbe5-69b44b71706a",
        "outputId": "310392c0-e8ee-49ec-f18c-95440c6efc3e"
      },
      "outputs": [
        {
          "name": "stdout",
          "output_type": "stream",
          "text": [
            "22\n"
          ]
        }
      ],
      "source": [
        "def myfunc(n):\n",
        "    return lambda a : a * n\n",
        "\n",
        "mydoubler = myfunc(2)\n",
        "\n",
        "print(mydoubler(11))"
      ]
    },
    {
      "cell_type": "code",
      "execution_count": null,
      "id": "35808267-7d08-4f44-8bdc-e4977963c266",
      "metadata": {
        "id": "35808267-7d08-4f44-8bdc-e4977963c266",
        "outputId": "5de08784-ac9f-4845-e631-6d0c9e2b6e33"
      },
      "outputs": [
        {
          "name": "stdout",
          "output_type": "stream",
          "text": [
            "400\n"
          ]
        }
      ],
      "source": [
        "print((lambda x,y,z:x*y*z)(10,20,2))"
      ]
    },
    {
      "cell_type": "code",
      "execution_count": null,
      "id": "76626191-2973-494e-997b-daaa3e3446c2",
      "metadata": {
        "id": "76626191-2973-494e-997b-daaa3e3446c2",
        "outputId": "bd9bbb7c-54cf-4bf7-bce3-d0ca192efec9"
      },
      "outputs": [
        {
          "data": {
            "text/plain": [
              "1307674368000"
            ]
          },
          "execution_count": 187,
          "metadata": {},
          "output_type": "execute_result"
        }
      ],
      "source": [
        "fact = lambda x: 1 if x == 0 else x * fact(x-1)\n",
        "fact(15)"
      ]
    },
    {
      "cell_type": "code",
      "execution_count": null,
      "id": "8b60a3b6",
      "metadata": {
        "id": "8b60a3b6"
      },
      "outputs": [],
      "source": [
        ""
      ]
    },
    {
      "cell_type": "markdown",
      "id": "3283488f",
      "metadata": {
        "id": "3283488f"
      },
      "source": [
        "Generators\n",
        "\n",
        "Generators are a type of iterable, like lists or tuples.\n",
        "Unlike lists, they don't allow indexing with arbitrary indices, but they can still be iterated through with for loops.\n",
        "They can be created using functions and the yield statement. "
      ]
    },
    {
      "cell_type": "code",
      "execution_count": null,
      "id": "558c7452",
      "metadata": {
        "id": "558c7452"
      },
      "outputs": [],
      "source": [
        "def countdown():\n",
        "    i=10\n",
        "    while i > 0:\n",
        "        if i%2==0:\n",
        "            yield i\n",
        "        i -= 1\n",
        "\n"
      ]
    },
    {
      "cell_type": "code",
      "execution_count": null,
      "id": "afa1b219",
      "metadata": {
        "id": "afa1b219",
        "outputId": "5932f15b-e43e-4c8c-9d5a-2f0e5598a247"
      },
      "outputs": [
        {
          "name": "stdout",
          "output_type": "stream",
          "text": [
            "<generator object countdown at 0x0000022590810430>\n"
          ]
        }
      ],
      "source": [
        "print(countdown())"
      ]
    },
    {
      "cell_type": "code",
      "execution_count": null,
      "id": "bcc04401",
      "metadata": {
        "id": "bcc04401",
        "outputId": "ee23d0f0-3a26-4fcf-ec81-812757bb3505"
      },
      "outputs": [
        {
          "data": {
            "text/plain": [
              "[10, 8, 6, 4, 2]"
            ]
          },
          "execution_count": 224,
          "metadata": {},
          "output_type": "execute_result"
        }
      ],
      "source": [
        "list(countdown())"
      ]
    },
    {
      "cell_type": "code",
      "execution_count": null,
      "id": "b47e5047",
      "metadata": {
        "id": "b47e5047",
        "outputId": "82fe430b-1114-4530-f692-9441d985ef23"
      },
      "outputs": [
        {
          "name": "stdout",
          "output_type": "stream",
          "text": [
            "10\n",
            "8\n",
            "6\n",
            "4\n",
            "2\n"
          ]
        }
      ],
      "source": [
        "for i in countdown():\n",
        "    print(i)"
      ]
    },
    {
      "cell_type": "code",
      "execution_count": null,
      "id": "acde2185",
      "metadata": {
        "id": "acde2185",
        "outputId": "fa04a2f9-425f-4e17-db4b-317aa593807d"
      },
      "outputs": [
        {
          "name": "stdout",
          "output_type": "stream",
          "text": [
            "[10, 12, 14, 16, 18, 20]\n"
          ]
        }
      ],
      "source": [
        "def numbers(x,y):\n",
        "    for i in range(x,y+1):\n",
        "        if i % 2 == 0:\n",
        "            yield i\n",
        "\n",
        "print(list(numbers(10,20)))"
      ]
    },
    {
      "cell_type": "code",
      "execution_count": null,
      "id": "b9b51582",
      "metadata": {
        "id": "b9b51582",
        "outputId": "615a9f6b-92e7-4b22-bdd5-680a489424a2"
      },
      "outputs": [
        {
          "name": "stdout",
          "output_type": "stream",
          "text": [
            "40\n",
            "42\n",
            "44\n",
            "46\n",
            "48\n",
            "50\n"
          ]
        }
      ],
      "source": [
        "for i in numbers(40,50):\n",
        "    print(i)"
      ]
    },
    {
      "cell_type": "code",
      "execution_count": null,
      "id": "b82f7d45",
      "metadata": {
        "id": "b82f7d45"
      },
      "outputs": [],
      "source": [
        ""
      ]
    },
    {
      "cell_type": "markdown",
      "id": "b34b2411",
      "metadata": {
        "id": "b34b2411"
      },
      "source": [
        "Decorators\n",
        "\n",
        "Decorators provide a way to modify functions using other functions.\n",
        "This is ideal when you need to extend the functionality of functions that you don't want to modify. "
      ]
    },
    {
      "cell_type": "code",
      "execution_count": null,
      "id": "dcfa1658",
      "metadata": {
        "id": "dcfa1658"
      },
      "outputs": [],
      "source": [
        "def decor(func):\n",
        "    def wrap():\n",
        "        print(\"============\")\n",
        "        func()\n",
        "        print(\"============\")\n",
        "    return wrap\n",
        "@decor\n",
        "def print_text():\n",
        "    print(\"Hello world!\")\n",
        "    print(\"second line\")\n",
        "\n",
        "#decorated = decor(print_text)\n",
        "#decorated()\n"
      ]
    },
    {
      "cell_type": "code",
      "execution_count": null,
      "id": "16271ec5",
      "metadata": {
        "id": "16271ec5",
        "outputId": "e7d9a3b4-7395-46fb-b696-934ae4788bbc"
      },
      "outputs": [
        {
          "name": "stdout",
          "output_type": "stream",
          "text": [
            "============\n",
            "Hello world!\n",
            "second line\n",
            "============\n"
          ]
        }
      ],
      "source": [
        "print_text()"
      ]
    },
    {
      "cell_type": "code",
      "execution_count": null,
      "id": "8b2f6943",
      "metadata": {
        "id": "8b2f6943"
      },
      "outputs": [],
      "source": [
        "def decor(func):\n",
        "    def wrap():\n",
        "        print(\"============\")\n",
        "        func()\n",
        "        print(\"============\")\n",
        "    return wrap\n",
        "\n",
        "def print_text():\n",
        "    print(\"Hello world!\")\n",
        "\n",
        "print_text = decor(print_text)\n",
        "\n",
        "print_text();"
      ]
    },
    {
      "cell_type": "code",
      "execution_count": null,
      "id": "370e2887",
      "metadata": {
        "id": "370e2887"
      },
      "outputs": [],
      "source": [
        ""
      ]
    },
    {
      "cell_type": "code",
      "execution_count": null,
      "id": "b3a925a7",
      "metadata": {
        "id": "b3a925a7",
        "outputId": "8530b8db-bde2-4c19-e1d6-7c1b7bf4abeb"
      },
      "outputs": [
        {
          "name": "stdout",
          "output_type": "stream",
          "text": [
            "============\n",
            "Hello world!\n",
            "============\n"
          ]
        }
      ],
      "source": [
        "def decor(func):\n",
        "    def wrap():\n",
        "        print(\"============\")\n",
        "        func()\n",
        "        print(\"============\")\n",
        "    return wrap\n",
        "\n",
        "@decor\n",
        "def print_text():\n",
        "    print(\"Hello world!\")\n",
        "\n",
        "print_text();"
      ]
    },
    {
      "cell_type": "code",
      "execution_count": null,
      "id": "4545f366",
      "metadata": {
        "id": "4545f366"
      },
      "outputs": [],
      "source": [
        ""
      ]
    },
    {
      "cell_type": "code",
      "execution_count": null,
      "id": "7909cbee",
      "metadata": {
        "id": "7909cbee"
      },
      "outputs": [],
      "source": [
        ""
      ]
    },
    {
      "cell_type": "code",
      "execution_count": null,
      "id": "a30bacae",
      "metadata": {
        "id": "a30bacae"
      },
      "outputs": [],
      "source": [
        ""
      ]
    },
    {
      "cell_type": "code",
      "execution_count": null,
      "id": "363555b8",
      "metadata": {
        "id": "363555b8"
      },
      "outputs": [],
      "source": [
        ""
      ]
    },
    {
      "cell_type": "markdown",
      "id": "82766123-a058-42e2-b55d-71a4ae3c5095",
      "metadata": {
        "id": "82766123-a058-42e2-b55d-71a4ae3c5095"
      },
      "source": [
        "### Function MCQ\n",
        "![image.png](attachment:9c1d3ee4-a866-4d3f-a3ce-b8bda698b577.png)\n",
        "\n",
        "\n",
        "\n"
      ]
    },
    {
      "cell_type": "code",
      "execution_count": null,
      "id": "e36b03b9",
      "metadata": {
        "id": "e36b03b9"
      },
      "outputs": [],
      "source": [
        "- ANSWER:1.C -Global Variable, 2.Both and b"
      ]
    },
    {
      "cell_type": "code",
      "execution_count": null,
      "id": "05fffdb8-0dcd-4878-8bfb-2babd6aa5e9c",
      "metadata": {
        "id": "05fffdb8-0dcd-4878-8bfb-2babd6aa5e9c",
        "outputId": "11d92da8-5563-425a-f4f7-bcc8bb068515"
      },
      "outputs": [
        {
          "ename": "SyntaxError",
          "evalue": "non-default argument follows default argument (3383204376.py, line 1)",
          "output_type": "error",
          "traceback": [
            "\u001b[1;36m  Input \u001b[1;32mIn [29]\u001b[1;36m\u001b[0m\n\u001b[1;33m    def Demo(p=1,Q):\u001b[0m\n\u001b[1;37m                  ^\u001b[0m\n\u001b[1;31mSyntaxError\u001b[0m\u001b[1;31m:\u001b[0m non-default argument follows default argument\n"
          ]
        }
      ],
      "source": [
        "def Demo(p=1,Q):\n",
        "    pass"
      ]
    },
    {
      "cell_type": "markdown",
      "id": "103629bc-7535-4ec1-a951-b655d58fb4e4",
      "metadata": {
        "id": "103629bc-7535-4ec1-a951-b655d58fb4e4"
      },
      "source": [
        "![image.png](attachment:a69ebc1c-ad7d-4647-a774-b7523ef866c2.png)\n"
      ]
    },
    {
      "cell_type": "code",
      "execution_count": null,
      "id": "4cc4de1b",
      "metadata": {
        "id": "4cc4de1b"
      },
      "outputs": [],
      "source": [
        "- ANS:c-UnboundLocalError: local variable 'x' referenced before assignment"
      ]
    },
    {
      "cell_type": "code",
      "execution_count": null,
      "id": "0750f9ca-6334-4759-bece-b91547fc41ed",
      "metadata": {
        "id": "0750f9ca-6334-4759-bece-b91547fc41ed",
        "outputId": "e4783cac-1f8a-44a4-cb80-310c875ec34e"
      },
      "outputs": [
        {
          "ename": "UnboundLocalError",
          "evalue": "local variable 'x' referenced before assignment",
          "output_type": "error",
          "traceback": [
            "\u001b[1;31m---------------------------------------------------------------------------\u001b[0m",
            "\u001b[1;31mUnboundLocalError\u001b[0m                         Traceback (most recent call last)",
            "Input \u001b[1;32mIn [39]\u001b[0m, in \u001b[0;36m<cell line: 5>\u001b[1;34m()\u001b[0m\n\u001b[0;32m      3\u001b[0m     x\u001b[38;5;241m=\u001b[39m x \u001b[38;5;241m+\u001b[39m \u001b[38;5;241m10\u001b[39m\n\u001b[0;32m      4\u001b[0m     \u001b[38;5;28mprint\u001b[39m(x)\n\u001b[1;32m----> 5\u001b[0m \u001b[43mf\u001b[49m\u001b[43m(\u001b[49m\u001b[43m)\u001b[49m\n",
            "Input \u001b[1;32mIn [39]\u001b[0m, in \u001b[0;36mf\u001b[1;34m()\u001b[0m\n\u001b[0;32m      2\u001b[0m \u001b[38;5;28;01mdef\u001b[39;00m \u001b[38;5;21mf\u001b[39m():\n\u001b[1;32m----> 3\u001b[0m     x\u001b[38;5;241m=\u001b[39m \u001b[43mx\u001b[49m \u001b[38;5;241m+\u001b[39m \u001b[38;5;241m10\u001b[39m\n\u001b[0;32m      4\u001b[0m     \u001b[38;5;28mprint\u001b[39m(x)\n",
            "\u001b[1;31mUnboundLocalError\u001b[0m: local variable 'x' referenced before assignment"
          ]
        }
      ],
      "source": [
        "x = 10\n",
        "def f():\n",
        "    x= x + 10\n",
        "    print(x)\n",
        "f()"
      ]
    },
    {
      "cell_type": "markdown",
      "id": "71923f49-d69b-4123-88e3-89733ed7f31b",
      "metadata": {
        "id": "71923f49-d69b-4123-88e3-89733ed7f31b"
      },
      "source": [
        "![image.png](attachment:513df38f-b967-4f45-9ef3-35196dc0c6eb.png)\n",
        "- ANS: d-30,21"
      ]
    },
    {
      "cell_type": "code",
      "execution_count": null,
      "id": "2dfad829-faec-483f-917b-4647c7555c11",
      "metadata": {
        "id": "2dfad829-faec-483f-917b-4647c7555c11",
        "outputId": "6190e397-a3d7-4ae3-df86-5936870b1019"
      },
      "outputs": [
        {
          "name": "stdout",
          "output_type": "stream",
          "text": [
            "30 21\n"
          ]
        }
      ],
      "source": [
        "def Func_A(P = 10, Q = 20):\n",
        "    P = P + Q\n",
        "    Q = Q + 1\n",
        "    print(P, Q)\n",
        "Func_A(Q = 20, P = 10)"
      ]
    },
    {
      "cell_type": "markdown",
      "id": "2d2cd8f9-1401-4705-a91c-a724f1303a84",
      "metadata": {
        "id": "2d2cd8f9-1401-4705-a91c-a724f1303a84"
      },
      "source": [
        "![image.png](attachment:06db7777-f547-47ca-a994-715a791cb425.png)\n",
        "- Ansb -11"
      ]
    },
    {
      "cell_type": "code",
      "execution_count": null,
      "id": "60451705-69f6-4888-aa62-a1d70252030b",
      "metadata": {
        "id": "60451705-69f6-4888-aa62-a1d70252030b",
        "outputId": "e60b4f1a-1dfc-4ada-9006-74f098853ba3"
      },
      "outputs": [
        {
          "name": "stdout",
          "output_type": "stream",
          "text": [
            "11\n"
          ]
        }
      ],
      "source": [
        "def test():\n",
        "    x=10\n",
        "# Main Program #\n",
        "x = 11\n",
        "test()\n",
        "print(x)"
      ]
    },
    {
      "cell_type": "code",
      "execution_count": null,
      "id": "a2f340e6-d806-4cbf-9f01-0caa4f609726",
      "metadata": {
        "id": "a2f340e6-d806-4cbf-9f01-0caa4f609726",
        "outputId": "97a15c47-f674-44b8-9258-86decd999d0e"
      },
      "outputs": [
        {
          "name": "stdout",
          "output_type": "stream",
          "text": [
            "None\n"
          ]
        }
      ],
      "source": [
        "def test():\n",
        "    pass\n",
        "\n",
        "print(test())"
      ]
    },
    {
      "cell_type": "markdown",
      "id": "e477cce3-076b-4556-b603-0a49ce17bed7",
      "metadata": {
        "id": "e477cce3-076b-4556-b603-0a49ce17bed7"
      },
      "source": [
        "![image.png](attachment:184e9c3e-c6fd-4701-aa8e-27a9a868b752.png)\n",
        "- Ans-d -None"
      ]
    },
    {
      "cell_type": "markdown",
      "id": "2ed5b595-7dd2-45fa-9615-54803f481e49",
      "metadata": {
        "id": "2ed5b595-7dd2-45fa-9615-54803f481e49"
      },
      "source": [
        "![image.png](attachment:d6b386da-e6bc-4ca2-abfc-aa11f22ee62e.png)\n",
        "- Ans-b -A"
      ]
    },
    {
      "cell_type": "code",
      "execution_count": null,
      "id": "27689249-37e0-4195-91aa-8dccc6b4b59c",
      "metadata": {
        "id": "27689249-37e0-4195-91aa-8dccc6b4b59c",
        "outputId": "5200ff31-0155-44d5-d255-075028d1d56f"
      },
      "outputs": [
        {
          "name": "stdout",
          "output_type": "stream",
          "text": [
            "A\n"
          ]
        }
      ],
      "source": [
        "def test():\n",
        "    global x\n",
        "    x='A'\n",
        "# Main Program #\n",
        "x = 'Z'\n",
        "test()\n",
        "print(x)"
      ]
    },
    {
      "cell_type": "markdown",
      "id": "1af65ec5-7223-4791-b417-b65aa8ef69b5",
      "metadata": {
        "id": "1af65ec5-7223-4791-b417-b65aa8ef69b5"
      },
      "source": [
        "![image.png](attachment:879acf5d-254e-434f-a925-5ae8427f5a70.png)\n",
        "![image.png](attachment:cf3ddb36-18c5-4145-ad36-e8017e7cb01d.png)\n",
        "- Ans-a-100"
      ]
    },
    {
      "cell_type": "code",
      "execution_count": null,
      "id": "48735f86-6f8f-4cc9-8447-7543b6b071ed",
      "metadata": {
        "id": "48735f86-6f8f-4cc9-8447-7543b6b071ed",
        "outputId": "04ab4bff-c6d3-41a9-be03-0c532f2cd356"
      },
      "outputs": [
        {
          "name": "stdout",
          "output_type": "stream",
          "text": [
            "100\n"
          ]
        }
      ],
      "source": [
        "def test(x):\n",
        "    x = 50\n",
        "# Main Program #\n",
        "x = 100\n",
        "test(x)\n",
        "print(x)"
      ]
    },
    {
      "cell_type": "markdown",
      "id": "2817dfa1-d34b-4f20-ad5c-72e320e939ef",
      "metadata": {
        "id": "2817dfa1-d34b-4f20-ad5c-72e320e939ef"
      },
      "source": [
        "![image.png](attachment:fa3ab2cc-3d10-4c64-9192-3df00cfc01df.png)\n",
        "- Ans-d- None"
      ]
    },
    {
      "cell_type": "code",
      "execution_count": null,
      "id": "bdb0df87-5be2-4a75-858a-957a10e4990c",
      "metadata": {
        "id": "bdb0df87-5be2-4a75-858a-957a10e4990c",
        "outputId": "2dc60fe7-a742-4dcf-c9e2-89f179e6a1fb"
      },
      "outputs": [
        {
          "name": "stdout",
          "output_type": "stream",
          "text": [
            "None\n"
          ]
        }
      ],
      "source": [
        "def test(x):\n",
        "    p = 90\n",
        "# Main Program #\n",
        "p = 50\n",
        "print(test(p))"
      ]
    },
    {
      "cell_type": "markdown",
      "id": "bf3f6212-5ca5-4060-853b-d1ecdf4ad130",
      "metadata": {
        "id": "bf3f6212-5ca5-4060-853b-d1ecdf4ad130"
      },
      "source": [
        "![image.png](attachment:de65fd23-604c-44ea-a795-7fa37a5c2fe9.png)\n",
        "- Ans -d- 15"
      ]
    },
    {
      "cell_type": "code",
      "execution_count": null,
      "id": "5d002531-1b8d-497c-8329-1079e254d6da",
      "metadata": {
        "id": "5d002531-1b8d-497c-8329-1079e254d6da",
        "outputId": "c478d410-52af-4eb4-cacf-ed571ce7d12d"
      },
      "outputs": [
        {
          "name": "stdout",
          "output_type": "stream",
          "text": [
            "15\n"
          ]
        }
      ],
      "source": [
        "def evaluate_expression_1(Z):\n",
        "    Z = Z + 5\n",
        "    def evaluate_expression_2(Z):\n",
        "        print(\"Hello\")        \n",
        "        return Z\n",
        "    #evaluate_expression_2(Z)\n",
        "    return Z\n",
        "value = 10\n",
        "print(evaluate_expression_1(value))"
      ]
    },
    {
      "cell_type": "markdown",
      "id": "00671ec7-c156-43c1-87cc-aa0e1d6fac97",
      "metadata": {
        "id": "00671ec7-c156-43c1-87cc-aa0e1d6fac97"
      },
      "source": [
        "![image.png](attachment:777fc3f3-1633-405c-9479-c1ba3372b1f0.png)\n",
        "- Ans-b-8"
      ]
    },
    {
      "cell_type": "code",
      "execution_count": null,
      "id": "27d69ae4-3d00-4914-a281-9468e504c625",
      "metadata": {
        "id": "27d69ae4-3d00-4914-a281-9468e504c625",
        "outputId": "27abad2a-d6d4-4f94-c8d1-cb2ac8c30cd1"
      },
      "outputs": [
        {
          "name": "stdout",
          "output_type": "stream",
          "text": [
            "8\n"
          ]
        }
      ],
      "source": [
        "def evaluate_expression_1():\n",
        "    global x\n",
        "    x = x - 5\n",
        "    def evaluate_expression_2():\n",
        "        global x\n",
        "        return x + 3\n",
        "    return evaluate_expression_2()\n",
        "# Main Program #\n",
        "x = 10\n",
        "print(evaluate_expression_1())"
      ]
    },
    {
      "cell_type": "markdown",
      "id": "5a98685f-f6e1-46b4-9c11-f5521516beeb",
      "metadata": {
        "id": "5a98685f-f6e1-46b4-9c11-f5521516beeb"
      },
      "source": [
        "![image.png](attachment:fac4cce8-d989-4ff2-a241-b32001738033.png)\n",
        "- Ans-c-20,5"
      ]
    },
    {
      "cell_type": "code",
      "execution_count": null,
      "id": "15acc0c0-ac0a-43ca-be1e-5757f1b53d98",
      "metadata": {
        "id": "15acc0c0-ac0a-43ca-be1e-5757f1b53d98",
        "outputId": "849993fb-7344-4a05-a7ff-3baedf436c75"
      },
      "outputs": [
        {
          "name": "stdout",
          "output_type": "stream",
          "text": [
            "20 5\n"
          ]
        }
      ],
      "source": [
        "def perform_multiplication(Num1, Num2):\n",
        "    Num2 = Num1 * Num2\n",
        "    return Num1, Num2\n",
        "# Main Program #\n",
        "Num2, Num1 = perform_multiplication(5,4)\n",
        "print(Num1, Num2)"
      ]
    },
    {
      "cell_type": "markdown",
      "id": "e3ea8f42-c3b6-4816-a86f-fb33dc51b5a6",
      "metadata": {
        "id": "e3ea8f42-c3b6-4816-a86f-fb33dc51b5a6"
      },
      "source": [
        "![image.png](attachment:26df5ba8-4450-4975-9762-b116af17b256.png)\n",
        "- Ans:-b"
      ]
    },
    {
      "cell_type": "code",
      "execution_count": null,
      "id": "0acbe7d1-4d5e-48d0-8034-d5f7d7280cc2",
      "metadata": {
        "id": "0acbe7d1-4d5e-48d0-8034-d5f7d7280cc2",
        "outputId": "6c319113-246c-4ce1-8927-8ba140dcb2e8"
      },
      "outputs": [
        {
          "name": "stdout",
          "output_type": "stream",
          "text": [
            "Designation =  Manager Salary =  25000\n",
            "Designation =  300000 Salary =  Programmer\n"
          ]
        }
      ],
      "source": [
        "def Display(Designation, Salary):\n",
        "    print(\"Designation = \",Designation, \"Salary = \",Salary)\n",
        "Display(\"Manager\",25000)\n",
        "Display(300000,\"Programmer\")"
      ]
    },
    {
      "cell_type": "code",
      "execution_count": null,
      "id": "747cbf39-9e72-42db-bf47-a0f19847ddb0",
      "metadata": {
        "id": "747cbf39-9e72-42db-bf47-a0f19847ddb0"
      },
      "outputs": [],
      "source": [
        ""
      ]
    },
    {
      "cell_type": "code",
      "execution_count": null,
      "id": "1e0e87ba-ef92-43f9-b925-6a92c6cdc88e",
      "metadata": {
        "id": "1e0e87ba-ef92-43f9-b925-6a92c6cdc88e"
      },
      "outputs": [],
      "source": [
        ""
      ]
    },
    {
      "cell_type": "code",
      "execution_count": null,
      "id": "3d4e9306-98a1-4480-9729-366fa174e148",
      "metadata": {
        "id": "3d4e9306-98a1-4480-9729-366fa174e148"
      },
      "outputs": [],
      "source": [
        ""
      ]
    },
    {
      "cell_type": "code",
      "execution_count": null,
      "id": "966de2db-5b1b-4934-8027-51595966717a",
      "metadata": {
        "id": "966de2db-5b1b-4934-8027-51595966717a"
      },
      "outputs": [],
      "source": [
        ""
      ]
    },
    {
      "cell_type": "code",
      "execution_count": null,
      "id": "599991a3-c5f5-4a34-9bf7-242b0cbef278",
      "metadata": {
        "id": "599991a3-c5f5-4a34-9bf7-242b0cbef278"
      },
      "outputs": [],
      "source": [
        ""
      ]
    },
    {
      "cell_type": "code",
      "execution_count": null,
      "id": "b84d73c5-26bb-4aa7-bce4-27265f0e34d4",
      "metadata": {
        "id": "b84d73c5-26bb-4aa7-bce4-27265f0e34d4"
      },
      "outputs": [],
      "source": [
        ""
      ]
    }
  ],
  "metadata": {
    "kernelspec": {
      "display_name": "Python 3 (ipykernel)",
      "language": "python",
      "name": "python3"
    },
    "language_info": {
      "codemirror_mode": {
        "name": "ipython",
        "version": 3
      },
      "file_extension": ".py",
      "mimetype": "text/x-python",
      "name": "python",
      "nbconvert_exporter": "python",
      "pygments_lexer": "ipython3",
      "version": "3.9.12"
    },
    "colab": {
      "name": "Function.ipynb",
      "provenance": [],
      "include_colab_link": true
    }
  },
  "nbformat": 4,
  "nbformat_minor": 5
}