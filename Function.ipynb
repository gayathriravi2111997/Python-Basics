{
  "cells": [
    {
      "cell_type": "markdown",
      "metadata": {
        "id": "view-in-github",
        "colab_type": "text"
      },
      "source": [
        "<a href=\"https://colab.research.google.com/github/svkarthik86/Python-Basics/blob/main/Function.ipynb\" target=\"_parent\"><img src=\"https://colab.research.google.com/assets/colab-badge.svg\" alt=\"Open In Colab\"/></a>"
      ]
    },
    {
      "cell_type": "markdown",
      "id": "7a4435c6",
      "metadata": {
        "tags": [],
        "id": "7a4435c6"
      },
      "source": [
        "### Python Functions\n",
        "- A function is a self-contained block of one or more statements that performs a special task when called. - - The syntax:\n",
        "- The syntax for the Python function contains a header and body.\n",
        "- The function header begins with the ‘ def’ keyword. The def keyword signifies the beginning of the function’s definition.\n",
        "- The name of the function is followed by the def keyword.\n",
        "- The function header may contain zero or more number of parameters. These parameters are called formal parameters. \n",
        "- If a function contains more than one parameter then all the parameters are separated by commas. \n",
        "- A function’s body is a block of statements. The statements within the function’s body define the actions that the function needs to perform.\n"
      ]
    },
    {
      "cell_type": "code",
      "execution_count": null,
      "id": "6c1aea30-a2af-4e91-9b18-284bbc890b1e",
      "metadata": {
        "id": "6c1aea30-a2af-4e91-9b18-284bbc890b1e"
      },
      "outputs": [],
      "source": [
        "def name_of_function(Parameters):         # Function Header\n",
        "                      statement1\n",
        "                      statement2\n",
        "                      statement3\n",
        "                      ..........\n",
        "                      statementN"
      ]
    },
    {
      "cell_type": "code",
      "execution_count": null,
      "id": "70352aab-9a49-4d5d-858d-41d03ab250c1",
      "metadata": {
        "id": "70352aab-9a49-4d5d-858d-41d03ab250c1"
      },
      "outputs": [],
      "source": [
        "#Write a program to create a function having a name, display. Print the message, “Welcome to\n",
        "#Python Programming” inside the function.\n",
        "def message():\n",
        "    print(\"Welcome to Python Programming \")\n"
      ]
    },
    {
      "cell_type": "code",
      "execution_count": null,
      "id": "b1321a02",
      "metadata": {
        "id": "b1321a02",
        "outputId": "b952ff25-0def-4101-8f14-f5bc9703a876"
      },
      "outputs": [
        {
          "name": "stdout",
          "output_type": "stream",
          "text": [
            "Welcome to Python Programming \n"
          ]
        }
      ],
      "source": [
        "message() #call function"
      ]
    },
    {
      "cell_type": "markdown",
      "id": "f6cff9ec",
      "metadata": {
        "id": "f6cff9ec"
      },
      "source": [
        "# Function with Parameter\n"
      ]
    },
    {
      "cell_type": "code",
      "execution_count": null,
      "id": "33aef474",
      "metadata": {
        "id": "33aef474"
      },
      "outputs": [],
      "source": [
        "def welcome_msg(name):\n",
        "    print(f\"Hi {name}, welcome to python Programming\")\n",
        "    "
      ]
    },
    {
      "cell_type": "code",
      "execution_count": null,
      "id": "3a57fea4",
      "metadata": {
        "id": "3a57fea4",
        "outputId": "c6864be5-075f-451e-8412-85aa99924626"
      },
      "outputs": [
        {
          "name": "stdout",
          "output_type": "stream",
          "text": [
            "Hi kiran, welcome to python Programming\n"
          ]
        }
      ],
      "source": [
        "welcome_msg(\"kiran\")"
      ]
    },
    {
      "cell_type": "code",
      "execution_count": null,
      "id": "794a95fd",
      "metadata": {
        "id": "794a95fd"
      },
      "outputs": [],
      "source": [
        ""
      ]
    },
    {
      "cell_type": "code",
      "execution_count": null,
      "id": "8f3e68e6",
      "metadata": {
        "id": "8f3e68e6"
      },
      "outputs": [],
      "source": [
        ""
      ]
    },
    {
      "cell_type": "code",
      "execution_count": null,
      "id": "39bfc7cd",
      "metadata": {
        "id": "39bfc7cd"
      },
      "outputs": [],
      "source": [
        ""
      ]
    },
    {
      "cell_type": "code",
      "execution_count": null,
      "id": "0a4096e5",
      "metadata": {
        "id": "0a4096e5"
      },
      "outputs": [],
      "source": [
        ""
      ]
    },
    {
      "cell_type": "code",
      "execution_count": null,
      "id": "60ff459b-c2ab-4c40-bc45-3786b8621629",
      "metadata": {
        "id": "60ff459b-c2ab-4c40-bc45-3786b8621629",
        "outputId": "53e210c5-4e8f-4c2c-8943-012e9e6d5693"
      },
      "outputs": [
        {
          "name": "stdout",
          "output_type": "stream",
          "text": [
            "Sum of integers from 1 to 25 is: 325\n",
            "Sum of integer from 50 to 76 is: 1625\n",
            "Sum of integer from 90 to 100 is: 1045\n"
          ]
        }
      ],
      "source": [
        "#Write a program to add the sum of digits from 1 to 25, 50 to 76 and 90 to 101 using three\n",
        "#different for loops.\n",
        "sum=0\n",
        "for i in range(1,26):\n",
        "        sum=sum+i\n",
        "print(\"Sum of integers from 1 to 25 is:\",sum)\n",
        "sum=0\n",
        "for i in range(50,76):\n",
        "            sum=sum+i\n",
        "print(\"Sum of integer from 50 to 76 is:\",sum)\n",
        "sum=0\n",
        "for i in range(90,101):\n",
        "            sum=sum+i\n",
        "print(\"Sum of integer from 90 to 100 is:\",sum)"
      ]
    },
    {
      "cell_type": "code",
      "execution_count": null,
      "id": "3a7f813c-dc73-4fa3-92bc-27568427fc87",
      "metadata": {
        "id": "3a7f813c-dc73-4fa3-92bc-27568427fc87",
        "outputId": "cfbefc65-9562-408b-84f3-4cea9c37a385"
      },
      "outputs": [
        {
          "name": "stdout",
          "output_type": "stream",
          "text": [
            "Sum of integers from  1  to  25  is  325\n",
            "Sum of integers from  50  to  75  is  1625\n",
            "Sum of integers from  90  to  100  is  1045\n"
          ]
        }
      ],
      "source": [
        "# Write a program to illustrate the use of functions.\n",
        "def sum(x,y):\n",
        "    '''summing of the given range data x,y'''\n",
        "    s=0;\n",
        "    for i in range(x,y+1):\n",
        "            s=s+i\n",
        "    print(\"Sum of integers from \",x,\" to \",y,\" is \",s)\n",
        "sum(1,25)\n",
        "sum(50,75)\n",
        "sum(90,100)"
      ]
    },
    {
      "cell_type": "code",
      "execution_count": null,
      "id": "95bf406a",
      "metadata": {
        "id": "95bf406a",
        "outputId": "91c704c8-430a-4a9f-e10a-6947a2c641c0"
      },
      "outputs": [
        {
          "name": "stdout",
          "output_type": "stream",
          "text": [
            "Help on function sum in module __main__:\n",
            "\n",
            "sum(x, y)\n",
            "    summing of the given range data x,y\n",
            "\n"
          ]
        }
      ],
      "source": [
        "help(sum)"
      ]
    },
    {
      "cell_type": "code",
      "execution_count": null,
      "id": "b9f83eb4",
      "metadata": {
        "id": "b9f83eb4",
        "outputId": "e2ea303e-9bdb-4cc1-fe61-6d377e2aa383"
      },
      "outputs": [
        {
          "data": {
            "text/plain": [
              "55"
            ]
          },
          "execution_count": 12,
          "metadata": {},
          "output_type": "execute_result"
        }
      ],
      "source": [
        "1+2+3+4+5+6+7+8+9+10\n"
      ]
    },
    {
      "cell_type": "code",
      "execution_count": null,
      "id": "6ed9b8d6",
      "metadata": {
        "id": "6ed9b8d6",
        "outputId": "77173b03-09dc-4c1c-d326-2eef11eeff28"
      },
      "outputs": [
        {
          "name": "stdout",
          "output_type": "stream",
          "text": [
            "Sum of integers from  10  to  20  is  165\n"
          ]
        }
      ],
      "source": [
        "sum(10,20)"
      ]
    },
    {
      "cell_type": "code",
      "execution_count": null,
      "id": "c6900936",
      "metadata": {
        "id": "c6900936",
        "outputId": "89adec42-3daa-4ed0-a8ba-972a7683c9c6"
      },
      "outputs": [
        {
          "name": "stdout",
          "output_type": "stream",
          "text": [
            "<class 'function'>\n"
          ]
        }
      ],
      "source": [
        "print(type(sum))"
      ]
    },
    {
      "cell_type": "code",
      "execution_count": null,
      "id": "39ba17dd",
      "metadata": {
        "id": "39ba17dd",
        "outputId": "7696cf15-3d6b-4414-e9c8-4ed082a1f4b3"
      },
      "outputs": [
        {
          "name": "stdout",
          "output_type": "stream",
          "text": [
            "<function sum at 0x000001BF010F7940>\n"
          ]
        }
      ],
      "source": [
        "print(sum)"
      ]
    },
    {
      "cell_type": "code",
      "execution_count": null,
      "id": "e06c4cb2-180d-42f3-872c-a76e843772db",
      "metadata": {
        "id": "e06c4cb2-180d-42f3-872c-a76e843772db",
        "outputId": "c3fcd16d-7138-4223-e314-a0c7dad30e0c"
      },
      "outputs": [
        {
          "name": "stdout",
          "output_type": "stream",
          "text": [
            "summing of the given range data x,y\n"
          ]
        }
      ],
      "source": [
        "print(sum.__doc__)"
      ]
    },
    {
      "cell_type": "code",
      "execution_count": null,
      "id": "9bd176aa-832b-475d-907e-75315eac2995",
      "metadata": {
        "id": "9bd176aa-832b-475d-907e-75315eac2995",
        "outputId": "1bc7d92f-e3c4-4676-b0fe-50e1b7e18a41"
      },
      "outputs": [
        {
          "name": "stdout",
          "output_type": "stream",
          "text": [
            "I am a function\n",
            "It is function with no return\n",
            "I am a function\n",
            "It is function with no return\n",
            "I am a function\n",
            "It is function with no return\n"
          ]
        }
      ],
      "source": [
        "# define a basic function\n",
        "def Say_msg():   # no argument\n",
        "    print(\"I am a function\")\n",
        "    print(\"It is function with no return\")\n",
        "\n",
        "Say_msg()\n",
        "Say_msg()\n",
        "Say_msg()\n",
        " "
      ]
    },
    {
      "cell_type": "code",
      "execution_count": null,
      "id": "59f0cbfc-d69d-4b68-b10b-fe4443d3a937",
      "metadata": {
        "id": "59f0cbfc-d69d-4b68-b10b-fe4443d3a937",
        "outputId": "c4072489-d769-48d7-cfd2-a088d86a6e0f"
      },
      "outputs": [
        {
          "name": "stdout",
          "output_type": "stream",
          "text": [
            "Hi karthikVenkatachalam welcome\n"
          ]
        }
      ],
      "source": [
        "def say_hi(Fname,Lname):\n",
        "    print(\"Hi\"+\" \"+ Fname+Lname +\" \"+\"welcome\")\n",
        "say_hi(\"karthik\",\"Venkatachalam\")"
      ]
    },
    {
      "cell_type": "markdown",
      "id": "26b2f454",
      "metadata": {
        "id": "26b2f454"
      },
      "source": [
        "# function with Parameter and Return "
      ]
    },
    {
      "cell_type": "code",
      "execution_count": null,
      "id": "f04a7ba8-f9f0-405b-9a70-26aa4651e69d",
      "metadata": {
        "id": "f04a7ba8-f9f0-405b-9a70-26aa4651e69d"
      },
      "outputs": [],
      "source": [
        "def add(a,b):\n",
        "    return (a+b)"
      ]
    },
    {
      "cell_type": "code",
      "execution_count": null,
      "id": "196f2f45",
      "metadata": {
        "id": "196f2f45"
      },
      "outputs": [],
      "source": [
        "result=add(3,7)"
      ]
    },
    {
      "cell_type": "code",
      "execution_count": null,
      "id": "7564c8f3",
      "metadata": {
        "id": "7564c8f3",
        "outputId": "828b9ed4-1f76-49ce-fdcd-770b2940705b"
      },
      "outputs": [
        {
          "data": {
            "text/plain": [
              "10"
            ]
          },
          "execution_count": 31,
          "metadata": {},
          "output_type": "execute_result"
        }
      ],
      "source": [
        "result"
      ]
    },
    {
      "cell_type": "code",
      "execution_count": null,
      "id": "5c0e254d",
      "metadata": {
        "id": "5c0e254d"
      },
      "outputs": [],
      "source": [
        "def add1(a,b):\n",
        "    print(a+b)"
      ]
    },
    {
      "cell_type": "code",
      "execution_count": null,
      "id": "399638aa",
      "metadata": {
        "id": "399638aa",
        "outputId": "094ef496-9eac-4921-d095-126ac496e8f3"
      },
      "outputs": [
        {
          "name": "stdout",
          "output_type": "stream",
          "text": [
            "9\n"
          ]
        }
      ],
      "source": [
        "result2=add1(4,5)"
      ]
    },
    {
      "cell_type": "code",
      "execution_count": null,
      "id": "3f6a9a19",
      "metadata": {
        "id": "3f6a9a19",
        "outputId": "75f1afcc-e0a8-4f06-81bb-f5b12219e6f3"
      },
      "outputs": [
        {
          "name": "stdout",
          "output_type": "stream",
          "text": [
            "None\n"
          ]
        }
      ],
      "source": [
        "print(result2)"
      ]
    },
    {
      "cell_type": "code",
      "execution_count": null,
      "id": "1cc1cece",
      "metadata": {
        "id": "1cc1cece"
      },
      "outputs": [],
      "source": [
        ""
      ]
    },
    {
      "cell_type": "code",
      "execution_count": null,
      "id": "6b9a0456-aff9-45e1-a41b-6d72040bc9ed",
      "metadata": {
        "id": "6b9a0456-aff9-45e1-a41b-6d72040bc9ed"
      },
      "outputs": [],
      "source": [
        "def add(a,b):   \n",
        "    print(a+b)  \n",
        "    return a*b \n",
        "add()\n",
        "\n"
      ]
    },
    {
      "cell_type": "markdown",
      "id": "0f2bd913",
      "metadata": {
        "id": "0f2bd913"
      },
      "source": [
        "# function with default argument"
      ]
    },
    {
      "cell_type": "code",
      "execution_count": null,
      "id": "de17f842-0ea6-4982-94d5-94ef6cf02e89",
      "metadata": {
        "id": "de17f842-0ea6-4982-94d5-94ef6cf02e89"
      },
      "outputs": [],
      "source": [
        "# function with default value for an argument\n",
        "def power(num, x=1): # x is dafault argument \n",
        "    result = 1\n",
        "    for i in range(x):\n",
        "        result = result * num\n",
        "    return result\n"
      ]
    },
    {
      "cell_type": "code",
      "execution_count": null,
      "id": "618a2351",
      "metadata": {
        "id": "618a2351",
        "outputId": "5b8e2b6e-968a-456c-f96a-8fa5f2224d74"
      },
      "outputs": [
        {
          "data": {
            "text/plain": [
              "1024"
            ]
          },
          "execution_count": 35,
          "metadata": {},
          "output_type": "execute_result"
        }
      ],
      "source": [
        "power(4,5)"
      ]
    },
    {
      "cell_type": "code",
      "execution_count": null,
      "id": "a3df1dfe",
      "metadata": {
        "id": "a3df1dfe",
        "outputId": "343851da-5fb8-4441-baf8-38be5cfa738e"
      },
      "outputs": [
        {
          "ename": "SyntaxError",
          "evalue": "non-default argument follows default argument (3706058313.py, line 2)",
          "output_type": "error",
          "traceback": [
            "\u001b[1;36m  Input \u001b[1;32mIn [36]\u001b[1;36m\u001b[0m\n\u001b[1;33m    def power(x=1,num): # x is dafault argument\u001b[0m\n\u001b[1;37m                     ^\u001b[0m\n\u001b[1;31mSyntaxError\u001b[0m\u001b[1;31m:\u001b[0m non-default argument follows default argument\n"
          ]
        }
      ],
      "source": [
        "# function with default value for an argument\n",
        "def power(x=1,num): # x is dafault argument \n",
        "    result = 1\n",
        "    for i in range(x):\n",
        "        result = result * num\n",
        "    return result\n"
      ]
    },
    {
      "cell_type": "code",
      "execution_count": null,
      "id": "725ca293",
      "metadata": {
        "id": "725ca293"
      },
      "outputs": [],
      "source": [
        ""
      ]
    },
    {
      "cell_type": "markdown",
      "id": "5ec6b078",
      "metadata": {
        "id": "5ec6b078"
      },
      "source": [
        "# function with variable number of arguments"
      ]
    },
    {
      "cell_type": "code",
      "execution_count": null,
      "id": "d3e264d2",
      "metadata": {
        "id": "d3e264d2"
      },
      "outputs": [],
      "source": [
        "# function with variable number of arguments\n",
        "def multi_add(*args):\n",
        "    result = 0\n",
        "    #print(args)\n",
        "    for x in args:\n",
        "        result = result + x\n",
        "    return result"
      ]
    },
    {
      "cell_type": "code",
      "execution_count": null,
      "id": "3d23f9e8",
      "metadata": {
        "id": "3d23f9e8",
        "outputId": "861396f8-9e77-46af-c3d1-5b888f6332d9"
      },
      "outputs": [
        {
          "name": "stdout",
          "output_type": "stream",
          "text": [
            "20\n"
          ]
        }
      ],
      "source": [
        "print(multi_add(2,4,6,8))"
      ]
    },
    {
      "cell_type": "code",
      "execution_count": null,
      "id": "b3b729e7",
      "metadata": {
        "id": "b3b729e7",
        "outputId": "58c482de-c68f-4953-f2f2-ca771e0d34e5"
      },
      "outputs": [
        {
          "name": "stdout",
          "output_type": "stream",
          "text": [
            "120\n"
          ]
        }
      ],
      "source": [
        "print(multi_add(10,2,20,8,30,50))"
      ]
    },
    {
      "cell_type": "code",
      "execution_count": null,
      "id": "c700134b",
      "metadata": {
        "id": "c700134b"
      },
      "outputs": [],
      "source": [
        "def test(a,b,*c):\n",
        "    print(\"first two data add\",a+b)\n",
        "    result=0\n",
        "    for x in c:\n",
        "        result = result + x\n",
        "    print(\"Multiple value add\", result)"
      ]
    },
    {
      "cell_type": "code",
      "execution_count": null,
      "id": "131e61e6",
      "metadata": {
        "id": "131e61e6",
        "outputId": "55c6dd50-1744-4fd4-c222-c79160d45a4f"
      },
      "outputs": [
        {
          "name": "stdout",
          "output_type": "stream",
          "text": [
            "first two data add 10\n",
            "Multiple value add 30\n"
          ]
        }
      ],
      "source": [
        "test(5,5,6,7,8,9)"
      ]
    },
    {
      "cell_type": "code",
      "execution_count": null,
      "id": "cc9a9f77",
      "metadata": {
        "id": "cc9a9f77"
      },
      "outputs": [],
      "source": [
        ""
      ]
    },
    {
      "cell_type": "code",
      "execution_count": null,
      "id": "915e330b",
      "metadata": {
        "id": "915e330b",
        "outputId": "0f995345-ff9a-4b34-8000-fa926fbbfc91"
      },
      "outputs": [
        {
          "name": "stdout",
          "output_type": "stream",
          "text": [
            "a is 3 and b is 7 and c is 10\n",
            "a is 25 and b is 5 and c is 24\n",
            "a is 100 and b is 5 and c is 50\n"
          ]
        }
      ],
      "source": [
        "def func(a, b=5, c=10):# default argument b,c\n",
        "    print ('a is', a, 'and b is', b, 'and c is', c)\n",
        "\n",
        "func(3, 7) # c value is default\n",
        "func(25, c=24) # c is keyword argument key=value \n",
        "func(c=50, a=100) # c, a is keyword argument"
      ]
    },
    {
      "cell_type": "code",
      "execution_count": null,
      "id": "6fecca51",
      "metadata": {
        "id": "6fecca51",
        "outputId": "1f6cebe0-3791-44b7-cbf4-b503a34b943f"
      },
      "outputs": [
        {
          "name": "stdout",
          "output_type": "stream",
          "text": [
            "a is 18 and b is 5 and c is 10\n"
          ]
        }
      ],
      "source": [
        "func(18)"
      ]
    },
    {
      "cell_type": "code",
      "execution_count": null,
      "id": "810921e5-330d-4cc6-b10e-10db798cb476",
      "metadata": {
        "id": "810921e5-330d-4cc6-b10e-10db798cb476",
        "outputId": "f94fdd67-d117-4938-e079-7083f7d8c676"
      },
      "outputs": [
        {
          "name": "stdout",
          "output_type": "stream",
          "text": [
            "8\n",
            "16\n"
          ]
        }
      ],
      "source": [
        "def cube(n):\n",
        "    return (n*n*n)\n",
        "def sqr(n):\n",
        "    return n*n\n",
        "\n",
        "print(cube(2))\n",
        "print(sqr(4))\n",
        "    "
      ]
    },
    {
      "cell_type": "markdown",
      "id": "ecc0624f",
      "metadata": {
        "id": "ecc0624f"
      },
      "source": [
        "# Arbitrary Keyword Arguments"
      ]
    },
    {
      "cell_type": "code",
      "execution_count": null,
      "id": "d81fc81d-9cb2-4ea2-bbeb-eefa23b3818e",
      "metadata": {
        "id": "d81fc81d-9cb2-4ea2-bbeb-eefa23b3818e",
        "outputId": "120187e6-a83b-436d-cc3a-c5f2d9aa8f3a"
      },
      "outputs": [
        {
          "name": "stdout",
          "output_type": "stream",
          "text": [
            "{'name': 'ram', 'age': 25, 'city': 'bangalore', 'phone': 123343}\n",
            "name ram\n",
            "age 25\n",
            "city bangalore\n",
            "phone 123343\n"
          ]
        }
      ],
      "source": [
        "def fun1(**kwarg): # Arbitrary Keyword Arguments\n",
        "    print(kwarg)\n",
        "    for i in kwarg:\n",
        "        print(i,kwarg[i])\n",
        "fun1(name=\"ram\",age=25,city=\"bangalore\",phone=123343)"
      ]
    },
    {
      "cell_type": "code",
      "execution_count": null,
      "id": "c48ec056-7060-44b7-8439-933a862c616d",
      "metadata": {
        "id": "c48ec056-7060-44b7-8439-933a862c616d"
      },
      "outputs": [],
      "source": [
        ""
      ]
    },
    {
      "cell_type": "code",
      "execution_count": null,
      "id": "b94937ae-ef8b-4be1-848d-ed6939a17a0e",
      "metadata": {
        "id": "b94937ae-ef8b-4be1-848d-ed6939a17a0e",
        "outputId": "562f8e90-d576-4f4c-8509-3fb8f6ec3faf"
      },
      "outputs": [
        {
          "name": "stdout",
          "output_type": "stream",
          "text": [
            "{'__name__': '__main__', '__doc__': 'Automatically created module for IPython interactive environment', '__package__': None, '__loader__': None, '__spec__': None, '__builtin__': <module 'builtins' (built-in)>, '__builtins__': <module 'builtins' (built-in)>, '_ih': ['', '#Write a program to add the sum of digits from 1 to 25, 50 to 76 and 90 to 101 using three\\n#different for loops.\\nsum=0\\nfor i in range(1,26):\\n        sum=sum+i\\n        print(\"Sum of integers from 1 to 25 is:\",sum)\\nsum=0\\nfor i in range(50,76):\\n            sum=sum+i\\n            print(\"Sum of integer from 50 to 76 is:\",sum)\\nsum=0\\nfor i in range(90,101):\\n            sum=sum+i\\n            print(\"Sum of integer from 90 to 100 is:\",sum)', '#Write a program to add the sum of digits from 1 to 25, 50 to 76 and 90 to 101 using three\\n#different for loops.\\nsum=0\\nfor i in range(1,26):\\n        sum=sum+i\\nprint(\"Sum of integers from 1 to 25 is:\",sum)\\nsum=0\\nfor i in range(50,76):\\n            sum=sum+i\\nprint(\"Sum of integer from 50 to 76 is:\",sum)\\nsum=0\\nfor i in range(90,101):\\n            sum=sum+i\\nprint(\"Sum of integer from 90 to 100 is:\",sum)', '# Write a program to illustrate the use of functions.\\ndef sum(x,y):\\n    s=0;\\n    for i in range(x,y+1):\\n            s=s+i\\nprint(‘Sum of integers from ‘,x,’ to ‘,y,’ is ‘,s)\\nsum(1,25)\\nsum(50,75)\\nsum(90,100)', '# Write a program to illustrate the use of functions.\\ndef sum(x,y):\\n    s=0;\\n    for i in range(x,y+1):\\n            s=s+i\\nprint(\"Sum of integers from \",x,\" to \",y,\" is \",s)\\nsum(1,25)\\nsum(50,75)\\nsum(90,100)', '# Write a program to illustrate the use of functions.\\ndef sum(x,y):\\n    s=0;\\n    for i in range(x,y+1):\\n            s=s+i\\n    print(\"Sum of integers from \",x,\" to \",y,\" is \",s)\\nsum(1,25)\\nsum(50,75)\\nsum(90,100)', '# Write a program to illustrate the use of functions.\\ndef sum(x,y):\\n    \\'this is doc\\'\\n    s=0;\\n    for i in range(x,y+1):\\n            s=s+i\\n    print(\"Sum of integers from \",x,\" to \",y,\" is \",s)\\nsum(1,25)\\nsum(50,75)\\nsum(90,100)', 'print(sum.__doc__)', 'print(sum.__doc__)', '# Write a program to illustrate the use of functions.\\ndef sum(x,y):\\n    \\'this is docunt about function\\'\\n    s=0;\\n    for i in range(x,y+1):\\n            s=s+i\\n    print(\"Sum of integers from \",x,\" to \",y,\" is \",s)\\nsum(1,25)\\nsum(50,75)\\nsum(90,100)', 'print(sum.__doc__)', '# define a basic function\\ndef Say_msg():   # no argument\\n    print(\"I am a function\")\\n\\nSay_msg()\\n    \\n\\n    \\n    \\n    \\n    \\n    \\n    \\n    \\n    \\n    \\n    \\n    \\n    \\n    \\n    \\n    \\n    ', '# define a basic function\\ndef Say_msg():   # no argument\\n    print(\"I am a function\")\\n    print(\"It is function with no return)\\n\\nSay_msg()\\n    \\n \\n    \\n    \\n    \\n    \\n    \\n    \\n    \\n    \\n    \\n    ', '# define a basic function\\ndef Say_msg():   # no argument\\n    print(\"I am a function\")\\n    print(\"It is function with no return\"\\n\\nSay_msg()\\n    \\n \\n    \\n    \\n    \\n    \\n    \\n    \\n    \\n    \\n    \\n    ', '# define a basic function\\ndef Say_msg():   # no argument\\n    print(\"I am a function\")\\n    print(\"It is function with no return\")\\n\\nSay_msg()\\n    \\n \\n    \\n    \\n    \\n    \\n    \\n    \\n    \\n    \\n    \\n    ', '# define a basic function\\ndef Say_msg():   # no argument\\n    print(\"I am a function\")\\n    print(\"It is function with no return\")\\n\\nSay_msg()\\nSay_msg()\\nSay_msg()\\n ', 'def say_hi(name):\\n    print(\"Hi\"+ name +\"welcome\")\\nsay_hi(\"karthik\")', 'def say_hi(name):\\n    print(\"Hi\"+\" \"+ name +\" \"+\"welcome\")\\nsay_hi(\"karthik\")', 'def say_hi():\\n    print(\"Hi\"+\" \"+ name +\" \"+\"welcome\")\\nsay_hi(\"karthik\")', 'def say_hi(Fname,Lname):\\n    print(\"Hi\"+\" \"+ Fname+Lname +\" \"+\"welcome\")\\nsay_hi(\"karthik\",\"Venkatachalam\")', '# function that returns a value\\ndef cube(x):\\n    return x*x*x\\n\\nc=cube(3)\\nprint(c)', '# function that returns a value\\ndef cube(x):\\n    print(x*x*x)\\n    #return x*x*x\\n\\nc=cube(3)\\nprint(c)', '# function that returns a value\\ndef cube(x):\\n    print(x*x*x)\\n    #return x*x*x\\ncube(2)\\nc=cube(3)\\nprint(c)', '# function that returns a value\\ndef cube(x):\\n    #print(x*x*x)\\n    return x*x*x\\ncube(2)\\nc=cube(3)\\nprint(c)', '# function that returns a value\\ndef cube(x):\\n    #print(x*x*x)\\n    return x*x*x\\nprint(cube(2)) #\\nc=cube(3)\\nprint(c)', 'def add(a,b):\\n    print(a+b)\\nadd(3,4)\\n    \\n    \\n    \\n    \\n    ', 'def add(a,b):\\n    print(a+b)\\n    return a*b\\nadd(3,4)\\nc=add(3,4)\\nprint(c)\\n    \\n    \\n    \\n    \\n    ', 'def add(a,b):\\n    print(a+b)\\n    return a*b\\nadd(3,4)\\nc=add(3,4)\\n#print(c) \\n    \\n    \\n    \\n    \\n    ', 'def add(a,b):\\n    print(a+b)\\n    #return a*b\\nadd(3,4)\\nc=add(3,4)\\n#print(c) \\n    \\n    \\n    \\n    \\n    ', 'def add(a,b):\\n    print(a+b)\\n    #return a*b\\nx=add(3,4)\\nc=add(3,4)\\nprint(c,d) \\n    \\n    \\n    \\n    \\n    ', 'def add(a,b):\\n    print(a+b)\\n    #return a*b\\nx=add(3,4)\\nc=add(3,4)\\nprint(c,d) \\n    \\n    \\n    \\n    \\n    ', 'def add(a,b):\\n    print(a+b)\\n    #return a*b\\nx=add(3,4)\\nc=add(3,4)\\nprint(x,c) \\n    \\n    \\n    \\n    \\n    ', '#Write a program to create a function having a name, display. Print the message, “Welcome to\\n#Python Programming” inside the function.\\ndef Display():\\n    print(\"Welcome to Python Programming \")\\nDisplay() #call function', '#Write a program to add the sum of digits from 1 to 25, 50 to 76 and 90 to 101 using three\\n#different for loops.\\nsum=0\\nfor i in range(1,26):\\n        sum=sum+i\\nprint(\"Sum of integers from 1 to 25 is:\",sum)\\nsum=0\\nfor i in range(50,76):\\n            sum=sum+i\\nprint(\"Sum of integer from 50 to 76 is:\",sum)\\nsum=0\\nfor i in range(90,101):\\n            sum=sum+i\\nprint(\"Sum of integer from 90 to 100 is:\",sum)', '# Write a program to illustrate the use of functions.\\ndef sum(x,y):\\n    \\'summing of the range data\\'\\n    s=0;\\n    for i in range(x,y+1):\\n            s=s+i\\n    print(\"Sum of integers from \",x,\" to \",y,\" is \",s)\\nsum(1,25)\\nsum(50,75)\\nsum(90,100)', 'sum(1,25)', 'sum(1,5)', 'print(sum.__doc__)', 'print(max().__doc__)', 'print(max(2).__doc__)', 'print(dir().__doc__)', 'print(sum.__doc__)', '# function with default value for an argument\\ndef power(num, x=1):\\n    result = 1\\n    for i in range(x):\\n        result = result * num\\n    return result\\npower(2,3)', '# function with default value for an argument\\ndef power(num, x=1):\\n    result = 1\\n    for i in range(x):\\n        result = result * num\\n    return result\\npower(2,3)', '# function with default value for an argument\\ndef power(num, x=1):\\n    result = 1\\n    for i in range(x):\\n        result = result * num\\n    return result\\npower(2,3)', '# function with default value for an argument\\ndef power(num, x=1):\\n    result = 1\\n    for i in range(x):\\n        result = result * num\\n    return result\\nprint(power(2,3))', 'print(global())', 'print(globals())'], '_oh': {42: 8, 43: 8, 44: 8}, '_dh': ['C:\\\\Users\\\\karthik'], 'In': ['', '#Write a program to add the sum of digits from 1 to 25, 50 to 76 and 90 to 101 using three\\n#different for loops.\\nsum=0\\nfor i in range(1,26):\\n        sum=sum+i\\n        print(\"Sum of integers from 1 to 25 is:\",sum)\\nsum=0\\nfor i in range(50,76):\\n            sum=sum+i\\n            print(\"Sum of integer from 50 to 76 is:\",sum)\\nsum=0\\nfor i in range(90,101):\\n            sum=sum+i\\n            print(\"Sum of integer from 90 to 100 is:\",sum)', '#Write a program to add the sum of digits from 1 to 25, 50 to 76 and 90 to 101 using three\\n#different for loops.\\nsum=0\\nfor i in range(1,26):\\n        sum=sum+i\\nprint(\"Sum of integers from 1 to 25 is:\",sum)\\nsum=0\\nfor i in range(50,76):\\n            sum=sum+i\\nprint(\"Sum of integer from 50 to 76 is:\",sum)\\nsum=0\\nfor i in range(90,101):\\n            sum=sum+i\\nprint(\"Sum of integer from 90 to 100 is:\",sum)', '# Write a program to illustrate the use of functions.\\ndef sum(x,y):\\n    s=0;\\n    for i in range(x,y+1):\\n            s=s+i\\nprint(‘Sum of integers from ‘,x,’ to ‘,y,’ is ‘,s)\\nsum(1,25)\\nsum(50,75)\\nsum(90,100)', '# Write a program to illustrate the use of functions.\\ndef sum(x,y):\\n    s=0;\\n    for i in range(x,y+1):\\n            s=s+i\\nprint(\"Sum of integers from \",x,\" to \",y,\" is \",s)\\nsum(1,25)\\nsum(50,75)\\nsum(90,100)', '# Write a program to illustrate the use of functions.\\ndef sum(x,y):\\n    s=0;\\n    for i in range(x,y+1):\\n            s=s+i\\n    print(\"Sum of integers from \",x,\" to \",y,\" is \",s)\\nsum(1,25)\\nsum(50,75)\\nsum(90,100)', '# Write a program to illustrate the use of functions.\\ndef sum(x,y):\\n    \\'this is doc\\'\\n    s=0;\\n    for i in range(x,y+1):\\n            s=s+i\\n    print(\"Sum of integers from \",x,\" to \",y,\" is \",s)\\nsum(1,25)\\nsum(50,75)\\nsum(90,100)', 'print(sum.__doc__)', 'print(sum.__doc__)', '# Write a program to illustrate the use of functions.\\ndef sum(x,y):\\n    \\'this is docunt about function\\'\\n    s=0;\\n    for i in range(x,y+1):\\n            s=s+i\\n    print(\"Sum of integers from \",x,\" to \",y,\" is \",s)\\nsum(1,25)\\nsum(50,75)\\nsum(90,100)', 'print(sum.__doc__)', '# define a basic function\\ndef Say_msg():   # no argument\\n    print(\"I am a function\")\\n\\nSay_msg()\\n    \\n\\n    \\n    \\n    \\n    \\n    \\n    \\n    \\n    \\n    \\n    \\n    \\n    \\n    \\n    \\n    \\n    ', '# define a basic function\\ndef Say_msg():   # no argument\\n    print(\"I am a function\")\\n    print(\"It is function with no return)\\n\\nSay_msg()\\n    \\n \\n    \\n    \\n    \\n    \\n    \\n    \\n    \\n    \\n    \\n    ', '# define a basic function\\ndef Say_msg():   # no argument\\n    print(\"I am a function\")\\n    print(\"It is function with no return\"\\n\\nSay_msg()\\n    \\n \\n    \\n    \\n    \\n    \\n    \\n    \\n    \\n    \\n    \\n    ', '# define a basic function\\ndef Say_msg():   # no argument\\n    print(\"I am a function\")\\n    print(\"It is function with no return\")\\n\\nSay_msg()\\n    \\n \\n    \\n    \\n    \\n    \\n    \\n    \\n    \\n    \\n    \\n    ', '# define a basic function\\ndef Say_msg():   # no argument\\n    print(\"I am a function\")\\n    print(\"It is function with no return\")\\n\\nSay_msg()\\nSay_msg()\\nSay_msg()\\n ', 'def say_hi(name):\\n    print(\"Hi\"+ name +\"welcome\")\\nsay_hi(\"karthik\")', 'def say_hi(name):\\n    print(\"Hi\"+\" \"+ name +\" \"+\"welcome\")\\nsay_hi(\"karthik\")', 'def say_hi():\\n    print(\"Hi\"+\" \"+ name +\" \"+\"welcome\")\\nsay_hi(\"karthik\")', 'def say_hi(Fname,Lname):\\n    print(\"Hi\"+\" \"+ Fname+Lname +\" \"+\"welcome\")\\nsay_hi(\"karthik\",\"Venkatachalam\")', '# function that returns a value\\ndef cube(x):\\n    return x*x*x\\n\\nc=cube(3)\\nprint(c)', '# function that returns a value\\ndef cube(x):\\n    print(x*x*x)\\n    #return x*x*x\\n\\nc=cube(3)\\nprint(c)', '# function that returns a value\\ndef cube(x):\\n    print(x*x*x)\\n    #return x*x*x\\ncube(2)\\nc=cube(3)\\nprint(c)', '# function that returns a value\\ndef cube(x):\\n    #print(x*x*x)\\n    return x*x*x\\ncube(2)\\nc=cube(3)\\nprint(c)', '# function that returns a value\\ndef cube(x):\\n    #print(x*x*x)\\n    return x*x*x\\nprint(cube(2)) #\\nc=cube(3)\\nprint(c)', 'def add(a,b):\\n    print(a+b)\\nadd(3,4)\\n    \\n    \\n    \\n    \\n    ', 'def add(a,b):\\n    print(a+b)\\n    return a*b\\nadd(3,4)\\nc=add(3,4)\\nprint(c)\\n    \\n    \\n    \\n    \\n    ', 'def add(a,b):\\n    print(a+b)\\n    return a*b\\nadd(3,4)\\nc=add(3,4)\\n#print(c) \\n    \\n    \\n    \\n    \\n    ', 'def add(a,b):\\n    print(a+b)\\n    #return a*b\\nadd(3,4)\\nc=add(3,4)\\n#print(c) \\n    \\n    \\n    \\n    \\n    ', 'def add(a,b):\\n    print(a+b)\\n    #return a*b\\nx=add(3,4)\\nc=add(3,4)\\nprint(c,d) \\n    \\n    \\n    \\n    \\n    ', 'def add(a,b):\\n    print(a+b)\\n    #return a*b\\nx=add(3,4)\\nc=add(3,4)\\nprint(c,d) \\n    \\n    \\n    \\n    \\n    ', 'def add(a,b):\\n    print(a+b)\\n    #return a*b\\nx=add(3,4)\\nc=add(3,4)\\nprint(x,c) \\n    \\n    \\n    \\n    \\n    ', '#Write a program to create a function having a name, display. Print the message, “Welcome to\\n#Python Programming” inside the function.\\ndef Display():\\n    print(\"Welcome to Python Programming \")\\nDisplay() #call function', '#Write a program to add the sum of digits from 1 to 25, 50 to 76 and 90 to 101 using three\\n#different for loops.\\nsum=0\\nfor i in range(1,26):\\n        sum=sum+i\\nprint(\"Sum of integers from 1 to 25 is:\",sum)\\nsum=0\\nfor i in range(50,76):\\n            sum=sum+i\\nprint(\"Sum of integer from 50 to 76 is:\",sum)\\nsum=0\\nfor i in range(90,101):\\n            sum=sum+i\\nprint(\"Sum of integer from 90 to 100 is:\",sum)', '# Write a program to illustrate the use of functions.\\ndef sum(x,y):\\n    \\'summing of the range data\\'\\n    s=0;\\n    for i in range(x,y+1):\\n            s=s+i\\n    print(\"Sum of integers from \",x,\" to \",y,\" is \",s)\\nsum(1,25)\\nsum(50,75)\\nsum(90,100)', 'sum(1,25)', 'sum(1,5)', 'print(sum.__doc__)', 'print(max().__doc__)', 'print(max(2).__doc__)', 'print(dir().__doc__)', 'print(sum.__doc__)', '# function with default value for an argument\\ndef power(num, x=1):\\n    result = 1\\n    for i in range(x):\\n        result = result * num\\n    return result\\npower(2,3)', '# function with default value for an argument\\ndef power(num, x=1):\\n    result = 1\\n    for i in range(x):\\n        result = result * num\\n    return result\\npower(2,3)', '# function with default value for an argument\\ndef power(num, x=1):\\n    result = 1\\n    for i in range(x):\\n        result = result * num\\n    return result\\npower(2,3)', '# function with default value for an argument\\ndef power(num, x=1):\\n    result = 1\\n    for i in range(x):\\n        result = result * num\\n    return result\\nprint(power(2,3))', 'print(global())', 'print(globals())'], 'Out': {42: 8, 43: 8, 44: 8}, 'get_ipython': <bound method InteractiveShell.get_ipython of <ipykernel.zmqshell.ZMQInteractiveShell object at 0x0000020D67D83B50>>, 'exit': <IPython.core.autocall.ZMQExitAutocall object at 0x0000020D67DBF910>, 'quit': <IPython.core.autocall.ZMQExitAutocall object at 0x0000020D67DBF910>, '_': 8, '__': 8, '___': 8, '_i': 'print(global())', '_ii': '# function with default value for an argument\\ndef power(num, x=1):\\n    result = 1\\n    for i in range(x):\\n        result = result * num\\n    return result\\nprint(power(2,3))', '_iii': '# function with default value for an argument\\ndef power(num, x=1):\\n    result = 1\\n    for i in range(x):\\n        result = result * num\\n    return result\\npower(2,3)', '_i1': '#Write a program to add the sum of digits from 1 to 25, 50 to 76 and 90 to 101 using three\\n#different for loops.\\nsum=0\\nfor i in range(1,26):\\n        sum=sum+i\\n        print(\"Sum of integers from 1 to 25 is:\",sum)\\nsum=0\\nfor i in range(50,76):\\n            sum=sum+i\\n            print(\"Sum of integer from 50 to 76 is:\",sum)\\nsum=0\\nfor i in range(90,101):\\n            sum=sum+i\\n            print(\"Sum of integer from 90 to 100 is:\",sum)', 'sum': <function sum at 0x0000020D67F0AA60>, 'i': 100, '_i2': '#Write a program to add the sum of digits from 1 to 25, 50 to 76 and 90 to 101 using three\\n#different for loops.\\nsum=0\\nfor i in range(1,26):\\n        sum=sum+i\\nprint(\"Sum of integers from 1 to 25 is:\",sum)\\nsum=0\\nfor i in range(50,76):\\n            sum=sum+i\\nprint(\"Sum of integer from 50 to 76 is:\",sum)\\nsum=0\\nfor i in range(90,101):\\n            sum=sum+i\\nprint(\"Sum of integer from 90 to 100 is:\",sum)', '_i3': '# Write a program to illustrate the use of functions.\\ndef sum(x,y):\\n    s=0;\\n    for i in range(x,y+1):\\n            s=s+i\\nprint(‘Sum of integers from ‘,x,’ to ‘,y,’ is ‘,s)\\nsum(1,25)\\nsum(50,75)\\nsum(90,100)', '_i4': '# Write a program to illustrate the use of functions.\\ndef sum(x,y):\\n    s=0;\\n    for i in range(x,y+1):\\n            s=s+i\\nprint(\"Sum of integers from \",x,\" to \",y,\" is \",s)\\nsum(1,25)\\nsum(50,75)\\nsum(90,100)', '_i5': '# Write a program to illustrate the use of functions.\\ndef sum(x,y):\\n    s=0;\\n    for i in range(x,y+1):\\n            s=s+i\\n    print(\"Sum of integers from \",x,\" to \",y,\" is \",s)\\nsum(1,25)\\nsum(50,75)\\nsum(90,100)', '_i6': '# Write a program to illustrate the use of functions.\\ndef sum(x,y):\\n    \\'this is doc\\'\\n    s=0;\\n    for i in range(x,y+1):\\n            s=s+i\\n    print(\"Sum of integers from \",x,\" to \",y,\" is \",s)\\nsum(1,25)\\nsum(50,75)\\nsum(90,100)', '_i7': 'print(sum.__doc__)', '_i8': 'print(sum.__doc__)', '_i9': '# Write a program to illustrate the use of functions.\\ndef sum(x,y):\\n    \\'this is docunt about function\\'\\n    s=0;\\n    for i in range(x,y+1):\\n            s=s+i\\n    print(\"Sum of integers from \",x,\" to \",y,\" is \",s)\\nsum(1,25)\\nsum(50,75)\\nsum(90,100)', '_i10': 'print(sum.__doc__)', '_i11': '# define a basic function\\ndef Say_msg():   # no argument\\n    print(\"I am a function\")\\n\\nSay_msg()\\n    \\n\\n    \\n    \\n    \\n    \\n    \\n    \\n    \\n    \\n    \\n    \\n    \\n    \\n    \\n    \\n    \\n    ', 'Say_msg': <function Say_msg at 0x0000020D67E2AEE0>, '_i12': '# define a basic function\\ndef Say_msg():   # no argument\\n    print(\"I am a function\")\\n    print(\"It is function with no return)\\n\\nSay_msg()\\n    \\n \\n    \\n    \\n    \\n    \\n    \\n    \\n    \\n    \\n    \\n    ', '_i13': '# define a basic function\\ndef Say_msg():   # no argument\\n    print(\"I am a function\")\\n    print(\"It is function with no return\"\\n\\nSay_msg()\\n    \\n \\n    \\n    \\n    \\n    \\n    \\n    \\n    \\n    \\n    \\n    ', '_i14': '# define a basic function\\ndef Say_msg():   # no argument\\n    print(\"I am a function\")\\n    print(\"It is function with no return\")\\n\\nSay_msg()\\n    \\n \\n    \\n    \\n    \\n    \\n    \\n    \\n    \\n    \\n    \\n    ', '_i15': '# define a basic function\\ndef Say_msg():   # no argument\\n    print(\"I am a function\")\\n    print(\"It is function with no return\")\\n\\nSay_msg()\\nSay_msg()\\nSay_msg()\\n ', '_i16': 'def say_hi(name):\\n    print(\"Hi\"+ name +\"welcome\")\\nsay_hi(\"karthik\")', 'say_hi': <function say_hi at 0x0000020D67F0A0D0>, '_i17': 'def say_hi(name):\\n    print(\"Hi\"+\" \"+ name +\" \"+\"welcome\")\\nsay_hi(\"karthik\")', '_i18': 'def say_hi():\\n    print(\"Hi\"+\" \"+ name +\" \"+\"welcome\")\\nsay_hi(\"karthik\")', '_i19': 'def say_hi(Fname,Lname):\\n    print(\"Hi\"+\" \"+ Fname+Lname +\" \"+\"welcome\")\\nsay_hi(\"karthik\",\"Venkatachalam\")', '_i20': '# function that returns a value\\ndef cube(x):\\n    return x*x*x\\n\\nc=cube(3)\\nprint(c)', 'cube': <function cube at 0x0000020D67F0A5E0>, 'c': None, '_i21': '# function that returns a value\\ndef cube(x):\\n    print(x*x*x)\\n    #return x*x*x\\n\\nc=cube(3)\\nprint(c)', '_i22': '# function that returns a value\\ndef cube(x):\\n    print(x*x*x)\\n    #return x*x*x\\ncube(2)\\nc=cube(3)\\nprint(c)', '_i23': '# function that returns a value\\ndef cube(x):\\n    #print(x*x*x)\\n    return x*x*x\\ncube(2)\\nc=cube(3)\\nprint(c)', '_i24': '# function that returns a value\\ndef cube(x):\\n    #print(x*x*x)\\n    return x*x*x\\nprint(cube(2)) #\\nc=cube(3)\\nprint(c)', '_i25': 'def add(a,b):\\n    print(a+b)\\nadd(3,4)\\n    \\n    \\n    \\n    \\n    ', 'add': <function add at 0x0000020D67F0A430>, '_i26': 'def add(a,b):\\n    print(a+b)\\n    return a*b\\nadd(3,4)\\nc=add(3,4)\\nprint(c)\\n    \\n    \\n    \\n    \\n    ', '_i27': 'def add(a,b):\\n    print(a+b)\\n    return a*b\\nadd(3,4)\\nc=add(3,4)\\n#print(c) \\n    \\n    \\n    \\n    \\n    ', '_i28': 'def add(a,b):\\n    print(a+b)\\n    #return a*b\\nadd(3,4)\\nc=add(3,4)\\n#print(c) \\n    \\n    \\n    \\n    \\n    ', '_i29': 'def add(a,b):\\n    print(a+b)\\n    #return a*b\\nx=add(3,4)\\nc=add(3,4)\\nprint(c,d) \\n    \\n    \\n    \\n    \\n    ', 'x': None, '_i30': 'def add(a,b):\\n    print(a+b)\\n    #return a*b\\nx=add(3,4)\\nc=add(3,4)\\nprint(c,d) \\n    \\n    \\n    \\n    \\n    ', '_i31': 'def add(a,b):\\n    print(a+b)\\n    #return a*b\\nx=add(3,4)\\nc=add(3,4)\\nprint(x,c) \\n    \\n    \\n    \\n    \\n    ', '_i32': '#Write a program to create a function having a name, display. Print the message, “Welcome to\\n#Python Programming” inside the function.\\ndef Display():\\n    print(\"Welcome to Python Programming \")\\nDisplay() #call function', 'Display': <function Display at 0x0000020D67F0A820>, '_i33': '#Write a program to add the sum of digits from 1 to 25, 50 to 76 and 90 to 101 using three\\n#different for loops.\\nsum=0\\nfor i in range(1,26):\\n        sum=sum+i\\nprint(\"Sum of integers from 1 to 25 is:\",sum)\\nsum=0\\nfor i in range(50,76):\\n            sum=sum+i\\nprint(\"Sum of integer from 50 to 76 is:\",sum)\\nsum=0\\nfor i in range(90,101):\\n            sum=sum+i\\nprint(\"Sum of integer from 90 to 100 is:\",sum)', '_i34': '# Write a program to illustrate the use of functions.\\ndef sum(x,y):\\n    \\'summing of the range data\\'\\n    s=0;\\n    for i in range(x,y+1):\\n            s=s+i\\n    print(\"Sum of integers from \",x,\" to \",y,\" is \",s)\\nsum(1,25)\\nsum(50,75)\\nsum(90,100)', '_i35': 'sum(1,25)', '_i36': 'sum(1,5)', '_i37': 'print(sum.__doc__)', '_i38': 'print(max().__doc__)', '_i39': 'print(max(2).__doc__)', '_i40': 'print(dir().__doc__)', '_i41': 'print(sum.__doc__)', '_i42': '# function with default value for an argument\\ndef power(num, x=1):\\n    result = 1\\n    for i in range(x):\\n        result = result * num\\n    return result\\npower(2,3)', 'power': <function power at 0x0000020D67F0AE50>, '_42': 8, '_i43': '# function with default value for an argument\\ndef power(num, x=1):\\n    result = 1\\n    for i in range(x):\\n        result = result * num\\n    return result\\npower(2,3)', '_43': 8, '_i44': '# function with default value for an argument\\ndef power(num, x=1):\\n    result = 1\\n    for i in range(x):\\n        result = result * num\\n    return result\\npower(2,3)', '_44': 8, '_i45': '# function with default value for an argument\\ndef power(num, x=1):\\n    result = 1\\n    for i in range(x):\\n        result = result * num\\n    return result\\nprint(power(2,3))', '_i46': 'print(global())', '_i47': 'print(globals())'}\n"
          ]
        }
      ],
      "source": [
        "print(globals())"
      ]
    },
    {
      "cell_type": "code",
      "execution_count": null,
      "id": "91a47251",
      "metadata": {
        "id": "91a47251"
      },
      "outputs": [],
      "source": [
        ""
      ]
    },
    {
      "cell_type": "code",
      "execution_count": null,
      "id": "368cef1c",
      "metadata": {
        "id": "368cef1c"
      },
      "outputs": [],
      "source": [
        ""
      ]
    },
    {
      "cell_type": "markdown",
      "id": "bd4217f1",
      "metadata": {
        "id": "bd4217f1"
      },
      "source": [
        "# recursion:\n"
      ]
    },
    {
      "cell_type": "markdown",
      "id": "0823a146",
      "metadata": {
        "id": "0823a146"
      },
      "source": [
        "A function that calls itself is known as a recursive function"
      ]
    },
    {
      "cell_type": "code",
      "execution_count": null,
      "id": "aed9009c-58bc-4533-91d9-8458c08359e1",
      "metadata": {
        "id": "aed9009c-58bc-4533-91d9-8458c08359e1"
      },
      "outputs": [],
      "source": [
        "def find_fact(n):\n",
        "    if n==1:\n",
        "        print(\"this is one\",n)\n",
        "        return 1\n",
        "    else:\n",
        "  \n",
        "        print(\"this is result:\",a)\n",
        "        return a\n",
        "\n"
      ]
    },
    {
      "cell_type": "code",
      "execution_count": null,
      "id": "4e581192",
      "metadata": {
        "id": "4e581192"
      },
      "outputs": [],
      "source": [
        "def fact(n):\n",
        "    if n==1:\n",
        "        return 1\n",
        "    return n*fact(n-1)\n"
      ]
    },
    {
      "cell_type": "code",
      "execution_count": null,
      "id": "8c67eb76",
      "metadata": {
        "id": "8c67eb76",
        "outputId": "84b7e5a9-4216-4d6f-b98a-a19420515cac"
      },
      "outputs": [
        {
          "data": {
            "text/plain": [
              "3628800"
            ]
          },
          "execution_count": 8,
          "metadata": {},
          "output_type": "execute_result"
        }
      ],
      "source": [
        "r=fact(10)\n",
        "r"
      ]
    },
    {
      "cell_type": "code",
      "execution_count": null,
      "id": "23edd63a",
      "metadata": {
        "id": "23edd63a"
      },
      "outputs": [],
      "source": [
        ""
      ]
    },
    {
      "cell_type": "code",
      "execution_count": null,
      "id": "68843d79",
      "metadata": {
        "id": "68843d79",
        "outputId": "dd8c75b2-80f1-4682-8797-8e4579309352"
      },
      "outputs": [
        {
          "data": {
            "text/plain": [
              "25"
            ]
          },
          "execution_count": 11,
          "metadata": {},
          "output_type": "execute_result"
        }
      ],
      "source": [
        "c"
      ]
    },
    {
      "cell_type": "code",
      "execution_count": null,
      "id": "b04173f9",
      "metadata": {
        "id": "b04173f9",
        "outputId": "41e04de2-3174-42f8-f6b3-510e3ab6d8ea"
      },
      "outputs": [
        {
          "name": "stdout",
          "output_type": "stream",
          "text": [
            "this is one 1\n",
            "this is result: 2\n",
            "this is result: 6\n",
            "this is result: 24\n",
            "this is result: 120\n",
            "120\n"
          ]
        }
      ],
      "source": [
        "print(find_fact(5))"
      ]
    },
    {
      "cell_type": "code",
      "execution_count": null,
      "id": "888051f7",
      "metadata": {
        "id": "888051f7"
      },
      "outputs": [],
      "source": [
        "Fibonacci Series "
      ]
    },
    {
      "cell_type": "markdown",
      "id": "0677c734",
      "metadata": {
        "id": "0677c734"
      },
      "source": [
        "![image-2.png](attachment:image-2.png)"
      ]
    },
    {
      "cell_type": "code",
      "execution_count": null,
      "id": "ac6e955a",
      "metadata": {
        "id": "ac6e955a"
      },
      "outputs": [],
      "source": [
        "def fibo(n):\n",
        "    if n <= 1:\n",
        "        return n\n",
        "    else:\n",
        "        return(fibo(n-1) + fibo(n-2))"
      ]
    },
    {
      "cell_type": "code",
      "execution_count": null,
      "id": "08be0b9d",
      "metadata": {
        "id": "08be0b9d",
        "outputId": "faf62188-ea79-4508-9aab-ed1f31011e4e"
      },
      "outputs": [
        {
          "data": {
            "text/plain": [
              "8"
            ]
          },
          "execution_count": 13,
          "metadata": {},
          "output_type": "execute_result"
        }
      ],
      "source": [
        "fibo(6)"
      ]
    },
    {
      "cell_type": "code",
      "execution_count": null,
      "id": "3e70b923",
      "metadata": {
        "id": "3e70b923",
        "outputId": "ec544507-7896-4404-dfda-a8a43b4186f6"
      },
      "outputs": [
        {
          "name": "stdout",
          "output_type": "stream",
          "text": [
            "Enter the No of Terms20\n",
            "Fibonacci sequence:\n",
            "0\n",
            "1\n",
            "1\n",
            "2\n",
            "3\n",
            "5\n",
            "8\n",
            "13\n",
            "21\n",
            "34\n",
            "55\n",
            "89\n",
            "144\n",
            "233\n",
            "377\n",
            "610\n",
            "987\n",
            "1597\n",
            "2584\n",
            "4181\n"
          ]
        }
      ],
      "source": [
        "nterms =int(input(\"Enter the No of Terms\"))\n",
        "# check if the number of terms is valid\n",
        "if nterms <= 0:\n",
        "   print(\"Plese enter a positive integer\")\n",
        "else:\n",
        "   print(\"Fibonacci sequence:\")\n",
        "   for i in range(nterms):\n",
        "       print(fibo(i))"
      ]
    },
    {
      "cell_type": "markdown",
      "id": "ddcb6168",
      "metadata": {
        "id": "ddcb6168"
      },
      "source": [
        "#  Function as Object\n",
        "functions are just like any other kind of value.\n",
        "They can be assigned and reassigned to variables, and later referenced by those names. "
      ]
    },
    {
      "cell_type": "code",
      "execution_count": null,
      "id": "75bde987",
      "metadata": {
        "id": "75bde987",
        "outputId": "285b4f22-a842-46e2-d425-3e05007afdd9"
      },
      "outputs": [
        {
          "name": "stdout",
          "output_type": "stream",
          "text": [
            "28\n"
          ]
        }
      ],
      "source": [
        "def multiply(x, y):\n",
        "    return x * y\n",
        "\n",
        "a = 4\n",
        "b = 7\n",
        "operation = multiply\n",
        "print(operation(a, b))"
      ]
    },
    {
      "cell_type": "code",
      "execution_count": null,
      "id": "240b7139",
      "metadata": {
        "id": "240b7139"
      },
      "outputs": [],
      "source": [
        "op1=multiply"
      ]
    },
    {
      "cell_type": "code",
      "execution_count": null,
      "id": "85c8984c",
      "metadata": {
        "id": "85c8984c"
      },
      "outputs": [],
      "source": [
        "x=op1"
      ]
    },
    {
      "cell_type": "code",
      "execution_count": null,
      "id": "5a6d8eac",
      "metadata": {
        "id": "5a6d8eac",
        "outputId": "f66b2f2c-f800-453f-d255-646c88efc677"
      },
      "outputs": [
        {
          "data": {
            "text/plain": [
              "30"
            ]
          },
          "execution_count": 44,
          "metadata": {},
          "output_type": "execute_result"
        }
      ],
      "source": [
        "op1(5,6)"
      ]
    },
    {
      "cell_type": "code",
      "execution_count": null,
      "id": "1b74ada4",
      "metadata": {
        "id": "1b74ada4",
        "outputId": "f7920940-02ef-49f5-bb29-fbe2f44a1996"
      },
      "outputs": [
        {
          "name": "stdout",
          "output_type": "stream",
          "text": [
            "2360360429744 2360360429744 2360360429744 2360360429744\n"
          ]
        }
      ],
      "source": [
        "print(id(multiply),id(op1),id(operation),id(x))\n"
      ]
    },
    {
      "cell_type": "code",
      "execution_count": null,
      "id": "cc304f70",
      "metadata": {
        "id": "cc304f70",
        "outputId": "5ccd2ab2-b48e-48d0-d286-83a0176abc8c"
      },
      "outputs": [
        {
          "data": {
            "text/plain": [
              "35"
            ]
          },
          "execution_count": 47,
          "metadata": {},
          "output_type": "execute_result"
        }
      ],
      "source": [
        "x(5,7)"
      ]
    },
    {
      "cell_type": "code",
      "execution_count": null,
      "id": "1cebf13d",
      "metadata": {
        "id": "1cebf13d"
      },
      "outputs": [],
      "source": [
        ""
      ]
    },
    {
      "cell_type": "code",
      "execution_count": null,
      "id": "f2f86a2c",
      "metadata": {
        "id": "f2f86a2c",
        "outputId": "6a8d1e78-a5ac-4c26-e4f2-589243da206f"
      },
      "outputs": [
        {
          "name": "stdout",
          "output_type": "stream",
          "text": [
            "<function multiply at 0x000002259071E8B0>\n"
          ]
        }
      ],
      "source": [
        "print(multiply)"
      ]
    },
    {
      "cell_type": "code",
      "execution_count": null,
      "id": "34124f16",
      "metadata": {
        "id": "34124f16",
        "outputId": "e6fcd922-8618-457c-d21f-63926e53b19d"
      },
      "outputs": [
        {
          "data": {
            "text/plain": [
              "12"
            ]
          },
          "execution_count": 38,
          "metadata": {},
          "output_type": "execute_result"
        }
      ],
      "source": [
        "operation(3,4)"
      ]
    },
    {
      "cell_type": "markdown",
      "id": "d309f69e",
      "metadata": {
        "id": "d309f69e"
      },
      "source": [
        "The example above assigned the function multiply to a variable operation. Now, the name operation can also be used to call the function."
      ]
    },
    {
      "cell_type": "markdown",
      "id": "c284d319",
      "metadata": {
        "id": "c284d319"
      },
      "source": [
        "Functions can also be used as arguments of other functions."
      ]
    },
    {
      "cell_type": "code",
      "execution_count": null,
      "id": "5ad5b974",
      "metadata": {
        "id": "5ad5b974",
        "outputId": "423f4a8e-91b4-4097-e0b1-bb834e9c8788"
      },
      "outputs": [
        {
          "name": "stdout",
          "output_type": "stream",
          "text": [
            "60\n"
          ]
        }
      ],
      "source": [
        "def add(x, y):\n",
        "    return x + y\n",
        "\n",
        "def do_twice(func, x, y):\n",
        "    return func(func(x, y), func(x, y))\n",
        "\n",
        "a = 20\n",
        "b = 10\n",
        "\n",
        "print(do_twice(add, a, b))"
      ]
    },
    {
      "cell_type": "markdown",
      "id": "4a01863f",
      "metadata": {
        "id": "4a01863f"
      },
      "source": [
        "As you can see, the function do_twice takes a function as its argument and calls it in its body."
      ]
    },
    {
      "cell_type": "code",
      "execution_count": null,
      "id": "964d2f66",
      "metadata": {
        "id": "964d2f66"
      },
      "outputs": [],
      "source": [
        "del x"
      ]
    },
    {
      "cell_type": "markdown",
      "id": "40a82809",
      "metadata": {
        "id": "40a82809"
      },
      "source": [
        "# Scope of variable "
      ]
    },
    {
      "cell_type": "code",
      "execution_count": 1,
      "id": "47f931fb-4b86-4394-885d-370e5f83c8fe",
      "metadata": {
        "colab": {
          "base_uri": "https://localhost:8080/"
        },
        "id": "47f931fb-4b86-4394-885d-370e5f83c8fe",
        "outputId": "d9309bc9-c734-404e-d0dd-aadd1b3c58b9"
      },
      "outputs": [
        {
          "output_type": "stream",
          "name": "stdout",
          "text": [
            "Value inside function: 10\n",
            "Value outside function: 10\n"
          ]
        }
      ],
      "source": [
        "# Scope and Lifetime of variables\n",
        "def my_func():\n",
        "    global x\n",
        "    x= 10\n",
        "    print(\"Value inside function:\",x)\n",
        "\n",
        "#x = 20\n",
        "my_func()\n",
        "print(\"Value outside function:\",x)"
      ]
    },
    {
      "cell_type": "markdown",
      "id": "57ea50d8",
      "metadata": {
        "id": "57ea50d8"
      },
      "source": [
        "#   lambda"
      ]
    },
    {
      "cell_type": "markdown",
      "id": "ba22011d",
      "metadata": {
        "id": "ba22011d"
      },
      "source": [
        "Python allows us to create functions on-the-fly, provided that they are created using lambda syntax. "
      ]
    },
    {
      "cell_type": "code",
      "execution_count": null,
      "id": "c367284e-b85c-4628-a282-8f2166820373",
      "metadata": {
        "id": "c367284e-b85c-4628-a282-8f2166820373",
        "outputId": "94725650-0b8d-4b17-9cdf-b37b2aaa06c6"
      },
      "outputs": [
        {
          "name": "stdout",
          "output_type": "stream",
          "text": [
            "27\n"
          ]
        }
      ],
      "source": [
        "#   lambda arguments : expression\n",
        "c=lambda x:x*x*x\n",
        "print(c(3))\n"
      ]
    },
    {
      "cell_type": "code",
      "execution_count": null,
      "id": "91343af4",
      "metadata": {
        "id": "91343af4",
        "outputId": "02978b47-104a-488d-f6aa-41349dd15135"
      },
      "outputs": [
        {
          "data": {
            "text/plain": [
              "64"
            ]
          },
          "execution_count": 67,
          "metadata": {},
          "output_type": "execute_result"
        }
      ],
      "source": [
        "c(4)"
      ]
    },
    {
      "cell_type": "code",
      "execution_count": null,
      "id": "80f56231",
      "metadata": {
        "id": "80f56231"
      },
      "outputs": [],
      "source": [
        "lambda x:x*x*x"
      ]
    },
    {
      "cell_type": "code",
      "execution_count": null,
      "id": "5dc85c10",
      "metadata": {
        "id": "5dc85c10",
        "outputId": "b981900b-9d1a-4a1e-d02b-05bd1268ba03"
      },
      "outputs": [
        {
          "data": {
            "text/plain": [
              "50"
            ]
          },
          "execution_count": 72,
          "metadata": {},
          "output_type": "execute_result"
        }
      ],
      "source": [
        "def my_func(f, arg):\n",
        "    return f(arg)\n",
        "\n",
        "\n",
        "\n",
        "my_func(lambda x: 2*x*x, 5)"
      ]
    },
    {
      "cell_type": "code",
      "execution_count": null,
      "id": "337ba05b",
      "metadata": {
        "id": "337ba05b"
      },
      "outputs": [],
      "source": [
        "#named function\n",
        "def polynomial(x):\n",
        "    return x**2 + 5*x + 4\n",
        "print(polynomial(-4))\n",
        "\n",
        "#lambda\n",
        "print((lambda x: x**2 + 5*x + 4) (-4))"
      ]
    },
    {
      "cell_type": "code",
      "execution_count": null,
      "id": "0ee4f8c3",
      "metadata": {
        "id": "0ee4f8c3"
      },
      "outputs": [],
      "source": [
        ""
      ]
    },
    {
      "cell_type": "code",
      "execution_count": null,
      "id": "0cb2344d-b7db-45d7-bbe5-69b44b71706a",
      "metadata": {
        "id": "0cb2344d-b7db-45d7-bbe5-69b44b71706a",
        "outputId": "bad9cd1b-19f6-4f81-e5fd-d147ac9f0920"
      },
      "outputs": [
        {
          "name": "stdout",
          "output_type": "stream",
          "text": [
            "22\n"
          ]
        }
      ],
      "source": [
        "def myfunc(n):\n",
        "  return lambda a : a * n\n",
        "\n",
        "mydoubler = myfunc(2)\n",
        "\n",
        "print(mydoubler(11))"
      ]
    },
    {
      "cell_type": "code",
      "execution_count": null,
      "id": "35808267-7d08-4f44-8bdc-e4977963c266",
      "metadata": {
        "id": "35808267-7d08-4f44-8bdc-e4977963c266",
        "outputId": "73b9d5ed-372c-45ea-ab52-599ee528fd74"
      },
      "outputs": [
        {
          "name": "stdout",
          "output_type": "stream",
          "text": [
            "400\n"
          ]
        }
      ],
      "source": [
        "print((lambda x,y,z:x*y*z)(10,20,2))"
      ]
    },
    {
      "cell_type": "code",
      "execution_count": null,
      "id": "76626191-2973-494e-997b-daaa3e3446c2",
      "metadata": {
        "id": "76626191-2973-494e-997b-daaa3e3446c2",
        "outputId": "e545fa0c-9b20-42b7-cd98-8f85c8867dd0"
      },
      "outputs": [
        {
          "data": {
            "text/plain": [
              "120"
            ]
          },
          "execution_count": 71,
          "metadata": {},
          "output_type": "execute_result"
        }
      ],
      "source": [
        "fact = lambda x: 1 if x == 0 else x * fact(x-1)\n",
        "fact(5)"
      ]
    },
    {
      "cell_type": "code",
      "execution_count": null,
      "id": "1a6d767d",
      "metadata": {
        "id": "1a6d767d"
      },
      "outputs": [],
      "source": [
        ""
      ]
    },
    {
      "cell_type": "markdown",
      "id": "c5eb501f",
      "metadata": {
        "id": "c5eb501f"
      },
      "source": [
        "Generators\n",
        "\n",
        "\n",
        "Generators are a type of iterable, like lists or tuples.\n",
        "Unlike lists, they don't allow indexing with arbitrary indices, but they can still be iterated through with for loops.\n",
        "They can be created using functions and the yield statement. "
      ]
    },
    {
      "cell_type": "code",
      "execution_count": null,
      "id": "d1508401",
      "metadata": {
        "id": "d1508401"
      },
      "outputs": [],
      "source": [
        "def countdown():\n",
        "    i=5\n",
        "    while i > 0:\n",
        "        yield i\n",
        "        i -= 1\n",
        "\n",
        "for i in countdown():\n",
        "    print(i)"
      ]
    },
    {
      "cell_type": "code",
      "execution_count": null,
      "id": "e2fc86e1",
      "metadata": {
        "id": "e2fc86e1"
      },
      "outputs": [],
      "source": [
        "def numbers(x):\n",
        "    for i in range(x):\n",
        "        if i % 2 == 0:\n",
        "            yield i\n",
        "\n",
        "print(list(numbers(11)))"
      ]
    },
    {
      "cell_type": "markdown",
      "id": "90489f3c",
      "metadata": {
        "id": "90489f3c"
      },
      "source": [
        "Decorators\n",
        "\n",
        "\n",
        "Decorators provide a way to modify functions using other functions.\n",
        "This is ideal when you need to extend the functionality of functions that you don't want to modify. "
      ]
    },
    {
      "cell_type": "code",
      "execution_count": null,
      "id": "9dc5fd9c",
      "metadata": {
        "id": "9dc5fd9c"
      },
      "outputs": [],
      "source": [
        "def decor(func):\n",
        "    def wrap():\n",
        "        print(\"============\")\n",
        "        func()\n",
        "        print(\"============\")\n",
        "    return wrap\n",
        "\n",
        "def print_text():\n",
        "    print(\"Hello world!\")\n",
        "\n",
        "decorated = decor(print_text)\n",
        "decorated()"
      ]
    },
    {
      "cell_type": "code",
      "execution_count": null,
      "id": "9ba118ad",
      "metadata": {
        "id": "9ba118ad"
      },
      "outputs": [],
      "source": [
        "def decor(func):\n",
        "    def wrap():\n",
        "        print(\"============\")\n",
        "        func()\n",
        "        print(\"============\")\n",
        "    return wrap\n",
        "\n",
        "def print_text():\n",
        "    print(\"Hello world!\")\n",
        "\n",
        "print_text = decor(print_text)\n",
        "\n",
        "print_text();"
      ]
    },
    {
      "cell_type": "code",
      "execution_count": null,
      "id": "b4888b5a",
      "metadata": {
        "id": "b4888b5a"
      },
      "outputs": [],
      "source": [
        ""
      ]
    },
    {
      "cell_type": "code",
      "execution_count": null,
      "id": "6ec22d4c",
      "metadata": {
        "id": "6ec22d4c"
      },
      "outputs": [],
      "source": [
        ""
      ]
    },
    {
      "cell_type": "markdown",
      "id": "82766123-a058-42e2-b55d-71a4ae3c5095",
      "metadata": {
        "id": "82766123-a058-42e2-b55d-71a4ae3c5095"
      },
      "source": [
        "### Function MCQ\n",
        "![image.png](attachment:9c1d3ee4-a866-4d3f-a3ce-b8bda698b577.png)\n",
        "\n",
        "\n",
        "\n"
      ]
    },
    {
      "cell_type": "code",
      "execution_count": null,
      "id": "084de2f2",
      "metadata": {
        "id": "084de2f2"
      },
      "outputs": [],
      "source": [
        "- ANSWER:1.C -Global Variable, 2.Both and b"
      ]
    },
    {
      "cell_type": "code",
      "execution_count": null,
      "id": "05fffdb8-0dcd-4878-8bfb-2babd6aa5e9c",
      "metadata": {
        "id": "05fffdb8-0dcd-4878-8bfb-2babd6aa5e9c",
        "outputId": "3f1b334f-43e5-4d84-9721-35e646067ed4"
      },
      "outputs": [
        {
          "ename": "SyntaxError",
          "evalue": "non-default argument follows default argument (Temp/ipykernel_15468/3383204376.py, line 1)",
          "output_type": "error",
          "traceback": [
            "\u001b[1;36m  File \u001b[1;32m\"C:\\Users\\karthik\\AppData\\Local\\Temp/ipykernel_15468/3383204376.py\"\u001b[1;36m, line \u001b[1;32m1\u001b[0m\n\u001b[1;33m    def Demo(p=1,Q):\u001b[0m\n\u001b[1;37m                  ^\u001b[0m\n\u001b[1;31mSyntaxError\u001b[0m\u001b[1;31m:\u001b[0m non-default argument follows default argument\n"
          ]
        }
      ],
      "source": [
        "def Demo(p=1,Q):\n",
        "    pass"
      ]
    },
    {
      "cell_type": "markdown",
      "id": "103629bc-7535-4ec1-a951-b655d58fb4e4",
      "metadata": {
        "id": "103629bc-7535-4ec1-a951-b655d58fb4e4"
      },
      "source": [
        "![image.png](attachment:a69ebc1c-ad7d-4647-a774-b7523ef866c2.png)\n"
      ]
    },
    {
      "cell_type": "code",
      "execution_count": null,
      "id": "4742daf6",
      "metadata": {
        "id": "4742daf6"
      },
      "outputs": [],
      "source": [
        "- ANS:c-UnboundLocalError: local variable 'x' referenced before assignment"
      ]
    },
    {
      "cell_type": "code",
      "execution_count": null,
      "id": "0750f9ca-6334-4759-bece-b91547fc41ed",
      "metadata": {
        "id": "0750f9ca-6334-4759-bece-b91547fc41ed",
        "outputId": "d226934b-bd13-474e-c4ac-49d328b71f7e"
      },
      "outputs": [
        {
          "name": "stdout",
          "output_type": "stream",
          "text": [
            "20\n"
          ]
        }
      ],
      "source": [
        "x = 10\n",
        "def f(x):\n",
        "    x= x + 10\n",
        "    print(x)\n",
        "f(x)"
      ]
    },
    {
      "cell_type": "markdown",
      "id": "71923f49-d69b-4123-88e3-89733ed7f31b",
      "metadata": {
        "id": "71923f49-d69b-4123-88e3-89733ed7f31b"
      },
      "source": [
        "![image.png](attachment:513df38f-b967-4f45-9ef3-35196dc0c6eb.png)\n",
        "- ANS: d-30,21"
      ]
    },
    {
      "cell_type": "code",
      "execution_count": null,
      "id": "2dfad829-faec-483f-917b-4647c7555c11",
      "metadata": {
        "id": "2dfad829-faec-483f-917b-4647c7555c11",
        "outputId": "2438a239-aada-400e-8ab8-c88765ea5c47"
      },
      "outputs": [
        {
          "name": "stdout",
          "output_type": "stream",
          "text": [
            "30 21\n"
          ]
        }
      ],
      "source": [
        "def Func_A(P = 10, Q = 20):\n",
        "    P = P + Q\n",
        "    Q = Q + 1\n",
        "    print(P, Q)\n",
        "Func_A(Q = 20, P = 10)"
      ]
    },
    {
      "cell_type": "markdown",
      "id": "2d2cd8f9-1401-4705-a91c-a724f1303a84",
      "metadata": {
        "id": "2d2cd8f9-1401-4705-a91c-a724f1303a84"
      },
      "source": [
        "![image.png](attachment:06db7777-f547-47ca-a994-715a791cb425.png)\n",
        "- Ansb -11"
      ]
    },
    {
      "cell_type": "code",
      "execution_count": null,
      "id": "60451705-69f6-4888-aa62-a1d70252030b",
      "metadata": {
        "id": "60451705-69f6-4888-aa62-a1d70252030b",
        "outputId": "ec69e333-ede2-435e-a1ab-e8233b67c952"
      },
      "outputs": [
        {
          "name": "stdout",
          "output_type": "stream",
          "text": [
            "11\n"
          ]
        }
      ],
      "source": [
        "def test():\n",
        "    x=10\n",
        "# Main Program #\n",
        "x = 11\n",
        "test()\n",
        "print(x)"
      ]
    },
    {
      "cell_type": "markdown",
      "id": "e477cce3-076b-4556-b603-0a49ce17bed7",
      "metadata": {
        "id": "e477cce3-076b-4556-b603-0a49ce17bed7"
      },
      "source": [
        "![image.png](attachment:184e9c3e-c6fd-4701-aa8e-27a9a868b752.png)\n",
        "- Ans-d -None"
      ]
    },
    {
      "cell_type": "markdown",
      "id": "2ed5b595-7dd2-45fa-9615-54803f481e49",
      "metadata": {
        "id": "2ed5b595-7dd2-45fa-9615-54803f481e49"
      },
      "source": [
        "![image.png](attachment:d6b386da-e6bc-4ca2-abfc-aa11f22ee62e.png)\n",
        "- Ans-b -A"
      ]
    },
    {
      "cell_type": "code",
      "execution_count": null,
      "id": "27689249-37e0-4195-91aa-8dccc6b4b59c",
      "metadata": {
        "id": "27689249-37e0-4195-91aa-8dccc6b4b59c",
        "outputId": "e5558959-0ed8-4f1a-a313-4ed79ba96a79"
      },
      "outputs": [
        {
          "name": "stdout",
          "output_type": "stream",
          "text": [
            "A\n"
          ]
        }
      ],
      "source": [
        "def test():\n",
        "    global x\n",
        "    x='A'\n",
        "# Main Program #\n",
        "x = 'Z'\n",
        "test()\n",
        "print(x)"
      ]
    },
    {
      "cell_type": "markdown",
      "id": "1af65ec5-7223-4791-b417-b65aa8ef69b5",
      "metadata": {
        "id": "1af65ec5-7223-4791-b417-b65aa8ef69b5"
      },
      "source": [
        "![image.png](attachment:879acf5d-254e-434f-a925-5ae8427f5a70.png)\n",
        "![image.png](attachment:cf3ddb36-18c5-4145-ad36-e8017e7cb01d.png)\n",
        "- Ans-a-100"
      ]
    },
    {
      "cell_type": "code",
      "execution_count": null,
      "id": "48735f86-6f8f-4cc9-8447-7543b6b071ed",
      "metadata": {
        "id": "48735f86-6f8f-4cc9-8447-7543b6b071ed",
        "outputId": "71d6e109-f28e-4f9d-d8b1-b68f321ae0a8"
      },
      "outputs": [
        {
          "name": "stdout",
          "output_type": "stream",
          "text": [
            "100\n"
          ]
        }
      ],
      "source": [
        "def test(x):\n",
        "    x = 50\n",
        "# Main Program #\n",
        "x = 100\n",
        "test(x)\n",
        "print(x)"
      ]
    },
    {
      "cell_type": "markdown",
      "id": "2817dfa1-d34b-4f20-ad5c-72e320e939ef",
      "metadata": {
        "id": "2817dfa1-d34b-4f20-ad5c-72e320e939ef"
      },
      "source": [
        "![image.png](attachment:fa3ab2cc-3d10-4c64-9192-3df00cfc01df.png)\n",
        "- Ans-d- None"
      ]
    },
    {
      "cell_type": "code",
      "execution_count": null,
      "id": "bdb0df87-5be2-4a75-858a-957a10e4990c",
      "metadata": {
        "id": "bdb0df87-5be2-4a75-858a-957a10e4990c",
        "outputId": "8987a390-c8df-451c-ee31-d45010d0adf8"
      },
      "outputs": [
        {
          "name": "stdout",
          "output_type": "stream",
          "text": [
            "None\n"
          ]
        }
      ],
      "source": [
        "def test(x):\n",
        "    p = 90\n",
        "# Main Program #\n",
        "p = 50\n",
        "print(test(p))"
      ]
    },
    {
      "cell_type": "markdown",
      "id": "bf3f6212-5ca5-4060-853b-d1ecdf4ad130",
      "metadata": {
        "id": "bf3f6212-5ca5-4060-853b-d1ecdf4ad130"
      },
      "source": [
        "![image.png](attachment:de65fd23-604c-44ea-a795-7fa37a5c2fe9.png)\n",
        "- Ans -d- 15"
      ]
    },
    {
      "cell_type": "code",
      "execution_count": null,
      "id": "5d002531-1b8d-497c-8329-1079e254d6da",
      "metadata": {
        "id": "5d002531-1b8d-497c-8329-1079e254d6da",
        "outputId": "eb03a459-4bad-4e73-dafa-f365378c675e"
      },
      "outputs": [
        {
          "name": "stdout",
          "output_type": "stream",
          "text": [
            "15\n"
          ]
        }
      ],
      "source": [
        "def evaluate_expression_1(Z):\n",
        "    Z = Z + 5\n",
        "    def evaluate_expression_2(Z):\n",
        "        print(\"Hello\")\n",
        "        return Z\n",
        "    #evaluate_expression_2(Z)\n",
        "    return Z\n",
        "value = 10\n",
        "print(evaluate_expression_1(value))"
      ]
    },
    {
      "cell_type": "markdown",
      "id": "00671ec7-c156-43c1-87cc-aa0e1d6fac97",
      "metadata": {
        "id": "00671ec7-c156-43c1-87cc-aa0e1d6fac97"
      },
      "source": [
        "![image.png](attachment:777fc3f3-1633-405c-9479-c1ba3372b1f0.png)\n",
        "- Ans-b-8"
      ]
    },
    {
      "cell_type": "code",
      "execution_count": null,
      "id": "27d69ae4-3d00-4914-a281-9468e504c625",
      "metadata": {
        "id": "27d69ae4-3d00-4914-a281-9468e504c625",
        "outputId": "d3fb0f46-f593-4847-bd07-2df11917ef7f"
      },
      "outputs": [
        {
          "name": "stdout",
          "output_type": "stream",
          "text": [
            "8\n"
          ]
        }
      ],
      "source": [
        "def evaluate_expression_1():\n",
        "    global x\n",
        "    x = x - 5\n",
        "    def evaluate_expression_2():\n",
        "        global x\n",
        "        return x + 3\n",
        "    return evaluate_expression_2()\n",
        "# Main Program #\n",
        "x = 10\n",
        "print(evaluate_expression_1())"
      ]
    },
    {
      "cell_type": "markdown",
      "id": "5a98685f-f6e1-46b4-9c11-f5521516beeb",
      "metadata": {
        "id": "5a98685f-f6e1-46b4-9c11-f5521516beeb"
      },
      "source": [
        "![image.png](attachment:fac4cce8-d989-4ff2-a241-b32001738033.png)\n",
        "- Ans-c-20,5"
      ]
    },
    {
      "cell_type": "code",
      "execution_count": null,
      "id": "15acc0c0-ac0a-43ca-be1e-5757f1b53d98",
      "metadata": {
        "id": "15acc0c0-ac0a-43ca-be1e-5757f1b53d98",
        "outputId": "f86e4bb2-9e0e-4215-f8e8-d2592658af12"
      },
      "outputs": [
        {
          "name": "stdout",
          "output_type": "stream",
          "text": [
            "20 5\n"
          ]
        }
      ],
      "source": [
        "def perform_multiplication(Num1, Num2):\n",
        "    Num2 = Num1 * Num2\n",
        "    return Num1, Num2\n",
        "# Main Program #\n",
        "Num2, Num1 = perform_multiplication(5,4)\n",
        "print(Num1, Num2)"
      ]
    },
    {
      "cell_type": "markdown",
      "id": "e3ea8f42-c3b6-4816-a86f-fb33dc51b5a6",
      "metadata": {
        "id": "e3ea8f42-c3b6-4816-a86f-fb33dc51b5a6"
      },
      "source": [
        "![image.png](attachment:26df5ba8-4450-4975-9762-b116af17b256.png)\n",
        "- Ans:-b"
      ]
    },
    {
      "cell_type": "code",
      "execution_count": null,
      "id": "0acbe7d1-4d5e-48d0-8034-d5f7d7280cc2",
      "metadata": {
        "id": "0acbe7d1-4d5e-48d0-8034-d5f7d7280cc2",
        "outputId": "925ee020-b897-421f-e964-a20bbebdf206"
      },
      "outputs": [
        {
          "name": "stdout",
          "output_type": "stream",
          "text": [
            "Designation =  Manager Salary =  25000\n",
            "Designation =  300000 Salary =  Programmer\n"
          ]
        }
      ],
      "source": [
        "def Display(Designation, Salary):\n",
        "    print(\"Designation = \",Designation, \"Salary = \",Salary)\n",
        "Display(\"Manager\",25000)\n",
        "Display(300000,\"Programmer\")"
      ]
    },
    {
      "cell_type": "code",
      "execution_count": null,
      "id": "747cbf39-9e72-42db-bf47-a0f19847ddb0",
      "metadata": {
        "id": "747cbf39-9e72-42db-bf47-a0f19847ddb0"
      },
      "outputs": [],
      "source": [
        ""
      ]
    },
    {
      "cell_type": "code",
      "execution_count": null,
      "id": "1e0e87ba-ef92-43f9-b925-6a92c6cdc88e",
      "metadata": {
        "id": "1e0e87ba-ef92-43f9-b925-6a92c6cdc88e"
      },
      "outputs": [],
      "source": [
        ""
      ]
    },
    {
      "cell_type": "code",
      "execution_count": null,
      "id": "3d4e9306-98a1-4480-9729-366fa174e148",
      "metadata": {
        "id": "3d4e9306-98a1-4480-9729-366fa174e148"
      },
      "outputs": [],
      "source": [
        ""
      ]
    },
    {
      "cell_type": "code",
      "execution_count": null,
      "id": "966de2db-5b1b-4934-8027-51595966717a",
      "metadata": {
        "id": "966de2db-5b1b-4934-8027-51595966717a"
      },
      "outputs": [],
      "source": [
        ""
      ]
    },
    {
      "cell_type": "code",
      "execution_count": null,
      "id": "599991a3-c5f5-4a34-9bf7-242b0cbef278",
      "metadata": {
        "id": "599991a3-c5f5-4a34-9bf7-242b0cbef278"
      },
      "outputs": [],
      "source": [
        ""
      ]
    },
    {
      "cell_type": "code",
      "execution_count": null,
      "id": "b84d73c5-26bb-4aa7-bce4-27265f0e34d4",
      "metadata": {
        "id": "b84d73c5-26bb-4aa7-bce4-27265f0e34d4"
      },
      "outputs": [],
      "source": [
        ""
      ]
    }
  ],
  "metadata": {
    "kernelspec": {
      "display_name": "Python 3 (ipykernel)",
      "language": "python",
      "name": "python3"
    },
    "language_info": {
      "codemirror_mode": {
        "name": "ipython",
        "version": 3
      },
      "file_extension": ".py",
      "mimetype": "text/x-python",
      "name": "python",
      "nbconvert_exporter": "python",
      "pygments_lexer": "ipython3",
      "version": "3.9.12"
    },
    "colab": {
      "name": "Function.ipynb",
      "provenance": [],
      "include_colab_link": true
    }
  },
  "nbformat": 4,
  "nbformat_minor": 5
}