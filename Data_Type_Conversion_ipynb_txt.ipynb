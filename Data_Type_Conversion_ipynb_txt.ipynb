{
  "cells": [
    {
      "cell_type": "markdown",
      "metadata": {
        "id": "view-in-github",
        "colab_type": "text"
      },
      "source": [
        "<a href=\"https://colab.research.google.com/github/svkarthik86/Python-Basics/blob/main/Data_Type_Conversion_ipynb_txt.ipynb\" target=\"_parent\"><img src=\"https://colab.research.google.com/assets/colab-badge.svg\" alt=\"Open In Colab\"/></a>"
      ]
    },
    {
      "cell_type": "markdown",
      "id": "2f6c5a54-0411-44f5-b25b-e3f2671c29e8",
      "metadata": {
        "id": "2f6c5a54-0411-44f5-b25b-e3f2671c29e8"
      },
      "source": [
        "### Data Type Conversion\n",
        "- Sometimes, you may need to perform conversions between the built-in types.\n",
        "- To convert between types, you simply use the type name as a function.\n",
        "-  There are several built-in functions to perform conversion from one data type to another.\n",
        "- The process of converting the value of one data type (integer, string, float, etc.) to another data type is called type conversion.\n",
        "#### Python has two types of type conversion.\n",
        "- a. Implicit Type Conversion\n",
        "- b. Explicit Type Conversion"
      ]
    },
    {
      "cell_type": "markdown",
      "id": "bac1b9ed-eb01-48e8-81bd-93284b7dfc72",
      "metadata": {
        "id": "bac1b9ed-eb01-48e8-81bd-93284b7dfc72"
      },
      "source": [
        "#### Implicit Type Conversion:\n",
        "- In Implicit type conversion, Python automatically converts one data type to another data type. This process doesn't need any user involvement."
      ]
    },
    {
      "cell_type": "code",
      "execution_count": 3,
      "id": "cb8dd6fd-3791-4e7f-a8ac-ee5156b7f7de",
      "metadata": {
        "colab": {
          "base_uri": "https://localhost:8080/"
        },
        "id": "cb8dd6fd-3791-4e7f-a8ac-ee5156b7f7de",
        "outputId": "1a1aa9cc-a860-4cfe-f008-a2fe4d6a718c"
      },
      "outputs": [
        {
          "output_type": "stream",
          "name": "stdout",
          "text": [
            "<class 'float'>\n"
          ]
        }
      ],
      "source": [
        "print(type(12+10.0))"
      ]
    },
    {
      "cell_type": "code",
      "execution_count": 4,
      "id": "aa7a9cde-9b99-4dc1-95c1-7764b2a3b781",
      "metadata": {
        "colab": {
          "base_uri": "https://localhost:8080/"
        },
        "id": "aa7a9cde-9b99-4dc1-95c1-7764b2a3b781",
        "outputId": "173ff71a-7e69-4f2b-b18b-9f57e7052c7c"
      },
      "outputs": [
        {
          "output_type": "stream",
          "name": "stdout",
          "text": [
            "datatype of num_int: <class 'int'>\n",
            "datatype of num_flo: <class 'float'>\n",
            "Value of num_new: 124.0\n",
            "datatype of num_new: <class 'float'>\n"
          ]
        }
      ],
      "source": [
        "num_int = 123\n",
        "num_flo = 1.0\n",
        "num_new = num_int + num_flo # impliclict conversion from int to float\n",
        "print(\"datatype of num_int:\",type(num_int))\n",
        "print(\"datatype of num_flo:\",type(num_flo))\n",
        "print(\"Value of num_new:\",num_new)\n",
        "print(\"datatype of num_new:\",type(num_new))"
      ]
    },
    {
      "cell_type": "markdown",
      "id": "83b43a48-86d7-4cf0-a42c-1fcd8afabfba",
      "metadata": {
        "id": "83b43a48-86d7-4cf0-a42c-1fcd8afabfba"
      },
      "source": [
        "#### Explicit Type Conversion:\n",
        "- In Explicit Type Conversion, users convert the data type of an object to required data type. We use the predefined functions like int(), str(),etc to perform the explicit type conversion.\n",
        "- This type conversion is also called typecasting because the user casts (change) the data type of the objects\n",
        "- Syntax: required_datatype(expression) "
      ]
    },
    {
      "cell_type": "markdown",
      "source": [
        "Str to int"
      ],
      "metadata": {
        "id": "V_0r74dP7tXk"
      },
      "id": "V_0r74dP7tXk"
    },
    {
      "cell_type": "code",
      "source": [
        "age=int(input(\"what is your age?\"))  # int() typecast from str to int"
      ],
      "metadata": {
        "colab": {
          "base_uri": "https://localhost:8080/"
        },
        "id": "M0k29FHz6Clt",
        "outputId": "513d4043-e42d-4360-fb0a-cb3142de834f"
      },
      "id": "M0k29FHz6Clt",
      "execution_count": 17,
      "outputs": [
        {
          "name": "stdout",
          "output_type": "stream",
          "text": [
            "what is your age?40\n"
          ]
        }
      ]
    },
    {
      "cell_type": "code",
      "source": [
        "print(type(age))"
      ],
      "metadata": {
        "colab": {
          "base_uri": "https://localhost:8080/"
        },
        "id": "hPhgISYA6Co9",
        "outputId": "dc9aa98b-4100-463f-bee8-22067b6e163b"
      },
      "id": "hPhgISYA6Co9",
      "execution_count": 15,
      "outputs": [
        {
          "output_type": "stream",
          "name": "stdout",
          "text": [
            "<class 'int'>\n"
          ]
        }
      ]
    },
    {
      "cell_type": "code",
      "source": [
        "age+2"
      ],
      "metadata": {
        "colab": {
          "base_uri": "https://localhost:8080/"
        },
        "id": "GiQ6PQ9w6Cr1",
        "outputId": "7fb04790-50b9-41e3-c7cb-63d6266494be"
      },
      "id": "GiQ6PQ9w6Cr1",
      "execution_count": 18,
      "outputs": [
        {
          "output_type": "execute_result",
          "data": {
            "text/plain": [
              "42"
            ]
          },
          "metadata": {},
          "execution_count": 18
        }
      ]
    },
    {
      "cell_type": "code",
      "source": [
        "x=int(\"534\")"
      ],
      "metadata": {
        "id": "2lBsh5p_7X9U"
      },
      "id": "2lBsh5p_7X9U",
      "execution_count": 20,
      "outputs": []
    },
    {
      "cell_type": "code",
      "source": [
        "type(x)"
      ],
      "metadata": {
        "colab": {
          "base_uri": "https://localhost:8080/"
        },
        "id": "1uwl6XIB7YFN",
        "outputId": "ab88a032-2e72-44e9-c40a-9cdb2c81b2e6"
      },
      "id": "1uwl6XIB7YFN",
      "execution_count": 21,
      "outputs": [
        {
          "output_type": "execute_result",
          "data": {
            "text/plain": [
              "int"
            ]
          },
          "metadata": {},
          "execution_count": 21
        }
      ]
    },
    {
      "cell_type": "markdown",
      "source": [
        "float to int\n"
      ],
      "metadata": {
        "id": "LBMFUTMF7xbu"
      },
      "id": "LBMFUTMF7xbu"
    },
    {
      "cell_type": "code",
      "source": [
        "int(56.45)"
      ],
      "metadata": {
        "colab": {
          "base_uri": "https://localhost:8080/"
        },
        "id": "R_vQmyV075PN",
        "outputId": "c5cfbdf8-1b11-4a50-8401-a8053d0d2620"
      },
      "id": "R_vQmyV075PN",
      "execution_count": 22,
      "outputs": [
        {
          "output_type": "execute_result",
          "data": {
            "text/plain": [
              "56"
            ]
          },
          "metadata": {},
          "execution_count": 22
        }
      ]
    },
    {
      "cell_type": "markdown",
      "source": [
        "float to int"
      ],
      "metadata": {
        "id": "XSEjBKeZ8CPY"
      },
      "id": "XSEjBKeZ8CPY"
    },
    {
      "cell_type": "code",
      "source": [
        "float(189)"
      ],
      "metadata": {
        "colab": {
          "base_uri": "https://localhost:8080/"
        },
        "id": "omu81Y8O8A_e",
        "outputId": "a1bd0bf1-572b-4dc8-b067-14d4c20bfb1b"
      },
      "id": "omu81Y8O8A_e",
      "execution_count": 24,
      "outputs": [
        {
          "output_type": "execute_result",
          "data": {
            "text/plain": [
              "189.0"
            ]
          },
          "metadata": {},
          "execution_count": 24
        }
      ]
    },
    {
      "cell_type": "markdown",
      "source": [
        "str to float"
      ],
      "metadata": {
        "id": "Z2gyH7fb8sQt"
      },
      "id": "Z2gyH7fb8sQt"
    },
    {
      "cell_type": "code",
      "source": [
        "float(\"345.45\")"
      ],
      "metadata": {
        "colab": {
          "base_uri": "https://localhost:8080/"
        },
        "id": "I_b1rA7B8BH8",
        "outputId": "2f21079b-da94-497c-b8be-b931d039a560"
      },
      "id": "I_b1rA7B8BH8",
      "execution_count": 28,
      "outputs": [
        {
          "output_type": "execute_result",
          "data": {
            "text/plain": [
              "345.45"
            ]
          },
          "metadata": {},
          "execution_count": 28
        }
      ]
    },
    {
      "cell_type": "markdown",
      "source": [
        "Str to List"
      ],
      "metadata": {
        "id": "SjkaKYHJ83Ce"
      },
      "id": "SjkaKYHJ83Ce"
    },
    {
      "cell_type": "code",
      "source": [
        "l1=list(\"python\")\n",
        "l1"
      ],
      "metadata": {
        "colab": {
          "base_uri": "https://localhost:8080/"
        },
        "id": "wtGm8qhW8z0-",
        "outputId": "1a0c3f4b-4e1b-447b-c2df-77a04b98f55c"
      },
      "id": "wtGm8qhW8z0-",
      "execution_count": 31,
      "outputs": [
        {
          "output_type": "execute_result",
          "data": {
            "text/plain": [
              "['p', 'y', 't', 'h', 'o', 'n']"
            ]
          },
          "metadata": {},
          "execution_count": 31
        }
      ]
    },
    {
      "cell_type": "markdown",
      "source": [
        "list to str"
      ],
      "metadata": {
        "id": "Q85w9sJ39SbH"
      },
      "id": "Q85w9sJ39SbH"
    },
    {
      "cell_type": "code",
      "source": [
        "str(l1)"
      ],
      "metadata": {
        "colab": {
          "base_uri": "https://localhost:8080/",
          "height": 35
        },
        "id": "aLt5sBVe8BKD",
        "outputId": "5df63af3-e217-4305-c764-212331a00397"
      },
      "id": "aLt5sBVe8BKD",
      "execution_count": 32,
      "outputs": [
        {
          "output_type": "execute_result",
          "data": {
            "text/plain": [
              "\"['p', 'y', 't', 'h', 'o', 'n']\""
            ],
            "application/vnd.google.colaboratory.intrinsic+json": {
              "type": "string"
            }
          },
          "metadata": {},
          "execution_count": 32
        }
      ]
    },
    {
      "cell_type": "markdown",
      "source": [
        "tuple to list"
      ],
      "metadata": {
        "id": "8tW9X4Tn9kpk"
      },
      "id": "8tW9X4Tn9kpk"
    },
    {
      "cell_type": "code",
      "source": [
        "list((\"a\",\"b\",1,2,3))"
      ],
      "metadata": {
        "colab": {
          "base_uri": "https://localhost:8080/"
        },
        "id": "khfkBc4n9kCl",
        "outputId": "1094ae65-4294-4557-e65e-9839025475d6"
      },
      "id": "khfkBc4n9kCl",
      "execution_count": 33,
      "outputs": [
        {
          "output_type": "execute_result",
          "data": {
            "text/plain": [
              "['a', 'b', 1, 2, 3]"
            ]
          },
          "metadata": {},
          "execution_count": 33
        }
      ]
    },
    {
      "cell_type": "markdown",
      "source": [
        "list to tuple"
      ],
      "metadata": {
        "id": "ONE4Pee794Ds"
      },
      "id": "ONE4Pee794Ds"
    },
    {
      "cell_type": "code",
      "source": [
        "tuple([1,2,3,67.8,\"chennai\"])"
      ],
      "metadata": {
        "colab": {
          "base_uri": "https://localhost:8080/"
        },
        "id": "q2IKgK-k98u9",
        "outputId": "d5369ac7-4241-4e21-ef92-74f1b390b786"
      },
      "id": "q2IKgK-k98u9",
      "execution_count": 34,
      "outputs": [
        {
          "output_type": "execute_result",
          "data": {
            "text/plain": [
              "(1, 2, 3, 67.8, 'chennai')"
            ]
          },
          "metadata": {},
          "execution_count": 34
        }
      ]
    },
    {
      "cell_type": "markdown",
      "source": [
        "Str to Tuple"
      ],
      "metadata": {
        "id": "9bnKvg_q-Om7"
      },
      "id": "9bnKvg_q-Om7"
    },
    {
      "cell_type": "code",
      "source": [
        "tuple(\"java\")"
      ],
      "metadata": {
        "colab": {
          "base_uri": "https://localhost:8080/"
        },
        "id": "Jyyw8RVx980D",
        "outputId": "40e76661-346c-41f9-a3ad-297450105264"
      },
      "id": "Jyyw8RVx980D",
      "execution_count": 35,
      "outputs": [
        {
          "output_type": "execute_result",
          "data": {
            "text/plain": [
              "('j', 'a', 'v', 'a')"
            ]
          },
          "metadata": {},
          "execution_count": 35
        }
      ]
    },
    {
      "cell_type": "markdown",
      "source": [
        "List of tuple pair  to dict"
      ],
      "metadata": {
        "id": "5Xvslc91BDGl"
      },
      "id": "5Xvslc91BDGl"
    },
    {
      "cell_type": "code",
      "source": [
        "dict([(1,2),(3,4),(\"jan\",1)])"
      ],
      "metadata": {
        "colab": {
          "base_uri": "https://localhost:8080/"
        },
        "id": "j7HwDpE3BG1F",
        "outputId": "65974180-6e02-4b6e-e733-8b468619679a"
      },
      "id": "j7HwDpE3BG1F",
      "execution_count": 47,
      "outputs": [
        {
          "output_type": "execute_result",
          "data": {
            "text/plain": [
              "{1: 2, 3: 4, 'jan': 1}"
            ]
          },
          "metadata": {},
          "execution_count": 47
        }
      ]
    },
    {
      "cell_type": "code",
      "source": [
        "dict({1:2})"
      ],
      "metadata": {
        "colab": {
          "base_uri": "https://localhost:8080/"
        },
        "id": "yicufQZP982b",
        "outputId": "cb2751de-744c-48ca-851e-6bd8668ac5d9"
      },
      "id": "yicufQZP982b",
      "execution_count": 39,
      "outputs": [
        {
          "output_type": "execute_result",
          "data": {
            "text/plain": [
              "{1: 2}"
            ]
          },
          "metadata": {},
          "execution_count": 39
        }
      ]
    },
    {
      "cell_type": "markdown",
      "source": [
        "dict to set"
      ],
      "metadata": {
        "id": "vm0LEQuG_QYe"
      },
      "id": "vm0LEQuG_QYe"
    },
    {
      "cell_type": "code",
      "source": [
        "set({1:\"a\",2:\"b\"})"
      ],
      "metadata": {
        "colab": {
          "base_uri": "https://localhost:8080/"
        },
        "id": "Zp15FZEi984z",
        "outputId": "782f8e31-d90f-4afe-a806-1ad3cdd84424"
      },
      "id": "Zp15FZEi984z",
      "execution_count": 37,
      "outputs": [
        {
          "output_type": "execute_result",
          "data": {
            "text/plain": [
              "{1, 2}"
            ]
          },
          "metadata": {},
          "execution_count": 37
        }
      ]
    },
    {
      "cell_type": "markdown",
      "source": [
        "Str to Set"
      ],
      "metadata": {
        "id": "EYnddV_h_hb_"
      },
      "id": "EYnddV_h_hb_"
    },
    {
      "cell_type": "code",
      "source": [
        "set(\"python\")"
      ],
      "metadata": {
        "colab": {
          "base_uri": "https://localhost:8080/"
        },
        "id": "V7vf--1o_W3F",
        "outputId": "1a6a1382-3e0a-4bcb-99df-372d19a0b013"
      },
      "id": "V7vf--1o_W3F",
      "execution_count": 40,
      "outputs": [
        {
          "output_type": "execute_result",
          "data": {
            "text/plain": [
              "{'h', 'n', 'o', 'p', 't', 'y'}"
            ]
          },
          "metadata": {},
          "execution_count": 40
        }
      ]
    },
    {
      "cell_type": "markdown",
      "source": [
        "Str to frozenset"
      ],
      "metadata": {
        "id": "6ckbYl-d_u2V"
      },
      "id": "6ckbYl-d_u2V"
    },
    {
      "cell_type": "code",
      "source": [
        "frozenset(\"programming\")"
      ],
      "metadata": {
        "colab": {
          "base_uri": "https://localhost:8080/"
        },
        "id": "P4jy3NKo_W6W",
        "outputId": "fdb47164-514a-4b47-af76-f10a35eb07ad"
      },
      "id": "P4jy3NKo_W6W",
      "execution_count": 41,
      "outputs": [
        {
          "output_type": "execute_result",
          "data": {
            "text/plain": [
              "frozenset({'a', 'g', 'i', 'm', 'n', 'o', 'p', 'r'})"
            ]
          },
          "metadata": {},
          "execution_count": 41
        }
      ]
    },
    {
      "cell_type": "code",
      "source": [
        ""
      ],
      "metadata": {
        "id": "hnf8Y82I_W_0"
      },
      "id": "hnf8Y82I_W_0",
      "execution_count": null,
      "outputs": []
    },
    {
      "cell_type": "code",
      "source": [
        ""
      ],
      "metadata": {
        "id": "5GkY17G9_XCF"
      },
      "id": "5GkY17G9_XCF",
      "execution_count": null,
      "outputs": []
    },
    {
      "cell_type": "markdown",
      "source": [
        ""
      ],
      "metadata": {
        "id": "LFlKt6yA7zXu"
      },
      "id": "LFlKt6yA7zXu"
    },
    {
      "cell_type": "code",
      "source": [
        ""
      ],
      "metadata": {
        "id": "mHQLD-Sl6Cu0"
      },
      "id": "mHQLD-Sl6Cu0",
      "execution_count": null,
      "outputs": []
    },
    {
      "cell_type": "code",
      "execution_count": 43,
      "id": "997f8f1a-6c64-41c5-bee9-496572f92f29",
      "metadata": {
        "colab": {
          "base_uri": "https://localhost:8080/"
        },
        "id": "997f8f1a-6c64-41c5-bee9-496572f92f29",
        "outputId": "c223678f-6e6f-4fe6-99ef-6be0a40ab1ce"
      },
      "outputs": [
        {
          "output_type": "stream",
          "name": "stdout",
          "text": [
            "Data type of num_int: <class 'int'>\n",
            "Data type of num_str before Type Casting: <class 'str'>\n",
            "Data type of num_str after Type Casting: <class 'str'>\n",
            "Sum of num_int and num_str: 123456\n",
            "Data type of the sum: <class 'str'>\n"
          ]
        }
      ],
      "source": [
        "num_int = 123\n",
        "num_str = \"456\"  # data sholud look like int format\n",
        "print(\"Data type of num_int:\",type(num_int))\n",
        "print(\"Data type of num_str before Type Casting:\",type(num_str))\n",
        "#num_str = int(num_str) # Explicit Type conversion/casts from str to int using int()\n",
        "num_int=str(num_int)\n",
        "print(\"Data type of num_str after Type Casting:\",type(num_str))\n",
        "num_sum = num_int + num_str # int addition                                        #str concatenation \n",
        "print(\"Sum of num_int and num_str:\",num_sum)\n",
        "print(\"Data type of the sum:\",type(num_sum))"
      ]
    },
    {
      "cell_type": "markdown",
      "id": "3f6c58e6-9956-45eb-b8db-ba80fb8e4c38",
      "metadata": {
        "tags": [],
        "id": "3f6c58e6-9956-45eb-b8db-ba80fb8e4c38"
      },
      "source": [
        "### Function & Description\n",
        " - int(x [,base]) Converts x to an integer. base specifies the base if x is a string.\n",
        "- long(x [,base] ) Converts x to a long integer. base specifies the base if x is a string.\n",
        "- float(x) Converts x to a floating-point number.\n",
        "- complex(real [,imag]) Creates a complex number.\n",
        "- str(x) Converts object x to a string representation.\n",
        "- repr(x) Converts object x to an expression string.\n",
        "- eval(str) Evaluates a string and returns an object.\n",
        "- tuple(s) Converts s to a tuple.\n",
        "- list(s) Converts s to a list.\n",
        "- set(s) Converts s to a set.\n",
        "- dict(d) Creates a dictionary. d must be a sequence of (key,value) tuples.\n",
        "- frozenset(s) Converts s to a frozen set.\n",
        "- chr(x) Converts an integer to a character.\n",
        "- unichr(x) Converts an integer to a Unicode character.\n",
        "- ord(x) Converts a single character to its integer value.\n",
        "- hex(x) Converts an integer to a hexadecimal string.\n",
        "- oct(x) Converts an integer to an octal string."
      ]
    },
    {
      "cell_type": "code",
      "execution_count": 50,
      "id": "e4b39fa8-61db-498a-921c-ea8474e6bc3c",
      "metadata": {
        "colab": {
          "base_uri": "https://localhost:8080/"
        },
        "id": "e4b39fa8-61db-498a-921c-ea8474e6bc3c",
        "outputId": "6811c60f-472a-4205-ce19-d0fcbc0ffdd8"
      },
      "outputs": [
        {
          "output_type": "stream",
          "name": "stdout",
          "text": [
            "8\n",
            "1000\n"
          ]
        }
      ],
      "source": [
        "print(int(\"1000\",2)) # int convert with base 2\n",
        "print(int(\"1000\"))# default base 10  "
      ]
    },
    {
      "cell_type": "code",
      "execution_count": null,
      "id": "b372e0c8-ab3c-44ee-afb1-b86a14714478",
      "metadata": {
        "id": "b372e0c8-ab3c-44ee-afb1-b86a14714478",
        "outputId": "9dd6bc65-2e12-4544-931a-e2b070b669a5"
      },
      "outputs": [
        {
          "name": "stdout",
          "output_type": "stream",
          "text": [
            "123.0\n"
          ]
        }
      ],
      "source": [
        "print(float(\"123\"))\n"
      ]
    },
    {
      "cell_type": "code",
      "execution_count": 54,
      "id": "dd8264fd-90e1-486e-b52b-d6b17e7fa6a4",
      "metadata": {
        "colab": {
          "base_uri": "https://localhost:8080/"
        },
        "id": "dd8264fd-90e1-486e-b52b-d6b17e7fa6a4",
        "outputId": "deb2ed5b-87e7-45f1-f097-cb0bd23fc1ec"
      },
      "outputs": [
        {
          "output_type": "stream",
          "name": "stdout",
          "text": [
            "(23+0j)\n"
          ]
        }
      ],
      "source": [
        "print(complex(\"23\"))"
      ]
    },
    {
      "cell_type": "code",
      "execution_count": 57,
      "id": "5de46870-32e0-49ea-85b5-726f8741f8e4",
      "metadata": {
        "colab": {
          "base_uri": "https://localhost:8080/"
        },
        "id": "5de46870-32e0-49ea-85b5-726f8741f8e4",
        "outputId": "f2a3d955-0d52-4fef-df59-d794d9ab4c4d"
      },
      "outputs": [
        {
          "output_type": "stream",
          "name": "stdout",
          "text": [
            "(23, 44545.657, 687)\n",
            "<class 'tuple'>\n"
          ]
        }
      ],
      "source": [
        "list1=[23,44545.657,687]\n",
        "l1=tuple(list1)\n",
        "print(l1)\n",
        "print(type(l1))"
      ]
    },
    {
      "cell_type": "code",
      "execution_count": null,
      "id": "b27275c7-e3a4-4787-affb-41b526854cf3",
      "metadata": {
        "id": "b27275c7-e3a4-4787-affb-41b526854cf3",
        "outputId": "2321480e-903e-4e90-ab45-aa5997765937"
      },
      "outputs": [
        {
          "name": "stdout",
          "output_type": "stream",
          "text": [
            "[1, 2, 4, 'a']\n",
            "<class 'list'>\n"
          ]
        }
      ],
      "source": [
        "tup1=(1,2,4,\"a\")\n",
        "ct1= list(tup1)\n",
        "print(ct1)\n",
        "print(type(ct1))"
      ]
    },
    {
      "cell_type": "code",
      "execution_count": 58,
      "id": "8c48483f-5137-4bda-bbd9-9ac918e4dd58",
      "metadata": {
        "colab": {
          "base_uri": "https://localhost:8080/"
        },
        "id": "8c48483f-5137-4bda-bbd9-9ac918e4dd58",
        "outputId": "6d2221e2-d90c-4a33-9a99-e16cdc5b0c2e"
      },
      "outputs": [
        {
          "output_type": "stream",
          "name": "stdout",
          "text": [
            "{'name': 'karthik', 'age': 35, 'Dept': 'cse'}\n",
            "<class 'dict'>\n"
          ]
        }
      ],
      "source": [
        "x=dict(name=\"karthik\",age=35,Dept=\"cse\") # Keword argument\n",
        "print(x)\n",
        "print(type(x))"
      ]
    },
    {
      "cell_type": "code",
      "execution_count": null,
      "id": "cbfafc69-738a-45da-bf4e-80fdeccd36be",
      "metadata": {
        "id": "cbfafc69-738a-45da-bf4e-80fdeccd36be",
        "outputId": "57236e32-3ceb-4ea4-ebbe-1526aee57769"
      },
      "outputs": [
        {
          "name": "stdout",
          "output_type": "stream",
          "text": [
            "frozenset({1, 3, 45})\n"
          ]
        }
      ],
      "source": [
        "set1={1,3,45}\n",
        "print(frozenset(set1))"
      ]
    },
    {
      "cell_type": "code",
      "execution_count": 60,
      "id": "5eb428d8-14e1-4930-ae18-9ffd7e91f04f",
      "metadata": {
        "colab": {
          "base_uri": "https://localhost:8080/"
        },
        "id": "5eb428d8-14e1-4930-ae18-9ffd7e91f04f",
        "outputId": "0df29f9a-ba02-492a-b601-5c6522f3a8ed"
      },
      "outputs": [
        {
          "output_type": "stream",
          "name": "stdout",
          "text": [
            "40.5\n"
          ]
        }
      ],
      "source": [
        "number = 9\n",
        "b=2\n",
        "# eval performs the multiplication passed as argument\n",
        "square_number = eval(\"(number * number)/b\")\n",
        "print(square_number)"
      ]
    },
    {
      "cell_type": "code",
      "execution_count": 61,
      "id": "49c9a5b1-aabf-4369-a9bd-d697d0afdf38",
      "metadata": {
        "colab": {
          "base_uri": "https://localhost:8080/"
        },
        "id": "49c9a5b1-aabf-4369-a9bd-d697d0afdf38",
        "outputId": "de41bbb6-4d47-4744-8372-82b68d1ebd7b"
      },
      "outputs": [
        {
          "output_type": "stream",
          "name": "stdout",
          "text": [
            "a\n",
            "97\n"
          ]
        }
      ],
      "source": [
        "print(chr(97))\n",
        "print(ord('a'))"
      ]
    }
  ],
  "metadata": {
    "kernelspec": {
      "display_name": "Python 3 (ipykernel)",
      "language": "python",
      "name": "python3"
    },
    "language_info": {
      "codemirror_mode": {
        "name": "ipython",
        "version": 3
      },
      "file_extension": ".py",
      "mimetype": "text/x-python",
      "name": "python",
      "nbconvert_exporter": "python",
      "pygments_lexer": "ipython3",
      "version": "3.9.6"
    },
    "colab": {
      "name": "Data Type Conversion.ipynb.txt",
      "provenance": [],
      "include_colab_link": true
    }
  },
  "nbformat": 4,
  "nbformat_minor": 5
}