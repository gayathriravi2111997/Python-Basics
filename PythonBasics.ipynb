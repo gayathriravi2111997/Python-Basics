{
 "cells": [
  {
   "cell_type": "code",
   "execution_count": 11,
   "metadata": {},
   "outputs": [],
   "source": [
    "### Welcome Programming"
   ]
  },
  {
   "cell_type": "code",
   "execution_count": null,
   "metadata": {},
   "outputs": [],
   "source": [
    "Fname=input(\"Enter your Fname:\") #get First name from user\n",
    "Lname=input(\"Enter your Lname:\") #get Last name from the user\n",
    "print(\"Hello {} {},Welcome to Python Programming\".format(Fname,Lname))"
   ]
  },
  {
   "cell_type": "markdown",
   "metadata": {
    "tags": []
   },
   "source": [
    "### Python Identifier:\n",
    "An identifier is a name given to entities like class, functions, variables, etc. It helps to differentiate one entity from another.\n",
    "Rules for writing identifiers\n",
    "- Identifiers can be a combination of letters in lowercase (a to z) or uppercase (A to Z) or digits (0 to 9) or an underscore _.\n",
    "- Names like myClass, var_1 and print_this_to_screen, all are valid example.\n",
    "- An identifier cannot start with a digit. 1variable is invalid, but variable1 is a valid name.\n",
    "- Keywords cannot be used as identifiers. \n",
    "- Example: \n",
    "```python\n",
    "num=10 #variable,  \n",
    "def getdata(): #function,  \n",
    "class Students: #class ...etc\n",
    "```\n",
    "#### Here are naming conventions for Python identifiers:\n",
    "- Class names start with an uppercase letter. All other identifiers start with a lowercase letter.\n",
    "- Starting an identifier with a single leading underscore indicates that the identifier is private.\n",
    "- Starting an identifier with two leading underscores indicates a strongly private identifier.\n",
    "- If the identifier also ends with two trailing underscores, the identifier is a language-defined special name.\n"
   ]
  },
  {
   "cell_type": "markdown",
   "metadata": {},
   "source": [
    "### Reserved Words(Python Keyword)\n"
   ]
  },
  {
   "cell_type": "code",
   "execution_count": 3,
   "metadata": {},
   "outputs": [
    {
     "name": "stdout",
     "output_type": "stream",
     "text": [
      "['False', 'None', 'True', '__peg_parser__', 'and', 'as', 'assert', 'async', 'await', 'break', 'class', 'continue', 'def', 'del', 'elif', 'else', 'except', 'finally', 'for', 'from', 'global', 'if', 'import', 'in', 'is', 'lambda', 'nonlocal', 'not', 'or', 'pass', 'raise', 'return', 'try', 'while', 'with', 'yield']\n",
      "------------------------------------------------\n",
      "Number of Keywords in Python is: 36\n"
     ]
    }
   ],
   "source": [
    "import keyword as kw\n",
    "print(kw.kwlist)\n",
    "print(\"------------------------------------------------\")\n",
    "print(\"Number of Keywords in Python is:\",len(kw.kwlist))\n"
   ]
  },
  {
   "cell_type": "markdown",
   "metadata": {},
   "source": [
    "### Python Variable\n",
    "- Variables are  reserved memory locations to store values.  it reserve some space in memory.\n",
    "- Variable is assign the value using \"=\" assignment operator\n"
   ]
  },
  {
   "cell_type": "code",
   "execution_count": 9,
   "metadata": {},
   "outputs": [
    {
     "name": "stdout",
     "output_type": "stream",
     "text": [
      "10\n",
      "55.6\n",
      "5 10 15 40 40 40\n"
     ]
    }
   ],
   "source": [
    "x=10  \n",
    "y=55.6 \n",
    "# x and y are varaiable \n",
    "print(x)\n",
    "print(y) \n",
    "# Multiple value assignment\n",
    "d=e=f=40 # all d,e,f varibles are assigned the same value\n",
    "a,b,c=5,10,15# diffrent variable with diffrent value\n",
    "print(a,b,c,d,e,f)\n"
   ]
  },
  {
   "cell_type": "markdown",
   "metadata": {},
   "source": [
    "## Python Built-in Data Types\n",
    "- Numeric Types: int, float, complex \n",
    "- Text Sequence Type: str\n",
    "- Sequence Types: list, tuple, range\n",
    "- Mapping Types: dict\n",
    "- Set Types: set, frozenset\n",
    "- Binary Sequence Types:bytes, bytearray, memoryview\n"
   ]
  },
  {
   "cell_type": "markdown",
   "metadata": {},
   "source": [
    "### Numeric Types: int, float, complex \n",
    "- "
   ]
  },
  {
   "cell_type": "code",
   "execution_count": 15,
   "metadata": {},
   "outputs": [
    {
     "name": "stdout",
     "output_type": "stream",
     "text": [
      "Type of x is: <class 'int'> and Value is: 10\n",
      "Type of y is: <class 'float'> and Value is: 2.6783\n",
      "Type of z is: <class 'complex'> and Value is: (3+8j)\n"
     ]
    }
   ],
   "source": [
    "# Numeric Types: int, float, complex\n",
    "x=10 # variable x assigned by integer type data\n",
    "y=2.6783 #varaiable y assigned by float type data\n",
    "z=3+8j #varaiable z assigned by complex type data\n",
    "print(\"Type of x is: {} and Value is: {}\".format(type(x),x))\n",
    "print(\"Type of y is: {} and Value is: {}\".format(type(y),y))\n",
    "print(\"Type of z is: {} and Value is: {}\".format(type(z),z))"
   ]
  },
  {
   "cell_type": "markdown",
   "metadata": {},
   "source": [
    "#### Text Sequence Type: str\n",
    "- A String is a sequence of Unicode characters. In Python, String is called str.\n",
    "- Strings are represented by using Double quotes \" \"  or single quotes ' '.\n",
    "- If the strings are multiple, then it can be denoted by the use of triple quotes “”” or ”’.\n",
    "- All the characters between the quotes are items of the string.\n",
    "- str is immutable type, str object can't modifiable"
   ]
  },
  {
   "cell_type": "code",
   "execution_count": 18,
   "metadata": {},
   "outputs": [
    {
     "name": "stdout",
     "output_type": "stream",
     "text": [
      "Type of str1 is: <class 'str'> and Value is: Python Programming by EduBridge\n",
      "Type of str2 is: <class 'str'> and Value is: Data Analytics\n",
      "Type of str3 is: <class 'str'> and Value is: 123\n"
     ]
    }
   ],
   "source": [
    "str1=\"Python Programming by EduBridge\" # variable str1 assigned by string type data\n",
    "str2='Data Analytics' \n",
    "str3=\"123\" \n",
    "print(\"Type of str1 is: {} and Value is: {}\".format(type(str1),str1))\n",
    "print(\"Type of str2 is: {} and Value is: {}\".format(type(str2),str2))\n",
    "print(\"Type of str3 is: {} and Value is: {}\".format(type(str3),str3))"
   ]
  },
  {
   "cell_type": "markdown",
   "metadata": {},
   "source": [
    "### Sequence Types: list, tuple, range"
   ]
  },
  {
   "cell_type": "markdown",
   "metadata": {},
   "source": [
    "### List \n",
    "- An ordered sequence of items and collection of diffrent data type\n",
    "-List is mutable type, it can modifiable\n",
    "- The list is enclosed with brackets and commas are used to separate the items\n",
    "  list=[1,2,3,\"a\",\"b\",\"c\"]\n",
    "  \n",
    "\n"
   ]
  },
  {
   "cell_type": "code",
   "execution_count": 5,
   "metadata": {},
   "outputs": [
    {
     "name": "stdout",
     "output_type": "stream",
     "text": [
      "1\n",
      "c\n",
      "['a', 'b']\n",
      "[45, 2, 3, 'a', 'b', 'c']\n"
     ]
    }
   ],
   "source": [
    "list1=[1,2,3,\"a\",\"b\",\"c\"]    # mixed data type\n",
    "print(list1[0])\n",
    "print(list1[-1])\n",
    "print(list1[3:5])\n",
    "list1[0]=45   # list mutable\n",
    "print(list1)"
   ]
  },
  {
   "cell_type": "code",
   "execution_count": 7,
   "metadata": {},
   "outputs": [
    {
     "name": "stdout",
     "output_type": "stream",
     "text": [
      "1\n"
     ]
    },
    {
     "ename": "TypeError",
     "evalue": "'tuple' object does not support item assignment",
     "output_type": "error",
     "traceback": [
      "\u001b[1;31m---------------------------------------------------------------------------\u001b[0m",
      "\u001b[1;31mTypeError\u001b[0m                                 Traceback (most recent call last)",
      "\u001b[1;32m~\\AppData\\Local\\Temp/ipykernel_16848/3753119655.py\u001b[0m in \u001b[0;36m<module>\u001b[1;34m\u001b[0m\n\u001b[0;32m      1\u001b[0m \u001b[0mtup1\u001b[0m\u001b[1;33m=\u001b[0m\u001b[1;33m(\u001b[0m\u001b[1;36m1\u001b[0m\u001b[1;33m,\u001b[0m\u001b[1;36m2\u001b[0m\u001b[1;33m,\u001b[0m\u001b[1;36m3\u001b[0m\u001b[1;33m,\u001b[0m\u001b[1;34m\"a\"\u001b[0m\u001b[1;33m,\u001b[0m\u001b[1;34m\"b\"\u001b[0m\u001b[1;33m,\u001b[0m\u001b[1;34m\"c\"\u001b[0m\u001b[1;33m)\u001b[0m\u001b[1;33m\u001b[0m\u001b[1;33m\u001b[0m\u001b[0m\n\u001b[0;32m      2\u001b[0m \u001b[0mprint\u001b[0m\u001b[1;33m(\u001b[0m\u001b[0mtup1\u001b[0m\u001b[1;33m[\u001b[0m\u001b[1;36m0\u001b[0m\u001b[1;33m]\u001b[0m\u001b[1;33m)\u001b[0m\u001b[1;33m\u001b[0m\u001b[1;33m\u001b[0m\u001b[0m\n\u001b[1;32m----> 3\u001b[1;33m \u001b[0mtup1\u001b[0m\u001b[1;33m[\u001b[0m\u001b[1;36m2\u001b[0m\u001b[1;33m]\u001b[0m\u001b[1;33m=\u001b[0m\u001b[1;36m34\u001b[0m\u001b[1;33m\u001b[0m\u001b[1;33m\u001b[0m\u001b[0m\n\u001b[0m",
      "\u001b[1;31mTypeError\u001b[0m: 'tuple' object does not support item assignment"
     ]
    }
   ],
   "source": [
    "tup1=(1,2,3,\"a\",\"b\",\"c\")   \n",
    "print(tup1[0])\n",
    "tup1[2]=34  # tuple immmutable"
   ]
  },
  {
   "cell_type": "code",
   "execution_count": 9,
   "metadata": {},
   "outputs": [
    {
     "name": "stdout",
     "output_type": "stream",
     "text": [
      "c\n",
      "{1: 'a', 2: 'b', 3: 'c', 4: 'd'}\n"
     ]
    }
   ],
   "source": [
    "dic1={1:\"a\",2:\"b\",3:\"c\"}  # mapping data type , Unorder\n",
    "print(dic1[3])  #  3 is key it is used as index\n",
    "dic1[4]=\"d\" # added,   dict is mutable \n",
    "print(dic1)\n"
   ]
  },
  {
   "cell_type": "code",
   "execution_count": 14,
   "metadata": {},
   "outputs": [
    {
     "ename": "AttributeError",
     "evalue": "'frozenset' object has no attribute 'add'",
     "output_type": "error",
     "traceback": [
      "\u001b[1;31m---------------------------------------------------------------------------\u001b[0m",
      "\u001b[1;31mAttributeError\u001b[0m                            Traceback (most recent call last)",
      "\u001b[1;32m~\\AppData\\Local\\Temp/ipykernel_16848/2881079975.py\u001b[0m in \u001b[0;36m<module>\u001b[1;34m\u001b[0m\n\u001b[0;32m      2\u001b[0m \u001b[0mset1\u001b[0m\u001b[1;33m.\u001b[0m\u001b[0madd\u001b[0m\u001b[1;33m(\u001b[0m\u001b[1;36m8\u001b[0m\u001b[1;33m)\u001b[0m\u001b[1;33m\u001b[0m\u001b[1;33m\u001b[0m\u001b[0m\n\u001b[0;32m      3\u001b[0m \u001b[0mset2\u001b[0m\u001b[1;33m=\u001b[0m\u001b[0mfrozenset\u001b[0m\u001b[1;33m(\u001b[0m\u001b[0mset1\u001b[0m\u001b[1;33m)\u001b[0m\u001b[1;33m\u001b[0m\u001b[1;33m\u001b[0m\u001b[0m\n\u001b[1;32m----> 4\u001b[1;33m \u001b[0mset2\u001b[0m\u001b[1;33m.\u001b[0m\u001b[0madd\u001b[0m\u001b[1;33m(\u001b[0m\u001b[1;36m10\u001b[0m\u001b[1;33m)\u001b[0m\u001b[1;33m\u001b[0m\u001b[1;33m\u001b[0m\u001b[0m\n\u001b[0m\u001b[0;32m      5\u001b[0m \u001b[0mprint\u001b[0m\u001b[1;33m(\u001b[0m\u001b[0mset2\u001b[0m\u001b[1;33m)\u001b[0m   \u001b[1;31m# set is mutable\u001b[0m\u001b[1;33m\u001b[0m\u001b[1;33m\u001b[0m\u001b[0m\n",
      "\u001b[1;31mAttributeError\u001b[0m: 'frozenset' object has no attribute 'add'"
     ]
    }
   ],
   "source": [
    "set1={1,2,3,3,3,4,5,5,6} # remove duplicate element \n",
    "set1.add(8)# set is mutable \n",
    "set2=frozenset(set1) # frozen set is immutable \n",
    "set2.add(10)\n",
    "print(set2)   \n"
   ]
  },
  {
   "cell_type": "code",
   "execution_count": 29,
   "metadata": {
    "tags": []
   },
   "outputs": [
    {
     "name": "stdout",
     "output_type": "stream",
     "text": [
      "True\n",
      "<class 'bool'>\n"
     ]
    }
   ],
   "source": [
    "# boolean Type   False/ True \n",
    "b1= 10                  #  []  {}  () \"\"   bool willbe False\n",
    "print(bool(b1))\n",
    "b2=True\n",
    "print(type(b2))"
   ]
  },
  {
   "cell_type": "code",
   "execution_count": 30,
   "metadata": {},
   "outputs": [
    {
     "ename": "NameError",
     "evalue": "name 'binary' is not defined",
     "output_type": "error",
     "traceback": [
      "\u001b[1;31m---------------------------------------------------------------------------\u001b[0m",
      "\u001b[1;31mNameError\u001b[0m                                 Traceback (most recent call last)",
      "\u001b[1;32m~\\AppData\\Local\\Temp/ipykernel_16848/383108900.py\u001b[0m in \u001b[0;36m<module>\u001b[1;34m\u001b[0m\n\u001b[1;32m----> 1\u001b[1;33m \u001b[0mx\u001b[0m\u001b[1;33m=\u001b[0m\u001b[0mbinary\u001b[0m\u001b[1;33m(\u001b[0m\u001b[1;36m4\u001b[0m\u001b[1;33m)\u001b[0m\u001b[1;33m\u001b[0m\u001b[1;33m\u001b[0m\u001b[0m\n\u001b[0m\u001b[0;32m      2\u001b[0m \u001b[0mprint\u001b[0m\u001b[1;33m(\u001b[0m\u001b[0mx\u001b[0m\u001b[1;33m)\u001b[0m\u001b[1;33m\u001b[0m\u001b[1;33m\u001b[0m\u001b[0m\n",
      "\u001b[1;31mNameError\u001b[0m: name 'binary' is not defined"
     ]
    }
   ],
   "source": [
    "x=binary(4)\n",
    "print(x)"
   ]
  },
  {
   "cell_type": "code",
   "execution_count": 32,
   "metadata": {},
   "outputs": [
    {
     "name": "stdout",
     "output_type": "stream",
     "text": [
      "b'Hello'\n",
      "bytearray(b'\\x00\\x00\\x00\\x00\\x00')\n",
      "<memory at 0x0000017CF8368940>\n"
     ]
    }
   ],
   "source": [
    "x = b\"Hello\" \n",
    "print(x)\n",
    "y = bytearray(5)\n",
    "print(y)\n",
    "z = memoryview(bytes(5))\n",
    "print(z)"
   ]
  },
  {
   "cell_type": "code",
   "execution_count": 36,
   "metadata": {},
   "outputs": [
    {
     "name": "stdout",
     "output_type": "stream",
     "text": [
      "range(0, 10)\n",
      "10\n",
      "12\n",
      "14\n",
      "16\n",
      "18\n"
     ]
    }
   ],
   "source": [
    "#range(start,stop,step)\n",
    "print(range(10))\n",
    "for i in range(10,20,2):\n",
    "    print(i)"
   ]
  },
  {
   "cell_type": "code",
   "execution_count": 40,
   "metadata": {},
   "outputs": [
    {
     "name": "stdout",
     "output_type": "stream",
     "text": [
      "[1, 20, 30, 40]\n",
      "[1, 40]\n"
     ]
    }
   ],
   "source": [
    "a=[1,20,30,40]\n",
    "print(a)\n",
    "del a[1:3]  # object a is deleted \n",
    "print(a)"
   ]
  },
  {
   "cell_type": "code",
   "execution_count": null,
   "metadata": {},
   "outputs": [],
   "source": []
  }
 ],
 "metadata": {
  "kernelspec": {
   "display_name": "Python 3 (ipykernel)",
   "language": "python",
   "name": "python3"
  },
  "language_info": {
   "codemirror_mode": {
    "name": "ipython",
    "version": 3
   },
   "file_extension": ".py",
   "mimetype": "text/x-python",
   "name": "python",
   "nbconvert_exporter": "python",
   "pygments_lexer": "ipython3",
   "version": "3.9.6"
  }
 },
 "nbformat": 4,
 "nbformat_minor": 4
}
