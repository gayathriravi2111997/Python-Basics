{
 "cells": [
  {
   "cell_type": "code",
   "execution_count": null,
   "id": "a2070c36-8e4e-4f01-ab9a-e716cf8909d2",
   "metadata": {},
   "outputs": [],
   "source": [
    "class "
   ]
  },
  {
   "cell_type": "code",
   "execution_count": 3,
   "id": "c4ca62ff-377b-42a5-a055-9142bf53129d",
   "metadata": {},
   "outputs": [
    {
     "name": "stdout",
     "output_type": "stream",
     "text": [
      "Package                            Version\n",
      "---------------------------------- --------------------\n",
      "alabaster                          0.7.12\n",
      "anaconda-client                    1.9.0\n",
      "anaconda-navigator                 2.1.1\n",
      "anaconda-project                   0.10.1\n",
      "anyio                              2.2.0\n",
      "appdirs                            1.4.4\n",
      "argh                               0.26.2\n",
      "argon2-cffi                        20.1.0\n",
      "arrow                              0.13.1\n",
      "asn1crypto                         1.4.0\n",
      "astroid                            2.6.6\n",
      "astropy                            4.3.1\n",
      "async-generator                    1.10\n",
      "atomicwrites                       1.4.0\n",
      "attrs                              21.2.0\n",
      "autopep8                           1.5.7\n",
      "Babel                              2.9.1\n",
      "backcall                           0.2.0\n",
      "backports.functools-lru-cache      1.6.4\n",
      "backports.shutil-get-terminal-size 1.0.0\n",
      "backports.tempfile                 1.0\n",
      "backports.weakref                  1.0.post1\n",
      "bcrypt                             3.2.0\n",
      "beautifulsoup4                     4.10.0\n",
      "binaryornot                        0.4.4\n",
      "bitarray                           2.3.0\n",
      "bkcharts                           0.2\n",
      "black                              19.10b0\n",
      "bleach                             4.0.0\n",
      "bokeh                              2.4.1\n",
      "boto                               2.49.0\n",
      "Bottleneck                         1.3.2\n",
      "brotlipy                           0.7.0\n",
      "cached-property                    1.5.2\n",
      "certifi                            2021.10.8\n",
      "cffi                               1.14.6\n",
      "chardet                            4.0.0\n",
      "charset-normalizer                 2.0.4\n",
      "click                              8.0.3\n",
      "cloudpickle                        2.0.0\n",
      "clyent                             1.2.2\n",
      "colorama                           0.4.4\n",
      "comtypes                           1.1.10\n",
      "conda                              4.10.3\n",
      "conda-build                        3.21.6\n",
      "conda-content-trust                0+unknown\n",
      "conda-pack                         0.6.0\n",
      "conda-package-handling             1.7.3\n",
      "conda-repo-cli                     1.0.4\n",
      "conda-token                        0.3.0\n",
      "conda-verify                       3.4.2\n",
      "contextlib2                        0.6.0.post1\n",
      "cookiecutter                       1.7.2\n",
      "cryptography                       3.4.8\n",
      "cycler                             0.10.0\n",
      "Cython                             0.29.24\n",
      "cytoolz                            0.11.0\n",
      "daal4py                            2021.3.0\n",
      "dask                               2021.10.0\n",
      "debugpy                            1.4.1\n",
      "decorator                          5.1.0\n",
      "defusedxml                         0.7.1\n",
      "diff-match-patch                   20200713\n",
      "distributed                        2021.10.0\n",
      "docutils                           0.17.1\n",
      "entrypoints                        0.3\n",
      "et-xmlfile                         1.1.0\n",
      "fastcache                          1.1.0\n",
      "filelock                           3.3.1\n",
      "flake8                             3.9.2\n",
      "Flask                              1.1.2\n",
      "fonttools                          4.25.0\n",
      "fsspec                             2021.10.1\n",
      "future                             0.18.2\n",
      "gevent                             21.8.0\n",
      "glob2                              0.7\n",
      "greenlet                           1.1.1\n",
      "h5py                               3.2.1\n",
      "HeapDict                           1.0.1\n",
      "html5lib                           1.1\n",
      "idna                               3.2\n",
      "imagecodecs                        2021.8.26\n",
      "imageio                            2.9.0\n",
      "imagesize                          1.2.0\n",
      "importlib-metadata                 4.8.1\n",
      "inflection                         0.5.1\n",
      "iniconfig                          1.1.1\n",
      "intervaltree                       3.1.0\n",
      "ipykernel                          6.4.1\n",
      "ipython                            7.29.0\n",
      "ipython-genutils                   0.2.0\n",
      "ipywidgets                         7.6.5\n",
      "isort                              5.9.3\n",
      "itsdangerous                       2.0.1\n",
      "jdcal                              1.4.1\n",
      "jedi                               0.18.0\n",
      "Jinja2                             2.11.3\n",
      "jinja2-time                        0.2.0\n",
      "joblib                             1.1.0\n",
      "json5                              0.9.6\n",
      "jsonschema                         3.2.0\n",
      "jupyter                            1.0.0\n",
      "jupyter-client                     6.1.12\n",
      "jupyter-console                    6.4.0\n",
      "jupyter-core                       4.8.1\n",
      "jupyter-server                     1.4.1\n",
      "jupyterlab                         3.2.1\n",
      "jupyterlab-pygments                0.1.2\n",
      "jupyterlab-server                  2.8.2\n",
      "jupyterlab-widgets                 1.0.0\n",
      "keyring                            23.1.0\n",
      "kiwisolver                         1.3.1\n",
      "lazy-object-proxy                  1.6.0\n",
      "libarchive-c                       2.9\n",
      "llvmlite                           0.37.0\n",
      "locket                             0.2.1\n",
      "lxml                               4.6.3\n",
      "MarkupSafe                         1.1.1\n",
      "matplotlib                         3.4.3\n",
      "matplotlib-inline                  0.1.2\n",
      "mccabe                             0.6.1\n",
      "menuinst                           1.4.18\n",
      "mistune                            0.8.4\n",
      "mkl-fft                            1.3.1\n",
      "mkl-random                         1.2.2\n",
      "mkl-service                        2.4.0\n",
      "mock                               4.0.3\n",
      "more-itertools                     8.10.0\n",
      "mpmath                             1.2.1\n",
      "msgpack                            1.0.2\n",
      "multipledispatch                   0.6.0\n",
      "munkres                            1.1.4\n",
      "mypy-extensions                    0.4.3\n",
      "navigator-updater                  0.2.1\n",
      "nbclassic                          0.2.6\n",
      "nbclient                           0.5.3\n",
      "nbconvert                          6.1.0\n",
      "nbformat                           5.1.3\n",
      "nest-asyncio                       1.5.1\n",
      "networkx                           2.6.3\n",
      "nltk                               3.6.5\n",
      "nose                               1.3.7\n",
      "notebook                           6.4.5\n",
      "numba                              0.54.1\n",
      "numexpr                            2.7.3\n",
      "numpy                              1.20.3\n",
      "numpydoc                           1.1.0\n",
      "olefile                            0.46\n",
      "openpyxl                           3.0.9\n",
      "packaging                          21.0\n",
      "pandas                             1.3.4\n",
      "pandocfilters                      1.4.3\n",
      "paramiko                           2.7.2\n",
      "parso                              0.8.2\n",
      "partd                              1.2.0\n",
      "path                               16.0.0\n",
      "pathlib2                           2.3.6\n",
      "pathspec                           0.7.0\n",
      "patsy                              0.5.2\n",
      "pep8                               1.7.1\n",
      "pexpect                            4.8.0\n",
      "pickleshare                        0.7.5\n",
      "Pillow                             8.4.0\n",
      "pip                                21.2.4\n",
      "pkginfo                            1.7.1\n",
      "pluggy                             0.13.1\n",
      "ply                                3.11\n",
      "poyo                               0.5.0\n",
      "prometheus-client                  0.11.0\n",
      "prompt-toolkit                     3.0.20\n",
      "psutil                             5.8.0\n",
      "ptyprocess                         0.7.0\n",
      "py                                 1.10.0\n",
      "pycodestyle                        2.7.0\n",
      "pycosat                            0.6.3\n",
      "pycparser                          2.20\n",
      "pycurl                             7.44.1\n",
      "pydocstyle                         6.1.1\n",
      "pyerfa                             2.0.0\n",
      "pyflakes                           2.3.1\n",
      "Pygments                           2.10.0\n",
      "PyJWT                              2.1.0\n",
      "pylint                             2.9.6\n",
      "pyls-spyder                        0.4.0\n",
      "PyNaCl                             1.4.0\n",
      "pyodbc                             4.0.0-unsupported\n",
      "pyOpenSSL                          21.0.0\n",
      "pyparsing                          3.0.4\n",
      "pyreadline                         2.1\n",
      "pyrsistent                         0.18.0\n",
      "PySocks                            1.7.1\n",
      "pytest                             6.2.4\n",
      "python-dateutil                    2.8.2\n",
      "python-lsp-black                   1.0.0\n",
      "python-lsp-jsonrpc                 1.0.0\n",
      "python-lsp-server                  1.2.4\n",
      "python-slugify                     5.0.2\n",
      "pytz                               2021.3\n",
      "PyWavelets                         1.1.1\n",
      "pywin32                            228\n",
      "pywin32-ctypes                     0.2.0\n",
      "pywinpty                           0.5.7\n",
      "PyYAML                             6.0\n",
      "pyzmq                              22.2.1\n",
      "QDarkStyle                         3.0.2\n",
      "qstylizer                          0.1.10\n",
      "QtAwesome                          1.0.2\n",
      "qtconsole                          5.1.1\n",
      "QtPy                               1.10.0\n",
      "regex                              2021.8.3\n",
      "requests                           2.26.0\n",
      "rope                               0.19.0\n",
      "Rtree                              0.9.7\n",
      "ruamel-yaml-conda                  0.15.100\n",
      "scikit-image                       0.18.3\n",
      "scikit-learn                       0.24.2\n",
      "scikit-learn-intelex               2021.20210714.120553\n",
      "scipy                              1.7.1\n",
      "seaborn                            0.11.2\n",
      "Send2Trash                         1.8.0\n",
      "setuptools                         58.0.4\n",
      "simplegeneric                      0.8.1\n",
      "singledispatch                     3.7.0\n",
      "sip                                4.19.13\n",
      "six                                1.16.0\n",
      "sniffio                            1.2.0\n",
      "snowballstemmer                    2.1.0\n",
      "sortedcollections                  2.1.0\n",
      "sortedcontainers                   2.4.0\n",
      "soupsieve                          2.2.1\n",
      "Sphinx                             4.2.0\n",
      "sphinxcontrib-applehelp            1.0.2\n",
      "sphinxcontrib-devhelp              1.0.2\n",
      "sphinxcontrib-htmlhelp             2.0.0\n",
      "sphinxcontrib-jsmath               1.0.1\n",
      "sphinxcontrib-qthelp               1.0.3\n",
      "sphinxcontrib-serializinghtml      1.1.5\n",
      "sphinxcontrib-websupport           1.2.4\n",
      "spyder                             5.1.5\n",
      "spyder-kernels                     2.1.3\n",
      "SQLAlchemy                         1.4.22\n",
      "statsmodels                        0.12.2\n",
      "sympy                              1.9\n",
      "tables                             3.6.1\n",
      "TBB                                0.2\n",
      "tblib                              1.7.0\n",
      "terminado                          0.9.4\n",
      "testpath                           0.5.0\n",
      "text-unidecode                     1.3\n",
      "textdistance                       4.2.1\n",
      "threadpoolctl                      2.2.0\n",
      "three-merge                        0.1.1\n",
      "tifffile                           2021.7.2\n",
      "tinycss                            0.4\n",
      "toml                               0.10.2\n",
      "toolz                              0.11.1\n",
      "tornado                            6.1\n",
      "tqdm                               4.62.3\n",
      "traitlets                          5.1.0\n",
      "typed-ast                          1.4.3\n",
      "typing-extensions                  3.10.0.2\n",
      "ujson                              4.0.2\n",
      "unicodecsv                         0.14.1\n",
      "Unidecode                          1.2.0\n",
      "urllib3                            1.26.7\n",
      "watchdog                           2.1.3\n",
      "wcwidth                            0.2.5\n",
      "webencodings                       0.5.1\n",
      "Werkzeug                           2.0.2\n",
      "wheel                              0.37.0\n",
      "whichcraft                         0.6.1\n",
      "widgetsnbextension                 3.5.1\n",
      "win-inet-pton                      1.1.0\n",
      "win-unicode-console                0.5\n",
      "wincertstore                       0.2\n",
      "wrapt                              1.12.1\n",
      "xlrd                               2.0.1\n",
      "XlsxWriter                         3.0.1\n",
      "xlwings                            0.24.9\n",
      "xlwt                               1.3.0\n",
      "xmltodict                          0.12.0\n",
      "yapf                               0.31.0\n",
      "zict                               2.0.0\n",
      "zipp                               3.6.0\n",
      "zope.event                         4.5.0\n",
      "zope.interface                     5.4.0\n"
     ]
    }
   ],
   "source": [
    "!pip list"
   ]
  },
  {
   "cell_type": "markdown",
   "id": "d8adb9ed-8d31-4efd-acb1-24e7e3520ae9",
   "metadata": {},
   "source": [
    "### Object-Oriented Programming: Class,Objects and Inheritance"
   ]
  },
  {
   "cell_type": "markdown",
   "id": "49ba3d89-621e-4f55-b554-579b94c6b989",
   "metadata": {},
   "source": [
    "### Introduction\n",
    "- Defining Classes\n",
    "- The Self-parameter and Adding Methods to a Class\n",
    "- Display Class Attributes and Methods\n",
    "- Special Class Attributes\n",
    "- Accessibility\n",
    "- The``` __init__() ```Method (Constructor)\n",
    "- Passing an Object as Parameter to a Method\n",
    "- ```__del__() ```(Destructor Method)\n",
    "- class Membership Tests\n",
    "- Method Overloading in Python\n",
    "- Operator Overloading\n",
    "-  Inheritance\n",
    "- Types of Inheritance\n",
    "-  The Object Class\n",
    "- Inheritance in Detail\n",
    "- Subclass Accessing Attributes of Parent Class\n",
    "- Multilevel Inheritance in Detail\n",
    "- Multiple Inheritance in Detail\n",
    "- Using Super()\n",
    "- Method Overriding\n",
    "- Precaution: Overriding Methods in Multiple Inheritance"
   ]
  },
  {
   "cell_type": "markdown",
   "id": "b0c208c2-2480-4dca-b8b3-27d825c10367",
   "metadata": {},
   "source": [
    "### Introduction\n",
    "- Python is an object-oriented language. \n",
    "- Object-oriented languages help a programmer to reduce the complexity of programs by reusing existing modules or functions. \n",
    "- The concept of object-oriented programming language is based on class. \n",
    "- We know that class is another name for ```type``` in Python.It means a programmer can create objects of their own class.\n",
    "- So far, we have learnt various inbuilt classes, such as int, str, bool, fl oat and list. Since all of these are inbuilt classes, Python defines how these classes look and behave. Overall, in any objectoriented language, the class defines how an object of its type looks and behaves.\n",
    "- For example, we know how an integer looks. Its ‘behavior’ will be the operations one can perform on it."
   ]
  },
  {
   "cell_type": "markdown",
   "id": "0ac1836a-6afb-4905-9183-4172771bcb30",
   "metadata": {},
   "source": [
    "### DEFINING CLASSES\n",
    "- A class may contain data in the form of fields. Fields are also called attributes and coded in the form of procedures known as methods. Finally, a programmer has to create an object of its own class, where the object represents an entity which can be easily identified. \n",
    "- For example, person, vehicle, fan, book etc. represent real objects. \n",
    "- Each object has a unique identity, state and behaviour. The state of the object is also called property or attribute. \n",
    "- For example, a circular object has a data field radius which is a property that  characterises a circle. "
   ]
  },
  {
   "cell_type": "code",
   "execution_count": null,
   "id": "2acc5f04-fa7a-419b-a124-97f6d860fe5f",
   "metadata": {},
   "outputs": [],
   "source": [
    "The syntax to define a class in Python is given as follows:\n",
    "class Class_Name:\n",
    "    Initializer\n",
    "    attributes\n",
    "    methods()\n",
    "    Statement(s)"
   ]
  },
  {
   "cell_type": "code",
   "execution_count": 5,
   "id": "e23cf560-b94a-46a5-9a4d-5ef22610aad7",
   "metadata": {},
   "outputs": [
    {
     "name": "stdout",
     "output_type": "stream",
     "text": [
      "StudentName: karthik\n",
      "Student age 35\n",
      "student Dept: CSE\n",
      "StudentName: raj\n",
      "Student age 24\n",
      "student Dept: CSE\n",
      "This is simple class example using student\n",
      "<class '__main__.Student'>\n"
     ]
    }
   ],
   "source": [
    "class Student: \n",
    "    \"This is simple class example using student\"  # document string \n",
    "    def __init__(sf,name,age):   # initializer option\n",
    "        sf.name=name\n",
    "        sf.age=age\n",
    "    Dept='CSE'   # attribute\n",
    "    def display(sf): # methods\n",
    "        print(\"StudentName:\",sf.name)\n",
    "        print(\"Student age\",sf.age)\n",
    "        print(\"student Dept:\",sf.Dept)\n",
    "s1=Student(\"karthik\",35) # create student object as s1\n",
    "s2=Student(\"raj\",24)\n",
    "s1.display()\n",
    "s2.display()\n",
    "print(Student.__doc__)\n",
    "print(type(s1))"
   ]
  },
  {
   "cell_type": "code",
   "execution_count": 11,
   "id": "fea2a781-65bb-4c68-a06b-53b2d40fbd03",
   "metadata": {},
   "outputs": [
    {
     "name": "stdout",
     "output_type": "stream",
     "text": [
      "{'name': 'karthik', 'age': 35}\n",
      "{'name': 'raj', 'age': 24}\n",
      "{'__module__': '__main__', '__doc__': 'This is simple class example using student', '__init__': <function Student.__init__ at 0x00000267F1A128B0>, 'Dept': 'CSE', 'display': <function Student.display at 0x00000267F1A12310>, '__dict__': <attribute '__dict__' of 'Student' objects>, '__weakref__': <attribute '__weakref__' of 'Student' objects>}\n"
     ]
    }
   ],
   "source": [
    "print(s1.__dict__)\n",
    "print(s2.__dict__)\n",
    "print(Student.__dict__)\n"
   ]
  },
  {
   "cell_type": "code",
   "execution_count": 12,
   "id": "4079fecd-771a-4c92-86ad-0b3f39b0d713",
   "metadata": {},
   "outputs": [
    {
     "name": "stdout",
     "output_type": "stream",
     "text": [
      "['Dept', '__class__', '__delattr__', '__dict__', '__dir__', '__doc__', '__eq__', '__format__', '__ge__', '__getattribute__', '__gt__', '__hash__', '__init__', '__init_subclass__', '__le__', '__lt__', '__module__', '__ne__', '__new__', '__reduce__', '__reduce_ex__', '__repr__', '__setattr__', '__sizeof__', '__str__', '__subclasshook__', '__weakref__', 'age', 'display', 'name']\n"
     ]
    }
   ],
   "source": [
    "print(dir(s1))"
   ]
  },
  {
   "cell_type": "code",
   "execution_count": 15,
   "id": "0e916f46-6fa9-4cdd-a56b-774f495448de",
   "metadata": {},
   "outputs": [
    {
     "name": "stdout",
     "output_type": "stream",
     "text": [
      "<__main__.Demo object at 0x00000267F24E6580>\n",
      "['__class__', '__delattr__', '__dict__', '__dir__', '__doc__', '__eq__', '__format__', '__ge__', '__getattribute__', '__gt__', '__hash__', '__init__', '__init_subclass__', '__le__', '__lt__', '__module__', '__ne__', '__new__', '__reduce__', '__reduce_ex__', '__repr__', '__setattr__', '__sizeof__', '__str__', '__subclasshook__', '__weakref__']\n"
     ]
    }
   ],
   "source": [
    "#Write a simple class program.\n",
    "class Demo:\n",
    "    pass\n",
    "D1=Demo() #Instance or Object of the class Demo\n",
    "print(D1)\n",
    "print(dir(D1))"
   ]
  },
  {
   "cell_type": "code",
   "execution_count": 14,
   "id": "123d414e-7847-4953-b030-f819931abba5",
   "metadata": {},
   "outputs": [
    {
     "name": "stdout",
     "output_type": "stream",
     "text": [
      "<class 'object'>\n"
     ]
    }
   ],
   "source": [
    "print(Student.__class__.__base__)"
   ]
  },
  {
   "cell_type": "code",
   "execution_count": 16,
   "id": "400af329-2ab2-42d8-9bf9-be497aa0821b",
   "metadata": {},
   "outputs": [
    {
     "name": "stdout",
     "output_type": "stream",
     "text": [
      "<class 'object'>\n"
     ]
    }
   ],
   "source": [
    "print(Demo.__class__.__base__)"
   ]
  },
  {
   "cell_type": "code",
   "execution_count": 17,
   "id": "f80ae897-e1de-4b72-b791-928324d7671b",
   "metadata": {},
   "outputs": [
    {
     "name": "stdout",
     "output_type": "stream",
     "text": [
      " Welcome to Object-oriented Programming\n",
      "<__main__.MyFirstProgram object at 0x00000267F2C75C70>\n"
     ]
    }
   ],
   "source": [
    "#Write a program to create a simple class and print the message, “Welcome to Object-oriented\n",
    "#Programming” and print the address of the instance of the class.\n",
    "class MyFirstProgram:\n",
    "    print(\" Welcome to Object-oriented Programming\")\n",
    "C=MyFirstProgram() #Instance of class.\n",
    "print(C)"
   ]
  },
  {
   "cell_type": "markdown",
   "id": "b363531f-0700-48db-b079-5411be34f719",
   "metadata": {},
   "source": [
    "#### Adding Attributes to a Class\n",
    "- Let us consider a simple class called Rectangle which defines two instance variables length and breadth. Currently, the class Rectangle does not contain any method."
   ]
  },
  {
   "cell_type": "code",
   "execution_count": null,
   "id": "a52fdcdc-b324-42ee-88fb-e08722f5f73b",
   "metadata": {},
   "outputs": [],
   "source": [
    "class Rectangle:\n",
    "    length=0; #Attribute length\n",
    "    breadth=0; #Attribute breadth"
   ]
  },
  {
   "cell_type": "markdown",
   "id": "dda01d77-61e1-4250-91ad-cde715e7704e",
   "metadata": {},
   "source": [
    "### Accessing Attributes of a Class\n",
    "- The syntax used to access the attributes of a class is:\n",
    "```\n",
    "<object>.<attribute>\n",
    "```"
   ]
  },
  {
   "cell_type": "code",
   "execution_count": 32,
   "id": "0a60e8c2-5a99-4337-a73a-afae597f54e4",
   "metadata": {},
   "outputs": [
    {
     "name": "stdout",
     "output_type": "stream",
     "text": [
      "4\n"
     ]
    }
   ],
   "source": [
    "#Write a program to access the attributes of a class.\n",
    "class Rectangle:\n",
    "    __length=3 #Attribute length\n",
    "    breadth=4 #Attribute breadth\n",
    "R1 = Rectangle () #Instance of a class\n",
    "#print(R1.__length) #Access attribute length\n",
    "print(R1.breadth) #Access attribute breadth\n",
    "#print(R1._Rectangle__length)\n",
    "#print(dir(R1))"
   ]
  },
  {
   "cell_type": "code",
   "execution_count": 33,
   "id": "896782fc-3e83-4ca7-9d23-19fad1b9247b",
   "metadata": {},
   "outputs": [
    {
     "name": "stdout",
     "output_type": "stream",
     "text": [
      "['_Rectangle__length', '__class__', '__delattr__', '__dict__', '__dir__', '__doc__', '__eq__', '__format__', '__ge__', '__getattribute__', '__gt__', '__hash__', '__init__', '__init_subclass__', '__le__', '__lt__', '__module__', '__ne__', '__new__', '__reduce__', '__reduce_ex__', '__repr__', '__setattr__', '__sizeof__', '__str__', '__subclasshook__', '__weakref__', 'breadth']\n"
     ]
    }
   ],
   "source": [
    "print(dir(R1))"
   ]
  },
  {
   "cell_type": "markdown",
   "id": "0c701920-5a18-4673-86e5-bbab41c68146",
   "metadata": {},
   "source": [
    "### Assigning Value to an Attribute\n",
    "- The syntax used to assign a value to an attribute of an object is\n",
    "```\n",
    "<object>.<attribute> = <Value>\n",
    "```\n",
    "- The value can be anything like a Python primitive, an inbuilt data type, another object etc. It can even be a function or another class."
   ]
  },
  {
   "cell_type": "code",
   "execution_count": 1,
   "id": "ce00d6aa-e840-4971-a327-705f1cd2d6c2",
   "metadata": {},
   "outputs": [
    {
     "name": "stdout",
     "output_type": "stream",
     "text": [
      "Initial values of Attribute\n",
      "Length =  0\n",
      "Breadth =  0\n",
      "Area of Rectangle =  0\n",
      "After reassigning the value of attributes\n",
      "Length =  20\n",
      "Breadth =  30\n",
      "Area of Rectangle is  600\n"
     ]
    },
    {
     "data": {
      "text/plain": [
       "{'length': 20, 'breadth': 30}"
      ]
     },
     "execution_count": 1,
     "metadata": {},
     "output_type": "execute_result"
    }
   ],
   "source": [
    "#Write a program to calculate the area of a rectangle by assigning the value to the attributes of\n",
    "#a rectangle, i.e. length and breadth.\n",
    "class Rectangle:\n",
    "    length=0; #Attribute length\n",
    "    breadth=0; #Attribute breadth\n",
    "R1 = Rectangle () #Instance of a class\n",
    "print('Initial values of Attribute')\n",
    "print('Length = ',R1.length) #Access attribute length\n",
    "print('Breadth = ',R1.breadth) #Access attribute breadth\n",
    "print('Area of Rectangle = ',R1.length * R1.breadth )\n",
    "R1.length = 20 #Assign value to attribute length\n",
    "R1.breadth = 30 #Assign value to attribute breadth\n",
    "print('After reassigning the value of attributes')\n",
    "print('Length = ',R1.length )\n",
    "print('Breadth = ',R1.breadth )\n",
    "print('Area of Rectangle is ',R1.length * R1.breadth)\n",
    "\n",
    "R1.__dict__"
   ]
  },
  {
   "cell_type": "code",
   "execution_count": 2,
   "id": "fb6ed3bf-522c-4367-a988-bea7e9381ed4",
   "metadata": {},
   "outputs": [
    {
     "data": {
      "text/plain": [
       "{'length': 20, 'breadth': 30}"
      ]
     },
     "execution_count": 2,
     "metadata": {},
     "output_type": "execute_result"
    }
   ],
   "source": [
    "R1.__dict__"
   ]
  },
  {
   "cell_type": "markdown",
   "id": "d756c383-a0e2-4332-b0be-8b6b4cbc6238",
   "metadata": {},
   "source": [
    "#### THE SELF-PARAMETER AND ADDING METHODS TO A CLASS\n",
    "- To add methods to an existing class, the first parameter for each method should be self.\n",
    "- There is only one difference between class methods and ordinary functions. \n",
    "- The self-parameter is used in the implementation of the method, but it is not used when the method is called.\n",
    "- The variable ‘self’ refers to the object itself. Therefore, for convention it is given the name self.\n",
    "- The self in Python is equivalent to the ‘ this’ pointer in C++ and ‘this’ reference in Java.\n"
   ]
  },
  {
   "cell_type": "code",
   "execution_count": null,
   "id": "ed20a660-328b-4f21-b366-67b6f36e06bf",
   "metadata": {},
   "outputs": [],
   "source": [
    "#The syntax to add methods in a class is\n",
    "class Class_Name:\n",
    "    instance variable; #instance variable with initialisation\n",
    "    def method_name(self,parameter_list):#Paramter List is Optional\n",
    "        block_of_statements"
   ]
  },
  {
   "cell_type": "code",
   "execution_count": 12,
   "id": "dc85c6c5-0d5a-4fda-8442-ee81514f5166",
   "metadata": {},
   "outputs": [
    {
     "name": "stdout",
     "output_type": "stream",
     "text": [
      "Welcome to Python Programming\n"
     ]
    }
   ],
   "source": [
    "#Write a program to create a method Display_Message() in a class having the name MethodDemo\n",
    "#and display the message, “Welcome to Python Programming”.\n",
    "class MethodDemo:\n",
    "    def Display_Message(self):  # any name can be in parameter\n",
    "        print('Welcome to Python Programming')\n",
    "ob1 = MethodDemo() #Instance of a class\n",
    "ob1.Display_Message() #Calling Method"
   ]
  },
  {
   "cell_type": "markdown",
   "id": "507c73ac-6892-44d6-adf5-6bd3f14785fb",
   "metadata": {},
   "source": [
    "### Defining Self-parameter and Other Parameters in a Class Method"
   ]
  },
  {
   "cell_type": "code",
   "execution_count": 14,
   "id": "a2f33bb0-8792-4eea-8bd6-94dee2c464aa",
   "metadata": {},
   "outputs": [
    {
     "name": "stdout",
     "output_type": "stream",
     "text": [
      "radius =  5\n",
      "Area of circle is  78.53981633974483\n"
     ]
    }
   ],
   "source": [
    "#Write a program to create a class named Circle. Pass the parameter radius to the method\n",
    "#named Calc _ Area() and calculate the area of the circle.\n",
    "import math\n",
    "class Circle:\n",
    "    def Calc_Area(self,radius):\n",
    "        print('radius = ',radius)\n",
    "        return math.pi*radius**2\n",
    "ob1 = Circle()\n",
    "print('Area of circle is ',ob1.Calc_Area(5))"
   ]
  },
  {
   "cell_type": "code",
   "execution_count": 15,
   "id": "6feeb702-5bf4-4a73-b43f-33d10d652627",
   "metadata": {},
   "outputs": [
    {
     "name": "stdout",
     "output_type": "stream",
     "text": [
      "length =  5\n",
      "breadth =  4\n",
      "Area of Rectangle is  20\n"
     ]
    }
   ],
   "source": [
    "#Write a program to calculate the area of a rectangle. Pass the length and breadth of the\n",
    "#rectangle to the method named Calc_Rect_Area().\n",
    "class Rectangle:\n",
    "    def Calc_Area_Rect(self,length,breadth):\n",
    "        print('length = ',length)\n",
    "        print('breadth = ',breadth)\n",
    "        return length*breadth\n",
    "ob1 = Rectangle()\n",
    "print('Area of Rectangle is ',ob1.Calc_Area_Rect(5,4))"
   ]
  },
  {
   "cell_type": "code",
   "execution_count": null,
   "id": "ef656174-3374-4bb9-b97b-f9bf6a2ca9af",
   "metadata": {},
   "outputs": [],
   "source": [
    "The Self-parameter with Instance Variable\n",
    "As discussed above, the self-work as a reference to the current object whose method is invoked. The\n",
    "self can also be used to refer any attribute/member variable or instance variable of the current\n",
    "object from within the instance method. The self is used to handle variables."
   ]
  },
  {
   "cell_type": "code",
   "execution_count": 17,
   "id": "b3449e93-7010-4dea-92cd-5c5d5b46d75e",
   "metadata": {},
   "outputs": [
    {
     "name": "stdout",
     "output_type": "stream",
     "text": [
      " The value of local variable x is 30\n",
      "The value of instance variable x is  30\n"
     ]
    }
   ],
   "source": [
    "class Prac:\n",
    "    x=5 # attribute x\n",
    "    def disp(self, x):\n",
    "        x=30\n",
    "        print(' The value of local variable x is',x)\n",
    "        print('The value of instance variable x is ',x)\n",
    "ob=Prac()\n",
    "ob.disp(50)"
   ]
  },
  {
   "cell_type": "code",
   "execution_count": 18,
   "id": "a18460cb-6dd6-47b5-8273-fb7e3715055d",
   "metadata": {},
   "outputs": [
    {
     "name": "stdout",
     "output_type": "stream",
     "text": [
      " The value of local variable x is 30\n",
      "The value of instance variable x is  5\n"
     ]
    }
   ],
   "source": [
    "#Write a program to demonstrate the use of self with an instance variable to solve the problem\n",
    "#of variable hiding.\n",
    "class Prac:\n",
    "    x=5 # attribute x\n",
    "    def disp(self, x):\n",
    "        x=30\n",
    "        print(' The value of local variable x is',x)\n",
    "        print('The value of instance variable x is ',self.x)\n",
    "ob=Prac()\n",
    "ob.disp(50)"
   ]
  },
  {
   "cell_type": "code",
   "execution_count": null,
   "id": "58d4bfdd-c9da-4303-b9cf-2ae99668590e",
   "metadata": {},
   "outputs": [],
   "source": [
    "The Self-parameter with Method"
   ]
  },
  {
   "cell_type": "code",
   "execution_count": null,
   "id": "6bb801fc-4a56-49ce-9f14-23ed640b8ff8",
   "metadata": {},
   "outputs": [],
   "source": [
    "Write a program to create two methods, i.e. Method_A() and Method_B(). Call\n",
    "Method_A() from Method_B() using self."
   ]
  },
  {
   "cell_type": "code",
   "execution_count": 19,
   "id": "2c032d5a-9911-4b63-8087-958147ac9f7b",
   "metadata": {},
   "outputs": [
    {
     "name": "stdout",
     "output_type": "stream",
     "text": [
      "In Method B calling Method A\n",
      "In Method A\n",
      "wow got a called from A!!!\n"
     ]
    }
   ],
   "source": [
    "class Self_Demo:\n",
    "    def Method_A(self):\n",
    "        print('In Method A')\n",
    "        print('wow got a called from A!!!')\n",
    "    def Method_B(self):\n",
    "        print('In Method B calling Method A')\n",
    "        self.Method_A() #Calling Method_A\n",
    "Q=Self_Demo()\n",
    "Q.Method_B() #calling Method_B"
   ]
  },
  {
   "cell_type": "code",
   "execution_count": null,
   "id": "a6b2487e-3d47-4467-a84f-7b51a8ead2a9",
   "metadata": {},
   "outputs": [],
   "source": [
    "DISPLAY CLASS ATTRIBUTES AND METHODS\n",
    "There are two ways to determine the attributes in a class. \n",
    "One way is by using the inbuilt function dir().\n",
    "The syntax used to display dir() attributes is:\n",
    "dir(name_of_class) or dir(Instance_of_class)"
   ]
  },
  {
   "cell_type": "code",
   "execution_count": null,
   "id": "f6e59517-01e7-4f94-9306-f82866ffa4c9",
   "metadata": {},
   "outputs": [],
   "source": [
    "Write a program to display the attributes present in a given class"
   ]
  },
  {
   "cell_type": "code",
   "execution_count": 20,
   "id": "c6e07ff1-7a80-4fd0-bfd6-e18e10f2811e",
   "metadata": {},
   "outputs": [
    {
     "name": "stdin",
     "output_type": "stream",
     "text": [
      "Enter Name of student:  kar\n"
     ]
    },
    {
     "name": "stdout",
     "output_type": "stream",
     "text": [
      "Name =  kar\n"
     ]
    },
    {
     "name": "stdin",
     "output_type": "stream",
     "text": [
      "Enter Age of the Student: 34\n"
     ]
    },
    {
     "name": "stdout",
     "output_type": "stream",
     "text": [
      "Age =  34\n"
     ]
    }
   ],
   "source": [
    "class DisplayDemo:\n",
    "    Name = ''; #Attribute\n",
    "    Age = ''; #Attribute\n",
    "    def read(self):\n",
    "        Name=input('Enter Name of student: ')\n",
    "        print('Name = ',Name)\n",
    "        Age=input('Enter Age of the Student:')\n",
    "        print('Age = ',Age)\n",
    "D1 = DisplayDemo()\n",
    "D1.read()"
   ]
  },
  {
   "cell_type": "code",
   "execution_count": 24,
   "id": "888eafab-fef7-444f-a76c-17e6d1bc5f48",
   "metadata": {},
   "outputs": [
    {
     "ename": "TypeError",
     "evalue": "Only integers are allowed",
     "output_type": "error",
     "traceback": [
      "\u001b[1;31m---------------------------------------------------------------------------\u001b[0m",
      "\u001b[1;31mTypeError\u001b[0m                                 Traceback (most recent call last)",
      "\u001b[1;32m~\\AppData\\Local\\Temp/ipykernel_8040/4055459169.py\u001b[0m in \u001b[0;36m<module>\u001b[1;34m\u001b[0m\n\u001b[0;32m      1\u001b[0m \u001b[0mx\u001b[0m \u001b[1;33m=\u001b[0m\u001b[1;34m\"hello\"\u001b[0m\u001b[1;33m\u001b[0m\u001b[1;33m\u001b[0m\u001b[0m\n\u001b[0;32m      2\u001b[0m \u001b[1;32mif\u001b[0m \u001b[1;32mnot\u001b[0m \u001b[0mtype\u001b[0m\u001b[1;33m(\u001b[0m\u001b[0mx\u001b[0m\u001b[1;33m)\u001b[0m \u001b[1;32mis\u001b[0m \u001b[0mint\u001b[0m\u001b[1;33m:\u001b[0m\u001b[1;33m\u001b[0m\u001b[1;33m\u001b[0m\u001b[0m\n\u001b[1;32m----> 3\u001b[1;33m      \u001b[1;32mraise\u001b[0m \u001b[0mTypeError\u001b[0m\u001b[1;33m(\u001b[0m\u001b[1;34m\"Only integers are allowed\"\u001b[0m\u001b[1;33m)\u001b[0m\u001b[1;33m\u001b[0m\u001b[1;33m\u001b[0m\u001b[0m\n\u001b[0m",
      "\u001b[1;31mTypeError\u001b[0m: Only integers are allowed"
     ]
    }
   ],
   "source": []
  },
  {
   "cell_type": "code",
   "execution_count": null,
   "id": "f21d9bb3-2192-4f00-8b72-fccf284ffe6c",
   "metadata": {},
   "outputs": [],
   "source": [
    "An alternate way to display the attributes of a class is by using a special \n",
    "class attribute _dict__.\n",
    "The syntax to display the attributes and methods of an existing class using __dict__ is\n",
    "Class_Name.__dict__"
   ]
  },
  {
   "cell_type": "code",
   "execution_count": 25,
   "id": "9c8c2544-9f70-44e7-b062-986d7df408a3",
   "metadata": {},
   "outputs": [
    {
     "data": {
      "text/plain": [
       "mappingproxy({'__module__': '__main__',\n",
       "              'Name': '',\n",
       "              'Age': '',\n",
       "              'read': <function __main__.DisplayDemo.read(self)>,\n",
       "              '__dict__': <attribute '__dict__' of 'DisplayDemo' objects>,\n",
       "              '__weakref__': <attribute '__weakref__' of 'DisplayDemo' objects>,\n",
       "              '__doc__': None})"
      ]
     },
     "execution_count": 25,
     "metadata": {},
     "output_type": "execute_result"
    }
   ],
   "source": [
    "DisplayDemo.__dict__"
   ]
  },
  {
   "cell_type": "code",
   "execution_count": null,
   "id": "0b1f69a4-31b4-46a1-a209-b6bed15834d8",
   "metadata": {},
   "outputs": [],
   "source": [
    "SPECIAL CLASS ATTRIBUTES"
   ]
  },
  {
   "cell_type": "code",
   "execution_count": 26,
   "id": "bfe50a46-6617-4355-ae98-c0e8cfeec3b0",
   "metadata": {},
   "outputs": [],
   "source": [
    "class Demo1:\n",
    "    pass\n",
    "D1=Demo1()"
   ]
  },
  {
   "cell_type": "code",
   "execution_count": 27,
   "id": "edc7edd2-272e-4663-a1b0-b877d57d00e5",
   "metadata": {},
   "outputs": [
    {
     "data": {
      "text/plain": [
       "['__class__',\n",
       " '__delattr__',\n",
       " '__dict__',\n",
       " '__dir__',\n",
       " '__doc__',\n",
       " '__eq__',\n",
       " '__format__',\n",
       " '__ge__',\n",
       " '__getattribute__',\n",
       " '__gt__',\n",
       " '__hash__',\n",
       " '__init__',\n",
       " '__init_subclass__',\n",
       " '__le__',\n",
       " '__lt__',\n",
       " '__module__',\n",
       " '__ne__',\n",
       " '__new__',\n",
       " '__reduce__',\n",
       " '__reduce_ex__',\n",
       " '__repr__',\n",
       " '__setattr__',\n",
       " '__sizeof__',\n",
       " '__str__',\n",
       " '__subclasshook__',\n",
       " '__weakref__']"
      ]
     },
     "execution_count": 27,
     "metadata": {},
     "output_type": "execute_result"
    }
   ],
   "source": [
    "dir(D1)"
   ]
  },
  {
   "cell_type": "code",
   "execution_count": null,
   "id": "8bf70e28-fa02-4f2b-a35a-e0b3e50ab554",
   "metadata": {},
   "outputs": [],
   "source": [
    "The Demo1 is a simple class. It neither contains any methods nor any attributes. \n",
    "However, by default it contains a list of special methods sorted in \n",
    "an ascending order as output of dir()."
   ]
  },
  {
   "attachments": {
    "12cb6f82-fd28-41a2-9e95-65816129f0a1.png": {
     "image/png": "[encoded data removed]"
    }
   },
   "cell_type": "markdown",
   "id": "f1f10af4-99b7-423b-8986-bcc7ff9286d3",
   "metadata": {},
   "source": [
    "![image.png](attachment:12cb6f82-fd28-41a2-9e95-65816129f0a1.png)"
   ]
  },
  {
   "cell_type": "code",
   "execution_count": null,
   "id": "4ef02ee3-7d43-4a34-933a-2d6c5f3e1fb4",
   "metadata": {},
   "outputs": [],
   "source": [
    "ACCESSIBILITY\n",
    "In Python, there are no keywords like public, protected or private. All attributes and methods are public by default.\n",
    "There is one way to define private in Python. \n",
    "The syntax to define private attribute and methods is\n",
    "__Attribute\n",
    "__Methods_Name()\n",
    "To make an attribute and a method private, we need to add two underscores, \n",
    "i.e. “__” in front of the attribute and the method’s name.\n",
    "It helps in hiding these when accessed out of class."
   ]
  },
  {
   "cell_type": "code",
   "execution_count": 28,
   "id": "152bbaa4-e8d9-4973-a294-d0e2884a0662",
   "metadata": {},
   "outputs": [
    {
     "name": "stdout",
     "output_type": "stream",
     "text": [
      " Name =  Bill Gates\n",
      " Name =  Bill Gates\n",
      "Bank Account Number =  10101\n"
     ]
    },
    {
     "ename": "AttributeError",
     "evalue": "'Person' object has no attribute '__BankAccNo'",
     "output_type": "error",
     "traceback": [
      "\u001b[1;31m---------------------------------------------------------------------------\u001b[0m",
      "\u001b[1;31mAttributeError\u001b[0m                            Traceback (most recent call last)",
      "\u001b[1;32m~\\AppData\\Local\\Temp/ipykernel_8040/3864604970.py\u001b[0m in \u001b[0;36m<module>\u001b[1;34m\u001b[0m\n\u001b[0;32m     12\u001b[0m \u001b[0mP\u001b[0m\u001b[1;33m.\u001b[0m\u001b[0mDisplay\u001b[0m\u001b[1;33m(\u001b[0m\u001b[1;33m)\u001b[0m\u001b[1;33m\u001b[0m\u001b[1;33m\u001b[0m\u001b[0m\n\u001b[0;32m     13\u001b[0m \u001b[1;31m#Try to access private variable outside class but fails\u001b[0m\u001b[1;33m\u001b[0m\u001b[1;33m\u001b[0m\u001b[1;33m\u001b[0m\u001b[0m\n\u001b[1;32m---> 14\u001b[1;33m \u001b[0mprint\u001b[0m\u001b[1;33m(\u001b[0m\u001b[1;34m' Salary = '\u001b[0m\u001b[1;33m,\u001b[0m\u001b[0mP\u001b[0m\u001b[1;33m.\u001b[0m\u001b[0m__BankAccNo\u001b[0m\u001b[1;33m)\u001b[0m\u001b[1;33m\u001b[0m\u001b[1;33m\u001b[0m\u001b[0m\n\u001b[0m\u001b[0;32m     15\u001b[0m \u001b[0mP\u001b[0m\u001b[1;33m.\u001b[0m\u001b[0mDisplaay\u001b[0m\u001b[1;33m(\u001b[0m\u001b[1;33m)\u001b[0m\u001b[1;33m\u001b[0m\u001b[1;33m\u001b[0m\u001b[0m\n\u001b[0;32m     16\u001b[0m \u001b[1;33m\u001b[0m\u001b[0m\n",
      "\u001b[1;31mAttributeError\u001b[0m: 'Person' object has no attribute '__BankAccNo'"
     ]
    }
   ],
   "source": [
    "#Write a program to illustrate the use of private.\n",
    "class Person:\n",
    "    def __init__(self):\n",
    "        self.Name = 'Bill Gates' #Public attribute\n",
    "        self.__BankAccNo =10101 #Private attribute\n",
    "    def Display(self):\n",
    "        print(' Name = ',self.Name)\n",
    "        print('Bank Account Number = ',self.__BankAccNo)\n",
    "P = Person()\n",
    "#Access public attribute outside class\n",
    "print(' Name = ',P.Name)\n",
    "P.Display()\n",
    "#Try to access private variable outside class but fails\n",
    "print(' Salary = ',P.__BankAccNo)\n",
    "P.Displaay()\n",
    "        "
   ]
  },
  {
   "cell_type": "markdown",
   "id": "5f1d3022-d93d-458a-8de8-05074d1120d8",
   "metadata": {},
   "source": [
    "### THE ``` _init__ ```METHOD (CONSTRUCTOR)"
   ]
  },
  {
   "cell_type": "code",
   "execution_count": null,
   "id": "93534e00-94f4-4bfc-b6ca-7990cdd76334",
   "metadata": {},
   "outputs": [],
   "source": [
    "The __init__ method is known as an initialiser. It is a special method that is used to initialise the\n",
    "instance variable of an object. This method runs as soon as an object of a class is instantiated. The\n",
    "syntax of adding __init__ method to a class is given as follows:\n",
    "    class Class_Name:\n",
    "        def __init__(self): #__init__ method"
   ]
  },
  {
   "cell_type": "code",
   "execution_count": null,
   "id": "d97fb65d-2ee0-4b00-bcb9-b0e216ff263f",
   "metadata": {},
   "outputs": [],
   "source": [
    "Note that init needs to be preceded and followed by two underscores. \n",
    "Also __init__ method must have self as the first argument. \n",
    "As self refers to the object itself, it refers to the object that invokes the method. \n",
    "The self-parameter within the __init__ method automatically sets the reference for the object just created. \n",
    "The __init__ method can also have positional and/or keyword arguments."
   ]
  },
  {
   "cell_type": "code",
   "execution_count": 8,
   "id": "d8289d80-cb19-49dd-a0fb-23da297ee483",
   "metadata": {},
   "outputs": [
    {
     "name": "stdout",
     "output_type": "stream",
     "text": [
      "The area of Circle is  78.5\n",
      "<__main__.Circle object at 0x000001D9FC89D460>\n"
     ]
    }
   ],
   "source": [
    "#Write a simple program using the init method.\n",
    "class Circle:\n",
    "  \n",
    "    def __init__(self,pi):\n",
    "        self.pi = pi\n",
    "    def calc_area(self,radius):\n",
    "        return self.pi*radius**2\n",
    "    \n",
    "C1=Circle(3.14)\n",
    "print('The area of Circle is ',C1.calc_area(5))\n",
    "print(C1)"
   ]
  },
  {
   "cell_type": "code",
   "execution_count": 31,
   "id": "ac5f5615-156b-4275-b9c6-cce291e7f57d",
   "metadata": {},
   "outputs": [],
   "source": [
    "Attributes and _init__ Method\n",
    "Programmers can initialise the value of a member variable or attribute by making use of the\n",
    "__init__ method."
   ]
  },
  {
   "cell_type": "code",
   "execution_count": 9,
   "id": "3a61f1be-40e6-4fe0-bfb9-7820e9e9b00c",
   "metadata": {},
   "outputs": [
    {
     "name": "stdout",
     "output_type": "stream",
     "text": [
      "Radius =  5\n",
      " The area of Circle is  78.5\n"
     ]
    }
   ],
   "source": [
    "#Write a program to initialise the value of the attributes by making use of the init method.\n",
    "class Circle:\n",
    "    pi = 0; #Attribute pi\n",
    "    radius = 0 #Attribute radius\n",
    "    def __init__(self):\n",
    "        self.pi = 3.14\n",
    "        self.radius = 5\n",
    "    def calc_area(self):\n",
    "        print('Radius = ',self.radius)\n",
    "        return self.pi*self.radius**2\n",
    "C1=Circle()\n",
    "print(' The area of Circle is ',C1.calc_area())"
   ]
  },
  {
   "cell_type": "code",
   "execution_count": null,
   "id": "245540ec-1d93-452e-9d6c-9717994ec6d2",
   "metadata": {},
   "outputs": [],
   "source": [
    "More Programs on __init__ Method"
   ]
  },
  {
   "cell_type": "code",
   "execution_count": 10,
   "id": "df97619a-fe97-4649-b8ec-d814c1cc1b10",
   "metadata": {},
   "outputs": [
    {
     "name": "stdout",
     "output_type": "stream",
     "text": [
      "Width =  5\n",
      "Height =  5\n",
      "depth =  5\n",
      " The Volume of Cube is  125\n"
     ]
    }
   ],
   "source": [
    "#Write a program to calculate the volume of a box.\n",
    "class Box:\n",
    "    width = 0; #Member Variables\n",
    "    height = 0;\n",
    "    depth = 0;\n",
    "    volume = 0;\n",
    "    def __init__(self):\n",
    "        self.width = 5\n",
    "        self.height = 5\n",
    "        self.depth = 5\n",
    "    def calc_vol(self):\n",
    "        print('Width = ',self.width)\n",
    "        print('Height = ',self.height)\n",
    "        print('depth = ',self.depth)\n",
    "        return self.width * self.height * self.depth\n",
    "B1=Box()\n",
    "print(' The Volume of Cube is ',B1.calc_vol())"
   ]
  },
  {
   "cell_type": "code",
   "execution_count": null,
   "id": "24e076f0-8b97-41a4-800c-ff96c0ee9105",
   "metadata": {},
   "outputs": [],
   "source": [
    "PASSING AN OBJECT AS PARAMETER TO A METHOD\n",
    "So far, we have learnt about passing any kind of parameter of any type to methods.\n",
    "We can also pass objects as parameter to a method."
   ]
  },
  {
   "cell_type": "code",
   "execution_count": 12,
   "id": "377741c9-373a-49c0-9a6d-54c22f044ae4",
   "metadata": {},
   "outputs": [
    {
     "name": "stdout",
     "output_type": "stream",
     "text": [
      " Obj1 == Obj2  True\n",
      " Obj1 == Obj3  False\n"
     ]
    }
   ],
   "source": [
    "#Write a program to pass an object as parameter to a method.\n",
    "class Test:\n",
    "    a = 0\n",
    "    b = 0\n",
    "    def __init__(self, x , y):\n",
    "        self.a = x\n",
    "        self.b = y\n",
    "    def equals(self, obj):\n",
    "        if(obj.a == self.a and obj.b == self.b):\n",
    "            return True\n",
    "        else:\n",
    "            return False\n",
    "Obj1 = Test(10,20)\n",
    "Obj2 = Test(10,20)\n",
    "Obj3 = Test(12,90)\n",
    "print(' Obj1 == Obj2 ',Obj1.equals(Obj2))\n",
    "print(' Obj1 == Obj3 ',Obj1.equals(Obj3))"
   ]
  },
  {
   "cell_type": "code",
   "execution_count": null,
   "id": "643e5dff-da3d-4057-bf7c-7bc752c5b00f",
   "metadata": {},
   "outputs": [],
   "source": []
  },
  {
   "cell_type": "code",
   "execution_count": 13,
   "id": "59361ffe-7c4c-445b-b21b-222c11a8b10d",
   "metadata": {},
   "outputs": [
    {
     "name": "stdout",
     "output_type": "stream",
     "text": [
      "Length =  10\n",
      " Breadth =  20\n",
      "The area of Rectangle is  200\n"
     ]
    }
   ],
   "source": [
    "#Write a program to calculate the area of a rectangle by passing an object as parameter to method.\n",
    "class Rectangle:\n",
    "    length = 0\n",
    "    breadth = 0\n",
    "    def __init__(self, l , w):\n",
    "        self.length = l\n",
    "        self.breadth = w\n",
    "    def Calc_Area(self, obj):\n",
    "        print('Length = ',obj.length)\n",
    "        print(' Breadth = ',obj.breadth)\n",
    "        return obj.length * obj.breadth\n",
    "Obj1 = Rectangle(10,20)\n",
    "print('The area of Rectangle is ', Obj1.Calc_Area(Obj1))"
   ]
  },
  {
   "cell_type": "code",
   "execution_count": null,
   "id": "82288e4f-a876-440e-b258-de3a204a486d",
   "metadata": {},
   "outputs": [],
   "source": [
    "__del__() ( DESTRUCTOR METHOD)\n",
    "Like other object-oriented programming languages, Python also has a destructor. \n",
    "The method __del__ denotes the destructor.the syntax to define destructor is.\n",
    "def __del__(self)\n",
    "    block"
   ]
  },
  {
   "cell_type": "code",
   "execution_count": 8,
   "id": "17d72248-0688-4baa-831b-ee80e675232d",
   "metadata": {},
   "outputs": [
    {
     "name": "stdout",
     "output_type": "stream",
     "text": [
      "False\n"
     ]
    }
   ],
   "source": [
    "class Person:\n",
    "    def __init__(self, name, surname):\n",
    "        self.name = name\n",
    "        self.surname = surname\n",
    "    def __eq__(self, other): # does self == other?\n",
    "        return self.name == other.name and self.surname == other.surname\n",
    "    def __gt__(self, other): # is self > other?\n",
    "        if self.surname == other.surname:\n",
    "            return self.name > other.name\n",
    "        return self.surname > other.surname\n",
    "# now we can define all the other methods in terms of the first two\n",
    "    def __ne__(self, other): # does self != other?\n",
    "        return not self == other # this calls self.__eq__(other)\n",
    "    def __le__(self, other): # is self <= other?\n",
    "        return not self > other # this calls self.__gt__(other)\n",
    "    def __lt__(self, other): # is self < other?\n",
    "        return not (self > other or self == other)\n",
    "    def __ge__(self, other): # is self >= other?\n",
    "        return not self < other\n",
    "p1=Person(\"Ram\",\"kumar\")\n",
    "p2=Person(\"Siva\",\"kumar\")\n",
    "p3=Person(\"Zam\",\"kumar\")\n",
    "print(p1>=p3)"
   ]
  },
  {
   "cell_type": "code",
   "execution_count": 13,
   "id": "a9e45635-3be5-4de7-9274-96ccb425eab1",
   "metadata": {},
   "outputs": [
    {
     "ename": "TypeError",
     "evalue": "__init__() takes 3 positional arguments but 4 were given",
     "output_type": "error",
     "traceback": [
      "\u001b[1;31m---------------------------------------------------------------------------\u001b[0m",
      "\u001b[1;31mTypeError\u001b[0m                                 Traceback (most recent call last)",
      "\u001b[1;32m~\\AppData\\Local\\Temp/ipykernel_15936/1186109033.py\u001b[0m in \u001b[0;36m<module>\u001b[1;34m\u001b[0m\n\u001b[0;32m     12\u001b[0m \u001b[1;33m\u001b[0m\u001b[0m\n\u001b[0;32m     13\u001b[0m \u001b[1;31m##s1=Student(\"Rajan\",23)\u001b[0m\u001b[1;33m\u001b[0m\u001b[1;33m\u001b[0m\u001b[1;33m\u001b[0m\u001b[0m\n\u001b[1;32m---> 14\u001b[1;33m \u001b[0ms2\u001b[0m\u001b[1;33m=\u001b[0m\u001b[0mStudent\u001b[0m\u001b[1;33m(\u001b[0m\u001b[1;34m\"Ravi\"\u001b[0m\u001b[1;33m,\u001b[0m\u001b[1;36m25\u001b[0m\u001b[1;33m,\u001b[0m\u001b[1;34m\"CSE\"\u001b[0m\u001b[1;33m)\u001b[0m\u001b[1;33m\u001b[0m\u001b[1;33m\u001b[0m\u001b[0m\n\u001b[0m\u001b[0;32m     15\u001b[0m \u001b[1;33m\u001b[0m\u001b[0m\n\u001b[0;32m     16\u001b[0m \u001b[1;33m\u001b[0m\u001b[0m\n",
      "\u001b[1;31mTypeError\u001b[0m: __init__() takes 3 positional arguments but 4 were given"
     ]
    }
   ],
   "source": [
    "class Student:\n",
    "   \n",
    "    \n",
    "    def __init__(self,Sname,Sage,Sdept):\n",
    "        self.Sname=Sname\n",
    "        self.Sage=Sage\n",
    "        self.Sdept=Sdept\n",
    "        \n",
    "    def __init__(self,Sname,Sage):\n",
    "        self.Sname=Sname\n",
    "        self.Sage=Sage\n",
    "        \n",
    "##s1=Student(\"Rajan\",23)\n",
    "s2=Student(\"Ravi\",25,\"CSE\")\n",
    "\n",
    "  \n",
    "        "
   ]
  },
  {
   "cell_type": "code",
   "execution_count": 54,
   "id": "2475f9e0-98e7-41a5-9dbe-854d5854430f",
   "metadata": {},
   "outputs": [
    {
     "name": "stdout",
     "output_type": "stream",
     "text": [
      "Val1 is10,Val2 is20,Val3 is30\n",
      "This is child class B\n",
      "None\n",
      "This msg is from A \n",
      "None\n",
      "10\n",
      "20\n",
      "30\n"
     ]
    }
   ],
   "source": [
    "class A:#Parent /base/ super class \n",
    "    val1=10\n",
    "    _val2=20\n",
    "    __val3=30\n",
    "    def say_msgA(self):\n",
    "        print(\"This msg is from A \")\n",
    "    def display(self):\n",
    "        print( f\"Val1 is{self.val1},Val2 is{self._val2},Val3 is{self.__val3}\")\n",
    "    \n",
    "class B(A): # class A is inherited to class B /class B is drived from class A   # child class/sub class\n",
    "    def display(self):\n",
    "            super().display()\n",
    "            print( \"This is child class B\")\n",
    "\n",
    "objb1=B()\n",
    "print(objb1.display())\n",
    "print(objb1.say_msgA())\n",
    "print(objb1.val1)\n",
    "print(objb1._val2)\n",
    "#print(dir(objb1))\n",
    "print(objb1._A__val3)\n",
    "\n"
   ]
  },
  {
   "cell_type": "code",
   "execution_count": 77,
   "id": "f14b2847-14a0-46dd-bcec-db7ca0e5b5a9",
   "metadata": {},
   "outputs": [
    {
     "name": "stdout",
     "output_type": "stream",
     "text": [
      "4 2\n",
      "6\n",
      "8\n"
     ]
    }
   ],
   "source": [
    "class A:\n",
    "    def __init__(self,x,y):\n",
    "        self.x=x\n",
    "        self.y=y\n",
    "    def show_value(self):\n",
    "        print(self.x,self.y)\n",
    "    def add(self):\n",
    "        print(self.x+self.y)\n",
    "class B(A):\n",
    "    def mul(self):\n",
    "        print(self.x*self.y)\n",
    "    pass\n",
    " \n",
    " \n",
    "    \n",
    "b1=B(4,2)\n",
    "b1.show_value()\n",
    "b1.add()\n",
    "b1.mul()\n"
   ]
  },
  {
   "cell_type": "code",
   "execution_count": 79,
   "id": "71166ebc-002a-4414-85b3-5735c9852b3f",
   "metadata": {},
   "outputs": [
    {
     "name": "stdout",
     "output_type": "stream",
     "text": [
      "Eating...\n",
      "Barking...\n"
     ]
    }
   ],
   "source": [
    "class Animal:\n",
    "    def eat(self):\n",
    "        print('Eating...')\n",
    "class Dog(Animal):\n",
    "    def bark(self):\n",
    "        print( 'Barking...')\n",
    "d=Dog()\n",
    "d.eat()\n",
    "d.bark()"
   ]
  },
  {
   "cell_type": "code",
   "execution_count": null,
   "id": "27c38637-3fad-4597-b56d-c36393f2663a",
   "metadata": {},
   "outputs": [],
   "source": [
    "Multi Level Inheritance"
   ]
  },
  {
   "cell_type": "code",
   "execution_count": 83,
   "id": "364e9f00-6ca5-4d67-bcfd-159f354fba33",
   "metadata": {},
   "outputs": [
    {
     "name": "stdout",
     "output_type": "stream",
     "text": [
      "Eating...\n"
     ]
    },
    {
     "ename": "AttributeError",
     "evalue": "'Animal' object has no attribute 'bark'",
     "output_type": "error",
     "traceback": [
      "\u001b[1;31m---------------------------------------------------------------------------\u001b[0m",
      "\u001b[1;31mAttributeError\u001b[0m                            Traceback (most recent call last)",
      "\u001b[1;32m~\\AppData\\Local\\Temp/ipykernel_15936/1649284004.py\u001b[0m in \u001b[0;36m<module>\u001b[1;34m\u001b[0m\n\u001b[0;32m     11\u001b[0m \u001b[0md\u001b[0m\u001b[1;33m=\u001b[0m\u001b[0mAnimal\u001b[0m\u001b[1;33m(\u001b[0m\u001b[1;33m)\u001b[0m\u001b[1;33m\u001b[0m\u001b[1;33m\u001b[0m\u001b[0m\n\u001b[0;32m     12\u001b[0m \u001b[0md\u001b[0m\u001b[1;33m.\u001b[0m\u001b[0meat\u001b[0m\u001b[1;33m(\u001b[0m\u001b[1;33m)\u001b[0m\u001b[1;33m\u001b[0m\u001b[1;33m\u001b[0m\u001b[0m\n\u001b[1;32m---> 13\u001b[1;33m \u001b[0md\u001b[0m\u001b[1;33m.\u001b[0m\u001b[0mbark\u001b[0m\u001b[1;33m(\u001b[0m\u001b[1;33m)\u001b[0m\u001b[1;33m\u001b[0m\u001b[1;33m\u001b[0m\u001b[0m\n\u001b[0m\u001b[0;32m     14\u001b[0m \u001b[0md\u001b[0m\u001b[1;33m.\u001b[0m\u001b[0mweep\u001b[0m\u001b[1;33m(\u001b[0m\u001b[1;33m)\u001b[0m\u001b[1;33m\u001b[0m\u001b[1;33m\u001b[0m\u001b[0m\n",
      "\u001b[1;31mAttributeError\u001b[0m: 'Animal' object has no attribute 'bark'"
     ]
    }
   ],
   "source": [
    "class Animal:\n",
    "    def eat(self):\n",
    "        print( 'Eating...')\n",
    "class Dog(Animal):\n",
    "    def bark(self):\n",
    "        print('Barking...')\n",
    "class BabyDog(Dog):\n",
    "    def weep(self):\n",
    "        print( 'Weeping...')\n",
    "#d=BabyDog()\n",
    "d=Animal()\n",
    "d.eat()\n",
    "d.bark()\n",
    "d.weep()"
   ]
  },
  {
   "cell_type": "code",
   "execution_count": 98,
   "id": "cac90d4f-2dab-425b-a424-0c985fbb43ec",
   "metadata": {},
   "outputs": [
    {
     "name": "stdout",
     "output_type": "stream",
     "text": [
      "first\n",
      "second\n",
      "third\n"
     ]
    }
   ],
   "source": [
    "# Multiple Inheitance \n",
    "class First(object):\n",
    "    def __init__(self):\n",
    "        super(First, self).__init__()\n",
    "        print(\"first\")\n",
    "class Second(object):\n",
    "    def __init__(self):\n",
    "        super(Second, self).__init__()\n",
    "        print(\"second\")\n",
    "class Third(Second,First):\n",
    "        def __init__(self):\n",
    "            super(Third, self).__init__()\n",
    "            print(\"third\")\n",
    "t1=Third()\n"
   ]
  },
  {
   "cell_type": "code",
   "execution_count": 99,
   "id": "a906bd5a-65a1-4015-a4e1-f4d7412872fd",
   "metadata": {},
   "outputs": [
    {
     "name": "stdout",
     "output_type": "stream",
     "text": [
      "Starting engine\n",
      "I have two wheels\n",
      "Stopping engine\n"
     ]
    }
   ],
   "source": [
    "class Vehicle:\n",
    "    def start(self):\n",
    "        print(\"Starting engine\")\n",
    "    def stop(self):\n",
    "        print(\"Stopping engine\")\n",
    "class TwoWheeler(Vehicle):\n",
    "    def say(self):\n",
    "        super().start()\n",
    "        print(\"I have two wheels\")\n",
    "        super().stop()\n",
    "Pulsar=TwoWheeler()\n",
    "Pulsar.say()"
   ]
  },
  {
   "cell_type": "code",
   "execution_count": 112,
   "id": "f4ffc492-22c7-4e4a-bba6-16a7a13ebaa0",
   "metadata": {},
   "outputs": [
    {
     "name": "stdout",
     "output_type": "stream",
     "text": [
      "Scientific American Monthly 100 200\n",
      "This is from Publication\n",
      "This is from  Magazine\n",
      "None\n"
     ]
    }
   ],
   "source": [
    "#multilevel Inheritance\n",
    "class Publication:\n",
    "    value=100\n",
    "    def __init__(self, title, price):\n",
    "        self.title = title\n",
    "        self.price = price\n",
    "    def say(self):\n",
    "        print(\"This is from Publication\")\n",
    "class Periodical(Publication):\n",
    "    value2=200\n",
    "    def __init__(self, title, price, publisher, period):\n",
    "        super().__init__(title, price)\n",
    "        self.period = period\n",
    "        self.publisher = publisher\n",
    "        def say(self):\n",
    "            super(Periodical,self).say()\n",
    "            print(\"This is from Periodical\")\n",
    "\n",
    "class Magazine(Periodical):\n",
    "    def __init__(self, title, publisher, price, period):\n",
    "        super().__init__(title, price, publisher, period)\n",
    "    def say(self):\n",
    "            super(Magazine,self).say()\n",
    "            print(\"This is from  Magazine\")\n",
    "\n",
    "m1 = Magazine(\"Scientific American\", \"Springer Nature\", 5.99, \"Monthly\")\n",
    "print(m1.title,m1.period,m1.value,m1.value2)\n",
    "print(m1.say())\n"
   ]
  },
  {
   "cell_type": "code",
   "execution_count": 117,
   "id": "1e275fb7-bc0b-4683-80cd-2f28a9cde2e6",
   "metadata": {},
   "outputs": [
    {
     "name": "stdout",
     "output_type": "stream",
     "text": [
      "first\n",
      "second\n",
      "third\n"
     ]
    }
   ],
   "source": [
    "class First(object):\n",
    "    def __init__(self):\n",
    "        super(First, self).__init__()\n",
    "        print(\"first\")\n",
    "class Second(object):\n",
    "    def __init__(self):\n",
    "        super(Second, self).__init__()\n",
    "        print(\"second\")\n",
    "class Third(Srecond, Fist):\n",
    "    def __init__(self):\n",
    "        super(Third, self).__init__()\n",
    "        print(\"third\")\n",
    "t1=Third()\n"
   ]
  },
  {
   "cell_type": "code",
   "execution_count": 122,
   "id": "65514646-cdde-47b4-ac41-12ee88d9c0d7",
   "metadata": {},
   "outputs": [
    {
     "name": "stdout",
     "output_type": "stream",
     "text": [
      "Eating...\n",
      "Barking...\n",
      "Weeping...\n"
     ]
    }
   ],
   "source": [
    "class Animal:\n",
    "    def eat(self):\n",
    "        print ('Eating...')\n",
    "class Dog(Animal):\n",
    "    def bark(self):\n",
    "        print ('Barking...')\n",
    "class BabyDog(Dog):\n",
    "    def weep(self):\n",
    "        print ('Weeping...')\n",
    "d=BabyDog()\n",
    "d.eat()\n",
    "d.bark()\n",
    "d.weep()"
   ]
  },
  {
   "cell_type": "code",
   "execution_count": 46,
   "id": "44054f98-20c2-4590-b706-ce9ffb44610a",
   "metadata": {},
   "outputs": [
    {
     "name": "stdout",
     "output_type": "stream",
     "text": [
      "[('deposit', 1000)]\n",
      "[('deposit', 1000), ('withdraw', 200)]\n",
      "800\n"
     ]
    }
   ],
   "source": [
    "class Account(object):\n",
    "    \"\"\"A bank account that allows deposits and withdrawals.\n",
    "\n",
    "    >>> eric_account = Account('Eric')\n",
    "    >>> eric_account.deposit(1000000)   # depositing my paycheck for the week\n",
    "    1000000\n",
    "    >>> eric_account.transactions\n",
    "    [('deposit', 1000000)]\n",
    "    >>> eric_account.withdraw(100)      # buying dinner\n",
    "    999900\n",
    "    >>> eric_account.transactions\n",
    "    [('deposit', 1000000), ('withdraw', 100)]\n",
    "    \"\"\"\n",
    "    \n",
    "    interest = 0.02\n",
    "\n",
    "    def __init__(self, account_holder):\n",
    "        self.balance = 0\n",
    "        self.holder = account_holder\n",
    "        self.transactions=[]\n",
    "\n",
    "    def deposit(self, amount):\n",
    "        \"\"\"Increase the account balance by amount and return the\n",
    "        new balance.\n",
    "        \"\"\"\n",
    "        self.balance = self.balance + amount\n",
    "        self.transactions.append((\"deposit\",self.balance))\n",
    "        return self.balance\n",
    "\n",
    "    def withdraw(self, amount):\n",
    "        \"\"\"Decrease the account balance by amount and return the\n",
    "        new balance.\n",
    "        \"\"\"\n",
    "        if amount > self.balance:\n",
    "            return 'Insufficient funds'\n",
    "        self.balance = self.balance - amount\n",
    "        self.transactions.append((\"withdraw\",amount))\n",
    "        return self.balance\n",
    "kacc=Account(\"karthik\")\n",
    "kacc.deposit(1000)\n",
    "print(kacc.transactions)\n",
    "kacc.withdraw(200)\n",
    "print(kacc.transactions)\n",
    "print(kacc.balance)"
   ]
  },
  {
   "cell_type": "code",
   "execution_count": 48,
   "id": "e5cd2fe3-d0f3-4537-aaaa-e8f98e75fec7",
   "metadata": {},
   "outputs": [
    {
     "data": {
      "text/plain": [
       "400"
      ]
     },
     "execution_count": 48,
     "metadata": {},
     "output_type": "execute_result"
    }
   ],
   "source": [
    "kacc.withdraw(400)"
   ]
  },
  {
   "cell_type": "code",
   "execution_count": 49,
   "id": "dd7f86ee-436f-4646-b5e3-18fa927fd500",
   "metadata": {},
   "outputs": [
    {
     "name": "stdout",
     "output_type": "stream",
     "text": [
      "[('deposit', 1000), ('withdraw', 200), ('withdraw', 400)]\n"
     ]
    }
   ],
   "source": [
    "print(kacc.transactions)"
   ]
  },
  {
   "cell_type": "code",
   "execution_count": 128,
   "id": "98b22cda-3146-4ee5-9ca8-4652f41b9982",
   "metadata": {},
   "outputs": [
    {
     "data": {
      "text/plain": [
       "300"
      ]
     },
     "execution_count": 128,
     "metadata": {},
     "output_type": "execute_result"
    }
   ],
   "source": [
    "kacc.withdraw(500)"
   ]
  },
  {
   "cell_type": "code",
   "execution_count": 129,
   "id": "51ba5e93-f4bc-4e9d-befe-24d2cc2c5622",
   "metadata": {},
   "outputs": [
    {
     "name": "stdout",
     "output_type": "stream",
     "text": [
      "[('deposit', 1000), ('withdraw', 200), ('withdraw', 500)]\n"
     ]
    }
   ],
   "source": [
    "print(kacc.transactions)"
   ]
  },
  {
   "cell_type": "code",
   "execution_count": 132,
   "id": "0e7aa650-9984-46e6-a823-02518bc9dfb3",
   "metadata": {},
   "outputs": [
    {
     "data": {
      "text/plain": [
       "2300"
      ]
     },
     "execution_count": 132,
     "metadata": {},
     "output_type": "execute_result"
    }
   ],
   "source": [
    "kacc.deposit(1000)"
   ]
  },
  {
   "cell_type": "code",
   "execution_count": 131,
   "id": "f8fa3999-4248-4d29-9aab-a98b718c283e",
   "metadata": {},
   "outputs": [
    {
     "name": "stdout",
     "output_type": "stream",
     "text": [
      "[('deposit', 1000), ('withdraw', 200), ('withdraw', 500), ('deposit', 1300)]\n"
     ]
    }
   ],
   "source": [
    "print(kacc.transactions)"
   ]
  },
  {
   "cell_type": "code",
   "execution_count": 133,
   "id": "7b043c96-dc44-4d5d-b7c0-e0d23bd398c8",
   "metadata": {},
   "outputs": [
    {
     "name": "stdout",
     "output_type": "stream",
     "text": [
      "999\n"
     ]
    }
   ],
   "source": [
    "x='range(999)'\n",
    "c=0\n",
    "for i in eval(x):\n",
    "    x='range(1000)'\n",
    "    c+=1\n",
    "print(c)"
   ]
  },
  {
   "cell_type": "code",
   "execution_count": 134,
   "id": "66eb2bbd-7c66-4873-bc84-862b13e60b5b",
   "metadata": {},
   "outputs": [
    {
     "name": "stdout",
     "output_type": "stream",
     "text": [
      "999\n"
     ]
    }
   ],
   "source": [
    "c=0\n",
    "for i in range(999):\n",
    "    x='range(1000)'\n",
    "    c+=1\n",
    "print(c)"
   ]
  },
  {
   "cell_type": "code",
   "execution_count": 135,
   "id": "db431d6b-870f-47a4-86ba-a9dd979a2697",
   "metadata": {},
   "outputs": [
    {
     "data": {
      "text/plain": [
       "[0, 1, 2, 3, 4, 5, 6, 7, 8, 9]"
      ]
     },
     "execution_count": 135,
     "metadata": {},
     "output_type": "execute_result"
    }
   ],
   "source": [
    "[i for i in range(10)]"
   ]
  },
  {
   "cell_type": "code",
   "execution_count": 136,
   "id": "edafd9a7-0c91-43dc-9ed6-cfec89713b2a",
   "metadata": {},
   "outputs": [
    {
     "data": {
      "text/plain": [
       "tuple"
      ]
     },
     "execution_count": 136,
     "metadata": {},
     "output_type": "execute_result"
    }
   ],
   "source": [
    "type((7,))"
   ]
  },
  {
   "cell_type": "code",
   "execution_count": 137,
   "id": "6a01805b-2e9b-46c5-b037-6b9afd23401e",
   "metadata": {},
   "outputs": [
    {
     "data": {
      "text/plain": [
       "int"
      ]
     },
     "execution_count": 137,
     "metadata": {},
     "output_type": "execute_result"
    }
   ],
   "source": [
    "type((7))"
   ]
  },
  {
   "cell_type": "code",
   "execution_count": 139,
   "id": "db479ac8-e1c2-4c53-b123-b1dacc340c12",
   "metadata": {},
   "outputs": [
    {
     "data": {
      "text/plain": [
       "str"
      ]
     },
     "execution_count": 139,
     "metadata": {},
     "output_type": "execute_result"
    }
   ],
   "source": [
    "c=(\"a\")\n",
    "type(c)"
   ]
  },
  {
   "cell_type": "code",
   "execution_count": 1,
   "id": "dc4ac972-1818-4f1f-9d14-abdb50ccd5f4",
   "metadata": {},
   "outputs": [
    {
     "name": "stdout",
     "output_type": "stream",
     "text": [
      "3 arguments\n",
      "2 arguments\n",
      "1 argument\n",
      "0 arguments\n"
     ]
    }
   ],
   "source": [
    "#METHOD OVERLOADING \n",
    "class demo:\n",
    "    def arguments(self,a=None,b=None,c=None): # default argument \n",
    "        if(a!=None and b!=None and c!=None):\n",
    "            print(\"3 arguments\")\n",
    "        elif (a!=None and b!=None):\n",
    "            print(\"2 arguments\")\n",
    "        elif a!=None:\n",
    "            print(\"1 argument\")\n",
    "        else:\n",
    "            print(\"0 arguments\")\n",
    "obj=demo()\n",
    "obj.arguments(\"Amol\",\"Kedar\",\"Sanjay\")\n",
    "obj.arguments(\"Amit\",\"Rahul\")\n",
    "obj.arguments(\"Sidharth\")\n",
    "obj.arguments()"
   ]
  },
  {
   "cell_type": "code",
   "execution_count": 17,
   "id": "4a531b24-c69c-4a35-b057-d5f9bc02a781",
   "metadata": {},
   "outputs": [
    {
     "name": "stdout",
     "output_type": "stream",
     "text": [
      "Addition of integer numbers=  60\n",
      "Addition of integer numbers=  36.15\n",
      "Addition of stings=  HelloWorld\n"
     ]
    }
   ],
   "source": [
    "class operation:\n",
    "     def add(self,a=0,b=0,c=0):    # in puython method overloading with same function name in class is not possible\n",
    "            if(a!=None and b!=None and c!=None):   \n",
    "                return a+b+c\n",
    "            elif (a!=None and b!=None):\n",
    "                return a+b\n",
    "       \n",
    "op=operation()\n",
    "# To add two integer numbers\n",
    "print(\"Addition of integer numbers= \",op.add(10,20,30)) # int\n",
    "# To add two floating numbers\n",
    "print(\"Addition of integer numbers= \",op.add(11.12,12.13,12.9)) #float\n",
    "# To add two strings\n",
    "print(\"Addition of stings= \",op.add(\"Hello\",\"World\",\"\")) # str"
   ]
  },
  {
   "cell_type": "code",
   "execution_count": 20,
   "id": "0b420774-f0f3-48ac-b16d-a4285abd08a2",
   "metadata": {},
   "outputs": [
    {
     "ename": "NameError",
     "evalue": "name 'f' is not defined",
     "output_type": "error",
     "traceback": [
      "\u001b[1;31m---------------------------------------------------------------------------\u001b[0m",
      "\u001b[1;31mNameError\u001b[0m                                 Traceback (most recent call last)",
      "\u001b[1;32m~\\AppData\\Local\\Temp/ipykernel_1940/1292054536.py\u001b[0m in \u001b[0;36m<module>\u001b[1;34m\u001b[0m\n\u001b[0;32m     10\u001b[0m \u001b[0mflora\u001b[0m \u001b[1;33m=\u001b[0m \u001b[0mEnglish\u001b[0m\u001b[1;33m(\u001b[0m\u001b[1;33m)\u001b[0m\u001b[1;33m\u001b[0m\u001b[1;33m\u001b[0m\u001b[0m\n\u001b[0;32m     11\u001b[0m \u001b[0maalase\u001b[0m \u001b[1;33m=\u001b[0m \u001b[0mFrench\u001b[0m\u001b[1;33m(\u001b[0m\u001b[1;33m)\u001b[0m\u001b[1;33m\u001b[0m\u001b[1;33m\u001b[0m\u001b[0m\n\u001b[1;32m---> 12\u001b[1;33m \u001b[0mintro\u001b[0m\u001b[1;33m(\u001b[0m\u001b[0mf\u001b[0m\u001b[1;33m)\u001b[0m\u001b[1;33m\u001b[0m\u001b[1;33m\u001b[0m\u001b[0m\n\u001b[0m\u001b[0;32m     13\u001b[0m \u001b[0mintro\u001b[0m\u001b[1;33m(\u001b[0m\u001b[0maalase\u001b[0m\u001b[1;33m)\u001b[0m\u001b[1;33m\u001b[0m\u001b[1;33m\u001b[0m\u001b[0m\n",
      "\u001b[1;31mNameError\u001b[0m: name 'f' is not defined"
     ]
    }
   ],
   "source": [
    "class English:\n",
    "    def greeting(self):\n",
    "        print (\"Hello\")\n",
    "class French:\n",
    "    def greeting(self):\n",
    "        print (\"Bonjour\")\n",
    "def intro(language):\n",
    "    language.greeting()\n",
    "    \n",
    "flora = English()\n",
    "aalase = French()\n",
    "intro(f)\n",
    "intro(aalase)"
   ]
  },
  {
   "cell_type": "code",
   "execution_count": null,
   "id": "7bd98376-65e9-45a8-94c9-31984665b2eb",
   "metadata": {},
   "outputs": [],
   "source": [
    "class Car:\n",
    "    __maxspeed =0 # private \n",
    "    __name =\"\" #private\n",
    "    def __init__(self):   \n",
    "        self.__maxspeed =200\n",
    "        self.__name =\"Supercar\"\n",
    "    def drive(self): # method\n",
    "        print('driving. maxspeed ' + str(self.__maxspeed))\n",
    "redcar = Car() # obj instantiation \n",
    "redcar.drive()\n",
    "redcar.__maxspeed =10# will not change variable because its private\n",
    "redcar.drive()"
   ]
  },
  {
   "cell_type": "code",
   "execution_count": 29,
   "id": "2038c315-e940-4401-b906-a5d46eb13c0a",
   "metadata": {},
   "outputs": [
    {
     "ename": "SyntaxError",
     "evalue": "invalid syntax (Temp/ipykernel_1940/2169934334.py, line 4)",
     "output_type": "error",
     "traceback": [
      "\u001b[1;36m  File \u001b[1;32m\"C:\\Users\\karthik\\AppData\\Local\\Temp/ipykernel_1940/2169934334.py\"\u001b[1;36m, line \u001b[1;32m4\u001b[0m\n\u001b[1;33m    def add(self, int x, float y, int z=0):  # function overloading not support with same name in class\u001b[0m\n\u001b[1;37m                      ^\u001b[0m\n\u001b[1;31mSyntaxError\u001b[0m\u001b[1;31m:\u001b[0m invalid syntax\n"
     ]
    }
   ],
   "source": [
    "#polymorphism  1.function/ method overloading  2.method overriding\n",
    "# function overloading #compile time\n",
    "class FunOverload:\n",
    "    def add(self, x, y,z=0):  # function overloading not support with same name in class \n",
    "        \"function overloading can achive with defalut argumet\"\n",
    "        if z==0:\n",
    "            return x+y\n",
    "        return x+y+z\n",
    "    # def add(self,x,y,z):\n",
    "    #     return x+y+z\n",
    "fo1=FunOverload()\n",
    "print(fo1.add(2,3.4,5)) # int\n",
    "print(fo1.add(2.232,4.556)) #float\n",
    "print(fo1.add(\"python \",\"programming\")) # str"
   ]
  },
  {
   "cell_type": "code",
   "execution_count": 34,
   "id": "05bc93f0-db60-45a1-aa5a-aa0d27594156",
   "metadata": {},
   "outputs": [
    {
     "name": "stdout",
     "output_type": "stream",
     "text": [
      "info of A\n",
      "I am from class B\n",
      "I am from class MethodOverriding\n",
      "I am from class B\n",
      "I am from class A\n"
     ]
    }
   ],
   "source": [
    "#2.Runtime polymorphism\n",
    "#method overriding\n",
    "class A:\n",
    "    def say_msg(self):\n",
    "        print(\"I am from class A\")\n",
    "    def info(self):\n",
    "        print(\"info of A\")\n",
    "class B(A):\n",
    "    def say_msg(self): # method overriding \n",
    "        print(\"I am from class B\")\n",
    "class MethodOverride(B):\n",
    "    def say_msg(self):  #method overriding \n",
    "        super().say_msg()\n",
    "        print(\"I am from class MethodOverriding\")\n",
    "        \n",
    "MO=MethodOverride()\n",
    "MO.info()\n",
    "MO.say_msg()\n",
    "b=B()\n",
    "b.say_msg()\n",
    "a=A()\n",
    "a.say_msg()\n",
    "\n",
    "    "
   ]
  },
  {
   "cell_type": "code",
   "execution_count": 46,
   "id": "93cfc8c9-70c3-444b-ba9e-1403befd644c",
   "metadata": {},
   "outputs": [
    {
     "ename": "AttributeError",
     "evalue": "'Car' object has no attribute 'drive'",
     "output_type": "error",
     "traceback": [
      "\u001b[1;31m---------------------------------------------------------------------------\u001b[0m",
      "\u001b[1;31mAttributeError\u001b[0m                            Traceback (most recent call last)",
      "\u001b[1;32m~\\AppData\\Local\\Temp/ipykernel_1940/734442345.py\u001b[0m in \u001b[0;36m<module>\u001b[1;34m\u001b[0m\n\u001b[0;32m      9\u001b[0m         \u001b[0mprint\u001b[0m\u001b[1;33m(\u001b[0m\u001b[1;34m'driving. maxspeed '\u001b[0m \u001b[1;33m+\u001b[0m \u001b[0mstr\u001b[0m\u001b[1;33m(\u001b[0m\u001b[0mself\u001b[0m\u001b[1;33m.\u001b[0m\u001b[0m__maxspeed\u001b[0m\u001b[1;33m)\u001b[0m\u001b[1;33m)\u001b[0m\u001b[1;33m\u001b[0m\u001b[1;33m\u001b[0m\u001b[0m\n\u001b[0;32m     10\u001b[0m \u001b[0mredcar\u001b[0m \u001b[1;33m=\u001b[0m \u001b[0mCar\u001b[0m\u001b[1;33m(\u001b[0m\u001b[1;33m)\u001b[0m  \u001b[1;31m# object instantiation\u001b[0m\u001b[1;33m\u001b[0m\u001b[1;33m\u001b[0m\u001b[0m\n\u001b[1;32m---> 11\u001b[1;33m \u001b[0mredcar\u001b[0m\u001b[1;33m.\u001b[0m\u001b[0mdrive\u001b[0m\u001b[1;33m(\u001b[0m\u001b[1;33m)\u001b[0m\u001b[1;33m\u001b[0m\u001b[1;33m\u001b[0m\u001b[0m\n\u001b[0m\u001b[0;32m     12\u001b[0m \u001b[0mprint\u001b[0m\u001b[1;33m(\u001b[0m\u001b[0mredcar\u001b[0m\u001b[1;33m.\u001b[0m\u001b[0m_Car__maxspeed\u001b[0m\u001b[1;33m)\u001b[0m\u001b[1;33m\u001b[0m\u001b[1;33m\u001b[0m\u001b[0m\n\u001b[0;32m     13\u001b[0m \u001b[0mprint\u001b[0m\u001b[1;33m(\u001b[0m\u001b[0mredcar\u001b[0m\u001b[1;33m.\u001b[0m\u001b[0m__name\u001b[0m\u001b[1;33m)\u001b[0m\u001b[1;33m\u001b[0m\u001b[1;33m\u001b[0m\u001b[0m\n",
      "\u001b[1;31mAttributeError\u001b[0m: 'Car' object has no attribute 'drive'"
     ]
    }
   ],
   "source": [
    "#Encapsulation \n",
    "class Car:\n",
    "    __maxspeed =0  # private \n",
    "    __name =\"\"\n",
    "    def __init__(self): \n",
    "        self.__maxspeed =200\n",
    "        self.__name =\"Supercar\"\n",
    "    def __drive(self): # private method\n",
    "        print('driving. maxspeed ' + str(self.__maxspeed))\n",
    "redcar = Car()  # object instantiation \n",
    "redcar.drive()\n",
    "print(redcar._Car__maxspeed)\n",
    "print(redcar.__name)\n",
    "print(dir(redcar))"
   ]
  },
  {
   "cell_type": "code",
   "execution_count": 54,
   "id": "913af1a9-9a7a-4e42-ba39-c06cb218d9ab",
   "metadata": {},
   "outputs": [
    {
     "name": "stdout",
     "output_type": "stream",
     "text": [
      "It is private method\n",
      "It is Normal method\n",
      "It is private method\n"
     ]
    }
   ],
   "source": [
    "class A:\n",
    "    def __info(self):\n",
    "        print(\"It is private method\")\n",
    "    def normal(self):\n",
    "        A.__info(self) # access the privte method inside the class\n",
    "        print(\"It is Normal method\")\n",
    "a=A()\n",
    "a.normal()\n",
    "a._A__info() # use name mangaling to call private method "
   ]
  },
  {
   "cell_type": "code",
   "execution_count": 55,
   "id": "c527786a-98c3-4753-8d8d-c0e05c31e167",
   "metadata": {},
   "outputs": [
    {
     "name": "stdout",
     "output_type": "stream",
     "text": [
      "Hi, I am Henry\n",
      "Henry\n"
     ]
    }
   ],
   "source": [
    "class Robot:\n",
    "    def __init__(self, name=None):\n",
    "        self.name = name\n",
    "    def say_hi(self):\n",
    "        if self.name:\n",
    "            print(\"Hi, I am \" + self.name)\n",
    "        else:\n",
    "            print(\"Hi, I am a robot without a name\")\n",
    "    def set_name(self, name):\n",
    "        self.name = name\n",
    "    def get_name(self):\n",
    "        return self.name\n",
    "x = Robot()  # object \n",
    "x.set_name(\"Henry\")\n",
    "x.say_hi()\n",
    "y = Robot()\n",
    "y.set_name(x.get_name())\n",
    "print(y.get_name())"
   ]
  },
  {
   "cell_type": "code",
   "execution_count": null,
   "id": "08e19ecb-b64d-4dcc-b948-c563d94d5fd0",
   "metadata": {},
   "outputs": [],
   "source": [
    "class BankAccount: \n",
    "    \"\"\"Bank Account protected by a pin number.\"\"\"\n",
    "    def __init__(self, pin): \n",
    "        \"\"\"Initial account balance is 0 and pin is 'pin'.\"\"\"\n",
    "        self.pin=pin\n",
    "        self.balance=0\n",
    "    def deposit(self, pin, amount): \n",
    "        \"\"\"Increment account balance by amount and return new balance.\"\"\"\n",
    "        if self.pin==pin:\n",
    "            self.balance=self.balance+amount\n",
    "            print(\"amount deposited\")\n",
    "        else:\n",
    "            print(\"Incorrect Pin Entered!!!\")\n",
    "    def withdraw(self, pin, amount): \n",
    "        \"\"\"Decrement account balance by amount and return amount withdrawn.\"\"\"\n",
    "        if self.pin==pin:\n",
    "            if self.balance>amount:\n",
    "                  self.balance=self.balance-amount\n",
    "            else:\n",
    "                print(\"Insufficent balance to withdraw, please enter Lower Amount\")\n",
    "        else:\n",
    "            print(\"Incorrect Pin Entered!!!\")\n",
    "    def get_balance(self, pin): \n",
    "        \"\"\"Return account balance.\"\"\"\n",
    "        if self.pin==pin:\n",
    "            print(self.balance)\n",
    "        else:\n",
    "            print(\"Incorrect Pin Entered!!!\")\n",
    "    def change_pin(self, oldpin, newpin): \n",
    "        \"\"\"Change pin from oldpin to newpin.\"\"\"\n",
    "        if self.pin==oldpin:\n",
    "            self.pin=newpin\n",
    "        else:\n",
    "            print(\"Incorrect Pin Entered!!!\")\n",
    "  \n",
    "acc1=BankAccount(2233)\n",
    "\n"
   ]
  },
  {
   "cell_type": "code",
   "execution_count": 79,
   "id": "d5990420-ebde-4ae0-99fe-6a3bc9a7dcdf",
   "metadata": {},
   "outputs": [],
   "source": [
    "class BankAccount: \n",
    "    \"\"\"Bank Account protected by a pin number.\"\"\"\n",
    "    def __init__(self, pin): \n",
    "        \"\"\"Initial account balance is 0 and pin is 'pin'.\"\"\"\n",
    "        self.pin=pin\n",
    "        self.balance=0\n",
    "    def deposit(self, pin, amount): \n",
    "        \"\"\"Increment account balance by amount and return new balance.\"\"\"\n",
    "        if self.pin==pin:\n",
    "            self.balance=self.balance+amount\n",
    "            print(\"amount deposited\")\n",
    "        else:\n",
    "            print(\"Incorrect Pin Entered!!!\")\n",
    "    def withdraw(self, pin, amount): \n",
    "        \"\"\"Decrement account balance by amount and return amount withdrawn.\"\"\"\n",
    "        if self.pin==pin:\n",
    "            if self.balance>amount:\n",
    "                  self.balance=self.balance-amount\n",
    "            else:\n",
    "                print(\"Insufficent balance to withdraw, please enter Lower Amount\")\n",
    "        else:\n",
    "            print(\"Incorrect Pin Entered!!!\")\n",
    "    def get_balance(self, pin): \n",
    "        \"\"\"Return account balance.\"\"\"\n",
    "        if self.pin==pin:\n",
    "            print(self.balance)\n",
    "        else:\n",
    "            print(\"Incorrect Pin Entered!!!\")\n",
    "    def change_pin(self, oldpin, newpin): \n",
    "        \"\"\"Change pin from oldpin to newpin.\"\"\"\n",
    "        if self.pin==oldpin:\n",
    "            self.pin=newpin\n",
    "        else:\n",
    "            print(\"Incorrect Pin Entered!!!\")\n",
    "  \n",
    "acc1=BankAccount(2233)\n",
    "\n"
   ]
  },
  {
   "cell_type": "code",
   "execution_count": 79,
   "id": "549cec61-5b87-4fb5-bfce-80d563dff165",
   "metadata": {},
   "outputs": [],
   "source": [
    "class BankAccount: \n",
    "    \"\"\"Bank Account protected by a pin number.\"\"\"\n",
    "    def __init__(self, pin): \n",
    "        \"\"\"Initial account balance is 0 and pin is 'pin'.\"\"\"\n",
    "        self.pin=pin\n",
    "        self.balance=0\n",
    "    def deposit(self, pin, amount): \n",
    "        \"\"\"Increment account balance by amount and return new balance.\"\"\"\n",
    "        if self.pin==pin:\n",
    "            self.balance=self.balance+amount\n",
    "            print(\"amount deposited\")\n",
    "        else:\n",
    "            print(\"Incorrect Pin Entered!!!\")\n",
    "    def withdraw(self, pin, amount): \n",
    "        \"\"\"Decrement account balance by amount and return amount withdrawn.\"\"\"\n",
    "        if self.pin==pin:\n",
    "            if self.balance>amount:\n",
    "                  self.balance=self.balance-amount\n",
    "            else:\n",
    "                print(\"Insufficent balance to withdraw, please enter Lower Amount\")\n",
    "        else:\n",
    "            print(\"Incorrect Pin Entered!!!\")\n",
    "    def get_balance(self, pin): \n",
    "        \"\"\"Return account balance.\"\"\"\n",
    "        if self.pin==pin:\n",
    "            print(self.balance)\n",
    "        else:\n",
    "            print(\"Incorrect Pin Entered!!!\")\n",
    "    def change_pin(self, oldpin, newpin): \n",
    "        \"\"\"Change pin from oldpin to newpin.\"\"\"\n",
    "        if self.pin==oldpin:\n",
    "            self.pin=newpin\n",
    "        else:\n",
    "            print(\"Incorrect Pin Entered!!!\")\n",
    "  \n",
    "acc1=BankAccount(2233)\n",
    "\n"
   ]
  },
  {
   "cell_type": "code",
   "execution_count": 77,
   "id": "b4b764eb-a25f-4925-99fd-523af5c7b915",
   "metadata": {},
   "outputs": [
    {
     "name": "stdout",
     "output_type": "stream",
     "text": [
      "amount deposited\n"
     ]
    }
   ],
   "source": [
    "acc1.deposit(2233,1000)"
   ]
  },
  {
   "cell_type": "code",
   "execution_count": 78,
   "id": "18c2582b-d77b-4c93-9f5c-30eac18a92be",
   "metadata": {},
   "outputs": [
    {
     "name": "stdout",
     "output_type": "stream",
     "text": [
      "1000\n",
      "Incorrect Pin Entered!!!\n"
     ]
    }
   ],
   "source": [
    "acc1.get_balance(2233)"
   ]
  },
  {
   "cell_type": "code",
   "execution_count": 83,
   "id": "e644aafd-d634-4411-aee2-fdb6d0ac4d6f",
   "metadata": {},
   "outputs": [
    {
     "data": {
      "text/plain": [
       "['Barrier',\n",
       " 'BoundedSemaphore',\n",
       " 'BrokenBarrierError',\n",
       " 'Condition',\n",
       " 'Event',\n",
       " 'ExceptHookArgs',\n",
       " 'Lock',\n",
       " 'RLock',\n",
       " 'Semaphore',\n",
       " 'TIMEOUT_MAX',\n",
       " 'Thread',\n",
       " 'ThreadError',\n",
       " 'Timer',\n",
       " 'WeakSet',\n",
       " '_CRLock',\n",
       " '_DummyThread',\n",
       " '_HAVE_THREAD_NATIVE_ID',\n",
       " '_MainThread',\n",
       " '_PyRLock',\n",
       " '_RLock',\n",
       " '_SHUTTING_DOWN',\n",
       " '__all__',\n",
       " '__builtins__',\n",
       " '__cached__',\n",
       " '__doc__',\n",
       " '__file__',\n",
       " '__loader__',\n",
       " '__name__',\n",
       " '__package__',\n",
       " '__spec__',\n",
       " '_active',\n",
       " '_active_limbo_lock',\n",
       " '_after_fork',\n",
       " '_allocate_lock',\n",
       " '_count',\n",
       " '_counter',\n",
       " '_dangling',\n",
       " '_deque',\n",
       " '_enumerate',\n",
       " '_islice',\n",
       " '_limbo',\n",
       " '_main_thread',\n",
       " '_maintain_shutdown_locks',\n",
       " '_make_invoke_excepthook',\n",
       " '_newname',\n",
       " '_os',\n",
       " '_profile_hook',\n",
       " '_register_atexit',\n",
       " '_set_sentinel',\n",
       " '_shutdown',\n",
       " '_shutdown_locks',\n",
       " '_shutdown_locks_lock',\n",
       " '_start_new_thread',\n",
       " '_sys',\n",
       " '_threading_atexits',\n",
       " '_time',\n",
       " '_trace_hook',\n",
       " 'activeCount',\n",
       " 'active_count',\n",
       " 'currentThread',\n",
       " 'current_thread',\n",
       " 'enumerate',\n",
       " 'excepthook',\n",
       " 'functools',\n",
       " 'get_ident',\n",
       " 'get_native_id',\n",
       " 'local',\n",
       " 'main_thread',\n",
       " 'setprofile',\n",
       " 'settrace',\n",
       " 'stack_size']"
      ]
     },
     "execution_count": 83,
     "metadata": {},
     "output_type": "execute_result"
    }
   ],
   "source": [
    "import threading  as t\n"
   ]
  },
  {
   "cell_type": "code",
   "execution_count": 9,
   "id": "b5f578a7-ae1c-4ca6-be62-198092dcd66c",
   "metadata": {},
   "outputs": [
    {
     "name": "stdout",
     "output_type": "stream",
     "text": [
      "5\n",
      "EduBridgepythonProgram\n",
      "7.074\n",
      "18\n"
     ]
    }
   ],
   "source": [
    "#polymorphism  2.Run time \n",
    "#compile time\n",
    "class ComPoly:\n",
    "    def add(self,a,b,c=0,d=0): # method ovrloading using default argument\n",
    "        if c==0 and d==0:\n",
    "            return a+b\n",
    "        elif d==0:\n",
    "            return a+b+c\n",
    "        else:\n",
    "            return a+b+c+d\n",
    "    \n",
    "    # def add(self,a,b):  \n",
    "    #     return a+b\n",
    "\n",
    "c=ComPoly() # obj instantiation \n",
    "print(c.add(2,3)) # int\n",
    "print(c.add(\"EduBridge\",\"python\",\"Program\")) #str\n",
    "print(c.add(2.42,4.654))\n",
    "print(c.add(3,4,5,6))"
   ]
  },
  {
   "cell_type": "code",
   "execution_count": 12,
   "id": "469645d5-69f6-493f-ab89-b46ea87b3f75",
   "metadata": {},
   "outputs": [
    {
     "name": "stdout",
     "output_type": "stream",
     "text": [
      "I am from class B\n",
      "I am from class C\n",
      "I am from class B\n"
     ]
    }
   ],
   "source": [
    "#Method Overriding\n",
    "class A:\n",
    "    def info(self):\n",
    "        print(\"I am from class A\")\n",
    "class B(A):\n",
    "    def info(self): #method overriding\n",
    "        print(\"I am from class B\")\n",
    "class MOverriding(B):\n",
    "    def info(self): #method overriding\n",
    "        super().info()\n",
    "        print(\"I am from class C\")\n",
    "MO=MOverriding()\n",
    "MO.info()\n",
    "b=B()\n",
    "b.info()\n",
    "    "
   ]
  },
  {
   "cell_type": "code",
   "execution_count": 24,
   "id": "484f51a1-7f70-4c3b-b15a-4627d615be37",
   "metadata": {},
   "outputs": [
    {
     "name": "stdout",
     "output_type": "stream",
     "text": [
      "(8, 15)\n",
      "7\n"
     ]
    }
   ],
   "source": [
    "#operator overloading  using +\n",
    "class OPoverload(object):\n",
    "    def __init__(self,x,y):\n",
    "        self.x=x\n",
    "        self.y=y\n",
    "    def __mul__(self,other):\n",
    "        self.x=self.x*other.x\n",
    "        self.y=self.y*other.y\n",
    "        return self.x,self.y\n",
    "OP1=OPoverload(2,3)\n",
    "OP2=OPoverload(4,5)\n",
    "print(OP1*OP2)\n",
    "print(3+4)\n",
    "    \n",
    "        "
   ]
  },
  {
   "cell_type": "code",
   "execution_count": 18,
   "id": "5d14772a-d507-4e77-ab88-20b2045f5ed2",
   "metadata": {},
   "outputs": [
    {
     "name": "stdout",
     "output_type": "stream",
     "text": [
      "<class '__main__.OPoverload'>\n"
     ]
    }
   ],
   "source": [
    "print(type(OP1))"
   ]
  },
  {
   "cell_type": "code",
   "execution_count": 19,
   "id": "9002c849-fbdd-4247-acda-518b92e4956f",
   "metadata": {},
   "outputs": [
    {
     "name": "stdout",
     "output_type": "stream",
     "text": [
      "<class 'tuple'>\n"
     ]
    }
   ],
   "source": [
    "l=(1,23,34)\n",
    "print(type(l))"
   ]
  },
  {
   "cell_type": "code",
   "execution_count": 34,
   "id": "f70640a7-ed38-4535-960e-e91faf5ff23b",
   "metadata": {},
   "outputs": [
    {
     "name": "stdout",
     "output_type": "stream",
     "text": [
      "['_Car__drive', '_Car__maxspeed', '_Car__name', '__class__', '__delattr__', '__dict__', '__dir__', '__doc__', '__eq__', '__format__', '__ge__', '__getattribute__', '__gt__', '__hash__', '__init__', '__init_subclass__', '__le__', '__lt__', '__module__', '__ne__', '__new__', '__reduce__', '__reduce_ex__', '__repr__', '__setattr__', '__sizeof__', '__str__', '__subclasshook__', '__weakref__']\n"
     ]
    },
    {
     "ename": "AttributeError",
     "evalue": "'Car' object has no attribute '__drive'",
     "output_type": "error",
     "traceback": [
      "\u001b[1;31m---------------------------------------------------------------------------\u001b[0m",
      "\u001b[1;31mAttributeError\u001b[0m                            Traceback (most recent call last)",
      "\u001b[1;32m~\\AppData\\Local\\Temp/ipykernel_10448/3981059366.py\u001b[0m in \u001b[0;36m<module>\u001b[1;34m\u001b[0m\n\u001b[0;32m      9\u001b[0m \u001b[0mredcar\u001b[0m \u001b[1;33m=\u001b[0m \u001b[0mCar\u001b[0m\u001b[1;33m(\u001b[0m\u001b[1;33m)\u001b[0m\u001b[1;33m\u001b[0m\u001b[1;33m\u001b[0m\u001b[0m\n\u001b[0;32m     10\u001b[0m \u001b[0mprint\u001b[0m\u001b[1;33m(\u001b[0m\u001b[0mdir\u001b[0m\u001b[1;33m(\u001b[0m\u001b[0mredcar\u001b[0m\u001b[1;33m)\u001b[0m\u001b[1;33m)\u001b[0m\u001b[1;33m\u001b[0m\u001b[1;33m\u001b[0m\u001b[0m\n\u001b[1;32m---> 11\u001b[1;33m \u001b[0mredcar\u001b[0m\u001b[1;33m.\u001b[0m\u001b[0m__drive\u001b[0m\u001b[1;33m(\u001b[0m\u001b[1;33m)\u001b[0m\u001b[1;33m\u001b[0m\u001b[1;33m\u001b[0m\u001b[0m\n\u001b[0m\u001b[0;32m     12\u001b[0m \u001b[0mredcar\u001b[0m\u001b[1;33m.\u001b[0m\u001b[0m_Car__maxspeed\u001b[0m \u001b[1;33m=\u001b[0m\u001b[1;36m10\u001b[0m\u001b[1;31m# will not change variable because its private\u001b[0m\u001b[1;33m\u001b[0m\u001b[1;33m\u001b[0m\u001b[0m\n\u001b[0;32m     13\u001b[0m \u001b[0mredcar\u001b[0m\u001b[1;33m.\u001b[0m\u001b[0mdrive\u001b[0m\u001b[1;33m(\u001b[0m\u001b[1;33m)\u001b[0m\u001b[1;33m\u001b[0m\u001b[1;33m\u001b[0m\u001b[0m\n",
      "\u001b[1;31mAttributeError\u001b[0m: 'Car' object has no attribute '__drive'"
     ]
    }
   ],
   "source": [
    "class Car:\n",
    "    __maxspeed =0 #private\n",
    "    __name =\"\"\n",
    "    def __init__(self):\n",
    "        self.__maxspeed =200\n",
    "        self.__name =\"Supercar\"\n",
    "    def __drive(self): # private method\n",
    "        print('driving. maxspeed ' + str(self.__maxspeed))\n",
    "redcar = Car()\n",
    "print(dir(redcar))\n",
    "redcar.__drive()\n",
    "redcar._Car__maxspeed =10# will not change variable because its private\n",
    "redcar.drive()\n",
    "print(dir(redcar))"
   ]
  },
  {
   "cell_type": "code",
   "execution_count": 75,
   "id": "70cb3af5-7e04-43dc-ab35-2b31157b82c9",
   "metadata": {},
   "outputs": [
    {
     "name": "stdout",
     "output_type": "stream",
     "text": [
      "I can hiss\n",
      "I am going to sleep in a while\n"
     ]
    }
   ],
   "source": [
    "from abc import ABC,abstractmethod\n",
    " \n",
    "class Animal(ABC):#abstract class\n",
    " \n",
    "    #concrete method\n",
    "    def sleep(self):\n",
    "        print(\"I am going to sleep in a while\")\n",
    "    @abstractmethod\n",
    "    def sound(self):\n",
    "        print(\"This function is for defining the sound by any animal\")\n",
    "        pass\n",
    "class Snake(Animal):\n",
    "    def sound(self):\n",
    "        print(\"I can hiss\")\n",
    "class Dog(Animal):\n",
    "    def sound(self):\n",
    "        print(\"I can bark\")\n",
    "class Lion(Animal):\n",
    "    def sound(self):\n",
    "        print(\"I can roar\")\n",
    "class Cat(Animal):\n",
    "    def sound(self):\n",
    "        print(\"I can meow\")\n",
    "#a=Animal()\n",
    "s=Snake()\n",
    "s.sound()\n",
    "s.sleep()"
   ]
  },
  {
   "cell_type": "code",
   "execution_count": 80,
   "id": "2fd771fc-16cb-43fe-bcc9-dc0a34842291",
   "metadata": {},
   "outputs": [
    {
     "name": "stdout",
     "output_type": "stream",
     "text": [
      "-----------\n",
      "EduBridge\n",
      "-----------\n",
      "-----------\n",
      "This is decor msg\n",
      "-----------\n"
     ]
    }
   ],
   "source": [
    "def decor12(func):\n",
    "    def wrap():\n",
    "        print(\"-----------\")\n",
    "        func()\n",
    "        print(\"-----------\")\n",
    "    return wrap\n",
    "@decor12\n",
    "def print_text():\n",
    "    print(\"EduBridge\")\n",
    "   \n",
    "    \n",
    "@decor12\n",
    "def msg():\n",
    "    print(\"This is decor msg\")\n",
    "print_text()\n",
    "msg()"
   ]
  },
  {
   "cell_type": "code",
   "execution_count": 44,
   "id": "b9969adf-8167-4459-b41e-65a9b96d4004",
   "metadata": {},
   "outputs": [
    {
     "name": "stdout",
     "output_type": "stream",
     "text": [
      "-----------\n",
      "EduBridge\n",
      "python\n",
      "-----------\n"
     ]
    }
   ],
   "source": [
    "print_text()"
   ]
  },
  {
   "cell_type": "code",
   "execution_count": 45,
   "id": "ee850d50-22a3-4039-90ba-4f85cf8d418e",
   "metadata": {},
   "outputs": [
    {
     "name": "stdout",
     "output_type": "stream",
     "text": [
      "-----------\n",
      "This is decor msg\n",
      "-----------\n"
     ]
    }
   ],
   "source": [
    "msg()"
   ]
  },
  {
   "cell_type": "code",
   "execution_count": 61,
   "id": "e3ac7867-4a98-4a6d-be6c-e09eef907fcc",
   "metadata": {},
   "outputs": [
    {
     "name": "stdout",
     "output_type": "stream",
     "text": [
      "<__main__.A object at 0x0000015813D2B9D0> <__main__.A object at 0x0000015813D2BA90>\n",
      "<class '__main__.A'> <class '__main__.A'>\n",
      "fd\n"
     ]
    }
   ],
   "source": [
    "class A:\n",
    "    __var1=10\n",
    "    def print(self):\n",
    "        print(\"fd\")\n",
    "    pass\n",
    "a1=A()\n",
    "a2=A()\n",
    "print(a1,a2)\n",
    "print(type(a1),type(a2))\n",
    "dir(a1)\n",
    "a1._A__var1\n",
    "a1.print()"
   ]
  },
  {
   "cell_type": "code",
   "execution_count": 68,
   "id": "134d1831-7c30-4b2c-a3fd-a2392c6e2407",
   "metadata": {},
   "outputs": [
    {
     "ename": "TypeError",
     "evalue": "__init__() missing 1 required positional argument: 'x'",
     "output_type": "error",
     "traceback": [
      "\u001b[1;31m---------------------------------------------------------------------------\u001b[0m",
      "\u001b[1;31mTypeError\u001b[0m                                 Traceback (most recent call last)",
      "\u001b[1;32m~\\AppData\\Local\\Temp/ipykernel_10448/2952889657.py\u001b[0m in \u001b[0;36m<module>\u001b[1;34m\u001b[0m\n\u001b[0;32m      8\u001b[0m         \u001b[0msuper\u001b[0m\u001b[1;33m(\u001b[0m\u001b[1;33m)\u001b[0m\u001b[1;33m.\u001b[0m\u001b[0m__init__\u001b[0m\u001b[1;33m(\u001b[0m\u001b[1;33m)\u001b[0m\u001b[1;33m\u001b[0m\u001b[1;33m\u001b[0m\u001b[0m\n\u001b[0;32m      9\u001b[0m         \u001b[0mself\u001b[0m\u001b[1;33m.\u001b[0m\u001b[0my\u001b[0m\u001b[1;33m=\u001b[0m\u001b[0my\u001b[0m\u001b[1;33m\u001b[0m\u001b[1;33m\u001b[0m\u001b[0m\n\u001b[1;32m---> 10\u001b[1;33m \u001b[0ma\u001b[0m\u001b[1;33m=\u001b[0m\u001b[0mB\u001b[0m\u001b[1;33m(\u001b[0m\u001b[1;36m2\u001b[0m\u001b[1;33m,\u001b[0m\u001b[1;36m3\u001b[0m\u001b[1;33m)\u001b[0m\u001b[1;33m\u001b[0m\u001b[1;33m\u001b[0m\u001b[0m\n\u001b[0m\u001b[0;32m     11\u001b[0m \u001b[0ma\u001b[0m\u001b[1;33m.\u001b[0m\u001b[0mprint\u001b[0m\u001b[1;33m(\u001b[0m\u001b[1;33m)\u001b[0m\u001b[1;33m\u001b[0m\u001b[1;33m\u001b[0m\u001b[0m\n\u001b[0;32m     12\u001b[0m \u001b[0ma\u001b[0m\u001b[1;33m.\u001b[0m\u001b[0m__dict__\u001b[0m\u001b[1;33m\u001b[0m\u001b[1;33m\u001b[0m\u001b[0m\n",
      "\u001b[1;32m~\\AppData\\Local\\Temp/ipykernel_10448/2952889657.py\u001b[0m in \u001b[0;36m__init__\u001b[1;34m(self, x, y)\u001b[0m\n\u001b[0;32m      6\u001b[0m \u001b[1;32mclass\u001b[0m \u001b[0mB\u001b[0m\u001b[1;33m(\u001b[0m\u001b[0mA\u001b[0m\u001b[1;33m)\u001b[0m\u001b[1;33m:\u001b[0m\u001b[1;33m\u001b[0m\u001b[1;33m\u001b[0m\u001b[0m\n\u001b[0;32m      7\u001b[0m     \u001b[1;32mdef\u001b[0m \u001b[0m__init__\u001b[0m\u001b[1;33m(\u001b[0m\u001b[0mself\u001b[0m\u001b[1;33m,\u001b[0m\u001b[0mx\u001b[0m\u001b[1;33m,\u001b[0m\u001b[0my\u001b[0m\u001b[1;33m)\u001b[0m\u001b[1;33m:\u001b[0m\u001b[1;33m\u001b[0m\u001b[1;33m\u001b[0m\u001b[0m\n\u001b[1;32m----> 8\u001b[1;33m         \u001b[0msuper\u001b[0m\u001b[1;33m(\u001b[0m\u001b[1;33m)\u001b[0m\u001b[1;33m.\u001b[0m\u001b[0m__init__\u001b[0m\u001b[1;33m(\u001b[0m\u001b[1;33m)\u001b[0m\u001b[1;33m\u001b[0m\u001b[1;33m\u001b[0m\u001b[0m\n\u001b[0m\u001b[0;32m      9\u001b[0m         \u001b[0mself\u001b[0m\u001b[1;33m.\u001b[0m\u001b[0my\u001b[0m\u001b[1;33m=\u001b[0m\u001b[0my\u001b[0m\u001b[1;33m\u001b[0m\u001b[1;33m\u001b[0m\u001b[0m\n\u001b[0;32m     10\u001b[0m \u001b[0ma\u001b[0m\u001b[1;33m=\u001b[0m\u001b[0mB\u001b[0m\u001b[1;33m(\u001b[0m\u001b[1;36m2\u001b[0m\u001b[1;33m,\u001b[0m\u001b[1;36m3\u001b[0m\u001b[1;33m)\u001b[0m\u001b[1;33m\u001b[0m\u001b[1;33m\u001b[0m\u001b[0m\n",
      "\u001b[1;31mTypeError\u001b[0m: __init__() missing 1 required positional argument: 'x'"
     ]
    }
   ],
   "source": [
    "class A:\n",
    "    def __init__(self,x):\n",
    "        self.x=x\n",
    "    def print(self):\n",
    "        print(\"fd\")\n",
    "class B(A):\n",
    "    def __init__(self,x,y):\n",
    "        super().__init__()\n",
    "        self.y=y\n",
    "a=B(2,3)\n",
    "a.print()\n",
    "a.__dict__"
   ]
  },
  {
   "cell_type": "code",
   "execution_count": 73,
   "id": "7caf14e5-9d74-46b9-9570-31be52bf7fb0",
   "metadata": {},
   "outputs": [
    {
     "name": "stdout",
     "output_type": "stream",
     "text": [
      "first\n",
      "second\n"
     ]
    }
   ],
   "source": [
    "class First(object):\n",
    "    def __init__(self):\n",
    "        super().__init__()\n",
    "        print(\"first\")\n",
    "class Second(First):\n",
    "    def __init__(self):\n",
    "        super().__init__()\n",
    "        print(\"second\")\n",
    "s=Second()"
   ]
  },
  {
   "cell_type": "code",
   "execution_count": null,
   "id": "c7d5b847-8919-48d3-8a80-a96b3659957c",
   "metadata": {},
   "outputs": [],
   "source": []
  }
 ],
 "metadata": {
  "kernelspec": {
   "display_name": "Python 3 (ipykernel)",
   "language": "python",
   "name": "python3"
  },
  "language_info": {
   "codemirror_mode": {
    "name": "ipython",
    "version": 3
   },
   "file_extension": ".py",
   "mimetype": "text/x-python",
   "name": "python",
   "nbconvert_exporter": "python",
   "pygments_lexer": "ipython3",
   "version": "3.9.7"
  }
 },
 "nbformat": 4,
 "nbformat_minor": 5
}
