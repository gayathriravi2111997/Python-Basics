{
 "cells": [
  {
   "cell_type": "markdown",
   "id": "9581ef97-1ab1-4857-993a-dbe2ae2b55ee",
   "metadata": {},
   "source": [
    "----------------------------------------------------------------------------------------- 5.1.2022\n",
    "- Today Topics:\n",
    "    - Loop \n",
    "     -while,for loop,nested loop  (break,continue,pass,enumerate,range,Xrange)\n",
    "    - function\n",
    "        - Buit-in function, user-defined function\n",
    "- "
   ]
  },
  {
   "cell_type": "markdown",
   "id": "47f26a80-e02b-4041-ac16-8847b7a616ac",
   "metadata": {},
   "source": [
    "### THE while LOOP\n",
    "- The while loop executes a sequence of statements repeatedly as long as a condition remains true. \n",
    "- The syntax:\n",
    "```python \n",
    "while test-condition:\n",
    "        #Loop Body\n",
    "        statement(s)\n",
    "````\n",
    "- The reserved keyword while begins with the while statement. \n",
    "- The test condition is a Boolean expression. \n",
    "- The colon (:) must follow the test condition, i.e. the while statement be terminated with a colon (:). \n",
    "- The statement(s) within the while loop will be executed till the condition is true, i.e. the condition is evaluated and if the condition is true then the body of the loop is executed. When the condition is false, the execution will be completed out of the loop or in other words, the control goes out of the loop."
   ]
  },
  {
   "attachments": {
    "945e39b2-9b38-4ed5-8af8-d29fc991eafa.png": {
     "image/png": "[encoded data removed]"
    }
   },
   "cell_type": "markdown",
   "id": "02636817-4312-4051-a943-df9035108390",
   "metadata": {},
   "source": [
    "##### Flowchart for while Loop\n",
    "![image.png](attachment:945e39b2-9b38-4ed5-8af8-d29fc991eafa.png)"
   ]
  },
  {
   "cell_type": "code",
   "execution_count": 152,
   "id": "402f1497-5055-473f-b5df-08641eed186e",
   "metadata": {},
   "outputs": [
    {
     "name": "stdout",
     "output_type": "stream",
     "text": [
      "Count =  0\n",
      "Count =  1\n",
      "Count =  2\n",
      "Count =  3\n",
      "Count =  4\n",
      "Count =  5\n"
     ]
    }
   ],
   "source": [
    "#Write a program to print the numbers from one to fi ve using the while loop.\n",
    "count=0 #initialize the counter\n",
    "while count<=5: # Test condition\n",
    "    print(\"Count = \",count) # print the value of count\n",
    "    count=count+1 # Increment the value of count by 1"
   ]
  },
  {
   "cell_type": "code",
   "execution_count": 5,
   "id": "0f1d67d8-5f9e-4d7b-9175-0f09fc2b43cb",
   "metadata": {},
   "outputs": [
    {
     "name": "stdin",
     "output_type": "stream",
     "text": [
      "Please Enter the number: 456\n"
     ]
    },
    {
     "name": "stdout",
     "output_type": "stream",
     "text": [
      "Sum of the digits of an entered number  456 is =  15\n"
     ]
    }
   ],
   "source": [
    "#Write a program to fi nd the sum of the digits of a given number.\n",
    "#For example, if a user enters 123. The program should return (3+2+1), i.e. 6 as the sum of all the digits in a number.\n",
    "num=int(input(\"Please Enter the number:\"))#Read Number from User\n",
    "x=num #Assign value of num to x\n",
    "sum=0\n",
    "rem=0\n",
    "while num>0:\n",
    "    rem=num % 10\n",
    "    num=num // 10\n",
    "    sum=sum + rem\n",
    "print(\"Sum of the digits of an entered number \",x,\"is = \",sum)"
   ]
  },
  {
   "cell_type": "code",
   "execution_count": null,
   "id": "82f12121-3fc2-479a-a562-dc19ac1c3dcb",
   "metadata": {},
   "outputs": [],
   "source": []
  },
  {
   "cell_type": "code",
   "execution_count": 6,
   "id": "b9c49789-03ac-4e22-9747-b64f635191eb",
   "metadata": {},
   "outputs": [
    {
     "name": "stdin",
     "output_type": "stream",
     "text": [
      "Please Enter the number:  4568\n"
     ]
    },
    {
     "name": "stdout",
     "output_type": "stream",
     "text": [
      "Reverse of a entered number  4568  is =  8654\n"
     ]
    }
   ],
   "source": [
    "#Write a program to display the reverse of the number entered.\n",
    "#For example, if a user enters 12345. The program should return (54321), i.e. the reverse of the number entered.\n",
    "num =int(input(\"Please Enter the number: \"))\n",
    "x=num\n",
    "rev=0\n",
    "while num>0:\n",
    "    rem=num % 10\n",
    "    num=num // 10\n",
    "    rev=rev*10+rem\n",
    "print(\"Reverse of a entered number \",x,\" is = \",rev)"
   ]
  },
  {
   "cell_type": "markdown",
   "id": "6f4de096-7804-4ad6-8c84-09b6b541b757",
   "metadata": {},
   "source": [
    "### The break Statement in While loop\n",
    "- break statement stop the loop even if the while condition is true"
   ]
  },
  {
   "cell_type": "code",
   "execution_count": 153,
   "id": "ea01e4ee-c488-4f67-b265-0bac5de907c3",
   "metadata": {},
   "outputs": [
    {
     "name": "stdout",
     "output_type": "stream",
     "text": [
      "1\n",
      "2\n",
      "3\n",
      "4\n",
      "5\n"
     ]
    }
   ],
   "source": [
    "# Exit the loop when count is 5:\n",
    "count = 1\n",
    "while count < 10:\n",
    "  print(count)\n",
    "  if count == 5:\n",
    "        break   # break exit from loop  \n",
    "  count+= 1 "
   ]
  },
  {
   "cell_type": "markdown",
   "id": "df79fd7e-342d-45ff-9a16-34c61618729a",
   "metadata": {},
   "source": [
    "### The continue Statement in While loop\n",
    "- continue statement stop the current iteration, and continue with the next"
   ]
  },
  {
   "cell_type": "code",
   "execution_count": 154,
   "id": "1a112ac3-4fe1-406a-b846-9554838dfdb8",
   "metadata": {},
   "outputs": [
    {
     "name": "stdout",
     "output_type": "stream",
     "text": [
      "1\n",
      "2\n",
      "3\n",
      "4\n",
      "6\n",
      "7\n",
      "8\n",
      "9\n",
      "10\n"
     ]
    }
   ],
   "source": [
    "# Continue to the next iteration if i is 5:\n",
    "count = 0\n",
    "while count < 10:\n",
    "      count += 1\n",
    "      if count == 5:\n",
    "            continue #stop the current iteration and continue\n",
    "      print(count)"
   ]
  },
  {
   "cell_type": "markdown",
   "id": "ca5d7079-633b-4682-946e-5ef514fb1cfe",
   "metadata": {},
   "source": [
    "### The else Statement\n",
    "- else statement, run a block of code once when the condition no longer is true:\n"
   ]
  },
  {
   "cell_type": "code",
   "execution_count": 14,
   "id": "599150be-d6da-46c5-8093-65a94e69f52a",
   "metadata": {},
   "outputs": [
    {
     "name": "stdout",
     "output_type": "stream",
     "text": [
      "1\n",
      "2\n",
      "3\n",
      "4\n",
      "5\n",
      "6\n",
      "7\n",
      "8\n",
      "9\n",
      "count is no longer less than 10\n"
     ]
    }
   ],
   "source": [
    "#Print a message once the condition is false:\n",
    "count = 1\n",
    "while count < 10:\n",
    "  print(count)\n",
    "  count += 1\n",
    "else:\n",
    "  print(\"count is no longer less than 10\")"
   ]
  },
  {
   "cell_type": "markdown",
   "id": "0af38e2b-e61d-459e-b7da-186902695420",
   "metadata": {},
   "source": [
    "#### The pass Statement \n",
    "\n",
    "- The pass statement in Python is used when a statement is required syntactically but you do not want any command or code to execute.\n",
    "- The pass statement is a null operation; nothing happens when it executes. The pass is also useful in places where your code will eventually go, but has not been written yet."
   ]
  },
  {
   "cell_type": "code",
   "execution_count": 158,
   "id": "8a079b64-dc4f-4f41-ab6b-10c832c3755c",
   "metadata": {},
   "outputs": [],
   "source": [
    "for letter in 'Python': \n",
    "   if letter == 'h':\n",
    "      pass\n",
    "      print('This is pass block')\n",
    "   print('Current Letter :', letter)\n",
    "\n",
    "print(\"Good bye!\")"
   ]
  },
  {
   "cell_type": "markdown",
   "id": "efd11fad-0e5b-481d-8028-d3abb8fe8011",
   "metadata": {},
   "source": [
    "### Nested while Loop in Python"
   ]
  },
  {
   "cell_type": "code",
   "execution_count": null,
   "id": "81dd0e9f-0793-4642-9fd5-f6c60b82a2a0",
   "metadata": {},
   "outputs": [],
   "source": [
    "while expression:\n",
    "   while expression:\n",
    "      statement(s)\n",
    "   statement(s)"
   ]
  },
  {
   "cell_type": "code",
   "execution_count": 68,
   "id": "a8fd3597-9b94-41e3-88fb-27e65e8cc66d",
   "metadata": {},
   "outputs": [
    {
     "name": "stdout",
     "output_type": "stream",
     "text": [
      "1 2 3 4 5 6 7 8 9 10 \n",
      "1 2 3 4 5 6 7 8 9 10 \n",
      "1 2 3 4 5 6 7 8 9 10 \n",
      "1 2 3 4 5 6 7 8 9 10 \n",
      "1 2 3 4 5 6 7 8 9 10 \n"
     ]
    }
   ],
   "source": [
    "i = 1 # outer loop variable \n",
    "while i <= 5:\n",
    "    j = 1   # inner loop variable\n",
    "    while j <= 10:  # inner while loop\n",
    "        print(j, end=' ')\n",
    "        j = j + 1\n",
    "    i = i + 1\n",
    "    print()"
   ]
  },
  {
   "cell_type": "code",
   "execution_count": 75,
   "id": "db8b3f6d-213e-4c17-929b-0e255f33632b",
   "metadata": {},
   "outputs": [
    {
     "name": "stdout",
     "output_type": "stream",
     "text": [
      "EduBridge"
     ]
    }
   ],
   "source": [
    "str1=\"EduBridge\"\n",
    "for s in str1:\n",
    "     print(s, end=\"\")"
   ]
  },
  {
   "cell_type": "markdown",
   "id": "6b69afe6-c377-4172-9e3c-20919d57fa52",
   "metadata": {},
   "source": [
    "### THE for LOOP\n",
    "\n",
    "- for loop iterates through a sequence of objects, i.e. it iterates through each value in a sequence, where the sequence of object holds multiple items of data stored one after another.\n",
    "- The syntax:\n",
    "```python \n",
    "for var in sequence:\n",
    "        statement(s)\n",
    "        ------------\n",
    "        ------------\n",
    "        ------------\n",
    "```"
   ]
  },
  {
   "attachments": {
    "51438e5c-0a62-4928-a5d2-8357afbb2969.png": {
     "image/png": "[encoded data removed]"
    }
   },
   "cell_type": "markdown",
   "id": "ff32d3e6-605b-467f-9d8b-0377031ce4f2",
   "metadata": {},
   "source": [
    "![image.png](attachment:51438e5c-0a62-4928-a5d2-8357afbb2969.png)"
   ]
  },
  {
   "cell_type": "markdown",
   "id": "c7066d0c-40ca-4818-b4a7-0d3f7caab2a4",
   "metadata": {},
   "source": [
    "### String "
   ]
  },
  {
   "cell_type": "code",
   "execution_count": 160,
   "id": "aad90d7f-6187-4622-9bba-23e9bfdf3c8b",
   "metadata": {},
   "outputs": [
    {
     "name": "stdout",
     "output_type": "stream",
     "text": [
      "Current Letter : P\n",
      "Current Letter : y\n",
      "Current Letter : t\n",
      "Current Letter : h\n",
      "Current Letter : o\n",
      "Current Letter : n\n"
     ]
    }
   ],
   "source": [
    "# string sequence data\n",
    "for letter in 'Python':     # First Example\n",
    "   print ('Current Letter :', letter)"
   ]
  },
  {
   "cell_type": "markdown",
   "id": "80851932-8c9d-4925-a13f-86fb85837b15",
   "metadata": {},
   "source": [
    "### List "
   ]
  },
  {
   "cell_type": "code",
   "execution_count": 84,
   "id": "eb244671-eff7-40ac-8b10-a0e788bf7320",
   "metadata": {},
   "outputs": [
    {
     "name": "stdout",
     "output_type": "stream",
     "text": [
      "Current fruit : banana\n",
      "Current fruit : apple\n",
      "Current fruit : mango\n"
     ]
    }
   ],
   "source": [
    "# List sequence data\n",
    "fruits = ['banana', 'apple',  'mango']\n",
    "for f in fruits:        # Second Example\n",
    "   print ('Current fruit :', f)"
   ]
  },
  {
   "cell_type": "markdown",
   "id": "84fefe0e-a508-4e8e-8cc0-f2c104cb038f",
   "metadata": {},
   "source": [
    "### Tuple"
   ]
  },
  {
   "cell_type": "code",
   "execution_count": 86,
   "id": "0543fe2b-25b5-451f-8c19-f697fe612a75",
   "metadata": {},
   "outputs": [
    {
     "name": "stdout",
     "output_type": "stream",
     "text": [
      "orange\tapple\tpear\tbanana\tkiwi\tapple\tbanana\t"
     ]
    }
   ],
   "source": [
    "fruits=('orange', 'apple', 'pear', 'banana', 'kiwi', 'apple', 'banana')\n",
    "for x in fruits: \n",
    "    print(x,end=\"\\t\")"
   ]
  },
  {
   "cell_type": "markdown",
   "id": "2e106418-62df-4fc5-9afc-0c0218f65369",
   "metadata": {},
   "source": [
    "### Dictionary"
   ]
  },
  {
   "cell_type": "code",
   "execution_count": 161,
   "id": "56b2bd8c-b298-4a64-b115-c868cbe0be89",
   "metadata": {},
   "outputs": [
    {
     "name": "stdout",
     "output_type": "stream",
     "text": [
      "brand\n",
      "model\n",
      "year\n"
     ]
    }
   ],
   "source": [
    "# Dcit - Mapping Data \n",
    "#When looping through a dictionary, the return value are the keys of the dictionary\n",
    "car_dict ={\"brand\": \"Ford\",\"model\": \"Mustang\",\"year\": 1964}\n",
    "for k in car_dict:  # \n",
    "  print(k)\n"
   ]
  },
  {
   "cell_type": "code",
   "execution_count": 163,
   "id": "66fe67ee-5aa0-4295-ba1c-a62831acaeb1",
   "metadata": {},
   "outputs": [
    {
     "name": "stdout",
     "output_type": "stream",
     "text": [
      "brand Ford\n",
      "model Mustang\n",
      "year 1964\n"
     ]
    }
   ],
   "source": [
    "car_dict ={\"brand\": \"Ford\",\"model\": \"Mustang\",\"year\": 1964}\n",
    "for key in car_dict:  \n",
    "  print(key,car_dict[key])  # using dict key index to print value"
   ]
  },
  {
   "cell_type": "code",
   "execution_count": 166,
   "id": "c3971b7f-ae31-40f9-9751-9e7ca5615c60",
   "metadata": {},
   "outputs": [
    {
     "name": "stdout",
     "output_type": "stream",
     "text": [
      "dict_items([('brand', 'Ford'), ('model', 'Mustang'), ('year', 1964)])\n"
     ]
    }
   ],
   "source": [
    "car_dict ={\"brand\": \"Ford\",\"model\": \"Mustang\",\"year\": 1964}\n",
    "#print(car_dict.values()) # value\n",
    "#print(car_dict.keys()) # key\n",
    "print(car_dict.items()) # both key and value"
   ]
  },
  {
   "cell_type": "code",
   "execution_count": 167,
   "id": "d243c1bf-97e9-49b3-9d08-4eed4c30a6f7",
   "metadata": {},
   "outputs": [
    {
     "name": "stdout",
     "output_type": "stream",
     "text": [
      "Ford\n",
      "Mustang\n",
      "1964\n"
     ]
    }
   ],
   "source": [
    "#values() function to return values of a dictionary\n",
    "car_dict ={\"brand\": \"Ford\",\"model\": \"Mustang\",\"year\": 1964}\n",
    "for value in car_dict.values():  # values() return the value of dict\n",
    "  print(value)\n"
   ]
  },
  {
   "cell_type": "code",
   "execution_count": 169,
   "id": "beeb0290-b695-4e72-919e-322ed8af92a1",
   "metadata": {},
   "outputs": [
    {
     "name": "stdout",
     "output_type": "stream",
     "text": [
      "brand Ford\n",
      "model Mustang\n",
      "year 1964\n"
     ]
    }
   ],
   "source": [
    "#Loop through both keys and values, by using the items() function\n",
    "car_dict ={\"brand\": \"Ford\",\"model\": \"Mustang\",\"year\": 1964}\n",
    "for x,y in car_dict.items():  # items() return the key and value of dict\n",
    "  print(x,y)"
   ]
  },
  {
   "cell_type": "markdown",
   "id": "2713b243-85a7-45ba-923e-ab28f3ca6616",
   "metadata": {},
   "source": [
    "### SET"
   ]
  },
  {
   "cell_type": "code",
   "execution_count": 177,
   "id": "cd557012-9131-4d2d-9ff7-b7d72e0e3c15",
   "metadata": {},
   "outputs": [
    {
     "name": "stdout",
     "output_type": "stream",
     "text": [
      "i E g u e r d B "
     ]
    }
   ],
   "source": [
    "set_data={'i', 'E', 'g', 'u', 'e', 'r', 'd', 'B'}\n",
    "for set_val in set_data:\n",
    "    print(set_val,end=\" \")"
   ]
  },
  {
   "cell_type": "code",
   "execution_count": 178,
   "id": "e5de0e22-d01f-45c4-a155-04dd9a7378a5",
   "metadata": {},
   "outputs": [
    {
     "name": "stdout",
     "output_type": "stream",
     "text": [
      "i E g u e r d B "
     ]
    }
   ],
   "source": [
    "set_data=frozenset({'i', 'E', 'g', 'u', 'e', 'r', 'd', 'B'})\n",
    "for set_val in set_data:\n",
    "    print(set_val,end=\" \")"
   ]
  },
  {
   "cell_type": "code",
   "execution_count": 115,
   "id": "08bdd5f3-432e-436b-818b-3dbb1a6af6be",
   "metadata": {},
   "outputs": [
    {
     "name": "stdout",
     "output_type": "stream",
     "text": [
      "[1, 2, 3, 4, 5, 6, 7, 8, 9, 10]\n"
     ]
    }
   ],
   "source": [
    "print(list(range(1,11)))"
   ]
  },
  {
   "cell_type": "markdown",
   "id": "b9af4839-fa70-4cde-808e-e93c613835d4",
   "metadata": {},
   "source": [
    "### Break, continue, pass - for loop"
   ]
  },
  {
   "cell_type": "code",
   "execution_count": 181,
   "id": "b0716827-cf8e-4973-a207-e0e42eb1504d",
   "metadata": {},
   "outputs": [
    {
     "name": "stdout",
     "output_type": "stream",
     "text": [
      "orange\n",
      "apple\n",
      "pear\n",
      "banana\n"
     ]
    }
   ],
   "source": [
    "fruits=['orange', 'apple', 'pear', 'banana', 'kiwi', 'apple', 'banana']\n",
    "for f in fruits:\n",
    "    if f==\"kiwi\":\n",
    "        break\n",
    "    print(f)"
   ]
  },
  {
   "cell_type": "code",
   "execution_count": 182,
   "id": "676866b0-2ca6-45f4-8b1a-7de0ca7f50c9",
   "metadata": {},
   "outputs": [
    {
     "name": "stdout",
     "output_type": "stream",
     "text": [
      "orange\n",
      "apple\n",
      "pear\n",
      "banana\n",
      "apple\n",
      "banana\n"
     ]
    }
   ],
   "source": [
    "fruits=['orange', 'apple', 'pear', 'banana', 'kiwi', 'apple', 'banana']\n",
    "for f in fruits:\n",
    "    if f==\"kiwi\":\n",
    "        continue\n",
    "    print(f)"
   ]
  },
  {
   "cell_type": "code",
   "execution_count": 187,
   "id": "ddcef2c0-59ca-4b27-baf5-8d3d668bae96",
   "metadata": {},
   "outputs": [
    {
     "name": "stdout",
     "output_type": "stream",
     "text": [
      "orange\n",
      "apple\n",
      "pear\n",
      "banana\n",
      "it is pass\n",
      "kiwi\n",
      "apple\n",
      "banana\n"
     ]
    }
   ],
   "source": [
    "fruits=['orange', 'apple', 'pear', 'banana', 'kiwi', 'apple', 'banana']\n",
    "for f in fruits:\n",
    "    if f==\"kiwi\":\n",
    "        pass\n",
    "        print(\"it is pass\")\n",
    "    print(f)"
   ]
  },
  {
   "cell_type": "markdown",
   "id": "6887d704-61a7-4be5-b80d-4bdbf52b7eff",
   "metadata": {},
   "source": [
    "### Nested For loop"
   ]
  },
  {
   "cell_type": "markdown",
   "id": "ccde7cb6-4423-4013-a585-a8e36245e800",
   "metadata": {},
   "source": [
    "#### outer for loop Syntax\n",
    "```python\n",
    "for element in sequence: \n",
    "    # inner for loop\n",
    "   for element in sequence:\n",
    "       body of inner for loop\n",
    "   body of outer for loop\n",
    "```"
   ]
  },
  {
   "cell_type": "code",
   "execution_count": 190,
   "id": "e4ece493-eed7-419f-8d95-4dc4cbfb27dd",
   "metadata": {},
   "outputs": [
    {
     "name": "stdout",
     "output_type": "stream",
     "text": [
      "1\n",
      "2\n",
      "3\n",
      "4\n",
      "5\n",
      "6\n",
      "7\n",
      "8\n",
      "9\n",
      "10\n"
     ]
    }
   ],
   "source": [
    "for i in range(1,11):\n",
    "    print(i)"
   ]
  },
  {
   "cell_type": "code",
   "execution_count": 129,
   "id": "3f100557-147b-4eea-92ca-b8e67ecab01e",
   "metadata": {},
   "outputs": [
    {
     "name": "stdout",
     "output_type": "stream",
     "text": [
      "1\n",
      "0 0 0\n",
      "2\n",
      "0 0 1\n",
      "3\n",
      "0 0 2\n",
      "4\n",
      "0 1 0\n",
      "5\n",
      "0 1 1\n",
      "6\n",
      "0 1 2\n"
     ]
    },
    {
     "ename": "IndexError",
     "evalue": "list index out of range",
     "output_type": "error",
     "traceback": [
      "\u001b[1;31m---------------------------------------------------------------------------\u001b[0m",
      "\u001b[1;31mIndexError\u001b[0m                                Traceback (most recent call last)",
      "\u001b[1;32m~\\AppData\\Local\\Temp/ipykernel_8504/1681433660.py\u001b[0m in \u001b[0;36m<module>\u001b[1;34m\u001b[0m\n\u001b[0;32m      3\u001b[0m     \u001b[1;32mfor\u001b[0m \u001b[0mj\u001b[0m \u001b[1;32min\u001b[0m \u001b[0mrange\u001b[0m\u001b[1;33m(\u001b[0m\u001b[1;36m3\u001b[0m\u001b[1;33m)\u001b[0m\u001b[1;33m:\u001b[0m\u001b[1;33m\u001b[0m\u001b[1;33m\u001b[0m\u001b[0m\n\u001b[0;32m      4\u001b[0m         \u001b[1;32mfor\u001b[0m \u001b[0mk\u001b[0m \u001b[1;32min\u001b[0m \u001b[0mrange\u001b[0m\u001b[1;33m(\u001b[0m\u001b[1;36m3\u001b[0m\u001b[1;33m)\u001b[0m\u001b[1;33m:\u001b[0m\u001b[1;33m\u001b[0m\u001b[1;33m\u001b[0m\u001b[0m\n\u001b[1;32m----> 5\u001b[1;33m             \u001b[0mprint\u001b[0m\u001b[1;33m(\u001b[0m\u001b[0ml1\u001b[0m\u001b[1;33m[\u001b[0m\u001b[0mi\u001b[0m\u001b[1;33m]\u001b[0m\u001b[1;33m[\u001b[0m\u001b[0mj\u001b[0m\u001b[1;33m]\u001b[0m\u001b[1;33m[\u001b[0m\u001b[0mk\u001b[0m\u001b[1;33m]\u001b[0m\u001b[1;33m)\u001b[0m\u001b[1;33m\u001b[0m\u001b[1;33m\u001b[0m\u001b[0m\n\u001b[0m\u001b[0;32m      6\u001b[0m             \u001b[0mprint\u001b[0m\u001b[1;33m(\u001b[0m\u001b[0mi\u001b[0m\u001b[1;33m,\u001b[0m\u001b[0mj\u001b[0m\u001b[1;33m,\u001b[0m\u001b[0mk\u001b[0m\u001b[1;33m)\u001b[0m\u001b[1;33m\u001b[0m\u001b[1;33m\u001b[0m\u001b[0m\n",
      "\u001b[1;31mIndexError\u001b[0m: list index out of range"
     ]
    }
   ],
   "source": [
    "l1=[[[1,2,3],[4,5,6]]]\n",
    "for i in range(3):\n",
    "    for j in range(3):\n",
    "        for k in range(3):\n",
    "            print(l1[i][j][k])\n",
    "            print(i,j,k)"
   ]
  },
  {
   "cell_type": "code",
   "execution_count": 194,
   "id": "8bb8950c-3c45-4aa4-bb56-20de8575a853",
   "metadata": {},
   "outputs": [
    {
     "name": "stdout",
     "output_type": "stream",
     "text": [
      "1\n",
      "0 0\n",
      "2\n",
      "0 1\n",
      "3\n",
      "0 2\n",
      "4\n",
      "1 0\n",
      "5\n",
      "1 1\n",
      "6\n",
      "1 2\n"
     ]
    },
    {
     "ename": "IndexError",
     "evalue": "list index out of range",
     "output_type": "error",
     "traceback": [
      "\u001b[1;31m---------------------------------------------------------------------------\u001b[0m",
      "\u001b[1;31mIndexError\u001b[0m                                Traceback (most recent call last)",
      "\u001b[1;32m~\\AppData\\Local\\Temp/ipykernel_8504/2364305195.py\u001b[0m in \u001b[0;36m<module>\u001b[1;34m\u001b[0m\n\u001b[0;32m      2\u001b[0m \u001b[1;32mfor\u001b[0m \u001b[0mi\u001b[0m \u001b[1;32min\u001b[0m \u001b[0mrange\u001b[0m\u001b[1;33m(\u001b[0m\u001b[1;36m3\u001b[0m\u001b[1;33m)\u001b[0m\u001b[1;33m:\u001b[0m\u001b[1;33m\u001b[0m\u001b[1;33m\u001b[0m\u001b[0m\n\u001b[0;32m      3\u001b[0m     \u001b[1;32mfor\u001b[0m \u001b[0mj\u001b[0m \u001b[1;32min\u001b[0m \u001b[0mrange\u001b[0m\u001b[1;33m(\u001b[0m\u001b[1;36m3\u001b[0m\u001b[1;33m)\u001b[0m\u001b[1;33m:\u001b[0m\u001b[1;33m\u001b[0m\u001b[1;33m\u001b[0m\u001b[0m\n\u001b[1;32m----> 4\u001b[1;33m         \u001b[0mprint\u001b[0m\u001b[1;33m(\u001b[0m\u001b[0ml1\u001b[0m\u001b[1;33m[\u001b[0m\u001b[0mi\u001b[0m\u001b[1;33m]\u001b[0m\u001b[1;33m[\u001b[0m\u001b[0mj\u001b[0m\u001b[1;33m]\u001b[0m\u001b[1;33m)\u001b[0m\u001b[1;33m\u001b[0m\u001b[1;33m\u001b[0m\u001b[0m\n\u001b[0m\u001b[0;32m      5\u001b[0m         \u001b[0mprint\u001b[0m\u001b[1;33m(\u001b[0m\u001b[0mi\u001b[0m\u001b[1;33m,\u001b[0m\u001b[0mj\u001b[0m\u001b[1;33m)\u001b[0m\u001b[1;33m\u001b[0m\u001b[1;33m\u001b[0m\u001b[0m\n",
      "\u001b[1;31mIndexError\u001b[0m: list index out of range"
     ]
    }
   ],
   "source": [
    "l1=[[1,2,3],[4,5,6]]\n",
    "for i in range(3):\n",
    "    for j in range(3):\n",
    "        print(l1[i][j])\n",
    "        print(i,j)"
   ]
  },
  {
   "cell_type": "code",
   "execution_count": 191,
   "id": "e8f79e81-577b-4f26-8faa-847222da4cf0",
   "metadata": {},
   "outputs": [
    {
     "name": "stdout",
     "output_type": "stream",
     "text": [
      "1\t2\t3\t4\t5\t6\t7\t8\t9\t10\t\n",
      "2\t4\t6\t8\t10\t12\t14\t16\t18\t20\t\n",
      "3\t6\t9\t12\t15\t18\t21\t24\t27\t30\t\n",
      "4\t8\t12\t16\t20\t24\t28\t32\t36\t40\t\n",
      "5\t10\t15\t20\t25\t30\t35\t40\t45\t50\t\n",
      "6\t12\t18\t24\t30\t36\t42\t48\t54\t60\t\n",
      "7\t14\t21\t28\t35\t42\t49\t56\t63\t70\t\n",
      "8\t16\t24\t32\t40\t48\t56\t64\t72\t80\t\n",
      "9\t18\t27\t36\t45\t54\t63\t72\t81\t90\t\n",
      "10\t20\t30\t40\t50\t60\t70\t80\t90\t100\t\n"
     ]
    }
   ],
   "source": [
    "# outer loop\n",
    "for x in range(1, 11):\n",
    "    # nested loop\n",
    "    # to iterate from 1 to 10\n",
    "    for y in range(1, 11):\n",
    "        # print multiplication\n",
    "        print(x * y, end='\\t')\n",
    "    print()"
   ]
  },
  {
   "cell_type": "code",
   "execution_count": 53,
   "id": "48f027b6-59c2-4716-bc6c-3d8bb719f13d",
   "metadata": {},
   "outputs": [
    {
     "name": "stdout",
     "output_type": "stream",
     "text": [
      "* \n",
      "* * \n",
      "* * * \n",
      "* * * * \n",
      "* * * * * \n",
      "* * * * * * \n",
      "* * * * * * * \n",
      "* * * * * * * * \n",
      "* * * * * * * * * \n",
      "* * * * * * * * * * \n"
     ]
    }
   ],
   "source": [
    "#Nested Loop to Print Pattern\n",
    "rows = 10\n",
    "# outer loop\n",
    "for i in range(1, rows + 1):\n",
    "    # inner loop\n",
    "    for j in range(1, i + 1):\n",
    "        print(\"*\", end=\" \")\n",
    "    print('')"
   ]
  },
  {
   "cell_type": "code",
   "execution_count": 54,
   "id": "95e04540-c347-48bf-89b0-fc10ed6d41e5",
   "metadata": {},
   "outputs": [
    {
     "name": "stdout",
     "output_type": "stream",
     "text": [
      "Kelly Kelly Kelly Kelly Kelly \n",
      "Jessa Jessa Jessa Jessa Jessa \n",
      "Emma Emma Emma Emma Emma \n"
     ]
    }
   ],
   "source": [
    "#While loop inside a for loop\n",
    "names = ['Kelly', 'Jessa', 'Emma']\n",
    "# outer loop\n",
    "for name in names:\n",
    "    # inner while loop\n",
    "    count = 0\n",
    "    while count < 5:\n",
    "        print(name, end=' ')\n",
    "        # increment counter\n",
    "        count = count + 1\n",
    "    print()"
   ]
  },
  {
   "cell_type": "markdown",
   "id": "5a18154e-e636-43c3-901b-c394cf6838d3",
   "metadata": {},
   "source": [
    "  ### for loop using The range() Function"
   ]
  },
  {
   "cell_type": "code",
   "execution_count": 195,
   "id": "27b000d0-1f82-4d4b-854e-e6f292ebcbfe",
   "metadata": {},
   "outputs": [
    {
     "ename": "NameError",
     "evalue": "name 'xrange' is not defined",
     "output_type": "error",
     "traceback": [
      "\u001b[1;31m---------------------------------------------------------------------------\u001b[0m",
      "\u001b[1;31mNameError\u001b[0m                                 Traceback (most recent call last)",
      "\u001b[1;32m~\\AppData\\Local\\Temp/ipykernel_8504/2176739945.py\u001b[0m in \u001b[0;36m<module>\u001b[1;34m\u001b[0m\n\u001b[1;32m----> 1\u001b[1;33m \u001b[1;32mfor\u001b[0m \u001b[0mx\u001b[0m \u001b[1;32min\u001b[0m \u001b[0mxrange\u001b[0m\u001b[1;33m(\u001b[0m\u001b[1;36m6\u001b[0m\u001b[1;33m)\u001b[0m\u001b[1;33m:\u001b[0m\u001b[1;33m\u001b[0m\u001b[1;33m\u001b[0m\u001b[0m\n\u001b[0m\u001b[0;32m      2\u001b[0m     \u001b[0mprint\u001b[0m\u001b[1;33m(\u001b[0m\u001b[0mx\u001b[0m\u001b[1;33m)\u001b[0m\u001b[1;33m\u001b[0m\u001b[1;33m\u001b[0m\u001b[0m\n",
      "\u001b[1;31mNameError\u001b[0m: name 'xrange' is not defined"
     ]
    }
   ],
   "source": [
    "for x in xrange(6):\n",
    "    print(x)"
   ]
  },
  {
   "cell_type": "code",
   "execution_count": 57,
   "id": "cafe5ef7-4ce4-46e3-8289-76d40368d840",
   "metadata": {},
   "outputs": [
    {
     "ename": "NameError",
     "evalue": "name 'xrange' is not defined",
     "output_type": "error",
     "traceback": [
      "\u001b[1;31m---------------------------------------------------------------------------\u001b[0m",
      "\u001b[1;31mNameError\u001b[0m                                 Traceback (most recent call last)",
      "\u001b[1;32m~\\AppData\\Local\\Temp/ipykernel_8504/3883771594.py\u001b[0m in \u001b[0;36m<module>\u001b[1;34m\u001b[0m\n\u001b[0;32m      6\u001b[0m \u001b[1;33m\u001b[0m\u001b[0m\n\u001b[0;32m      7\u001b[0m \u001b[1;31m# initializing a with xrange()\u001b[0m\u001b[1;33m\u001b[0m\u001b[1;33m\u001b[0m\u001b[1;33m\u001b[0m\u001b[0m\n\u001b[1;32m----> 8\u001b[1;33m \u001b[0mx\u001b[0m \u001b[1;33m=\u001b[0m \u001b[0mxrange\u001b[0m\u001b[1;33m(\u001b[0m\u001b[1;36m1\u001b[0m\u001b[1;33m,\u001b[0m\u001b[1;36m10000\u001b[0m\u001b[1;33m)\u001b[0m\u001b[1;33m\u001b[0m\u001b[1;33m\u001b[0m\u001b[0m\n\u001b[0m\u001b[0;32m      9\u001b[0m \u001b[1;33m\u001b[0m\u001b[0m\n\u001b[0;32m     10\u001b[0m \u001b[1;31m# testing the type of a\u001b[0m\u001b[1;33m\u001b[0m\u001b[1;33m\u001b[0m\u001b[1;33m\u001b[0m\u001b[0m\n",
      "\u001b[1;31mNameError\u001b[0m: name 'xrange' is not defined"
     ]
    }
   ],
   "source": [
    "# Python code to demonstrate range() vs xrange()\n",
    "# on basis of return type\n",
    "\n",
    "# initializing a with range()\n",
    "a = range(1,10000)\n",
    "\n",
    "# initializing a with xrange()\n",
    "x = xrange(1,10000)\n",
    "\n",
    "# testing the type of a\n",
    "print (\"The return type of range() is : \")\n",
    "print (type(a))\n",
    "\n",
    "# testing the type of x\n",
    "print (\"The return type of xrange() is : \")\n",
    "print (type(x))\n"
   ]
  },
  {
   "cell_type": "code",
   "execution_count": 59,
   "id": "fa75f51f-ad11-4755-8e66-6b80346421a6",
   "metadata": {},
   "outputs": [
    {
     "name": "stdout",
     "output_type": "stream",
     "text": [
      "range(1, 10000)\n"
     ]
    },
    {
     "ename": "NameError",
     "evalue": "name 'xrange' is not defined",
     "output_type": "error",
     "traceback": [
      "\u001b[1;31m---------------------------------------------------------------------------\u001b[0m",
      "\u001b[1;31mNameError\u001b[0m                                 Traceback (most recent call last)",
      "\u001b[1;32m~\\AppData\\Local\\Temp/ipykernel_8504/3089308838.py\u001b[0m in \u001b[0;36m<module>\u001b[1;34m\u001b[0m\n\u001b[0;32m      9\u001b[0m \u001b[1;33m\u001b[0m\u001b[0m\n\u001b[0;32m     10\u001b[0m \u001b[1;31m# initializing a with xrange()\u001b[0m\u001b[1;33m\u001b[0m\u001b[1;33m\u001b[0m\u001b[1;33m\u001b[0m\u001b[0m\n\u001b[1;32m---> 11\u001b[1;33m \u001b[0mx\u001b[0m \u001b[1;33m=\u001b[0m \u001b[0mxrange\u001b[0m\u001b[1;33m(\u001b[0m\u001b[1;36m1\u001b[0m\u001b[1;33m,\u001b[0m\u001b[1;36m10000\u001b[0m\u001b[1;33m)\u001b[0m\u001b[1;33m\u001b[0m\u001b[1;33m\u001b[0m\u001b[0m\n\u001b[0m\u001b[0;32m     12\u001b[0m \u001b[1;33m\u001b[0m\u001b[0m\n\u001b[0;32m     13\u001b[0m \u001b[1;31m# testing the size of a\u001b[0m\u001b[1;33m\u001b[0m\u001b[1;33m\u001b[0m\u001b[1;33m\u001b[0m\u001b[0m\n",
      "\u001b[1;31mNameError\u001b[0m: name 'xrange' is not defined"
     ]
    }
   ],
   "source": [
    "# Python code to demonstrate range() vs xrange()\n",
    "# on basis of memory\n",
    "\n",
    "import sys\n",
    "\n",
    "# initializing a with range()\n",
    "a = range(1,10000)\n",
    "print(a)\n",
    "\n",
    "# initializing a with xrange()\n",
    "x = xrange(1,10000)\n",
    "\n",
    "# testing the size of a\n",
    "# range() takes more memory\n",
    "print (\"The size allotted using range() is : \")\n",
    "print (sys.getsizeof(a))\n",
    "\n",
    "# testing the size of x\n",
    "# xrange() takes less memory\n",
    "print (\"The size allotted using xrange() is : \")\n",
    "print (sys.getsizeof(x))\n"
   ]
  },
  {
   "cell_type": "code",
   "execution_count": null,
   "id": "08207dbe-b800-4b36-b5b4-7e78f99d93a1",
   "metadata": {},
   "outputs": [],
   "source": []
  },
  {
   "cell_type": "markdown",
   "id": "2ca1b70d-4a02-49e3-9e47-de9b9bed3229",
   "metadata": {},
   "source": [
    "### \"enumerate\" function for \"For Loop\"\n",
    "- Enumerate function in \"for loop\" does two things:\n",
    "  - • It returns the index number for the member\n",
    "  - • And the member of the collection that we are looking at"
   ]
  },
  {
   "cell_type": "code",
   "execution_count": 197,
   "id": "268b59ca-3c94-479c-8241-d58cd61a8a84",
   "metadata": {},
   "outputs": [
    {
     "name": "stdout",
     "output_type": "stream",
     "text": [
      "{'i', 'E', 'g', 'u', 'e', 'r', 'd', 'B'}\n",
      "0 i\n",
      "1 E\n",
      "2 g\n",
      "3 u\n",
      "4 e\n",
      "5 r\n",
      "6 d\n",
      "7 B\n"
     ]
    }
   ],
   "source": [
    "# Creating a set using string\n",
    "test_set = set(\"EduBridge\")\n",
    "print(test_set)\n",
    "# Iterating using enumerated for loop\n",
    "for id,val in enumerate(test_set):\n",
    "    print(id, val)"
   ]
  },
  {
   "cell_type": "code",
   "execution_count": 196,
   "id": "ab18133e-da9e-4e76-a5b9-d88c24025296",
   "metadata": {},
   "outputs": [
    {
     "name": "stdout",
     "output_type": "stream",
     "text": [
      "0 Jan\n",
      "1 Feb\n",
      "2 Mar\n",
      "3 April\n",
      "4 May\n",
      "5 June\n"
     ]
    }
   ],
   "source": [
    "#use a for loop over a collection\n",
    "Months = [\"Jan\",\"Feb\",\"Mar\",\"April\",\"May\",\"June\"]\n",
    "for i, m in enumerate (Months):\n",
    "                        print(i,m)"
   ]
  },
  {
   "cell_type": "code",
   "execution_count": 199,
   "id": "adb44dce-4613-4122-b3ed-ac3c000af923",
   "metadata": {},
   "outputs": [
    {
     "name": "stdout",
     "output_type": "stream",
     "text": [
      "0 P\n",
      "1 y\n",
      "2 t\n",
      "3 h\n",
      "4 o\n",
      "5 n\n"
     ]
    }
   ],
   "source": [
    "str1=\"Python\"\n",
    "for i,j in enumerate(str1):\n",
    "    print(i,j)"
   ]
  },
  {
   "cell_type": "code",
   "execution_count": 126,
   "id": "7b39bfee-59d8-4c95-9b19-42efcb8404bb",
   "metadata": {},
   "outputs": [
    {
     "name": "stdout",
     "output_type": "stream",
     "text": [
      "Create 3-d array: [[[ 2 17]\n",
      "  [45 78]]\n",
      "\n",
      " [[88 92]\n",
      "  [60 76]]\n",
      "\n",
      " [[76 33]\n",
      "  [20 18]]]\n"
     ]
    }
   ],
   "source": [
    "import numpy as np\n",
    "\n",
    "arr1 = np.array([[[2,17], [45, 78]], [[88, 92], [60, 76]],[[76,33],[20,18]]])\n",
    "print(\"Create 3-d array:\",arr1)"
   ]
  },
  {
   "cell_type": "code",
   "execution_count": 143,
   "id": "03c37b76-afeb-40e4-a97f-1de4e851068e",
   "metadata": {},
   "outputs": [
    {
     "name": "stdout",
     "output_type": "stream",
     "text": [
      "12\n"
     ]
    }
   ],
   "source": [
    "my_str = \"I LOVE PHYTHON\"\n",
    "count = 0\n",
    "for char in my_str:\n",
    "    if char == \"O\":\n",
    "            continue\n",
    "    else:\n",
    "            count = count + 1\n",
    "print(count)"
   ]
  },
  {
   "cell_type": "code",
   "execution_count": 82,
   "id": "31e748c8-3573-4f44-9a5e-3a30ca4e15d6",
   "metadata": {},
   "outputs": [
    {
     "name": "stdin",
     "output_type": "stream",
     "text": [
      "Please Enter the number: 456\n"
     ]
    },
    {
     "name": "stdout",
     "output_type": "stream",
     "text": [
      "['456']\n"
     ]
    }
   ],
   "source": []
  },
  {
   "cell_type": "code",
   "execution_count": 134,
   "id": "551bcb9c-4dbe-4b52-9012-a251cbdd9189",
   "metadata": {},
   "outputs": [
    {
     "name": "stdout",
     "output_type": "stream",
     "text": [
      "6\n"
     ]
    }
   ],
   "source": [
    "my_str = \"I LOVE PYTHON\"\n",
    "count = 0\n",
    "for char in my_str:\n",
    "    count = count + 1\n",
    "    if char == \"E\":\n",
    "        break\n",
    "print(count)"
   ]
  },
  {
   "cell_type": "code",
   "execution_count": 135,
   "id": "04914070-bcf4-4a5f-ab24-2d6a76a216cc",
   "metadata": {},
   "outputs": [
    {
     "name": "stdout",
     "output_type": "stream",
     "text": [
      "0\n",
      "1\n",
      "2\n",
      "3\n",
      "4\n"
     ]
    }
   ],
   "source": [
    "for i in range(5):\n",
    "    print(i)"
   ]
  },
  {
   "cell_type": "code",
   "execution_count": 137,
   "id": "f100dc6e-cf38-4f6f-b3d8-3dd8ff93c4ce",
   "metadata": {},
   "outputs": [
    {
     "name": "stdout",
     "output_type": "stream",
     "text": [
      "32\n"
     ]
    }
   ],
   "source": [
    "count = 35\n",
    "for x in range(0,10):\n",
    "    count = count - 1\n",
    "    if x == 2:\n",
    "        break\n",
    "print(count)"
   ]
  },
  {
   "cell_type": "code",
   "execution_count": 138,
   "id": "27ca7bdf-02ff-4967-aa9b-fa1ef8241b74",
   "metadata": {},
   "outputs": [
    {
     "name": "stdout",
     "output_type": "stream",
     "text": [
      "5\n"
     ]
    }
   ],
   "source": [
    "Z = 1\n",
    "while Z<5:\n",
    "    if Z % 7 == 0:\n",
    "        break\n",
    "    Z = Z + 2\n",
    "print(Z)"
   ]
  },
  {
   "cell_type": "code",
   "execution_count": 141,
   "id": "d74c75ac-e2b4-4c33-9427-3bce8b7eade6",
   "metadata": {},
   "outputs": [
    {
     "name": "stdout",
     "output_type": "stream",
     "text": [
      "13\n"
     ]
    }
   ],
   "source": [
    "my_str = \"HI LOVE PHYTHON\"\n",
    "count = 0\n",
    "for char in my_str:\n",
    "        if char == \"O\":\n",
    "            continue\n",
    "        else:\n",
    "             count = count + 1\n",
    "print(count)"
   ]
  },
  {
   "cell_type": "code",
   "execution_count": 145,
   "id": "ab20f8a5-7f9e-4753-81f0-250be812646e",
   "metadata": {},
   "outputs": [
    {
     "name": "stdout",
     "output_type": "stream",
     "text": [
      "6\n"
     ]
    }
   ],
   "source": [
    "my_str = \"I LOVE PYTHON\"\n",
    "count = 0\n",
    "for char in my_str:\n",
    "    count = count + 1\n",
    "    if char == \"E\":\n",
    "            break\n",
    "print(count)"
   ]
  },
  {
   "cell_type": "code",
   "execution_count": 146,
   "id": "01537be7-1406-47e4-87f2-01c0e2e22633",
   "metadata": {},
   "outputs": [
    {
     "ename": "NameError",
     "evalue": "name 'xrange' is not defined",
     "output_type": "error",
     "traceback": [
      "\u001b[1;31m---------------------------------------------------------------------------\u001b[0m",
      "\u001b[1;31mNameError\u001b[0m                                 Traceback (most recent call last)",
      "\u001b[1;32m~\\AppData\\Local\\Temp/ipykernel_8504/421669790.py\u001b[0m in \u001b[0;36m<module>\u001b[1;34m\u001b[0m\n\u001b[1;32m----> 1\u001b[1;33m \u001b[1;32mfor\u001b[0m \u001b[0mi\u001b[0m \u001b[1;32min\u001b[0m \u001b[0mxrange\u001b[0m\u001b[1;33m(\u001b[0m\u001b[1;36m10\u001b[0m\u001b[1;33m)\u001b[0m\u001b[1;33m:\u001b[0m\u001b[1;33m\u001b[0m\u001b[1;33m\u001b[0m\u001b[0m\n\u001b[0m\u001b[0;32m      2\u001b[0m     \u001b[0mprint\u001b[0m\u001b[1;33m(\u001b[0m\u001b[0mi\u001b[0m\u001b[1;33m)\u001b[0m\u001b[1;33m\u001b[0m\u001b[1;33m\u001b[0m\u001b[0m\n",
      "\u001b[1;31mNameError\u001b[0m: name 'xrange' is not defined"
     ]
    }
   ],
   "source": [
    "for i in xrange(10):\n",
    "    print(i)"
   ]
  },
  {
   "cell_type": "code",
   "execution_count": 151,
   "id": "f85dec30-a275-485f-ad37-febab5c8d787",
   "metadata": {},
   "outputs": [
    {
     "data": {
      "text/plain": [
       "<async_generator object g1 at 0x000002B0C547E160>"
      ]
     },
     "execution_count": 151,
     "metadata": {},
     "output_type": "execute_result"
    }
   ],
   "source": [
    "async def g1():\n",
    "    yield 1\n",
    "    yield 2\n",
    "\n",
    "async def g2():\n",
    "    async for v in g1():\n",
    "        yield v\n",
    "g1()"
   ]
  },
  {
   "cell_type": "code",
   "execution_count": 4,
   "id": "d2baf74f-f5da-4737-87f6-383b61dd88f3",
   "metadata": {},
   "outputs": [
    {
     "name": "stdout",
     "output_type": "stream",
     "text": [
      "4\n",
      "9\n",
      "17\n",
      "27\n",
      "27\n"
     ]
    }
   ],
   "source": [
    "count=0\n",
    "for x in range(1,3):\n",
    "    \n",
    "    for y in range(4,6):\n",
    "        count=count+(x*y)\n",
    "        print(count)\n",
    "print(count)\n"
   ]
  },
  {
   "cell_type": "code",
   "execution_count": null,
   "id": "a05df52c-091d-4d25-9ba3-ba2431f23f4e",
   "metadata": {},
   "outputs": [],
   "source": []
  },
  {
   "cell_type": "code",
   "execution_count": null,
   "id": "3d905e0e-5a03-4d19-9d43-06eff665daca",
   "metadata": {},
   "outputs": [],
   "source": []
  }
 ],
 "metadata": {
  "kernelspec": {
   "display_name": "Python 3 (ipykernel)",
   "language": "python",
   "name": "python3"
  },
  "language_info": {
   "codemirror_mode": {
    "name": "ipython",
    "version": 3
   },
   "file_extension": ".py",
   "mimetype": "text/x-python",
   "name": "python",
   "nbconvert_exporter": "python",
   "pygments_lexer": "ipython3",
   "version": "3.9.6"
  }
 },
 "nbformat": 4,
 "nbformat_minor": 5
}
