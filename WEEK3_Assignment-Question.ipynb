{
  "cells": [
    {
      "cell_type": "markdown",
      "metadata": {
        "id": "view-in-github",
        "colab_type": "text"
      },
      "source": [
        "<a href=\"https://colab.research.google.com/github/svkarthik86/Python-Basics/blob/main/WEEK3_Assignment-Question.ipynb\" target=\"_parent\"><img src=\"https://colab.research.google.com/assets/colab-badge.svg\" alt=\"Open In Colab\"/></a>"
      ]
    },
    {
      "cell_type": "raw",
      "id": "127b3a8a-3c3d-4f61-a3bc-a33149e56684",
      "metadata": {
        "id": "127b3a8a-3c3d-4f61-a3bc-a33149e56684"
      },
      "source": [
        "WEEK 3: Assignment"
      ]
    },
    {
      "cell_type": "raw",
      "id": "093cdb00-8d33-4b1b-a4db-d7898081073c",
      "metadata": {
        "id": "093cdb00-8d33-4b1b-a4db-d7898081073c"
      },
      "source": [
        "Q1.Calculate the Salary using Python Programming\n",
        "\n",
        "Read the question carefully and follow the input and output format. \n",
        "\n",
        "Karen got salary for this month and she spends 20% of her salary for food, 10% of her salary for entertainment and 10% of her salary for travel.If she takes care of other shifts she will get 4% of the salary per day. Given her salary and the number of shifts she handled.Calculate how much she can save in her pocket after spending all these?\n",
        "\n",
        "Input and Output Format : First line of input consists of an integer, salary. Next line correspond to the number of shifts. Output consist of an integer, \n",
        "which is saving.\n",
        " 1. Print \"Salary too large\" when salary is greater than 10000. \n",
        " 2. Print \"Shifts too small\" when the shift is less than 0. \n",
        " 3. Print \"Salary too small\" when the salary is less than 0.\n",
        "Include a function named calculateSal(salary,shifts)  to calcuate salary and print saving.\n",
        "\n",
        "- Sample Input 1:\n",
        "  7000\n",
        "  5\n",
        "  Sample Output 1:\n",
        "  4200\n",
        "- Sample Input 2:\n",
        "  80000\n",
        "  Sample Output 2:\n",
        "  Salary too large\n",
        "- Sample Input 2:\n",
        "  6000\n",
        "  -1\n",
        "  Sample Output 2:\n",
        "  Shift too small\n"
      ]
    },
    {
      "cell_type": "raw",
      "id": "8e2f4206-00a3-42f9-8706-1d3c919d59e6",
      "metadata": {
        "id": "8e2f4206-00a3-42f9-8706-1d3c919d59e6"
      },
      "source": [
        "Q2.write python code to read n as integer,from STDIN. For all non-negative integers i<n ,print i**2.\n",
        "\n",
        "---------------------------------\n",
        "Example\n",
        "\n",
        "The list of non-negative integers that are less than n=3 is[0,1,2]. Print the square of each number on a separate line.\n",
        "0\n",
        "1\n",
        "4\n",
        "\n",
        "Input Format\n",
        "The first and only line contains the integer,n .\n",
        "Output Format\n",
        "Print n lines, one corresponding to each i .\n",
        "\n",
        "---------------------------------\n",
        "\n",
        "Sample Input \n",
        "5\n",
        "Sample Output \n",
        "0\n",
        "1\n",
        "4\n",
        "9\n",
        "16"
      ]
    },
    {
      "cell_type": "code",
      "execution_count": null,
      "id": "489c854a-cbd2-4cfd-88ea-d5a804055c2c",
      "metadata": {
        "id": "489c854a-cbd2-4cfd-88ea-d5a804055c2c"
      },
      "outputs": [],
      "source": [
        ""
      ]
    },
    {
      "cell_type": "raw",
      "id": "40b59929-c53b-4ba2-9ba8-075e606bd68f",
      "metadata": {
        "id": "40b59929-c53b-4ba2-9ba8-075e606bd68f"
      },
      "source": [
        "Q3.An extra day is added to the calendar almost every four years as February 29, and the day is called a leap day. It corrects the calendar for the fact that our planet takes approximately 365.25 days to orbit the sun. A leap year contains a leap day.\n",
        "\n",
        "In the Gregorian calendar, three conditions are used to identify leap years:\n",
        "The year can be evenly divided by 4, is a leap year, unless:\n",
        "The year can be evenly divided by 100, it is NOT a leap year, unless:\n",
        "The year is also evenly divisible by 400. Then it is a leap year.\n",
        "This means that in the Gregorian calendar, the years 2000 and 2400 are leap years, while 1800, 1900, 2100, 2200, 2300 and 2500 are NOT leap years. Source\n",
        "\n",
        "Task\n",
        "Given a year, determine whether it is a leap year. If it is a leap year, return the Boolean True, otherwise return False.\n",
        "\n",
        "Note that the code stub provided reads from STDIN and passes arguments to the is_leap function. It is only necessary to complete the is_leap function.\n",
        "\n",
        "Input Format\n",
        "Read , the year as integer to test.\n",
        "Output Format\n",
        "The function must return a Boolean value (True/False)\n",
        "\n",
        "Sample Input \n",
        "1990\n",
        "Sample Output \n",
        "False\n",
        "\n"
      ]
    }
  ],
  "metadata": {
    "kernelspec": {
      "display_name": "Python 3 (ipykernel)",
      "language": "python",
      "name": "python3"
    },
    "language_info": {
      "codemirror_mode": {
        "name": "ipython",
        "version": 3
      },
      "file_extension": ".py",
      "mimetype": "text/x-python",
      "name": "python",
      "nbconvert_exporter": "python",
      "pygments_lexer": "ipython3",
      "version": "3.9.12"
    },
    "colab": {
      "name": "WEEK3-Assignment.ipynb",
      "provenance": [],
      "include_colab_link": true
    }
  },
  "nbformat": 4,
  "nbformat_minor": 5
}