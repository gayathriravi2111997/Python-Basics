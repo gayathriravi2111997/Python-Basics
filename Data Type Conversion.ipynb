{
 "cells": [
  {
   "cell_type": "markdown",
   "id": "2f6c5a54-0411-44f5-b25b-e3f2671c29e8",
   "metadata": {},
   "source": [
    "### Data Type Conversion\n",
    "- Sometimes, you may need to perform conversions between the built-in types.\n",
    "- To convert between types, you simply use the type name as a function.\n",
    "-  There are several built-in functions to perform conversion from one data type to another.\n",
    "- The process of converting the value of one data type (integer, string, float, etc.) to another data type is called type conversion.\n",
    "#### Python has two types of type conversion.\n",
    "- a. Implicit Type Conversion\n",
    "- b. Explicit Type Conversion"
   ]
  },
  {
   "cell_type": "markdown",
   "id": "bac1b9ed-eb01-48e8-81bd-93284b7dfc72",
   "metadata": {},
   "source": [
    "#### Implicit Type Conversion:\n",
    "- In Implicit type conversion, Python automatically converts one data type to another data type. This process doesn't need any user involvement."
   ]
  },
  {
   "cell_type": "code",
   "execution_count": null,
   "id": "cb8dd6fd-3791-4e7f-a8ac-ee5156b7f7de",
   "metadata": {},
   "outputs": [],
   "source": []
  },
  {
   "cell_type": "code",
   "execution_count": 2,
   "id": "aa7a9cde-9b99-4dc1-95c1-7764b2a3b781",
   "metadata": {},
   "outputs": [
    {
     "name": "stdout",
     "output_type": "stream",
     "text": [
      "datatype of num_int: <class 'int'>\n",
      "datatype of num_flo: <class 'float'>\n",
      "Value of num_new: 124.0\n",
      "datatype of num_new: <class 'float'>\n"
     ]
    }
   ],
   "source": [
    "num_int = 123\n",
    "num_flo = 1.0\n",
    "num_new = num_int + num_flo # impliclict conversion from int to float\n",
    "print(\"datatype of num_int:\",type(num_int))\n",
    "print(\"datatype of num_flo:\",type(num_flo))\n",
    "print(\"Value of num_new:\",num_new)\n",
    "print(\"datatype of num_new:\",type(num_new))"
   ]
  },
  {
   "cell_type": "markdown",
   "id": "83b43a48-86d7-4cf0-a42c-1fcd8afabfba",
   "metadata": {},
   "source": [
    "#### Explicit Type Conversion:\n",
    "- In Explicit Type Conversion, users convert the data type of an object to required data type. We use the predefined functions like int(), str(),etc to perform the explicit type conversion.\n",
    "- This type conversion is also called typecasting because the user casts (change) the data type of the objects\n",
    "- Syntax: required_datatype(expression) "
   ]
  },
  {
   "cell_type": "code",
   "execution_count": 4,
   "id": "997f8f1a-6c64-41c5-bee9-496572f92f29",
   "metadata": {},
   "outputs": [
    {
     "name": "stdout",
     "output_type": "stream",
     "text": [
      "Data type of num_int: <class 'int'>\n",
      "Data type of num_str before Type Casting: <class 'str'>\n",
      "Data type of num_str after Type Casting: <class 'str'>\n",
      "Sum of num_int and num_str: 123456\n",
      "Data type of the sum: <class 'str'>\n"
     ]
    }
   ],
   "source": [
    "num_int = 123\n",
    "num_str = \"456\"  # data sholud look like int format\n",
    "print(\"Data type of num_int:\",type(num_int))\n",
    "print(\"Data type of num_str before Type Casting:\",type(num_str))\n",
    "#num_str = int(num_str) # Explicit Type conversion/casts from str to int using int()\n",
    "num_int=str(num_int)\n",
    "print(\"Data type of num_str after Type Casting:\",type(num_str))\n",
    "num_sum = num_int + num_str # int addition                                        #str concatenation \n",
    "print(\"Sum of num_int and num_str:\",num_sum)\n",
    "print(\"Data type of the sum:\",type(num_sum))"
   ]
  },
  {
   "cell_type": "markdown",
   "id": "3f6c58e6-9956-45eb-b8db-ba80fb8e4c38",
   "metadata": {
    "tags": []
   },
   "source": [
    "### Function & Description\n",
    " - int(x [,base]) Converts x to an integer. base specifies the base if x is a string.\n",
    "- long(x [,base] ) Converts x to a long integer. base specifies the base if x is a string.\n",
    "- float(x) Converts x to a floating-point number.\n",
    "- complex(real [,imag]) Creates a complex number.\n",
    "- str(x) Converts object x to a string representation.\n",
    "- repr(x) Converts object x to an expression string.\n",
    "- eval(str) Evaluates a string and returns an object.\n",
    "- tuple(s) Converts s to a tuple.\n",
    "- list(s) Converts s to a list.\n",
    "- set(s) Converts s to a set.\n",
    "- dict(d) Creates a dictionary. d must be a sequence of (key,value) tuples.\n",
    "- frozenset(s) Converts s to a frozen set.\n",
    "- chr(x) Converts an integer to a character.\n",
    "- unichr(x) Converts an integer to a Unicode character.\n",
    "- ord(x) Converts a single character to its integer value.\n",
    "- hex(x) Converts an integer to a hexadecimal string.\n",
    "- oct(x) Converts an integer to an octal string."
   ]
  },
  {
   "cell_type": "code",
   "execution_count": 6,
   "id": "e4b39fa8-61db-498a-921c-ea8474e6bc3c",
   "metadata": {},
   "outputs": [
    {
     "name": "stdout",
     "output_type": "stream",
     "text": [
      "1000\n"
     ]
    }
   ],
   "source": [
    "print(int(\"1000\",2)) # int convert with base 2\n",
    "print(int(\"1000\")# default base 10 \n",
    "      "
   ]
  },
  {
   "cell_type": "code",
   "execution_count": 9,
   "id": "b372e0c8-ab3c-44ee-afb1-b86a14714478",
   "metadata": {},
   "outputs": [
    {
     "name": "stdout",
     "output_type": "stream",
     "text": [
      "123.0\n"
     ]
    }
   ],
   "source": [
    "print(float(\"123\"))\n"
   ]
  },
  {
   "cell_type": "code",
   "execution_count": 11,
   "id": "dd8264fd-90e1-486e-b52b-d6b17e7fa6a4",
   "metadata": {},
   "outputs": [
    {
     "name": "stdout",
     "output_type": "stream",
     "text": [
      "(23+0j)\n"
     ]
    }
   ],
   "source": [
    "print(complex(\"23\"))"
   ]
  },
  {
   "cell_type": "code",
   "execution_count": 15,
   "id": "5de46870-32e0-49ea-85b5-726f8741f8e4",
   "metadata": {},
   "outputs": [
    {
     "name": "stdout",
     "output_type": "stream",
     "text": [
      "<class 'tuple'>\n"
     ]
    }
   ],
   "source": [
    "list1=[23,44545.657,687]\n",
    "l1=tuple(list1)\n",
    "print(type(l1))"
   ]
  },
  {
   "cell_type": "code",
   "execution_count": 17,
   "id": "b27275c7-e3a4-4787-affb-41b526854cf3",
   "metadata": {},
   "outputs": [
    {
     "name": "stdout",
     "output_type": "stream",
     "text": [
      "[1, 2, 4, 'a']\n",
      "<class 'list'>\n"
     ]
    }
   ],
   "source": [
    "tup1=(1,2,4,\"a\")\n",
    "ct1= list(tup1)\n",
    "print(ct1)\n",
    "print(type(ct1))"
   ]
  },
  {
   "cell_type": "code",
   "execution_count": 19,
   "id": "8c48483f-5137-4bda-bbd9-9ac918e4dd58",
   "metadata": {},
   "outputs": [
    {
     "name": "stdout",
     "output_type": "stream",
     "text": [
      "{'name': 'karthik', 'age': 35, 'Dept': 'cse'}\n",
      "<class 'dict'>\n"
     ]
    }
   ],
   "source": [
    "x=dict(name=\"karthik\",age=35,Dept=\"cse\") # Keword argument\n",
    "print(x)\n",
    "print(type(x))"
   ]
  },
  {
   "cell_type": "code",
   "execution_count": 20,
   "id": "cbfafc69-738a-45da-bf4e-80fdeccd36be",
   "metadata": {},
   "outputs": [
    {
     "name": "stdout",
     "output_type": "stream",
     "text": [
      "frozenset({1, 3, 45})\n"
     ]
    }
   ],
   "source": [
    "set1={1,3,45}\n",
    "print(frozenset(set1))"
   ]
  },
  {
   "cell_type": "code",
   "execution_count": 23,
   "id": "5eb428d8-14e1-4930-ae18-9ffd7e91f04f",
   "metadata": {},
   "outputs": [
    {
     "ename": "TypeError",
     "evalue": "exec() arg 1 must be a string, bytes or code object",
     "output_type": "error",
     "traceback": [
      "\u001b[1;31m---------------------------------------------------------------------------\u001b[0m",
      "\u001b[1;31mTypeError\u001b[0m                                 Traceback (most recent call last)",
      "\u001b[1;32m~\\AppData\\Local\\Temp/ipykernel_19504/14326978.py\u001b[0m in \u001b[0;36m<module>\u001b[1;34m\u001b[0m\n\u001b[0;32m      5\u001b[0m \u001b[1;31m#eval()\u001b[0m\u001b[1;33m\u001b[0m\u001b[1;33m\u001b[0m\u001b[1;33m\u001b[0m\u001b[0m\n\u001b[0;32m      6\u001b[0m \u001b[1;33m\u001b[0m\u001b[0m\n\u001b[1;32m----> 7\u001b[1;33m \u001b[0mprint\u001b[0m\u001b[1;33m(\u001b[0m\u001b[0mexec\u001b[0m\u001b[1;33m(\u001b[0m\u001b[0msquare_number\u001b[0m\u001b[1;33m)\u001b[0m\u001b[1;33m)\u001b[0m\u001b[1;33m\u001b[0m\u001b[1;33m\u001b[0m\u001b[0m\n\u001b[0m",
      "\u001b[1;31mTypeError\u001b[0m: exec() arg 1 must be a string, bytes or code object"
     ]
    }
   ],
   "source": [
    "number = 9\n",
    "b=2\n",
    "# eval performs the multiplication passed as argument\n",
    "square_number = eval(\"(number * number)/2\")\n",
    "print(square_number)"
   ]
  },
  {
   "cell_type": "code",
   "execution_count": 26,
   "id": "49c9a5b1-aabf-4369-a9bd-d697d0afdf38",
   "metadata": {},
   "outputs": [
    {
     "name": "stdout",
     "output_type": "stream",
     "text": [
      "a\n",
      "97\n"
     ]
    }
   ],
   "source": [
    "print(chr(97))\n",
    "print(ord('a'))"
   ]
  }
 ],
 "metadata": {
  "kernelspec": {
   "display_name": "Python 3 (ipykernel)",
   "language": "python",
   "name": "python3"
  },
  "language_info": {
   "codemirror_mode": {
    "name": "ipython",
    "version": 3
   },
   "file_extension": ".py",
   "mimetype": "text/x-python",
   "name": "python",
   "nbconvert_exporter": "python",
   "pygments_lexer": "ipython3",
   "version": "3.9.6"
  }
 },
 "nbformat": 4,
 "nbformat_minor": 5
}
