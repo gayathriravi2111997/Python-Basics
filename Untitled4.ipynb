{
 "cells": [
  {
   "cell_type": "code",
   "execution_count": 2,
   "id": "37b77047-32d0-4bb8-acc5-15837d4cb1aa",
   "metadata": {},
   "outputs": [
    {
     "name": "stdout",
     "output_type": "stream",
     "text": [
      "Hi, welcome to Python Programming\n"
     ]
    }
   ],
   "source": [
    "print(\"Hi, welcome to Python Programming\")"
   ]
  },
  {
   "cell_type": "code",
   "execution_count": 1,
   "id": "7ecac558-49aa-4422-8bb7-0cd3db9ba4d9",
   "metadata": {},
   "outputs": [
    {
     "name": "stdout",
     "output_type": "stream",
     "text": [
      "Hi, Shastikaa, Welcome to Python Programming\n"
     ]
    }
   ],
   "source": [
    "print(\"Hi, Shastikaa, Welcome to Python Programming\")\n"
   ]
  },
  {
   "cell_type": "code",
   "execution_count": 2,
   "id": "5b635e88-c27f-43e9-af81-9002fa72a62f",
   "metadata": {},
   "outputs": [
    {
     "name": "stdin",
     "output_type": "stream",
     "text": [
      "What is your name? My name is Shastikaa\n"
     ]
    }
   ],
   "source": [
    "name=input(\"What is your name?\")"
   ]
  },
  {
   "cell_type": "code",
   "execution_count": 3,
   "id": "25e3c2e6-23b6-4a20-8991-ee6797533d07",
   "metadata": {},
   "outputs": [
    {
     "name": "stdout",
     "output_type": "stream",
     "text": [
      "My name is Shastikaa\n"
     ]
    }
   ],
   "source": [
    "print(name)\n"
   ]
  },
  {
   "cell_type": "markdown",
   "id": "6cbd6d56-331d-4b46-8fe7-5edb0e0b5f51",
   "metadata": {},
   "source": [
    "![pythonlogo](https://upload.wikimedia.org/wikipedia/commons/thumb/c/c3/Python-logo-notext.svg/640px-Python-logo-notext.svg.png)"
   ]
  },
  {
   "cell_type": "markdown",
   "id": "9369d71e-d1a9-4725-a78e-81c854a9543e",
   "metadata": {
    "tags": []
   },
   "source": [
    "### hi"
   ]
  },
  {
   "cell_type": "code",
   "execution_count": 1,
   "id": "ea758dcf-40b8-45cb-be39-3963d63b23ea",
   "metadata": {},
   "outputs": [
    {
     "ename": "AttributeError",
     "evalue": "'str' object has no attribute 'append'",
     "output_type": "error",
     "traceback": [
      "\u001b[1;31m---------------------------------------------------------------------------\u001b[0m",
      "\u001b[1;31mAttributeError\u001b[0m                            Traceback (most recent call last)",
      "\u001b[1;32m~\\AppData\\Local\\Temp/ipykernel_11196/592438246.py\u001b[0m in \u001b[0;36m<module>\u001b[1;34m\u001b[0m\n\u001b[1;32m----> 1\u001b[1;33m \u001b[0mprint\u001b[0m\u001b[1;33m(\u001b[0m\u001b[1;34m\"sfd\"\u001b[0m\u001b[1;33m.\u001b[0m\u001b[0mappend\u001b[0m\u001b[1;33m(\u001b[0m\u001b[1;34m\"dsd\"\u001b[0m\u001b[1;33m)\u001b[0m\u001b[1;33m)\u001b[0m\u001b[1;33m\u001b[0m\u001b[1;33m\u001b[0m\u001b[0m\n\u001b[0m",
      "\u001b[1;31mAttributeError\u001b[0m: 'str' object has no attribute 'append'"
     ]
    }
   ],
   "source": [
    "\n"
   ]
  },
  {
   "cell_type": "code",
   "execution_count": 4,
   "id": "8304cb65-93eb-4291-b239-4000fd7cf1fa",
   "metadata": {},
   "outputs": [
    {
     "ename": "SyntaxError",
     "evalue": "invalid syntax (Temp/ipykernel_11196/310900440.py, line 1)",
     "output_type": "error",
     "traceback": [
      "\u001b[1;36m  File \u001b[1;32m\"C:\\Users\\karthik\\AppData\\Local\\Temp/ipykernel_11196/310900440.py\"\u001b[1;36m, line \u001b[1;32m1\u001b[0m\n\u001b[1;33m    print(12.__add__(15))\u001b[0m\n\u001b[1;37m             ^\u001b[0m\n\u001b[1;31mSyntaxError\u001b[0m\u001b[1;31m:\u001b[0m invalid syntax\n"
     ]
    }
   ],
   "source": [
    "print(12.__add__(15))"
   ]
  },
  {
   "cell_type": "code",
   "execution_count": 11,
   "id": "10c6bff8-f188-4b6d-914d-61461e958b95",
   "metadata": {},
   "outputs": [
    {
     "name": "stdout",
     "output_type": "stream",
     "text": [
      "The count is: 0\n",
      "Good bye!\n",
      "The count is: 1\n",
      "Good bye!\n",
      "The count is: 2\n",
      "Good bye!\n"
     ]
    }
   ],
   "source": [
    "count = 0\n",
    "while (count < 3):\n",
    "    print('The count is:', count)\n",
    "    count = count + 1\n",
    "    print(\"Good bye!\")\n",
    "else:\n",
    "     print(\"completed\")"
   ]
  },
  {
   "cell_type": "code",
   "execution_count": 15,
   "id": "6e810f96-9774-4685-b700-f2d715cfb09b",
   "metadata": {},
   "outputs": [
    {
     "name": "stdout",
     "output_type": "stream",
     "text": [
      "count is 5\n",
      "count is 6\n",
      "count is 7\n",
      "count is 8\n",
      "count is 9\n",
      "count is 10\n",
      "completed\n"
     ]
    }
   ],
   "source": [
    "count=0\n",
    "while count<10:\n",
    "    count=count+1;\n",
    "    \n",
    "    if count<5: \n",
    "        continue\n",
    "        #break\n",
    "    print(\"count is\",count)\n",
    "else:\n",
    "    print(\"completed\")"
   ]
  },
  {
   "cell_type": "code",
   "execution_count": 10,
   "id": "9a949bca-3d33-4877-8a96-bf4198a71b73",
   "metadata": {},
   "outputs": [
    {
     "name": "stdout",
     "output_type": "stream",
     "text": [
      "Hi\n",
      "Hi\n",
      "Hi\n",
      "Hi\n",
      "Hi\n",
      "line after while\n"
     ]
    }
   ],
   "source": [
    "count=0\n",
    "while ' ':\n",
    "    print('Hi')\n",
    "    count+=1\n",
    "    if count==5:\n",
    "        break\n",
    "print(\"line after while\")\n",
    "    \n",
    "    "
   ]
  },
  {
   "cell_type": "code",
   "execution_count": 2,
   "id": "1a1280d0-b170-435a-916b-784d39de0219",
   "metadata": {},
   "outputs": [
    {
     "name": "stdout",
     "output_type": "stream",
     "text": [
      "0123456789[0, 1, 2, 3, 4, 5, 6, 7, 8, 9]\n"
     ]
    }
   ],
   "source": [
    "l=[]\n",
    "for loop_variable in range(10):\n",
    "    l.append(loop_variable)\n",
    "    print(loop_variable,end=\"\")\n",
    "print(l)"
   ]
  },
  {
   "cell_type": "code",
   "execution_count": 1,
   "id": "2a430ced-1f54-4a98-8eba-73a5f050b62e",
   "metadata": {},
   "outputs": [
    {
     "name": "stdout",
     "output_type": "stream",
     "text": [
      "hi, Welcome to Function\n",
      "ok\n"
     ]
    }
   ],
   "source": [
    "# simple function\n",
    "def say_hi():\n",
    "    print(\"hi, Welcome to Function\")\n",
    "    print(\"ok\")\n",
    "\n",
    "say_hi()"
   ]
  },
  {
   "cell_type": "code",
   "execution_count": 3,
   "id": "cdbc1aff-ad1d-4e85-b441-046693d9b683",
   "metadata": {},
   "outputs": [
    {
     "name": "stdout",
     "output_type": "stream",
     "text": [
      "hi, Welcome to Function\n",
      "ok\n"
     ]
    }
   ],
   "source": [
    "say_hi()"
   ]
  },
  {
   "cell_type": "code",
   "execution_count": 17,
   "id": "4e2f4b44-e014-4eef-904d-32b94eb99d04",
   "metadata": {},
   "outputs": [
    {
     "name": "stdout",
     "output_type": "stream",
     "text": [
      "hi, karthik Venkatachalam Welcome to Function\n",
      "ok\n",
      "None\n"
     ]
    }
   ],
   "source": [
    "def say_hi_name(Fname,LName): # function with on argument\n",
    "    print(\"hi,\"+\" \"+Fname+\" \"+LName+\" \"+\"Welcome to Function\")\n",
    "    print(\"ok\")\n",
    "    \n",
    "\n",
    "x=say_hi_name(\"karthik\",\"Venkatachalam\")# call the function with one argument\n",
    "print(x)"
   ]
  },
  {
   "cell_type": "code",
   "execution_count": 34,
   "id": "488c122f-c085-4279-978e-766365d92036",
   "metadata": {},
   "outputs": [
    {
     "name": "stdout",
     "output_type": "stream",
     "text": [
      "35\n"
     ]
    }
   ],
   "source": [
    "def add(a,b,c): # functio with  c default argument and return \n",
    "     return (a+b+c)\n",
    "    \n",
    "print(add(b=10,c=20,a=5)) # key value argument # NO ORDER \n"
   ]
  },
  {
   "cell_type": "code",
   "execution_count": 38,
   "id": "875dbfce-4095-4730-abdd-8c82c756c392",
   "metadata": {},
   "outputs": [
    {
     "name": "stdout",
     "output_type": "stream",
     "text": [
      "b 10\n",
      "c 20\n",
      "a 5\n",
      "name ram\n",
      "age 25\n",
      "None\n"
     ]
    }
   ],
   "source": [
    "def add(**kwarg): # functio with  kewyword argument and return \n",
    "     for i in kwarg:\n",
    "         print(i,kwarg[i])\n",
    "    \n",
    "print(add(b=10,c=20,a=5,name=\"ram\",age=25)) # key value argument # NO ORDER \n"
   ]
  },
  {
   "cell_type": "code",
   "execution_count": 33,
   "id": "76939905-bd5a-4b6c-bf9b-4a9df212487b",
   "metadata": {},
   "outputs": [
    {
     "name": "stdout",
     "output_type": "stream",
     "text": [
      "ABC\n"
     ]
    }
   ],
   "source": [
    "# function with variable number of arguments\n",
    "def multi_add(*args):\n",
    "    result = \"\"\n",
    "    for x in args:\n",
    "        result = result + x\n",
    "    return result\n",
    "print(multi_add(\"A\",\"B\",\"C\")) \n"
   ]
  },
  {
   "cell_type": "code",
   "execution_count": 8,
   "id": "d685e8d2-3d50-4500-b879-f5f3410fc387",
   "metadata": {},
   "outputs": [
    {
     "name": "stdout",
     "output_type": "stream",
     "text": [
      "Radius =  2\n",
      "Area of Circle = 12.5836\n"
     ]
    }
   ],
   "source": [
    "def area_of_Circle(radius):\n",
    "    if radius<0:\n",
    "        print(\" Try Again, Radius of circle cannot be Negative \")\n",
    "        return\n",
    "    else:\n",
    "        print(\"Radius = \",radius)\n",
    "        return 3.1459*radius**radius\n",
    "print(\"Area of Circle =\",area_of_Circle(2))"
   ]
  },
  {
   "cell_type": "code",
   "execution_count": 10,
   "id": "83978521-130d-4cfc-9779-d33a0004b288",
   "metadata": {},
   "outputs": [
    {
     "ename": "IndentationError",
     "evalue": "expected an indented block (Temp/ipykernel_10604/4204839484.py, line 2)",
     "output_type": "error",
     "traceback": [
      "\u001b[1;36m  File \u001b[1;32m\"C:\\Users\\karthik\\AppData\\Local\\Temp/ipykernel_10604/4204839484.py\"\u001b[1;36m, line \u001b[1;32m2\u001b[0m\n\u001b[1;33m    \u001b[0m\n\u001b[1;37m    ^\u001b[0m\n\u001b[1;31mIndentationError\u001b[0m\u001b[1;31m:\u001b[0m expected an indented block\n"
     ]
    }
   ],
   "source": [
    "def cal_fun(): # do nothing \n",
    "    pass \n",
    "    "
   ]
  },
  {
   "cell_type": "code",
   "execution_count": 12,
   "id": "56bc7869-0fef-46a6-a3ea-45e19579ad7d",
   "metadata": {},
   "outputs": [
    {
     "name": "stdout",
     "output_type": "stream",
     "text": [
      "120\n"
     ]
    }
   ],
   "source": [
    "def find_factorial(n): # recursion function \n",
    "    if n==0:\n",
    "        return 1\n",
    "    return n*find_factorial(n-1)\n",
    "print(find_factorial(5))"
   ]
  },
  {
   "cell_type": "code",
   "execution_count": 13,
   "id": "a90ca9c2-f23c-4c26-91b2-5b2d99246afb",
   "metadata": {},
   "outputs": [
    {
     "name": "stdout",
     "output_type": "stream",
     "text": [
      "24\n"
     ]
    }
   ],
   "source": [
    "x=lambda x,y,z:x*y*z\n",
    "print(x(2,3,4))"
   ]
  },
  {
   "cell_type": "code",
   "execution_count": 15,
   "id": "7dad7631-7dac-4c33-9db2-01be391b0ada",
   "metadata": {},
   "outputs": [
    {
     "name": "stdout",
     "output_type": "stream",
     "text": [
      "8\n"
     ]
    }
   ],
   "source": [
    "print((lambda x:x**3)(2))"
   ]
  },
  {
   "cell_type": "code",
   "execution_count": 7,
   "id": "272bd80d-8f81-47fc-89e3-ff4c538e7604",
   "metadata": {},
   "outputs": [
    {
     "ename": "NameError",
     "evalue": "name 'data0' is not defined",
     "output_type": "error",
     "traceback": [
      "\u001b[1;31m---------------------------------------------------------------------------\u001b[0m",
      "\u001b[1;31mNameError\u001b[0m                                 Traceback (most recent call last)",
      "\u001b[1;32m~\\AppData\\Local\\Temp/ipykernel_1736/3941484320.py\u001b[0m in \u001b[0;36m<module>\u001b[1;34m\u001b[0m\n\u001b[0;32m      2\u001b[0m \u001b[1;33m\u001b[0m\u001b[0m\n\u001b[0;32m      3\u001b[0m \u001b[0mdata\u001b[0m\u001b[1;33m=\u001b[0m\u001b[0mlist\u001b[0m\u001b[1;33m(\u001b[0m\u001b[0mfilter\u001b[0m\u001b[1;33m(\u001b[0m\u001b[1;32mlambda\u001b[0m \u001b[0mx\u001b[0m\u001b[1;33m:\u001b[0m\u001b[0mx\u001b[0m\u001b[1;33m%\u001b[0m\u001b[1;36m2\u001b[0m\u001b[1;33m==\u001b[0m\u001b[1;36m0\u001b[0m\u001b[1;33m,\u001b[0m\u001b[0mlist1\u001b[0m\u001b[1;33m)\u001b[0m\u001b[1;33m)\u001b[0m\u001b[1;33m\u001b[0m\u001b[1;33m\u001b[0m\u001b[0m\n\u001b[1;32m----> 4\u001b[1;33m \u001b[0mprint\u001b[0m\u001b[1;33m(\u001b[0m\u001b[0mdata0\u001b[0m\u001b[1;33m)\u001b[0m\u001b[1;33m\u001b[0m\u001b[1;33m\u001b[0m\u001b[0m\n\u001b[0m",
      "\u001b[1;31mNameError\u001b[0m: name 'data0' is not defined"
     ]
    }
   ],
   "source": [
    "list1=[1,2,3,4,5,6,7,45,50]\n",
    "\n",
    "data=list(filter(lambda x:x%2==0,list1))\n",
    "print(data)"
   ]
  },
  {
   "cell_type": "code",
   "execution_count": null,
   "id": "91e11017-9708-4472-af44-a25100dd4704",
   "metadata": {},
   "outputs": [],
   "source": []
  }
 ],
 "metadata": {
  "kernelspec": {
   "display_name": "Python 3 (ipykernel)",
   "language": "python",
   "name": "python3"
  },
  "language_info": {
   "codemirror_mode": {
    "name": "ipython",
    "version": 3
   },
   "file_extension": ".py",
   "mimetype": "text/x-python",
   "name": "python",
   "nbconvert_exporter": "python",
   "pygments_lexer": "ipython3",
   "version": "3.9.6"
  }
 },
 "nbformat": 4,
 "nbformat_minor": 5
}
