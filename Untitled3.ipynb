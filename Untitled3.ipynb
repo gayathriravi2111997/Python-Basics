{
 "cells": [
  {
   "cell_type": "markdown",
   "id": "67760833-a48e-4294-9d39-c6ae284025e5",
   "metadata": {},
   "source": [
    "## Today Topics\n",
    "- Data Type Conversion\n",
    "- Basic operators in Python Programming\n",
    "- Decision making \n",
    "- loop \n",
    "- Built-in \n"
   ]
  },
  {
   "cell_type": "code",
   "execution_count": null,
   "id": "9d7d1d32-2bc5-4184-8db1-c600f1fae89e",
   "metadata": {},
   "outputs": [],
   "source": []
  },
  {
   "cell_type": "code",
   "execution_count": 10,
   "id": "69e65152-316e-4032-8011-397492c322ab",
   "metadata": {},
   "outputs": [
    {
     "name": "stdout",
     "output_type": "stream",
     "text": [
      "<class 'bool'>\n"
     ]
    }
   ],
   "source": [
    "#Boolean type \n",
    "x=True\n",
    "print(type(x))\n"
   ]
  },
  {
   "cell_type": "code",
   "execution_count": 15,
   "id": "eebfc513-4f4f-4d82-acd5-db3a2bf78ab3",
   "metadata": {},
   "outputs": [
    {
     "name": "stdout",
     "output_type": "stream",
     "text": [
      "<memory at 0x000002416C9F7A00>\n"
     ]
    }
   ],
   "source": [
    "x = memoryview(bytes(5))\n",
    "print(x)\n"
   ]
  },
  {
   "cell_type": "code",
   "execution_count": 17,
   "id": "e29029e0-1c1a-4fed-a0de-949db6ba7dcc",
   "metadata": {},
   "outputs": [
    {
     "name": "stdout",
     "output_type": "stream",
     "text": [
      "[10, 23, 45]\n"
     ]
    },
    {
     "ename": "NameError",
     "evalue": "name 'x' is not defined",
     "output_type": "error",
     "traceback": [
      "\u001b[1;31m---------------------------------------------------------------------------\u001b[0m",
      "\u001b[1;31mNameError\u001b[0m                                 Traceback (most recent call last)",
      "\u001b[1;32m~\\AppData\\Local\\Temp/ipykernel_18252/1908555470.py\u001b[0m in \u001b[0;36m<module>\u001b[1;34m\u001b[0m\n\u001b[0;32m      2\u001b[0m \u001b[0mprint\u001b[0m\u001b[1;33m(\u001b[0m\u001b[0mx\u001b[0m\u001b[1;33m)\u001b[0m\u001b[1;33m\u001b[0m\u001b[1;33m\u001b[0m\u001b[0m\n\u001b[0;32m      3\u001b[0m \u001b[1;32mdel\u001b[0m \u001b[0mx\u001b[0m\u001b[1;33m\u001b[0m\u001b[1;33m\u001b[0m\u001b[0m\n\u001b[1;32m----> 4\u001b[1;33m \u001b[0mprint\u001b[0m\u001b[1;33m(\u001b[0m\u001b[0mx\u001b[0m\u001b[1;33m)\u001b[0m\u001b[1;33m\u001b[0m\u001b[1;33m\u001b[0m\u001b[0m\n\u001b[0m",
      "\u001b[1;31mNameError\u001b[0m: name 'x' is not defined"
     ]
    }
   ],
   "source": [
    "x=[10,23,45]\n",
    "print(x)\n",
    "del x # delete the object from memory using del \n",
    "print(x)"
   ]
  },
  {
   "cell_type": "code",
   "execution_count": 18,
   "id": "4d9bebdc-fb36-4cb8-8269-39780580ccf2",
   "metadata": {},
   "outputs": [
    {
     "name": "stdout",
     "output_type": "stream",
     "text": [
      "{1: 'a', 2: 'b'}\n"
     ]
    },
    {
     "ename": "NameError",
     "evalue": "name 'dic1' is not defined",
     "output_type": "error",
     "traceback": [
      "\u001b[1;31m---------------------------------------------------------------------------\u001b[0m",
      "\u001b[1;31mNameError\u001b[0m                                 Traceback (most recent call last)",
      "\u001b[1;32m~\\AppData\\Local\\Temp/ipykernel_18252/2134812444.py\u001b[0m in \u001b[0;36m<module>\u001b[1;34m\u001b[0m\n\u001b[0;32m      2\u001b[0m \u001b[0mprint\u001b[0m\u001b[1;33m(\u001b[0m\u001b[0mdic1\u001b[0m\u001b[1;33m)\u001b[0m\u001b[1;33m\u001b[0m\u001b[1;33m\u001b[0m\u001b[0m\n\u001b[0;32m      3\u001b[0m \u001b[1;32mdel\u001b[0m \u001b[0mdic1\u001b[0m\u001b[1;33m\u001b[0m\u001b[1;33m\u001b[0m\u001b[0m\n\u001b[1;32m----> 4\u001b[1;33m \u001b[0mprint\u001b[0m\u001b[1;33m(\u001b[0m\u001b[0mdic1\u001b[0m\u001b[1;33m)\u001b[0m\u001b[1;33m\u001b[0m\u001b[1;33m\u001b[0m\u001b[0m\n\u001b[0m",
      "\u001b[1;31mNameError\u001b[0m: name 'dic1' is not defined"
     ]
    }
   ],
   "source": [
    "dic1={1:\"a\",2:\"b\"}\n",
    "print(dic1)\n",
    "del dic1\n",
    "print(dic1)\n"
   ]
  },
  {
   "cell_type": "code",
   "execution_count": 19,
   "id": "1b069992-d9c3-40df-9aca-c33596790133",
   "metadata": {},
   "outputs": [
    {
     "name": "stdout",
     "output_type": "stream",
     "text": [
      "python\n"
     ]
    }
   ],
   "source": [
    "str1=\"Java\"\n",
    "str1=\"python\"\n",
    "print(str1)"
   ]
  },
  {
   "cell_type": "code",
   "execution_count": 1,
   "id": "b22de1f2-4b2b-404a-82b9-c7a196a8f454",
   "metadata": {},
   "outputs": [
    {
     "name": "stdout",
     "output_type": "stream",
     "text": [
      "42\n"
     ]
    }
   ],
   "source": [
    "#In the following example, you create a custom class Data and overwrite the __add__() method \n",
    "#so that creates a new Data object with the value being the sum of the values of the two operands a and b of type Data.\n",
    "class Data:\n",
    "    def __init__(self, value):\n",
    "        self.value = value\n",
    "        \n",
    "    def __add__(self, other):\n",
    "        return Data(self.value + other.value)\n",
    "a = Data(40)\n",
    "b = Data(2)\n",
    "c = a + b\n",
    "print(c.value)"
   ]
  },
  {
   "cell_type": "code",
   "execution_count": 2,
   "id": "a44d4b0c-ab9e-46c2-a1f2-956915755dc6",
   "metadata": {},
   "outputs": [
    {
     "name": "stdout",
     "output_type": "stream",
     "text": [
      "['banana', 'apple', 'juice', 'bred', 'butter']\n"
     ]
    }
   ],
   "source": [
    "class Basket:\n",
    "    def __init__(self, contents):\n",
    "        self.contents = contents\n",
    "    def __add__(self, other):\n",
    "        return Basket(self.contents + other.contents)\n",
    "my_basket = Basket(['banana', 'apple', 'juice'])\n",
    "your_basket = Basket(['bred', 'butter'])\n",
    "our_basket = my_basket + your_basket\n",
    "print(our_basket.contents)"
   ]
  },
  {
   "cell_type": "code",
   "execution_count": 7,
   "id": "40de828d-6ec2-4daa-94de-b2005ba218c0",
   "metadata": {},
   "outputs": [
    {
     "name": "stdout",
     "output_type": "stream",
     "text": [
      "followin\n",
      "followin\n",
      "9\n",
      "\n"
     ]
    },
    {
     "ename": "NameError",
     "evalue": "name 'S' is not defined",
     "output_type": "error",
     "traceback": [
      "\u001b[1;31m---------------------------------------------------------------------------\u001b[0m",
      "\u001b[1;31mNameError\u001b[0m                                 Traceback (most recent call last)",
      "\u001b[1;32m~\\AppData\\Local\\Temp/ipykernel_5188/2076718954.py\u001b[0m in \u001b[0;36m<module>\u001b[1;34m\u001b[0m\n\u001b[0;32m      4\u001b[0m \u001b[0mprint\u001b[0m\u001b[1;33m(\u001b[0m\u001b[0mlen\u001b[0m\u001b[1;33m(\u001b[0m\u001b[0ms\u001b[0m\u001b[1;33m)\u001b[0m\u001b[1;33m)\u001b[0m\u001b[1;33m\u001b[0m\u001b[1;33m\u001b[0m\u001b[0m\n\u001b[0;32m      5\u001b[0m \u001b[0mprint\u001b[0m\u001b[1;33m(\u001b[0m\u001b[0ms\u001b[0m\u001b[1;33m[\u001b[0m\u001b[0mlen\u001b[0m\u001b[1;33m(\u001b[0m\u001b[0ms\u001b[0m\u001b[1;33m)\u001b[0m\u001b[1;33m:\u001b[0m\u001b[1;33m]\u001b[0m\u001b[1;33m)\u001b[0m\u001b[1;33m\u001b[0m\u001b[1;33m\u001b[0m\u001b[0m\n\u001b[1;32m----> 6\u001b[1;33m \u001b[0mprint\u001b[0m\u001b[1;33m(\u001b[0m\u001b[0mS\u001b[0m\u001b[1;33m[\u001b[0m\u001b[1;33m:\u001b[0m\u001b[1;33m-\u001b[0m\u001b[1;36m1\u001b[0m\u001b[1;33m]\u001b[0m\u001b[1;33m)\u001b[0m\u001b[1;33m\u001b[0m\u001b[1;33m\u001b[0m\u001b[0m\n\u001b[0m",
      "\u001b[1;31mNameError\u001b[0m: name 'S' is not defined"
     ]
    }
   ],
   "source": [
    "s=\"following\"\n",
    "print(s[:-1])\n",
    "print(s[:len(s)-1])\n",
    "print(len(s))\n",
    "print(s[len(s):])\n",
    "print(S[:-1])"
   ]
  },
  {
   "cell_type": "code",
   "execution_count": 11,
   "id": "390ff7a6-b5c5-4116-8294-39b43caa3567",
   "metadata": {},
   "outputs": [
    {
     "name": "stdout",
     "output_type": "stream",
     "text": [
      "[10, 20, 50, 60, 30]\n"
     ]
    }
   ],
   "source": [
    "import random\n",
    "List2=[30, 10, 20, 50, 60]\n",
    "random. shuffle(List2)\n",
    "print(List2)\n"
   ]
  },
  {
   "cell_type": "code",
   "execution_count": 21,
   "id": "23fb0e78-048f-4592-9daf-8cae65621641",
   "metadata": {},
   "outputs": [
    {
     "name": "stdout",
     "output_type": "stream",
     "text": [
      "['D', 'N', 'L', 'D', ' ', 'T', 'R', 'M', 'P', 'H']\n"
     ]
    }
   ],
   "source": [
    "string = 'DONALD TRUMPH'\n",
    "k = [i for i in string if i not in \"AEIOU\"]\n",
    "print(k)"
   ]
  },
  {
   "cell_type": "code",
   "execution_count": 22,
   "id": "281d8c3d-3e30-4bda-b92f-c556a91901bb",
   "metadata": {},
   "outputs": [
    {
     "name": "stdout",
     "output_type": "stream",
     "text": [
      "[[1 2]\n",
      " [3 4]]\n",
      "[[1 3]\n",
      " [2 4]]\n"
     ]
    }
   ],
   "source": [
    "import numpy as np\n",
    "b = np.array([[1, 2], [3, 4]])\n",
    "print(b)\n",
    "print(b.T)# Transpose"
   ]
  },
  {
   "cell_type": "code",
   "execution_count": 33,
   "id": "0817691b-f386-48a1-a979-00233fc78c05",
   "metadata": {},
   "outputs": [
    {
     "name": "stdout",
     "output_type": "stream",
     "text": [
      "def\n"
     ]
    }
   ],
   "source": [
    "import re\n",
    "m = re.search('(?<=abc)def', 'abcdef')\n",
    "print(m.group(0))"
   ]
  },
  {
   "cell_type": "code",
   "execution_count": 32,
   "id": "4adf93fa-3063-4129-a9c7-1ab70a1d88fe",
   "metadata": {},
   "outputs": [
    {
     "name": "stdout",
     "output_type": "stream",
     "text": [
      "['P', 'y', 't', 'h', 'o', 'n', '3']\n"
     ]
    }
   ],
   "source": [
    "import re\n",
    "x = re.compile(r'\\S')\n",
    "y = x.findall('Python 3')\n",
    "print(y)"
   ]
  },
  {
   "cell_type": "code",
   "execution_count": 34,
   "id": "f47fb318-13c3-4f7b-9ab1-2ca325fdec13",
   "metadata": {},
   "outputs": [
    {
     "name": "stdout",
     "output_type": "stream",
     "text": [
      "5\n"
     ]
    }
   ],
   "source": [
    "myvar = 5\n",
    "def printvar() :\n",
    "    print(myvar) \n",
    "printvar()\n"
   ]
  },
  {
   "cell_type": "code",
   "execution_count": 35,
   "id": "7a63cef7-f5ce-42b4-a1d5-7db8c18d3928",
   "metadata": {},
   "outputs": [
    {
     "name": "stdout",
     "output_type": "stream",
     "text": [
      "24\n"
     ]
    }
   ],
   "source": [
    "y = lambda x: x*4 \n",
    "print(y(6))"
   ]
  },
  {
   "cell_type": "code",
   "execution_count": 36,
   "id": "3fdce6e4-e16d-4a9e-96ea-657e43f28d5f",
   "metadata": {},
   "outputs": [
    {
     "name": "stdout",
     "output_type": "stream",
     "text": [
      "Int rvi w\n"
     ]
    }
   ],
   "source": [
    "x = 'Interview'\n",
    "print(x.replace('e',' '))\n"
   ]
  },
  {
   "cell_type": "code",
   "execution_count": 37,
   "id": "97853531-5464-41ac-888e-7cc1cfad0c0d",
   "metadata": {},
   "outputs": [
    {
     "name": "stdout",
     "output_type": "stream",
     "text": [
      "True\n"
     ]
    }
   ],
   "source": [
    "x = '\\n'\n",
    "print(x.isspace())"
   ]
  },
  {
   "cell_type": "code",
   "execution_count": 38,
   "id": "aca14aa7-6d84-4828-be34-0c1064800cd0",
   "metadata": {},
   "outputs": [
    {
     "name": "stdout",
     "output_type": "stream",
     "text": [
      "[(0, 4, 8), (1, 5, 9), (2, 6, 10), (3, 7, 11)]\n"
     ]
    }
   ],
   "source": [
    "a = [[0, 1, 2, 3], [4, 5, 6, 7], [8, 9, 10, 11]]\n",
    "print(list(zip(*a)))"
   ]
  },
  {
   "cell_type": "code",
   "execution_count": 40,
   "id": "7d60efdc-5641-4d18-80a6-3b86a5dc39a7",
   "metadata": {},
   "outputs": [
    {
     "name": "stdout",
     "output_type": "stream",
     "text": [
      "['A', 2, 3]\n"
     ]
    }
   ],
   "source": [
    "What will be the output of the following program?\n",
    "def func1(L):\n",
    "    L[0]=\"A\"\n",
    "L1=[1,2,3]\n",
    "func1(L1)\n",
    "print(L1)"
   ]
  },
  {
   "cell_type": "code",
   "execution_count": 41,
   "id": "1869bb32-0793-4f36-9d0c-5abea217eba5",
   "metadata": {},
   "outputs": [
    {
     "name": "stdout",
     "output_type": "stream",
     "text": [
      "[40, 30]\n"
     ]
    }
   ],
   "source": [
    "What will be the output of the following program?\n",
    "list1=[10,30]\n",
    "list2 = list1\n",
    "list1[0] = 40\n",
    "print(list2)"
   ]
  },
  {
   "cell_type": "code",
   "execution_count": 46,
   "id": "4466d819-7916-411c-a2ad-939e4b3c89a2",
   "metadata": {},
   "outputs": [
    {
     "name": "stdout",
     "output_type": "stream",
     "text": [
      "False\n"
     ]
    }
   ],
   "source": [
    "x=[1,2]\n",
    "y=[1,2]\n",
    "print(x is y)"
   ]
  },
  {
   "cell_type": "code",
   "execution_count": 50,
   "id": "a3039eab-2079-45f5-b2af-d64928959303",
   "metadata": {},
   "outputs": [
    {
     "name": "stdout",
     "output_type": "stream",
     "text": [
      "False\n"
     ]
    }
   ],
   "source": [
    "t1=10,20\n",
    "t2=10,20\n",
    "print(t1 is t2)"
   ]
  },
  {
   "cell_type": "markdown",
   "id": "cc5ae3de-16c8-4a4e-b285-c4ca3e5f1dd8",
   "metadata": {},
   "source": [
    "### List Comprehension\n",
    "-  it offers a shorter syntax when you want to create a new list based on the values of an existing list.\n",
    "- [expression for item in list]\n",
    "```python\n",
    "newlist = [expression for item in iterable if condition == True]\n",
    "```"
   ]
  },
  {
   "cell_type": "code",
   "execution_count": 87,
   "id": "dc3dc1fb-dd32-4613-833d-18898ab77cce",
   "metadata": {},
   "outputs": [
    {
     "name": "stdout",
     "output_type": "stream",
     "text": [
      "{0, 2, 4, 6, 8, 10, 12, 14, 16, 18}\n"
     ]
    }
   ],
   "source": [
    "even_list = [ x for x in range(20) if x % 2 == 0]\n",
    "print(set(even_list))"
   ]
  },
  {
   "cell_type": "code",
   "execution_count": 57,
   "id": "76651b61-53fe-4797-99ab-f34851b3962d",
   "metadata": {},
   "outputs": [
    {
     "name": "stdout",
     "output_type": "stream",
     "text": [
      "[0.0, 0.5, 1.0, 1.5]\n"
     ]
    }
   ],
   "source": [
    "list1 = [0.5 * x for x in range(0, 4)]\n",
    "print(list1)"
   ]
  },
  {
   "cell_type": "code",
   "execution_count": 88,
   "id": "9ba1c1a8-b038-4711-a86d-9d3cba19df41",
   "metadata": {},
   "outputs": [
    {
     "name": "stdout",
     "output_type": "stream",
     "text": [
      "[0, 25, 100, 225, 400, 625, 900, 1225, 1600, 2025, 2500, 3025, 3600, 4225, 4900, 5625, 6400, 7225, 8100, 9025]\n"
     ]
    }
   ],
   "source": [
    "squares = [i * i for i in range(100) if i%5==0]\n",
    "print(squares)"
   ]
  },
  {
   "cell_type": "code",
   "execution_count": 53,
   "id": "175c178d-d3d3-4cbc-818b-16fda0d3e181",
   "metadata": {},
   "outputs": [],
   "source": [
    "squares = [i * i for i in range(10)]\n",
    "\n",
    "\n",
    "\n",
    "original_prices = [1.25, -9.45, 10.22, 3.78, -5.92, 1.16]\n",
    "prices = [i if i > 0 else 0 for i in original_prices]\n",
    "pricesvowels = [i for i in sentence if i in 'aeiou']"
   ]
  },
  {
   "cell_type": "code",
   "execution_count": 54,
   "id": "8dfccfcb-1546-4bd4-bd1f-5b6a8be384f5",
   "metadata": {},
   "outputs": [
    {
     "name": "stdout",
     "output_type": "stream",
     "text": [
      "3Python Test3\n"
     ]
    }
   ],
   "source": [
    "x ='Python Test'\n",
    "print(x.join('33'))"
   ]
  },
  {
   "cell_type": "code",
   "execution_count": 59,
   "id": "9e57286a-d68f-442b-a0d9-525c2f2ea7bb",
   "metadata": {},
   "outputs": [
    {
     "name": "stdout",
     "output_type": "stream",
     "text": [
      "[0, 4, 16, 36, 64]\n"
     ]
    }
   ],
   "source": [
    "squares = [i * i for i in range(10) if i%2==0]\n",
    "print(squares)"
   ]
  },
  {
   "cell_type": "code",
   "execution_count": 60,
   "id": "0829d5b6-952e-4b7e-b087-3f30152d607b",
   "metadata": {},
   "outputs": [
    {
     "name": "stdout",
     "output_type": "stream",
     "text": [
      "['e', 'o', 'e', 'a', 'e', 'a', 'o', 'a']\n"
     ]
    }
   ],
   "source": [
    "sentence = 'the rocket came back from mars'\n",
    "v = [i for i in sentence if i in 'aeiou']\n",
    "print(v)"
   ]
  },
  {
   "cell_type": "code",
   "execution_count": 66,
   "id": "9629f693-b5c3-4bd3-8546-8e81fa1152f3",
   "metadata": {},
   "outputs": [
    {
     "ename": "TypeError",
     "evalue": "'int' object is not iterable",
     "output_type": "error",
     "traceback": [
      "\u001b[1;31m---------------------------------------------------------------------------\u001b[0m",
      "\u001b[1;31mTypeError\u001b[0m                                 Traceback (most recent call last)",
      "\u001b[1;32m~\\AppData\\Local\\Temp/ipykernel_5188/2716109603.py\u001b[0m in \u001b[0;36m<module>\u001b[1;34m\u001b[0m\n\u001b[0;32m      1\u001b[0m \u001b[0ma\u001b[0m \u001b[1;33m=\u001b[0m \u001b[1;33m[\u001b[0m \u001b[1;36m1\u001b[0m\u001b[1;33m,\u001b[0m \u001b[1;36m2\u001b[0m\u001b[1;33m,\u001b[0m \u001b[1;36m3\u001b[0m\u001b[1;33m,\u001b[0m \u001b[1;36m4\u001b[0m\u001b[1;33m,\u001b[0m \u001b[1;36m5\u001b[0m\u001b[1;33m,\u001b[0m \u001b[1;36m6\u001b[0m\u001b[1;33m,\u001b[0m \u001b[1;36m7\u001b[0m\u001b[1;33m,\u001b[0m \u001b[1;36m8\u001b[0m\u001b[1;33m,\u001b[0m \u001b[1;36m9\u001b[0m\u001b[1;33m,\u001b[0m \u001b[1;36m10\u001b[0m\u001b[1;33m,\u001b[0m \u001b[1;36m11\u001b[0m\u001b[1;33m]\u001b[0m\u001b[1;33m\u001b[0m\u001b[1;33m\u001b[0m\u001b[0m\n\u001b[1;32m----> 2\u001b[1;33m \u001b[0mprint\u001b[0m\u001b[1;33m(\u001b[0m\u001b[0mlist\u001b[0m\u001b[1;33m(\u001b[0m\u001b[0mzip\u001b[0m\u001b[1;33m(\u001b[0m\u001b[1;33m*\u001b[0m\u001b[0ma\u001b[0m\u001b[1;33m)\u001b[0m\u001b[1;33m)\u001b[0m\u001b[1;33m)\u001b[0m\u001b[1;33m\u001b[0m\u001b[1;33m\u001b[0m\u001b[0m\n\u001b[0m",
      "\u001b[1;31mTypeError\u001b[0m: 'int' object is not iterable"
     ]
    }
   ],
   "source": [
    "a = [ 1, 2, 3, 4, 5, 6, 7, 8, 9, 10, 11]\n",
    "print(list(zip(*a)))"
   ]
  },
  {
   "cell_type": "code",
   "execution_count": 65,
   "id": "c3d5dd64-4497-4c91-a2cf-c86375495841",
   "metadata": {},
   "outputs": [
    {
     "name": "stdout",
     "output_type": "stream",
     "text": [
      "[(0, 4, 8), (1, 5, 9), (2, 6, 10), (3, 7, 11)]\n"
     ]
    }
   ],
   "source": [
    "a=[0, 1, 2, 3]\n",
    "b=[4, 5, 6, 7]\n",
    "c=[8, 9, 10, 11]\n",
    "print(list(zip(a,b,c)))\n"
   ]
  },
  {
   "cell_type": "code",
   "execution_count": 75,
   "id": "d6b41a0c-c58f-4170-af7a-9adce349688c",
   "metadata": {},
   "outputs": [
    {
     "name": "stdout",
     "output_type": "stream",
     "text": [
      "[10, 30]\n",
      "[40, 30]\n",
      "2073419223744\n",
      "2073419200192\n"
     ]
    }
   ],
   "source": [
    "list1=[10,30]\n",
    "list2 = list1    #list  aliasing  # copy(), \n",
    "list1[0] = 40\n",
    "print(list2)\n",
    "print(list1)\n",
    "print(id(list1))\n",
    "print(id(list2))"
   ]
  },
  {
   "cell_type": "code",
   "execution_count": 86,
   "id": "df724a10-4577-4261-94b1-c66b6fb360e8",
   "metadata": {},
   "outputs": [
    {
     "name": "stdout",
     "output_type": "stream",
     "text": [
      "WaterMelon\n",
      "Banana\n"
     ]
    }
   ],
   "source": [
    "fruits = ('Banana','Grapes','Mango','WaterMelon')\n",
    "print(max(fruits))\n",
    "print(min(fruits))"
   ]
  },
  {
   "cell_type": "code",
   "execution_count": 90,
   "id": "937eca8f-a2e8-4a46-8048-d929bf8ed577",
   "metadata": {},
   "outputs": [
    {
     "name": "stdout",
     "output_type": "stream",
     "text": [
      "8\n"
     ]
    }
   ],
   "source": [
    "sentence = 'the rocket came back from mars'\n",
    "v = [i for i in sentence if i in 'aeiou']\n",
    "print(len(v))"
   ]
  },
  {
   "cell_type": "code",
   "execution_count": null,
   "id": "97f7d470-017e-46f1-af31-5a3cee470017",
   "metadata": {},
   "outputs": [],
   "source": [
    "n=int(input())\n",
    "data=[int(i) for i in input().split()][:n]\n",
    "# def cmode(data):\n",
    "#     d=dict(Counter(data))\n",
    "#     max_value=max(list(d.values()))\n",
    "#     if max_value==1:\n",
    "#         mode=min(list(d.keys()))\n",
    "#     else:\n",
    "#         mode=statistics.mode(data)\n",
    "#     return mode\n",
    "    \n",
    "print(statistics.mean(data))\n",
    "\n",
    "print(statistics.median(data))\n",
    "# mode=cmode(data)\n",
    "print(stats.mode(data)[0][0])\n"
   ]
  },
  {
   "cell_type": "code",
   "execution_count": null,
   "id": "7f8aeb9f-88f5-410b-9c3d-86c152362eaa",
   "metadata": {},
   "outputs": [],
   "source": [
    "f=open"
   ]
  }
 ],
 "metadata": {
  "kernelspec": {
   "display_name": "Python 3 (ipykernel)",
   "language": "python",
   "name": "python3"
  },
  "language_info": {
   "codemirror_mode": {
    "name": "ipython",
    "version": 3
   },
   "file_extension": ".py",
   "mimetype": "text/x-python",
   "name": "python",
   "nbconvert_exporter": "python",
   "pygments_lexer": "ipython3",
   "version": "3.9.6"
  }
 },
 "nbformat": 4,
 "nbformat_minor": 5
}
