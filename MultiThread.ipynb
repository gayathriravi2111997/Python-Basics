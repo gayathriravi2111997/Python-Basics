{
 "cells": [
  {
   "cell_type": "markdown",
   "id": "814a0b33-b60f-4047-80ca-1e4cd7033824",
   "metadata": {},
   "source": [
    "### PYTHON MULTITHREADED PROGRAMMING"
   ]
  },
  {
   "cell_type": "markdown",
   "id": "63f35da8-2626-4b42-8e59-0279a24a7c69",
   "metadata": {},
   "source": [
    "\n",
    "#### Running several threads is similar to running several different programs concurrently, but with the following benefits:\n",
    "- Multiple threads within a process share the same data space with the main thread and can therefore share information or communicate with each other more easily than if they were separate processes.\n",
    "- Threads sometimes called lig ht-weig ht processes and they do not require much memory overhead; they care cheaper than processes"
   ]
  },
  {
   "cell_type": "code",
   "execution_count": 8,
   "id": "529b4571-23b1-405c-b386-5ff367bb04c1",
   "metadata": {},
   "outputs": [
    {
     "name": "stdout",
     "output_type": "stream",
     "text": [
      "1 50.0\n",
      "50.0 25.99\n",
      "25.99 14.899578684109272\n",
      "14.899578684109272 10.772030933542913\n",
      "10.772030933542913 9.981249207315451 500.0\n",
      "500.0 250.999\n",
      "250.999 127.48954776911462\n",
      "127.48954776911462 67.66274213168452\n",
      "67.66274213168452 41.21357261818075\n",
      "41.21357261818075 32.72658006314248\n",
      "32.72658006314248 31.626113065211403\n",
      "31.626113065211403 31.60696705743235\n",
      "31.60696705743235 31.606961258558748\n",
      "31.606961258558748 31.606961258558215\n",
      "\n",
      "9.98124920731545 9.949923682546618\n",
      "9.949923682546618 9.949874371188393\n",
      "9.949874371188393 9.9498743710662\n",
      "1 867.0\n",
      "867.0 434.49942329873124\n",
      "434.49942329873124 219.24396055635268\n",
      "219.24396055635268 113.57419860976081\n",
      "113.57419860976081 64.41647297078916\n",
      "64.41647297078916 45.65976464330739\n",
      "45.65976464330739 41.80720309343319\n",
      "41.80720309343319 41.62969503982818\n",
      "41.62969503982818 41.62931659471749\n",
      "41.62931659471749 41.6293165929973\n"
     ]
    },
    {
     "name": "stdin",
     "output_type": "stream",
     "text": [
      "Type something to quit. 1\n"
     ]
    }
   ],
   "source": [
    "from _thread import start_new_thread\n",
    "\n",
    "def heron(a):\n",
    "    \"\"\"Calculates the square root of a\"\"\"\n",
    "    eps = 0.0000001\n",
    "    old = 1\n",
    "    new = 1\n",
    "    while True:\n",
    "        old,new = new, (new + a/new) / 2.0\n",
    "        print(old, new)\n",
    "        if abs(new - old) < eps:\n",
    "            break\n",
    "    return new\n",
    "\n",
    "start_new_thread(heron,(99,))\n",
    "start_new_thread(heron,(999,))\n",
    "start_new_thread(heron,(1733,))\n",
    "\n",
    "c = input(\"Type something to quit.\")"
   ]
  },
  {
   "cell_type": "code",
   "execution_count": 13,
   "id": "3fbd04b9-19ca-4d89-a72c-0fc6662a35b6",
   "metadata": {},
   "outputs": [
    {
     "name": "stdout",
     "output_type": "stream",
     "text": [
      "<__main__.A object at 0x000001F240D6D730>\n"
     ]
    }
   ],
   "source": [
    "class A:\n",
    "    pass\n",
    "a = A()\n",
    "print(str(a))"
   ]
  },
  {
   "cell_type": "code",
   "execution_count": 14,
   "id": "f3251df8-786e-4984-8403-3cd8c8c4d615",
   "metadata": {},
   "outputs": [
    {
     "name": "stdout",
     "output_type": "stream",
     "text": [
      "<__main__.A object at 0x000001F240D6D550>\n"
     ]
    }
   ],
   "source": [
    "class A:\n",
    "    pass\n",
    "a = A()\n",
    "print(repr(a))"
   ]
  },
  {
   "cell_type": "code",
   "execution_count": 1,
   "id": "12f3aa29-fa55-49e0-9836-6a97c509c890",
   "metadata": {},
   "outputs": [
    {
     "name": "stdout",
     "output_type": "stream",
     "text": [
      "Iteration 0: x = 200000\n",
      "Iteration 1: x = 200000\n",
      "Iteration 2: x = 200000\n",
      "Iteration 3: x = 200000\n",
      "Iteration 4: x = 200000\n",
      "Iteration 5: x = 200000\n",
      "Iteration 6: x = 200000\n",
      "Iteration 7: x = 200000\n",
      "Iteration 8: x = 200000\n",
      "Iteration 9: x = 200000\n"
     ]
    }
   ],
   "source": [
    "import threading\n",
    "  \n",
    "# global variable x\n",
    "x = 0\n",
    "  \n",
    "def increment():\n",
    "    \"\"\"\n",
    "    function to increment global variable x\n",
    "    \"\"\"\n",
    "    global x\n",
    "    x += 1\n",
    "  \n",
    "def thread_task():\n",
    "    \"\"\"\n",
    "    task for thread\n",
    "    calls increment function 100000 times.\n",
    "    \"\"\"\n",
    "    for _ in range(100000):\n",
    "        increment()\n",
    "  \n",
    "def main_task():\n",
    "    global x\n",
    "    # setting global variable x as 0\n",
    "    x = 0\n",
    "  \n",
    "    # creating threads\n",
    "    t1 = threading.Thread(target=thread_task)\n",
    "    t2 = threading.Thread(target=thread_task)\n",
    "  \n",
    "    # start threads\n",
    "    t1.start()\n",
    "    t2.start()\n",
    "  \n",
    "    # wait until threads finish their job\n",
    "    t1.join()\n",
    "    t2.join()\n",
    "  \n",
    "if __name__ == \"__main__\":\n",
    "    for i in range(10):\n",
    "        main_task()\n",
    "        print(\"Iteration {0}: x = {1}\".format(i,x))"
   ]
  },
  {
   "cell_type": "code",
   "execution_count": 2,
   "id": "1ae37ef3-4af4-4896-849b-1b9903578660",
   "metadata": {},
   "outputs": [
    {
     "name": "stdout",
     "output_type": "stream",
     "text": [
      "Iteration 0: x = 200000\n",
      "Iteration 1: x = 200000\n",
      "Iteration 2: x = 200000\n",
      "Iteration 3: x = 200000\n",
      "Iteration 4: x = 200000\n",
      "Iteration 5: x = 200000\n",
      "Iteration 6: x = 200000\n",
      "Iteration 7: x = 200000\n",
      "Iteration 8: x = 200000\n",
      "Iteration 9: x = 200000\n"
     ]
    }
   ],
   "source": [
    "import threading\n",
    "\n",
    "# global variable x\n",
    "x = 0\n",
    "\n",
    "def increment():\n",
    "\t\"\"\"\n",
    "\tfunction to increment global variable x\n",
    "\t\"\"\"\n",
    "\tglobal x\n",
    "\tx += 1\n",
    "\n",
    "def thread_task(lock):\n",
    "\t\"\"\"\n",
    "\ttask for thread\n",
    "\tcalls increment function 100000 times.\n",
    "\t\"\"\"\n",
    "\tfor _ in range(100000):\n",
    "\t\tlock.acquire()\n",
    "\t\tincrement()\n",
    "\t\tlock.release()\n",
    "\n",
    "def main_task():\n",
    "\tglobal x\n",
    "\t# setting global variable x as 0\n",
    "\tx = 0\n",
    "\n",
    "\t# creating a lock\n",
    "\tlock = threading.Lock()\n",
    "\n",
    "\t# creating threads\n",
    "\tt1 = threading.Thread(target=thread_task, args=(lock,))\n",
    "\tt2 = threading.Thread(target=thread_task, args=(lock,))\n",
    "\n",
    "\t# start threads\n",
    "\tt1.start()\n",
    "\tt2.start()\n",
    "\n",
    "\t# wait until threads finish their job\n",
    "\tt1.join()\n",
    "\tt2.join()\n",
    "\n",
    "if __name__ == \"__main__\":\n",
    "\tfor i in range(10):\n",
    "\t\tmain_task()\n",
    "\t\tprint(\"Iteration {0}: x = {1}\".format(i,x))\n"
   ]
  },
  {
   "cell_type": "code",
   "execution_count": 3,
   "id": "f06bbbd8-79f9-4be3-8650-eed9e6e633ff",
   "metadata": {},
   "outputs": [
    {
     "name": "stdout",
     "output_type": "stream",
     "text": [
      "counter=20\n",
      "counter=10\n",
      "The final counter is 10\n"
     ]
    }
   ],
   "source": [
    "from threading import Thread\n",
    "from time import sleep\n",
    "\n",
    "\n",
    "counter = 0\n",
    "\n",
    "\n",
    "def increase(by):\n",
    "    global counter\n",
    "\n",
    "    local_counter = counter\n",
    "    local_counter += by\n",
    "\n",
    "    sleep(0.1)\n",
    "\n",
    "    counter = local_counter\n",
    "    print(f'counter={counter}')\n",
    "\n",
    "\n",
    "# create threads\n",
    "t1 = Thread(target=increase, args=(10,))\n",
    "t2 = Thread(target=increase, args=(20,))\n",
    "\n",
    "# start the threads\n",
    "t1.start()\n",
    "t2.start()\n",
    "\n",
    "\n",
    "# wait for the threads to complete\n",
    "t1.join()\n",
    "t2.join()\n",
    "\n",
    "\n",
    "print(f'The final counter is {counter}')"
   ]
  },
  {
   "cell_type": "code",
   "execution_count": 4,
   "id": "3d5ef882-a2ff-4bf7-9a3b-a905da00ce50",
   "metadata": {},
   "outputs": [
    {
     "name": "stdout",
     "output_type": "stream",
     "text": [
      "counter=10\n",
      "counter=30\n",
      "The final counter is 30\n"
     ]
    }
   ],
   "source": [
    "from threading import Thread, Lock\n",
    "from time import sleep\n",
    "\n",
    "\n",
    "counter = 0\n",
    "\n",
    "\n",
    "def increase(by, lock):\n",
    "    global counter\n",
    "\n",
    "    lock.acquire()\n",
    "\n",
    "    local_counter = counter\n",
    "    local_counter += by\n",
    "\n",
    "    sleep(0.1)\n",
    "\n",
    "    counter = local_counter\n",
    "    print(f'counter={counter}')\n",
    "\n",
    "    lock.release()\n",
    "\n",
    "\n",
    "lock = Lock()\n",
    "\n",
    "# create threads\n",
    "t1 = Thread(target=increase, args=(10, lock))\n",
    "t2 = Thread(target=increase, args=(20, lock))\n",
    "\n",
    "# start the threads\n",
    "t1.start()\n",
    "t2.start()\n",
    "\n",
    "\n",
    "# wait for the threads to complete\n",
    "t1.join()\n",
    "t2.join()\n",
    "\n",
    "\n",
    "print(f'The final counter is {counter}')"
   ]
  },
  {
   "cell_type": "code",
   "execution_count": 5,
   "id": "8c1bc0c3-66f1-464e-9e81-a0d091afba32",
   "metadata": {},
   "outputs": [
    {
     "name": "stdout",
     "output_type": "stream",
     "text": [
      "counter=10\n",
      "counter=30\n",
      "The final counter is 30\n"
     ]
    }
   ],
   "source": [
    "from threading import Thread, Lock\n",
    "from time import sleep\n",
    "\n",
    "\n",
    "class Counter:\n",
    "    def __init__(self):\n",
    "        self.value = 0\n",
    "        self.lock = Lock()\n",
    "\n",
    "    def increase(self, by):\n",
    "        self.lock.acquire()\n",
    "\n",
    "        current_value = self.value\n",
    "        current_value += by\n",
    "\n",
    "        sleep(0.1)\n",
    "\n",
    "        self.value = current_value\n",
    "        print(f'counter={self.value}')\n",
    "\n",
    "        self.lock.release()\n",
    "\n",
    "\n",
    "counter = Counter()\n",
    "\n",
    "# create threads\n",
    "t1 = Thread(target=counter.increase, args=(10, ))\n",
    "t2 = Thread(target=counter.increase, args=(20, ))\n",
    "\n",
    "# start the threads\n",
    "t1.start()\n",
    "t2.start()\n",
    "\n",
    "\n",
    "# wait for the threads to complete\n",
    "t1.join()\n",
    "t2.join()\n",
    "\n",
    "\n",
    "print(f'The final counter is {counter.value}')"
   ]
  },
  {
   "cell_type": "code",
   "execution_count": 6,
   "id": "cc0eaa2d-da5b-478a-8988-666ae8a68f4c",
   "metadata": {},
   "outputs": [
    {
     "name": "stdout",
     "output_type": "stream",
     "text": [
      "1642666342.575824\n",
      "0\n",
      "0\n",
      "1\n",
      "0\n",
      "1\n",
      "2\n",
      "1\n",
      "0\n",
      "0\n",
      "1\n",
      "1642666342.575824\n"
     ]
    }
   ],
   "source": [
    "import  time\n",
    "import threading\n",
    "def f1(n):\n",
    "    for i in n:\n",
    "        print(i%2)\n",
    "def f2(n):\n",
    "    for i in n:\n",
    "        print(i%3)\n",
    "n=[2,4,3,6,7]\n",
    "s=time.time()\n",
    "print(s)\n",
    "f1(n)\n",
    "f2(n)\n",
    "e=time.time()\n",
    "print(e)\n"
   ]
  },
  {
   "cell_type": "code",
   "execution_count": 7,
   "id": "f824f41b-27a4-43ad-8631-2088a69dce53",
   "metadata": {},
   "outputs": [
    {
     "name": "stdout",
     "output_type": "stream",
     "text": [
      "Starting a task...\n",
      "Starting a task...\n",
      "donedone\n",
      "\n",
      "It took  1.01 second(s) to complete.\n"
     ]
    }
   ],
   "source": [
    "from time import sleep, perf_counter\n",
    "from threading import Thread\n",
    "\n",
    "\n",
    "def task():\n",
    "    print('Starting a task...')\n",
    "    sleep(1)\n",
    "    print('done')\n",
    "\n",
    "\n",
    "start_time = perf_counter()\n",
    "\n",
    "# create two new threads\n",
    "t1 = Thread(target=task)\n",
    "t2 = Thread(target=task)\n",
    "\n",
    "# start the threads\n",
    "t1.start()\n",
    "t2.start()\n",
    "\n",
    "# wait for the threads to complete\n",
    "t1.join()\n",
    "t2.join()\n",
    "\n",
    "end_time = perf_counter()\n",
    "\n",
    "print(f'It took {end_time- start_time: 0.2f} second(s) to complete.')"
   ]
  },
  {
   "cell_type": "code",
   "execution_count": 4,
   "id": "7183d1c2-bc88-40bc-b007-331406f70ea9",
   "metadata": {},
   "outputs": [
    {
     "name": "stdout",
     "output_type": "stream",
     "text": [
      "Sleeping for 1 second(s)\n",
      "Sleeping for 2 second(s)\n",
      "Sleeping for 3 second(s)\n",
      "Series computation: 6.004213094711304 secs \n"
     ]
    }
   ],
   "source": [
    "import os\n",
    "import time\n",
    "def sleep_fun(seconds):\n",
    "    print(\"Sleeping for {} second(s)\".format(seconds))\n",
    "    time.sleep(seconds)\n",
    "sleep_times = [1,2,3]\n",
    "start = time.time()\n",
    "for i in sleep_times:\n",
    "    sleep_fun(i)\n",
    "end = time.time()\n",
    "print('Series computation: {} secs '.format(end-start))\n"
   ]
  },
  {
   "cell_type": "code",
   "execution_count": 10,
   "id": "fbf19195-efae-4e53-bff1-48c05379b5af",
   "metadata": {},
   "outputs": [
    {
     "name": "stdout",
     "output_type": "stream",
     "text": [
      "Sleeping for 1 second(s)\n",
      "Sleeping for 2 second(s)\n",
      "Sleeping for 3 second(s)\n",
      "Series computation: 6.014005422592163 secs \n"
     ]
    }
   ],
   "source": [
    "sleep_times = [1,2,3]\n",
    "start = time.time()\n",
    "for i in sleep_times:\n",
    "    sleep_fun(i)\n",
    "end = time.time()\n",
    "print(\"Series computation: {} secs \".format(end-start))"
   ]
  },
  {
   "cell_type": "code",
   "execution_count": 12,
   "id": "76bd75a3-d335-4303-802d-bccbe2518c48",
   "metadata": {},
   "outputs": [
    {
     "name": "stdout",
     "output_type": "stream",
     "text": [
      "Sleeping for 1 second(s)\n",
      "Sleeping for 2 second(s)\n",
      "Sleeping for 3 second(s)\n",
      "Multithreading computation: 3.0194244384765625 secs \n"
     ]
    }
   ],
   "source": [
    "start = time.time()\n",
    "with concurrent.futures.ThreadPoolExecutor() as executor:\n",
    "    executor.map(sleep_fun, sleep_times) \n",
    "end = time.time()\n",
    "print(\"Multithreading computation: {} secs \".format(end-start))"
   ]
  },
  {
   "cell_type": "code",
   "execution_count": null,
   "id": "c0b98359-4e4e-418e-aa25-1376145fc8a7",
   "metadata": {},
   "outputs": [],
   "source": []
  }
 ],
 "metadata": {
  "kernelspec": {
   "display_name": "Python 3 (ipykernel)",
   "language": "python",
   "name": "python3"
  },
  "language_info": {
   "codemirror_mode": {
    "name": "ipython",
    "version": 3
   },
   "file_extension": ".py",
   "mimetype": "text/x-python",
   "name": "python",
   "nbconvert_exporter": "python",
   "pygments_lexer": "ipython3",
   "version": "3.9.6"
  },
  "toc-autonumbering": false,
  "toc-showmarkdowntxt": true
 },
 "nbformat": 4,
 "nbformat_minor": 5
}
