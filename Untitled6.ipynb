{
 "cells": [
  {
   "cell_type": "code",
   "execution_count": 6,
   "id": "64d6e5b2",
   "metadata": {},
   "outputs": [
    {
     "ename": "AssertionError",
     "evalue": "X too small",
     "output_type": "error",
     "traceback": [
      "\u001b[1;31m---------------------------------------------------------------------------\u001b[0m",
      "\u001b[1;31mAssertionError\u001b[0m                            Traceback (most recent call last)",
      "\u001b[1;32m~\\AppData\\Local\\Temp/ipykernel_15604/2170538675.py\u001b[0m in \u001b[0;36m<module>\u001b[1;34m\u001b[0m\n\u001b[0;32m      1\u001b[0m \u001b[0mx\u001b[0m\u001b[1;33m=\u001b[0m\u001b[1;36m10\u001b[0m\u001b[1;33m\u001b[0m\u001b[1;33m\u001b[0m\u001b[0m\n\u001b[0;32m      2\u001b[0m \u001b[0my\u001b[0m\u001b[1;33m=\u001b[0m\u001b[1;36m8\u001b[0m\u001b[1;33m\u001b[0m\u001b[1;33m\u001b[0m\u001b[0m\n\u001b[1;32m----> 3\u001b[1;33m \u001b[1;32massert\u001b[0m \u001b[0mx\u001b[0m\u001b[1;33m<\u001b[0m\u001b[0my\u001b[0m\u001b[1;33m,\u001b[0m \u001b[1;34m'X too small'\u001b[0m\u001b[1;33m\u001b[0m\u001b[1;33m\u001b[0m\u001b[0m\n\u001b[0m",
      "\u001b[1;31mAssertionError\u001b[0m: X too small"
     ]
    }
   ],
   "source": [
    "x=10\n",
    "y=8\n",
    "assert x<y, 'X too small'"
   ]
  },
  {
   "cell_type": "code",
   "execution_count": 4,
   "id": "f8b0bbfe",
   "metadata": {},
   "outputs": [
    {
     "ename": "MYERROR",
     "evalue": "Only integers are allowed gfhgfjhfgjvj",
     "output_type": "error",
     "traceback": [
      "\u001b[1;31m---------------------------------------------------------------------------\u001b[0m",
      "\u001b[1;31mMYERROR\u001b[0m                                   Traceback (most recent call last)",
      "\u001b[1;32m~\\AppData\\Local\\Temp/ipykernel_15604/1796426507.py\u001b[0m in \u001b[0;36m<module>\u001b[1;34m\u001b[0m\n\u001b[0;32m      2\u001b[0m \u001b[0mx\u001b[0m \u001b[1;33m=\u001b[0m \u001b[1;34m'hello'\u001b[0m\u001b[1;33m\u001b[0m\u001b[1;33m\u001b[0m\u001b[0m\n\u001b[0;32m      3\u001b[0m \u001b[1;32mif\u001b[0m \u001b[1;32mnot\u001b[0m \u001b[0mtype\u001b[0m\u001b[1;33m(\u001b[0m\u001b[0mx\u001b[0m\u001b[1;33m)\u001b[0m \u001b[1;32mis\u001b[0m \u001b[0mint\u001b[0m\u001b[1;33m:\u001b[0m\u001b[1;33m\u001b[0m\u001b[1;33m\u001b[0m\u001b[0m\n\u001b[1;32m----> 4\u001b[1;33m     \u001b[1;32mraise\u001b[0m \u001b[0mMYERROR\u001b[0m\u001b[1;33m(\u001b[0m\u001b[1;34m'Only integers are allowed gfhgfjhfgjvj'\u001b[0m\u001b[1;33m)\u001b[0m\u001b[1;33m\u001b[0m\u001b[1;33m\u001b[0m\u001b[0m\n\u001b[0m",
      "\u001b[1;31mMYERROR\u001b[0m: Only integers are allowed gfhgfjhfgjvj"
     ]
    }
   ],
   "source": [
    "class MYERROR(Exception): pass\n",
    "x = 'hello'\n",
    "if not type(x) is int:\n",
    "    raise MYERROR('Only integers are allowed gfhgfjhfgjvj')"
   ]
  },
  {
   "cell_type": "code",
   "execution_count": null,
   "id": "caabf327",
   "metadata": {},
   "outputs": [],
   "source": []
  },
  {
   "cell_type": "code",
   "execution_count": null,
   "id": "053ebd02",
   "metadata": {},
   "outputs": [],
   "source": []
  },
  {
   "cell_type": "markdown",
   "id": "3a0c5d01",
   "metadata": {},
   "source": [
    "### Defining a Class\n",
    "- Classes are defined using the keyword class. \n",
    "- Just like a function, a class should have a documentation string (docstring) \n",
    "- which briefly explains what the class is and what it does. \n",
    "- the docstring is not mandatory, it is a good practice to have it. \n",
    "Here is a simple definition of a class called NewClass:"
   ]
  },
  {
   "cell_type": "code",
   "execution_count": 7,
   "id": "529b12f8",
   "metadata": {},
   "outputs": [
    {
     "name": "stdout",
     "output_type": "stream",
     "text": [
      "This is the docstring of the class NewClass that we\n",
      "    Just created. Our program now has a new class\n"
     ]
    }
   ],
   "source": [
    "#Here is a simple definition of a class called NewClass:\n",
    "class NewClass:\n",
    "    \"\"\"This is the docstring of the class NewClass that we\n",
    "    Just created. Our program now has a new class\"\"\"\n",
    "    pass\n",
    "print(NewClass.__doc__)"
   ]
  },
  {
   "cell_type": "code",
   "execution_count": 3,
   "id": "d6d1e10c",
   "metadata": {},
   "outputs": [
    {
     "name": "stdin",
     "output_type": "stream",
     "text": [
      "Enter your name:  kar\n"
     ]
    },
    {
     "name": "stdout",
     "output_type": "stream",
     "text": [
      "kar\n",
      "Hello kar\n",
      "None\n"
     ]
    }
   ],
   "source": [
    "class NewClass:\n",
    "    \"\"\"This is our first class. What it does\n",
    "    is display a string text and a value of\n",
    "    variable name\"\"\"\n",
    "    name = str(input(\"Enter your name: \"))\n",
    "    def greeting (name):\n",
    "        print (\"Hello\", name)\n",
    "print (NewClass.name)\n",
    "print (NewClass.greeting(NewClass.name))\n",
    "#print (NewClass.__doc__)"
   ]
  },
  {
   "cell_type": "code",
   "execution_count": 21,
   "id": "6a830e76",
   "metadata": {},
   "outputs": [
    {
     "name": "stdout",
     "output_type": "stream",
     "text": [
      "Name :  Zara , Salary:  2000\n",
      "Name :  Manni , Salary:  5000\n",
      "Total Employee0:2\n"
     ]
    }
   ],
   "source": [
    "class Employee:\n",
    "    'Common base class for all employees'\n",
    "    empCount = 0\n",
    "    def __init__(self, name, salary):\n",
    "        self.name = name\n",
    "        self.salary = salary\n",
    "        Employee.empCount += 1\n",
    "    def displayCount(self):\n",
    "        print( f\"Total Employee:{Employee.empCount}\")\n",
    "    def displayEmployee(self):\n",
    "        print(\"Name : \", self.name, \", Salary: \", self.salary)\n",
    "\"This would create first object of Employee class\"\n",
    "emp1 = Employee(\"Zara\", 2000)\n",
    "\"This would create second object of Employee class\"\n",
    "emp2 = Employee(\"Manni\", 5000)\n",
    "emp1.displayEmployee()\n",
    "emp2.displayEmployee()\n",
    "emp2.displayCount()\n",
    "#print(\"Total Employee %d\" % Employee.empCount)"
   ]
  },
  {
   "cell_type": "code",
   "execution_count": 23,
   "id": "b2131bb5",
   "metadata": {},
   "outputs": [
    {
     "name": "stdout",
     "output_type": "stream",
     "text": [
      "{'__module__': '__main__', '__doc__': 'Common base class for all employees', 'empCount': 2, '__init__': <function Employee.__init__ at 0x00000219712E8D30>, 'displayCount': <function Employee.displayCount at 0x00000219712E8CA0>, 'displayEmployee': <function Employee.displayEmployee at 0x00000219712E8C10>, '__dict__': <attribute '__dict__' of 'Employee' objects>, '__weakref__': <attribute '__weakref__' of 'Employee' objects>}\n"
     ]
    }
   ],
   "source": [
    "print(Employee.__dict__)"
   ]
  },
  {
   "cell_type": "code",
   "execution_count": 24,
   "id": "98af9f15",
   "metadata": {},
   "outputs": [
    {
     "name": "stdout",
     "output_type": "stream",
     "text": [
      "Employee\n"
     ]
    }
   ],
   "source": [
    "print(Employee.__name__)"
   ]
  },
  {
   "cell_type": "code",
   "execution_count": 27,
   "id": "55c4e5c9",
   "metadata": {},
   "outputs": [
    {
     "name": "stdout",
     "output_type": "stream",
     "text": [
      "200\n"
     ]
    }
   ],
   "source": [
    "class Rectangle:\n",
    "    def area( self ):\n",
    "        return self.length * self.width\n",
    "r1=Rectangle()\n",
    "r1.length,r1.width=10,20\n",
    "print(r1.area())"
   ]
  },
  {
   "cell_type": "code",
   "execution_count": 1,
   "id": "39f09042",
   "metadata": {},
   "outputs": [
    {
     "ename": "NameError",
     "evalue": "name 'Rectangle' is not defined",
     "output_type": "error",
     "traceback": [
      "\u001b[1;31m---------------------------------------------------------------------------\u001b[0m",
      "\u001b[1;31mNameError\u001b[0m                                 Traceback (most recent call last)",
      "Input \u001b[1;32mIn [1]\u001b[0m, in \u001b[0;36m<module>\u001b[1;34m\u001b[0m\n\u001b[1;32m----> 1\u001b[0m \u001b[38;5;28mprint\u001b[39m(\u001b[43mRectangle\u001b[49m\u001b[38;5;241m.\u001b[39m\u001b[38;5;18m__class__\u001b[39m)\n",
      "\u001b[1;31mNameError\u001b[0m: name 'Rectangle' is not defined"
     ]
    }
   ],
   "source": [
    "print(Rectangle.__class__)"
   ]
  },
  {
   "cell_type": "code",
   "execution_count": 30,
   "id": "0584a1f8",
   "metadata": {},
   "outputs": [
    {
     "name": "stdout",
     "output_type": "stream",
     "text": [
      "<class 'object'>\n"
     ]
    }
   ],
   "source": [
    "print(Rectangle.__class__.__base__)"
   ]
  },
  {
   "cell_type": "code",
   "execution_count": null,
   "id": "fa5a9fe1",
   "metadata": {},
   "outputs": [],
   "source": [
    "x =\"hello\"\n",
    "if not type(x) is int:\n",
    "     raise TypeError(\"Only integers are allowed\")\n"
   ]
  },
  {
   "cell_type": "code",
   "execution_count": 1,
   "id": "8e90504e-5bc7-4e4f-8810-ec786048fadb",
   "metadata": {},
   "outputs": [],
   "source": [
    "x=10\n",
    "y=8\n",
    "assert x>y, 'X too small'"
   ]
  },
  {
   "cell_type": "code",
   "execution_count": 8,
   "id": "32b332b1-997a-46df-a224-292a20573010",
   "metadata": {},
   "outputs": [
    {
     "name": "stdout",
     "output_type": "stream",
     "text": [
      "w\n"
     ]
    },
    {
     "ename": "TE",
     "evalue": "Only integers arlowed",
     "output_type": "error",
     "traceback": [
      "\u001b[1;31m---------------------------------------------------------------------------\u001b[0m",
      "\u001b[1;31mTE\u001b[0m                                        Traceback (most recent call last)",
      "\u001b[1;32m~\\AppData\\Local\\Temp/ipykernel_712/4148096625.py\u001b[0m in \u001b[0;36m<module>\u001b[1;34m\u001b[0m\n\u001b[0;32m      4\u001b[0m \u001b[1;32mif\u001b[0m \u001b[1;32mnot\u001b[0m \u001b[0mtype\u001b[0m\u001b[1;33m(\u001b[0m\u001b[0mx\u001b[0m\u001b[1;33m)\u001b[0m \u001b[1;32mis\u001b[0m \u001b[0mint\u001b[0m\u001b[1;33m:\u001b[0m\u001b[1;33m\u001b[0m\u001b[1;33m\u001b[0m\u001b[0m\n\u001b[0;32m      5\u001b[0m     \u001b[0mprint\u001b[0m\u001b[1;33m(\u001b[0m\u001b[1;34m\"w\"\u001b[0m\u001b[1;33m)\u001b[0m\u001b[1;33m\u001b[0m\u001b[1;33m\u001b[0m\u001b[0m\n\u001b[1;32m----> 6\u001b[1;33m     \u001b[1;32mraise\u001b[0m \u001b[0mTE\u001b[0m\u001b[1;33m(\u001b[0m\u001b[1;34m\"Only integers arlowed\"\u001b[0m\u001b[1;33m)\u001b[0m\u001b[1;33m\u001b[0m\u001b[1;33m\u001b[0m\u001b[0m\n\u001b[0m",
      "\u001b[1;31mTE\u001b[0m: Only integers arlowed"
     ]
    }
   ],
   "source": [
    "class TE(Exception):\n",
    "    pass\n",
    "x = \"hello\"\n",
    "if not type(x) is int:\n",
    "    print(\"w\")\n",
    "    raise TE(\"Only integers arlowed\")"
   ]
  },
  {
   "cell_type": "code",
   "execution_count": 10,
   "id": "67c52afa-9b35-48ae-a23a-8f0649b7904b",
   "metadata": {},
   "outputs": [
    {
     "ename": "AssertionError",
     "evalue": "X too small",
     "output_type": "error",
     "traceback": [
      "\u001b[1;31m---------------------------------------------------------------------------\u001b[0m",
      "\u001b[1;31mAssertionError\u001b[0m                            Traceback (most recent call last)",
      "\u001b[1;32m~\\AppData\\Local\\Temp/ipykernel_712/2170538675.py\u001b[0m in \u001b[0;36m<module>\u001b[1;34m\u001b[0m\n\u001b[0;32m      1\u001b[0m \u001b[0mx\u001b[0m\u001b[1;33m=\u001b[0m\u001b[1;36m10\u001b[0m\u001b[1;33m\u001b[0m\u001b[1;33m\u001b[0m\u001b[0m\n\u001b[0;32m      2\u001b[0m \u001b[0my\u001b[0m\u001b[1;33m=\u001b[0m\u001b[1;36m8\u001b[0m\u001b[1;33m\u001b[0m\u001b[1;33m\u001b[0m\u001b[0m\n\u001b[1;32m----> 3\u001b[1;33m \u001b[1;32massert\u001b[0m \u001b[0mx\u001b[0m\u001b[1;33m<\u001b[0m\u001b[0my\u001b[0m\u001b[1;33m,\u001b[0m \u001b[1;34m'X too small'\u001b[0m\u001b[1;33m\u001b[0m\u001b[1;33m\u001b[0m\u001b[0m\n\u001b[0m",
      "\u001b[1;31mAssertionError\u001b[0m: X too small"
     ]
    }
   ],
   "source": [
    "x=10\n",
    "y=8\n",
    "assert x<y, 'X too small'"
   ]
  },
  {
   "cell_type": "code",
   "execution_count": 1,
   "id": "360cbb58-773a-4adc-b622-08173248e6e3",
   "metadata": {},
   "outputs": [
    {
     "name": "stdout",
     "output_type": "stream",
     "text": [
      "Jane\n",
      "jane.doe@example.com\n",
      "29\n"
     ]
    }
   ],
   "source": [
    "import datetime # we will use this for date objects\n",
    "class Person:\n",
    "    def __init__(self, name, surname, birthdate, address, telephone, email):\n",
    "        self.name = name\n",
    "        self.surname = surname\n",
    "        self.birthdate = birthdate\n",
    "        self.address = address\n",
    "        self.telephone = telephone\n",
    "        self.email = email\n",
    "    def age(self):\n",
    "        today = datetime.date.today()\n",
    "        age = today.year - self.birthdate.year\n",
    "        if today < datetime.date(today.year, self.birthdate.month, self.birthdate.day):\n",
    "            age -= 1\n",
    "        return age\n",
    "person = Person(\"Jane\",\"Doe\",datetime.date(1992, 3, 12), # year, month, day\n",
    "\"No. 12 Short Street, Greenville\",\n",
    "\"555 456 0987\",\n",
    "\"jane.doe@example.com\"\n",
    ")\n",
    "print(person.name)\n",
    "print(person.email)\n",
    "print(person.age())"
   ]
  },
  {
   "cell_type": "code",
   "execution_count": 5,
   "id": "26e8e00a-50ab-4e14-903f-a113b42fe206",
   "metadata": {},
   "outputs": [
    {
     "name": "stdout",
     "output_type": "stream",
     "text": [
      "This is non parametrized constructor\n",
      "Hello karthik\n"
     ]
    }
   ],
   "source": [
    "class Student:\n",
    "# INITIALIZER -  parameterized\n",
    "    def __init__(self,name):\n",
    "        self.name=name\n",
    "        print(\"This is non parametrized constructor\")\n",
    "    def show(self,name):\n",
    "        print(\"Hello\",self.name)\n",
    "student = Student(\"karthik\")\n",
    "student.show(\"irfan\")"
   ]
  },
  {
   "cell_type": "code",
   "execution_count": 11,
   "id": "2276bd50-b5bf-4ac6-abe0-0586ff5cde56",
   "metadata": {},
   "outputs": [
    {
     "name": "stdout",
     "output_type": "stream",
     "text": [
      "2315397814688 2315397814688 2315397814688\n",
      "Point destroyed\n"
     ]
    }
   ],
   "source": [
    "class Point:\n",
    "    def __init__( self, x=0, y=0):\n",
    "        self.x = x\n",
    "        self.y = y\n",
    "    def __del__(self):\n",
    "        class_name = self.__class__.__name__\n",
    "        print(class_name, \"destroyed\")\n",
    "pt1 = Point()\n",
    "pt2 = pt1\n",
    "pt3 = pt1\n",
    "print( id(pt1), id(pt2), id(pt3)) # prints the ids of the obejcts\n",
    "del pt1\n",
    "del pt2\n",
    "del pt3"
   ]
  },
  {
   "cell_type": "code",
   "execution_count": 16,
   "id": "ea864551-cd9a-4551-8458-fa54d83d3bd6",
   "metadata": {},
   "outputs": [
    {
     "data": {
      "text/plain": [
       "['__class__',\n",
       " '__delattr__',\n",
       " '__dict__',\n",
       " '__dir__',\n",
       " '__doc__',\n",
       " '__eq__',\n",
       " '__format__',\n",
       " '__ge__',\n",
       " '__getattribute__',\n",
       " '__gt__',\n",
       " '__hash__',\n",
       " '__init__',\n",
       " '__init_subclass__',\n",
       " '__le__',\n",
       " '__lt__',\n",
       " '__module__',\n",
       " '__ne__',\n",
       " '__new__',\n",
       " '__reduce__',\n",
       " '__reduce_ex__',\n",
       " '__repr__',\n",
       " '__setattr__',\n",
       " '__sizeof__',\n",
       " '__str__',\n",
       " '__subclasshook__',\n",
       " '__weakref__',\n",
       " 'f',\n",
       " 'x']"
      ]
     },
     "execution_count": 16,
     "metadata": {},
     "output_type": "execute_result"
    }
   ],
   "source": [
    "class A:\n",
    "    x=0\n",
    "    def f():pass\n",
    "    pass\n",
    "\n",
    "dir(A)"
   ]
  },
  {
   "cell_type": "code",
   "execution_count": null,
   "id": "938d5df9-3906-4807-87cd-f4fb89bb2e47",
   "metadata": {},
   "outputs": [],
   "source": [
    "class Vector:\n",
    "    def __init__(self,x,y):\n",
    "        self.x=x\n",
    "        self.y=y\n",
    "    def __add__(self,other):  # operator overloading with + \n",
    "        x=self.x+other.x\n",
    "        y=self.y+other.y\n",
    "        return x,y\n",
    "v1=Vector(3,4)\n",
    "v2=Vector(5,5)\n",
    "v3=v1+v2 # vector addition\n",
    "print(v3)\n",
    "    "
   ]
  },
  {
   "cell_type": "code",
   "execution_count": null,
   "id": "31b4b141-d06d-4b61-9630-49c9f1b4638e",
   "metadata": {},
   "outputs": [],
   "source": []
  },
  {
   "cell_type": "code",
   "execution_count": 10,
   "id": "0825fbe3-7f95-427c-8bf6-f4d6fed6a00b",
   "metadata": {},
   "outputs": [
    {
     "ename": "AttributeError",
     "evalue": "'Tutor' object has no attribute 'classes'",
     "output_type": "error",
     "traceback": [
      "\u001b[1;31m---------------------------------------------------------------------------\u001b[0m",
      "\u001b[1;31mAttributeError\u001b[0m                            Traceback (most recent call last)",
      "\u001b[1;32m~\\AppData\\Local\\Temp/ipykernel_15916/1436234793.py\u001b[0m in \u001b[0;36m<module>\u001b[1;34m\u001b[0m\n\u001b[0;32m     19\u001b[0m \u001b[1;33m\u001b[0m\u001b[0m\n\u001b[0;32m     20\u001b[0m \u001b[0mjane\u001b[0m \u001b[1;33m=\u001b[0m \u001b[0mTutor\u001b[0m\u001b[1;33m(\u001b[0m\u001b[1;34m\"Jane\"\u001b[0m\u001b[1;33m,\u001b[0m \u001b[1;34m\"Smith\"\u001b[0m\u001b[1;33m,\u001b[0m \u001b[1;34m\"SMTJNX045\"\u001b[0m\u001b[1;33m)\u001b[0m\u001b[1;33m\u001b[0m\u001b[1;33m\u001b[0m\u001b[0m\n\u001b[1;32m---> 21\u001b[1;33m \u001b[0mjane\u001b[0m\u001b[1;33m.\u001b[0m\u001b[0menrol\u001b[0m\u001b[1;33m(\u001b[0m\u001b[1;34m\"a_postgrad_course\"\u001b[0m\u001b[1;33m)\u001b[0m\u001b[1;33m\u001b[0m\u001b[1;33m\u001b[0m\u001b[0m\n\u001b[0m\u001b[0;32m     22\u001b[0m \u001b[0mjane\u001b[0m\u001b[1;33m.\u001b[0m\u001b[0massign_teaching\u001b[0m\u001b[1;33m(\u001b[0m\u001b[1;34m\"an_undergrad_course\"\u001b[0m\u001b[1;33m)\u001b[0m\u001b[1;33m\u001b[0m\u001b[1;33m\u001b[0m\u001b[0m\n",
      "\u001b[1;32m~\\AppData\\Local\\Temp/ipykernel_15916/1436234793.py\u001b[0m in \u001b[0;36menrol\u001b[1;34m(self, course)\u001b[0m\n\u001b[0;32m      8\u001b[0m         \u001b[0mself\u001b[0m\u001b[1;33m.\u001b[0m\u001b[0mclasses\u001b[0m \u001b[1;33m=\u001b[0m\u001b[1;33m[\u001b[0m\u001b[1;33m]\u001b[0m\u001b[1;33m\u001b[0m\u001b[1;33m\u001b[0m\u001b[0m\n\u001b[0;32m      9\u001b[0m     \u001b[1;32mdef\u001b[0m \u001b[0menrol\u001b[0m\u001b[1;33m(\u001b[0m\u001b[0mself\u001b[0m\u001b[1;33m,\u001b[0m \u001b[0mcourse\u001b[0m\u001b[1;33m)\u001b[0m\u001b[1;33m:\u001b[0m\u001b[1;33m\u001b[0m\u001b[1;33m\u001b[0m\u001b[0m\n\u001b[1;32m---> 10\u001b[1;33m         \u001b[0mself\u001b[0m\u001b[1;33m.\u001b[0m\u001b[0mclasses\u001b[0m\u001b[1;33m.\u001b[0m\u001b[0mappend\u001b[0m\u001b[1;33m(\u001b[0m\u001b[0mcourse\u001b[0m\u001b[1;33m)\u001b[0m\u001b[1;33m\u001b[0m\u001b[1;33m\u001b[0m\u001b[0m\n\u001b[0m\u001b[0;32m     11\u001b[0m \u001b[1;32mclass\u001b[0m \u001b[0mTeacher\u001b[0m\u001b[1;33m:\u001b[0m\u001b[1;33m\u001b[0m\u001b[1;33m\u001b[0m\u001b[0m\n\u001b[0;32m     12\u001b[0m     \u001b[1;32mdef\u001b[0m \u001b[0m__init__\u001b[0m\u001b[1;33m(\u001b[0m\u001b[0mself\u001b[0m\u001b[1;33m)\u001b[0m\u001b[1;33m:\u001b[0m\u001b[1;33m\u001b[0m\u001b[1;33m\u001b[0m\u001b[0m\n",
      "\u001b[1;31mAttributeError\u001b[0m: 'Tutor' object has no attribute 'classes'"
     ]
    }
   ],
   "source": [
    "class Person:\n",
    "    def __init__(self, name, surname, number):\n",
    "        self.name = name\n",
    "        self.surname = surname\n",
    "        self.number = number\n",
    "class Learner:\n",
    "    def __init__(self):\n",
    "        self.classes =[]\n",
    "    def enrol(self, course):\n",
    "        self.classes.append(course)\n",
    "class Teacher:\n",
    "    def __init__(self):\n",
    "        self.courses_taught = []\n",
    "    def assign_teaching(self, course):\n",
    "        self.courses_taught.append(course)\n",
    "class Tutor(Person, Learner, Teacher):\n",
    "    def __init__(self, *args, **kwargs):\n",
    "        super(Tutor, self).__init__(*args, **kwargs)\n",
    "        \n",
    "jane = Tutor(\"Jane\", \"Smith\", \"SMTJNX045\")\n",
    "jane.enrol(\"a_postgrad_course\")\n",
    "jane.assign_teaching(\"an_undergrad_course\")\n"
   ]
  },
  {
   "cell_type": "code",
   "execution_count": null,
   "id": "0a62b42a-76cd-4ed4-b765-b84c538a5f4f",
   "metadata": {},
   "outputs": [],
   "source": []
  },
  {
   "cell_type": "code",
   "execution_count": null,
   "id": "f187f5e7-4762-46db-b7ad-0fea3e853eae",
   "metadata": {},
   "outputs": [],
   "source": []
  }
 ],
 "metadata": {
  "kernelspec": {
   "display_name": "Python 3 (ipykernel)",
   "language": "python",
   "name": "python3"
  },
  "language_info": {
   "codemirror_mode": {
    "name": "ipython",
    "version": 3
   },
   "file_extension": ".py",
   "mimetype": "text/x-python",
   "name": "python",
   "nbconvert_exporter": "python",
   "pygments_lexer": "ipython3",
   "version": "3.10.2"
  }
 },
 "nbformat": 4,
 "nbformat_minor": 5
}
