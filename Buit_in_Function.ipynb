{
  "cells": [
    {
      "cell_type": "markdown",
      "metadata": {
        "id": "view-in-github",
        "colab_type": "text"
      },
      "source": [
        "<a href=\"https://colab.research.google.com/github/svkarthik86/Python-Basics/blob/main/Buit_in_Function.ipynb\" target=\"_parent\"><img src=\"https://colab.research.google.com/assets/colab-badge.svg\" alt=\"Open In Colab\"/></a>"
      ]
    },
    {
      "cell_type": "markdown",
      "id": "888c05c9-be85-4a34-b38a-22fc1ebb9845",
      "metadata": {
        "id": "888c05c9-be85-4a34-b38a-22fc1ebb9845"
      },
      "source": [
        "#### Document created by V Karthik, ECA-Center Trainer, EduBridge Learning Pvt Ltd , \n",
        "- Educational purposes\n",
        "- Reference: \n",
        "    - 1.https://docs.python.org/3/library/functions.html\n",
        "    - 2.https://www.w3schools.com/python/python_ref_functions.asp\n",
        "    - 3.Programming and Problem Solving with Python by Ashok Namdev Kamthane,Amit Ashok Kamthane"
      ]
    },
    {
      "cell_type": "markdown",
      "id": "a24cf9f3-3144-4436-9e66-626d1076026a",
      "metadata": {
        "id": "a24cf9f3-3144-4436-9e66-626d1076026a"
      },
      "source": [
        "### Python Built in Functions\n",
        "- The Python interpreter has a number of functions and types built into it that are always available. They are listed here in alphabetical order.\n",
        "- ![image.png](attachment:5f3090b9-573d-4ad8-bc49-7714e16cf630.png)"
      ]
    },
    {
      "cell_type": "code",
      "execution_count": null,
      "id": "c0f9dce6",
      "metadata": {
        "scrolled": true,
        "id": "c0f9dce6",
        "outputId": "f23aecbf-6a07-4c82-ab26-a4ae24320699"
      },
      "outputs": [
        {
          "name": "stdout",
          "output_type": "stream",
          "text": [
            "['ArithmeticError', 'AssertionError', 'AttributeError', 'BaseException', 'BlockingIOError', 'BrokenPipeError', 'BufferError', 'BytesWarning', 'ChildProcessError', 'ConnectionAbortedError', 'ConnectionError', 'ConnectionRefusedError', 'ConnectionResetError', 'DeprecationWarning', 'EOFError', 'Ellipsis', 'EnvironmentError', 'Exception', 'False', 'FileExistsError', 'FileNotFoundError', 'FloatingPointError', 'FutureWarning', 'GeneratorExit', 'IOError', 'ImportError', 'ImportWarning', 'IndentationError', 'IndexError', 'InterruptedError', 'IsADirectoryError', 'KeyError', 'KeyboardInterrupt', 'LookupError', 'MemoryError', 'ModuleNotFoundError', 'NameError', 'None', 'NotADirectoryError', 'NotImplemented', 'NotImplementedError', 'OSError', 'OverflowError', 'PendingDeprecationWarning', 'PermissionError', 'ProcessLookupError', 'RecursionError', 'ReferenceError', 'ResourceWarning', 'RuntimeError', 'RuntimeWarning', 'StopAsyncIteration', 'StopIteration', 'SyntaxError', 'SyntaxWarning', 'SystemError', 'SystemExit', 'TabError', 'TimeoutError', 'True', 'TypeError', 'UnboundLocalError', 'UnicodeDecodeError', 'UnicodeEncodeError', 'UnicodeError', 'UnicodeTranslateError', 'UnicodeWarning', 'UserWarning', 'ValueError', 'Warning', 'WindowsError', 'ZeroDivisionError', '__IPYTHON__', '__build_class__', '__debug__', '__doc__', '__import__', '__loader__', '__name__', '__package__', '__spec__', 'abs', 'all', 'any', 'ascii', 'bin', 'bool', 'breakpoint', 'bytearray', 'bytes', 'callable', 'chr', 'classmethod', 'compile', 'complex', 'copyright', 'credits', 'delattr', 'dict', 'dir', 'display', 'divmod', 'enumerate', 'eval', 'exec', 'execfile', 'filter', 'float', 'format', 'frozenset', 'get_ipython', 'getattr', 'globals', 'hasattr', 'hash', 'help', 'hex', 'id', 'input', 'int', 'isinstance', 'issubclass', 'iter', 'len', 'license', 'list', 'locals', 'map', 'max', 'memoryview', 'min', 'next', 'object', 'oct', 'open', 'ord', 'pow', 'print', 'property', 'range', 'repr', 'reversed', 'round', 'runfile', 'set', 'setattr', 'slice', 'sorted', 'staticmethod', 'str', 'sum', 'super', 'tuple', 'type', 'vars', 'zip']\n"
          ]
        }
      ],
      "source": [
        "import builtins\n",
        "print(dir(builtins))"
      ]
    },
    {
      "cell_type": "raw",
      "id": "c283bc9d",
      "metadata": {
        "id": "c283bc9d"
      },
      "source": [
        "reversed,round,setattr,slice,sorted,staticmethod,sum,super,vars,zip"
      ]
    },
    {
      "cell_type": "markdown",
      "id": "3602672e-e608-4af6-ad6d-bddee0755756",
      "metadata": {
        "id": "3602672e-e608-4af6-ad6d-bddee0755756"
      },
      "source": [
        " ### abs(x)\n",
        " - Return the absolute value of a number. \n",
        " - The argument may be an integer, a floating point number, or an object implementing __abs__(). If the argument is a complex number, its magnitude is returned"
      ]
    },
    {
      "cell_type": "code",
      "execution_count": null,
      "id": "b0e54d5b-d9fa-42cb-a877-6e672bf17c7e",
      "metadata": {
        "id": "b0e54d5b-d9fa-42cb-a877-6e672bf17c7e",
        "outputId": "fd6fe0bf-4978-48f3-ec9c-cc5f3e03b21d"
      },
      "outputs": [
        {
          "name": "stdout",
          "output_type": "stream",
          "text": [
            "5.45\n"
          ]
        }
      ],
      "source": [
        "x =abs(-5.45)\n",
        "print(x)"
      ]
    },
    {
      "cell_type": "code",
      "execution_count": null,
      "id": "977574bc",
      "metadata": {
        "id": "977574bc",
        "outputId": "76eb22a7-75f8-4963-b3f3-51450419707f"
      },
      "outputs": [
        {
          "data": {
            "text/plain": [
              "323.78"
            ]
          },
          "execution_count": 2,
          "metadata": {},
          "output_type": "execute_result"
        }
      ],
      "source": [
        "abs(-323.78)"
      ]
    },
    {
      "cell_type": "code",
      "execution_count": null,
      "id": "ccda6edf-3fb7-48c7-9172-d9e20eee3849",
      "metadata": {
        "id": "ccda6edf-3fb7-48c7-9172-d9e20eee3849"
      },
      "outputs": [],
      "source": [
        ""
      ]
    },
    {
      "cell_type": "markdown",
      "id": "8fd25d53-0f28-46a5-94d3-d0b18987ac41",
      "metadata": {
        "id": "8fd25d53-0f28-46a5-94d3-d0b18987ac41"
      },
      "source": [
        "### all()\n",
        "- Returns True if all items in an iterable object are true"
      ]
    },
    {
      "cell_type": "code",
      "execution_count": null,
      "id": "031214db-9d09-422a-833c-bee63f6e1fdf",
      "metadata": {
        "id": "031214db-9d09-422a-833c-bee63f6e1fdf",
        "outputId": "b6cab150-e0a5-45da-ac6e-7a9bc21d094b"
      },
      "outputs": [
        {
          "name": "stdout",
          "output_type": "stream",
          "text": [
            "False\n"
          ]
        }
      ],
      "source": [
        "mylist = [1,2,3,(1),0]\n",
        "x = all(mylist)\n",
        "print(x)"
      ]
    },
    {
      "cell_type": "code",
      "execution_count": null,
      "id": "96eb39d1",
      "metadata": {
        "id": "96eb39d1",
        "outputId": "85d3bf44-3721-4500-f087-fe4c3c206c90"
      },
      "outputs": [
        {
          "data": {
            "text/plain": [
              "True"
            ]
          },
          "execution_count": 4,
          "metadata": {},
          "output_type": "execute_result"
        }
      ],
      "source": [
        "all(('2',2,34,5))"
      ]
    },
    {
      "cell_type": "code",
      "execution_count": null,
      "id": "a5e1152a",
      "metadata": {
        "id": "a5e1152a",
        "outputId": "2d915b82-a388-4a2f-f412-85ae8e9b0eeb"
      },
      "outputs": [
        {
          "data": {
            "text/plain": [
              "False"
            ]
          },
          "execution_count": 5,
          "metadata": {},
          "output_type": "execute_result"
        }
      ],
      "source": [
        "all([True,True,False])"
      ]
    },
    {
      "cell_type": "code",
      "execution_count": null,
      "id": "9d270d1c",
      "metadata": {
        "id": "9d270d1c"
      },
      "outputs": [],
      "source": [
        ""
      ]
    },
    {
      "cell_type": "markdown",
      "id": "7fabcd7e-2fd9-4f55-bf01-9cc64aad6fb3",
      "metadata": {
        "id": "7fabcd7e-2fd9-4f55-bf01-9cc64aad6fb3"
      },
      "source": [
        "### any()\n",
        "- Returns True if any item in an iterable object is true"
      ]
    },
    {
      "cell_type": "code",
      "execution_count": null,
      "id": "60a8f50a-f0a9-40b4-bf8a-a018f90f098f",
      "metadata": {
        "id": "60a8f50a-f0a9-40b4-bf8a-a018f90f098f",
        "outputId": "784601ad-f472-40d9-c721-c7c62d44b5ea"
      },
      "outputs": [
        {
          "name": "stdout",
          "output_type": "stream",
          "text": [
            "False\n"
          ]
        }
      ],
      "source": [
        "mylist =[0,0,0,None,'',set(),{},0]\n",
        "x = any(mylist)\n",
        "print(x)"
      ]
    },
    {
      "cell_type": "code",
      "execution_count": null,
      "id": "6959dc1a",
      "metadata": {
        "id": "6959dc1a",
        "outputId": "982f559f-734e-4e77-f3af-12c7dcc3b0d4"
      },
      "outputs": [
        {
          "data": {
            "text/plain": [
              "False"
            ]
          },
          "execution_count": 7,
          "metadata": {},
          "output_type": "execute_result"
        }
      ],
      "source": [
        "any([False,False,False])"
      ]
    },
    {
      "cell_type": "markdown",
      "id": "eb54d28e-a14d-466e-81e5-96541801833c",
      "metadata": {
        "id": "eb54d28e-a14d-466e-81e5-96541801833c"
      },
      "source": [
        "### ascii()\n",
        "- The ascii() function returns a readable version of any object (Strings, Tuples, Lists, etc).\n",
        "\n",
        "- The ascii() function will replace any non-ascii characters with escape characters:\n",
        "\n",
        "- å will be replaced with \\xe5."
      ]
    },
    {
      "cell_type": "code",
      "execution_count": null,
      "id": "26608e02-c6ad-4c68-8559-5fcd7df5224f",
      "metadata": {
        "id": "26608e02-c6ad-4c68-8559-5fcd7df5224f",
        "outputId": "094ec5c3-8866-4315-8aa4-6e29849f49f5"
      },
      "outputs": [
        {
          "data": {
            "text/plain": [
              "\"'a\\\\xe5 '\""
            ]
          },
          "execution_count": 8,
          "metadata": {},
          "output_type": "execute_result"
        }
      ],
      "source": [
        "ascii(\"aå \")"
      ]
    },
    {
      "cell_type": "markdown",
      "id": "4d6be087-13f5-4680-bf7f-a618209cc2a3",
      "metadata": {
        "id": "4d6be087-13f5-4680-bf7f-a618209cc2a3"
      },
      "source": [
        "#### bin()\n",
        "- Returns the binary version of a number"
      ]
    },
    {
      "cell_type": "code",
      "execution_count": null,
      "id": "7676ad29",
      "metadata": {
        "id": "7676ad29",
        "outputId": "ad31477a-1e49-41a6-cdb2-05c138ec083c"
      },
      "outputs": [
        {
          "data": {
            "text/plain": [
              "'0b111'"
            ]
          },
          "execution_count": 9,
          "metadata": {},
          "output_type": "execute_result"
        }
      ],
      "source": [
        "bin(7)"
      ]
    },
    {
      "cell_type": "code",
      "execution_count": null,
      "id": "f04f79f5-488f-49c5-96a0-4cf87a7547f5",
      "metadata": {
        "id": "f04f79f5-488f-49c5-96a0-4cf87a7547f5",
        "outputId": "0d075c2b-4f4d-4034-8be3-459df8be3e19"
      },
      "outputs": [
        {
          "name": "stdout",
          "output_type": "stream",
          "text": [
            "101\n"
          ]
        }
      ],
      "source": [
        "print(bin(5)[2:])"
      ]
    },
    {
      "cell_type": "markdown",
      "id": "7332e9d0-e802-48d3-a600-9468008d02ab",
      "metadata": {
        "id": "7332e9d0-e802-48d3-a600-9468008d02ab"
      },
      "source": [
        "### bool()\n",
        "- Returns the boolean value of the specified object"
      ]
    },
    {
      "cell_type": "code",
      "execution_count": null,
      "id": "9e1af579-4a7d-4ab6-9b06-32ff88906ec1",
      "metadata": {
        "id": "9e1af579-4a7d-4ab6-9b06-32ff88906ec1",
        "outputId": "64454e6d-0c84-479f-af1e-0d6b00d8d2e3"
      },
      "outputs": [
        {
          "name": "stdout",
          "output_type": "stream",
          "text": [
            "True\n"
          ]
        }
      ],
      "source": [
        "print(bool('ff'))"
      ]
    },
    {
      "cell_type": "markdown",
      "id": "7410653f-b3fe-4c67-a35a-aeb708b36cf4",
      "metadata": {
        "id": "7410653f-b3fe-4c67-a35a-aeb708b36cf4"
      },
      "source": [
        "### bytearray()\n",
        "- Returns an array of bytes"
      ]
    },
    {
      "cell_type": "code",
      "execution_count": null,
      "id": "ae79138e-84bd-408c-bb1d-03926493f03b",
      "metadata": {
        "id": "ae79138e-84bd-408c-bb1d-03926493f03b",
        "outputId": "8d542b1b-47cc-41dd-ee41-67063e8cd1dc"
      },
      "outputs": [
        {
          "name": "stdout",
          "output_type": "stream",
          "text": [
            "bytearray(b'\\x00\\x00\\x00\\x00\\x00')\n"
          ]
        }
      ],
      "source": [
        "print(bytearray(5))"
      ]
    },
    {
      "cell_type": "markdown",
      "id": "e2fab507-789a-45cd-b4aa-d09b2a20ed99",
      "metadata": {
        "id": "e2fab507-789a-45cd-b4aa-d09b2a20ed99"
      },
      "source": [
        "### bytes()\n",
        "- Returns a bytes object"
      ]
    },
    {
      "cell_type": "code",
      "execution_count": null,
      "id": "8ae56186-a377-488f-95d2-64de4eeb28bf",
      "metadata": {
        "id": "8ae56186-a377-488f-95d2-64de4eeb28bf",
        "outputId": "052531f6-1ba3-4a2f-d93e-ba0fdd6ab3aa"
      },
      "outputs": [
        {
          "name": "stdout",
          "output_type": "stream",
          "text": [
            "b'\\x00\\x00\\x00\\x00\\x00'\n"
          ]
        }
      ],
      "source": [
        "print(bytes(5))"
      ]
    },
    {
      "cell_type": "markdown",
      "id": "b2958e4c-9998-4f28-acac-9f42e7a087f4",
      "metadata": {
        "id": "b2958e4c-9998-4f28-acac-9f42e7a087f4"
      },
      "source": [
        "### callable() Function\n",
        "- Returns True if the specified object is callable, otherwise False\n"
      ]
    },
    {
      "cell_type": "code",
      "execution_count": null,
      "id": "1ab4c266-db99-4b68-81b0-25d70c407095",
      "metadata": {
        "id": "1ab4c266-db99-4b68-81b0-25d70c407095",
        "outputId": "27a6dba7-bae7-410b-eb86-448290621acb"
      },
      "outputs": [
        {
          "name": "stdout",
          "output_type": "stream",
          "text": [
            "True\n",
            "False\n"
          ]
        }
      ],
      "source": [
        "def x():\n",
        "  a = 5\n",
        "\n",
        "print(callable(x))\n",
        "y=20\n",
        "print(callable(y))"
      ]
    },
    {
      "cell_type": "code",
      "execution_count": null,
      "id": "600bd8c8",
      "metadata": {
        "id": "600bd8c8",
        "outputId": "d6a48ec0-6276-4371-cb4d-52880866bc5c"
      },
      "outputs": [
        {
          "data": {
            "text/plain": [
              "<function __main__.x()>"
            ]
          },
          "execution_count": 15,
          "metadata": {},
          "output_type": "execute_result"
        }
      ],
      "source": [
        "x"
      ]
    },
    {
      "cell_type": "code",
      "execution_count": null,
      "id": "29bdf4e4",
      "metadata": {
        "id": "29bdf4e4"
      },
      "outputs": [],
      "source": [
        ""
      ]
    },
    {
      "cell_type": "code",
      "execution_count": null,
      "id": "392f8c88",
      "metadata": {
        "id": "392f8c88"
      },
      "outputs": [],
      "source": [
        "def add():\n",
        "    pass"
      ]
    },
    {
      "cell_type": "code",
      "execution_count": null,
      "id": "7546d498",
      "metadata": {
        "id": "7546d498",
        "outputId": "3de89d83-4dc0-4ad9-fcd8-32a64d218e99"
      },
      "outputs": [
        {
          "data": {
            "text/plain": [
              "True"
            ]
          },
          "execution_count": 17,
          "metadata": {},
          "output_type": "execute_result"
        }
      ],
      "source": [
        "callable(add)"
      ]
    },
    {
      "cell_type": "code",
      "execution_count": null,
      "id": "d111178b",
      "metadata": {
        "id": "d111178b",
        "outputId": "09dc1a46-a3fe-47b3-fea0-fbe0ee73c379"
      },
      "outputs": [
        {
          "ename": "NameError",
          "evalue": "name 'c' is not defined",
          "output_type": "error",
          "traceback": [
            "\u001b[1;31m---------------------------------------------------------------------------\u001b[0m",
            "\u001b[1;31mNameError\u001b[0m                                 Traceback (most recent call last)",
            "Input \u001b[1;32mIn [18]\u001b[0m, in \u001b[0;36m<cell line: 1>\u001b[1;34m()\u001b[0m\n\u001b[1;32m----> 1\u001b[0m callable(\u001b[43mc\u001b[49m)\n",
            "\u001b[1;31mNameError\u001b[0m: name 'c' is not defined"
          ]
        }
      ],
      "source": [
        "callable(c)"
      ]
    },
    {
      "cell_type": "code",
      "execution_count": null,
      "id": "24de6ffe",
      "metadata": {
        "id": "24de6ffe"
      },
      "outputs": [],
      "source": [
        "c=lambda x:x+x"
      ]
    },
    {
      "cell_type": "code",
      "execution_count": null,
      "id": "156ff70c",
      "metadata": {
        "id": "156ff70c"
      },
      "outputs": [],
      "source": [
        "c(3)"
      ]
    },
    {
      "cell_type": "code",
      "execution_count": null,
      "id": "ec35eb4d",
      "metadata": {
        "id": "ec35eb4d"
      },
      "outputs": [],
      "source": [
        "callable(c)"
      ]
    },
    {
      "cell_type": "code",
      "execution_count": null,
      "id": "4da2104a",
      "metadata": {
        "id": "4da2104a"
      },
      "outputs": [],
      "source": [
        "add1=[1,2,3]"
      ]
    },
    {
      "cell_type": "code",
      "execution_count": null,
      "id": "4b78392b",
      "metadata": {
        "id": "4b78392b"
      },
      "outputs": [],
      "source": [
        "callable(add1)"
      ]
    },
    {
      "cell_type": "markdown",
      "id": "e9f23d6d-502c-44ff-988f-174ec80337a9",
      "metadata": {
        "id": "e9f23d6d-502c-44ff-988f-174ec80337a9"
      },
      "source": [
        "### chr() \n",
        "- Returns a character from the specified Unicode code."
      ]
    },
    {
      "cell_type": "code",
      "execution_count": null,
      "id": "112b14bd-c5e4-4916-90dc-a31359da7d18",
      "metadata": {
        "id": "112b14bd-c5e4-4916-90dc-a31359da7d18"
      },
      "outputs": [],
      "source": [
        "print(chr(65))"
      ]
    },
    {
      "cell_type": "code",
      "execution_count": null,
      "id": "2292cf97",
      "metadata": {
        "id": "2292cf97"
      },
      "outputs": [],
      "source": [
        "chr(66)"
      ]
    },
    {
      "cell_type": "markdown",
      "id": "50376693-596e-460f-b649-fc1ddc3bd73d",
      "metadata": {
        "id": "50376693-596e-460f-b649-fc1ddc3bd73d"
      },
      "source": [
        "### compile()\n",
        "- The compile() function returns the specified source as a code object, ready to be executed.\n",
        "- sytntax: compile(source, filename, mode, flag, dont_inherit, optimize) \n",
        " - mode \tRequired. Legal values:\n",
        "-  eval - if the source is a single expression\n",
        "-  exec - if the source is a block of statements\n",
        "- single - if the source is a single interactive statemen"
      ]
    },
    {
      "cell_type": "code",
      "execution_count": null,
      "id": "139cbfc0-4036-4fef-a60a-77dab4228133",
      "metadata": {
        "id": "139cbfc0-4036-4fef-a60a-77dab4228133"
      },
      "outputs": [],
      "source": [
        "x = compile('print(\"this is compile test\",5+4)', 'test', 'eval')\n",
        "exec(x) \n"
      ]
    },
    {
      "cell_type": "code",
      "execution_count": null,
      "id": "50c0e47b",
      "metadata": {
        "id": "50c0e47b"
      },
      "outputs": [],
      "source": [
        "x"
      ]
    },
    {
      "cell_type": "code",
      "execution_count": null,
      "id": "82920309",
      "metadata": {
        "id": "82920309"
      },
      "outputs": [],
      "source": [
        "exec(x)"
      ]
    },
    {
      "cell_type": "code",
      "execution_count": null,
      "id": "e4de1379-98b7-4be6-afad-f78a756192da",
      "metadata": {
        "id": "e4de1379-98b7-4be6-afad-f78a756192da"
      },
      "outputs": [],
      "source": [
        "z = compile('print(55)\\nprint(88)\\nprint(4*4)\\nprint(\"last line\")', 'test1', 'exec')\n",
        "print(z)\n",
        "exec(z) "
      ]
    },
    {
      "cell_type": "markdown",
      "id": "86e9d606-44c1-4999-ab8a-cb475f6d9220",
      "metadata": {
        "id": "86e9d606-44c1-4999-ab8a-cb475f6d9220"
      },
      "source": [
        "### complex()\n",
        "- Returns a complex number"
      ]
    },
    {
      "cell_type": "code",
      "execution_count": null,
      "id": "42882e55-8ffe-44bf-ad00-1906581ba334",
      "metadata": {
        "id": "42882e55-8ffe-44bf-ad00-1906581ba334"
      },
      "outputs": [],
      "source": [
        "print(complex(5))"
      ]
    },
    {
      "cell_type": "markdown",
      "id": "6ad46a9f-a361-4d8a-b3e8-f3e555e4b26b",
      "metadata": {
        "id": "6ad46a9f-a361-4d8a-b3e8-f3e555e4b26b"
      },
      "source": [
        "### delattr()\n",
        "- Deletes the specified attribute (property or method) from the specified object\n",
        "- delattr(object, attribute) "
      ]
    },
    {
      "cell_type": "code",
      "execution_count": null,
      "id": "462a9ad8-bc93-46c2-9fe5-7debfacdfa63",
      "metadata": {
        "id": "462a9ad8-bc93-46c2-9fe5-7debfacdfa63"
      },
      "outputs": [],
      "source": [
        "class Person:\n",
        "  name = \"John\"\n",
        "  age = 36\n",
        "  country = \"India\"\n",
        "\n"
      ]
    },
    {
      "cell_type": "code",
      "execution_count": null,
      "id": "be5ee656",
      "metadata": {
        "id": "be5ee656"
      },
      "outputs": [],
      "source": [
        "Person.name"
      ]
    },
    {
      "cell_type": "code",
      "execution_count": null,
      "id": "a6f52ca2",
      "metadata": {
        "id": "a6f52ca2"
      },
      "outputs": [],
      "source": [
        "delattr(Person,'age')"
      ]
    },
    {
      "cell_type": "code",
      "execution_count": null,
      "id": "36920f41",
      "metadata": {
        "id": "36920f41"
      },
      "outputs": [],
      "source": [
        "Person.age"
      ]
    },
    {
      "cell_type": "code",
      "execution_count": null,
      "id": "c69d040f",
      "metadata": {
        "id": "c69d040f"
      },
      "outputs": [],
      "source": [
        "dir(Person)"
      ]
    },
    {
      "cell_type": "code",
      "execution_count": null,
      "id": "df97fba9",
      "metadata": {
        "id": "df97fba9"
      },
      "outputs": [],
      "source": [
        "delattr(Person, 'age')"
      ]
    },
    {
      "cell_type": "markdown",
      "id": "7a053b15-3dd6-4d57-bf93-641e44caf6c9",
      "metadata": {
        "id": "7a053b15-3dd6-4d57-bf93-641e44caf6c9"
      },
      "source": [
        "### dir()\n",
        "- Returns a list of the specified object's properties and methods"
      ]
    },
    {
      "cell_type": "code",
      "execution_count": null,
      "id": "33b3393f",
      "metadata": {
        "id": "33b3393f"
      },
      "outputs": [],
      "source": [
        "a=123"
      ]
    },
    {
      "cell_type": "code",
      "execution_count": null,
      "id": "4caebdec",
      "metadata": {
        "id": "4caebdec",
        "outputId": "fb8d88a7-bbd8-4e6b-8be4-2a5426bbf7f1"
      },
      "outputs": [
        {
          "name": "stdout",
          "output_type": "stream",
          "text": [
            "['__abs__', '__add__', '__and__', '__bool__', '__ceil__', '__class__', '__delattr__', '__dir__', '__divmod__', '__doc__', '__eq__', '__float__', '__floor__', '__floordiv__', '__format__', '__ge__', '__getattribute__', '__getnewargs__', '__gt__', '__hash__', '__index__', '__init__', '__init_subclass__', '__int__', '__invert__', '__le__', '__lshift__', '__lt__', '__mod__', '__mul__', '__ne__', '__neg__', '__new__', '__or__', '__pos__', '__pow__', '__radd__', '__rand__', '__rdivmod__', '__reduce__', '__reduce_ex__', '__repr__', '__rfloordiv__', '__rlshift__', '__rmod__', '__rmul__', '__ror__', '__round__', '__rpow__', '__rrshift__', '__rshift__', '__rsub__', '__rtruediv__', '__rxor__', '__setattr__', '__sizeof__', '__str__', '__sub__', '__subclasshook__', '__truediv__', '__trunc__', '__xor__', 'as_integer_ratio', 'bit_length', 'conjugate', 'denominator', 'from_bytes', 'imag', 'numerator', 'real', 'to_bytes'] "
          ]
        }
      ],
      "source": [
        "print(dir(a),end=\" \")"
      ]
    },
    {
      "cell_type": "code",
      "execution_count": null,
      "id": "fba38065",
      "metadata": {
        "id": "fba38065",
        "outputId": "e0c801cd-e321-4128-844d-8a91c99e42a1"
      },
      "outputs": [
        {
          "data": {
            "text/plain": [
              "7"
            ]
          },
          "execution_count": 47,
          "metadata": {},
          "output_type": "execute_result"
        }
      ],
      "source": [
        "a.bit_length()"
      ]
    },
    {
      "cell_type": "code",
      "execution_count": null,
      "id": "d8870489",
      "metadata": {
        "id": "d8870489",
        "outputId": "378e13d8-6dc2-432a-98b7-8ee7449ac2c0"
      },
      "outputs": [
        {
          "data": {
            "text/plain": [
              "'0b111'"
            ]
          },
          "execution_count": 32,
          "metadata": {},
          "output_type": "execute_result"
        }
      ],
      "source": [
        "bin(7)"
      ]
    },
    {
      "cell_type": "code",
      "execution_count": null,
      "id": "4ad86287",
      "metadata": {
        "id": "4ad86287"
      },
      "outputs": [],
      "source": [
        "bin(120)"
      ]
    },
    {
      "cell_type": "code",
      "execution_count": null,
      "id": "bef3cfe8",
      "metadata": {
        "id": "bef3cfe8"
      },
      "outputs": [],
      "source": [
        "b=23.5"
      ]
    },
    {
      "cell_type": "code",
      "execution_count": null,
      "id": "0cd1615a",
      "metadata": {
        "id": "0cd1615a",
        "outputId": "48a06db3-129b-49e6-e839-46e12ebdc371"
      },
      "outputs": [
        {
          "name": "stdout",
          "output_type": "stream",
          "text": [
            "['__abs__', '__add__', '__bool__', '__ceil__', '__class__', '__delattr__', '__dir__', '__divmod__', '__doc__', '__eq__', '__float__', '__floor__', '__floordiv__', '__format__', '__ge__', '__getattribute__', '__getformat__', '__getnewargs__', '__gt__', '__hash__', '__init__', '__init_subclass__', '__int__', '__le__', '__lt__', '__mod__', '__mul__', '__ne__', '__neg__', '__new__', '__pos__', '__pow__', '__radd__', '__rdivmod__', '__reduce__', '__reduce_ex__', '__repr__', '__rfloordiv__', '__rmod__', '__rmul__', '__round__', '__rpow__', '__rsub__', '__rtruediv__', '__setattr__', '__setformat__', '__sizeof__', '__str__', '__sub__', '__subclasshook__', '__truediv__', '__trunc__', 'as_integer_ratio', 'conjugate', 'fromhex', 'hex', 'imag', 'is_integer', 'real'] ,"
          ]
        }
      ],
      "source": [
        "print(dir(b),end=\" ,\")"
      ]
    },
    {
      "cell_type": "code",
      "execution_count": null,
      "id": "17687737",
      "metadata": {
        "id": "17687737",
        "outputId": "530bd8e6-7848-44a1-9630-78e2326fbf62"
      },
      "outputs": [
        {
          "name": "stdout",
          "output_type": "stream",
          "text": [
            "['__add__', '__class__', '__contains__', '__delattr__', '__dir__', '__doc__', '__eq__', '__format__', '__ge__', '__getattribute__', '__getitem__', '__getnewargs__', '__gt__', '__hash__', '__init__', '__init_subclass__', '__iter__', '__le__', '__len__', '__lt__', '__mod__', '__mul__', '__ne__', '__new__', '__reduce__', '__reduce_ex__', '__repr__', '__rmod__', '__rmul__', '__setattr__', '__sizeof__', '__str__', '__subclasshook__', 'capitalize', 'casefold', 'center', 'count', 'encode', 'endswith', 'expandtabs', 'find', 'format', 'format_map', 'index', 'isalnum', 'isalpha', 'isascii', 'isdecimal', 'isdigit', 'isidentifier', 'islower', 'isnumeric', 'isprintable', 'isspace', 'istitle', 'isupper', 'join', 'ljust', 'lower', 'lstrip', 'maketrans', 'partition', 'removeprefix', 'removesuffix', 'replace', 'rfind', 'rindex', 'rjust', 'rpartition', 'rsplit', 'rstrip', 'split', 'splitlines', 'startswith', 'strip', 'swapcase', 'title', 'translate', 'upper', 'zfill'] ,"
          ]
        }
      ],
      "source": [
        "str1=\"python\"\n",
        "print(dir(str1),end=\" ,\")"
      ]
    },
    {
      "cell_type": "code",
      "execution_count": null,
      "id": "a45fe048",
      "metadata": {
        "id": "a45fe048",
        "outputId": "a3314e9e-8f04-4e2e-c289-b7d2dbf28cd1"
      },
      "outputs": [
        {
          "data": {
            "text/plain": [
              "'Python'"
            ]
          },
          "execution_count": 51,
          "metadata": {},
          "output_type": "execute_result"
        }
      ],
      "source": [
        "str1.capitalize()"
      ]
    },
    {
      "cell_type": "code",
      "execution_count": null,
      "id": "c5891a15",
      "metadata": {
        "id": "c5891a15",
        "outputId": "f7bec766-94e1-47b1-b4cd-5a897068c1c4"
      },
      "outputs": [
        {
          "data": {
            "text/plain": [
              "'pythmn program'"
            ]
          },
          "execution_count": 52,
          "metadata": {},
          "output_type": "execute_result"
        }
      ],
      "source": [
        "'PythMn proGram'.casefold()"
      ]
    },
    {
      "cell_type": "code",
      "execution_count": null,
      "id": "731cd036-f952-48b4-8c58-3515f79b6321",
      "metadata": {
        "id": "731cd036-f952-48b4-8c58-3515f79b6321",
        "outputId": "3acb2915-177d-4319-e7ba-a2175b1455c8"
      },
      "outputs": [
        {
          "name": "stdout",
          "output_type": "stream",
          "text": [
            "[1, 2, 3]\n",
            "['__add__', '__class__', '__class_getitem__', '__contains__', '__delattr__', '__delitem__', '__dir__', '__doc__', '__eq__', '__format__', '__ge__', '__getattribute__', '__getitem__', '__gt__', '__hash__', '__iadd__', '__imul__', '__init__', '__init_subclass__', '__iter__', '__le__', '__len__', '__lt__', '__mul__', '__ne__', '__new__', '__reduce__', '__reduce_ex__', '__repr__', '__reversed__', '__rmul__', '__setattr__', '__setitem__', '__sizeof__', '__str__', '__subclasshook__', 'append', 'clear', 'copy', 'count', 'extend', 'index', 'insert', 'pop', 'remove', 'reverse', 'sort']\n"
          ]
        }
      ],
      "source": [
        "l=[1,2,3]\n",
        "print(l)\n",
        "print(dir(l))\n"
      ]
    },
    {
      "cell_type": "code",
      "execution_count": null,
      "id": "6385d423",
      "metadata": {
        "id": "6385d423"
      },
      "outputs": [],
      "source": [
        ""
      ]
    },
    {
      "cell_type": "code",
      "execution_count": null,
      "id": "e8ed07bc-b20a-4455-b640-872b6f3785fe",
      "metadata": {
        "id": "e8ed07bc-b20a-4455-b640-872b6f3785fe"
      },
      "outputs": [],
      "source": [
        "for i in dir(str):\n",
        "    if i.isalpha():\n",
        "        print(i,end='(), ')"
      ]
    },
    {
      "cell_type": "code",
      "execution_count": null,
      "id": "16d2e06a-d22f-4a41-9014-039e932c9f7a",
      "metadata": {
        "id": "16d2e06a-d22f-4a41-9014-039e932c9f7a"
      },
      "outputs": [],
      "source": [
        "x=\"fdf\"\n",
        "print(dir(x))"
      ]
    },
    {
      "cell_type": "markdown",
      "id": "c8dfe60a-9b0c-476d-9f16-f3eac8efef2d",
      "metadata": {
        "id": "c8dfe60a-9b0c-476d-9f16-f3eac8efef2d"
      },
      "source": [
        "### divmod() \n",
        "- The divmod() function returns a tuple containing the quotient  and the remainder when argument1 (dividend) is divided by argument2 (divisor).\n",
        "- divmod(dividend, divisor)"
      ]
    },
    {
      "cell_type": "code",
      "execution_count": null,
      "id": "8a1dd3a8-2687-4cc0-97bf-dfa15b5b8241",
      "metadata": {
        "id": "8a1dd3a8-2687-4cc0-97bf-dfa15b5b8241",
        "outputId": "58d9d951-af96-430d-cfb2-0f1a5a5cf1c2"
      },
      "outputs": [
        {
          "name": "stdout",
          "output_type": "stream",
          "text": [
            "(2, 1)\n"
          ]
        }
      ],
      "source": [
        "x = divmod(5, 2)\n",
        "print(x)\n"
      ]
    },
    {
      "cell_type": "markdown",
      "id": "53e5a30d-d425-4904-81a5-1f443f681158",
      "metadata": {
        "id": "53e5a30d-d425-4904-81a5-1f443f681158"
      },
      "source": [
        "### enumerate()\n",
        "- Takes a collection (e.g. a tuple) and returns it as an enumerate object"
      ]
    },
    {
      "cell_type": "code",
      "execution_count": null,
      "id": "8067b194-e3fa-4bce-ac74-8dcc441cf72e",
      "metadata": {
        "id": "8067b194-e3fa-4bce-ac74-8dcc441cf72e",
        "outputId": "67130d33-9162-4a6c-de42-1be83d7ebdea"
      },
      "outputs": [
        {
          "name": "stdout",
          "output_type": "stream",
          "text": [
            "[(10, 'apple'), (11, 'banana'), (12, 'cherry')]\n"
          ]
        }
      ],
      "source": [
        "x = ('apple', 'banana', 'cherry')\n",
        "y = enumerate(x,start=10)\n",
        "print(list(y))"
      ]
    },
    {
      "cell_type": "code",
      "execution_count": null,
      "id": "ec374c87-5416-4317-8a2b-aa16d0d99643",
      "metadata": {
        "id": "ec374c87-5416-4317-8a2b-aa16d0d99643",
        "outputId": "657a6510-0223-4bbd-fb94-387098890a51"
      },
      "outputs": [
        {
          "name": "stdout",
          "output_type": "stream",
          "text": [
            "0 Jan\n",
            "1 Feb\n",
            "2 Mar\n",
            "3 April\n",
            "4 May\n",
            "5 June\n"
          ]
        }
      ],
      "source": [
        "#use a for loop over a collection\n",
        "Months = [\"Jan\",\"Feb\",\"Mar\",\"April\",\"May\",\"June\"]\n",
        "for i, m in enumerate (Months):\n",
        "                        print(i,m)"
      ]
    },
    {
      "cell_type": "markdown",
      "id": "85e51c24-b6dc-42e4-8cc4-00f16d98d8ee",
      "metadata": {
        "id": "85e51c24-b6dc-42e4-8cc4-00f16d98d8ee"
      },
      "source": [
        "### eval()\n",
        "- Evaluates and executes an expression\n",
        "- eval(expression, globals, locals) "
      ]
    },
    {
      "cell_type": "code",
      "execution_count": null,
      "id": "fc371257-42c9-4cca-bf02-db84ed49e1f4",
      "metadata": {
        "id": "fc371257-42c9-4cca-bf02-db84ed49e1f4",
        "outputId": "60005a2d-ca45-46c2-e7c6-b4baa9fc2caa"
      },
      "outputs": [
        {
          "name": "stdout",
          "output_type": "stream",
          "text": [
            "100\n"
          ]
        }
      ],
      "source": [
        "a=10\n",
        "x = 'print(a*a)'\n",
        "eval(x)"
      ]
    },
    {
      "cell_type": "markdown",
      "id": "219dc415-fddb-408a-985c-d7f4b3558f1b",
      "metadata": {
        "id": "219dc415-fddb-408a-985c-d7f4b3558f1b"
      },
      "source": [
        "### exec()\n",
        "- Executes the specified code (or object)\n",
        "- The exec() function executes the specified Python code.\n",
        "- The exec() function accepts large blocks of code, unlike the eval() function which only accepts a single expression\n",
        "- exec(object, globals, locals) "
      ]
    },
    {
      "cell_type": "code",
      "execution_count": null,
      "id": "d544f62d-3d81-49d5-bf3b-573de94ab03d",
      "metadata": {
        "id": "d544f62d-3d81-49d5-bf3b-573de94ab03d",
        "outputId": "1f547e9f-ac36-4a36-f060-412991a94ff0"
      },
      "outputs": [
        {
          "name": "stdout",
          "output_type": "stream",
          "text": [
            "Enter your name:karthik\n",
            "karthik\n",
            "karthikkarthik\n"
          ]
        }
      ],
      "source": [
        "x = 'name =input(\"Enter your name:\")\\nprint(name)\\nprint(name*2)'\n",
        "exec(x)\n"
      ]
    },
    {
      "cell_type": "markdown",
      "id": "896f35d9-ec34-4d78-a4a8-aa7244cd2434",
      "metadata": {
        "id": "896f35d9-ec34-4d78-a4a8-aa7244cd2434"
      },
      "source": [
        "### filter()\n",
        "- Use a filter function to exclude items in an iterable object"
      ]
    },
    {
      "cell_type": "code",
      "execution_count": null,
      "id": "1e58f33a-0627-49b4-9c33-481d153a3654",
      "metadata": {
        "id": "1e58f33a-0627-49b4-9c33-481d153a3654",
        "outputId": "59fb1195-74d8-4ce5-d1c5-5d52fb718e78"
      },
      "outputs": [
        {
          "name": "stdout",
          "output_type": "stream",
          "text": [
            "[1, 4, 5, 8]\n"
          ]
        }
      ],
      "source": [
        "listobj = [0, 1, [], 4, 5, \"\", None, 8]\n",
        "\n",
        "print(list(filter(None, listobj)))"
      ]
    },
    {
      "cell_type": "code",
      "execution_count": null,
      "id": "430fb3f5",
      "metadata": {
        "id": "430fb3f5"
      },
      "outputs": [],
      "source": [
        "listobj"
      ]
    },
    {
      "cell_type": "code",
      "execution_count": null,
      "id": "d5024880",
      "metadata": {
        "id": "d5024880"
      },
      "outputs": [],
      "source": [
        "filter_data=filter(None,listobj)"
      ]
    },
    {
      "cell_type": "code",
      "execution_count": null,
      "id": "1cb8ae27",
      "metadata": {
        "id": "1cb8ae27"
      },
      "outputs": [],
      "source": [
        "for i in filter_data:\n",
        "    print(i)\n",
        "    "
      ]
    },
    {
      "cell_type": "code",
      "execution_count": null,
      "id": "b9a73882",
      "metadata": {
        "id": "b9a73882"
      },
      "outputs": [],
      "source": [
        "list(filter(None,[0, 1, [], 4, 5, '', None, 8]))"
      ]
    },
    {
      "cell_type": "code",
      "execution_count": null,
      "id": "8c39384b",
      "metadata": {
        "id": "8c39384b"
      },
      "outputs": [],
      "source": [
        ""
      ]
    },
    {
      "cell_type": "code",
      "execution_count": null,
      "id": "bab8f681",
      "metadata": {
        "id": "bab8f681"
      },
      "outputs": [],
      "source": [
        ""
      ]
    },
    {
      "cell_type": "code",
      "execution_count": null,
      "id": "6a97fa0b",
      "metadata": {
        "id": "6a97fa0b"
      },
      "outputs": [],
      "source": [
        ""
      ]
    },
    {
      "cell_type": "code",
      "execution_count": null,
      "id": "dcaf1405-293b-447c-b637-b28a46ed75ac",
      "metadata": {
        "id": "dcaf1405-293b-447c-b637-b28a46ed75ac"
      },
      "outputs": [],
      "source": [
        "ages = [5, 12, 17, 18, 24, 32]"
      ]
    },
    {
      "cell_type": "code",
      "execution_count": null,
      "id": "68318bb2",
      "metadata": {
        "id": "68318bb2"
      },
      "outputs": [],
      "source": [
        "def find_adult(x):\n",
        "    if x < 18:\n",
        "        return False\n",
        "    else:\n",
        "        return True\n"
      ]
    },
    {
      "cell_type": "code",
      "execution_count": null,
      "id": "a51f3bc3",
      "metadata": {
        "id": "a51f3bc3",
        "outputId": "667d5eeb-379b-480b-9ed0-15b5015b5207"
      },
      "outputs": [
        {
          "data": {
            "text/plain": [
              "[18, 24, 32]"
            ]
          },
          "execution_count": 68,
          "metadata": {},
          "output_type": "execute_result"
        }
      ],
      "source": [
        "list(filter(find_adult, ages))"
      ]
    },
    {
      "cell_type": "code",
      "execution_count": null,
      "id": "da4b5817",
      "metadata": {
        "id": "da4b5817"
      },
      "outputs": [],
      "source": [
        "list(adults)"
      ]
    },
    {
      "cell_type": "code",
      "execution_count": null,
      "id": "4ebed9c5",
      "metadata": {
        "id": "4ebed9c5"
      },
      "outputs": [],
      "source": [
        ""
      ]
    },
    {
      "cell_type": "code",
      "execution_count": null,
      "id": "c5e7126e-33a6-4e4d-9795-45b3405e24c9",
      "metadata": {
        "id": "c5e7126e-33a6-4e4d-9795-45b3405e24c9",
        "outputId": "072632f0-61da-43fb-81e9-4d7f326d3472"
      },
      "outputs": [
        {
          "name": "stdout",
          "output_type": "stream",
          "text": [
            "10\n",
            "6\n",
            "50\n"
          ]
        }
      ],
      "source": [
        "numbers = [1, 3, 10, 45, 6, 50]\n",
        "def is_even(number):\n",
        "           return number %2== 0  # Filtering condition\n",
        "e=filter(is_even,numbers)\n",
        "for i in e:\n",
        "    print(i)\n"
      ]
    },
    {
      "cell_type": "markdown",
      "id": "d01963d5-dda0-4677-9470-26a2ae164cf6",
      "metadata": {
        "id": "d01963d5-dda0-4677-9470-26a2ae164cf6"
      },
      "source": [
        "### float()\n",
        "- Returns a floating point number"
      ]
    },
    {
      "cell_type": "code",
      "execution_count": null,
      "id": "b2ac6371-3626-404b-a853-8cb7be71e56d",
      "metadata": {
        "id": "b2ac6371-3626-404b-a853-8cb7be71e56d",
        "outputId": "f1e39217-5c2d-4632-887d-51fe1c4a7af9"
      },
      "outputs": [
        {
          "name": "stdout",
          "output_type": "stream",
          "text": [
            "34.0\n"
          ]
        }
      ],
      "source": [
        "print(float(\"34\"))"
      ]
    },
    {
      "cell_type": "markdown",
      "id": "dcc97e04-0246-4a9b-96b2-70d982e05aed",
      "metadata": {
        "id": "dcc97e04-0246-4a9b-96b2-70d982e05aed"
      },
      "source": [
        "### format()\n",
        "- The format() function formats a specified value into a specified format.\n",
        "- format(value, format)\n",
        "- The format you want to format the value into\n",
        "```python\n",
        "Legal values:\n",
        "'<' - Left aligns the result (within the available space)\n",
        "'>' - Right aligns the result (within the available space)\n",
        "'^' - Center aligns the result (within the available space)\n",
        "'=' - Places the sign to the left most position\n",
        "'+' - Use a plus sign to indicate if the result is positive or negative\n",
        "'-' - Use a minus sign for negative values only\n",
        "' ' - Use a leading space for positive numbers\n",
        "',' - Use a comma as a thousand separator\n",
        "'_' - Use a underscore as a thousand separator\n",
        "'b' - Binary format\n",
        "'c' - Converts the value into the corresponding unicode character\n",
        "'d' - Decimal format\n",
        "'e' - Scientific format, with a lower case e\n",
        "'E' - Scientific format, with an upper case E\n",
        "'f' - Fix point number format\n",
        "'F' - Fix point number format, upper case\n",
        "'g' - General format\n",
        "'G' - General format (using a upper case E for scientific notations)\n",
        "'o' - Octal format\n",
        "'x' - Hex format, lower case\n",
        "'X' - Hex format, upper case\n",
        "'n' - Number format\n",
        "'%' - Percentage format \n",
        "```"
      ]
    },
    {
      "cell_type": "code",
      "execution_count": null,
      "id": "f3a892e2-6418-47d3-93e8-3c003dd9cf98",
      "metadata": {
        "scrolled": true,
        "id": "f3a892e2-6418-47d3-93e8-3c003dd9cf98",
        "outputId": "c4311825-33af-4237-9d1a-4a9296cabb3b"
      },
      "outputs": [
        {
          "name": "stdout",
          "output_type": "stream",
          "text": [
            "25400.00%\n"
          ]
        }
      ],
      "source": [
        "x = format(254,'.2%')\n",
        "\n",
        "print(x)\n"
      ]
    },
    {
      "cell_type": "markdown",
      "id": "4418cf64-f0a3-4640-bad2-5c5692571eb1",
      "metadata": {
        "id": "4418cf64-f0a3-4640-bad2-5c5692571eb1"
      },
      "source": [
        "### frozenset()\n",
        "- Returns a frozenset object"
      ]
    },
    {
      "cell_type": "code",
      "execution_count": null,
      "id": "f8693ece-565f-4d66-aff7-ccfe08076142",
      "metadata": {
        "id": "f8693ece-565f-4d66-aff7-ccfe08076142",
        "outputId": "4c7f9e9d-7a4c-4eb3-beb7-1a7834f21389"
      },
      "outputs": [
        {
          "name": "stdout",
          "output_type": "stream",
          "text": [
            "frozenset({'apple', 'cherry', 'banana'})\n"
          ]
        }
      ],
      "source": [
        "mylist = ['apple', 'banana', 'cherry']\n",
        "x = frozenset(mylist)\n",
        "print(x)"
      ]
    },
    {
      "cell_type": "markdown",
      "id": "423b0234-a378-4b68-999c-04939ab4bfb1",
      "metadata": {
        "id": "423b0234-a378-4b68-999c-04939ab4bfb1"
      },
      "source": [
        "### getattr()\n",
        "- Returns the value of the specified attribute (property or method)\n",
        "- getattr(object, attribute, default) "
      ]
    },
    {
      "cell_type": "code",
      "execution_count": null,
      "id": "209306e0-5507-4f0b-80a8-dec74357c60a",
      "metadata": {
        "id": "209306e0-5507-4f0b-80a8-dec74357c60a",
        "outputId": "38a175cb-f71e-4d21-d072-62ba7108f052"
      },
      "outputs": [
        {
          "name": "stdout",
          "output_type": "stream",
          "text": [
            "36\n"
          ]
        }
      ],
      "source": [
        "class Person:\n",
        "  name = \"John\"\n",
        "  age = 36\n",
        "  country = \"Norway\"\n",
        "\n",
        "x = getattr(Person, 'age')\n",
        "print(x)"
      ]
    },
    {
      "cell_type": "markdown",
      "id": "f8013cf5-7399-44b8-986c-2a8f348c8c7c",
      "metadata": {
        "id": "f8013cf5-7399-44b8-986c-2a8f348c8c7c"
      },
      "source": [
        "## globals() \n",
        "- The globals() function returns the global symbol table as a dictionary.\n",
        "\n",
        "- A symbol table contains necessary information about the current program"
      ]
    },
    {
      "cell_type": "code",
      "execution_count": null,
      "id": "1860bee3-b097-4595-9366-e6fb7e8dff5f",
      "metadata": {
        "id": "1860bee3-b097-4595-9366-e6fb7e8dff5f",
        "outputId": "e6c184e8-5380-42d5-c0ea-79176f2d3127"
      },
      "outputs": [
        {
          "name": "stdout",
          "output_type": "stream",
          "text": [
            "{'__name__': '__main__', '__doc__': 'Automatically created module for IPython interactive environment', '__package__': None, '__loader__': None, '__spec__': None, '__builtin__': <module 'builtins' (built-in)>, '__builtins__': <module 'builtins' (built-in)>, '_ih': ['', 'x =abs(-5.45)\\nprint(x)', 'abs(-323.78)', 'mylist = [1,2,3,(1),0]\\nx = all(mylist)\\nprint(x)', \"all(('2',2,34,5))\", 'all([True,True,False])', \"mylist =[0,0,0,None,'',set(),{},0]\\nx = any(mylist)\\nprint(x)\", 'any([False,False,False])', 'ascii(\"aå \")', 'bin(7)', 'print(bin(5)[2:])', \"print(bool('ff'))\", 'print(bytearray(5))', 'print(bytes(5))', 'def x():\\n  a = 5\\n\\nprint(callable(x))\\ny=20\\nprint(callable(y))', 'x', 'def add():\\n    pass', 'callable(add)', 'callable(c)', 'print(ord(\"A\"))', 'dir(a)', 'a=120', 'dir(a)', 'print(dir(a),end=\" \")', 'print(dir(int),end=\" \")', 'a.bit_length()', 'bin(120)', 'a=12', 'a.bit_length()', 'bin(12)', 'a=7', 'a.bit_length()', 'bin(7)', 'a.as_integer_ratio()', 'a=123', 'a.as_integer_ratio()', 'a.denominator()', 'a.denominator', 'a.imag', 'a.numerator', 'a.real', 'a.tp_bytes', 'a.tp_bytes()', 'a.to_bytes()', 'a.to_bytes', 'a.to_bytes()', 'a.to_bytes(2)', 'a.bit_length()', 'b=23.5', 'print(dir(b),end=\" ,\")', 'str1=\"python\"\\nprint(dir(str1),end=\" ,\")', 'str1.capitalize()', \"'PythMn proGram'.casefold()\", 'l=[1,2,3]\\nprint(l)\\nprint(dir(l))', 'x = divmod(5, 2)\\nprint(x)', \"x = ('apple', 'banana', 'cherry')\\ny = enumerate(x,start=10)\\nprint(list(y))\", \"x = ('apple', 'banana', 'cherry')\\ny = enumerate(x)\\nprint(list(y))\", \"x = ('apple', 'banana', 'cherry')\\ny = enumerate(x,start=10)\\nprint(list(y))\", '#use a for loop over a collection\\nMonths = [\"Jan\",\"Feb\",\"Mar\",\"April\",\"May\",\"June\"]\\nfor i, m in enumerate (Months):\\n                        print(i,m)', \"a=10\\nx = 'print(a*a)'\\neval(x)\", 'x = \\'name =input(\"Enter your name:\")\\\\nprint(name)\\\\nprint(name*2)\\'\\nexec(x)', 'listobj = [0, 1, [], 4, 5, \"\", None, 8]\\n\\nprint(list(filter(None, listobj)))', 'adults = filter(find_adult, ages)', 'def find_adult(x):\\n    if x < 18:\\n        return False\\n    else:\\n        return True', 'ages = [5, 12, 17, 18, 24, 32]', 'def find_adult(x):\\n    if x < 18:\\n        return False\\n    else:\\n        return True', 'adults = filter(find_adult, ages)', 'filter(find_adult, ages)', 'list(filter(find_adult, ages))', 'numbers = [1, 3, 10, 45, 6, 50]\\ndef is_even(number):\\n           return number %2== 0  # Filtering condition\\ne=filter(is_even,numbers)\\nfor i in e:\\n    print(i)', 'numbers = [1, 3, 10, 45, 6, 50]\\ndef is_even(number):\\n           return number %2== 0  # Filtering condition\\ne=filter(is_even,numbers)\\nfor i in e:\\n    print(i)', 'print(float(\"34\"))', \"x = format(23.4545454545, '.4f')\\n\\nprint(x)\", \"x = format(23.4545454545, '.2f')\\n\\nprint(x)\", \"x = format(2345, 'b')\\n\\nprint(x)\", \"x = format(2345, 'o')\\n\\nprint(x)\", \"x = format(2345, 'x')\\n\\nprint(x)\", \"x = format(254, 'x')\\n\\nprint(x)\", \"x = format(254, 'X')\\n\\nprint(x)\", \"x = format(254, '^')\\n\\nprint(x)\", \"x = format(254,'^')\\n\\nprint(x)\", \"x = format(254,'%')\\n\\nprint(x)\", \"x = format(254,'.4%')\\n\\nprint(x)\", \"x = format(254,'.2%')\\n\\nprint(x)\", \"mylist = ['apple', 'banana', 'cherry']\\nx = frozenset(mylist)\\nprint(x)\", 'class Person:\\n  name = \"John\"\\n  age = 36\\n  country = \"Norway\"\\n\\nx = getattr(Person, \\'country\\')\\nprint(x)', 'class Person:\\n  name = \"John\"\\n  age = 36\\n  country = \"Norway\"\\n\\nx = getattr(Person, \\'age\\')\\nprint(x)', 'x = globals()\\nprint(x)'], '_oh': {2: 323.78, 4: True, 5: False, 7: False, 8: \"'a\\\\xe5 '\", 9: '0b111', 15: <function x at 0x000001B432D14160>, 17: True, 22: ['__abs__', '__add__', '__and__', '__bool__', '__ceil__', '__class__', '__delattr__', '__dir__', '__divmod__', '__doc__', '__eq__', '__float__', '__floor__', '__floordiv__', '__format__', '__ge__', '__getattribute__', '__getnewargs__', '__gt__', '__hash__', '__index__', '__init__', '__init_subclass__', '__int__', '__invert__', '__le__', '__lshift__', '__lt__', '__mod__', '__mul__', '__ne__', '__neg__', '__new__', '__or__', '__pos__', '__pow__', '__radd__', '__rand__', '__rdivmod__', '__reduce__', '__reduce_ex__', '__repr__', '__rfloordiv__', '__rlshift__', '__rmod__', '__rmul__', '__ror__', '__round__', '__rpow__', '__rrshift__', '__rshift__', '__rsub__', '__rtruediv__', '__rxor__', '__setattr__', '__sizeof__', '__str__', '__sub__', '__subclasshook__', '__truediv__', '__trunc__', '__xor__', 'as_integer_ratio', 'bit_length', 'conjugate', 'denominator', 'from_bytes', 'imag', 'numerator', 'real', 'to_bytes'], 25: 7, 26: '0b1111000', 28: 4, 29: '0b1100', 31: 3, 32: '0b111', 33: (7, 1), 35: (123, 1), 37: 1, 38: 0, 39: 123, 40: 123, 44: <built-in method to_bytes of int object at 0x000001B42CA958B0>, 47: 7, 51: 'Python', 52: 'pythmn program', 67: <filter object at 0x000001B432FB4940>, 68: [18, 24, 32]}, '_dh': [WindowsPath('C:/Users/karthick')], 'In': ['', 'x =abs(-5.45)\\nprint(x)', 'abs(-323.78)', 'mylist = [1,2,3,(1),0]\\nx = all(mylist)\\nprint(x)', \"all(('2',2,34,5))\", 'all([True,True,False])', \"mylist =[0,0,0,None,'',set(),{},0]\\nx = any(mylist)\\nprint(x)\", 'any([False,False,False])', 'ascii(\"aå \")', 'bin(7)', 'print(bin(5)[2:])', \"print(bool('ff'))\", 'print(bytearray(5))', 'print(bytes(5))', 'def x():\\n  a = 5\\n\\nprint(callable(x))\\ny=20\\nprint(callable(y))', 'x', 'def add():\\n    pass', 'callable(add)', 'callable(c)', 'print(ord(\"A\"))', 'dir(a)', 'a=120', 'dir(a)', 'print(dir(a),end=\" \")', 'print(dir(int),end=\" \")', 'a.bit_length()', 'bin(120)', 'a=12', 'a.bit_length()', 'bin(12)', 'a=7', 'a.bit_length()', 'bin(7)', 'a.as_integer_ratio()', 'a=123', 'a.as_integer_ratio()', 'a.denominator()', 'a.denominator', 'a.imag', 'a.numerator', 'a.real', 'a.tp_bytes', 'a.tp_bytes()', 'a.to_bytes()', 'a.to_bytes', 'a.to_bytes()', 'a.to_bytes(2)', 'a.bit_length()', 'b=23.5', 'print(dir(b),end=\" ,\")', 'str1=\"python\"\\nprint(dir(str1),end=\" ,\")', 'str1.capitalize()', \"'PythMn proGram'.casefold()\", 'l=[1,2,3]\\nprint(l)\\nprint(dir(l))', 'x = divmod(5, 2)\\nprint(x)', \"x = ('apple', 'banana', 'cherry')\\ny = enumerate(x,start=10)\\nprint(list(y))\", \"x = ('apple', 'banana', 'cherry')\\ny = enumerate(x)\\nprint(list(y))\", \"x = ('apple', 'banana', 'cherry')\\ny = enumerate(x,start=10)\\nprint(list(y))\", '#use a for loop over a collection\\nMonths = [\"Jan\",\"Feb\",\"Mar\",\"April\",\"May\",\"June\"]\\nfor i, m in enumerate (Months):\\n                        print(i,m)', \"a=10\\nx = 'print(a*a)'\\neval(x)\", 'x = \\'name =input(\"Enter your name:\")\\\\nprint(name)\\\\nprint(name*2)\\'\\nexec(x)', 'listobj = [0, 1, [], 4, 5, \"\", None, 8]\\n\\nprint(list(filter(None, listobj)))', 'adults = filter(find_adult, ages)', 'def find_adult(x):\\n    if x < 18:\\n        return False\\n    else:\\n        return True', 'ages = [5, 12, 17, 18, 24, 32]', 'def find_adult(x):\\n    if x < 18:\\n        return False\\n    else:\\n        return True', 'adults = filter(find_adult, ages)', 'filter(find_adult, ages)', 'list(filter(find_adult, ages))', 'numbers = [1, 3, 10, 45, 6, 50]\\ndef is_even(number):\\n           return number %2== 0  # Filtering condition\\ne=filter(is_even,numbers)\\nfor i in e:\\n    print(i)', 'numbers = [1, 3, 10, 45, 6, 50]\\ndef is_even(number):\\n           return number %2== 0  # Filtering condition\\ne=filter(is_even,numbers)\\nfor i in e:\\n    print(i)', 'print(float(\"34\"))', \"x = format(23.4545454545, '.4f')\\n\\nprint(x)\", \"x = format(23.4545454545, '.2f')\\n\\nprint(x)\", \"x = format(2345, 'b')\\n\\nprint(x)\", \"x = format(2345, 'o')\\n\\nprint(x)\", \"x = format(2345, 'x')\\n\\nprint(x)\", \"x = format(254, 'x')\\n\\nprint(x)\", \"x = format(254, 'X')\\n\\nprint(x)\", \"x = format(254, '^')\\n\\nprint(x)\", \"x = format(254,'^')\\n\\nprint(x)\", \"x = format(254,'%')\\n\\nprint(x)\", \"x = format(254,'.4%')\\n\\nprint(x)\", \"x = format(254,'.2%')\\n\\nprint(x)\", \"mylist = ['apple', 'banana', 'cherry']\\nx = frozenset(mylist)\\nprint(x)\", 'class Person:\\n  name = \"John\"\\n  age = 36\\n  country = \"Norway\"\\n\\nx = getattr(Person, \\'country\\')\\nprint(x)', 'class Person:\\n  name = \"John\"\\n  age = 36\\n  country = \"Norway\"\\n\\nx = getattr(Person, \\'age\\')\\nprint(x)', 'x = globals()\\nprint(x)'], 'Out': {2: 323.78, 4: True, 5: False, 7: False, 8: \"'a\\\\xe5 '\", 9: '0b111', 15: <function x at 0x000001B432D14160>, 17: True, 22: ['__abs__', '__add__', '__and__', '__bool__', '__ceil__', '__class__', '__delattr__', '__dir__', '__divmod__', '__doc__', '__eq__', '__float__', '__floor__', '__floordiv__', '__format__', '__ge__', '__getattribute__', '__getnewargs__', '__gt__', '__hash__', '__index__', '__init__', '__init_subclass__', '__int__', '__invert__', '__le__', '__lshift__', '__lt__', '__mod__', '__mul__', '__ne__', '__neg__', '__new__', '__or__', '__pos__', '__pow__', '__radd__', '__rand__', '__rdivmod__', '__reduce__', '__reduce_ex__', '__repr__', '__rfloordiv__', '__rlshift__', '__rmod__', '__rmul__', '__ror__', '__round__', '__rpow__', '__rrshift__', '__rshift__', '__rsub__', '__rtruediv__', '__rxor__', '__setattr__', '__sizeof__', '__str__', '__sub__', '__subclasshook__', '__truediv__', '__trunc__', '__xor__', 'as_integer_ratio', 'bit_length', 'conjugate', 'denominator', 'from_bytes', 'imag', 'numerator', 'real', 'to_bytes'], 25: 7, 26: '0b1111000', 28: 4, 29: '0b1100', 31: 3, 32: '0b111', 33: (7, 1), 35: (123, 1), 37: 1, 38: 0, 39: 123, 40: 123, 44: <built-in method to_bytes of int object at 0x000001B42CA958B0>, 47: 7, 51: 'Python', 52: 'pythmn program', 67: <filter object at 0x000001B432FB4940>, 68: [18, 24, 32]}, 'get_ipython': <bound method InteractiveShell.get_ipython of <ipykernel.zmqshell.ZMQInteractiveShell object at 0x000001B431C865E0>>, 'exit': <IPython.core.autocall.ZMQExitAutocall object at 0x000001B431C86CA0>, 'quit': <IPython.core.autocall.ZMQExitAutocall object at 0x000001B431C86CA0>, '_': [18, 24, 32], '__': <filter object at 0x000001B432FB4940>, '___': 'pythmn program', '_i': 'class Person:\\n  name = \"John\"\\n  age = 36\\n  country = \"Norway\"\\n\\nx = getattr(Person, \\'age\\')\\nprint(x)', '_ii': 'class Person:\\n  name = \"John\"\\n  age = 36\\n  country = \"Norway\"\\n\\nx = getattr(Person, \\'country\\')\\nprint(x)', '_iii': \"mylist = ['apple', 'banana', 'cherry']\\nx = frozenset(mylist)\\nprint(x)\", '_i1': 'x =abs(-5.45)\\nprint(x)', 'x': {...}, '_i2': 'abs(-323.78)', '_2': 323.78, '_i3': 'mylist = [1,2,3,(1),0]\\nx = all(mylist)\\nprint(x)', 'mylist': ['apple', 'banana', 'cherry'], '_i4': \"all(('2',2,34,5))\", '_4': True, '_i5': 'all([True,True,False])', '_5': False, '_i6': \"mylist =[0,0,0,None,'',set(),{},0]\\nx = any(mylist)\\nprint(x)\", '_i7': 'any([False,False,False])', '_7': False, '_i8': 'ascii(\"aå \")', '_8': \"'a\\\\xe5 '\", '_i9': 'bin(7)', '_9': '0b111', '_i10': 'print(bin(5)[2:])', '_i11': \"print(bool('ff'))\", '_i12': 'print(bytearray(5))', '_i13': 'print(bytes(5))', '_i14': 'def x():\\n  a = 5\\n\\nprint(callable(x))\\ny=20\\nprint(callable(y))', 'y': <enumerate object at 0x000001B433866F80>, '_i15': 'x', '_15': <function x at 0x000001B432D14160>, '_i16': 'def add():\\n    pass', 'add': <function add at 0x000001B432D14A60>, '_i17': 'callable(add)', '_17': True, '_i18': 'callable(c)', '_i19': 'print(ord(\"A\"))', '_i20': 'dir(a)', '_i21': 'a=120', 'a': 10, '_i22': 'dir(a)', '_22': ['__abs__', '__add__', '__and__', '__bool__', '__ceil__', '__class__', '__delattr__', '__dir__', '__divmod__', '__doc__', '__eq__', '__float__', '__floor__', '__floordiv__', '__format__', '__ge__', '__getattribute__', '__getnewargs__', '__gt__', '__hash__', '__index__', '__init__', '__init_subclass__', '__int__', '__invert__', '__le__', '__lshift__', '__lt__', '__mod__', '__mul__', '__ne__', '__neg__', '__new__', '__or__', '__pos__', '__pow__', '__radd__', '__rand__', '__rdivmod__', '__reduce__', '__reduce_ex__', '__repr__', '__rfloordiv__', '__rlshift__', '__rmod__', '__rmul__', '__ror__', '__round__', '__rpow__', '__rrshift__', '__rshift__', '__rsub__', '__rtruediv__', '__rxor__', '__setattr__', '__sizeof__', '__str__', '__sub__', '__subclasshook__', '__truediv__', '__trunc__', '__xor__', 'as_integer_ratio', 'bit_length', 'conjugate', 'denominator', 'from_bytes', 'imag', 'numerator', 'real', 'to_bytes'], '_i23': 'print(dir(a),end=\" \")', '_i24': 'print(dir(int),end=\" \")', '_i25': 'a.bit_length()', '_25': 7, '_i26': 'bin(120)', '_26': '0b1111000', '_i27': 'a=12', '_i28': 'a.bit_length()', '_28': 4, '_i29': 'bin(12)', '_29': '0b1100', '_i30': 'a=7', '_i31': 'a.bit_length()', '_31': 3, '_i32': 'bin(7)', '_32': '0b111', '_i33': 'a.as_integer_ratio()', '_33': (7, 1), '_i34': 'a=123', '_i35': 'a.as_integer_ratio()', '_35': (123, 1), '_i36': 'a.denominator()', '_i37': 'a.denominator', '_37': 1, '_i38': 'a.imag', '_38': 0, '_i39': 'a.numerator', '_39': 123, '_i40': 'a.real', '_40': 123, '_i41': 'a.tp_bytes', '_i42': 'a.tp_bytes()', '_i43': 'a.to_bytes()', '_i44': 'a.to_bytes', '_44': <built-in method to_bytes of int object at 0x000001B42CA958B0>, '_i45': 'a.to_bytes()', '_i46': 'a.to_bytes(2)', '_i47': 'a.bit_length()', '_47': 7, '_i48': 'b=23.5', 'b': 23.5, '_i49': 'print(dir(b),end=\" ,\")', '_i50': 'str1=\"python\"\\nprint(dir(str1),end=\" ,\")', 'str1': 'python', '_i51': 'str1.capitalize()', '_51': 'Python', '_i52': \"'PythMn proGram'.casefold()\", '_52': 'pythmn program', '_i53': '\\nl=[1,2,3]\\nprint(l)\\nprint(dir(l))', 'l': [1, 2, 3], '_i54': 'x = divmod(5, 2)\\nprint(x)', '_i55': \"x = ('apple', 'banana', 'cherry')\\ny = enumerate(x,start=10)\\nprint(list(y))\", '_i56': \"x = ('apple', 'banana', 'cherry')\\ny = enumerate(x)\\nprint(list(y))\", '_i57': \"x = ('apple', 'banana', 'cherry')\\ny = enumerate(x,start=10)\\nprint(list(y))\", '_i58': '#use a for loop over a collection\\nMonths = [\"Jan\",\"Feb\",\"Mar\",\"April\",\"May\",\"June\"]\\nfor i, m in enumerate (Months):\\n                        print(i,m)', 'Months': ['Jan', 'Feb', 'Mar', 'April', 'May', 'June'], 'i': 50, 'm': 'June', '_i59': \"a=10\\nx = 'print(a*a)'\\neval(x)\", '_i60': 'x = \\'name =input(\"Enter your name:\")\\\\nprint(name)\\\\nprint(name*2)\\'\\nexec(x)', 'name': 'karthik', '_i61': 'listobj = [0, 1, [], 4, 5, \"\", None, 8]\\n\\nprint(list(filter(None, listobj)))', 'listobj': [0, 1, [], 4, 5, '', None, 8], '_i62': 'adults = filter(find_adult, ages)', '_i63': 'def find_adult(x):\\n    if x < 18:\\n        return False\\n    else:\\n        return True', 'find_adult': <function find_adult at 0x000001B433810CA0>, '_i64': 'ages = [5, 12, 17, 18, 24, 32]', 'ages': [5, 12, 17, 18, 24, 32], '_i65': 'def find_adult(x):\\n    if x < 18:\\n        return False\\n    else:\\n        return True', '_i66': 'adults = filter(find_adult, ages)', 'adults': <filter object at 0x000001B433062D90>, '_i67': 'filter(find_adult, ages)', '_67': <filter object at 0x000001B432FB4940>, '_i68': 'list(filter(find_adult, ages))', '_68': [18, 24, 32], '_i69': 'numbers = [1, 3, 10, 45, 6, 50]\\ndef is_even(number):\\n           return number %2== 0  # Filtering condition\\ne=filter(is_even,numbers)\\nfor i in e:\\n    print(i)', 'numbers': [1, 3, 10, 45, 6, 50], 'is_even': <function is_even at 0x000001B431CE6A60>, 'e': <filter object at 0x000001B433035490>, '_i70': 'numbers = [1, 3, 10, 45, 6, 50]\\ndef is_even(number):\\n           return number %2== 0  # Filtering condition\\ne=filter(is_even,numbers)\\nfor i in e:\\n    print(i)', '_i71': 'print(float(\"34\"))', '_i72': \"x = format(23.4545454545, '.4f')\\n\\nprint(x)\", '_i73': \"x = format(23.4545454545, '.2f')\\n\\nprint(x)\", '_i74': \"x = format(2345, 'b')\\n\\nprint(x)\", '_i75': \"x = format(2345, 'o')\\n\\nprint(x)\", '_i76': \"x = format(2345, 'x')\\n\\nprint(x)\", '_i77': \"x = format(254, 'x')\\n\\nprint(x)\", '_i78': \"x = format(254, 'X')\\n\\nprint(x)\", '_i79': \"x = format(254, '^')\\n\\nprint(x)\", '_i80': \"x = format(254,'^')\\n\\nprint(x)\", '_i81': \"x = format(254,'%')\\n\\nprint(x)\", '_i82': \"x = format(254,'.4%')\\n\\nprint(x)\", '_i83': \"x = format(254,'.2%')\\n\\nprint(x)\", '_i84': \"mylist = ['apple', 'banana', 'cherry']\\nx = frozenset(mylist)\\nprint(x)\", '_i85': 'class Person:\\n  name = \"John\"\\n  age = 36\\n  country = \"Norway\"\\n\\nx = getattr(Person, \\'country\\')\\nprint(x)', 'Person': <class '__main__.Person'>, '_i86': 'class Person:\\n  name = \"John\"\\n  age = 36\\n  country = \"Norway\"\\n\\nx = getattr(Person, \\'age\\')\\nprint(x)', '_i87': 'x = globals()\\nprint(x)'}\n"
          ]
        }
      ],
      "source": [
        "x = globals()\n",
        "print(x)"
      ]
    },
    {
      "cell_type": "markdown",
      "id": "a6a27b66-4c09-4560-b79e-9252238d2bec",
      "metadata": {
        "id": "a6a27b66-4c09-4560-b79e-9252238d2bec"
      },
      "source": [
        "### hasattr() \n",
        "- function returns True if the specified object has the specified attribute, otherwise False.\n",
        "- hasattr(object, attribute) "
      ]
    },
    {
      "cell_type": "code",
      "execution_count": null,
      "id": "6a78369c-62d2-4694-a72b-390089c02098",
      "metadata": {
        "id": "6a78369c-62d2-4694-a72b-390089c02098",
        "outputId": "5b42f169-fb41-4fe3-ffc7-a76fad413075"
      },
      "outputs": [
        {
          "name": "stdout",
          "output_type": "stream",
          "text": [
            "True\n"
          ]
        }
      ],
      "source": [
        "class Person:\n",
        "  name = \"John\"\n",
        "  age = 36\n",
        "  country = \"Norway\"\n",
        "\n",
        "x = hasattr(Person, 'age')\n",
        "print(x)"
      ]
    },
    {
      "cell_type": "markdown",
      "id": "721e0f78-3317-4dce-bda4-3563417b0249",
      "metadata": {
        "id": "721e0f78-3317-4dce-bda4-3563417b0249"
      },
      "source": [
        "### hash()\n",
        "-Returns the hash value of a specified object"
      ]
    },
    {
      "cell_type": "code",
      "execution_count": null,
      "id": "e7056b50-efdc-4771-aff8-14f527f7966c",
      "metadata": {
        "id": "e7056b50-efdc-4771-aff8-14f527f7966c",
        "outputId": "5e93ddbd-5776-4694-d9e5-3287b83d70d5"
      },
      "outputs": [
        {
          "name": "stdout",
          "output_type": "stream",
          "text": [
            "-1054930424134599433\n"
          ]
        }
      ],
      "source": [
        "x=\"frgg\"\n",
        "print(hash(x))"
      ]
    },
    {
      "cell_type": "markdown",
      "id": "1a326098-f98e-416b-9806-6eaecea2b5fe",
      "metadata": {
        "id": "1a326098-f98e-416b-9806-6eaecea2b5fe"
      },
      "source": [
        "### help()\n",
        "- Executes the built-in help system"
      ]
    },
    {
      "cell_type": "code",
      "execution_count": null,
      "id": "5c01b256-1160-4b6c-8c6f-8166b32b2e4a",
      "metadata": {
        "id": "5c01b256-1160-4b6c-8c6f-8166b32b2e4a",
        "outputId": "f0595276-4a74-4755-93e8-169f8947e53f"
      },
      "outputs": [
        {
          "ename": "SyntaxError",
          "evalue": "invalid syntax (2317614893.py, line 1)",
          "output_type": "error",
          "traceback": [
            "\u001b[1;36m  Input \u001b[1;32mIn [95]\u001b[1;36m\u001b[0m\n\u001b[1;33m    print(help()).\u001b[0m\n\u001b[1;37m                  ^\u001b[0m\n\u001b[1;31mSyntaxError\u001b[0m\u001b[1;31m:\u001b[0m invalid syntax\n"
          ]
        }
      ],
      "source": [
        "print(help()).\n"
      ]
    },
    {
      "cell_type": "code",
      "execution_count": null,
      "id": "6b689983",
      "metadata": {
        "id": "6b689983",
        "outputId": "5430acc6-037d-482a-9e06-5b6aea3e1d50"
      },
      "outputs": [
        {
          "name": "stdout",
          "output_type": "stream",
          "text": [
            "Help on class filter in module builtins:\n",
            "\n",
            "class filter(object)\n",
            " |  filter(function or None, iterable) --> filter object\n",
            " |  \n",
            " |  Return an iterator yielding those items of iterable for which function(item)\n",
            " |  is true. If function is None, return the items that are true.\n",
            " |  \n",
            " |  Methods defined here:\n",
            " |  \n",
            " |  __getattribute__(self, name, /)\n",
            " |      Return getattr(self, name).\n",
            " |  \n",
            " |  __iter__(self, /)\n",
            " |      Implement iter(self).\n",
            " |  \n",
            " |  __next__(self, /)\n",
            " |      Implement next(self).\n",
            " |  \n",
            " |  __reduce__(...)\n",
            " |      Return state information for pickling.\n",
            " |  \n",
            " |  ----------------------------------------------------------------------\n",
            " |  Static methods defined here:\n",
            " |  \n",
            " |  __new__(*args, **kwargs) from builtins.type\n",
            " |      Create and return a new object.  See help(type) for accurate signature.\n",
            "\n"
          ]
        }
      ],
      "source": [
        "help(filter)"
      ]
    },
    {
      "cell_type": "markdown",
      "id": "1e0acda7-4588-4c19-9ba6-9e9517b1b927",
      "metadata": {
        "id": "1e0acda7-4588-4c19-9ba6-9e9517b1b927"
      },
      "source": [
        "## hex()\n",
        "- Converts a number into a hexadecimal value"
      ]
    },
    {
      "cell_type": "code",
      "execution_count": null,
      "id": "48f20fd2-b91d-4fef-a5e2-97b3ef00c3f7",
      "metadata": {
        "id": "48f20fd2-b91d-4fef-a5e2-97b3ef00c3f7",
        "outputId": "42a8b07b-3508-4b69-a86a-047c423bd0ef"
      },
      "outputs": [
        {
          "name": "stdout",
          "output_type": "stream",
          "text": [
            "0xff\n"
          ]
        }
      ],
      "source": [
        "x = hex(255)\n",
        "print(x)"
      ]
    },
    {
      "cell_type": "markdown",
      "id": "251ff2f8-3ec3-479b-a21d-4a46e438022b",
      "metadata": {
        "id": "251ff2f8-3ec3-479b-a21d-4a46e438022b"
      },
      "source": [
        "### id()\n",
        "- Returns the id of an object\n",
        "- The id() function returns a unique id for the specified object.\n",
        "- All objects in Python has its own unique id.\n",
        "- The id is assigned to the object when it is created.\n",
        "- The id is the object's memory address, and will be different for each time you run the program. (except for some object that has a constant unique id, like integers from -5 to 256)\n"
      ]
    },
    {
      "cell_type": "code",
      "execution_count": null,
      "id": "e6857f3f-cc38-4174-95c4-763efb61fcfb",
      "metadata": {
        "id": "e6857f3f-cc38-4174-95c4-763efb61fcfb",
        "outputId": "1b5d5133-8516-4fd0-88f5-67575094bce7"
      },
      "outputs": [
        {
          "name": "stdout",
          "output_type": "stream",
          "text": [
            "1873470628800\n"
          ]
        }
      ],
      "source": [
        "x = ('apple', 'banana', 'cherry')\n",
        "print(id(x))"
      ]
    },
    {
      "cell_type": "markdown",
      "id": "8e54a6e4-1bd4-4470-b11d-0f09534bc887",
      "metadata": {
        "id": "8e54a6e4-1bd4-4470-b11d-0f09534bc887"
      },
      "source": [
        "### input()\n",
        "- Allowing user input"
      ]
    },
    {
      "cell_type": "code",
      "execution_count": null,
      "id": "ff557196-10a8-470e-ae4b-2e40750baaa8",
      "metadata": {
        "id": "ff557196-10a8-470e-ae4b-2e40750baaa8",
        "outputId": "b872beea-446e-4687-d827-295a9eeef369"
      },
      "outputs": [
        {
          "name": "stdout",
          "output_type": "stream",
          "text": [
            "Enter your name:\n",
            "karthik\n",
            "Hello, karthik\n"
          ]
        }
      ],
      "source": [
        "print('Enter your name:')\n",
        "name = input()\n",
        "print('Hello, ' + name) "
      ]
    },
    {
      "cell_type": "markdown",
      "id": "955f5bcc-e355-4adc-a563-fe4632ce4ebc",
      "metadata": {
        "id": "955f5bcc-e355-4adc-a563-fe4632ce4ebc"
      },
      "source": [
        "### int()\n",
        "- Returns an integer number"
      ]
    },
    {
      "cell_type": "code",
      "execution_count": null,
      "id": "ea32fbfb-3905-42c2-ac92-f60ba644b256",
      "metadata": {
        "id": "ea32fbfb-3905-42c2-ac92-f60ba644b256",
        "outputId": "5d730884-a097-4317-bf22-a2aea6538e80"
      },
      "outputs": [
        {
          "name": "stdout",
          "output_type": "stream",
          "text": [
            "4234\n"
          ]
        }
      ],
      "source": [
        "print(int(\"4234\"))"
      ]
    },
    {
      "cell_type": "markdown",
      "id": "d9cb5a46-1dae-4273-8dd9-07acd477f0b0",
      "metadata": {
        "id": "d9cb5a46-1dae-4273-8dd9-07acd477f0b0"
      },
      "source": [
        "### isinstance()\n",
        "- Returns True if a specified object is an instance of a specified object\n",
        "- The isinstance() function returns True if the specified object is of the specified type, otherwise False.\n",
        "- If the type parameter is a tuple, this function will return True if the object is one of the types in the tuple.\n",
        "- isinstance(object, type) "
      ]
    },
    {
      "cell_type": "code",
      "execution_count": null,
      "id": "0af4146c-08a2-402d-8f1d-362df5163fce",
      "metadata": {
        "id": "0af4146c-08a2-402d-8f1d-362df5163fce",
        "outputId": "06ecc3f6-77b5-4060-891d-7a82f02abee0"
      },
      "outputs": [
        {
          "name": "stdout",
          "output_type": "stream",
          "text": [
            "False\n"
          ]
        }
      ],
      "source": [
        "x = isinstance(45.5, int)\n",
        "print(x)"
      ]
    },
    {
      "cell_type": "markdown",
      "id": "c5d36b6f-2280-4e51-9737-1d5b57709228",
      "metadata": {
        "id": "c5d36b6f-2280-4e51-9737-1d5b57709228"
      },
      "source": [
        "### issubclass()\n",
        "- Returns True if a specified class is a subclass of a specified object\n",
        "- issubclass(object, subclass) "
      ]
    },
    {
      "cell_type": "code",
      "execution_count": null,
      "id": "7a956cd8-b25f-4758-b660-4e46e70efb9c",
      "metadata": {
        "id": "7a956cd8-b25f-4758-b660-4e46e70efb9c",
        "outputId": "7b042319-9adb-4225-ccb4-89bb8c87f52f"
      },
      "outputs": [
        {
          "name": "stdout",
          "output_type": "stream",
          "text": [
            "True\n"
          ]
        }
      ],
      "source": [
        "class myAge:\n",
        "  age = 36\n",
        "class myObj(myAge):\n",
        "  name = \"John\"\n",
        "  age = myAge\n",
        "x = issubclass(myObj,myAge)\n",
        "print(x)"
      ]
    },
    {
      "cell_type": "markdown",
      "id": "29fe18c1-057c-4404-aa4c-090f12dd6be7",
      "metadata": {
        "id": "29fe18c1-057c-4404-aa4c-090f12dd6be7"
      },
      "source": [
        "### iter()\n",
        "- Returns an iterator object\n",
        "- iter(object, sentinel) \n",
        "- object -Required. An iterable object\n",
        "- sentinel- Optional. If the object is a callable object the iteration will stop when the returned value is the same as the sentinel\n"
      ]
    },
    {
      "cell_type": "code",
      "execution_count": null,
      "id": "64598762-faaf-4d94-bf0c-a65b4acee66c",
      "metadata": {
        "id": "64598762-faaf-4d94-bf0c-a65b4acee66c",
        "outputId": "6ff7db2d-0a62-42a0-fb0c-98e644271625"
      },
      "outputs": [
        {
          "name": "stdout",
          "output_type": "stream",
          "text": [
            "apple\n"
          ]
        }
      ],
      "source": [
        "x = iter([\"apple\", \"banana\", \"cherry\"])\n",
        "print(next(x))\n",
        " "
      ]
    },
    {
      "cell_type": "code",
      "execution_count": null,
      "id": "2834651c",
      "metadata": {
        "id": "2834651c",
        "outputId": "dd3d8238-fa12-4b7f-96c1-1afba54f38f3"
      },
      "outputs": [
        {
          "data": {
            "text/plain": [
              "<list_iterator at 0x1b433898040>"
            ]
          },
          "execution_count": 124,
          "metadata": {},
          "output_type": "execute_result"
        }
      ],
      "source": [
        "x"
      ]
    },
    {
      "cell_type": "code",
      "execution_count": null,
      "id": "26f03ee0",
      "metadata": {
        "id": "26f03ee0",
        "outputId": "12140928-82c7-4101-ff3d-db43ef88c03e"
      },
      "outputs": [
        {
          "ename": "StopIteration",
          "evalue": "",
          "output_type": "error",
          "traceback": [
            "\u001b[1;31m---------------------------------------------------------------------------\u001b[0m",
            "\u001b[1;31mStopIteration\u001b[0m                             Traceback (most recent call last)",
            "Input \u001b[1;32mIn [123]\u001b[0m, in \u001b[0;36m<cell line: 1>\u001b[1;34m()\u001b[0m\n\u001b[1;32m----> 1\u001b[0m \u001b[38;5;28mprint\u001b[39m(\u001b[38;5;28;43mnext\u001b[39;49m\u001b[43m(\u001b[49m\u001b[43mx\u001b[49m\u001b[43m)\u001b[49m)\n",
            "\u001b[1;31mStopIteration\u001b[0m: "
          ]
        }
      ],
      "source": [
        "print(next(x))"
      ]
    },
    {
      "cell_type": "code",
      "execution_count": null,
      "id": "93653b5f",
      "metadata": {
        "id": "93653b5f"
      },
      "outputs": [],
      "source": [
        "for i in x:\n",
        "    print(i)"
      ]
    },
    {
      "cell_type": "markdown",
      "id": "284cb516-9511-4e60-b1df-a52a20baa089",
      "metadata": {
        "id": "284cb516-9511-4e60-b1df-a52a20baa089"
      },
      "source": [
        "## len()\n",
        "- Returns the length of an object"
      ]
    },
    {
      "cell_type": "code",
      "execution_count": null,
      "id": "28bddb06-02ab-48ca-bd8c-466e85a49043",
      "metadata": {
        "id": "28bddb06-02ab-48ca-bd8c-466e85a49043",
        "outputId": "9ab0ecef-2f6c-4cfb-f513-d5c6781f0b4c"
      },
      "outputs": [
        {
          "name": "stdout",
          "output_type": "stream",
          "text": [
            "3\n"
          ]
        }
      ],
      "source": [
        "mytuple = (\"apple\", \"banana\", \"cherry\")\n",
        "x = len(mytuple) \n",
        "print(x)"
      ]
    },
    {
      "cell_type": "code",
      "execution_count": null,
      "id": "4b86e842",
      "metadata": {
        "id": "4b86e842",
        "outputId": "59193933-eefd-47c4-e1ce-df6777ffbd2b"
      },
      "outputs": [
        {
          "data": {
            "text/plain": [
              "9"
            ]
          },
          "execution_count": 128,
          "metadata": {},
          "output_type": "execute_result"
        }
      ],
      "source": [
        "len('EduBridge')"
      ]
    },
    {
      "cell_type": "code",
      "execution_count": null,
      "id": "15d1b0a8",
      "metadata": {
        "id": "15d1b0a8",
        "outputId": "ae849fa9-0d44-4899-8cb8-0166960eaccb"
      },
      "outputs": [
        {
          "data": {
            "text/plain": [
              "3"
            ]
          },
          "execution_count": 129,
          "metadata": {},
          "output_type": "execute_result"
        }
      ],
      "source": [
        "len([\"apple\", \"banana\", \"cherry\"])"
      ]
    },
    {
      "cell_type": "code",
      "execution_count": null,
      "id": "30776cc9",
      "metadata": {
        "id": "30776cc9",
        "outputId": "63bf8200-c8af-4099-831c-a4233a084bfb"
      },
      "outputs": [
        {
          "data": {
            "text/plain": [
              "4"
            ]
          },
          "execution_count": 131,
          "metadata": {},
          "output_type": "execute_result"
        }
      ],
      "source": [
        "len((2,34,556,56))"
      ]
    },
    {
      "cell_type": "markdown",
      "id": "1d62a463-c081-4dae-a422-3c6cddca14a3",
      "metadata": {
        "id": "1d62a463-c081-4dae-a422-3c6cddca14a3"
      },
      "source": [
        "### list()\n",
        "- Returns a list"
      ]
    },
    {
      "cell_type": "code",
      "execution_count": null,
      "id": "550f69f2-c5f2-46bb-816a-02728e470a78",
      "metadata": {
        "id": "550f69f2-c5f2-46bb-816a-02728e470a78",
        "outputId": "8798482e-7d17-4ba9-a19b-cf85f0a49a5d"
      },
      "outputs": [
        {
          "name": "stdout",
          "output_type": "stream",
          "text": [
            "['apple', 'banana', 'cherry']\n"
          ]
        }
      ],
      "source": [
        "mytuple = (\"apple\", \"banana\", \"cherry\")\n",
        "print(list(mytuple))"
      ]
    },
    {
      "cell_type": "markdown",
      "id": "125782e2-3d72-40d4-94f0-12674b8fad68",
      "metadata": {
        "id": "125782e2-3d72-40d4-94f0-12674b8fad68"
      },
      "source": [
        "### locals()\n",
        "- Returns an updated dictionary of the current local symbol table"
      ]
    },
    {
      "cell_type": "code",
      "execution_count": null,
      "id": "e152bdb2-3f36-4229-8ec4-f9bdd959636e",
      "metadata": {
        "id": "e152bdb2-3f36-4229-8ec4-f9bdd959636e",
        "outputId": "eb43fc81-b741-4e74-cf7c-a09b4cb8cd04"
      },
      "outputs": [
        {
          "name": "stdout",
          "output_type": "stream",
          "text": [
            "{'__name__': '__main__', '__doc__': 'Automatically created module for IPython interactive environment', '__package__': None, '__loader__': None, '__spec__': None, '__builtin__': <module 'builtins' (built-in)>, '__builtins__': <module 'builtins' (built-in)>, '_ih': ['', 'x =abs(-5.45)\\nprint(x)', 'abs(-323.78)', 'mylist = [1,2,3,(1),0]\\nx = all(mylist)\\nprint(x)', \"all(('2',2,34,5))\", 'all([True,True,False])', \"mylist =[0,0,0,None,'',set(),{},0]\\nx = any(mylist)\\nprint(x)\", 'any([False,False,False])', 'ascii(\"aå \")', 'bin(7)', 'print(bin(5)[2:])', \"print(bool('ff'))\", 'print(bytearray(5))', 'print(bytes(5))', 'def x():\\n  a = 5\\n\\nprint(callable(x))\\ny=20\\nprint(callable(y))', 'x', 'def add():\\n    pass', 'callable(add)', 'callable(c)', 'print(ord(\"A\"))', 'dir(a)', 'a=120', 'dir(a)', 'print(dir(a),end=\" \")', 'print(dir(int),end=\" \")', 'a.bit_length()', 'bin(120)', 'a=12', 'a.bit_length()', 'bin(12)', 'a=7', 'a.bit_length()', 'bin(7)', 'a.as_integer_ratio()', 'a=123', 'a.as_integer_ratio()', 'a.denominator()', 'a.denominator', 'a.imag', 'a.numerator', 'a.real', 'a.tp_bytes', 'a.tp_bytes()', 'a.to_bytes()', 'a.to_bytes', 'a.to_bytes()', 'a.to_bytes(2)', 'a.bit_length()', 'b=23.5', 'print(dir(b),end=\" ,\")', 'str1=\"python\"\\nprint(dir(str1),end=\" ,\")', 'str1.capitalize()', \"'PythMn proGram'.casefold()\", 'l=[1,2,3]\\nprint(l)\\nprint(dir(l))', 'x = divmod(5, 2)\\nprint(x)', \"x = ('apple', 'banana', 'cherry')\\ny = enumerate(x,start=10)\\nprint(list(y))\", \"x = ('apple', 'banana', 'cherry')\\ny = enumerate(x)\\nprint(list(y))\", \"x = ('apple', 'banana', 'cherry')\\ny = enumerate(x,start=10)\\nprint(list(y))\", '#use a for loop over a collection\\nMonths = [\"Jan\",\"Feb\",\"Mar\",\"April\",\"May\",\"June\"]\\nfor i, m in enumerate (Months):\\n                        print(i,m)', \"a=10\\nx = 'print(a*a)'\\neval(x)\", 'x = \\'name =input(\"Enter your name:\")\\\\nprint(name)\\\\nprint(name*2)\\'\\nexec(x)', 'listobj = [0, 1, [], 4, 5, \"\", None, 8]\\n\\nprint(list(filter(None, listobj)))', 'adults = filter(find_adult, ages)', 'def find_adult(x):\\n    if x < 18:\\n        return False\\n    else:\\n        return True', 'ages = [5, 12, 17, 18, 24, 32]', 'def find_adult(x):\\n    if x < 18:\\n        return False\\n    else:\\n        return True', 'adults = filter(find_adult, ages)', 'filter(find_adult, ages)', 'list(filter(find_adult, ages))', 'numbers = [1, 3, 10, 45, 6, 50]\\ndef is_even(number):\\n           return number %2== 0  # Filtering condition\\ne=filter(is_even,numbers)\\nfor i in e:\\n    print(i)', 'numbers = [1, 3, 10, 45, 6, 50]\\ndef is_even(number):\\n           return number %2== 0  # Filtering condition\\ne=filter(is_even,numbers)\\nfor i in e:\\n    print(i)', 'print(float(\"34\"))', \"x = format(23.4545454545, '.4f')\\n\\nprint(x)\", \"x = format(23.4545454545, '.2f')\\n\\nprint(x)\", \"x = format(2345, 'b')\\n\\nprint(x)\", \"x = format(2345, 'o')\\n\\nprint(x)\", \"x = format(2345, 'x')\\n\\nprint(x)\", \"x = format(254, 'x')\\n\\nprint(x)\", \"x = format(254, 'X')\\n\\nprint(x)\", \"x = format(254, '^')\\n\\nprint(x)\", \"x = format(254,'^')\\n\\nprint(x)\", \"x = format(254,'%')\\n\\nprint(x)\", \"x = format(254,'.4%')\\n\\nprint(x)\", \"x = format(254,'.2%')\\n\\nprint(x)\", \"mylist = ['apple', 'banana', 'cherry']\\nx = frozenset(mylist)\\nprint(x)\", 'class Person:\\n  name = \"John\"\\n  age = 36\\n  country = \"Norway\"\\n\\nx = getattr(Person, \\'country\\')\\nprint(x)', 'class Person:\\n  name = \"John\"\\n  age = 36\\n  country = \"Norway\"\\n\\nx = getattr(Person, \\'age\\')\\nprint(x)', 'x = globals()\\nprint(x)', 'class Person:\\n  name = \"John\"\\n  age = 36\\n  country = \"Norway\"\\n\\nx = hasattr(Person, \\'phonenumber\\')\\nprint(x)', 'class Person:\\n  name = \"John\"\\n  age = 36\\n  country = \"Norway\"\\n\\nx = hasattr(Person, \\'age\\')\\nprint(x)', 'x=\"fgg\"\\nprint(hash(x))', 'x=\"fgg\"\\nprint(hash(x))', 'x=\"frgg\"\\nprint(hash(x))', 'print(help()).', 'print(help())', 'print(help()).', 'help(filter)', 'x = hex(255)\\nprint(x)', \"x = ('apple', 'banana', 'cherry')\\nprint(id(x))\", \"x = ('apple', 'banana', 'cherry')\\nprint(id(x))\", \"x = ('apple', 'banana', 'cherry')\\nprint(id(x))\", \"print('Enter your name:')\\nname = input()\\nprint('Hello, ' + name) \", 'print(int(\"4234\"))', 'x = isinstance(45, int)\\nprint(x)', 'x = isinstance(45.5, int)\\nprint(x)', 'class myAge:\\n  age = 36\\nclass myObj(myAge):\\n  name = \"John\"\\n  age = myAge\\nx = issubclass(myObj,myAge)\\nprint(x)', 'class myAge:\\n  age = 36\\nclass myObj():\\n  name = \"John\"\\n  age = myAge\\nx = issubclass(myObj,myAge)\\nprint(x)', 'class myAge:\\n  age = 36\\nclass myObj(MyAge):\\n  name = \"John\"\\n  age = myAge\\nx = issubclass(myObj,myAge)\\nprint(x)', 'class myAge:\\n  age = 36\\nclass myObj(myAge):\\n  name = \"John\"\\n  age = myAge\\nx = issubclass(myObj,myAge)\\nprint(x)', 'class myAge:\\n  age = 36\\nclass myObj(myAge):\\n  name = \"John\"\\n  age = myAge\\nx = issubclass(myObj,myAge)\\nprint(x)', 'x = iter([\"apple\", \"banana\", \"cherry\"])\\nprint(next(x))\\n ', 'x', 'print(next(x))', 'print(next(x))', 'print(next(x))', 'for i in x:\\n    print(i)', 'print(next(x))', 'x = iter([\"apple\", \"banana\", \"cherry\"])\\nprint(next(x))\\n ', 'for i in x:\\n    print(i)', 'for i in x:\\n    print(i)', 'x = iter([\"apple\", \"banana\", \"cherry\"])\\nprint(next(x))\\n ', 'print(next(x))', 'for i in x:\\n    print(i)', 'print(next(x))', 'x', 'for i in x:\\n    print(i)', 'mytuple = (\"apple\", \"banana\", \"cherry\")\\nx = len(mytuple) \\nprint(x)', \"len('Edu Bridge')\", \"len('EduBridge')\", 'len([\"apple\", \"banana\", \"cherry\"])', 'len(2,34,556,56)', 'len((2,34,556,56))', 'mytuple = (\"apple\", \"banana\", \"cherry\")\\nprint(list(mytuple))', 'x = locals()\\nprint(x)'], '_oh': {2: 323.78, 4: True, 5: False, 7: False, 8: \"'a\\\\xe5 '\", 9: '0b111', 15: <function x at 0x000001B432D14160>, 17: True, 22: ['__abs__', '__add__', '__and__', '__bool__', '__ceil__', '__class__', '__delattr__', '__dir__', '__divmod__', '__doc__', '__eq__', '__float__', '__floor__', '__floordiv__', '__format__', '__ge__', '__getattribute__', '__getnewargs__', '__gt__', '__hash__', '__index__', '__init__', '__init_subclass__', '__int__', '__invert__', '__le__', '__lshift__', '__lt__', '__mod__', '__mul__', '__ne__', '__neg__', '__new__', '__or__', '__pos__', '__pow__', '__radd__', '__rand__', '__rdivmod__', '__reduce__', '__reduce_ex__', '__repr__', '__rfloordiv__', '__rlshift__', '__rmod__', '__rmul__', '__ror__', '__round__', '__rpow__', '__rrshift__', '__rshift__', '__rsub__', '__rtruediv__', '__rxor__', '__setattr__', '__sizeof__', '__str__', '__sub__', '__subclasshook__', '__truediv__', '__trunc__', '__xor__', 'as_integer_ratio', 'bit_length', 'conjugate', 'denominator', 'from_bytes', 'imag', 'numerator', 'real', 'to_bytes'], 25: 7, 26: '0b1111000', 28: 4, 29: '0b1100', 31: 3, 32: '0b111', 33: (7, 1), 35: (123, 1), 37: 1, 38: 0, 39: 123, 40: 123, 44: <built-in method to_bytes of int object at 0x000001B42CA958B0>, 47: 7, 51: 'Python', 52: 'pythmn program', 67: <filter object at 0x000001B432FB4940>, 68: [18, 24, 32], 111: <list_iterator object at 0x000001B433855100>, 124: <list_iterator object at 0x000001B433898040>, 127: 10, 128: 9, 129: 3, 131: 4}, '_dh': [WindowsPath('C:/Users/karthick')], 'In': ['', 'x =abs(-5.45)\\nprint(x)', 'abs(-323.78)', 'mylist = [1,2,3,(1),0]\\nx = all(mylist)\\nprint(x)', \"all(('2',2,34,5))\", 'all([True,True,False])', \"mylist =[0,0,0,None,'',set(),{},0]\\nx = any(mylist)\\nprint(x)\", 'any([False,False,False])', 'ascii(\"aå \")', 'bin(7)', 'print(bin(5)[2:])', \"print(bool('ff'))\", 'print(bytearray(5))', 'print(bytes(5))', 'def x():\\n  a = 5\\n\\nprint(callable(x))\\ny=20\\nprint(callable(y))', 'x', 'def add():\\n    pass', 'callable(add)', 'callable(c)', 'print(ord(\"A\"))', 'dir(a)', 'a=120', 'dir(a)', 'print(dir(a),end=\" \")', 'print(dir(int),end=\" \")', 'a.bit_length()', 'bin(120)', 'a=12', 'a.bit_length()', 'bin(12)', 'a=7', 'a.bit_length()', 'bin(7)', 'a.as_integer_ratio()', 'a=123', 'a.as_integer_ratio()', 'a.denominator()', 'a.denominator', 'a.imag', 'a.numerator', 'a.real', 'a.tp_bytes', 'a.tp_bytes()', 'a.to_bytes()', 'a.to_bytes', 'a.to_bytes()', 'a.to_bytes(2)', 'a.bit_length()', 'b=23.5', 'print(dir(b),end=\" ,\")', 'str1=\"python\"\\nprint(dir(str1),end=\" ,\")', 'str1.capitalize()', \"'PythMn proGram'.casefold()\", 'l=[1,2,3]\\nprint(l)\\nprint(dir(l))', 'x = divmod(5, 2)\\nprint(x)', \"x = ('apple', 'banana', 'cherry')\\ny = enumerate(x,start=10)\\nprint(list(y))\", \"x = ('apple', 'banana', 'cherry')\\ny = enumerate(x)\\nprint(list(y))\", \"x = ('apple', 'banana', 'cherry')\\ny = enumerate(x,start=10)\\nprint(list(y))\", '#use a for loop over a collection\\nMonths = [\"Jan\",\"Feb\",\"Mar\",\"April\",\"May\",\"June\"]\\nfor i, m in enumerate (Months):\\n                        print(i,m)', \"a=10\\nx = 'print(a*a)'\\neval(x)\", 'x = \\'name =input(\"Enter your name:\")\\\\nprint(name)\\\\nprint(name*2)\\'\\nexec(x)', 'listobj = [0, 1, [], 4, 5, \"\", None, 8]\\n\\nprint(list(filter(None, listobj)))', 'adults = filter(find_adult, ages)', 'def find_adult(x):\\n    if x < 18:\\n        return False\\n    else:\\n        return True', 'ages = [5, 12, 17, 18, 24, 32]', 'def find_adult(x):\\n    if x < 18:\\n        return False\\n    else:\\n        return True', 'adults = filter(find_adult, ages)', 'filter(find_adult, ages)', 'list(filter(find_adult, ages))', 'numbers = [1, 3, 10, 45, 6, 50]\\ndef is_even(number):\\n           return number %2== 0  # Filtering condition\\ne=filter(is_even,numbers)\\nfor i in e:\\n    print(i)', 'numbers = [1, 3, 10, 45, 6, 50]\\ndef is_even(number):\\n           return number %2== 0  # Filtering condition\\ne=filter(is_even,numbers)\\nfor i in e:\\n    print(i)', 'print(float(\"34\"))', \"x = format(23.4545454545, '.4f')\\n\\nprint(x)\", \"x = format(23.4545454545, '.2f')\\n\\nprint(x)\", \"x = format(2345, 'b')\\n\\nprint(x)\", \"x = format(2345, 'o')\\n\\nprint(x)\", \"x = format(2345, 'x')\\n\\nprint(x)\", \"x = format(254, 'x')\\n\\nprint(x)\", \"x = format(254, 'X')\\n\\nprint(x)\", \"x = format(254, '^')\\n\\nprint(x)\", \"x = format(254,'^')\\n\\nprint(x)\", \"x = format(254,'%')\\n\\nprint(x)\", \"x = format(254,'.4%')\\n\\nprint(x)\", \"x = format(254,'.2%')\\n\\nprint(x)\", \"mylist = ['apple', 'banana', 'cherry']\\nx = frozenset(mylist)\\nprint(x)\", 'class Person:\\n  name = \"John\"\\n  age = 36\\n  country = \"Norway\"\\n\\nx = getattr(Person, \\'country\\')\\nprint(x)', 'class Person:\\n  name = \"John\"\\n  age = 36\\n  country = \"Norway\"\\n\\nx = getattr(Person, \\'age\\')\\nprint(x)', 'x = globals()\\nprint(x)', 'class Person:\\n  name = \"John\"\\n  age = 36\\n  country = \"Norway\"\\n\\nx = hasattr(Person, \\'phonenumber\\')\\nprint(x)', 'class Person:\\n  name = \"John\"\\n  age = 36\\n  country = \"Norway\"\\n\\nx = hasattr(Person, \\'age\\')\\nprint(x)', 'x=\"fgg\"\\nprint(hash(x))', 'x=\"fgg\"\\nprint(hash(x))', 'x=\"frgg\"\\nprint(hash(x))', 'print(help()).', 'print(help())', 'print(help()).', 'help(filter)', 'x = hex(255)\\nprint(x)', \"x = ('apple', 'banana', 'cherry')\\nprint(id(x))\", \"x = ('apple', 'banana', 'cherry')\\nprint(id(x))\", \"x = ('apple', 'banana', 'cherry')\\nprint(id(x))\", \"print('Enter your name:')\\nname = input()\\nprint('Hello, ' + name) \", 'print(int(\"4234\"))', 'x = isinstance(45, int)\\nprint(x)', 'x = isinstance(45.5, int)\\nprint(x)', 'class myAge:\\n  age = 36\\nclass myObj(myAge):\\n  name = \"John\"\\n  age = myAge\\nx = issubclass(myObj,myAge)\\nprint(x)', 'class myAge:\\n  age = 36\\nclass myObj():\\n  name = \"John\"\\n  age = myAge\\nx = issubclass(myObj,myAge)\\nprint(x)', 'class myAge:\\n  age = 36\\nclass myObj(MyAge):\\n  name = \"John\"\\n  age = myAge\\nx = issubclass(myObj,myAge)\\nprint(x)', 'class myAge:\\n  age = 36\\nclass myObj(myAge):\\n  name = \"John\"\\n  age = myAge\\nx = issubclass(myObj,myAge)\\nprint(x)', 'class myAge:\\n  age = 36\\nclass myObj(myAge):\\n  name = \"John\"\\n  age = myAge\\nx = issubclass(myObj,myAge)\\nprint(x)', 'x = iter([\"apple\", \"banana\", \"cherry\"])\\nprint(next(x))\\n ', 'x', 'print(next(x))', 'print(next(x))', 'print(next(x))', 'for i in x:\\n    print(i)', 'print(next(x))', 'x = iter([\"apple\", \"banana\", \"cherry\"])\\nprint(next(x))\\n ', 'for i in x:\\n    print(i)', 'for i in x:\\n    print(i)', 'x = iter([\"apple\", \"banana\", \"cherry\"])\\nprint(next(x))\\n ', 'print(next(x))', 'for i in x:\\n    print(i)', 'print(next(x))', 'x', 'for i in x:\\n    print(i)', 'mytuple = (\"apple\", \"banana\", \"cherry\")\\nx = len(mytuple) \\nprint(x)', \"len('Edu Bridge')\", \"len('EduBridge')\", 'len([\"apple\", \"banana\", \"cherry\"])', 'len(2,34,556,56)', 'len((2,34,556,56))', 'mytuple = (\"apple\", \"banana\", \"cherry\")\\nprint(list(mytuple))', 'x = locals()\\nprint(x)'], 'Out': {2: 323.78, 4: True, 5: False, 7: False, 8: \"'a\\\\xe5 '\", 9: '0b111', 15: <function x at 0x000001B432D14160>, 17: True, 22: ['__abs__', '__add__', '__and__', '__bool__', '__ceil__', '__class__', '__delattr__', '__dir__', '__divmod__', '__doc__', '__eq__', '__float__', '__floor__', '__floordiv__', '__format__', '__ge__', '__getattribute__', '__getnewargs__', '__gt__', '__hash__', '__index__', '__init__', '__init_subclass__', '__int__', '__invert__', '__le__', '__lshift__', '__lt__', '__mod__', '__mul__', '__ne__', '__neg__', '__new__', '__or__', '__pos__', '__pow__', '__radd__', '__rand__', '__rdivmod__', '__reduce__', '__reduce_ex__', '__repr__', '__rfloordiv__', '__rlshift__', '__rmod__', '__rmul__', '__ror__', '__round__', '__rpow__', '__rrshift__', '__rshift__', '__rsub__', '__rtruediv__', '__rxor__', '__setattr__', '__sizeof__', '__str__', '__sub__', '__subclasshook__', '__truediv__', '__trunc__', '__xor__', 'as_integer_ratio', 'bit_length', 'conjugate', 'denominator', 'from_bytes', 'imag', 'numerator', 'real', 'to_bytes'], 25: 7, 26: '0b1111000', 28: 4, 29: '0b1100', 31: 3, 32: '0b111', 33: (7, 1), 35: (123, 1), 37: 1, 38: 0, 39: 123, 40: 123, 44: <built-in method to_bytes of int object at 0x000001B42CA958B0>, 47: 7, 51: 'Python', 52: 'pythmn program', 67: <filter object at 0x000001B432FB4940>, 68: [18, 24, 32], 111: <list_iterator object at 0x000001B433855100>, 124: <list_iterator object at 0x000001B433898040>, 127: 10, 128: 9, 129: 3, 131: 4}, 'get_ipython': <bound method InteractiveShell.get_ipython of <ipykernel.zmqshell.ZMQInteractiveShell object at 0x000001B431C865E0>>, 'exit': <IPython.core.autocall.ZMQExitAutocall object at 0x000001B431C86CA0>, 'quit': <IPython.core.autocall.ZMQExitAutocall object at 0x000001B431C86CA0>, '_': 4, '__': 3, '___': 9, '_i': 'mytuple = (\"apple\", \"banana\", \"cherry\")\\nprint(list(mytuple))', '_ii': 'len((2,34,556,56))', '_iii': 'len(2,34,556,56)', '_i1': 'x =abs(-5.45)\\nprint(x)', 'x': {...}, '_i2': 'abs(-323.78)', '_2': 323.78, '_i3': 'mylist = [1,2,3,(1),0]\\nx = all(mylist)\\nprint(x)', 'mylist': ['apple', 'banana', 'cherry'], '_i4': \"all(('2',2,34,5))\", '_4': True, '_i5': 'all([True,True,False])', '_5': False, '_i6': \"mylist =[0,0,0,None,'',set(),{},0]\\nx = any(mylist)\\nprint(x)\", '_i7': 'any([False,False,False])', '_7': False, '_i8': 'ascii(\"aå \")', '_8': \"'a\\\\xe5 '\", '_i9': 'bin(7)', '_9': '0b111', '_i10': 'print(bin(5)[2:])', '_i11': \"print(bool('ff'))\", '_i12': 'print(bytearray(5))', '_i13': 'print(bytes(5))', '_i14': 'def x():\\n  a = 5\\n\\nprint(callable(x))\\ny=20\\nprint(callable(y))', 'y': <enumerate object at 0x000001B433866F80>, '_i15': 'x', '_15': <function x at 0x000001B432D14160>, '_i16': 'def add():\\n    pass', 'add': <function add at 0x000001B432D14A60>, '_i17': 'callable(add)', '_17': True, '_i18': 'callable(c)', '_i19': 'print(ord(\"A\"))', '_i20': 'dir(a)', '_i21': 'a=120', 'a': 10, '_i22': 'dir(a)', '_22': ['__abs__', '__add__', '__and__', '__bool__', '__ceil__', '__class__', '__delattr__', '__dir__', '__divmod__', '__doc__', '__eq__', '__float__', '__floor__', '__floordiv__', '__format__', '__ge__', '__getattribute__', '__getnewargs__', '__gt__', '__hash__', '__index__', '__init__', '__init_subclass__', '__int__', '__invert__', '__le__', '__lshift__', '__lt__', '__mod__', '__mul__', '__ne__', '__neg__', '__new__', '__or__', '__pos__', '__pow__', '__radd__', '__rand__', '__rdivmod__', '__reduce__', '__reduce_ex__', '__repr__', '__rfloordiv__', '__rlshift__', '__rmod__', '__rmul__', '__ror__', '__round__', '__rpow__', '__rrshift__', '__rshift__', '__rsub__', '__rtruediv__', '__rxor__', '__setattr__', '__sizeof__', '__str__', '__sub__', '__subclasshook__', '__truediv__', '__trunc__', '__xor__', 'as_integer_ratio', 'bit_length', 'conjugate', 'denominator', 'from_bytes', 'imag', 'numerator', 'real', 'to_bytes'], '_i23': 'print(dir(a),end=\" \")', '_i24': 'print(dir(int),end=\" \")', '_i25': 'a.bit_length()', '_25': 7, '_i26': 'bin(120)', '_26': '0b1111000', '_i27': 'a=12', '_i28': 'a.bit_length()', '_28': 4, '_i29': 'bin(12)', '_29': '0b1100', '_i30': 'a=7', '_i31': 'a.bit_length()', '_31': 3, '_i32': 'bin(7)', '_32': '0b111', '_i33': 'a.as_integer_ratio()', '_33': (7, 1), '_i34': 'a=123', '_i35': 'a.as_integer_ratio()', '_35': (123, 1), '_i36': 'a.denominator()', '_i37': 'a.denominator', '_37': 1, '_i38': 'a.imag', '_38': 0, '_i39': 'a.numerator', '_39': 123, '_i40': 'a.real', '_40': 123, '_i41': 'a.tp_bytes', '_i42': 'a.tp_bytes()', '_i43': 'a.to_bytes()', '_i44': 'a.to_bytes', '_44': <built-in method to_bytes of int object at 0x000001B42CA958B0>, '_i45': 'a.to_bytes()', '_i46': 'a.to_bytes(2)', '_i47': 'a.bit_length()', '_47': 7, '_i48': 'b=23.5', 'b': 23.5, '_i49': 'print(dir(b),end=\" ,\")', '_i50': 'str1=\"python\"\\nprint(dir(str1),end=\" ,\")', 'str1': 'python', '_i51': 'str1.capitalize()', '_51': 'Python', '_i52': \"'PythMn proGram'.casefold()\", '_52': 'pythmn program', '_i53': '\\nl=[1,2,3]\\nprint(l)\\nprint(dir(l))', 'l': [1, 2, 3], '_i54': 'x = divmod(5, 2)\\nprint(x)', '_i55': \"x = ('apple', 'banana', 'cherry')\\ny = enumerate(x,start=10)\\nprint(list(y))\", '_i56': \"x = ('apple', 'banana', 'cherry')\\ny = enumerate(x)\\nprint(list(y))\", '_i57': \"x = ('apple', 'banana', 'cherry')\\ny = enumerate(x,start=10)\\nprint(list(y))\", '_i58': '#use a for loop over a collection\\nMonths = [\"Jan\",\"Feb\",\"Mar\",\"April\",\"May\",\"June\"]\\nfor i, m in enumerate (Months):\\n                        print(i,m)', 'Months': ['Jan', 'Feb', 'Mar', 'April', 'May', 'June'], 'i': 'cherry', 'm': 'June', '_i59': \"a=10\\nx = 'print(a*a)'\\neval(x)\", '_i60': 'x = \\'name =input(\"Enter your name:\")\\\\nprint(name)\\\\nprint(name*2)\\'\\nexec(x)', 'name': 'karthik', '_i61': 'listobj = [0, 1, [], 4, 5, \"\", None, 8]\\n\\nprint(list(filter(None, listobj)))', 'listobj': [0, 1, [], 4, 5, '', None, 8], '_i62': 'adults = filter(find_adult, ages)', '_i63': 'def find_adult(x):\\n    if x < 18:\\n        return False\\n    else:\\n        return True', 'find_adult': <function find_adult at 0x000001B433810CA0>, '_i64': 'ages = [5, 12, 17, 18, 24, 32]', 'ages': [5, 12, 17, 18, 24, 32], '_i65': 'def find_adult(x):\\n    if x < 18:\\n        return False\\n    else:\\n        return True', '_i66': 'adults = filter(find_adult, ages)', 'adults': <filter object at 0x000001B433062D90>, '_i67': 'filter(find_adult, ages)', '_67': <filter object at 0x000001B432FB4940>, '_i68': 'list(filter(find_adult, ages))', '_68': [18, 24, 32], '_i69': 'numbers = [1, 3, 10, 45, 6, 50]\\ndef is_even(number):\\n           return number %2== 0  # Filtering condition\\ne=filter(is_even,numbers)\\nfor i in e:\\n    print(i)', 'numbers': [1, 3, 10, 45, 6, 50], 'is_even': <function is_even at 0x000001B431CE6A60>, 'e': <filter object at 0x000001B433035490>, '_i70': 'numbers = [1, 3, 10, 45, 6, 50]\\ndef is_even(number):\\n           return number %2== 0  # Filtering condition\\ne=filter(is_even,numbers)\\nfor i in e:\\n    print(i)', '_i71': 'print(float(\"34\"))', '_i72': \"x = format(23.4545454545, '.4f')\\n\\nprint(x)\", '_i73': \"x = format(23.4545454545, '.2f')\\n\\nprint(x)\", '_i74': \"x = format(2345, 'b')\\n\\nprint(x)\", '_i75': \"x = format(2345, 'o')\\n\\nprint(x)\", '_i76': \"x = format(2345, 'x')\\n\\nprint(x)\", '_i77': \"x = format(254, 'x')\\n\\nprint(x)\", '_i78': \"x = format(254, 'X')\\n\\nprint(x)\", '_i79': \"x = format(254, '^')\\n\\nprint(x)\", '_i80': \"x = format(254,'^')\\n\\nprint(x)\", '_i81': \"x = format(254,'%')\\n\\nprint(x)\", '_i82': \"x = format(254,'.4%')\\n\\nprint(x)\", '_i83': \"x = format(254,'.2%')\\n\\nprint(x)\", '_i84': \"mylist = ['apple', 'banana', 'cherry']\\nx = frozenset(mylist)\\nprint(x)\", '_i85': 'class Person:\\n  name = \"John\"\\n  age = 36\\n  country = \"Norway\"\\n\\nx = getattr(Person, \\'country\\')\\nprint(x)', 'Person': <class '__main__.Person'>, '_i86': 'class Person:\\n  name = \"John\"\\n  age = 36\\n  country = \"Norway\"\\n\\nx = getattr(Person, \\'age\\')\\nprint(x)', '_i87': 'x = globals()\\nprint(x)', '_i88': 'class Person:\\n  name = \"John\"\\n  age = 36\\n  country = \"Norway\"\\n\\nx = hasattr(Person, \\'phonenumber\\')\\nprint(x)', '_i89': 'class Person:\\n  name = \"John\"\\n  age = 36\\n  country = \"Norway\"\\n\\nx = hasattr(Person, \\'age\\')\\nprint(x)', '_i90': 'x=\"fgg\"\\nprint(hash(x))', '_i91': 'x=\"fgg\"\\nprint(hash(x))', '_i92': 'x=\"frgg\"\\nprint(hash(x))', '_i93': 'print(help()).', '_i94': 'print(help())', '_i95': 'print(help()).', '_i96': 'help(filter)', '_i97': 'x = hex(255)\\nprint(x)', '_i98': \"x = ('apple', 'banana', 'cherry')\\nprint(id(x))\", '_i99': \"x = ('apple', 'banana', 'cherry')\\nprint(id(x))\", '_i100': \"x = ('apple', 'banana', 'cherry')\\nprint(id(x))\", '_i101': \"print('Enter your name:')\\nname = input()\\nprint('Hello, ' + name) \", '_i102': 'print(int(\"4234\"))', '_i103': 'x = isinstance(45, int)\\nprint(x)', '_i104': 'x = isinstance(45.5, int)\\nprint(x)', '_i105': 'class myAge:\\n  age = 36\\nclass myObj(myAge):\\n  name = \"John\"\\n  age = myAge\\nx = issubclass(myObj,myAge)\\nprint(x)', 'myAge': <class '__main__.myAge'>, 'myObj': <class '__main__.myObj'>, '_i106': 'class myAge:\\n  age = 36\\nclass myObj():\\n  name = \"John\"\\n  age = myAge\\nx = issubclass(myObj,myAge)\\nprint(x)', '_i107': 'class myAge:\\n  age = 36\\nclass myObj(MyAge):\\n  name = \"John\"\\n  age = myAge\\nx = issubclass(myObj,myAge)\\nprint(x)', '_i108': 'class myAge:\\n  age = 36\\nclass myObj(myAge):\\n  name = \"John\"\\n  age = myAge\\nx = issubclass(myObj,myAge)\\nprint(x)', '_i109': 'class myAge:\\n  age = 36\\nclass myObj(myAge):\\n  name = \"John\"\\n  age = myAge\\nx = issubclass(myObj,myAge)\\nprint(x)', '_i110': 'x = iter([\"apple\", \"banana\", \"cherry\"])\\nprint(next(x))\\n ', '_i111': 'x', '_111': <list_iterator object at 0x000001B433855100>, '_i112': 'print(next(x))', '_i113': 'print(next(x))', '_i114': 'print(next(x))', '_i115': 'for i in x:\\n    print(i)', '_i116': 'print(next(x))', '_i117': 'x = iter([\"apple\", \"banana\", \"cherry\"])\\nprint(next(x))\\n ', '_i118': 'for i in x:\\n    print(i)', '_i119': 'for i in x:\\n    print(i)', '_i120': 'x = iter([\"apple\", \"banana\", \"cherry\"])\\nprint(next(x))\\n ', '_i121': 'print(next(x))', '_i122': 'for i in x:\\n    print(i)', '_i123': 'print(next(x))', '_i124': 'x', '_124': <list_iterator object at 0x000001B433898040>, '_i125': 'for i in x:\\n    print(i)', '_i126': 'mytuple = (\"apple\", \"banana\", \"cherry\")\\nx = len(mytuple) \\nprint(x)', 'mytuple': ('apple', 'banana', 'cherry'), '_i127': \"len('Edu Bridge')\", '_127': 10, '_i128': \"len('EduBridge')\", '_128': 9, '_i129': 'len([\"apple\", \"banana\", \"cherry\"])', '_129': 3, '_i130': 'len(2,34,556,56)', '_i131': 'len((2,34,556,56))', '_131': 4, '_i132': 'mytuple = (\"apple\", \"banana\", \"cherry\")\\nprint(list(mytuple))', '_i133': 'x = locals()\\nprint(x)'}\n"
          ]
        }
      ],
      "source": [
        "x = locals()\n",
        "print(x)"
      ]
    },
    {
      "cell_type": "markdown",
      "id": "ab855d1b-a6fd-42c5-9842-4ce418666f2a",
      "metadata": {
        "id": "ab855d1b-a6fd-42c5-9842-4ce418666f2a"
      },
      "source": [
        "### map()\n",
        "- Returns the specified iterator with the specified function applied to each item\n",
        "- The map() function executes a specified function for each item in an iterable. The item is sent to the function as a parameter.\n",
        "- map(function, iterables) "
      ]
    },
    {
      "cell_type": "code",
      "execution_count": null,
      "id": "afb2001f-d273-4081-b297-f65f60e4c1c6",
      "metadata": {
        "id": "afb2001f-d273-4081-b297-f65f60e4c1c6"
      },
      "outputs": [],
      "source": [
        "def find_len(a):\n",
        "    return len(a)"
      ]
    },
    {
      "cell_type": "code",
      "execution_count": null,
      "id": "227613e9",
      "metadata": {
        "id": "227613e9"
      },
      "outputs": [],
      "source": [
        "lengths=map(find_len, ('apple', 'banana', 'cherry',\"EduBridge\"))\n"
      ]
    },
    {
      "cell_type": "code",
      "execution_count": null,
      "id": "d6e0a4f7",
      "metadata": {
        "id": "d6e0a4f7",
        "outputId": "4f1c19e0-b197-48ef-b59a-3b519ca66525"
      },
      "outputs": [
        {
          "data": {
            "text/plain": [
              "[]"
            ]
          },
          "execution_count": 154,
          "metadata": {},
          "output_type": "execute_result"
        }
      ],
      "source": [
        "list(lengths)"
      ]
    },
    {
      "cell_type": "code",
      "execution_count": null,
      "id": "3f010b5c",
      "metadata": {
        "id": "3f010b5c",
        "outputId": "5fd0152d-a11e-406b-b9f1-eb9d28527cf5"
      },
      "outputs": [
        {
          "name": "stdout",
          "output_type": "stream",
          "text": [
            "5\n",
            "6\n",
            "6\n",
            "9\n"
          ]
        }
      ],
      "source": [
        "for length in lengths:\n",
        "    print(length)"
      ]
    },
    {
      "cell_type": "code",
      "execution_count": null,
      "id": "3e46317a",
      "metadata": {
        "id": "3e46317a"
      },
      "outputs": [],
      "source": [
        "list(x)"
      ]
    },
    {
      "cell_type": "code",
      "execution_count": null,
      "id": "c6ff5094",
      "metadata": {
        "id": "c6ff5094"
      },
      "outputs": [],
      "source": [
        "for i in x:\n",
        "    print(i)"
      ]
    },
    {
      "cell_type": "code",
      "execution_count": null,
      "id": "56c073a7",
      "metadata": {
        "id": "56c073a7"
      },
      "outputs": [],
      "source": [
        "print(x)\n",
        "#convert the map into a list, for readability:\n",
        "print(list(x))"
      ]
    },
    {
      "cell_type": "code",
      "execution_count": null,
      "id": "e49c1674",
      "metadata": {
        "id": "e49c1674",
        "outputId": "eff12d3d-df38-4597-9e59-ee91fa2fe9a6"
      },
      "outputs": [
        {
          "data": {
            "text/plain": [
              "['45', '23', '56']"
            ]
          },
          "execution_count": 157,
          "metadata": {},
          "output_type": "execute_result"
        }
      ],
      "source": [
        "\"45 23 56 \".split()"
      ]
    },
    {
      "cell_type": "code",
      "execution_count": null,
      "id": "bd5944df",
      "metadata": {
        "id": "bd5944df",
        "outputId": "6de44f55-6eb0-4401-b067-4d96eb46d763"
      },
      "outputs": [
        {
          "name": "stdout",
          "output_type": "stream",
          "text": [
            "45 23 56\n"
          ]
        }
      ],
      "source": [
        "a,b,c=tuple(map(int,input().split()))"
      ]
    },
    {
      "cell_type": "code",
      "execution_count": null,
      "id": "a5907e83",
      "metadata": {
        "id": "a5907e83",
        "outputId": "ba9f1738-5a1e-4b51-d759-873e62d9ba68"
      },
      "outputs": [
        {
          "name": "stdout",
          "output_type": "stream",
          "text": [
            "124\n"
          ]
        }
      ],
      "source": [
        "print(a+b+c)"
      ]
    },
    {
      "cell_type": "code",
      "execution_count": null,
      "id": "542dfdd0",
      "metadata": {
        "id": "542dfdd0"
      },
      "outputs": [],
      "source": [
        ""
      ]
    },
    {
      "cell_type": "code",
      "execution_count": null,
      "id": "c938e015",
      "metadata": {
        "id": "c938e015",
        "outputId": "f1b691d4-5895-45dd-a7a5-28d7a3334562"
      },
      "outputs": [
        {
          "data": {
            "text/plain": [
              "['56', '5.65', '47.566']"
            ]
          },
          "execution_count": 165,
          "metadata": {},
          "output_type": "execute_result"
        }
      ],
      "source": [
        "\"56#5.65#47.566\".split('#')"
      ]
    },
    {
      "cell_type": "code",
      "execution_count": null,
      "id": "35c0455c",
      "metadata": {
        "id": "35c0455c",
        "outputId": "0cee6577-3298-415a-f26c-dca898377306"
      },
      "outputs": [
        {
          "name": "stdout",
          "output_type": "stream",
          "text": [
            "5.6 4.5 6.3\n"
          ]
        }
      ],
      "source": [
        "n1,n2,n3=tuple(map(float,input().split()))"
      ]
    },
    {
      "cell_type": "code",
      "execution_count": null,
      "id": "280515a8",
      "metadata": {
        "id": "280515a8",
        "outputId": "44c38646-2405-4dfa-e910-5679d96d4be5"
      },
      "outputs": [
        {
          "name": "stdout",
          "output_type": "stream",
          "text": [
            "5.6 4.5 6.3\n"
          ]
        }
      ],
      "source": [
        "print(n1,n2,n3)"
      ]
    },
    {
      "cell_type": "code",
      "execution_count": null,
      "id": "8e50deee",
      "metadata": {
        "id": "8e50deee",
        "outputId": "7da5edc6-1621-400e-c7df-1644f7775a98"
      },
      "outputs": [
        {
          "name": "stdout",
          "output_type": "stream",
          "text": [
            "<class 'float'>\n"
          ]
        }
      ],
      "source": [
        "print(type(n1))"
      ]
    },
    {
      "cell_type": "code",
      "execution_count": null,
      "id": "60d4eded",
      "metadata": {
        "id": "60d4eded"
      },
      "outputs": [],
      "source": [
        ""
      ]
    },
    {
      "cell_type": "markdown",
      "id": "63a5f9fd-fa23-4602-9c0f-020f517f2bdd",
      "metadata": {
        "id": "63a5f9fd-fa23-4602-9c0f-020f517f2bdd"
      },
      "source": [
        "### max()\n",
        "- Returns the largest item in an iterable\n",
        "- max(iterable)  or max(n1, n2, n3, ...) "
      ]
    },
    {
      "cell_type": "code",
      "execution_count": null,
      "id": "98916065-95c2-422a-8664-59d6b6d21892",
      "metadata": {
        "id": "98916065-95c2-422a-8664-59d6b6d21892",
        "outputId": "35e292d5-aa62-4742-d0b2-9a0b19c3712b"
      },
      "outputs": [
        {
          "name": "stdout",
          "output_type": "stream",
          "text": [
            "Vicky\n",
            "676\n"
          ]
        }
      ],
      "source": [
        "x = max(\"Mike\", \"John\", \"Vicky\")\n",
        "print(x)\n",
        "y=[1,5,676,78]\n",
        "print(max(y))"
      ]
    },
    {
      "cell_type": "code",
      "execution_count": null,
      "id": "0484bcec",
      "metadata": {
        "id": "0484bcec",
        "outputId": "bca47da9-3045-4130-bb3a-0a63d8108843"
      },
      "outputs": [
        {
          "data": {
            "text/plain": [
              "-455"
            ]
          },
          "execution_count": 170,
          "metadata": {},
          "output_type": "execute_result"
        }
      ],
      "source": [
        "min([433,56,-455,677878])"
      ]
    },
    {
      "cell_type": "code",
      "execution_count": null,
      "id": "5faac6d3",
      "metadata": {
        "id": "5faac6d3"
      },
      "outputs": [],
      "source": [
        ""
      ]
    },
    {
      "cell_type": "markdown",
      "id": "f581702a-d709-4868-ac6b-bafa74040119",
      "metadata": {
        "id": "f581702a-d709-4868-ac6b-bafa74040119"
      },
      "source": [
        "### memoryview()\n",
        "- Returns a memory view object\n",
        "- memoryview(obj) \n",
        "- obj -A Bytes object or a Bytearray object."
      ]
    },
    {
      "cell_type": "code",
      "execution_count": null,
      "id": "fbe2a351-c2a3-471f-b651-35fdf73b97cc",
      "metadata": {
        "id": "fbe2a351-c2a3-471f-b651-35fdf73b97cc",
        "outputId": "f7bffd34-ef84-4edd-9397-a05cfe9c17b9"
      },
      "outputs": [
        {
          "name": "stdout",
          "output_type": "stream",
          "text": [
            "<memory at 0x000001B4337DAA00>\n",
            "72\n",
            "111\n"
          ]
        }
      ],
      "source": [
        "x = memoryview(b\"Hello\")\n",
        "print(x)\n",
        "#return the Unicode of the first character\n",
        "print(x[0])\n",
        "#return the Unicode of the second character\n",
        "print(x[4])"
      ]
    },
    {
      "cell_type": "markdown",
      "id": "9ebcb991-2c38-4b3b-b61c-99c928b92b20",
      "metadata": {
        "id": "9ebcb991-2c38-4b3b-b61c-99c928b92b20"
      },
      "source": [
        "### min()\n",
        "- Returns the smallest item in an iterable\n",
        "- min(iterable)  or min(n1, n2, n3, ...)"
      ]
    },
    {
      "cell_type": "code",
      "execution_count": null,
      "id": "8972d259-00ac-4082-9741-c92564516aa8",
      "metadata": {
        "id": "8972d259-00ac-4082-9741-c92564516aa8",
        "outputId": "2a6a1859-3178-4071-f623-8a6da288d973"
      },
      "outputs": [
        {
          "name": "stdout",
          "output_type": "stream",
          "text": [
            "John\n",
            "1\n"
          ]
        }
      ],
      "source": [
        "x = min(\"Mike\", \"John\", \"Vicky\")\n",
        "print(x)\n",
        "y=[1,5,676,78]\n",
        "print(min(y))"
      ]
    },
    {
      "cell_type": "markdown",
      "id": "fbcb95f7-ab74-467f-9605-fbc9e7fae733",
      "metadata": {
        "id": "fbcb95f7-ab74-467f-9605-fbc9e7fae733"
      },
      "source": [
        "### next()\n",
        "- Returns the next item in an iterable\n",
        "- next(iterable, default) "
      ]
    },
    {
      "cell_type": "code",
      "execution_count": null,
      "id": "97ebc11f-59c2-47e0-b918-43cace0a99a3",
      "metadata": {
        "id": "97ebc11f-59c2-47e0-b918-43cace0a99a3",
        "outputId": "e24368e1-7c6d-4863-9387-871cfd9f82a4"
      },
      "outputs": [
        {
          "name": "stdout",
          "output_type": "stream",
          "text": [
            "apple\n",
            "banana\n",
            "cherry\n"
          ]
        }
      ],
      "source": [
        "mylist = iter([\"apple\", \"banana\", \"cherry\"])\n",
        "x = next(mylist)\n",
        "print(x)\n",
        "x = next(mylist)\n",
        "print(x)\n",
        "x = next(mylist)\n",
        "print(x) "
      ]
    },
    {
      "cell_type": "markdown",
      "id": "2f8815f7-27dc-479f-9279-f79674f7d20b",
      "metadata": {
        "id": "2f8815f7-27dc-479f-9279-f79674f7d20b"
      },
      "source": [
        "### object()\n",
        "- Returns a new object\n",
        "- The object() function returns an empty object.\n",
        "- You cannot add new properties or methods to this object.\n",
        "- This object is the base for all classes, it holds the built-in properties and methods which are default for all classes.\n"
      ]
    },
    {
      "cell_type": "code",
      "execution_count": null,
      "id": "adc223af-ba6a-40cd-8c1b-da7038dbd614",
      "metadata": {
        "id": "adc223af-ba6a-40cd-8c1b-da7038dbd614",
        "outputId": "8336dad2-2965-41e0-ed89-4cb7ed1261c6"
      },
      "outputs": [
        {
          "name": "stdout",
          "output_type": "stream",
          "text": [
            "['__class__', '__delattr__', '__dir__', '__doc__', '__eq__', '__format__', '__ge__', '__getattribute__', '__gt__', '__hash__', '__init__', '__init_subclass__', '__le__', '__lt__', '__ne__', '__new__', '__reduce__', '__reduce_ex__', '__repr__', '__setattr__', '__sizeof__', '__str__', '__subclasshook__']\n"
          ]
        }
      ],
      "source": [
        "x = object()\n",
        "print(dir(x))"
      ]
    },
    {
      "cell_type": "code",
      "execution_count": null,
      "id": "14596e31",
      "metadata": {
        "id": "14596e31"
      },
      "outputs": [],
      "source": [
        ""
      ]
    },
    {
      "cell_type": "markdown",
      "id": "1178d842-45d5-4bb8-9623-d1ac678f7f7c",
      "metadata": {
        "id": "1178d842-45d5-4bb8-9623-d1ac678f7f7c"
      },
      "source": [
        "###oct()\n",
        "- Converts a number into an octal\n",
        "- oct(int) "
      ]
    },
    {
      "cell_type": "code",
      "execution_count": null,
      "id": "5dd2084b-3b41-4a47-8d21-fce7f2d45c22",
      "metadata": {
        "id": "5dd2084b-3b41-4a47-8d21-fce7f2d45c22"
      },
      "outputs": [],
      "source": [
        "print(oct(20))"
      ]
    },
    {
      "cell_type": "markdown",
      "id": "12230a40-f70e-4425-96e5-b9fc103182d0",
      "metadata": {
        "id": "12230a40-f70e-4425-96e5-b9fc103182d0"
      },
      "source": [
        "### open()\n",
        "- Opens a file and returns a file object\n",
        "- open(file, mode) "
      ]
    },
    {
      "cell_type": "code",
      "execution_count": null,
      "id": "4232ecac-a8d8-438b-bb51-0470c6967060",
      "metadata": {
        "id": "4232ecac-a8d8-438b-bb51-0470c6967060",
        "outputId": "40b7ed75-8086-4d20-9a78-9ef4edf967ce"
      },
      "outputs": [
        {
          "name": "stdout",
          "output_type": "stream",
          "text": [
            "PYTHON-Types and Values\n",
            "-----------------------------------------------------\n",
            "1.Which condition evaluates to a true statement?\n",
            "x = 5 > 7\n",
            "x = 7 < 5\n",
            "x = 5 = 7\n",
            "x = 7 > 5 \n",
            "\n",
            "2.What will Python evaluate as a true value?\n",
            "0\n",
            "'0' \n",
            "None\n",
            "''\n",
            "\n",
            "3.What will the list include after this code runs?\n",
            "t = [0, '1', '2', 3]\n",
            "t[1] = 2 \n",
            "----------\n",
            "\n",
            "[0, '2', '2', 3]\n",
            "[0, '1', '2', 3]\n",
            "[0, 2, '2', 3]\n",
            "[2, '1', '2', 3]\n",
            "\n",
            "4.ID function returns a unique identifier for each _____.\n",
            "type\n",
            "list\n",
            "tuple\n",
            "object \n",
            "\n",
            "5.What should come instead of the ??? placeholder in order for this code to print \"yes\"?\n",
            "a=(0,'1',2,1)\n",
            "b=('0',1,'2','1')\n",
            "if ???:\n",
            "    print(\"yes\")\n",
            "-------------------\n",
            "type(a[1])==type(b[1])\n",
            "id(a[1])==id(b[3]) \n",
            "a[1]==b[1]\n",
            "a==b\n",
            "\n",
            "6.In Python, what is the difference between a string type wrapped in single quotes and a string type wrapped in double quotes?\n",
            "\n",
            "Single quotes are only used in Python 3.\n",
            "Single quotes are interpolated.\n",
            "There is no difference. \n",
            "Double quotes are interpolated.\n",
            "\n",
            "7.Which type of variable will be reported by this code?\n",
            "x=5.3\n",
            "print(type(x))\n",
            "-----\n",
            "number\n",
            "float \n",
            "int\n",
            "str\n",
            "8.Is there a difference between the strings '{1} {0}'.format('a','b') and f'{\"b\"} {\"a\"}'?\n",
            "\n",
            "The former will have 'a' showing before 'b'.\n",
            "The latter will have 'a' showing before 'b'.\n",
            "These strings will be identical. \n",
            "The first string will not have a space between the letters.\n",
            "\n",
            "9._____ is the true value of a calculation.\n",
            "Accuracy\n",
            "A decimal\n",
            "Division\n",
            "Precision\n",
            "\n",
            "10.When will you want to use a decimal.Decimal type?\n",
            "\n",
            "when you need a multiplication of two floats to be treated as an integer\n",
            "when you need to run a series of high-precision calculations\n",
            "when numbers need to be treated as accurate decimals \n",
            "when you need to print all the digits of a nonterminating decimal\n",
            "\n",
            "Conditional Statements\n",
            "-------------------------------------------\n",
            "\n",
            "1.Which conditional operator tests membership?\n",
            "a.x and y\n",
            "b.x is y\n",
            "c.x > y\n",
            "d.x in y \n",
            "\n",
            "Ans:x in y\n",
            "\n",
            "2.In which scenario does the convenience of the ternary conditional operator apply the most?\n",
            "a.when you only need to implement the 'if' check and not the 'else' check\n",
            "b.when the 'if' and 'else' checks are performed on different conditions\n",
            "c.when you want to run both 'if' and 'else' conditions in one line \n",
            "d.when you only need to implement the 'else' check without any 'if' checks\n",
            "\n",
            "3.If the following code is saved and run, what will be executed?\n",
            "if False:\n",
            "          print ('if true')\n",
            "elif True:\n",
            "          print ('elif true')\n",
            "else:\n",
            "          print ('neither true')\n",
            "------------------------------------\n",
            "a.if true\n",
            "b.else\n",
            "c.if false\n",
            "d.elif true \n",
            "\n",
            "Ans:elif true \n",
            "\n",
            "4.When is a membership operator true?\n",
            "a.if a variable is part of an object\n",
            "b.if a variable is a member of a collection \n",
            "c.if a collection is part of a class\n",
            "d.if a variable is performed on different conditions\n",
            "\n",
            "Ans:if a variable is a member of a collection\n",
            "\n",
            "5.You are asked to write a simple function that returns the number of digits in a number it receives \n",
            "as an argument. Which function will work? Assume the argument is a number between 0 and 99,999.\n",
            "a.def Digits(x):\n",
            "    d=5\n",
            "    if (x>=10):\n",
            "        d=4\n",
            "    if (x>=100):\n",
            "        d=3\n",
            "    if (x>=1000):\n",
            "        d=2\n",
            "    if (x>=10000):\n",
            "        d=1\n",
            "    return(d)\n",
            "b.def Digits(x):\n",
            "    d=1\n",
            "    if (x>=10):\n",
            "        d=d+1\n",
            "    if (x>=100):\n",
            "        d=d+1\n",
            "    if (x>=1000):\n",
            "        d=d+1\n",
            "    if (x>=10000):\n",
            "        d=d+1\n",
            "    return(d)\n",
            "c.def Digits(x):\n",
            "    d=1\n",
            "    if (x>10):\n",
            "        d=d+1\n",
            "    elif (x>100):\n",
            "        d=d+1\n",
            "    elif (x>1000):\n",
            "        d=d+1\n",
            "    elif (x>10000):\n",
            "        d=d+1\n",
            "    return(d)\n",
            "d.def Digits(x):\n",
            "    d=1\n",
            "    if (x>=10):\n",
            "        d=d+1\n",
            "    elif (x>=100):\n",
            "        d=d+1\n",
            "    elif (x>=1000):\n",
            "        d=d+1\n",
            "    else:\n",
            "        d=d+1\n",
            "    return(d)\n",
            "\n",
            "Ans:b\n",
            "\n",
            "-------------------------------\n",
            "Operators\n",
            "--------------------------------\n",
            "1.What is the result of the following code?\n",
            "x = 5\n",
            "y = 3\n",
            "z = x / y\n",
            "print (f'result is {z}')\n",
            "-------------------------\n",
            "a.result is 1.6666666666666667\n",
            "b.result is 5\n",
            "c.result is 5/3\n",
            "d.result is 3\n",
            "\n",
            "Ans:a.result is 1.6666666666666667\n",
            "\n",
            "2.If the following code is executed, what will happen to the bits?\n",
            "x = 0x0a\n",
            "y = 0x01\n",
            "z = x >> y\n",
            "print (f'(hex)  x is {x:02x}, y is  {y:02x}, z is {z:02x}')\n",
            "print (f'(bin)  x is {x:08b}, y is  {y:08b}, z is {z:08b}')\n",
            "-----------------------------------------\n",
            "a.It will duplicate the last bit.\n",
            "b.It will shift the bits to the right.\n",
            "c.It will remove the last bit.\n",
            "d.It will shift the bits to the left.\n",
            "\n",
            "Ans:b.It will shift the bits to the right.\n",
            "\n",
            "3.What will the following expression evaluate to?\n",
            "a = True\n",
            "b = False\n",
            "x = ('bear' , 'bunny' , 'tree' , 'sky', 'rain')\n",
            "y = 'bear'\n",
            "if y in x:\n",
            "     print ('expression is true')\n",
            "else:\n",
            "     print ('expression is false')\n",
            "---------------------------------\n",
            "a.expression is null\n",
            "b.expression is true\n",
            "c.expression is equal to bear\n",
            "d.expression is false\n",
            "\n",
            "Ans:b.expression is true\n",
            "\n",
            "4.Why is it a good idea to use parentheses around operations?\n",
            "a.to specify the order you intend an expression to be evaluated\n",
            "b.to run the expression to be evaluated as a wildcard\n",
            "c.to automate the returned expression\n",
            "d.to set the operation apart from the rest of the expression\n",
            "\n",
            "Ans:a.to specify the order you intend an expression to be evaluated\n",
            "\n",
            "5.What will the following expression evaluate to, given that the variable a is a Boolean value?\n",
            " a or (not a)\n",
            "\n",
            "a.t will be the opposite of a's value.\n",
            "b.It will always be false.\n",
            "c.It will always be equal to a's value.\n",
            "d.It will always be true. \n",
            "\n",
            "Ans:d.It will always be true. \n",
            "\n",
            "6.The _____ operator has the highest precedence, while the _____ operator has the lowest precedence.\n",
            "a.exponent; Boolean OR\n",
            "b.multiplication; subtraction\n",
            "c.comparison; bitwise OR\n",
            "d.Boolean AND; negative\n",
            "\n",
            "Ans:exponent; Boolean OR\n",
            "\n",
            "7.What will be the value in variable c when this script completes running?\n",
            "a=10 // 3\n",
            "b=-a\n",
            "c=+b\n",
            "--------------\n",
            "a.\"-3\"\n",
            "b.3\n",
            "c.-3.33333\n",
            "d.-3\n",
            "\n",
            "Ans:d.-3\n",
            "\n",
            "8.What will be the result of applying an Xor operator between a numeric variable x (holding any number) and itself?\n",
            "a.1\n",
            "b.2*x\n",
            "c.0\n",
            "d.x\n",
            "Ans:c.0\n",
            "\n",
            "9.Which comparison operator is not recognized by Python?\n",
            "a.!=\n",
            "b.<>\n",
            "c.==\n",
            "d.<=\n",
            "Ans:b.<>\n",
            "----------------------------------------\n",
            "Loops\n",
            "----------------------------------------\n",
            "1.Imagine a real-life scenario where you need to walk until you reach a specific road sign placed an unknown number of steps ahead.\n",
            "  Why would a while loop work well in this scenario?\n",
            "a.While loops are limited to a certain number of steps that must be defined in advance.\n",
            "b.While loops are perfect when you repeat an action until a certain condition occurs. \n",
            "c.While loops are best used for actions that are not repetitive.\n",
            "d.While loops require clear start and end conditions that are known in advance.\n",
            "Ans:b.While loops are perfect when you repeat an action until a certain condition occurs.\n",
            "\n",
            "2.What does the additional control 'continue' do?\n",
            "a.It doubles the loop.\n",
            "b.It shortcuts the loop. \n",
            "c.It bypasses the loop.\n",
            "d.It places a statement after the loop block.\n",
            "Ans:b.It shortcuts the loop.\n",
            "\n",
            "3.Which statement is true regarding loops?\n",
            "a.A for loop uses a single condition to determine whether the loop continues to run.\n",
            "b.A while loop requires a tuple of values to control the loop.\n",
            "c.A while loop will first run its body and then check the condition.\n",
            "d.A for loop is based on iterating through a sequence. \n",
            "Ans:d.A for loop is based on iterating through a sequence. \n",
            "\n",
            "4.What will be printed by the following loop?\n",
            "for i in range(10):\n",
            "    print(i)\n",
            "\n",
            "a.the numbers 0 to 10\n",
            "b.the numbers 1 to 10\n",
            "c.the number 10\n",
            "d.the numbers 0 to 9 \n",
            "Ans:d.the numbers 0 to 9 \n",
            "\n",
            "5.How would you execute a certain statement only if a loop exits normally?\n",
            "a.by using a break statement inside the loop\n",
            "b.by placing this statement inside an else clause after the loop block \n",
            "c.by using a continue statement inside the loop\n",
            "d.by placing this statement right after the loop block\n",
            "Ans:b.by placing this statement inside an else clause after the loop block \n",
            "\n",
            "\n",
            "\n",
            "\n",
            "\n",
            "\n",
            "\n",
            "\n",
            "\n",
            "\n",
            "\n",
            "\n",
            "\n",
            "\n",
            "\n"
          ]
        }
      ],
      "source": [
        "f = open(\"I:\\EduBridge\\Python Fundamentals\\QUIZ.txt\", \"r\")\n",
        "print(f.read())\n"
      ]
    },
    {
      "cell_type": "markdown",
      "id": "b3c21b10-03b9-4e5b-ace1-196cf736126b",
      "metadata": {
        "id": "b3c21b10-03b9-4e5b-ace1-196cf736126b"
      },
      "source": [
        "### ord()\n",
        "- Convert to an integer representing the Unicode of the specified character"
      ]
    },
    {
      "cell_type": "code",
      "execution_count": null,
      "id": "73f9decf-4016-4341-9201-01b19499d049",
      "metadata": {
        "id": "73f9decf-4016-4341-9201-01b19499d049",
        "outputId": "ac07f2ce-08c7-4fc8-97b9-27421b17817e"
      },
      "outputs": [
        {
          "name": "stdout",
          "output_type": "stream",
          "text": [
            "65\n"
          ]
        }
      ],
      "source": [
        "print(ord(\"A\"))"
      ]
    },
    {
      "cell_type": "markdown",
      "id": "0f147641-0898-4655-bc2e-e44a6337a4e0",
      "metadata": {
        "id": "0f147641-0898-4655-bc2e-e44a6337a4e0"
      },
      "source": [
        "### pow()\n",
        "- Returns the value of x to the power of y\n",
        "- pow(x, y, z) \n",
        "- x A number, the base\n",
        "- y A number, the exponent\n",
        "- z Optional. A number, the modulus"
      ]
    },
    {
      "cell_type": "code",
      "execution_count": null,
      "id": "741e4c48-682c-4226-860c-a221eee64c7f",
      "metadata": {
        "id": "741e4c48-682c-4226-860c-a221eee64c7f",
        "outputId": "b9135e69-9de6-410b-ba7a-aca7cbc2663b"
      },
      "outputs": [
        {
          "name": "stdout",
          "output_type": "stream",
          "text": [
            "64\n"
          ]
        }
      ],
      "source": [
        "print(pow(4, 3))"
      ]
    },
    {
      "cell_type": "code",
      "execution_count": null,
      "id": "e521754d-6c6d-490a-b3f1-f7d1cc68ac0a",
      "metadata": {
        "id": "e521754d-6c6d-490a-b3f1-f7d1cc68ac0a",
        "outputId": "59b87d63-b268-4cb9-8415-ea20decae030"
      },
      "outputs": [
        {
          "name": "stdout",
          "output_type": "stream",
          "text": [
            "4\n"
          ]
        }
      ],
      "source": [
        "#Return the value of 4 to the power of 3, modulus 5 (same as (4 * 4 * 4) % 5):\n",
        "print(pow(4, 3, 5))"
      ]
    },
    {
      "cell_type": "code",
      "execution_count": null,
      "id": "76dd2184-10eb-42c7-b54d-6c99e7b50922",
      "metadata": {
        "id": "76dd2184-10eb-42c7-b54d-6c99e7b50922",
        "outputId": "fd627eca-137d-4700-eab7-c1d08ae772d6"
      },
      "outputs": [
        {
          "name": "stdout",
          "output_type": "stream",
          "text": [
            "4\n"
          ]
        }
      ],
      "source": [
        "print(64%5)"
      ]
    },
    {
      "cell_type": "markdown",
      "id": "818284a9-4ee2-4147-b71f-28e503ed43c6",
      "metadata": {
        "id": "818284a9-4ee2-4147-b71f-28e503ed43c6"
      },
      "source": [
        "### print()\n",
        "- Prints to the standard output device\n",
        "- print(object(s), sep=separator, end=end, file=file, flush=flush) \n",
        "- object(s) Any object, and as many as you like. Will be converted to string before printed\n",
        "- sep='separator' - Optional. Specify how to separate the objects, if there is more than one. Default is ' '\n",
        "- end='end' - Optional. Specify what to print at the end. Default is '\\n' (line feed)\n",
        "- file - Optional. An object with a write method. Default is sys.stdout\n",
        "- flush - Optional. A Boolean, specifying if the output is flushed (True) or buffered (False). Default is False"
      ]
    },
    {
      "cell_type": "code",
      "execution_count": null,
      "id": "098fd5c0-0480-44d9-896d-e7d428464abb",
      "metadata": {
        "id": "098fd5c0-0480-44d9-896d-e7d428464abb",
        "outputId": "ea7e78b2-ed16-4c4e-a0d1-ce8b3f8e424a"
      },
      "outputs": [
        {
          "name": "stdout",
          "output_type": "stream",
          "text": [
            "Hello---%%%     ---%%%how are you?\n"
          ]
        }
      ],
      "source": [
        "print(\"Hello\", \"     \",\"how are you?\", sep=\"---%%%\") "
      ]
    },
    {
      "cell_type": "markdown",
      "id": "c9b257ee-1960-484a-a959-af78ee548762",
      "metadata": {
        "id": "c9b257ee-1960-484a-a959-af78ee548762"
      },
      "source": [
        "### property() \n",
        "- Gets, sets, deletes a property"
      ]
    },
    {
      "cell_type": "code",
      "execution_count": null,
      "id": "d73356cc-e739-4867-a575-e365e1b179c4",
      "metadata": {
        "id": "d73356cc-e739-4867-a575-e365e1b179c4",
        "outputId": "3fafecc7-b895-4258-db3e-14058b376832"
      },
      "outputs": [
        {
          "name": "stdout",
          "output_type": "stream",
          "text": [
            "<property object at 0x000001B43389E310>\n",
            "10\n"
          ]
        }
      ],
      "source": [
        "x=10\n",
        "print(property(x))\n",
        "print(property(x).fget)\n"
      ]
    },
    {
      "cell_type": "markdown",
      "id": "357549e6-6102-4a1e-978d-72b361629f9f",
      "metadata": {
        "id": "357549e6-6102-4a1e-978d-72b361629f9f"
      },
      "source": [
        "### range()\n",
        "- Returns a sequence of numbers, starting from 0 and increments by 1 (by default)\n",
        "- range(start, stop, step) \n",
        "- start \tOptional. An integer number specifying at which position to start. Default is 0\n",
        "- stop \tRequired. An integer number specifying at which position to stop (not included).\n",
        "- step \tOptional. An integer number specifying the incrementation. Default is 1"
      ]
    },
    {
      "cell_type": "code",
      "execution_count": null,
      "id": "98126937-bff7-4446-a660-73140ca723b0",
      "metadata": {
        "id": "98126937-bff7-4446-a660-73140ca723b0",
        "outputId": "ce184a07-1f4e-4b14-b2ad-f927a0f9fcfe"
      },
      "outputs": [
        {
          "name": "stdout",
          "output_type": "stream",
          "text": [
            "4\n",
            "5\n",
            "6\n",
            "7\n",
            "8\n",
            "9\n"
          ]
        }
      ],
      "source": [
        "x = range(4, 10)\n",
        "for n in x:\n",
        "  print(n) "
      ]
    },
    {
      "cell_type": "markdown",
      "id": "05f7f59a-4fe8-488b-bbb6-e6dee95c8f56",
      "metadata": {
        "id": "05f7f59a-4fe8-488b-bbb6-e6dee95c8f56"
      },
      "source": [
        "### repr()\n",
        "- Returns a readable version of an object\n",
        "- repr() compute the “official” string representation of an object (a representation that has all information about the object)"
      ]
    },
    {
      "cell_type": "code",
      "execution_count": null,
      "id": "5f267c49-4bc4-4868-b1fa-b47259a62365",
      "metadata": {
        "id": "5f267c49-4bc4-4868-b1fa-b47259a62365",
        "outputId": "9b20b2b4-b2ca-451a-9b12-a7377a5060cd"
      },
      "outputs": [
        {
          "name": "stdout",
          "output_type": "stream",
          "text": [
            "<class 'str'>\n"
          ]
        }
      ],
      "source": [
        "print(type(repr(123434)))"
      ]
    },
    {
      "cell_type": "markdown",
      "id": "c8d163b7-8c19-4fc7-bfca-c17aae5bd2b8",
      "metadata": {
        "id": "c8d163b7-8c19-4fc7-bfca-c17aae5bd2b8"
      },
      "source": [
        "### reversed()\n",
        "- Returns a reversed iterator\n",
        "- reversed(sequence) "
      ]
    },
    {
      "cell_type": "code",
      "execution_count": null,
      "id": "b5227f7f",
      "metadata": {
        "id": "b5227f7f",
        "outputId": "b667a764-3069-4f61-83e0-870c6989ec94"
      },
      "outputs": [
        {
          "name": "stdout",
          "output_type": "stream",
          "text": [
            "egdirBudE"
          ]
        }
      ],
      "source": [
        "for i in reversed(\"EduBridge\"):\n",
        "    print(i,end='')"
      ]
    },
    {
      "cell_type": "code",
      "execution_count": null,
      "id": "07f73c7a",
      "metadata": {
        "id": "07f73c7a",
        "outputId": "610a358a-35a6-425a-87ff-c5a2298b6132"
      },
      "outputs": [
        {
          "data": {
            "text/plain": [
              "{'B', 'E', 'd', 'e', 'g', 'i', 'r', 'u'}"
            ]
          },
          "execution_count": 79,
          "metadata": {},
          "output_type": "execute_result"
        }
      ],
      "source": [
        "set(reversed(\"EduBridge\"))"
      ]
    },
    {
      "cell_type": "code",
      "execution_count": null,
      "id": "44c0542c",
      "metadata": {
        "id": "44c0542c",
        "outputId": "e248b91b-c0ba-4b2e-b617-75fdf1c6e9eb"
      },
      "outputs": [
        {
          "name": "stdout",
          "output_type": "stream",
          "text": [
            "E\n",
            "B\n"
          ]
        }
      ],
      "source": [
        "for i in reversed({'B':1, 'E':3}):\n",
        "    print(i)"
      ]
    },
    {
      "cell_type": "code",
      "execution_count": null,
      "id": "651478d4",
      "metadata": {
        "id": "651478d4",
        "outputId": "12dfb7db-a1f5-4607-c43a-68501cacd1da"
      },
      "outputs": [
        {
          "name": "stdout",
          "output_type": "stream",
          "text": [
            "e\n",
            "g\n",
            "d\n",
            "i\n",
            "r\n",
            "B\n",
            "u\n",
            "d\n",
            "E\n"
          ]
        }
      ],
      "source": [
        "for i in reversed(\"EduBridge\"):\n",
        "    print(i)"
      ]
    },
    {
      "cell_type": "code",
      "execution_count": null,
      "id": "ae64bc88-9abc-4229-9626-f9b88176ed4b",
      "metadata": {
        "id": "ae64bc88-9abc-4229-9626-f9b88176ed4b",
        "outputId": "7b4f0960-79c1-4e0a-e7f8-deb87b7558f9"
      },
      "outputs": [
        {
          "name": "stdout",
          "output_type": "stream",
          "text": [
            "d\n",
            "c\n",
            "b\n",
            "a\n"
          ]
        }
      ],
      "source": [
        "alph = [\"a\", \"b\", \"c\", \"d\"]\n",
        "ralph = reversed(alph)\n",
        "for x in ralph:\n",
        "  print(x)\n"
      ]
    },
    {
      "cell_type": "markdown",
      "id": "6bc366d6-086b-4214-95bc-37f0fd63f295",
      "metadata": {
        "id": "6bc366d6-086b-4214-95bc-37f0fd63f295"
      },
      "source": [
        "### round()\n",
        "- Rounds a numbers\n",
        "- round(number, digits) \n",
        "- number \tRequired. The number to be rounded\n",
        "- digits \tOptional. The number of decimals to use when rounding the number. Default is 0"
      ]
    },
    {
      "cell_type": "code",
      "execution_count": null,
      "id": "ed171e9b-7053-4fc0-8101-f2ff3e6f2399",
      "metadata": {
        "id": "ed171e9b-7053-4fc0-8101-f2ff3e6f2399",
        "outputId": "d1b61289-8c5d-46be-ade4-c42c789e2580"
      },
      "outputs": [
        {
          "name": "stdout",
          "output_type": "stream",
          "text": [
            "5.77\n"
          ]
        }
      ],
      "source": [
        "x = round(5.76843, 2)\n",
        "print(x) "
      ]
    },
    {
      "cell_type": "markdown",
      "id": "4042eb5d-62f7-46a9-b658-21f101cc8f6c",
      "metadata": {
        "id": "4042eb5d-62f7-46a9-b658-21f101cc8f6c"
      },
      "source": [
        "### set()\n",
        "- Returns a new set object\n",
        "- set(iterable) "
      ]
    },
    {
      "cell_type": "code",
      "execution_count": null,
      "id": "92dc6605-c609-4e3a-8cdd-0b2987dd4b2b",
      "metadata": {
        "id": "92dc6605-c609-4e3a-8cdd-0b2987dd4b2b"
      },
      "outputs": [],
      "source": [
        "x = set((\"apple\", \"banana\", \"cherry\"))\n",
        "print(x)"
      ]
    },
    {
      "cell_type": "markdown",
      "id": "c6e78841-4722-469a-bca0-2e7c69c2f0b2",
      "metadata": {
        "id": "c6e78841-4722-469a-bca0-2e7c69c2f0b2"
      },
      "source": [
        "### setattr()\n",
        "- Sets an attribute (property/method) of an object\n",
        "- setattr(object, attribute, value) \n",
        "- object \tRequired. An object.\n",
        "- attribute \tRequired. The name of the attribute you want to set\n",
        "- value \tRequired. The value you want to give the specified attribute"
      ]
    },
    {
      "cell_type": "code",
      "execution_count": null,
      "id": "eff0527f-0d6d-42b8-bedb-def54696a639",
      "metadata": {
        "id": "eff0527f-0d6d-42b8-bedb-def54696a639",
        "outputId": "daa05479-4b52-409f-8d8a-1da36f48199a"
      },
      "outputs": [
        {
          "name": "stdout",
          "output_type": "stream",
          "text": [
            "40\n"
          ]
        }
      ],
      "source": [
        "class Person:\n",
        "  name = \"John\"\n",
        "  age = 36\n",
        "  country = \"Norway\"\n",
        "setattr(Person, 'age', 40)\n",
        "# The age property will now have the value: 40\n",
        "x = getattr(Person, 'age')\n",
        "print(x)\n"
      ]
    },
    {
      "cell_type": "markdown",
      "id": "0b40f70b-bb6e-45e3-99de-3b730290d725",
      "metadata": {
        "id": "0b40f70b-bb6e-45e3-99de-3b730290d725"
      },
      "source": [
        "### slice()\n",
        "- Returns a slice object\n",
        "- slice(start, end, step) \n",
        "- start \tOptional. An integer number specifying at which position to start the slicing. Default is 0\n",
        "- end \tAn integer number specifying at which position to end the slicing\n",
        "- step \tOptional. An integer number specifying the step of the slicing. Default is 1"
      ]
    },
    {
      "cell_type": "code",
      "execution_count": null,
      "id": "8d914cb8-841b-4acf-a899-fc160ccd3580",
      "metadata": {
        "id": "8d914cb8-841b-4acf-a899-fc160ccd3580",
        "outputId": "427b9343-b049-4fd8-a2a3-0ee30dbb8c3a"
      },
      "outputs": [
        {
          "name": "stdout",
          "output_type": "stream",
          "text": [
            "tho\n"
          ]
        }
      ],
      "source": [
        "a =\"python\"  \n",
        "x = slice(2,5)  #a[2:5:2]\n",
        "print(a[x])"
      ]
    },
    {
      "cell_type": "code",
      "execution_count": null,
      "id": "a0ea51a1-3caa-4a76-a88f-3f240f25dd25",
      "metadata": {
        "id": "a0ea51a1-3caa-4a76-a88f-3f240f25dd25",
        "outputId": "07eb0c2f-aab5-47b2-b9eb-66f72cef2fb6"
      },
      "outputs": [
        {
          "name": "stdout",
          "output_type": "stream",
          "text": [
            "('d', 'e')\n"
          ]
        }
      ],
      "source": [
        "a = (\"a\", \"b\", \"c\", \"d\", \"e\", \"f\", \"g\", \"h\")\n",
        "x = slice(3,5)\n",
        "print(a[x])"
      ]
    },
    {
      "cell_type": "code",
      "execution_count": null,
      "id": "312e9c80",
      "metadata": {
        "scrolled": true,
        "id": "312e9c80",
        "outputId": "c0f60597-a95d-4bdf-959c-4ca7d02a7346"
      },
      "outputs": [
        {
          "data": {
            "text/plain": [
              "slice(None, -1, None)"
            ]
          },
          "execution_count": 93,
          "metadata": {},
          "output_type": "execute_result"
        }
      ],
      "source": [
        "x"
      ]
    },
    {
      "cell_type": "code",
      "execution_count": null,
      "id": "1fc44748-4ab6-424a-8f30-346040f799e5",
      "metadata": {
        "id": "1fc44748-4ab6-424a-8f30-346040f799e5",
        "outputId": "d906eae8-f0cd-4f5b-8150-e3c3fd348f38"
      },
      "outputs": [
        {
          "name": "stdout",
          "output_type": "stream",
          "text": [
            "('a', 'd', 'g')\n"
          ]
        }
      ],
      "source": [
        "a = (\"a\", \"b\", \"c\", \"d\", \"e\", \"f\", \"g\", \"h\")\n",
        "x = slice(0, 8, 3)\n",
        "print(a[x])"
      ]
    },
    {
      "cell_type": "markdown",
      "id": "d8a622b1-bf0e-425a-a082-75ac8adac84f",
      "metadata": {
        "id": "d8a622b1-bf0e-425a-a082-75ac8adac84f"
      },
      "source": [
        "### sorted()\n",
        "- Returns a sorted list\n",
        "- sorted(iterable, key=key, reverse=reverse) \n",
        "- iterable \tRequired. The sequence to sort, list, dictionary, tuple etc.\n",
        "- key \tOptional. A Function to execute to decide the order. Default is None\n",
        "- reverse \tOptional. A Boolean. False will sort ascending, True will sort descending. Default is False\n"
      ]
    },
    {
      "cell_type": "code",
      "execution_count": null,
      "id": "ba43c750-725c-413f-837e-d865b3b5bf13",
      "metadata": {
        "id": "ba43c750-725c-413f-837e-d865b3b5bf13",
        "outputId": "808a478d-db0e-4301-d5dc-8fe2e1f63009"
      },
      "outputs": [
        {
          "name": "stdout",
          "output_type": "stream",
          "text": [
            "['a', 'b', 'c', 'd', 'e', 'f', 'g', 'h']\n"
          ]
        }
      ],
      "source": [
        "a = (\"h\", \"b\", \"a\", \"c\", \"f\", \"d\", \"e\", \"g\")\n",
        "\n",
        "x = sorted(a) # dafault reverse=False  #ascending  #reverse=True  Dscending\n",
        "\n",
        "print(x)"
      ]
    },
    {
      "cell_type": "code",
      "execution_count": null,
      "id": "41446ee9-61cf-40f2-910d-51b9854ad897",
      "metadata": {
        "id": "41446ee9-61cf-40f2-910d-51b9854ad897",
        "outputId": "70ca98ff-d01a-4f30-c36b-eeb8e1b9df51"
      },
      "outputs": [
        {
          "name": "stdout",
          "output_type": "stream",
          "text": [
            "['h', 'g', 'f', 'e', 'd', 'c', 'b', 'a']\n"
          ]
        }
      ],
      "source": [
        "a = (\"h\", \"b\", \"a\", \"c\", \"f\", \"d\", \"e\", \"g\")\n",
        "x = sorted(a, reverse=True)\n",
        "print(x)"
      ]
    },
    {
      "cell_type": "code",
      "execution_count": null,
      "id": "facb55a8",
      "metadata": {
        "id": "facb55a8",
        "outputId": "1790c8c3-923b-4e5d-b297-d49806075731"
      },
      "outputs": [
        {
          "data": {
            "text/plain": [
              "[5, 7, 23, 53, 67, 78]"
            ]
          },
          "execution_count": 101,
          "metadata": {},
          "output_type": "execute_result"
        }
      ],
      "source": [
        "sorted((23,5,67,78,53,7),reverse=False)"
      ]
    },
    {
      "cell_type": "markdown",
      "id": "0071aac8-e5a4-4930-8e8e-adce02874f8e",
      "metadata": {
        "id": "0071aac8-e5a4-4930-8e8e-adce02874f8e"
      },
      "source": [
        "### staticmethod()\n",
        "- Converts a method into a static method"
      ]
    },
    {
      "cell_type": "code",
      "execution_count": null,
      "id": "ff5cd0a1-85c5-4d0a-9879-36757a5679a3",
      "metadata": {
        "id": "ff5cd0a1-85c5-4d0a-9879-36757a5679a3",
        "outputId": "6bcff23d-bdd5-4198-a9b8-647b4ea36612"
      },
      "outputs": [
        {
          "name": "stdout",
          "output_type": "stream",
          "text": [
            "The sum is: 15\n"
          ]
        }
      ],
      "source": [
        "class Mathematics:\n",
        "\n",
        "    def addNumbers(x, y):\n",
        "        return x + y\n",
        "\n",
        "# create addNumbers static method\n",
        "Mathematics.addNumbers = staticmethod(Mathematics.addNumbers)\n",
        "\n",
        "\n",
        "print('The sum is:', Mathematics.addNumbers(5, 10))"
      ]
    },
    {
      "cell_type": "markdown",
      "id": "4548d98c-bfba-4dec-b104-2e67b0abaca5",
      "metadata": {
        "id": "4548d98c-bfba-4dec-b104-2e67b0abaca5"
      },
      "source": [
        "### str()\n",
        "- returns a string object\n",
        "- str(object, encoding=encoding, errors=errors) \n",
        "- object \tAny object. Specifies the object to convert into a string\n",
        "- encoding \tThe encoding of the object. Default is UTF-8\n",
        "- errors \tSpecifies what to do if the decoding fails"
      ]
    },
    {
      "cell_type": "code",
      "execution_count": null,
      "id": "13a0733f-8af2-4326-ab37-cd3c63c46319",
      "metadata": {
        "id": "13a0733f-8af2-4326-ab37-cd3c63c46319",
        "outputId": "10deb0be-bd91-415c-94df-c140c3e615c0"
      },
      "outputs": [
        {
          "name": "stdout",
          "output_type": "stream",
          "text": [
            "3.5\n"
          ]
        }
      ],
      "source": [
        "x = str(3.5)\n",
        "print(x)\n"
      ]
    },
    {
      "cell_type": "markdown",
      "id": "914e1e1a-6d58-4cc9-93d4-6950659251ab",
      "metadata": {
        "id": "914e1e1a-6d58-4cc9-93d4-6950659251ab"
      },
      "source": [
        "### sum()\n",
        "- Sums the items of an iterator\n",
        "- sum(iterable, start)\n",
        "- iterable \tRequired. The sequence to sum\n",
        "- start \tOptional. A value that is added to the return value"
      ]
    },
    {
      "cell_type": "code",
      "execution_count": null,
      "id": "6c32894b-d629-42a1-815b-af5bed954632",
      "metadata": {
        "id": "6c32894b-d629-42a1-815b-af5bed954632",
        "outputId": "23ce5f76-6535-4d4a-ffe1-da2ccd6e47e9"
      },
      "outputs": [
        {
          "name": "stdout",
          "output_type": "stream",
          "text": [
            "15\n"
          ]
        }
      ],
      "source": [
        "a = [1, 2, 3, 4, 5]\n",
        "x = sum(a) \n",
        "print(x)"
      ]
    },
    {
      "cell_type": "code",
      "execution_count": null,
      "id": "c7b68ec2-2afc-43cb-b70f-ea37c8e9a824",
      "metadata": {
        "id": "c7b68ec2-2afc-43cb-b70f-ea37c8e9a824",
        "outputId": "bd6659c7-8518-4063-bf3b-d37eeceaabf6"
      },
      "outputs": [
        {
          "name": "stdout",
          "output_type": "stream",
          "text": [
            "22\n"
          ]
        }
      ],
      "source": [
        "a = (1, 2, 3, 4, 5)\n",
        "x = sum(a, 7)\n",
        "print(x)"
      ]
    },
    {
      "cell_type": "markdown",
      "id": "7c9f62f0-b005-48f8-922d-b746976d17ed",
      "metadata": {
        "id": "7c9f62f0-b005-48f8-922d-b746976d17ed"
      },
      "source": [
        "### super()\n",
        "- Returns an object that represents the parent class\n",
        "- The super() function is used to give access to methods and properties of a parent or sibling class.\n",
        "- The super() function returns an object that represents the parent class."
      ]
    },
    {
      "cell_type": "code",
      "execution_count": null,
      "id": "1e4b3689-8dfc-4522-91ef-d73981e1a2a3",
      "metadata": {
        "id": "1e4b3689-8dfc-4522-91ef-d73981e1a2a3",
        "outputId": "932f99cb-4413-4341-eb3d-45521226fda1"
      },
      "outputs": [
        {
          "name": "stdout",
          "output_type": "stream",
          "text": [
            "Hello, and welcome!\n"
          ]
        }
      ],
      "source": [
        "class Parent:\n",
        "  def __init__(self, txt):\n",
        "    self.message = txt\n",
        "\n",
        "  def printmessage(self):\n",
        "    print(self.message)\n",
        "\n",
        "class Child(Parent):\n",
        "  def __init__(self, txt):\n",
        "    super().__init__(txt)\n",
        "\n",
        "x = Child(\"Hello, and welcome!\")\n",
        "\n",
        "x.printmessage()\n"
      ]
    },
    {
      "cell_type": "markdown",
      "id": "67ceded3-de13-4db8-90aa-16c7d368a113",
      "metadata": {
        "id": "67ceded3-de13-4db8-90aa-16c7d368a113"
      },
      "source": [
        "### tuple()\n",
        "- Returns a tuple\n",
        "- tuple(iterable) "
      ]
    },
    {
      "cell_type": "code",
      "execution_count": null,
      "id": "92eb3ff6-e1cd-4b05-aa5d-c94e1a421fba",
      "metadata": {
        "id": "92eb3ff6-e1cd-4b05-aa5d-c94e1a421fba"
      },
      "outputs": [],
      "source": [
        "x = tuple({\"apple\", \"banana\", \"cherry\"})\n",
        "print(x)\n"
      ]
    },
    {
      "cell_type": "markdown",
      "id": "fd78fd92-227e-48b5-b467-62a00edfb99c",
      "metadata": {
        "id": "fd78fd92-227e-48b5-b467-62a00edfb99c"
      },
      "source": [
        "### type()\n",
        "- Returns the type of an object\n",
        "- type(object, bases, dict) \n",
        "- object \tRequired. If only one parameter is specified, the type() function returns the type of this object\n",
        "- bases \tOptional. Specifies the base classes\n",
        "- dict \tOptional. Specifies the namespace with the definition for the class\n"
      ]
    },
    {
      "cell_type": "code",
      "execution_count": null,
      "id": "15209eb7-8745-4246-b595-08425089f084",
      "metadata": {
        "id": "15209eb7-8745-4246-b595-08425089f084",
        "outputId": "943fab01-2bd5-4ac1-e183-f0e494bc1cd6"
      },
      "outputs": [
        {
          "name": "stdout",
          "output_type": "stream",
          "text": [
            "<class 'tuple'>\n",
            "<class 'str'>\n",
            "<class 'int'>\n"
          ]
        }
      ],
      "source": [
        "a = ('apple', 'banana', 'cherry')\n",
        "b = \"Hello World\"\n",
        "c = 33\n",
        "x = type(a)\n",
        "y = type(b)\n",
        "z = type(c)\n",
        "print(x)\n",
        "print(y)\n",
        "print(z)\n"
      ]
    },
    {
      "cell_type": "code",
      "execution_count": null,
      "id": "bced07a0",
      "metadata": {
        "id": "bced07a0"
      },
      "outputs": [],
      "source": [
        ""
      ]
    },
    {
      "cell_type": "markdown",
      "id": "255e3dfa-455f-40e4-a6c0-6a617f2cf2bf",
      "metadata": {
        "id": "255e3dfa-455f-40e4-a6c0-6a617f2cf2bf"
      },
      "source": [
        "### vars()\n",
        "- Returns the __dict__ property of an object\n",
        "- vars(object) \n",
        "- object \tAny object with a __dict__attribute\n"
      ]
    },
    {
      "cell_type": "code",
      "execution_count": null,
      "id": "692f8108-5900-4a18-9967-b0878ee6eaab",
      "metadata": {
        "id": "692f8108-5900-4a18-9967-b0878ee6eaab",
        "outputId": "b784ef22-d3ac-4a76-ad87-fe8f5066dd37"
      },
      "outputs": [
        {
          "name": "stdout",
          "output_type": "stream",
          "text": [
            "{'__module__': '__main__', 'name': 'John', 'age': 36, 'country': 'norway', '__dict__': <attribute '__dict__' of 'Person' objects>, '__weakref__': <attribute '__weakref__' of 'Person' objects>, '__doc__': None}\n"
          ]
        }
      ],
      "source": [
        "class Person:\n",
        "  name = \"John\"\n",
        "  age = 36\n",
        "  country = \"norway\"\n",
        "x = vars(Person)\n",
        "print(x)"
      ]
    },
    {
      "cell_type": "markdown",
      "id": "25ebed7a-7d3a-41a2-adf4-9787c050bc7f",
      "metadata": {
        "id": "25ebed7a-7d3a-41a2-adf4-9787c050bc7f"
      },
      "source": [
        "### zip()\n",
        "- Returns an iterator, from two or more iterators\n",
        "- zip(iterator1, iterator2, iterator3 ...) \n",
        "- iterator1, iterator2, iterator3 ... \tIterator objects that will be joined together"
      ]
    },
    {
      "cell_type": "code",
      "execution_count": null,
      "id": "de56525c-5df6-42ce-b78f-cc58de82d14c",
      "metadata": {
        "id": "de56525c-5df6-42ce-b78f-cc58de82d14c",
        "outputId": "427a3963-ff37-46b5-d329-d9b86c1888a7"
      },
      "outputs": [
        {
          "name": "stdout",
          "output_type": "stream",
          "text": [
            "(('John', 'Jenny', 1), ('Charles', 'Christy', 2))\n"
          ]
        }
      ],
      "source": [
        "a = [\"John\", \"Charles\", \"Mike\"]\n",
        "b = (\"Jenny\", \"Christy\", \"Monica\", \"Vicky\")\n",
        "c={1,2}\n",
        "x = zip(a, b,c)\n",
        "#use the tuple() function to display a readable version of the result:\n",
        "print(tuple(x))\n"
      ]
    },
    {
      "cell_type": "code",
      "execution_count": null,
      "id": "de320a75",
      "metadata": {
        "id": "de320a75",
        "outputId": "121f80b0-ee15-43ec-f24f-4aecd4c7f417"
      },
      "outputs": [
        {
          "name": "stdout",
          "output_type": "stream",
          "text": [
            "John Jenny 1\n",
            "Charles Christy 2\n"
          ]
        }
      ],
      "source": [
        "for x,y,z in zip(a,b,c):\n",
        "    print(x,y,z)"
      ]
    },
    {
      "cell_type": "markdown",
      "id": "838680a7-6fd3-411b-b029-a01dd49e1744",
      "metadata": {
        "id": "838680a7-6fd3-411b-b029-a01dd49e1744"
      },
      "source": [
        "### __import__()\n",
        "- This function is invoked by the import statement\n",
        "-   __import__(name, globals=None, locals=None, fromlist=(), level=0)\n",
        "- This __import__() function is not necessary for everyday Python program. It is rarely used and often discouraged."
      ]
    },
    {
      "cell_type": "code",
      "execution_count": null,
      "id": "c293871d-c191-4203-b03b-82c971858df0",
      "metadata": {
        "id": "c293871d-c191-4203-b03b-82c971858df0",
        "outputId": "cc99aae4-1b4a-4a06-8504-48958865a0b4"
      },
      "outputs": [
        {
          "name": "stdout",
          "output_type": "stream",
          "text": [
            "120\n"
          ]
        }
      ],
      "source": [
        "ms = __import__('math', globals(), locals(), [], 0) #import math as ms\n",
        "print(ms.factorial(5))"
      ]
    },
    {
      "cell_type": "code",
      "execution_count": null,
      "id": "f90bc376",
      "metadata": {
        "id": "f90bc376",
        "outputId": "af940ca2-eaee-4457-979d-82443d373b41"
      },
      "outputs": [
        {
          "data": {
            "text/plain": [
              "1.0"
            ]
          },
          "execution_count": 118,
          "metadata": {},
          "output_type": "execute_result"
        }
      ],
      "source": [
        "ms.cos(0)"
      ]
    },
    {
      "cell_type": "code",
      "execution_count": null,
      "id": "68f00f36",
      "metadata": {
        "id": "68f00f36",
        "outputId": "88506056-0b8f-4fdf-b4b2-05d0b1f579e6"
      },
      "outputs": [
        {
          "data": {
            "text/plain": [
              "4.0"
            ]
          },
          "execution_count": 119,
          "metadata": {},
          "output_type": "execute_result"
        }
      ],
      "source": [
        "ms.sqrt(16)"
      ]
    },
    {
      "cell_type": "code",
      "execution_count": null,
      "id": "dbf9457e-1730-44c8-bcde-dde03f660262",
      "metadata": {
        "id": "dbf9457e-1730-44c8-bcde-dde03f660262",
        "outputId": "2c77636d-50a1-4152-c1f2-6383b497ac76"
      },
      "outputs": [
        {
          "name": "stdout",
          "output_type": "stream",
          "text": [
            "120\n"
          ]
        }
      ],
      "source": [
        "import math as m\n",
        "print(m.factorial(5))\n"
      ]
    },
    {
      "cell_type": "code",
      "execution_count": null,
      "id": "eb296b54",
      "metadata": {
        "id": "eb296b54",
        "outputId": "07c592b9-be6f-4067-c7ea-ae5ae18ea113"
      },
      "outputs": [
        {
          "name": "stdout",
          "output_type": "stream",
          "text": [
            "['ArithmeticError', 'AssertionError', 'AttributeError', 'BaseException', 'BlockingIOError', 'BrokenPipeError', 'BufferError', 'BytesWarning', 'ChildProcessError', 'ConnectionAbortedError', 'ConnectionError', 'ConnectionRefusedError', 'ConnectionResetError', 'DeprecationWarning', 'EOFError', 'Ellipsis', 'EnvironmentError', 'Exception', 'False', 'FileExistsError', 'FileNotFoundError', 'FloatingPointError', 'FutureWarning', 'GeneratorExit', 'IOError', 'ImportError', 'ImportWarning', 'IndentationError', 'IndexError', 'InterruptedError', 'IsADirectoryError', 'KeyError', 'KeyboardInterrupt', 'LookupError', 'MemoryError', 'ModuleNotFoundError', 'NameError', 'None', 'NotADirectoryError', 'NotImplemented', 'NotImplementedError', 'OSError', 'OverflowError', 'PendingDeprecationWarning', 'PermissionError', 'ProcessLookupError', 'RecursionError', 'ReferenceError', 'ResourceWarning', 'RuntimeError', 'RuntimeWarning', 'StopAsyncIteration', 'StopIteration', 'SyntaxError', 'SyntaxWarning', 'SystemError', 'SystemExit', 'TabError', 'TimeoutError', 'True', 'TypeError', 'UnboundLocalError', 'UnicodeDecodeError', 'UnicodeEncodeError', 'UnicodeError', 'UnicodeTranslateError', 'UnicodeWarning', 'UserWarning', 'ValueError', 'Warning', 'WindowsError', 'ZeroDivisionError', '__IPYTHON__', '__build_class__', '__debug__', '__doc__', '__import__', '__loader__', '__name__', '__package__', '__spec__', 'abs', 'all', 'any', 'ascii', 'bin', 'bool', 'breakpoint', 'bytearray', 'bytes', 'callable', 'chr', 'classmethod', 'compile', 'complex', 'copyright', 'credits', 'delattr', 'dict', 'dir', 'display', 'divmod', 'enumerate', 'eval', 'exec', 'execfile', 'filter', 'float', 'format', 'frozenset', 'get_ipython', 'getattr', 'globals', 'hasattr', 'hash', 'help', 'hex', 'id', 'input', 'int', 'isinstance', 'issubclass', 'iter', 'len', 'license', 'list', 'locals', 'map', 'max', 'memoryview', 'min', 'next', 'object', 'oct', 'open', 'ord', 'pow', 'print', 'property', 'range', 'repr', 'reversed', 'round', 'runfile', 'set', 'setattr', 'slice', 'sorted', 'staticmethod', 'str', 'sum', 'super', 'tuple', 'type', 'vars', 'zip']\n"
          ]
        }
      ],
      "source": [
        "import builtins\n",
        "print(dir(builtins))"
      ]
    },
    {
      "cell_type": "code",
      "execution_count": null,
      "id": "dacee076",
      "metadata": {
        "id": "dacee076"
      },
      "outputs": [],
      "source": [
        "list_data=[23,565,878,545]"
      ]
    },
    {
      "cell_type": "code",
      "execution_count": null,
      "id": "2c9cbc9a",
      "metadata": {
        "id": "2c9cbc9a",
        "outputId": "67f3a047-a9ae-43d5-80b0-4e53fecca813"
      },
      "outputs": [
        {
          "data": {
            "text/plain": [
              "23"
            ]
          },
          "execution_count": 148,
          "metadata": {},
          "output_type": "execute_result"
        }
      ],
      "source": [
        "min(list_data)#function"
      ]
    },
    {
      "cell_type": "code",
      "execution_count": null,
      "id": "2b3346bd",
      "metadata": {
        "id": "2b3346bd",
        "outputId": "c807213a-d50d-4226-ebaf-bf12d39fdb11"
      },
      "outputs": [
        {
          "data": {
            "text/plain": [
              "[23, 545, 565, 878, 323, 323]"
            ]
          },
          "execution_count": 152,
          "metadata": {},
          "output_type": "execute_result"
        }
      ],
      "source": [
        "list_data.append(323)\n",
        "list_data"
      ]
    },
    {
      "cell_type": "code",
      "execution_count": null,
      "id": "4c8b43a6",
      "metadata": {
        "id": "4c8b43a6"
      },
      "outputs": [],
      "source": [
        "obj.function() #method"
      ]
    },
    {
      "cell_type": "markdown",
      "id": "7a93a283",
      "metadata": {
        "id": "7a93a283"
      },
      "source": [
        "# Python Data Structures Built-in Method"
      ]
    },
    {
      "cell_type": "code",
      "execution_count": null,
      "id": "58b3a110",
      "metadata": {
        "id": "58b3a110",
        "outputId": "7ed5fb10-f498-40bf-b59f-2bf97cafa68b"
      },
      "outputs": [
        {
          "name": "stdout",
          "output_type": "stream",
          "text": [
            "['__add__', '__class__', '__contains__', '__delattr__', '__dir__', '__doc__', '__eq__', '__format__', '__ge__', '__getattribute__', '__getitem__', '__getnewargs__', '__gt__', '__hash__', '__init__', '__init_subclass__', '__iter__', '__le__', '__len__', '__lt__', '__mod__', '__mul__', '__ne__', '__new__', '__reduce__', '__reduce_ex__', '__repr__', '__rmod__', '__rmul__', '__setattr__', '__sizeof__', '__str__', '__subclasshook__', 'capitalize', 'casefold', 'center', 'count', 'encode', 'endswith', 'expandtabs', 'find', 'format', 'format_map', 'index', 'isalnum', 'isalpha', 'isascii', 'isdecimal', 'isdigit', 'isidentifier', 'islower', 'isnumeric', 'isprintable', 'isspace', 'istitle', 'isupper', 'join', 'ljust', 'lower', 'lstrip', 'maketrans', 'partition', 'removeprefix', 'removesuffix', 'replace', 'rfind', 'rindex', 'rjust', 'rpartition', 'rsplit', 'rstrip', 'split', 'splitlines', 'startswith', 'strip', 'swapcase', 'title', 'translate', 'upper', 'zfill']"
          ]
        }
      ],
      "source": [
        "print(dir(str),end='')"
      ]
    },
    {
      "cell_type": "code",
      "execution_count": null,
      "id": "9af99df6",
      "metadata": {
        "id": "9af99df6",
        "outputId": "b8a61a7f-9e80-43bb-f75c-f5222f0f8afd"
      },
      "outputs": [
        {
          "data": {
            "text/plain": [
              "False"
            ]
          },
          "execution_count": 129,
          "metadata": {},
          "output_type": "execute_result"
        }
      ],
      "source": [
        "\"__dfsdf\".isalpha()"
      ]
    },
    {
      "cell_type": "markdown",
      "id": "ef668019-7e32-47db-87cf-0ac6690a4776",
      "metadata": {
        "id": "ef668019-7e32-47db-87cf-0ac6690a4776"
      },
      "source": [
        "# Built-in method in String"
      ]
    },
    {
      "cell_type": "code",
      "execution_count": null,
      "id": "08473dce-957f-4471-a0fd-8e22b2953b8d",
      "metadata": {
        "id": "08473dce-957f-4471-a0fd-8e22b2953b8d",
        "outputId": "6f5cb91e-c24d-410d-d61e-c0723abc5642"
      },
      "outputs": [
        {
          "name": "stdout",
          "output_type": "stream",
          "text": [
            "capitalize(), casefold(), center(), count(), encode(), endswith(), expandtabs(), find(), format(), index(), isalnum(), isalpha(), isascii(), isdecimal(), isdigit(), isidentifier(), islower(), isnumeric(), isprintable(), isspace(), istitle(), isupper(), join(), ljust(), lower(), lstrip(), maketrans(), partition(), removeprefix(), removesuffix(), replace(), rfind(), rindex(), rjust(), rpartition(), rsplit(), rstrip(), split(), splitlines(), startswith(), strip(), swapcase(), title(), translate(), upper(), zfill(), "
          ]
        }
      ],
      "source": [
        "#print(dir(str))\n",
        "for i in dir(str):\n",
        "    if i.isalpha():\n",
        "        print(i,end=\"(), \")"
      ]
    },
    {
      "cell_type": "code",
      "execution_count": null,
      "id": "4d2bda56",
      "metadata": {
        "id": "4d2bda56",
        "outputId": "9547392b-3864-49c1-d565-0f41cadb621a"
      },
      "outputs": [
        {
          "data": {
            "text/plain": [
              "'Edubridge data analytics programming'"
            ]
          },
          "execution_count": 132,
          "metadata": {},
          "output_type": "execute_result"
        }
      ],
      "source": [
        "#capitalize()\n",
        "str1=\"EduBridge Data Analytics Programming\"\n",
        "str1.capitalize()"
      ]
    },
    {
      "cell_type": "code",
      "execution_count": null,
      "id": "90b6cdf8",
      "metadata": {
        "id": "90b6cdf8",
        "outputId": "9495e572-d176-450a-d71b-3c933f60933d"
      },
      "outputs": [
        {
          "data": {
            "text/plain": [
              "'Dgfdgfdg'"
            ]
          },
          "execution_count": 134,
          "metadata": {},
          "output_type": "execute_result"
        }
      ],
      "source": [
        "\"dgfdgfdg\".capitalize()"
      ]
    },
    {
      "cell_type": "code",
      "execution_count": null,
      "id": "f494e18b",
      "metadata": {
        "id": "f494e18b",
        "outputId": "6ea1edcb-5967-4e5e-f2e3-5550fa0f42ac"
      },
      "outputs": [
        {
          "data": {
            "text/plain": [
              "'edubridge data analytics programming'"
            ]
          },
          "execution_count": 136,
          "metadata": {},
          "output_type": "execute_result"
        }
      ],
      "source": [
        "#casefold()\n",
        "str1=\"EduBridge Data Analytics PrograMMing\"\n",
        "str1.casefold()"
      ]
    },
    {
      "cell_type": "code",
      "execution_count": null,
      "id": "1691af4f",
      "metadata": {
        "id": "1691af4f",
        "outputId": "f9c8dbf5-7f72-4467-ad38-db7a7a3cfdef"
      },
      "outputs": [
        {
          "data": {
            "text/plain": [
              "'     EduBridge      '"
            ]
          },
          "execution_count": 143,
          "metadata": {},
          "output_type": "execute_result"
        }
      ],
      "source": [
        "#center()\n",
        "str2=\"EduBridge\"\n",
        "str2.center(20)"
      ]
    },
    {
      "cell_type": "markdown",
      "id": "92dfdfdd",
      "metadata": {
        "id": "92dfdfdd"
      },
      "source": [
        "# Built-in method in tuple"
      ]
    },
    {
      "cell_type": "code",
      "execution_count": null,
      "id": "4de4ae29",
      "metadata": {
        "id": "4de4ae29",
        "outputId": "8b2cc748-b46c-4289-dd2e-dc449cb9250a"
      },
      "outputs": [
        {
          "name": "stdout",
          "output_type": "stream",
          "text": [
            "count(), index(), "
          ]
        }
      ],
      "source": [
        "for i in dir(tuple):\n",
        "    if i.isalpha():\n",
        "        print(i,end=\"(), \")"
      ]
    },
    {
      "cell_type": "markdown",
      "id": "e0aa2861",
      "metadata": {
        "id": "e0aa2861"
      },
      "source": [
        "# Built-in method in List"
      ]
    },
    {
      "cell_type": "code",
      "execution_count": null,
      "id": "7aa064aa",
      "metadata": {
        "id": "7aa064aa",
        "outputId": "46700485-d5cb-4be3-c109-429d23901c5c"
      },
      "outputs": [
        {
          "name": "stdout",
          "output_type": "stream",
          "text": [
            "append(), clear(), copy(), count(), extend(), index(), insert(), pop(), remove(), reverse(), sort(), "
          ]
        }
      ],
      "source": [
        "for i in dir(list):\n",
        "    if i.isalpha():\n",
        "        print(i,end=\"(), \")"
      ]
    },
    {
      "cell_type": "code",
      "execution_count": null,
      "id": "d97365b4",
      "metadata": {
        "id": "d97365b4"
      },
      "outputs": [],
      "source": [
        ""
      ]
    },
    {
      "cell_type": "code",
      "execution_count": null,
      "id": "a7cd30eb",
      "metadata": {
        "id": "a7cd30eb",
        "outputId": "3c0f81f3-b840-4847-ed88-73cf896305ad"
      },
      "outputs": [
        {
          "name": "stdout",
          "output_type": "stream",
          "text": [
            "[10, 24, 56, 100]\n"
          ]
        }
      ],
      "source": [
        "l1=[10,24,56]\n",
        "l1.append(100)\n",
        "print(l1)"
      ]
    },
    {
      "cell_type": "code",
      "execution_count": null,
      "id": "7a8c5e96",
      "metadata": {
        "id": "7a8c5e96"
      },
      "outputs": [],
      "source": [
        "l1.clear()"
      ]
    },
    {
      "cell_type": "code",
      "execution_count": null,
      "id": "df40c08f",
      "metadata": {
        "id": "df40c08f",
        "outputId": "6bbf277d-144f-4017-e06e-276d966d1c22"
      },
      "outputs": [
        {
          "data": {
            "text/plain": [
              "[]"
            ]
          },
          "execution_count": 66,
          "metadata": {},
          "output_type": "execute_result"
        }
      ],
      "source": [
        "l1"
      ]
    },
    {
      "cell_type": "code",
      "execution_count": null,
      "id": "3a9a4dbd",
      "metadata": {
        "id": "3a9a4dbd",
        "outputId": "92a78aed-d683-4305-9fb0-db1f5d705fd3"
      },
      "outputs": [
        {
          "data": {
            "text/plain": [
              "[10, 24, 56, 100]"
            ]
          },
          "execution_count": 69,
          "metadata": {},
          "output_type": "execute_result"
        }
      ],
      "source": [
        "l2=l1.copy()\n",
        "l2"
      ]
    },
    {
      "cell_type": "code",
      "execution_count": null,
      "id": "b93a7c42",
      "metadata": {
        "id": "b93a7c42"
      },
      "outputs": [],
      "source": [
        ""
      ]
    },
    {
      "cell_type": "code",
      "execution_count": null,
      "id": "76fbcfec",
      "metadata": {
        "id": "76fbcfec"
      },
      "outputs": [],
      "source": [
        ""
      ]
    },
    {
      "cell_type": "markdown",
      "id": "835a4194",
      "metadata": {
        "id": "835a4194"
      },
      "source": [
        "# Built-in method in Dict"
      ]
    },
    {
      "cell_type": "code",
      "execution_count": null,
      "id": "0425d4b6",
      "metadata": {
        "id": "0425d4b6",
        "outputId": "5c2bafd2-2381-48ca-b58a-cd3238b9b28c"
      },
      "outputs": [
        {
          "name": "stdout",
          "output_type": "stream",
          "text": [
            "clear(), copy(), fromkeys(), get(), items(), keys(), pop(), popitem(), setdefault(), update(), values(), "
          ]
        }
      ],
      "source": [
        "for i in dir(dict):\n",
        "    if i.isalpha():\n",
        "        print(i,end=\"(), \")"
      ]
    },
    {
      "cell_type": "code",
      "execution_count": null,
      "id": "cb22d8f4",
      "metadata": {
        "id": "cb22d8f4"
      },
      "outputs": [],
      "source": [
        ""
      ]
    },
    {
      "cell_type": "markdown",
      "id": "af9be69a",
      "metadata": {
        "id": "af9be69a"
      },
      "source": [
        "# Built-in method in Set"
      ]
    },
    {
      "cell_type": "code",
      "execution_count": null,
      "id": "3632dfc0",
      "metadata": {
        "id": "3632dfc0",
        "outputId": "524ed5fd-1293-4edc-a2b0-371f6ac48166"
      },
      "outputs": [
        {
          "name": "stdout",
          "output_type": "stream",
          "text": [
            "add(), clear(), copy(), difference(), discard(), intersection(), isdisjoint(), issubset(), issuperset(), pop(), remove(), union(), update(), "
          ]
        }
      ],
      "source": [
        "for i in dir(set):\n",
        "    if i.isalpha():\n",
        "        print(i,end=\"(), \")"
      ]
    },
    {
      "cell_type": "markdown",
      "id": "2699d31a",
      "metadata": {
        "id": "2699d31a"
      },
      "source": [
        "# Built-in method in frozensetset"
      ]
    },
    {
      "cell_type": "code",
      "execution_count": null,
      "id": "d993f8af",
      "metadata": {
        "id": "d993f8af",
        "outputId": "fc7310ca-f05f-4de9-e00f-65816af74ac4"
      },
      "outputs": [
        {
          "name": "stdout",
          "output_type": "stream",
          "text": [
            "copy(), difference(), intersection(), isdisjoint(), issubset(), issuperset(), union(), "
          ]
        }
      ],
      "source": [
        "for i in dir(frozenset):\n",
        "    if i.isalpha():\n",
        "        print(i,end=\"(), \")"
      ]
    },
    {
      "cell_type": "code",
      "execution_count": null,
      "id": "65d3a350",
      "metadata": {
        "id": "65d3a350"
      },
      "outputs": [],
      "source": [
        ""
      ]
    },
    {
      "cell_type": "code",
      "execution_count": null,
      "id": "a3bc8090",
      "metadata": {
        "id": "a3bc8090"
      },
      "outputs": [],
      "source": [
        ""
      ]
    },
    {
      "cell_type": "raw",
      "id": "02fc2e01",
      "metadata": {
        "id": "02fc2e01"
      },
      "source": [
        "capitalize() Converts the first character to upper case\n",
        "casefold() Converts string into lower case\n",
        "center() Returns a centered string\n",
        "count() Returns the number of times a specified value occurs in a string\n",
        "encode() Returns an encoded version of the string\n",
        "endswith() Returns true if the string ends with the specified value\n",
        "expandtabs() Sets the tab size of the string\n",
        "find() Searches the string for a specified value and returns the position of where it was found\n",
        "format() Formats specified values in a string\n",
        "format_map() Formats specified values in a string\n",
        "index() Searches the string for a specified value and returns the position of where it was found\n",
        "isalnum() Returns True if all characters in the string are alphanumeric\n",
        "isalpha() Returns True if all characters in the string are in the alphabet\n",
        "isascii() Returns True if all characters in the string are ascii characters\n",
        "isdecimal() Returns True if all characters in the string are decimals\n",
        "isdigit() Returns True if all characters in the string are digits\n",
        "isidentifier() Returns True if the string is an identifier\n",
        "islower() Returns True if all characters in the string are lower case\n",
        "isnumeric() Returns True if all characters in the string are numeric\n",
        "isprintable() Returns True if all characters in the string are printable\n",
        "isspace() Returns True if all characters in the string are whitespaces\n",
        "istitle() Returns True if the string follows the rules of a title\n",
        "isupper() Returns True if all characters in the string are upper case\n",
        "join() Converts the elements of an iterable into a string\n",
        "ljust() Returns a left justified version of the string\n",
        "lower() Converts a string into lower case\n",
        "lstrip() Returns a left trim version of the string\n",
        "maketrans() Returns a translation table to be used in translations\n",
        "partition() Returns a tuple where the string is parted into three parts\n",
        "replace() Returns a string where a specified value is replaced with a specified value\n",
        "rfind() Searches the string for a specified value and returns the last position of where it was found\n",
        "rindex() Searches the string for a specified value and returns the last position of where it was found\n",
        "rjust() Returns a right justified version of the string\n",
        "rpartition() Returns a tuple where the string is parted into three parts\n",
        "rsplit() Splits the string at the specified separator, and returns a list\n",
        "rstrip() Returns a right trim version of the string\n",
        "split() Splits the string at the specified separator, and returns a list\n",
        "splitlines() Splits the string at line breaks and returns a list\n",
        "startswith() Returns true if the string starts with the specified value\n",
        "strip() Returns a trimmed version of the string\n",
        "swapcase() Swaps cases, lower case becomes upper case and vice versa\n",
        "title() Converts the first character of each word to upper case\n",
        "translate() Returns a translated string\n",
        "upper() Converts a string into upper case\n",
        "zfill() Fills the string with a specified number of 0 values at the beginning"
      ]
    },
    {
      "cell_type": "code",
      "execution_count": null,
      "id": "4bcbd11d-cdd0-461a-8c57-fef4ed382211",
      "metadata": {
        "id": "4bcbd11d-cdd0-461a-8c57-fef4ed382211",
        "outputId": "0ed0991c-eec7-4e6d-caf3-30190e833f3a"
      },
      "outputs": [
        {
          "name": "stdout",
          "output_type": "stream",
          "text": [
            "Edubridge\n"
          ]
        }
      ],
      "source": [
        "#capitalize() Converts the first character to upper case\n",
        "print(\"edubridge\".capitalize())"
      ]
    },
    {
      "cell_type": "code",
      "execution_count": null,
      "id": "9a79b373-1f3c-4b3a-b363-89b3bac807b8",
      "metadata": {
        "id": "9a79b373-1f3c-4b3a-b363-89b3bac807b8",
        "outputId": "974de498-91e4-4acb-98a9-7dab1af19f83"
      },
      "outputs": [
        {
          "name": "stdout",
          "output_type": "stream",
          "text": [
            "edubridge python programming\n"
          ]
        }
      ],
      "source": [
        "#casefold() Converts string into lower case\n",
        "print(\"Edubridge Python Programming\".casefold())"
      ]
    },
    {
      "cell_type": "code",
      "execution_count": null,
      "id": "92e41dd2-9755-4661-a6c0-162368f27af6",
      "metadata": {
        "id": "92e41dd2-9755-4661-a6c0-162368f27af6",
        "outputId": "a39a3300-70e7-41c5-fd1c-259098efc9ea"
      },
      "outputs": [
        {
          "name": "stdout",
          "output_type": "stream",
          "text": [
            "          Edubridge           \n"
          ]
        }
      ],
      "source": [
        "#center() Returns a centered string\n",
        "print(\"Edubridge\".center(30))"
      ]
    },
    {
      "cell_type": "code",
      "execution_count": null,
      "id": "5f3f8f6c-9070-499d-bcb3-f98c534db960",
      "metadata": {
        "id": "5f3f8f6c-9070-499d-bcb3-f98c534db960",
        "outputId": "8bfaae8e-7588-48d8-ad76-028afdc3cd42"
      },
      "outputs": [
        {
          "name": "stdout",
          "output_type": "stream",
          "text": [
            "2\n"
          ]
        }
      ],
      "source": [
        "#count() Returns the number of times a specified value occurs in a string\n",
        "print(\"Edubridge\".count(\"d\"))"
      ]
    },
    {
      "cell_type": "code",
      "execution_count": null,
      "id": "67b061bb-0b39-4c2e-8eca-4b870f8fe020",
      "metadata": {
        "id": "67b061bb-0b39-4c2e-8eca-4b870f8fe020",
        "outputId": "ac184baa-e96d-4a8e-d00a-8073103bc74b"
      },
      "outputs": [
        {
          "name": "stdout",
          "output_type": "stream",
          "text": [
            "b'Edubridge'\n"
          ]
        }
      ],
      "source": [
        "#encode() Returns an encoded version of the string  string.encode(encoding=encoding, errors=errors) \n",
        "print(\"Edubridge\".encode())"
      ]
    },
    {
      "cell_type": "code",
      "execution_count": null,
      "id": "3efe3e08-4598-4d6b-a276-62b1bd964a5b",
      "metadata": {
        "id": "3efe3e08-4598-4d6b-a276-62b1bd964a5b",
        "outputId": "3880b984-662f-4120-dd2b-695838834f10"
      },
      "outputs": [
        {
          "name": "stdout",
          "output_type": "stream",
          "text": [
            "True\n"
          ]
        }
      ],
      "source": [
        "#endswith() Returns true if the string ends with the specified value\n",
        "print(\"Edubridge\".endswith(\"dge\"))"
      ]
    },
    {
      "cell_type": "code",
      "execution_count": null,
      "id": "91efca75-2c87-4442-bc6c-9170b5e65f52",
      "metadata": {
        "id": "91efca75-2c87-4442-bc6c-9170b5e65f52",
        "outputId": "ae28cfc1-fd42-47f2-8bed-c50d77c86d0f"
      },
      "outputs": [
        {
          "name": "stdout",
          "output_type": "stream",
          "text": [
            "Edu bridge\n"
          ]
        }
      ],
      "source": [
        "#expandtabs() Sets the tab size of the string\n",
        "print(\"Edu\\tbridge\".expandtabs(4))"
      ]
    },
    {
      "cell_type": "code",
      "execution_count": null,
      "id": "96298c44-1eb3-457c-bbaf-c8fe87d33ece",
      "metadata": {
        "id": "96298c44-1eb3-457c-bbaf-c8fe87d33ece",
        "outputId": "b41ed9ac-6705-4368-cb69-0aa549904b0a"
      },
      "outputs": [
        {
          "name": "stdout",
          "output_type": "stream",
          "text": [
            "10\n"
          ]
        }
      ],
      "source": [
        "#find() Searches the string for a specified value and returns the position of where it was found  -1\n",
        "print(\"Edubridge Python Programming\".find(\"Python\"))"
      ]
    },
    {
      "cell_type": "code",
      "execution_count": null,
      "id": "81aa8e92-121f-4b54-bdbb-29ec99633e8a",
      "metadata": {
        "id": "81aa8e92-121f-4b54-bdbb-29ec99633e8a"
      },
      "outputs": [],
      "source": [
        "#format() Formats specified values in a string\n",
        "txt = \"This product price will be {} to {} Rs!\"\n",
        "print(txt.format(50,100)) "
      ]
    },
    {
      "cell_type": "code",
      "execution_count": null,
      "id": "cd983193-65b8-457e-9219-0708955f33aa",
      "metadata": {
        "id": "cd983193-65b8-457e-9219-0708955f33aa",
        "outputId": "76ca8043-4bf6-4825-8059-ab836addbbe5"
      },
      "outputs": [
        {
          "name": "stdout",
          "output_type": "stream",
          "text": [
            "John's last name is Wick\n"
          ]
        }
      ],
      "source": [
        "# format_map() Formats specified values in a string\n",
        "# input stored in variable a.\n",
        "a = {'x':'John', 'y':'Wick'}\n",
        "  # Use of format_map() function\n",
        "print(\"{x}'s last name is {y}\".format_map(a))\n"
      ]
    },
    {
      "cell_type": "code",
      "execution_count": null,
      "id": "9c33c591-7e59-4a1b-a705-60262e5090f7",
      "metadata": {
        "id": "9c33c591-7e59-4a1b-a705-60262e5090f7"
      },
      "outputs": [],
      "source": [
        "#index() Searches the string for a specified value and returns the position of where it was found\n",
        "#If the value is not found, the find() method returns -1, but the index() method will raise an exception:\n",
        "# string.index(value, start, end)\n",
        "txt = \"Hello, welcome to String function.\"\n",
        "x = txt.index(\"e\")\n",
        "#x = txt.index(\"e\", 5, 10)\n",
        "print(x) \n"
      ]
    },
    {
      "cell_type": "code",
      "execution_count": null,
      "id": "3f072b87-a460-4d4f-88ad-fede22e9bdc3",
      "metadata": {
        "id": "3f072b87-a460-4d4f-88ad-fede22e9bdc3"
      },
      "outputs": [],
      "source": [
        "# join() Converts the elements of an iterable into a string\n",
        "#string.join(iterable)\n",
        "myTuple = (\"John\", \"Peter\", \"Vicky\")\n",
        "x = \"34343\".join(myTuple)\n",
        "print(x) \n"
      ]
    },
    {
      "cell_type": "code",
      "execution_count": null,
      "id": "368193a8-dbbb-4046-92a7-a5f72adb3177",
      "metadata": {
        "id": "368193a8-dbbb-4046-92a7-a5f72adb3177"
      },
      "outputs": [],
      "source": [
        "x ='Python Test'\n",
        "print(x.join(''))\n",
        "pri"
      ]
    },
    {
      "cell_type": "code",
      "execution_count": null,
      "id": "7bc2ea4c-1e4e-4d7d-9197-ebb0526f4310",
      "metadata": {
        "id": "7bc2ea4c-1e4e-4d7d-9197-ebb0526f4310"
      },
      "outputs": [],
      "source": [
        ""
      ]
    },
    {
      "cell_type": "code",
      "execution_count": null,
      "id": "84ed5f43-0719-489b-a594-8a44a2581b36",
      "metadata": {
        "id": "84ed5f43-0719-489b-a594-8a44a2581b36"
      },
      "outputs": [],
      "source": [
        ""
      ]
    },
    {
      "cell_type": "code",
      "execution_count": null,
      "id": "432d15aa-1e74-4e3f-b75d-086c345a6bc2",
      "metadata": {
        "id": "432d15aa-1e74-4e3f-b75d-086c345a6bc2"
      },
      "outputs": [],
      "source": [
        "#ljust() Returns a left justified version of the string\n",
        "txt = \"EduBridge\"\n",
        "x = txt.ljust(40)\n",
        "print(x, \"Python Programming\")\n"
      ]
    },
    {
      "cell_type": "code",
      "execution_count": null,
      "id": "7231d66a-04c9-4a6f-879d-a06c31f3eb93",
      "metadata": {
        "id": "7231d66a-04c9-4a6f-879d-a06c31f3eb93"
      },
      "outputs": [],
      "source": [
        "#lstrip() Returns a left trim version of the string\n",
        "txt = \"     EduBridge     \"\n",
        "x = txt.lstrip()\n",
        "print(\"THE\", x, \"EDUCATION\")\n"
      ]
    },
    {
      "cell_type": "code",
      "execution_count": null,
      "id": "5d4ecd80-8657-4b5b-97d3-e023b76d239e",
      "metadata": {
        "id": "5d4ecd80-8657-4b5b-97d3-e023b76d239e"
      },
      "outputs": [],
      "source": [
        "#Create a mapping table, and use it in the translate() method to replace any \"S\" characters with a \"P\" character:\n",
        "txt = \"Hello Sam!\"\n",
        "mytable = txt.maketrans(\"S\", \"P\")\n",
        "print(txt.translate(mytable))"
      ]
    },
    {
      "cell_type": "code",
      "execution_count": null,
      "id": "9e400340-7595-4ccd-9935-fcadd54c4262",
      "metadata": {
        "id": "9e400340-7595-4ccd-9935-fcadd54c4262"
      },
      "outputs": [],
      "source": [
        "\n",
        "txt = \"THE EDUBRIDGE EDUCATION LTD\"\n",
        "x = txt.partition(\"EDUBRIDGE\")\n",
        "print(x) "
      ]
    },
    {
      "cell_type": "code",
      "execution_count": null,
      "id": "3ff7d99c-934c-460f-8ed1-1f4050824930",
      "metadata": {
        "id": "3ff7d99c-934c-460f-8ed1-1f4050824930"
      },
      "outputs": [],
      "source": [
        "#replace() Returns a string where a specified value is replaced with a specified value\n",
        "txt = \"THE EDUBRIDGE EDUCATION LTD\"\n",
        "x = txt.replace(\"LTD\", \"PV.LTD\")\n",
        "print(x) "
      ]
    },
    {
      "cell_type": "code",
      "execution_count": null,
      "id": "b9dd0da6-2319-451a-af4f-e10c756fd894",
      "metadata": {
        "id": "b9dd0da6-2319-451a-af4f-e10c756fd894"
      },
      "outputs": [],
      "source": [
        "#split() Splits the string at the specified separator, and returns a list\n",
        "#string.split(separator, maxsplit) \n",
        "txt = \"apple#banana#cherry#orange\"\n",
        "x = txt.split(\"#\")\n",
        "print(x) "
      ]
    },
    {
      "cell_type": "code",
      "execution_count": null,
      "id": "a47f1290-7808-4943-9095-f124daf3b311",
      "metadata": {
        "id": "a47f1290-7808-4943-9095-f124daf3b311"
      },
      "outputs": [],
      "source": [
        "#string.splitlines(keeplinebreaks) \n",
        "#The splitlines() method splits a string into a list. The splitting is done at line breaks.\n",
        "txt = \"line1\\nline2\"\n",
        "x = txt.splitlines()\n",
        "print(x)"
      ]
    },
    {
      "cell_type": "code",
      "execution_count": null,
      "id": "c95473fb-6d80-41d7-bbc4-d700976aa79d",
      "metadata": {
        "id": "c95473fb-6d80-41d7-bbc4-d700976aa79d"
      },
      "outputs": [],
      "source": [
        "#The strip() method removes any leading (spaces at the beginning) and \n",
        "#trailing (spaces at the end) characters (space is the default leading character to remove)\n",
        "#string.strip(characters) \n",
        "txt = \"     banana     \"\n",
        "x = txt.strip()\n",
        "print(\"of all fruits\", x, \"is my favorite\")\n"
      ]
    },
    {
      "cell_type": "code",
      "execution_count": null,
      "id": "588820f5-0784-4913-b252-0197cc77c5ef",
      "metadata": {
        "id": "588820f5-0784-4913-b252-0197cc77c5ef"
      },
      "outputs": [],
      "source": [
        "txt = \",,,,,rrttgg.....banana....rrr\"\n",
        "x = txt.strip(\",.grt\")\n",
        "print(x)\n"
      ]
    },
    {
      "cell_type": "code",
      "execution_count": null,
      "id": "374c2b66-6e37-4933-afa3-01a73b345cf2",
      "metadata": {
        "id": "374c2b66-6e37-4933-afa3-01a73b345cf2"
      },
      "outputs": [],
      "source": [
        "#use a dictionary with ascii codes to replace 83 (S) with 80 (P):\n",
        "mydict = {83:  80}\n",
        "txt = \"Hello Sam!\"\n",
        "print(txt.translate(mydict))"
      ]
    },
    {
      "cell_type": "code",
      "execution_count": null,
      "id": "8f6ab71f-9927-4cb5-b376-31f8c52725d1",
      "metadata": {
        "id": "8f6ab71f-9927-4cb5-b376-31f8c52725d1"
      },
      "outputs": [],
      "source": [
        "#Fill the strings with zeros until they are 10 characters long:\n",
        "txt = \"50\"\n",
        "x = txt.zfill(10)\n",
        "print(x)\n"
      ]
    },
    {
      "cell_type": "markdown",
      "id": "93395167-1653-4d12-89ba-e20953b1e13d",
      "metadata": {
        "id": "93395167-1653-4d12-89ba-e20953b1e13d"
      },
      "source": [
        "### Python List/Array Methods\n",
        "- Python has a set of built-in methods that you can use on lists/arrays.\n"
      ]
    },
    {
      "cell_type": "markdown",
      "id": "3902a2c6-a30a-420c-a1eb-fac3543843ac",
      "metadata": {
        "id": "3902a2c6-a30a-420c-a1eb-fac3543843ac"
      },
      "source": [
        "- append()\tAdds an element at the end of the list\n",
        "- clear()\tRemoves all the elements from the list\n",
        "- copy()\tReturns a copy of the list\n",
        "- count()\tReturns the number of elements with the specified value\n",
        "- extend()\tAdd the elements of a list (or any iterable), to the end of the current list\n",
        " - index()\tReturns the index of the first element with the specified value\n",
        "- insert()\tAdds an element at the specified position\n",
        "- pop()\tRemoves the element at the specified position\n",
        "- remove()\tRemoves the first item with the specified value\n",
        "- reverse()\tReverses the order of the list\n",
        "- sort()\tSorts the list"
      ]
    },
    {
      "cell_type": "code",
      "execution_count": null,
      "id": "b1089078-292b-47a1-b0dc-89d45bc78f89",
      "metadata": {
        "id": "b1089078-292b-47a1-b0dc-89d45bc78f89"
      },
      "outputs": [],
      "source": [
        "for i in dir(str):\n",
        "           if i.isalpha():\n",
        "              print(i,end=\"(), \")"
      ]
    },
    {
      "cell_type": "code",
      "execution_count": null,
      "id": "522c526d-be09-4ed5-8a07-ffb33f5abda9",
      "metadata": {
        "id": "522c526d-be09-4ed5-8a07-ffb33f5abda9"
      },
      "outputs": [],
      "source": [
        "for i in dir(list):\n",
        "           if i.isalpha():\n",
        "              print(i,end=\"(), \")\n",
        "                "
      ]
    },
    {
      "cell_type": "code",
      "execution_count": null,
      "id": "fede7a47-bb24-405c-b028-1cb75b8ef593",
      "metadata": {
        "id": "fede7a47-bb24-405c-b028-1cb75b8ef593"
      },
      "outputs": [],
      "source": [
        "for i in dir(tuple):\n",
        "           if i.isalpha():\n",
        "              print(i,end=\"(), \")"
      ]
    },
    {
      "cell_type": "code",
      "execution_count": null,
      "id": "329d289a-8c56-4758-a57d-e4be87304e9a",
      "metadata": {
        "id": "329d289a-8c56-4758-a57d-e4be87304e9a"
      },
      "outputs": [],
      "source": [
        "for i in dir(dict):\n",
        "           if i.isalpha():\n",
        "              print(i,end=\"(), \")"
      ]
    },
    {
      "cell_type": "code",
      "execution_count": null,
      "id": "7ddada55-0a9a-4d4c-a797-d232fc314586",
      "metadata": {
        "id": "7ddada55-0a9a-4d4c-a797-d232fc314586"
      },
      "outputs": [],
      "source": [
        "for i in dir(set):\n",
        "           if i.isalpha():\n",
        "              print(i,end=\"(), \")"
      ]
    },
    {
      "cell_type": "code",
      "execution_count": null,
      "id": "57128ec5-46e4-411f-a1d2-347a23dd3cc6",
      "metadata": {
        "id": "57128ec5-46e4-411f-a1d2-347a23dd3cc6"
      },
      "outputs": [],
      "source": [
        "for i in dir(frozenset):\n",
        "           if i.isalpha():\n",
        "              print(i,end=\"(), \")"
      ]
    },
    {
      "cell_type": "code",
      "execution_count": null,
      "id": "7921e4b3-da9b-4229-9e57-0f971da4e1e8",
      "metadata": {
        "id": "7921e4b3-da9b-4229-9e57-0f971da4e1e8"
      },
      "outputs": [],
      "source": [
        "for i in dir(bool):\n",
        "           if i.isalpha():\n",
        "              print(i,end=\"(), \")"
      ]
    },
    {
      "cell_type": "code",
      "execution_count": null,
      "id": "45db1b66-0fd8-4d0b-8f98-2c5ef52d8b9c",
      "metadata": {
        "id": "45db1b66-0fd8-4d0b-8f98-2c5ef52d8b9c"
      },
      "outputs": [],
      "source": [
        "for i in dir(range):\n",
        "           if i.isalpha():\n",
        "              print(i,end=\"(), \")"
      ]
    },
    {
      "cell_type": "code",
      "execution_count": null,
      "id": "2c7df59c-efeb-4ea7-8ecc-652ad3dd2dd0",
      "metadata": {
        "id": "2c7df59c-efeb-4ea7-8ecc-652ad3dd2dd0"
      },
      "outputs": [],
      "source": [
        "#list.append(elmnt) \n",
        "list1 = ['a', 'b', 'c']\n",
        "print(len(list1)) #builtin function explict\n",
        "list1.append(\"data\") # builtin method implicit\n",
        "print(list1)"
      ]
    },
    {
      "cell_type": "code",
      "execution_count": null,
      "id": "74323d70-9c49-457a-8569-cfe46fbfac87",
      "metadata": {
        "id": "74323d70-9c49-457a-8569-cfe46fbfac87"
      },
      "outputs": [],
      "source": [
        "list1 = ['a', 'b', 'c']\n",
        "list1.clear()\n",
        "print(list1)"
      ]
    },
    {
      "cell_type": "code",
      "execution_count": null,
      "id": "3bedfff2-cab9-4a05-a6d1-5bafad43f897",
      "metadata": {
        "id": "3bedfff2-cab9-4a05-a6d1-5bafad43f897"
      },
      "outputs": [],
      "source": [
        "list1 = ['a', 'b', 'c']\n",
        "l2=list1.copy()\n",
        "print(l2)"
      ]
    },
    {
      "cell_type": "code",
      "execution_count": null,
      "id": "c79bbb66-0bff-4a1d-9944-c0937d4161ee",
      "metadata": {
        "id": "c79bbb66-0bff-4a1d-9944-c0937d4161ee"
      },
      "outputs": [],
      "source": [
        "#count()\tReturns the number of elements with the specified value\n",
        "list1 = ['a', 'b', 'c','c','d','c']\n",
        "print(list1.count('c'))"
      ]
    },
    {
      "cell_type": "code",
      "execution_count": null,
      "id": "edeaa533-032d-40f9-bdce-cbe79d7db2a1",
      "metadata": {
        "id": "edeaa533-032d-40f9-bdce-cbe79d7db2a1"
      },
      "outputs": [],
      "source": [
        "#extend()\tAdd the elements of a list (or any iterable), to the end of the current list\n",
        "list1 = ['a', 'b', 'c','c','d','c']\n",
        "l2=[\"x\",\"y\",\"z\"]\n",
        "list1.extend(l2)\n",
        "print(list1)"
      ]
    },
    {
      "cell_type": "code",
      "execution_count": null,
      "id": "2fef6654-fb0f-42d5-b3fa-9f11da6aa229",
      "metadata": {
        "id": "2fef6654-fb0f-42d5-b3fa-9f11da6aa229"
      },
      "outputs": [],
      "source": [
        "#index()\tReturns the index of the first element with the specified value\n"
      ]
    },
    {
      "cell_type": "code",
      "execution_count": null,
      "id": "d61be60a-b5d4-499c-9a9b-1ce2220b671b",
      "metadata": {
        "id": "d61be60a-b5d4-499c-9a9b-1ce2220b671b"
      },
      "outputs": [],
      "source": [
        "list1=[10,30]\n",
        "list2 = list1  # list aliasing in python\n",
        "list1[0] = 40\n",
        "print(list2)\n",
        "print(list1)\n",
        "print(id(list1))\n",
        "print(id(list2))"
      ]
    },
    {
      "cell_type": "code",
      "execution_count": null,
      "id": "f240a0b8-6f62-48d4-bf68-9322063ea69d",
      "metadata": {
        "id": "f240a0b8-6f62-48d4-bf68-9322063ea69d"
      },
      "outputs": [],
      "source": [
        "str1=\"123\"\n",
        "#str2=str1\n",
        "print(id(str1))\n",
        "print(id(str2))\n",
        "str1=\"abc\"\n",
        "str2=str1\n",
        "print(id(str1))\n"
      ]
    },
    {
      "cell_type": "code",
      "execution_count": null,
      "id": "18b559c7-8a7e-4061-b0a8-38d32345b97b",
      "metadata": {
        "id": "18b559c7-8a7e-4061-b0a8-38d32345b97b"
      },
      "outputs": [],
      "source": [
        ""
      ]
    },
    {
      "cell_type": "code",
      "execution_count": null,
      "id": "38100136-10a0-4fc0-a256-d4914ba6a8d3",
      "metadata": {
        "id": "38100136-10a0-4fc0-a256-d4914ba6a8d3"
      },
      "outputs": [],
      "source": [
        "fru = (\"vanana\",\"brapes\",\"zango\",\"WaterMelon\")\n",
        "print(min(fruits))"
      ]
    },
    {
      "cell_type": "code",
      "execution_count": null,
      "id": "a16d04e9-a99b-4d24-9599-3167f34cfe1d",
      "metadata": {
        "id": "a16d04e9-a99b-4d24-9599-3167f34cfe1d"
      },
      "outputs": [],
      "source": [
        "print(max(fruits))"
      ]
    },
    {
      "cell_type": "code",
      "execution_count": null,
      "id": "ff8f2fe9-eea0-4e3e-9347-38b12a8853a9",
      "metadata": {
        "id": "ff8f2fe9-eea0-4e3e-9347-38b12a8853a9"
      },
      "outputs": [],
      "source": [
        ""
      ]
    }
  ],
  "metadata": {
    "kernelspec": {
      "display_name": "Python 3 (ipykernel)",
      "language": "python",
      "name": "python3"
    },
    "language_info": {
      "codemirror_mode": {
        "name": "ipython",
        "version": 3
      },
      "file_extension": ".py",
      "mimetype": "text/x-python",
      "name": "python",
      "nbconvert_exporter": "python",
      "pygments_lexer": "ipython3",
      "version": "3.9.12"
    },
    "colab": {
      "name": "Buit-in-Function.ipynb",
      "provenance": [],
      "include_colab_link": true
    }
  },
  "nbformat": 4,
  "nbformat_minor": 5
}