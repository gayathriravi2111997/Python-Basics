{
 "cells": [
  {
   "cell_type": "markdown",
   "id": "018f2448-65ac-42a1-8635-a08b7e814787",
   "metadata": {},
   "source": [
    "### Types of Operator\n",
    "\n",
    "Python language supports the following types of operators.\n",
    "\n",
    "  -  Arithmetic Operators\n",
    "  - Comparison (Relational) Operators\n",
    "  -  Assignment Operators\n",
    "  - Logical Operators\n",
    "  - Bitwise Operators\n",
    "  - Membership Operators\n",
    "  - Identity Operators\n"
   ]
  },
  {
   "cell_type": "markdown",
   "id": "ea42ff91-b9c0-4716-a781-99db677e8eb8",
   "metadata": {},
   "source": [
    "### Arithmetic Operators\n",
    "Operator \tDescription \tExample\n",
    "+ Addition \tAdds values on either side of the operator. \ta + b = 30\n",
    "- Subtraction \tSubtracts right hand operand from left hand operand. \ta – b = -10\n",
    "* Multiplication \tMultiplies values on either side of the operator \ta * b = 200\n",
    "- / Division \tDivides left hand operand by right hand operand \tb / a = 2\n",
    "- % Modulus \tDivides left hand operand by right hand operand and returns remainder \tb % a = 0\n",
    "- ** Exponent \tPerforms exponential (power) calculation on operators \ta**b =10 to the power 20\n",
    "- // \tFloor Division - The division of operands where the result is the quotient in which the digits after the decimal point are removed. But if one of the operands is negative, the result is floored, i.e., rounded away from zero (towards negative infinity) − \t9//2 = 4 and 9.0//2.0 = 4.0, -11//3 = -4, -11.0//3 = -4.0"
   ]
  },
  {
   "cell_type": "markdown",
   "id": "7176db6f-6224-4f83-b74d-6027a81141bd",
   "metadata": {},
   "source": [
    "\n",
    " "
   ]
  },
  {
   "cell_type": "code",
   "execution_count": 4,
   "id": "79aac65b-ae9c-4a56-abd5-731f2328c612",
   "metadata": {},
   "outputs": [
    {
     "name": "stdout",
     "output_type": "stream",
     "text": [
      "9\n",
      "pythonprogramming\n",
      "[1, 23, 5, 'a', 'f']\n",
      "(1, 2, 3, 10, 20)\n"
     ]
    },
    {
     "ename": "TypeError",
     "evalue": "unsupported operand type(s) for +: 'set' and 'set'",
     "output_type": "error",
     "traceback": [
      "\u001b[1;31m---------------------------------------------------------------------------\u001b[0m",
      "\u001b[1;31mTypeError\u001b[0m                                 Traceback (most recent call last)",
      "\u001b[1;32m~\\AppData\\Local\\Temp/ipykernel_14596/3599310276.py\u001b[0m in \u001b[0;36m<module>\u001b[1;34m\u001b[0m\n\u001b[0;32m      4\u001b[0m \u001b[0mprint\u001b[0m\u001b[1;33m(\u001b[0m\u001b[1;33m(\u001b[0m\u001b[1;36m1\u001b[0m\u001b[1;33m,\u001b[0m\u001b[1;36m2\u001b[0m\u001b[1;33m,\u001b[0m\u001b[1;36m3\u001b[0m\u001b[1;33m)\u001b[0m\u001b[1;33m+\u001b[0m\u001b[1;33m(\u001b[0m\u001b[1;36m10\u001b[0m\u001b[1;33m,\u001b[0m\u001b[1;36m20\u001b[0m\u001b[1;33m)\u001b[0m\u001b[1;33m)\u001b[0m\u001b[1;33m\u001b[0m\u001b[1;33m\u001b[0m\u001b[0m\n\u001b[0;32m      5\u001b[0m \u001b[1;31m#print({1:\"a\"}+{2:\"b\"}) # not supported\u001b[0m\u001b[1;33m\u001b[0m\u001b[1;33m\u001b[0m\u001b[1;33m\u001b[0m\u001b[0m\n\u001b[1;32m----> 6\u001b[1;33m \u001b[0mprint\u001b[0m\u001b[1;33m(\u001b[0m\u001b[1;33m{\u001b[0m\u001b[1;36m1\u001b[0m\u001b[1;33m,\u001b[0m\u001b[1;36m2\u001b[0m\u001b[1;33m,\u001b[0m\u001b[1;36m3\u001b[0m\u001b[1;33m}\u001b[0m\u001b[1;33m+\u001b[0m\u001b[1;33m{\u001b[0m\u001b[1;36m5\u001b[0m\u001b[1;33m,\u001b[0m\u001b[1;36m6\u001b[0m\u001b[1;33m}\u001b[0m\u001b[1;33m)\u001b[0m \u001b[1;31m# not supported\u001b[0m\u001b[1;33m\u001b[0m\u001b[1;33m\u001b[0m\u001b[0m\n\u001b[0m",
      "\u001b[1;31mTypeError\u001b[0m: unsupported operand type(s) for +: 'set' and 'set'"
     ]
    }
   ],
   "source": [
    "print(3+6) # add two number\n",
    "print(\"python\"+\"programming\") # str concatenation\n",
    "print([1,23,5]+[\"a\",\"f\"]) # extends list\n",
    "print((1,2,3)+(10,20))\n",
    "#print({1:\"a\"}+{2:\"b\"}) # not supported\n",
    "#print({1,2,3}+{5,6}) # not supported\n"
   ]
  },
  {
   "cell_type": "code",
   "execution_count": 7,
   "id": "ae16bebf-0072-41b7-9f67-edd28a7cacc6",
   "metadata": {},
   "outputs": [
    {
     "name": "stdout",
     "output_type": "stream",
     "text": [
      "0.85887\n",
      "{2}\n"
     ]
    }
   ],
   "source": [
    "print(3.42343-2.56456)\n",
    "#print(\"python\"-\"programming\")\n",
    "print({1,2,3}-{1,3,8}) # set difference "
   ]
  },
  {
   "cell_type": "code",
   "execution_count": 9,
   "id": "528b5399-296d-4844-9165-ce47b425f409",
   "metadata": {},
   "outputs": [
    {
     "name": "stdout",
     "output_type": "stream",
     "text": [
      "6\n",
      "EduBridgeEduBridgeEduBridge\n",
      "[1, 23, 1, 23, 1, 23, 1, 23, 1, 23]\n",
      "(12, 3, 12, 3, 12, 3, 12, 3)\n"
     ]
    },
    {
     "ename": "TypeError",
     "evalue": "unsupported operand type(s) for *: 'set' and 'int'",
     "output_type": "error",
     "traceback": [
      "\u001b[1;31m---------------------------------------------------------------------------\u001b[0m",
      "\u001b[1;31mTypeError\u001b[0m                                 Traceback (most recent call last)",
      "\u001b[1;32m~\\AppData\\Local\\Temp/ipykernel_14596/2944610755.py\u001b[0m in \u001b[0;36m<module>\u001b[1;34m\u001b[0m\n\u001b[0;32m      3\u001b[0m \u001b[0mprint\u001b[0m\u001b[1;33m(\u001b[0m\u001b[1;33m[\u001b[0m\u001b[1;36m1\u001b[0m\u001b[1;33m,\u001b[0m\u001b[1;36m23\u001b[0m\u001b[1;33m]\u001b[0m\u001b[1;33m*\u001b[0m\u001b[1;36m5\u001b[0m\u001b[1;33m)\u001b[0m\u001b[1;33m\u001b[0m\u001b[1;33m\u001b[0m\u001b[0m\n\u001b[0;32m      4\u001b[0m \u001b[0mprint\u001b[0m\u001b[1;33m(\u001b[0m\u001b[1;33m(\u001b[0m\u001b[1;36m12\u001b[0m\u001b[1;33m,\u001b[0m\u001b[1;36m3\u001b[0m\u001b[1;33m)\u001b[0m\u001b[1;33m*\u001b[0m\u001b[1;36m4\u001b[0m\u001b[1;33m)\u001b[0m\u001b[1;33m\u001b[0m\u001b[1;33m\u001b[0m\u001b[0m\n\u001b[1;32m----> 5\u001b[1;33m \u001b[0mprint\u001b[0m\u001b[1;33m(\u001b[0m\u001b[1;33m{\u001b[0m\u001b[1;36m1\u001b[0m\u001b[1;33m,\u001b[0m\u001b[1;36m2\u001b[0m\u001b[1;33m,\u001b[0m\u001b[1;36m3\u001b[0m\u001b[1;33m}\u001b[0m\u001b[1;33m*\u001b[0m\u001b[1;36m2\u001b[0m\u001b[1;33m)\u001b[0m\u001b[1;33m\u001b[0m\u001b[1;33m\u001b[0m\u001b[0m\n\u001b[0m",
      "\u001b[1;31mTypeError\u001b[0m: unsupported operand type(s) for *: 'set' and 'int'"
     ]
    }
   ],
   "source": [
    "print(2*3)\n",
    "print(\"EduBridge\"*3)\n",
    "print([1,23]*5)\n",
    "print((12,3)*4)\n",
    "#print({1,2,3}*2)"
   ]
  },
  {
   "cell_type": "code",
   "execution_count": 10,
   "id": "3516d47a-72b9-42fc-bdac-5905dbb82f6d",
   "metadata": {},
   "outputs": [
    {
     "name": "stdout",
     "output_type": "stream",
     "text": [
      "1.0\n"
     ]
    }
   ],
   "source": [
    "print(3/3)\n",
    "# print(\"python\"/2)"
   ]
  },
  {
   "cell_type": "code",
   "execution_count": 11,
   "id": "0ccad367-ecbb-43d0-abe1-1cebd6d6a7cf",
   "metadata": {},
   "outputs": [
    {
     "name": "stdout",
     "output_type": "stream",
     "text": [
      "1\n",
      "0\n"
     ]
    }
   ],
   "source": [
    "print(3%2) # reminder\n",
    "print(3%3)"
   ]
  },
  {
   "cell_type": "code",
   "execution_count": 12,
   "id": "e8ecdbce-77c4-4cc9-95ce-fa090b85354f",
   "metadata": {},
   "outputs": [
    {
     "name": "stdout",
     "output_type": "stream",
     "text": [
      "8\n"
     ]
    },
    {
     "data": {
      "text/plain": [
       "8"
      ]
     },
     "execution_count": 12,
     "metadata": {},
     "output_type": "execute_result"
    }
   ],
   "source": [
    "print(2**3) \n",
    "pow(2,3)"
   ]
  },
  {
   "cell_type": "code",
   "execution_count": 21,
   "id": "e2cae1f7-576e-4aaf-ac48-432b22fa7fce",
   "metadata": {},
   "outputs": [
    {
     "name": "stdout",
     "output_type": "stream",
     "text": [
      "2\n"
     ]
    }
   ],
   "source": [
    "print(10//4)"
   ]
  },
  {
   "cell_type": "markdown",
   "id": "51fe66a6-c651-42b3-80e9-3d947902f998",
   "metadata": {},
   "source": [
    "\n"
   ]
  },
  {
   "cell_type": "code",
   "execution_count": 13,
   "id": "bb388fad-e7d0-4694-96d0-82f3b265d989",
   "metadata": {},
   "outputs": [
    {
     "name": "stdout",
     "output_type": "stream",
     "text": [
      "30\n"
     ]
    }
   ],
   "source": [
    "x=10\n",
    "x+=20 # x=x+20\n",
    "print(x)"
   ]
  },
  {
   "cell_type": "markdown",
   "id": "92ddcc0f-aa1d-4d8a-bab6-9d702629de07",
   "metadata": {},
   "source": [
    "## Python Assignment Operators  =\n",
    "\n",
    "### Component Assignment Operators a+=3   ==> a=a+3\n",
    "- +=     \n",
    "- -=        \n",
    "- *=     \n",
    "- /=        \n",
    "- %=        \n",
    "- //=       \n",
    "- **=        \n",
    "\n"
   ]
  },
  {
   "cell_type": "code",
   "execution_count": 49,
   "id": "8db623bb-06f8-4752-8261-4d0e47b30eb2",
   "metadata": {},
   "outputs": [
    {
     "name": "stdout",
     "output_type": "stream",
     "text": [
      "('Line 1 - Result of + is ', 13)\n"
     ]
    }
   ],
   "source": [
    "num1 = 4\n",
    "num2 = 5\n",
    "res = num1 + num2\n",
    "res += num1\n",
    "print((\"Line 1 - Result of + is \", res))"
   ]
  },
  {
   "cell_type": "markdown",
   "id": "d4dc26be-274f-496c-9998-2000334fb09f",
   "metadata": {},
   "source": [
    "## Relational Operators \n",
    "```python\n",
    "== equal, <, >, <=, >=,!=\n",
    "```\n",
    "- Return Boolean Value True /False"
   ]
  },
  {
   "cell_type": "code",
   "execution_count": 16,
   "id": "812dc2eb-d5bf-4292-91ec-4b9f920bcc31",
   "metadata": {},
   "outputs": [
    {
     "name": "stdout",
     "output_type": "stream",
     "text": [
      "False\n"
     ]
    }
   ],
   "source": [
    "# Comparison Operator\n",
    "n1=\"fsdf\"\n",
    "n2=\"fsdf\"\n",
    "print(n1==n2) # equal value \n"
   ]
  },
  {
   "cell_type": "code",
   "execution_count": 22,
   "id": "2397be96-7814-422e-a4c2-d2fb87b04ab9",
   "metadata": {},
   "outputs": [
    {
     "name": "stdout",
     "output_type": "stream",
     "text": [
      "True\n",
      "True\n"
     ]
    }
   ],
   "source": [
    "n1=20\n",
    "n2=5\n",
    "print(n1!=n2)\n",
    "print(n1>n2)"
   ]
  },
  {
   "cell_type": "code",
   "execution_count": 23,
   "id": "20661021-8c05-4837-a9fe-7ca4e3c190d0",
   "metadata": {},
   "outputs": [
    {
     "name": "stdout",
     "output_type": "stream",
     "text": [
      "True\n",
      "False\n"
     ]
    }
   ],
   "source": [
    "print(10>=10)\n",
    "print(10<5)"
   ]
  },
  {
   "cell_type": "markdown",
   "id": "d58bb8b7-0f78-4f14-95a9-aacac403abb0",
   "metadata": {},
   "source": [
    "### Logical Operator\n",
    "- and , or, not"
   ]
  },
  {
   "cell_type": "code",
   "execution_count": 24,
   "id": "c093d4cd-6360-49df-b2c5-42ec9bfb2ba3",
   "metadata": {},
   "outputs": [
    {
     "name": "stdout",
     "output_type": "stream",
     "text": [
      "('a and b is', False)\n",
      "('a or b is', True)\n",
      "('not a is', False)\n"
     ]
    }
   ],
   "source": [
    "a = True\n",
    "b = False\n",
    "print(('a and b is',a and b))\n",
    "print(('a or b is',a or b))\n",
    "print(('not a is',not a))"
   ]
  },
  {
   "cell_type": "markdown",
   "id": "22e0d877-572c-4fd0-a8d4-e295312730dc",
   "metadata": {},
   "source": [
    "### Membership Operators\n",
    "- in , not in"
   ]
  },
  {
   "cell_type": "code",
   "execution_count": 2,
   "id": "a6502875-d4cd-4fc5-8594-dee2a17a490c",
   "metadata": {},
   "outputs": [
    {
     "name": "stdout",
     "output_type": "stream",
     "text": [
      "True\n"
     ]
    }
   ],
   "source": [
    "str1=\"Python Programming\"\n",
    "print(\"y\" in str1)"
   ]
  },
  {
   "cell_type": "code",
   "execution_count": 4,
   "id": "2de2e03a-20a9-49a6-b55b-b4746c8a7bc6",
   "metadata": {},
   "outputs": [
    {
     "name": "stdout",
     "output_type": "stream",
     "text": [
      "True\n"
     ]
    }
   ],
   "source": [
    "list1=[\"a\",\"b\",1,2,4]\n",
    "print(1 in list1)"
   ]
  },
  {
   "cell_type": "code",
   "execution_count": 6,
   "id": "9a3fcda7-4d9a-4421-bf50-d07d3187305f",
   "metadata": {},
   "outputs": [
    {
     "name": "stdout",
     "output_type": "stream",
     "text": [
      "P\n",
      "y\n",
      "t\n",
      "h\n",
      "o\n",
      "n\n",
      " \n",
      "P\n",
      "r\n",
      "o\n",
      "g\n",
      "r\n",
      "a\n",
      "m\n",
      "m\n",
      "i\n",
      "n\n",
      "g\n"
     ]
    }
   ],
   "source": [
    "for i in str1:\n",
    "    print(i)"
   ]
  },
  {
   "cell_type": "code",
   "execution_count": 34,
   "id": "3a0003d9-025b-48a1-aea3-378446d5d1ce",
   "metadata": {},
   "outputs": [
    {
     "name": "stdout",
     "output_type": "stream",
     "text": [
      "Line 1 - x is available in the given list\n",
      "Line 2 - y is not available in the given list\n"
     ]
    }
   ],
   "source": [
    "x = 4\n",
    "y = 8\n",
    "list = [1, 2, 3, 4, 5 ];\n",
    "if ( x in list ):\n",
    "    print(\"Line 1 - x is available in the given list\")\n",
    "else:\n",
    "    print(\"Line 1 - x is not available in the given list\")\n",
    "if ( y  not in list ):\n",
    "    print(\"Line 2 - y is not available in the given list\")\n",
    "else:\n",
    "    print(\"Line 2 - y is available in the given list\")"
   ]
  },
  {
   "cell_type": "markdown",
   "id": "bd3d86e6-121a-46ea-bbfd-417a3e9945a7",
   "metadata": {},
   "source": [
    "### Identity Operators\n",
    "- is , is not"
   ]
  },
  {
   "cell_type": "code",
   "execution_count": 37,
   "id": "93989c83-9709-49b0-b7ac-7a5cb2ad5cca",
   "metadata": {},
   "outputs": [
    {
     "name": "stdout",
     "output_type": "stream",
     "text": [
      "False\n",
      "False\n",
      "True\n"
     ]
    }
   ],
   "source": [
    "x = [\"apple\", \"banana\"]\n",
    "y = [\"apple\", \"banana\"]\n",
    "z = x\n",
    "print(x is not  z)\n",
    "# returns True because z is the same object as x\n",
    "print(x is y)\n",
    "# returns False because x is not the same object as y, even if they have the same content\n",
    "print(x == y)\n"
   ]
  },
  {
   "cell_type": "markdown",
   "id": "24b4436c-c467-4319-88f9-154be77db206",
   "metadata": {
    "tags": []
   },
   "source": [
    "### Bitwise Operators\n",
    "- &  ,  | , ~  ,<<,>>, ^ #(and,or,not)"
   ]
  },
  {
   "cell_type": "code",
   "execution_count": 14,
   "id": "ae56aafb-1436-463c-8fb3-eb0ac4cda748",
   "metadata": {},
   "outputs": [
    {
     "name": "stdout",
     "output_type": "stream",
     "text": [
      "0b111100 0b1101\n",
      "12\n",
      "61\n",
      "-61\n",
      "0b100 0b10\n",
      "1\n",
      "16\n",
      "49\n"
     ]
    }
   ],
   "source": [
    "a=60\n",
    "b=13\n",
    "print(bin(a),bin(b))\n",
    "print(a&b)\n",
    "print(a|b)\n",
    "print(~a)\n",
    "print(bin(4),bin(2))\n",
    "print(4>>2)\n",
    "print(4<<2)\n",
    "print(60^13)\n"
   ]
  },
  {
   "cell_type": "code",
   "execution_count": null,
   "id": "a3f7ad71-e8e7-4b82-a123-4420bcef7d78",
   "metadata": {},
   "outputs": [],
   "source": []
  },
  {
   "cell_type": "code",
   "execution_count": null,
   "id": "e3bcf911-94b0-4830-90d1-eb6d1a989bc9",
   "metadata": {},
   "outputs": [],
   "source": []
  }
 ],
 "metadata": {
  "kernelspec": {
   "display_name": "Python 3 (ipykernel)",
   "language": "python",
   "name": "python3"
  },
  "language_info": {
   "codemirror_mode": {
    "name": "ipython",
    "version": 3
   },
   "file_extension": ".py",
   "mimetype": "text/x-python",
   "name": "python",
   "nbconvert_exporter": "python",
   "pygments_lexer": "ipython3",
   "version": "3.9.6"
  }
 },
 "nbformat": 4,
 "nbformat_minor": 5
}
