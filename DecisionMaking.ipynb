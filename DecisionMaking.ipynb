{
  "cells": [
    {
      "cell_type": "markdown",
      "metadata": {
        "id": "view-in-github",
        "colab_type": "text"
      },
      "source": [
        "<a href=\"https://colab.research.google.com/github/svkarthik86/Python-Basics/blob/main/DecisionMaking.ipynb\" target=\"_parent\"><img src=\"https://colab.research.google.com/assets/colab-badge.svg\" alt=\"Open In Colab\"/></a>"
      ]
    },
    {
      "cell_type": "markdown",
      "id": "fb6dd651-20cb-4daa-9e32-e8e8bc109cbe",
      "metadata": {
        "id": "fb6dd651-20cb-4daa-9e32-e8e8bc109cbe"
      },
      "source": [
        "### DECISION MAKING STATEMENTS\n",
        "#### Python supports various decision-making statements. These are:\n",
        "- 1. if statements\n",
        "- 2. if-else statements\n",
        "- 3. Nested if statements\n",
        "- 4. Multi-way if-elif-else statements"
      ]
    },
    {
      "cell_type": "markdown",
      "id": "559b0665-ec35-4098-9f4d-4af41762ba3f",
      "metadata": {
        "jp-MarkdownHeadingCollapsed": true,
        "tags": [],
        "id": "559b0665-ec35-4098-9f4d-4af41762ba3f"
      },
      "source": [
        "### if statements\n",
        "\n",
        "- The if statement executes a statement if a condition is true\n",
        "- ![image.png](attachment:5f8b0edb-77e1-4e39-a076-2968889cd1ef.png)\n",
        "- ![image.png](attachment:371757ce-31cd-4e6e-9aff-912e88b03418.png)"
      ]
    },
    {
      "cell_type": "code",
      "execution_count": null,
      "id": "93d26428",
      "metadata": {
        "id": "93d26428",
        "outputId": "817d7695-231c-490d-f999-cf6e1862a10d"
      },
      "outputs": [
        {
          "name": "stdout",
          "output_type": "stream",
          "text": [
            "enter the number24\n",
            "The number is Even\n",
            "program completed\n"
          ]
        }
      ],
      "source": [
        "num=int(input(\"enter the number\"))\n",
        "if num%2==0:\n",
        "    print(\"The number is Even\")\n",
        "else:\n",
        "    print(\"The number is Odd\")\n",
        "    \n",
        "    \n",
        "print(\"program completed\")\n"
      ]
    },
    {
      "cell_type": "markdown",
      "id": "cdcf0bdc-e851-4d4b-905e-676701eb2afe",
      "metadata": {
        "id": "cdcf0bdc-e851-4d4b-905e-676701eb2afe"
      },
      "source": [
        "##### Points to Remember\n",
        "- (a) The statement(s) must be indented at least one space right of the if statement.\n",
        "- (b) In case there is more than one statement after the if condition, then each statement must be indented using the same number of spaces to avoid indentation errors.\n",
        "- The statement(s) within the if block are executed if the Boolean expression evaluates to true."
      ]
    },
    {
      "cell_type": "code",
      "execution_count": null,
      "id": "1f523a6b-56e5-4046-924f-e91d7230a715",
      "metadata": {
        "id": "1f523a6b-56e5-4046-924f-e91d7230a715",
        "outputId": "ad01e4d9-420d-4962-f15f-ad8837706d31"
      },
      "outputs": [
        {
          "name": "stdout",
          "output_type": "stream",
          "text": [
            "Enter First Number: 63\n",
            "Enter Second Number: 52\n",
            "<class 'int'>\n",
            "Both are different Value\n"
          ]
        }
      ],
      "source": [
        "#Write a program that prompts a user to enter two integer values. \n",
        "#Print the message ‘Equals’ if both the entered values are equal.\n",
        "num1=int(input(\"Enter First Number: \"))\n",
        "num2=eval(input(\"Enter Second Number: \"))\n",
        "print(type(num1))\n",
        "if num1-num2==0: \n",
        "    print(\"Both the numbers entered are Equal\")\n",
        "else:\n",
        "    print(\"Both are different Value\")"
      ]
    },
    {
      "cell_type": "code",
      "execution_count": null,
      "id": "7f477f2a",
      "metadata": {
        "id": "7f477f2a",
        "outputId": "20bb8b92-4866-4a72-8b01-645b77b3a5a7"
      },
      "outputs": [
        {
          "name": "stdout",
          "output_type": "stream",
          "text": [
            "enter expression23+45\n"
          ]
        },
        {
          "data": {
            "text/plain": [
              "68"
            ]
          },
          "execution_count": 45,
          "metadata": {},
          "output_type": "execute_result"
        }
      ],
      "source": [
        "c1=eval(input(\"enter expression\"))\n",
        "c1"
      ]
    },
    {
      "cell_type": "code",
      "execution_count": null,
      "id": "356f9283",
      "metadata": {
        "id": "356f9283",
        "outputId": "092f309d-13ef-495d-e4d4-491fde987afe"
      },
      "outputs": [
        {
          "name": "stdout",
          "output_type": "stream",
          "text": [
            "Enter 23+45\n"
          ]
        },
        {
          "ename": "ValueError",
          "evalue": "invalid literal for int() with base 10: '23+45'",
          "output_type": "error",
          "traceback": [
            "\u001b[1;31m---------------------------------------------------------------------------\u001b[0m",
            "\u001b[1;31mValueError\u001b[0m                                Traceback (most recent call last)",
            "Input \u001b[1;32mIn [46]\u001b[0m, in \u001b[0;36m<cell line: 1>\u001b[1;34m()\u001b[0m\n\u001b[1;32m----> 1\u001b[0m c2\u001b[38;5;241m=\u001b[39m\u001b[38;5;28;43mint\u001b[39;49m\u001b[43m(\u001b[49m\u001b[38;5;28;43minput\u001b[39;49m\u001b[43m(\u001b[49m\u001b[38;5;124;43m\"\u001b[39;49m\u001b[38;5;124;43mEnter \u001b[39;49m\u001b[38;5;124;43m\"\u001b[39;49m\u001b[43m)\u001b[49m\u001b[43m)\u001b[49m\n\u001b[0;32m      2\u001b[0m c2\n",
            "\u001b[1;31mValueError\u001b[0m: invalid literal for int() with base 10: '23+45'"
          ]
        }
      ],
      "source": [
        "c2=int(input(\"Enter \"))\n",
        "c2"
      ]
    },
    {
      "cell_type": "code",
      "execution_count": null,
      "id": "bb2f4340-7ae5-4a6e-894c-4da6360b6ec8",
      "metadata": {
        "id": "bb2f4340-7ae5-4a6e-894c-4da6360b6ec8",
        "outputId": "1cd2e8d1-a278-41e3-c857-4eb958d6f14a"
      },
      "outputs": [
        {
          "name": "stdout",
          "output_type": "stream",
          "text": [
            "Enter Radius of Circle: 5\n",
            " Area of Circle is =  78.540\n",
            "Circumference of Circle is =  31.41593\n"
          ]
        }
      ],
      "source": [
        "# Write a program which prompts a user to enter the radius of a circle.\n",
        "#If the radius is greater than zero then calculate and print the area and circumference of the circle.\n",
        "from math import pi\n",
        "Radius=eval(input(\"Enter Radius of Circle: \"))\n",
        "if Radius>0:\n",
        "    Area=(Radius**2)*pi\n",
        "    print(\" Area of Circle is = \",format(Area,\".3f\"))\n",
        "    Circumference=2*pi*Radius\n",
        "    print(\"Circumference of Circle is = \",format(Circumference,\".5f\"))\n",
        "else:\n",
        "     print(\"r value is less than zero\")\n"
      ]
    },
    {
      "cell_type": "markdown",
      "id": "d2ebcc5f-6beb-4772-a252-dc60dab66b39",
      "metadata": {
        "id": "d2ebcc5f-6beb-4772-a252-dc60dab66b39"
      },
      "source": [
        "### The if-else Statement\n",
        "- The if-else statement takes care of a true as well a false condition\n",
        "\n",
        "- ![image.png](attachment:edd1657d-181c-483b-85bf-e9e8966e9c51.png)\n",
        "\n",
        "- ![image.png](attachment:4d816b41-0e8f-4fe0-bf79-b1f45ecf2443.png)"
      ]
    },
    {
      "cell_type": "code",
      "execution_count": null,
      "id": "f18fb549-38fb-463b-87cf-b2c93a1fa23b",
      "metadata": {
        "id": "f18fb549-38fb-463b-87cf-b2c93a1fa23b",
        "outputId": "6894113c-76b4-4887-f651-67ce79624ebf"
      },
      "outputs": [
        {
          "name": "stdout",
          "output_type": "stream",
          "text": [
            "Enter the First Number:5\n",
            "Enter the Second Number:9\n",
            "9 is greater than  5\n"
          ]
        }
      ],
      "source": [
        "num1=int(input(\"Enter the First Number:\"))\n",
        "num2=int(input(\"Enter the Second Number:\"))\n",
        "if num1>num2:\n",
        "    print(num1,\"is greater than \",num2)\n",
        "else:\n",
        "    print(num2,\"is greater than \",num1)\n"
      ]
    },
    {
      "cell_type": "markdown",
      "id": "2b65405a-eba7-4a1b-aba5-1a995ad696f6",
      "metadata": {
        "id": "2b65405a-eba7-4a1b-aba5-1a995ad696f6"
      },
      "source": [
        "#### Exercise:\n",
        "![image.png](attachment:e5269c72-9c35-4aef-b035-b92b589f446a.png)"
      ]
    },
    {
      "cell_type": "code",
      "execution_count": null,
      "id": "40818ec4-bc99-457d-9a43-f2401b2b0c7a",
      "metadata": {
        "id": "40818ec4-bc99-457d-9a43-f2401b2b0c7a",
        "outputId": "7327a18f-48d5-4249-9f0f-5e1b63438d53"
      },
      "outputs": [
        {
          "name": "stdin",
          "output_type": "stream",
          "text": [
            "enter sales amount:  50000\n"
          ]
        },
        {
          "name": "stdout",
          "output_type": "stream",
          "text": [
            "c2 11800.0\n"
          ]
        }
      ],
      "source": [
        "#method 1\n",
        "sales=int(input(\"enter sales amount: \"))\n",
        "if sales>=100000:\n",
        "    basic = 4000\n",
        "    hra = 20  # % of basic\n",
        "    da = 110  # % of basic\n",
        "    conveyance = 500\n",
        "    incentive = 10  # % of sale\n",
        "    bonus = 1000\n",
        "\n",
        "    hra = (basic * hra / 100)\n",
        "    da = (basic * da / 100)\n",
        "    incentive = (sales * incentive / 100)\n",
        "    salary = basic + hra + da + conveyance + bonus + incentive\n",
        "    print(\"c1\",salary)\n",
        "\n",
        "else:\n",
        "    basic = 4000\n",
        "    hra = 10  # % of basic\n",
        "    da = 110  # % of basic\n",
        "    conveyance = 500\n",
        "    incentive = 4  # % of basic\n",
        "    bonus = 500\n",
        "\n",
        "    hra = (basic * hra / 100)\n",
        "    da = (basic * da / 100)\n",
        "    incentive = (sales * incentive / 100)\n",
        "    salary = basic + hra + da + conveyance + bonus + incentive\n",
        "    print(\"c2\",salary)\n"
      ]
    },
    {
      "cell_type": "code",
      "execution_count": null,
      "id": "223211bf-2081-4541-9d7f-1ce5f52230fb",
      "metadata": {
        "id": "223211bf-2081-4541-9d7f-1ce5f52230fb",
        "outputId": "cd1bbbb5-b320-4d5a-e55f-20fceaf4b1e1"
      },
      "outputs": [
        {
          "name": "stdout",
          "output_type": "stream",
          "text": [
            "SALARY PROGRAM\n"
          ]
        },
        {
          "name": "stdin",
          "output_type": "stream",
          "text": [
            "Enter name of employee: karthik\n",
            "\n",
            "Enter your sales value:  50000\n"
          ]
        },
        {
          "name": "stdout",
          "output_type": "stream",
          "text": [
            " NAME OF EMPLOYEE :  karthik\n",
            "\n",
            "11800.0\n"
          ]
        }
      ],
      "source": [
        "#method 2\n",
        "print(\"SALARY PROGRAM\")\n",
        "name = str(input(\"Enter name of employee:\"))\n",
        "sales = float(input(\"Enter your sales value: \"))\n",
        "print(\" NAME OF EMPLOYEE : \",name)\n",
        "basic = 4000\n",
        "da = float(basic * 1.1)\n",
        "hra = float(basic * 0.2)\n",
        "con = 500\n",
        "inc = float(sales * 0.1)\n",
        "bonus = 1000\n",
        "salary1 = (basic + da+ hra + con + inc + bonus)\n",
        "basic1 = 4000\n",
        "da1 = float(basic * 1.1)\n",
        "hra1 = float(basic * 0.1)\n",
        "con1 = 500\n",
        "inc1 = float(sales * 0.04)\n",
        "bonus1 = 500\n",
        "salary2 = (basic1 + da1 + hra1 + con1 + inc1 + bonus1)\n",
        "\n",
        "if sales > 100000:\n",
        "    print(salary1)\n",
        "else:\n",
        "    print(salary2)\n"
      ]
    },
    {
      "cell_type": "code",
      "execution_count": null,
      "id": "9dec1882-d3aa-4937-988e-d8aeb7f3ba53",
      "metadata": {
        "id": "9dec1882-d3aa-4937-988e-d8aeb7f3ba53",
        "outputId": "4d85a952-597c-4caa-8216-5cf5bf6db4f4"
      },
      "outputs": [
        {
          "name": "stdin",
          "output_type": "stream",
          "text": [
            "enter the sales:- 50000\n"
          ]
        },
        {
          "name": "stdout",
          "output_type": "stream",
          "text": [
            "salary of employee\n",
            "\n",
            "total sales- 50000.0\n",
            "\n",
            "basic- 4000\n",
            "\n",
            "hra- 400.0\n",
            "\n",
            "da- 4400.0\n",
            "\n",
            "incentive- 2000.0\n",
            "\n",
            "bonus- 500\n",
            "\n",
            "conveyance- 500\n",
            "\n",
            "Salary- 11800.0\n"
          ]
        }
      ],
      "source": [
        "#method 3\n",
        "sales=float(input(\"enter the sales:-\"))\n",
        "if sales>=100000:\n",
        "    basic = 4000\n",
        "    hra = 20* basic/100\n",
        "    da = 110* basic/100\n",
        "    incentive = sales *10/100\n",
        "    bonus = 1000\n",
        "    canveyenace = 500\n",
        "else:\n",
        "    basic = 4000\n",
        "    hra = 10* basic/100\n",
        "    da = 110* basic/100\n",
        "    incentive = sales *4/100\n",
        "    bonus = 500\n",
        "    canveyenace = 500\n",
        "\n",
        "salary= basic+hra+da+incentive+bonus+canveyenace\n",
        "print(\"salary of employee\")\n",
        "print(\"total sales-\",sales)\n",
        "print(\"basic-\",basic)\n",
        "print(\"hra-\",hra)\n",
        "print(\"da-\",da)\n",
        "print(\"incentive-\",incentive)\n",
        "print(\"bonus-\",bonus)\n",
        "print(\"conveyance-\",canveyenace)\n",
        "print(\"Salary-\",salary)\n"
      ]
    },
    {
      "cell_type": "markdown",
      "id": "58282a38-4b3b-4f77-be21-025626bfcee2",
      "metadata": {
        "tags": [],
        "id": "58282a38-4b3b-4f77-be21-025626bfcee2"
      },
      "source": [
        "### Nested if statements\n",
        "```python \n",
        "if Boolean-expression1:\n",
        "    if Boolean-expression2:\n",
        "         statement1\n",
        "    else:\n",
        "        statement2\n",
        "else:\n",
        "       statement3\n",
        "```\n"
      ]
    },
    {
      "cell_type": "code",
      "execution_count": null,
      "id": "6c386886-3b15-40bb-8cc2-61e542b9be08",
      "metadata": {
        "id": "6c386886-3b15-40bb-8cc2-61e542b9be08",
        "outputId": "41fc7ad6-d0ac-4184-edc6-e703d8429822"
      },
      "outputs": [
        {
          "name": "stdout",
          "output_type": "stream",
          "text": [
            "enter a integer value: = -8\n",
            "its a negative integer\n"
          ]
        }
      ],
      "source": [
        "#Nested if Example\n",
        "x = int(input(\"enter a integer value: = \"))\n",
        "if x > 0:  #if condition\n",
        "    print(\"its a positive number\")\n",
        "    if x % 2 == 0:  #nested if \n",
        "        print(\"its a even number\")\n",
        "    else:     #else condition\n",
        "        print(\"this is a odd number\")\n",
        "else:\n",
        "       print(\"its a negative integer\")\n"
      ]
    },
    {
      "cell_type": "code",
      "execution_count": null,
      "id": "78dc8d2f-e133-4b6d-9c6f-82d20f2ece5b",
      "metadata": {
        "id": "78dc8d2f-e133-4b6d-9c6f-82d20f2ece5b",
        "outputId": "fa58656b-adf8-46b3-8bcf-c64346be5a90"
      },
      "outputs": [
        {
          "name": "stdout",
          "output_type": "stream",
          "text": [
            "Enter the number:14\n",
            "Enter the number:25\n",
            "Enter the number:63\n",
            "14  is less than  25 and 63\n",
            "End of Nested if\n"
          ]
        }
      ],
      "source": [
        "#Write a program to read three numbers from a user and check if the first number is greater or\n",
        "#less than the other two numbers.\n",
        "num1=int(input(\"Enter the number:\"))\n",
        "num2=int(input(\"Enter the number:\"))\n",
        "num3=int(input(\"Enter the number:\"))\n",
        "if num1>num2:\n",
        "    if num2>num3:\n",
        "        print(num1,\"is greater than \",num2,\"and \",num3)\n",
        "else:\n",
        "    print(num1,\" is less than \",num2,\"and\",num3)\n",
        "print(\"End of Nested if\")"
      ]
    },
    {
      "cell_type": "markdown",
      "id": "50597ded-5fa6-4be0-b159-e3f9dc9cf3fc",
      "metadata": {
        "id": "50597ded-5fa6-4be0-b159-e3f9dc9cf3fc"
      },
      "source": [
        "### Elif\n"
      ]
    },
    {
      "cell_type": "code",
      "execution_count": null,
      "id": "521bc7a9",
      "metadata": {
        "id": "521bc7a9",
        "outputId": "252dd092-53c5-42b0-a926-04933ede9509"
      },
      "outputs": [
        {
          "name": "stdout",
          "output_type": "stream",
          "text": [
            "neither true\n"
          ]
        }
      ],
      "source": [
        "if False:\n",
        "    print(\"if true\")\n",
        "elif False:\n",
        "    print(\"elif True\")\n",
        "else:\n",
        "    print(\"neither true\")"
      ]
    },
    {
      "cell_type": "code",
      "execution_count": null,
      "id": "9e661972",
      "metadata": {
        "id": "9e661972"
      },
      "outputs": [],
      "source": [
        "Example:"
      ]
    },
    {
      "cell_type": "code",
      "execution_count": null,
      "id": "be955b62",
      "metadata": {
        "id": "be955b62",
        "outputId": "3fe29472-2d59-4ed0-9961-cea7e9eebdf6"
      },
      "outputs": [
        {
          "name": "stdout",
          "output_type": "stream",
          "text": [
            "enter The mark600\n",
            "The mark is Invalid,Please enter Valid Mark\n"
          ]
        }
      ],
      "source": [
        "std_mark=int(input(\"enter The mark\"))\n",
        "if std_mark >100 or std_mark<0:\n",
        "    print(\"The mark is Invalid,Please enter Valid Mark\")\n",
        "elif std_mark>=80:\n",
        "    print(\"Outstanding Student\")\n",
        "else:\n",
        "    print(\"Not Outstanding Student\")"
      ]
    },
    {
      "cell_type": "code",
      "execution_count": null,
      "id": "701cb436",
      "metadata": {
        "id": "701cb436"
      },
      "outputs": [],
      "source": [
        "# switch...case is not in python # if.. elif.... "
      ]
    },
    {
      "cell_type": "code",
      "execution_count": null,
      "id": "35d6a0aa",
      "metadata": {
        "id": "35d6a0aa",
        "outputId": "2d9be111-c55a-41e8-da2e-7b976c57ef5e"
      },
      "outputs": [
        {
          "name": "stdout",
          "output_type": "stream",
          "text": [
            "enter X valuemul\n",
            "200\n"
          ]
        }
      ],
      "source": [
        "a=10\n",
        "b=20\n",
        "x=input(\"enter X value \")\n",
        "if x=='add':\n",
        "    print(a+b)\n",
        "elif x=='mul':\n",
        "    print(a*b)\n",
        "elif x=='div':\n",
        "    print(a/b)\n",
        "elif x=='mod':\n",
        "    print(a%b)\n",
        "else:\n",
        "    print(\"Invalid Input\")\n",
        "    "
      ]
    },
    {
      "cell_type": "code",
      "execution_count": null,
      "id": "d65b65d9",
      "metadata": {
        "id": "d65b65d9"
      },
      "outputs": [],
      "source": [
        ""
      ]
    },
    {
      "cell_type": "code",
      "execution_count": null,
      "id": "33f97d9f",
      "metadata": {
        "id": "33f97d9f"
      },
      "outputs": [],
      "source": [
        ""
      ]
    },
    {
      "cell_type": "code",
      "execution_count": null,
      "id": "8949a89b",
      "metadata": {
        "id": "8949a89b"
      },
      "outputs": [],
      "source": [
        ""
      ]
    },
    {
      "cell_type": "code",
      "execution_count": null,
      "id": "9ace63ab",
      "metadata": {
        "id": "9ace63ab"
      },
      "outputs": [],
      "source": [
        ""
      ]
    },
    {
      "cell_type": "code",
      "execution_count": null,
      "id": "fac446ea",
      "metadata": {
        "id": "fac446ea"
      },
      "outputs": [],
      "source": [
        ""
      ]
    },
    {
      "cell_type": "code",
      "execution_count": null,
      "id": "8a11fc4e-4329-416a-a9b7-ccc704c83713",
      "metadata": {
        "id": "8a11fc4e-4329-416a-a9b7-ccc704c83713",
        "outputId": "9042c999-21ee-4394-ae8d-4741783abac7"
      },
      "outputs": [
        {
          "name": "stdout",
          "output_type": "stream",
          "text": [
            "a and b are equal\n"
          ]
        }
      ],
      "source": [
        "a = 3\n",
        "b = 3\n",
        "if b > a:\n",
        "  print(\"b is greater than a\")\n",
        "elif a == b:\n",
        "  print(\"a and b are equal\")\n",
        "else:\n",
        "    print(\"a is greater\")"
      ]
    },
    {
      "cell_type": "code",
      "execution_count": null,
      "id": "8066caf1-2a96-4c12-8caa-9d15d5e57273",
      "metadata": {
        "id": "8066caf1-2a96-4c12-8caa-9d15d5e57273",
        "outputId": "fa7c6ef1-6c8b-438c-8920-65af3dab967e"
      },
      "outputs": [
        {
          "name": "stdout",
          "output_type": "stream",
          "text": [
            "a is greater than b\n"
          ]
        }
      ],
      "source": [
        "### Else\n",
        "a = 200\n",
        "b = 33\n",
        "if b > a:\n",
        "  print(\"b is greater than a\")\n",
        "elif a == b:\n",
        "  print(\"a and b are equal\")\n",
        "else:\n",
        "  print(\"a is greater than b\")"
      ]
    },
    {
      "cell_type": "markdown",
      "id": "252ab602-f10f-4c5a-8985-098468007f9e",
      "metadata": {
        "id": "252ab602-f10f-4c5a-8985-098468007f9e"
      },
      "source": [
        "### Short Hand If"
      ]
    },
    {
      "cell_type": "code",
      "execution_count": null,
      "id": "f5e1512f-beee-4c11-9812-b4bab9890560",
      "metadata": {
        "id": "f5e1512f-beee-4c11-9812-b4bab9890560",
        "outputId": "0e477385-4b87-4dfc-ef53-51ce580c5e3d"
      },
      "outputs": [
        {
          "name": "stdout",
          "output_type": "stream",
          "text": [
            "B\n"
          ]
        }
      ],
      "source": [
        "a = 2\n",
        "b = 3\n",
        "print(\"A\") if a > b else print(\"B\") \n"
      ]
    },
    {
      "cell_type": "code",
      "execution_count": null,
      "id": "5a4438fa-b62e-4b06-968c-511d178d9b4c",
      "metadata": {
        "id": "5a4438fa-b62e-4b06-968c-511d178d9b4c",
        "outputId": "7ca43fb6-d7d6-4090-e6aa-9a71dfb485eb"
      },
      "outputs": [
        {
          "name": "stdout",
          "output_type": "stream",
          "text": [
            "Enter Your age:15\n",
            "Young\n"
          ]
        }
      ],
      "source": [
        "age=int(input(\"Enter Your age:\"))\n",
        "print(\"Adult\") if age>18 else print(\"Young\")"
      ]
    },
    {
      "cell_type": "code",
      "execution_count": null,
      "id": "2a50d2ff",
      "metadata": {
        "id": "2a50d2ff",
        "outputId": "0ec1bbcd-97f8-49f6-9186-dfc0a737c17e"
      },
      "outputs": [
        {
          "name": "stdout",
          "output_type": "stream",
          "text": [
            "young\n"
          ]
        }
      ],
      "source": [
        "if age>18:\n",
        "    print(\"Adult\")\n",
        "else:\n",
        "    print(\"young\")"
      ]
    },
    {
      "cell_type": "code",
      "execution_count": null,
      "id": "87d409b3-fa7e-4c9a-85d6-f9b9b35a58f4",
      "metadata": {
        "id": "87d409b3-fa7e-4c9a-85d6-f9b9b35a58f4",
        "outputId": "d7b47eb9-f68b-4fb6-a642-dc54efab457f"
      },
      "outputs": [
        {
          "name": "stdout",
          "output_type": "stream",
          "text": [
            "B\n"
          ]
        }
      ],
      "source": [
        "a = 3\n",
        "b = 330\n",
        "print(\"A\") if a > b else print(\"=\") if a == b else print(\"B\") "
      ]
    },
    {
      "cell_type": "markdown",
      "id": "30f68f6a-5477-4567-b99b-0bc036dde6d8",
      "metadata": {
        "id": "30f68f6a-5477-4567-b99b-0bc036dde6d8"
      },
      "source": [
        "### using and, or "
      ]
    },
    {
      "cell_type": "code",
      "execution_count": null,
      "id": "219324ce-3828-4618-ac53-896a20e19066",
      "metadata": {
        "id": "219324ce-3828-4618-ac53-896a20e19066",
        "outputId": "0c5f97ba-45a0-4ea9-881d-7c39c4fa137b"
      },
      "outputs": [
        {
          "name": "stdout",
          "output_type": "stream",
          "text": [
            "Both conditions are True\n"
          ]
        }
      ],
      "source": [
        "# and \n",
        "a = 200\n",
        "b = 33\n",
        "c = 500\n",
        "if a > b and c > a:\n",
        "  print(\"Both conditions are True\")"
      ]
    },
    {
      "cell_type": "code",
      "execution_count": null,
      "id": "9c0bdbf7-8370-4778-809b-6d3a61bba71e",
      "metadata": {
        "id": "9c0bdbf7-8370-4778-809b-6d3a61bba71e",
        "outputId": "8cee141d-2bb8-4137-a018-ac2b5788869f"
      },
      "outputs": [
        {
          "name": "stdout",
          "output_type": "stream",
          "text": [
            "At least one of the conditions is True\n"
          ]
        }
      ],
      "source": [
        "# or\n",
        "a = 200\n",
        "b = 33\n",
        "c = 500\n",
        "if a > b or a > c:\n",
        "  print(\"At least one of the conditions is True\")"
      ]
    },
    {
      "cell_type": "code",
      "execution_count": null,
      "id": "ff71bc89-4ee4-40ab-94e2-30e6aebc65d7",
      "metadata": {
        "id": "ff71bc89-4ee4-40ab-94e2-30e6aebc65d7"
      },
      "outputs": [],
      "source": [
        "The pass Statement"
      ]
    },
    {
      "cell_type": "code",
      "execution_count": null,
      "id": "4b4aadf2-2739-4e19-8f04-5daf2f088040",
      "metadata": {
        "id": "4b4aadf2-2739-4e19-8f04-5daf2f088040"
      },
      "outputs": [],
      "source": [
        "a = 33\n",
        "b = 200\n",
        "\n",
        "if b > a:\n",
        "  pass\n",
        "  "
      ]
    },
    {
      "cell_type": "markdown",
      "id": "f3800240-a4d6-47cb-ba38-80bba2d87d34",
      "metadata": {
        "id": "f3800240-a4d6-47cb-ba38-80bba2d87d34"
      },
      "source": [
        "#### Multi-way if-elif-else Statements\n",
        "```python\n",
        "if Boolean-expression1:\n",
        "            statement1\n",
        "    elif Boolean-expression2 :\n",
        "            statement2\n",
        "    elif Boolean-expression3 :\n",
        "            statement3\n",
        "- - - - - - - - - - - - - -\n",
        "- - - - - - - - - - - -- -\n",
        "elif Boolean-expression n :\n",
        "statement N\n",
        "else :\n",
        "Statement(s)\n",
        "```"
      ]
    },
    {
      "cell_type": "markdown",
      "id": "735ad45f-f7cc-40a7-af88-f84b0322460a",
      "metadata": {
        "id": "735ad45f-f7cc-40a7-af88-f84b0322460a"
      },
      "source": [
        "- ![image.png](attachment:427c88e5-856b-43a4-a74a-aed29a69a00d.png)"
      ]
    },
    {
      "cell_type": "code",
      "execution_count": null,
      "id": "8bc8ebfd-f4ea-41bd-91b7-c7c34ca0590d",
      "metadata": {
        "id": "8bc8ebfd-f4ea-41bd-91b7-c7c34ca0590d",
        "outputId": "a5408668-0033-4988-9cab-456fa11a4301"
      },
      "outputs": [
        {
          "name": "stdin",
          "output_type": "stream",
          "text": [
            "Enter the Marks of Data-Structure: 80\n",
            "\n",
            "Enter the Marks of Python: 90\n",
            "\n",
            "Enter the Marks of Java: 90\n",
            "\n",
            "Enter the Marks of C Programming: 90\n",
            "\n",
            "Enter the Marks of HTML: 90\n"
          ]
        },
        {
          "name": "stdout",
          "output_type": "stream",
          "text": [
            "Total Marks Obtained 430.0 Out of 500\n",
            "\n",
            "Percentage =  86.0\n",
            "\n",
            " First Class\n"
          ]
        }
      ],
      "source": [
        "# method1\n",
        "Subject1=float(input(\"Enter the Marks of Data-Structure:\"))\n",
        "Subject2=float(input(\"Enter the Marks of Python:\"))\n",
        "Subject3=float(input(\"Enter the Marks of Java:\"))\n",
        "Subject4=float(input(\"Enter the Marks of C Programming:\"))\n",
        "Subject5=float(input(\"Enter the Marks of HTML:\"))\n",
        "sum=Subject1+Subject1+Subject3+Subject4+Subject5\n",
        "per=sum/5\n",
        "print(\"Total Marks Obtained\", sum, \"Out of 500\")\n",
        "print(\"Percentage = \",per)\n",
        "if per>=90:\n",
        "    print(\"Distinction\")\n",
        "else:\n",
        "    if per>=80:\n",
        "        print(\" First Class\")\n",
        "    else:\n",
        "        if per>=70:\n",
        "             print(\"Second Class\")\n",
        "        else:\n",
        "            if per>=60:\n",
        "                print(\"Pass\")\n",
        "            else:\n",
        "                print(\"Fail\")\n",
        "\n",
        "                "
      ]
    },
    {
      "cell_type": "code",
      "execution_count": null,
      "id": "fda1b07e-e6a1-4524-8f39-fa1200867e04",
      "metadata": {
        "id": "fda1b07e-e6a1-4524-8f39-fa1200867e04",
        "outputId": "544cd32f-ac66-4dcb-cbed-2ff9d66aee44"
      },
      "outputs": [
        {
          "name": "stdin",
          "output_type": "stream",
          "text": [
            "Enter the Marks of Data-Structure: 90\n",
            "\n",
            "Enter the Marks of Python: 90\n",
            "\n",
            "Enter the Marks of Java: 90\n",
            "\n",
            "Enter the Marks of C Programming: 90\n",
            "\n",
            "Enter the Marks of HTML: 90\n"
          ]
        },
        {
          "name": "stdout",
          "output_type": "stream",
          "text": [
            "Total Marks Obtained 450.0 Out of 500\n",
            "\n",
            "Percentage =  90.0\n",
            "\n",
            "Distinction\n"
          ]
        }
      ],
      "source": [
        "#method2\n",
        "Subject1=float(input(\"Enter the Marks of Data-Structure:\"))\n",
        "Subject2=float(input(\"Enter the Marks of Python:\"))\n",
        "Subject3=float(input(\"Enter the Marks of Java:\"))\n",
        "Subject4=float(input(\"Enter the Marks of C Programming:\"))\n",
        "Subject5=float(input(\"Enter the Marks of HTML:\"))\n",
        "sum=Subject1+Subject1+Subject3+Subject4+Subject5\n",
        "per=sum/5\n",
        "print(\"Total Marks Obtained\", sum, \"Out of 500\")\n",
        "print(\"Percentage = \",per)\n",
        "if per>=90:\n",
        "    print(\"Distinction\")\n",
        "elif per>=80:\n",
        "    print(\" First Class\")\n",
        "elif per>=70:\n",
        "    print(\"Second Class\")\n",
        "elif per>=60:\n",
        "    print(\"Pass\")\n",
        "else:\n",
        "    print(\"Fail\")"
      ]
    },
    {
      "cell_type": "code",
      "execution_count": null,
      "id": "c561622a-f58d-4588-9633-0368f2cd9c2c",
      "metadata": {
        "id": "c561622a-f58d-4588-9633-0368f2cd9c2c",
        "outputId": "502d8fd1-a154-4711-8efc-a49342ff3d8d"
      },
      "outputs": [
        {
          "name": "stdout",
          "output_type": "stream",
          "text": [
            "HI\n"
          ]
        }
      ],
      "source": [
        "if True:\n",
        "    print(\"HI\")"
      ]
    },
    {
      "cell_type": "code",
      "execution_count": null,
      "id": "3239c95e-7acc-4200-8e35-807689df35e3",
      "metadata": {
        "id": "3239c95e-7acc-4200-8e35-807689df35e3"
      },
      "outputs": [],
      "source": [
        "if None:\n",
        "    print(\"hell0\")"
      ]
    },
    {
      "cell_type": "code",
      "execution_count": null,
      "id": "7f0da66f-c35a-4eec-9855-60fd43f3d8cc",
      "metadata": {
        "id": "7f0da66f-c35a-4eec-9855-60fd43f3d8cc",
        "outputId": "de87972c-7d44-4cd9-923a-31828f8f088d"
      },
      "outputs": [
        {
          "name": "stdout",
          "output_type": "stream",
          "text": [
            "<class 'NoneType'>\n"
          ]
        }
      ],
      "source": [
        "print(type(None))"
      ]
    },
    {
      "cell_type": "code",
      "execution_count": null,
      "id": "511ef9d4-a12d-4901-9ac0-64801a05dc03",
      "metadata": {
        "id": "511ef9d4-a12d-4901-9ac0-64801a05dc03"
      },
      "outputs": [],
      "source": [
        "if '':\n",
        "    print(\"hell0\")"
      ]
    },
    {
      "cell_type": "code",
      "execution_count": null,
      "id": "b4e7b8b6",
      "metadata": {
        "id": "b4e7b8b6"
      },
      "outputs": [],
      "source": [
        "# membership operator as condition"
      ]
    },
    {
      "cell_type": "code",
      "execution_count": null,
      "id": "40aed5b1-5150-4033-ae8c-a63447493661",
      "metadata": {
        "id": "40aed5b1-5150-4033-ae8c-a63447493661",
        "outputId": "1fffaf72-bbeb-4e30-b50d-a861adb1739d"
      },
      "outputs": [
        {
          "name": "stdout",
          "output_type": "stream",
          "text": [
            "Element is present\n"
          ]
        }
      ],
      "source": [
        "list1=[10,20,30,40]\n",
        "if 30  in list1:\n",
        "    print(\"Element is present\")"
      ]
    },
    {
      "cell_type": "code",
      "execution_count": null,
      "id": "8344ecfa",
      "metadata": {
        "id": "8344ecfa"
      },
      "outputs": [],
      "source": [
        "#identity operator as condition"
      ]
    },
    {
      "cell_type": "code",
      "execution_count": null,
      "id": "e15702f6",
      "metadata": {
        "id": "e15702f6",
        "outputId": "1ce671bc-a352-4dd8-aff5-76cf9a41e309"
      },
      "outputs": [
        {
          "name": "stdout",
          "output_type": "stream",
          "text": [
            "Same Reference\n"
          ]
        }
      ],
      "source": [
        "a=(0,'1',2,1) \n",
        "b=('0',1,'2','1') \n",
        "if a[3] is b[1]:\n",
        "    print(\"Same Reference\")"
      ]
    },
    {
      "cell_type": "code",
      "execution_count": null,
      "id": "0d20476f",
      "metadata": {
        "id": "0d20476f"
      },
      "outputs": [],
      "source": [
        "\n"
      ]
    },
    {
      "cell_type": "code",
      "execution_count": null,
      "id": "b1b1f4b4",
      "metadata": {
        "id": "b1b1f4b4"
      },
      "outputs": [],
      "source": [
        ""
      ]
    },
    {
      "cell_type": "code",
      "execution_count": null,
      "id": "d80bf201",
      "metadata": {
        "id": "d80bf201"
      },
      "outputs": [],
      "source": [
        ""
      ]
    },
    {
      "cell_type": "code",
      "execution_count": null,
      "id": "6fdda62a",
      "metadata": {
        "id": "6fdda62a"
      },
      "outputs": [],
      "source": [
        ""
      ]
    },
    {
      "cell_type": "code",
      "execution_count": null,
      "id": "8cce56ea",
      "metadata": {
        "id": "8cce56ea"
      },
      "outputs": [],
      "source": [
        ""
      ]
    }
  ],
  "metadata": {
    "kernelspec": {
      "display_name": "Python 3 (ipykernel)",
      "language": "python",
      "name": "python3"
    },
    "language_info": {
      "codemirror_mode": {
        "name": "ipython",
        "version": 3
      },
      "file_extension": ".py",
      "mimetype": "text/x-python",
      "name": "python",
      "nbconvert_exporter": "python",
      "pygments_lexer": "ipython3",
      "version": "3.9.12"
    },
    "colab": {
      "name": "DecisionMaking.ipynb",
      "provenance": [],
      "include_colab_link": true
    }
  },
  "nbformat": 4,
  "nbformat_minor": 5
}